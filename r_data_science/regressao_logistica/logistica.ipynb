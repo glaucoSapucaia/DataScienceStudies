{
 "cells": [
  {
   "cell_type": "markdown",
   "metadata": {},
   "source": [
    "## DB = Eleicao e NovosCandidatos"
   ]
  },
  {
   "cell_type": "code",
   "execution_count": 27,
   "metadata": {
    "vscode": {
     "languageId": "r"
    }
   },
   "outputs": [
    {
     "data": {
      "text/html": [
       "<style>\n",
       ".list-inline {list-style: none; margin:0; padding: 0}\n",
       ".list-inline>li {display: inline-block}\n",
       ".list-inline>li:not(:last-child)::after {content: \"\\00b7\"; padding: 0 .5ex}\n",
       "</style>\n",
       "<ol class=list-inline><li>47</li><li>3</li></ol>\n"
      ],
      "text/latex": [
       "\\begin{enumerate*}\n",
       "\\item 47\n",
       "\\item 3\n",
       "\\end{enumerate*}\n"
      ],
      "text/markdown": [
       "1. 47\n",
       "2. 3\n",
       "\n",
       "\n"
      ],
      "text/plain": [
       "[1] 47  3"
      ]
     },
     "metadata": {},
     "output_type": "display_data"
    },
    {
     "data": {
      "text/plain": [
       "             CANDIDATO     SITUACAO         DESPESAS   \n",
       "  Gary Peterson   : 1   Min.   :0.0000   Min.   :  10  \n",
       "  Pamela Bryant   : 1   1st Qu.:0.0000   1st Qu.: 300  \n",
       " Andrea Washington: 1   Median :1.0000   Median : 800  \n",
       " Annie Brooks     : 1   Mean   :0.5106   Mean   :1086  \n",
       " Anthony Harris   : 1   3rd Qu.:1.0000   3rd Qu.:1700  \n",
       " Barbara White    : 1   Max.   :1.0000   Max.   :3300  \n",
       " (Other)          :41                                  "
      ]
     },
     "metadata": {},
     "output_type": "display_data"
    },
    {
     "data": {
      "text/html": [
       "<table class=\"dataframe\">\n",
       "<caption>A data.frame: 6 × 3</caption>\n",
       "<thead>\n",
       "\t<tr><th></th><th scope=col>CANDIDATO</th><th scope=col>SITUACAO</th><th scope=col>DESPESAS</th></tr>\n",
       "\t<tr><th></th><th scope=col>&lt;fct&gt;</th><th scope=col>&lt;int&gt;</th><th scope=col>&lt;int&gt;</th></tr>\n",
       "</thead>\n",
       "<tbody>\n",
       "\t<tr><th scope=row>1</th><td>George Turner </td><td>0</td><td>  10</td></tr>\n",
       "\t<tr><th scope=row>2</th><td>Victor Johnson</td><td>0</td><td> 100</td></tr>\n",
       "\t<tr><th scope=row>3</th><td>Jerry Perry   </td><td>1</td><td>1600</td></tr>\n",
       "\t<tr><th scope=row>4</th><td>Shirley Cook  </td><td>1</td><td>1500</td></tr>\n",
       "\t<tr><th scope=row>5</th><td>Carolyn Bailey</td><td>1</td><td>3300</td></tr>\n",
       "\t<tr><th scope=row>6</th><td>Susan Sanders </td><td>0</td><td> 200</td></tr>\n",
       "</tbody>\n",
       "</table>\n"
      ],
      "text/latex": [
       "A data.frame: 6 × 3\n",
       "\\begin{tabular}{r|lll}\n",
       "  & CANDIDATO & SITUACAO & DESPESAS\\\\\n",
       "  & <fct> & <int> & <int>\\\\\n",
       "\\hline\n",
       "\t1 & George Turner  & 0 &   10\\\\\n",
       "\t2 & Victor Johnson & 0 &  100\\\\\n",
       "\t3 & Jerry Perry    & 1 & 1600\\\\\n",
       "\t4 & Shirley Cook   & 1 & 1500\\\\\n",
       "\t5 & Carolyn Bailey & 1 & 3300\\\\\n",
       "\t6 & Susan Sanders  & 0 &  200\\\\\n",
       "\\end{tabular}\n"
      ],
      "text/markdown": [
       "\n",
       "A data.frame: 6 × 3\n",
       "\n",
       "| <!--/--> | CANDIDATO &lt;fct&gt; | SITUACAO &lt;int&gt; | DESPESAS &lt;int&gt; |\n",
       "|---|---|---|---|\n",
       "| 1 | George Turner  | 0 |   10 |\n",
       "| 2 | Victor Johnson | 0 |  100 |\n",
       "| 3 | Jerry Perry    | 1 | 1600 |\n",
       "| 4 | Shirley Cook   | 1 | 1500 |\n",
       "| 5 | Carolyn Bailey | 1 | 3300 |\n",
       "| 6 | Susan Sanders  | 0 |  200 |\n",
       "\n"
      ],
      "text/plain": [
       "  CANDIDATO      SITUACAO DESPESAS\n",
       "1 George Turner  0          10    \n",
       "2 Victor Johnson 0         100    \n",
       "3 Jerry Perry    1        1600    \n",
       "4 Shirley Cook   1        1500    \n",
       "5 Carolyn Bailey 1        3300    \n",
       "6 Susan Sanders  0         200    "
      ]
     },
     "metadata": {},
     "output_type": "display_data"
    }
   ],
   "source": [
    "library(corrgram)\n",
    "\n",
    "eleicao = read.csv('Eleicao.csv', sep=';', stringsAsFactors=T)\n",
    "dim(eleicao)\n",
    "summary(eleicao)\n",
    "head(eleicao)"
   ]
  },
  {
   "cell_type": "markdown",
   "metadata": {},
   "source": [
    "## Despesas VS Situação\n",
    "- grafico e visualização\n",
    "- correlações -> cor()"
   ]
  },
  {
   "cell_type": "code",
   "execution_count": 28,
   "metadata": {
    "vscode": {
     "languageId": "r"
    }
   },
   "outputs": [
    {
     "data": {
      "text/html": [
       "0.812187165576407"
      ],
      "text/latex": [
       "0.812187165576407"
      ],
      "text/markdown": [
       "0.812187165576407"
      ],
      "text/plain": [
       "[1] 0.8121872"
      ]
     },
     "metadata": {},
     "output_type": "display_data"
    },
    {
     "data": {
      "image/png": "[encoded data removed]",
      "text/plain": [
       "plot without title"
      ]
     },
     "metadata": {
      "image/png": {
       "height": 420,
       "width": 420
      }
     },
     "output_type": "display_data"
    }
   ],
   "source": [
    "plot(eleicao$DESPESAS, eleicao$SITUACAO, pch=19, col='purple')\n",
    "cor(eleicao$DESPESAS, eleicao$SITUACAO)"
   ]
  },
  {
   "cell_type": "markdown",
   "metadata": {},
   "source": [
    "## Modelo Logistico\n",
    "- glm() -> Retornma um modelo linear logistico - o g indica geral (função gnérica com muitas configurações)\n",
    "- family= -> Indica a distribuição dos dados"
   ]
  },
  {
   "cell_type": "code",
   "execution_count": 29,
   "metadata": {
    "vscode": {
     "languageId": "r"
    }
   },
   "outputs": [
    {
     "data": {
      "text/plain": [
       "\n",
       "Call:\n",
       "glm(formula = SITUACAO ~ DESPESAS, family = \"binomial\", data = eleicao)\n",
       "\n",
       "Coefficients:\n",
       "             Estimate Std. Error z value Pr(>|z|)    \n",
       "(Intercept) -4.602880   1.315934  -3.498 0.000469 ***\n",
       "DESPESAS     0.004984   0.001404   3.550 0.000385 ***\n",
       "---\n",
       "Signif. codes:  0 '***' 0.001 '**' 0.01 '*' 0.05 '.' 0.1 ' ' 1\n",
       "\n",
       "(Dispersion parameter for binomial family taken to be 1)\n",
       "\n",
       "    Null deviance: 65.135  on 46  degrees of freedom\n",
       "Residual deviance: 18.540  on 45  degrees of freedom\n",
       "AIC: 22.54\n",
       "\n",
       "Number of Fisher Scoring iterations: 7\n"
      ]
     },
     "metadata": {},
     "output_type": "display_data"
    }
   ],
   "source": [
    "modelo = glm(SITUACAO ~ DESPESAS, data=eleicao, family = 'binomial')\n",
    "summary(modelo)"
   ]
  },
  {
   "cell_type": "markdown",
   "metadata": {},
   "source": [
    "## points()\n",
    "- Adiciona pontos a um grafico, no exemplo abaixo, utilizamos para gerar os valore ajustados (fitted)"
   ]
  },
  {
   "cell_type": "code",
   "execution_count": 30,
   "metadata": {
    "vscode": {
     "languageId": "r"
    }
   },
   "outputs": [
    {
     "data": {
      "image/png": "[encoded data removed]",
      "text/plain": [
       "plot without title"
      ]
     },
     "metadata": {
      "image/png": {
       "height": 420,
       "width": 420
      }
     },
     "output_type": "display_data"
    }
   ],
   "source": [
    "plot(eleicao$DESPESAS, eleicao$SITUACAO, pch=19, col='red')\n",
    "points(eleicao$DESPESAS, modelo$fitted, pch=4, col='black')"
   ]
  },
  {
   "cell_type": "markdown",
   "metadata": {},
   "source": [
    "## Previsões\n",
    "- Utilizamos os mesmos dados para observar previsões\n",
    "- Como um modelo retorna probabilidades, indicamos um teste lógico para True or False"
   ]
  },
  {
   "cell_type": "code",
   "execution_count": 31,
   "metadata": {
    "vscode": {
     "languageId": "r"
    }
   },
   "outputs": [
    {
     "data": {
      "text/html": [
       "<style>\n",
       ".dl-inline {width: auto; margin:0; padding: 0}\n",
       ".dl-inline>dt, .dl-inline>dd {float: none; width: auto; display: inline-block}\n",
       ".dl-inline>dt::after {content: \":\\0020\"; padding-right: .5ex}\n",
       ".dl-inline>dt:not(:first-of-type) {padding-left: .5ex}\n",
       "</style><dl class=dl-inline><dt>1</dt><dd>FALSE</dd><dt>2</dt><dd>FALSE</dd><dt>3</dt><dd>TRUE</dd><dt>4</dt><dd>TRUE</dd><dt>5</dt><dd>TRUE</dd><dt>6</dt><dd>FALSE</dd><dt>7</dt><dd>TRUE</dd><dt>8</dt><dd>TRUE</dd><dt>9</dt><dd>FALSE</dd><dt>10</dt><dd>TRUE</dd><dt>11</dt><dd>FALSE</dd><dt>12</dt><dd>FALSE</dd><dt>13</dt><dd>TRUE</dd><dt>14</dt><dd>FALSE</dd><dt>15</dt><dd>FALSE</dd><dt>16</dt><dd>FALSE</dd><dt>17</dt><dd>TRUE</dd><dt>18</dt><dd>TRUE</dd><dt>19</dt><dd>FALSE</dd><dt>20</dt><dd>FALSE</dd><dt>21</dt><dd>TRUE</dd><dt>22</dt><dd>FALSE</dd><dt>23</dt><dd>FALSE</dd><dt>24</dt><dd>FALSE</dd><dt>25</dt><dd>TRUE</dd><dt>26</dt><dd>TRUE</dd><dt>27</dt><dd>FALSE</dd><dt>28</dt><dd>TRUE</dd><dt>29</dt><dd>TRUE</dd><dt>30</dt><dd>TRUE</dd><dt>31</dt><dd>FALSE</dd><dt>32</dt><dd>FALSE</dd><dt>33</dt><dd>TRUE</dd><dt>34</dt><dd>TRUE</dd><dt>35</dt><dd>TRUE</dd><dt>36</dt><dd>FALSE</dd><dt>37</dt><dd>TRUE</dd><dt>38</dt><dd>TRUE</dd><dt>39</dt><dd>TRUE</dd><dt>40</dt><dd>TRUE</dd><dt>41</dt><dd>FALSE</dd><dt>42</dt><dd>FALSE</dd><dt>43</dt><dd>FALSE</dd><dt>44</dt><dd>FALSE</dd><dt>45</dt><dd>TRUE</dd><dt>46</dt><dd>FALSE</dd><dt>47</dt><dd>FALSE</dd></dl>\n"
      ],
      "text/latex": [
       "\\begin{description*}\n",
       "\\item[1] FALSE\n",
       "\\item[2] FALSE\n",
       "\\item[3] TRUE\n",
       "\\item[4] TRUE\n",
       "\\item[5] TRUE\n",
       "\\item[6] FALSE\n",
       "\\item[7] TRUE\n",
       "\\item[8] TRUE\n",
       "\\item[9] FALSE\n",
       "\\item[10] TRUE\n",
       "\\item[11] FALSE\n",
       "\\item[12] FALSE\n",
       "\\item[13] TRUE\n",
       "\\item[14] FALSE\n",
       "\\item[15] FALSE\n",
       "\\item[16] FALSE\n",
       "\\item[17] TRUE\n",
       "\\item[18] TRUE\n",
       "\\item[19] FALSE\n",
       "\\item[20] FALSE\n",
       "\\item[21] TRUE\n",
       "\\item[22] FALSE\n",
       "\\item[23] FALSE\n",
       "\\item[24] FALSE\n",
       "\\item[25] TRUE\n",
       "\\item[26] TRUE\n",
       "\\item[27] FALSE\n",
       "\\item[28] TRUE\n",
       "\\item[29] TRUE\n",
       "\\item[30] TRUE\n",
       "\\item[31] FALSE\n",
       "\\item[32] FALSE\n",
       "\\item[33] TRUE\n",
       "\\item[34] TRUE\n",
       "\\item[35] TRUE\n",
       "\\item[36] FALSE\n",
       "\\item[37] TRUE\n",
       "\\item[38] TRUE\n",
       "\\item[39] TRUE\n",
       "\\item[40] TRUE\n",
       "\\item[41] FALSE\n",
       "\\item[42] FALSE\n",
       "\\item[43] FALSE\n",
       "\\item[44] FALSE\n",
       "\\item[45] TRUE\n",
       "\\item[46] FALSE\n",
       "\\item[47] FALSE\n",
       "\\end{description*}\n"
      ],
      "text/markdown": [
       "1\n",
       ":   FALSE2\n",
       ":   FALSE3\n",
       ":   TRUE4\n",
       ":   TRUE5\n",
       ":   TRUE6\n",
       ":   FALSE7\n",
       ":   TRUE8\n",
       ":   TRUE9\n",
       ":   FALSE10\n",
       ":   TRUE11\n",
       ":   FALSE12\n",
       ":   FALSE13\n",
       ":   TRUE14\n",
       ":   FALSE15\n",
       ":   FALSE16\n",
       ":   FALSE17\n",
       ":   TRUE18\n",
       ":   TRUE19\n",
       ":   FALSE20\n",
       ":   FALSE21\n",
       ":   TRUE22\n",
       ":   FALSE23\n",
       ":   FALSE24\n",
       ":   FALSE25\n",
       ":   TRUE26\n",
       ":   TRUE27\n",
       ":   FALSE28\n",
       ":   TRUE29\n",
       ":   TRUE30\n",
       ":   TRUE31\n",
       ":   FALSE32\n",
       ":   FALSE33\n",
       ":   TRUE34\n",
       ":   TRUE35\n",
       ":   TRUE36\n",
       ":   FALSE37\n",
       ":   TRUE38\n",
       ":   TRUE39\n",
       ":   TRUE40\n",
       ":   TRUE41\n",
       ":   FALSE42\n",
       ":   FALSE43\n",
       ":   FALSE44\n",
       ":   FALSE45\n",
       ":   TRUE46\n",
       ":   FALSE47\n",
       ":   FALSE\n",
       "\n"
      ],
      "text/plain": [
       "    1     2     3     4     5     6     7     8     9    10    11    12    13 \n",
       "FALSE FALSE  TRUE  TRUE  TRUE FALSE  TRUE  TRUE FALSE  TRUE FALSE FALSE  TRUE \n",
       "   14    15    16    17    18    19    20    21    22    23    24    25    26 \n",
       "FALSE FALSE FALSE  TRUE  TRUE FALSE FALSE  TRUE FALSE FALSE FALSE  TRUE  TRUE \n",
       "   27    28    29    30    31    32    33    34    35    36    37    38    39 \n",
       "FALSE  TRUE  TRUE  TRUE FALSE FALSE  TRUE  TRUE  TRUE FALSE  TRUE  TRUE  TRUE \n",
       "   40    41    42    43    44    45    46    47 \n",
       " TRUE FALSE FALSE FALSE FALSE  TRUE FALSE FALSE "
      ]
     },
     "metadata": {},
     "output_type": "display_data"
    }
   ],
   "source": [
    "prever = predict(modelo, newdata = eleicao, type='response')\n",
    "prever = prever >= 0.5\n",
    "prever"
   ]
  },
  {
   "cell_type": "markdown",
   "metadata": {},
   "source": [
    "## Tabela cruazando as previsoes com os dados originais\n",
    "- diagonal principal (21, 21) - Previsões corretas\n",
    "- diagonal secundaria (2, 3) - Previsões erradas"
   ]
  },
  {
   "cell_type": "code",
   "execution_count": 32,
   "metadata": {
    "vscode": {
     "languageId": "r"
    }
   },
   "outputs": [
    {
     "data": {
      "text/plain": [
       "       \n",
       "prever   0  1\n",
       "  FALSE 21  3\n",
       "  TRUE   2 21"
      ]
     },
     "metadata": {},
     "output_type": "display_data"
    },
    {
     "data": {
      "text/html": [
       "0.893617021276596"
      ],
      "text/latex": [
       "0.893617021276596"
      ],
      "text/markdown": [
       "0.893617021276596"
      ],
      "text/plain": [
       "[1] 0.893617"
      ]
     },
     "metadata": {},
     "output_type": "display_data"
    }
   ],
   "source": [
    "teste = table(prever, eleicao$SITUACAO)\n",
    "teste\n",
    "taxa_acerto = (teste[1] + teste[4]) / sum(teste)\n",
    "taxa_acerto"
   ]
  },
  {
   "cell_type": "markdown",
   "metadata": {},
   "source": [
    "## Modelo gerado | Utilização com novos dados\n",
    "- Criamos a coluna RESULT para a nova base de dados"
   ]
  },
  {
   "cell_type": "code",
   "execution_count": 33,
   "metadata": {
    "vscode": {
     "languageId": "r"
    }
   },
   "outputs": [
    {
     "data": {
      "text/html": [
       "<style>\n",
       ".list-inline {list-style: none; margin:0; padding: 0}\n",
       ".list-inline>li {display: inline-block}\n",
       ".list-inline>li:not(:last-child)::after {content: \"\\00b7\"; padding: 0 .5ex}\n",
       "</style>\n",
       "<ol class=list-inline><li>7</li><li>2</li></ol>\n"
      ],
      "text/latex": [
       "\\begin{enumerate*}\n",
       "\\item 7\n",
       "\\item 2\n",
       "\\end{enumerate*}\n"
      ],
      "text/markdown": [
       "1. 7\n",
       "2. 2\n",
       "\n",
       "\n"
      ],
      "text/plain": [
       "[1] 7 2"
      ]
     },
     "metadata": {},
     "output_type": "display_data"
    },
    {
     "data": {
      "text/plain": [
       " CANDIDATO    DESPESAS     \n",
       " A:1       Min.   :   0.0  \n",
       " B:1       1st Qu.: 105.0  \n",
       " C:1       Median : 500.0  \n",
       " D:1       Mean   : 872.9  \n",
       " E:1       3rd Qu.:1200.0  \n",
       " F:1       Max.   :3000.0  \n",
       " G:1                       "
      ]
     },
     "metadata": {},
     "output_type": "display_data"
    },
    {
     "data": {
      "text/html": [
       "<table class=\"dataframe\">\n",
       "<caption>A data.frame: 6 × 2</caption>\n",
       "<thead>\n",
       "\t<tr><th></th><th scope=col>CANDIDATO</th><th scope=col>DESPESAS</th></tr>\n",
       "\t<tr><th></th><th scope=col>&lt;fct&gt;</th><th scope=col>&lt;int&gt;</th></tr>\n",
       "</thead>\n",
       "<tbody>\n",
       "\t<tr><th scope=row>1</th><td>A</td><td>   0</td></tr>\n",
       "\t<tr><th scope=row>2</th><td>B</td><td>  10</td></tr>\n",
       "\t<tr><th scope=row>3</th><td>C</td><td> 200</td></tr>\n",
       "\t<tr><th scope=row>4</th><td>D</td><td> 500</td></tr>\n",
       "\t<tr><th scope=row>5</th><td>E</td><td> 900</td></tr>\n",
       "\t<tr><th scope=row>6</th><td>F</td><td>1500</td></tr>\n",
       "</tbody>\n",
       "</table>\n"
      ],
      "text/latex": [
       "A data.frame: 6 × 2\n",
       "\\begin{tabular}{r|ll}\n",
       "  & CANDIDATO & DESPESAS\\\\\n",
       "  & <fct> & <int>\\\\\n",
       "\\hline\n",
       "\t1 & A &    0\\\\\n",
       "\t2 & B &   10\\\\\n",
       "\t3 & C &  200\\\\\n",
       "\t4 & D &  500\\\\\n",
       "\t5 & E &  900\\\\\n",
       "\t6 & F & 1500\\\\\n",
       "\\end{tabular}\n"
      ],
      "text/markdown": [
       "\n",
       "A data.frame: 6 × 2\n",
       "\n",
       "| <!--/--> | CANDIDATO &lt;fct&gt; | DESPESAS &lt;int&gt; |\n",
       "|---|---|---|\n",
       "| 1 | A |    0 |\n",
       "| 2 | B |   10 |\n",
       "| 3 | C |  200 |\n",
       "| 4 | D |  500 |\n",
       "| 5 | E |  900 |\n",
       "| 6 | F | 1500 |\n",
       "\n"
      ],
      "text/plain": [
       "  CANDIDATO DESPESAS\n",
       "1 A            0    \n",
       "2 B           10    \n",
       "3 C          200    \n",
       "4 D          500    \n",
       "5 E          900    \n",
       "6 F         1500    "
      ]
     },
     "metadata": {},
     "output_type": "display_data"
    }
   ],
   "source": [
    "nova_eleicao = read.csv('NovosCandidatos.csv', sep=';', stringsAsFactors=T)\n",
    "dim(nova_eleicao)\n",
    "summary(nova_eleicao)\n",
    "head(nova_eleicao)"
   ]
  },
  {
   "cell_type": "code",
   "execution_count": 34,
   "metadata": {
    "vscode": {
     "languageId": "r"
    }
   },
   "outputs": [
    {
     "data": {
      "text/html": [
       "<style>\n",
       ".list-inline {list-style: none; margin:0; padding: 0}\n",
       ".list-inline>li {display: inline-block}\n",
       ".list-inline>li:not(:last-child)::after {content: \"\\00b7\"; padding: 0 .5ex}\n",
       "</style>\n",
       "<ol class=list-inline><li>0.00992346602509476</li><li>0.0104252614024675</li><li>0.0264382547697669</li><li>0.10802714867848</li><li>0.470635920860995</li><li>0.946475247380095</li><li>0.999967946790996</li></ol>\n"
      ],
      "text/latex": [
       "\\begin{enumerate*}\n",
       "\\item 0.00992346602509476\n",
       "\\item 0.0104252614024675\n",
       "\\item 0.0264382547697669\n",
       "\\item 0.10802714867848\n",
       "\\item 0.470635920860995\n",
       "\\item 0.946475247380095\n",
       "\\item 0.999967946790996\n",
       "\\end{enumerate*}\n"
      ],
      "text/markdown": [
       "1. 0.00992346602509476\n",
       "2. 0.0104252614024675\n",
       "3. 0.0264382547697669\n",
       "4. 0.10802714867848\n",
       "5. 0.470635920860995\n",
       "6. 0.946475247380095\n",
       "7. 0.999967946790996\n",
       "\n",
       "\n"
      ],
      "text/plain": [
       "[1] 0.009923466 0.010425261 0.026438255 0.108027149 0.470635921 0.946475247\n",
       "[7] 0.999967947"
      ]
     },
     "metadata": {},
     "output_type": "display_data"
    },
    {
     "data": {
      "text/html": [
       "<style>\n",
       ".list-inline {list-style: none; margin:0; padding: 0}\n",
       ".list-inline>li {display: inline-block}\n",
       ".list-inline>li:not(:last-child)::after {content: \"\\00b7\"; padding: 0 .5ex}\n",
       "</style>\n",
       "<ol class=list-inline><li>FALSE</li><li>FALSE</li><li>FALSE</li><li>FALSE</li><li>FALSE</li><li>TRUE</li><li>TRUE</li></ol>\n"
      ],
      "text/latex": [
       "\\begin{enumerate*}\n",
       "\\item FALSE\n",
       "\\item FALSE\n",
       "\\item FALSE\n",
       "\\item FALSE\n",
       "\\item FALSE\n",
       "\\item TRUE\n",
       "\\item TRUE\n",
       "\\end{enumerate*}\n"
      ],
      "text/markdown": [
       "1. FALSE\n",
       "2. FALSE\n",
       "3. FALSE\n",
       "4. FALSE\n",
       "5. FALSE\n",
       "6. TRUE\n",
       "7. TRUE\n",
       "\n",
       "\n"
      ],
      "text/plain": [
       "[1] FALSE FALSE FALSE FALSE FALSE  TRUE  TRUE"
      ]
     },
     "metadata": {},
     "output_type": "display_data"
    }
   ],
   "source": [
    "nova_eleicao$RESULT = predict(modelo, newdata = nova_eleicao, type='response')\n",
    "nova_eleicao$RESULT\n",
    "nova_eleicao$RESULT = nova_eleicao$RESULT >= 0.5\n",
    "nova_eleicao$RESULT"
   ]
  }
 ],
 "metadata": {
  "kernelspec": {
   "display_name": "R",
   "language": "R",
   "name": "ir"
  },
  "language_info": {
   "codemirror_mode": "r",
   "file_extension": ".r",
   "mimetype": "text/x-r-source",
   "name": "R",
   "pygments_lexer": "r",
   "version": "4.3.2"
  }
 },
 "nbformat": 4,
 "nbformat_minor": 2
}
