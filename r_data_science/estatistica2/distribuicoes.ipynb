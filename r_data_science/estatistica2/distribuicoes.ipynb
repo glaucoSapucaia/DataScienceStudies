{
 "cells": [
  {
   "cell_type": "markdown",
   "metadata": {},
   "source": [
    "## T de Student\n",
    "- pt() -> Recebe como parametros -> t= e grau de liberdade\n",
    "- lower.tail= -> Indica que a busca está À DIREITA da amostragem."
   ]
  },
  {
   "cell_type": "markdown",
   "metadata": {},
   "source": [
    "### Exemplo - Salario Cientista de dados"
   ]
  },
  {
   "cell_type": "code",
   "execution_count": 61,
   "metadata": {
    "vscode": {
     "languageId": "r"
    }
   },
   "outputs": [
    {
     "data": {
      "text/html": [
       "0.913998354024044"
      ],
      "text/latex": [
       "0.913998354024044"
      ],
      "text/markdown": [
       "0.913998354024044"
      ],
      "text/plain": [
       "[1] 0.9139984"
      ]
     },
     "metadata": {},
     "output_type": "display_data"
    },
    {
     "data": {
      "text/html": [
       "0.0860016459759557"
      ],
      "text/latex": [
       "0.0860016459759557"
      ],
      "text/markdown": [
       "0.0860016459759557"
      ],
      "text/plain": [
       "[1] 0.08600165"
      ]
     },
     "metadata": {},
     "output_type": "display_data"
    },
    {
     "data": {
      "text/html": [
       "1"
      ],
      "text/latex": [
       "1"
      ],
      "text/markdown": [
       "1"
      ],
      "text/plain": [
       "[1] 1"
      ]
     },
     "metadata": {},
     "output_type": "display_data"
    }
   ],
   "source": [
    "# Salario de cientistas 75 por hora. Amostra 9. S=10. Probabilidade de ser menos de 80 por hora?\n",
    "pt(1.5, 8)\n",
    "\n",
    "# Probabilidade de ser maior que 80?\n",
    "pt(1.5, 8, lower.tail=F)\n",
    "\n",
    "# Soma dos resultados\n",
    "pt(1.5, 8) + pt(1.5, 8, lower.tail = F)"
   ]
  },
  {
   "cell_type": "markdown",
   "metadata": {},
   "source": [
    "## Binomial\n",
    "- dbinom() -> Retorna a probabilidade pontual.\n",
    "- pbinom() -> Retorna a probabilidade acumulativa\n",
    "- x= | q= -> Valores buscados\n",
    "- p= | prob= -> Probabilidade\n",
    "- size= -> Eventos"
   ]
  },
  {
   "cell_type": "code",
   "execution_count": 62,
   "metadata": {
    "vscode": {
     "languageId": "r"
    }
   },
   "outputs": [
    {
     "data": {
      "text/html": [
       "0.3125"
      ],
      "text/latex": [
       "0.3125"
      ],
      "text/markdown": [
       "0.3125"
      ],
      "text/plain": [
       "[1] 0.3125"
      ]
     },
     "metadata": {},
     "output_type": "display_data"
    },
    {
     "data": {
      "text/html": [
       "1"
      ],
      "text/latex": [
       "1"
      ],
      "text/markdown": [
       "1"
      ],
      "text/plain": [
       "[1] 1"
      ]
     },
     "metadata": {},
     "output_type": "display_data"
    },
    {
     "data": {
      "text/html": [
       "0.0114712715148926"
      ],
      "text/latex": [
       "0.0114712715148926"
      ],
      "text/markdown": [
       "0.0114712715148926"
      ],
      "text/plain": [
       "[1] 0.01147127"
      ]
     },
     "metadata": {},
     "output_type": "display_data"
    },
    {
     "data": {
      "text/html": [
       "0.05078125"
      ],
      "text/latex": [
       "0.05078125"
      ],
      "text/markdown": [
       "0.05078125"
      ],
      "text/plain": [
       "[1] 0.05078125"
      ]
     },
     "metadata": {},
     "output_type": "display_data"
    },
    {
     "data": {
      "text/html": [
       "0.05078125"
      ],
      "text/latex": [
       "0.05078125"
      ],
      "text/markdown": [
       "0.05078125"
      ],
      "text/plain": [
       "[1] 0.05078125"
      ]
     },
     "metadata": {},
     "output_type": "display_data"
    },
    {
     "data": {
      "text/html": [
       "1"
      ],
      "text/latex": [
       "1"
      ],
      "text/markdown": [
       "1"
      ],
      "text/plain": [
       "[1] 1"
      ]
     },
     "metadata": {},
     "output_type": "display_data"
    }
   ],
   "source": [
    "# Jogar uma moeda cinco vezes, qual a prob. de dar cara 3 vezes?\n",
    "dbinom(x=3, prob=0.5, size = 5)\n",
    "\n",
    "# Passar 4 sinais de 4 tempos cada, qual a prob. de pegar 0, 1, 2, 3 e 4 sinais verdes?\n",
    "pbinom(q=4, prob=0.25, size=4)\n",
    "\n",
    "# Prova de concurso com 12 questões, chutando todas, qual a chance de acertar 7 questoes?\n",
    "# Cada questão tem 4 alternativas.\n",
    "dbinom(prob=0.25, size = 12, x=7)\n",
    "\n",
    "# Ao passar 4 sinais de 4 tempos cada. Qual a prob. de pegar 3 ou mais sinais verdes?\n",
    "pbinom(q=2, prob=0.25, size=4, lower.tail = F)\n",
    "1 - pbinom(q=2, prob=0.25, size=4)\n",
    "pbinom(q=2, prob=0.25, size=4, lower.tail = F) + pbinom(q=2, prob = 0.25, size=4)\n"
   ]
  },
  {
   "cell_type": "markdown",
   "metadata": {},
   "source": [
    "## Poisson\n",
    "- dpois() -> Probabilidade pontual\n",
    "- ppois() -> Probabilidade comulativa\n",
    "- lower.tail() -> 'maior que', região a direita dos dados\n",
    "- lambda= -> média\n",
    "- x= -> probabilidade esperada"
   ]
  },
  {
   "cell_type": "code",
   "execution_count": 63,
   "metadata": {
    "vscode": {
     "languageId": "r"
    }
   },
   "outputs": [
    {
     "data": {
      "text/html": [
       "0.180447044315484"
      ],
      "text/latex": [
       "0.180447044315484"
      ],
      "text/markdown": [
       "0.180447044315484"
      ],
      "text/plain": [
       "[1] 0.180447"
      ]
     },
     "metadata": {},
     "output_type": "display_data"
    },
    {
     "data": {
      "text/html": [
       "0.857123460498547"
      ],
      "text/latex": [
       "0.857123460498547"
      ],
      "text/markdown": [
       "0.857123460498547"
      ],
      "text/plain": [
       "[1] 0.8571235"
      ]
     },
     "metadata": {},
     "output_type": "display_data"
    },
    {
     "data": {
      "text/html": [
       "0.676676416183063"
      ],
      "text/latex": [
       "0.676676416183063"
      ],
      "text/markdown": [
       "0.676676416183063"
      ],
      "text/plain": [
       "[1] 0.6766764"
      ]
     },
     "metadata": {},
     "output_type": "display_data"
    },
    {
     "data": {
      "text/html": [
       "0.142876539501453"
      ],
      "text/latex": [
       "0.142876539501453"
      ],
      "text/markdown": [
       "0.142876539501453"
      ],
      "text/plain": [
       "[1] 0.1428765"
      ]
     },
     "metadata": {},
     "output_type": "display_data"
    },
    {
     "data": {
      "text/html": [
       "0.142876539501453"
      ],
      "text/latex": [
       "0.142876539501453"
      ],
      "text/markdown": [
       "0.142876539501453"
      ],
      "text/plain": [
       "[1] 0.1428765"
      ]
     },
     "metadata": {},
     "output_type": "display_data"
    }
   ],
   "source": [
    "# Numero de acidentes num dia é 2. Qual a prob de ocorrer 3 em um dia?\n",
    "dpois(x = 3,lambda = 2)\n",
    "\n",
    "# Numero de acidentes num dia é 2. Qual a prob de ocorrer 3 ou menos em um dia?\n",
    "ppois(q=3, lambda = 2)\n",
    "\n",
    "# Numero de acidentes num dia é 2. Qual a prob de ocorrer menos que 3 em um dia?\n",
    "ppois(q=2, lambda = 2)\n",
    "\n",
    "# Numero de acidentes num dia é 2. Qual a prob de ocorrer mais que 3 em um dia?\n",
    "1 - ppois(q=3, lambda = 2)\n",
    "ppois(q=3, lambda = 2, lower.tail = F)"
   ]
  },
  {
   "cell_type": "markdown",
   "metadata": {},
   "source": [
    "## QUI-QUADRADO\n",
    "- chisq.test() -> Retorna um teste Qui-Quadrado"
   ]
  },
  {
   "cell_type": "code",
   "execution_count": 64,
   "metadata": {
    "vscode": {
     "languageId": "r"
    }
   },
   "outputs": [
    {
     "data": {
      "text/html": [
       "<table class=\"dataframe\">\n",
       "<caption>A matrix: 2 × 2 of type dbl</caption>\n",
       "<thead>\n",
       "\t<tr><th></th><th scope=col>Assiste</th><th scope=col>Não assiste</th></tr>\n",
       "</thead>\n",
       "<tbody>\n",
       "\t<tr><th scope=row>Masculino</th><td>19</td><td> 6</td></tr>\n",
       "\t<tr><th scope=row>Feminino</th><td>43</td><td>32</td></tr>\n",
       "</tbody>\n",
       "</table>\n"
      ],
      "text/latex": [
       "A matrix: 2 × 2 of type dbl\n",
       "\\begin{tabular}{r|ll}\n",
       "  & Assiste & Não assiste\\\\\n",
       "\\hline\n",
       "\tMasculino & 19 &  6\\\\\n",
       "\tFeminino & 43 & 32\\\\\n",
       "\\end{tabular}\n"
      ],
      "text/markdown": [
       "\n",
       "A matrix: 2 × 2 of type dbl\n",
       "\n",
       "| <!--/--> | Assiste | Não assiste |\n",
       "|---|---|---|\n",
       "| Masculino | 19 |  6 |\n",
       "| Feminino | 43 | 32 |\n",
       "\n"
      ],
      "text/plain": [
       "          Assiste Não assiste\n",
       "Masculino 19       6         \n",
       "Feminino  43      32         "
      ]
     },
     "metadata": {},
     "output_type": "display_data"
    },
    {
     "data": {
      "text/plain": [
       "\n",
       "\tPearson's Chi-squared test with Yates' continuity correction\n",
       "\n",
       "data:  novela\n",
       "X-squared = 2.0374, df = 1, p-value = 0.1535\n"
      ]
     },
     "metadata": {},
     "output_type": "display_data"
    },
    {
     "data": {
      "text/html": [
       "<table class=\"dataframe\">\n",
       "<caption>A matrix: 2 × 2 of type dbl</caption>\n",
       "<thead>\n",
       "\t<tr><th></th><th scope=col>Assiste</th><th scope=col>Não assiste</th></tr>\n",
       "</thead>\n",
       "<tbody>\n",
       "\t<tr><th scope=row>Masculino</th><td>22</td><td> 3</td></tr>\n",
       "\t<tr><th scope=row>Feminino</th><td>43</td><td>32</td></tr>\n",
       "</tbody>\n",
       "</table>\n"
      ],
      "text/latex": [
       "A matrix: 2 × 2 of type dbl\n",
       "\\begin{tabular}{r|ll}\n",
       "  & Assiste & Não assiste\\\\\n",
       "\\hline\n",
       "\tMasculino & 22 &  3\\\\\n",
       "\tFeminino & 43 & 32\\\\\n",
       "\\end{tabular}\n"
      ],
      "text/markdown": [
       "\n",
       "A matrix: 2 × 2 of type dbl\n",
       "\n",
       "| <!--/--> | Assiste | Não assiste |\n",
       "|---|---|---|\n",
       "| Masculino | 22 |  3 |\n",
       "| Feminino | 43 | 32 |\n",
       "\n"
      ],
      "text/plain": [
       "          Assiste Não assiste\n",
       "Masculino 22       3         \n",
       "Feminino  43      32         "
      ]
     },
     "metadata": {},
     "output_type": "display_data"
    },
    {
     "data": {
      "text/plain": [
       "\n",
       "\tPearson's Chi-squared test with Yates' continuity correction\n",
       "\n",
       "data:  novela\n",
       "X-squared = 6.4615, df = 1, p-value = 0.01102\n"
      ]
     },
     "metadata": {},
     "output_type": "display_data"
    }
   ],
   "source": [
    "# Criando DB de exemplo\n",
    "novela = matrix(c(19, 6, 43, 32), nrow=2, byrow=T)\n",
    "rownames(novela) = c('Masculino', 'Feminino')\n",
    "colnames(novela) = c('Assiste', 'Não assiste')\n",
    "novela\n",
    "\n",
    "# Qui_Quadrado\n",
    "# p-value > 0.05 (ALPHA) -> Hipótese nula NÃO REJEITADA!\n",
    "chisq.test(novela)\n",
    "\n",
    "# Alterando valores da DB.\n",
    "novela = matrix(c(22, 3, 43, 32), nrow=2, byrow=T)\n",
    "rownames(novela) = c('Masculino', 'Feminino')\n",
    "colnames(novela) = c('Assiste', 'Não assiste')\n",
    "novela\n",
    "\n",
    "# Qui_Quadrado\n",
    "# p-value < 0.05 (ALPHA) -> Hipótese nula REJEITADA!\n",
    "# A uma diferença significativa entre homens e mulheres que assistem\n",
    "# ou não novelas.\n",
    "chisq.test(novela)"
   ]
  },
  {
   "cell_type": "markdown",
   "metadata": {},
   "source": [
    "## ANOVA\n",
    "- aov() -> Retorna uma analise de variancia\n",
    "- Pr(>F) -> Indica o valor de P no retorno\n",
    "- ~ -> Operador colocado antes dos fatores de variancia"
   ]
  },
  {
   "cell_type": "code",
   "execution_count": 65,
   "metadata": {
    "vscode": {
     "languageId": "r"
    }
   },
   "outputs": [
    {
     "data": {
      "text/html": [
       "<style>\n",
       ".list-inline {list-style: none; margin:0; padding: 0}\n",
       ".list-inline>li {display: inline-block}\n",
       ".list-inline>li:not(:last-child)::after {content: \"\\00b7\"; padding: 0 .5ex}\n",
       "</style>\n",
       "<ol class=list-inline><li>24</li><li>3</li></ol>\n"
      ],
      "text/latex": [
       "\\begin{enumerate*}\n",
       "\\item 24\n",
       "\\item 3\n",
       "\\end{enumerate*}\n"
      ],
      "text/markdown": [
       "1. 24\n",
       "2. 3\n",
       "\n",
       "\n"
      ],
      "text/plain": [
       "[1] 24  3"
      ]
     },
     "metadata": {},
     "output_type": "display_data"
    },
    {
     "data": {
      "text/plain": [
       " Sexo   Remedio     Horas       \n",
       " F:12   A:8     Min.   : 5.000  \n",
       " M:12   B:8     1st Qu.: 6.000  \n",
       "        C:8     Median : 7.000  \n",
       "                Mean   : 7.417  \n",
       "                3rd Qu.: 9.250  \n",
       "                Max.   :10.000  "
      ]
     },
     "metadata": {},
     "output_type": "display_data"
    },
    {
     "data": {
      "text/html": [
       "<table class=\"dataframe\">\n",
       "<caption>A data.frame: 6 × 3</caption>\n",
       "<thead>\n",
       "\t<tr><th></th><th scope=col>Sexo</th><th scope=col>Remedio</th><th scope=col>Horas</th></tr>\n",
       "\t<tr><th></th><th scope=col>&lt;fct&gt;</th><th scope=col>&lt;fct&gt;</th><th scope=col>&lt;int&gt;</th></tr>\n",
       "</thead>\n",
       "<tbody>\n",
       "\t<tr><th scope=row>1</th><td>F</td><td>A</td><td> 5</td></tr>\n",
       "\t<tr><th scope=row>2</th><td>F</td><td>A</td><td>10</td></tr>\n",
       "\t<tr><th scope=row>3</th><td>F</td><td>A</td><td> 7</td></tr>\n",
       "\t<tr><th scope=row>4</th><td>F</td><td>A</td><td> 7</td></tr>\n",
       "\t<tr><th scope=row>5</th><td>M</td><td>A</td><td> 7</td></tr>\n",
       "\t<tr><th scope=row>6</th><td>M</td><td>A</td><td> 6</td></tr>\n",
       "</tbody>\n",
       "</table>\n"
      ],
      "text/latex": [
       "A data.frame: 6 × 3\n",
       "\\begin{tabular}{r|lll}\n",
       "  & Sexo & Remedio & Horas\\\\\n",
       "  & <fct> & <fct> & <int>\\\\\n",
       "\\hline\n",
       "\t1 & F & A &  5\\\\\n",
       "\t2 & F & A & 10\\\\\n",
       "\t3 & F & A &  7\\\\\n",
       "\t4 & F & A &  7\\\\\n",
       "\t5 & M & A &  7\\\\\n",
       "\t6 & M & A &  6\\\\\n",
       "\\end{tabular}\n"
      ],
      "text/markdown": [
       "\n",
       "A data.frame: 6 × 3\n",
       "\n",
       "| <!--/--> | Sexo &lt;fct&gt; | Remedio &lt;fct&gt; | Horas &lt;int&gt; |\n",
       "|---|---|---|---|\n",
       "| 1 | F | A |  5 |\n",
       "| 2 | F | A | 10 |\n",
       "| 3 | F | A |  7 |\n",
       "| 4 | F | A |  7 |\n",
       "| 5 | M | A |  7 |\n",
       "| 6 | M | A |  6 |\n",
       "\n"
      ],
      "text/plain": [
       "  Sexo Remedio Horas\n",
       "1 F    A        5   \n",
       "2 F    A       10   \n",
       "3 F    A        7   \n",
       "4 F    A        7   \n",
       "5 M    A        7   \n",
       "6 M    A        6   "
      ]
     },
     "metadata": {},
     "output_type": "display_data"
    }
   ],
   "source": [
    "anova_DB = read.csv('anova.csv', sep=';', na.strings='', stringsAsFactors=T)\n",
    "dim(anova_DB)\n",
    "summary(anova_DB)\n",
    "head(anova_DB)"
   ]
  },
  {
   "cell_type": "code",
   "execution_count": 66,
   "metadata": {
    "vscode": {
     "languageId": "r"
    }
   },
   "outputs": [
    {
     "data": {
      "image/png": "[encoded data removed]",
      "text/plain": [
       "Plot with title “Hora para efeito da medicação”"
      ]
     },
     "metadata": {
      "image/png": {
       "height": 420,
       "width": 420
      }
     },
     "output_type": "display_data"
    }
   ],
   "source": [
    "# Comparando horas para efeito de cada medicação\n",
    "boxplot(anova_DB$Horas ~ anova_DB$Remedio, main='Hora para efeito da medicação',\n",
    "xlab='Medicação', ylab='Horas', col='blue')\n",
    "\n",
    "# "
   ]
  },
  {
   "cell_type": "code",
   "execution_count": 67,
   "metadata": {
    "vscode": {
     "languageId": "r"
    }
   },
   "outputs": [
    {
     "data": {
      "text/plain": [
       "            Df Sum Sq Mean Sq F value Pr(>F)\n",
       "Remedio      2   4.08   2.042   0.538  0.592\n",
       "Residuals   21  79.75   3.798               "
      ]
     },
     "metadata": {},
     "output_type": "display_data"
    },
    {
     "data": {
      "text/plain": [
       "             Df Sum Sq Mean Sq F value Pr(>F)\n",
       "Remedio       2   4.08   2.042   0.533  0.596\n",
       "Sexo          1   4.17   4.167   1.087  0.311\n",
       "Remedio:Sexo  2   6.58   3.292   0.859  0.440\n",
       "Residuals    18  69.00   3.833               "
      ]
     },
     "metadata": {},
     "output_type": "display_data"
    }
   ],
   "source": [
    "# Analise de variancia de UM FATOR\n",
    "# Hipotese nula NÃO REJEITADA\n",
    "an = aov(Horas ~ Remedio, data=anova_DB)\n",
    "summary(an)\n",
    "\n",
    "# Analise de variancia de DOIS FATORES\n",
    "# Hipotese nula NÃO REJEITADA\n",
    "an = aov(Horas ~ Remedio * Sexo, data=anova_DB)\n",
    "summary(an)"
   ]
  },
  {
   "cell_type": "markdown",
   "metadata": {},
   "source": [
    "### Caso existam diferenças significativas (Pr(>F) for menor ou igual a 0.05)\n",
    "\n",
    "## Tukey test\n",
    "- TukeyHSD() -> Retrona teste de Tukey\n",
    "- p adj -> Indica o valor de P no retorno"
   ]
  },
  {
   "cell_type": "code",
   "execution_count": 68,
   "metadata": {
    "vscode": {
     "languageId": "r"
    }
   },
   "outputs": [
    {
     "data": {
      "text/plain": [
       "  Tukey multiple comparisons of means\n",
       "    95% family-wise confidence level\n",
       "\n",
       "Fit: aov(formula = Horas ~ Remedio * Sexo, data = anova_DB)\n",
       "\n",
       "$Remedio\n",
       "      diff       lwr      upr     p adj\n",
       "B-A -0.625 -3.123427 1.873427 0.8011051\n",
       "C-A  0.375 -2.123427 2.873427 0.9226431\n",
       "C-B  1.000 -1.498427 3.498427 0.5732500\n",
       "\n",
       "$Sexo\n",
       "         diff        lwr      upr     p adj\n",
       "M-F 0.8333333 -0.8459446 2.512611 0.3109477\n",
       "\n",
       "$`Remedio:Sexo`\n",
       "                 diff      lwr     upr     p adj\n",
       "B:F-A:F -1.500000e+00 -5.89979 2.89979 0.8816496\n",
       "C:F-A:F  7.500000e-01 -3.64979 5.14979 0.9935270\n",
       "A:M-A:F  5.000000e-01 -3.89979 4.89979 0.9990466\n",
       "B:M-A:F  7.500000e-01 -3.64979 5.14979 0.9935270\n",
       "C:M-A:F  5.000000e-01 -3.89979 4.89979 0.9990466\n",
       "C:F-B:F  2.250000e+00 -2.14979 6.64979 0.5936233\n",
       "A:M-B:F  2.000000e+00 -2.39979 6.39979 0.7010347\n",
       "B:M-B:F  2.250000e+00 -2.14979 6.64979 0.5936233\n",
       "C:M-B:F  2.000000e+00 -2.39979 6.39979 0.7010347\n",
       "A:M-C:F -2.500000e-01 -4.64979 4.14979 0.9999681\n",
       "B:M-C:F -3.552714e-15 -4.39979 4.39979 1.0000000\n",
       "C:M-C:F -2.500000e-01 -4.64979 4.14979 0.9999681\n",
       "B:M-A:M  2.500000e-01 -4.14979 4.64979 0.9999681\n",
       "C:M-A:M -8.881784e-16 -4.39979 4.39979 1.0000000\n",
       "C:M-B:M -2.500000e-01 -4.64979 4.14979 0.9999681\n"
      ]
     },
     "metadata": {},
     "output_type": "display_data"
    },
    {
     "data": {
      "image/png": "[encoded data removed]",
      "text/plain": [
       "Plot with title “95% family-wise confidence level\n",
       "”"
      ]
     },
     "metadata": {
      "image/png": {
       "height": 420,
       "width": 420
      }
     },
     "output_type": "display_data"
    },
    {
     "data": {
      "image/png": "[encoded data removed]",
      "text/plain": [
       "Plot with title “95% family-wise confidence level\n",
       "”"
      ]
     },
     "metadata": {
      "image/png": {
       "height": 420,
       "width": 420
      }
     },
     "output_type": "display_data"
    },
    {
     "data": {
      "image/png": "[encoded data removed]",
      "text/plain": [
       "Plot with title “95% family-wise confidence level\n",
       "”"
      ]
     },
     "metadata": {
      "image/png": {
       "height": 420,
       "width": 420
      }
     },
     "output_type": "display_data"
    }
   ],
   "source": [
    "tukey = TukeyHSD(an)\n",
    "tukey\n",
    "\n",
    "# Gera gráficos com os dados Tukey.\n",
    "# 1. Relação entre as médias\n",
    "# 2. Nivel e intervalo de confiança\n",
    "plot(tukey)"
   ]
  }
 ],
 "metadata": {
  "kernelspec": {
   "display_name": "R",
   "language": "R",
   "name": "ir"
  },
  "language_info": {
   "codemirror_mode": "r",
   "file_extension": ".r",
   "mimetype": "text/x-r-source",
   "name": "R",
   "pygments_lexer": "r",
   "version": "4.3.2"
  }
 },
 "nbformat": 4,
 "nbformat_minor": 2
}
