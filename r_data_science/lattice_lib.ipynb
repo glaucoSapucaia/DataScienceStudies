{
 "cells": [
  {
   "cell_type": "code",
   "execution_count": 31,
   "metadata": {
    "vscode": {
     "languageId": "r"
    }
   },
   "outputs": [],
   "source": [
    "library(lattice)"
   ]
  },
  {
   "cell_type": "code",
   "execution_count": 32,
   "metadata": {
    "vscode": {
     "languageId": "r"
    }
   },
   "outputs": [
    {
     "data": {
      "text/plain": [
       "     Girth           Height       Volume     \n",
       " Min.   : 8.30   Min.   :63   Min.   :10.20  \n",
       " 1st Qu.:11.05   1st Qu.:72   1st Qu.:19.40  \n",
       " Median :12.90   Median :76   Median :24.20  \n",
       " Mean   :13.25   Mean   :76   Mean   :30.17  \n",
       " 3rd Qu.:15.25   3rd Qu.:80   3rd Qu.:37.30  \n",
       " Max.   :20.60   Max.   :87   Max.   :77.00  "
      ]
     },
     "metadata": {},
     "output_type": "display_data"
    },
    {
     "data": {
      "text/html": [
       "<table class=\"dataframe\">\n",
       "<caption>A data.frame: 6 × 3</caption>\n",
       "<thead>\n",
       "\t<tr><th></th><th scope=col>Girth</th><th scope=col>Height</th><th scope=col>Volume</th></tr>\n",
       "\t<tr><th></th><th scope=col>&lt;dbl&gt;</th><th scope=col>&lt;dbl&gt;</th><th scope=col>&lt;dbl&gt;</th></tr>\n",
       "</thead>\n",
       "<tbody>\n",
       "\t<tr><th scope=row>1</th><td> 8.3</td><td>70</td><td>10.3</td></tr>\n",
       "\t<tr><th scope=row>2</th><td> 8.6</td><td>65</td><td>10.3</td></tr>\n",
       "\t<tr><th scope=row>3</th><td> 8.8</td><td>63</td><td>10.2</td></tr>\n",
       "\t<tr><th scope=row>4</th><td>10.5</td><td>72</td><td>16.4</td></tr>\n",
       "\t<tr><th scope=row>5</th><td>10.7</td><td>81</td><td>18.8</td></tr>\n",
       "\t<tr><th scope=row>6</th><td>10.8</td><td>83</td><td>19.7</td></tr>\n",
       "</tbody>\n",
       "</table>\n"
      ],
      "text/latex": [
       "A data.frame: 6 × 3\n",
       "\\begin{tabular}{r|lll}\n",
       "  & Girth & Height & Volume\\\\\n",
       "  & <dbl> & <dbl> & <dbl>\\\\\n",
       "\\hline\n",
       "\t1 &  8.3 & 70 & 10.3\\\\\n",
       "\t2 &  8.6 & 65 & 10.3\\\\\n",
       "\t3 &  8.8 & 63 & 10.2\\\\\n",
       "\t4 & 10.5 & 72 & 16.4\\\\\n",
       "\t5 & 10.7 & 81 & 18.8\\\\\n",
       "\t6 & 10.8 & 83 & 19.7\\\\\n",
       "\\end{tabular}\n"
      ],
      "text/markdown": [
       "\n",
       "A data.frame: 6 × 3\n",
       "\n",
       "| <!--/--> | Girth &lt;dbl&gt; | Height &lt;dbl&gt; | Volume &lt;dbl&gt; |\n",
       "|---|---|---|---|\n",
       "| 1 |  8.3 | 70 | 10.3 |\n",
       "| 2 |  8.6 | 65 | 10.3 |\n",
       "| 3 |  8.8 | 63 | 10.2 |\n",
       "| 4 | 10.5 | 72 | 16.4 |\n",
       "| 5 | 10.7 | 81 | 18.8 |\n",
       "| 6 | 10.8 | 83 | 19.7 |\n",
       "\n"
      ],
      "text/plain": [
       "  Girth Height Volume\n",
       "1  8.3  70     10.3  \n",
       "2  8.6  65     10.3  \n",
       "3  8.8  63     10.2  \n",
       "4 10.5  72     16.4  \n",
       "5 10.7  81     18.8  \n",
       "6 10.8  83     19.7  "
      ]
     },
     "metadata": {},
     "output_type": "display_data"
    }
   ],
   "source": [
    "summary(trees)\n",
    "head(trees)"
   ]
  },
  {
   "cell_type": "markdown",
   "metadata": {},
   "source": [
    "## Lattice boxplot()\n",
    "- bwplot()"
   ]
  },
  {
   "cell_type": "code",
   "execution_count": 33,
   "metadata": {
    "vscode": {
     "languageId": "r"
    }
   },
   "outputs": [
    {
     "data": {
      "image/png": "[encoded data removed]",
      "text/plain": [
       "plot without title"
      ]
     },
     "metadata": {
      "image/png": {
       "height": 420,
       "width": 420
      }
     },
     "output_type": "display_data"
    }
   ],
   "source": [
    "bwplot(trees$Volume, main='Árvores', xlab='Volume')"
   ]
  },
  {
   "cell_type": "markdown",
   "metadata": {},
   "source": [
    "## Lattice histogram()\n",
    "- type= -> Indica a forma de calculo | 'percent', 'count', 'density', etc...\n",
    "- nint= -> Indica o intervalo de valores | Qtd de barras\n",
    "- aspect= -> Indica a largura do gráfico"
   ]
  },
  {
   "cell_type": "code",
   "execution_count": 34,
   "metadata": {
    "vscode": {
     "languageId": "r"
    }
   },
   "outputs": [
    {
     "data": {
      "image/png": "[encoded data removed]",
      "text/plain": [
       "plot without title"
      ]
     },
     "metadata": {
      "image/png": {
       "height": 420,
       "width": 420
      }
     },
     "output_type": "display_data"
    }
   ],
   "source": [
    "histogram(trees$Volume, main='Árvores', xlab='Volume', type='percent', aspect=1,\n",
    "nint=6, col=c(1:6))"
   ]
  },
  {
   "cell_type": "markdown",
   "metadata": {},
   "source": [
    "## Db = chickwts"
   ]
  },
  {
   "cell_type": "code",
   "execution_count": 35,
   "metadata": {
    "vscode": {
     "languageId": "r"
    }
   },
   "outputs": [
    {
     "data": {
      "text/plain": [
       "     weight             feed   \n",
       " Min.   :108.0   casein   :12  \n",
       " 1st Qu.:204.5   horsebean:10  \n",
       " Median :258.0   linseed  :12  \n",
       " Mean   :261.3   meatmeal :11  \n",
       " 3rd Qu.:323.5   soybean  :14  \n",
       " Max.   :423.0   sunflower:12  "
      ]
     },
     "metadata": {},
     "output_type": "display_data"
    },
    {
     "data": {
      "text/html": [
       "<table class=\"dataframe\">\n",
       "<caption>A data.frame: 6 × 2</caption>\n",
       "<thead>\n",
       "\t<tr><th></th><th scope=col>weight</th><th scope=col>feed</th></tr>\n",
       "\t<tr><th></th><th scope=col>&lt;dbl&gt;</th><th scope=col>&lt;fct&gt;</th></tr>\n",
       "</thead>\n",
       "<tbody>\n",
       "\t<tr><th scope=row>1</th><td>179</td><td>horsebean</td></tr>\n",
       "\t<tr><th scope=row>2</th><td>160</td><td>horsebean</td></tr>\n",
       "\t<tr><th scope=row>3</th><td>136</td><td>horsebean</td></tr>\n",
       "\t<tr><th scope=row>4</th><td>227</td><td>horsebean</td></tr>\n",
       "\t<tr><th scope=row>5</th><td>217</td><td>horsebean</td></tr>\n",
       "\t<tr><th scope=row>6</th><td>168</td><td>horsebean</td></tr>\n",
       "</tbody>\n",
       "</table>\n"
      ],
      "text/latex": [
       "A data.frame: 6 × 2\n",
       "\\begin{tabular}{r|ll}\n",
       "  & weight & feed\\\\\n",
       "  & <dbl> & <fct>\\\\\n",
       "\\hline\n",
       "\t1 & 179 & horsebean\\\\\n",
       "\t2 & 160 & horsebean\\\\\n",
       "\t3 & 136 & horsebean\\\\\n",
       "\t4 & 227 & horsebean\\\\\n",
       "\t5 & 217 & horsebean\\\\\n",
       "\t6 & 168 & horsebean\\\\\n",
       "\\end{tabular}\n"
      ],
      "text/markdown": [
       "\n",
       "A data.frame: 6 × 2\n",
       "\n",
       "| <!--/--> | weight &lt;dbl&gt; | feed &lt;fct&gt; |\n",
       "|---|---|---|\n",
       "| 1 | 179 | horsebean |\n",
       "| 2 | 160 | horsebean |\n",
       "| 3 | 136 | horsebean |\n",
       "| 4 | 227 | horsebean |\n",
       "| 5 | 217 | horsebean |\n",
       "| 6 | 168 | horsebean |\n",
       "\n"
      ],
      "text/plain": [
       "  weight feed     \n",
       "1 179    horsebean\n",
       "2 160    horsebean\n",
       "3 136    horsebean\n",
       "4 227    horsebean\n",
       "5 217    horsebean\n",
       "6 168    horsebean"
      ]
     },
     "metadata": {},
     "output_type": "display_data"
    }
   ],
   "source": [
    "summary(chickwts)\n",
    "head(chickwts)"
   ]
  },
  {
   "cell_type": "markdown",
   "metadata": {},
   "source": [
    "## Weight"
   ]
  },
  {
   "cell_type": "code",
   "execution_count": 36,
   "metadata": {
    "vscode": {
     "languageId": "r"
    }
   },
   "outputs": [
    {
     "data": {
      "image/png": "[encoded data removed]",
      "text/plain": [
       "plot without title"
      ]
     },
     "metadata": {
      "image/png": {
       "height": 420,
       "width": 420
      }
     },
     "output_type": "display_data"
    }
   ],
   "source": [
    "histogram(chickwts$weight, nint=7, col=c(1:7), aspect=1, type='count',\n",
    "main='Frangos', xlab='Peso')"
   ]
  },
  {
   "cell_type": "markdown",
   "metadata": {},
   "source": [
    "## Histogramas condicionais | Lattice\n",
    "- aggregate() -> Agraga valores de acordo com variaveis\n",
    "- by= -> Informa a variavel categorica\n",
    "- FUN= -> Informa a função utilizada\n",
    "- ~ -> Informa a variavel numérica\n",
    "- | -> Condiciona a variavel numérica a variavel categórica\n",
    "- data= -> Informa a base de dados"
   ]
  },
  {
   "cell_type": "code",
   "execution_count": 37,
   "metadata": {
    "vscode": {
     "languageId": "r"
    }
   },
   "outputs": [
    {
     "data": {
      "text/html": [
       "<table class=\"dataframe\">\n",
       "<caption>A data.frame: 6 × 2</caption>\n",
       "<thead>\n",
       "\t<tr><th scope=col>Group.1</th><th scope=col>x</th></tr>\n",
       "\t<tr><th scope=col>&lt;fct&gt;</th><th scope=col>&lt;dbl&gt;</th></tr>\n",
       "</thead>\n",
       "<tbody>\n",
       "\t<tr><td>casein   </td><td>3883</td></tr>\n",
       "\t<tr><td>horsebean</td><td>1602</td></tr>\n",
       "\t<tr><td>linseed  </td><td>2625</td></tr>\n",
       "\t<tr><td>meatmeal </td><td>3046</td></tr>\n",
       "\t<tr><td>soybean  </td><td>3450</td></tr>\n",
       "\t<tr><td>sunflower</td><td>3947</td></tr>\n",
       "</tbody>\n",
       "</table>\n"
      ],
      "text/latex": [
       "A data.frame: 6 × 2\n",
       "\\begin{tabular}{ll}\n",
       " Group.1 & x\\\\\n",
       " <fct> & <dbl>\\\\\n",
       "\\hline\n",
       "\t casein    & 3883\\\\\n",
       "\t horsebean & 1602\\\\\n",
       "\t linseed   & 2625\\\\\n",
       "\t meatmeal  & 3046\\\\\n",
       "\t soybean   & 3450\\\\\n",
       "\t sunflower & 3947\\\\\n",
       "\\end{tabular}\n"
      ],
      "text/markdown": [
       "\n",
       "A data.frame: 6 × 2\n",
       "\n",
       "| Group.1 &lt;fct&gt; | x &lt;dbl&gt; |\n",
       "|---|---|\n",
       "| casein    | 3883 |\n",
       "| horsebean | 1602 |\n",
       "| linseed   | 2625 |\n",
       "| meatmeal  | 3046 |\n",
       "| soybean   | 3450 |\n",
       "| sunflower | 3947 |\n",
       "\n"
      ],
      "text/plain": [
       "  Group.1   x   \n",
       "1 casein    3883\n",
       "2 horsebean 1602\n",
       "3 linseed   2625\n",
       "4 meatmeal  3046\n",
       "5 soybean   3450\n",
       "6 sunflower 3947"
      ]
     },
     "metadata": {},
     "output_type": "display_data"
    },
    {
     "data": {
      "image/png": "[encoded data removed]",
      "text/plain": [
       "plot without title"
      ]
     },
     "metadata": {
      "image/png": {
       "height": 420,
       "width": 420
      }
     },
     "output_type": "display_data"
    }
   ],
   "source": [
    "aggregate(chickwts$weight, by=list(chickwts$feed), FUN=sum)\n",
    "histogram(~weight | feed, data=chickwts, main='Rações',\n",
    "type='count', xlab='Peso', ylab='Total de frangos')"
   ]
  },
  {
   "cell_type": "markdown",
   "metadata": {},
   "source": [
    "## Db = CO2 | Dispersão condicional | Lattice\n",
    "- ~ -> Relação direta de variaveis | x, y\n",
    "- | -> Relação condicional (categórica)\n",
    "- xyplot() -> Gráfico de dispersão"
   ]
  },
  {
   "cell_type": "code",
   "execution_count": 38,
   "metadata": {
    "vscode": {
     "languageId": "r"
    }
   },
   "outputs": [
    {
     "data": {
      "text/plain": [
       "     Plant             Type         Treatment       conc          uptake     \n",
       " Qn1    : 7   Quebec     :42   nonchilled:42   Min.   :  95   Min.   : 7.70  \n",
       " Qn2    : 7   Mississippi:42   chilled   :42   1st Qu.: 175   1st Qu.:17.90  \n",
       " Qn3    : 7                                    Median : 350   Median :28.30  \n",
       " Qc1    : 7                                    Mean   : 435   Mean   :27.21  \n",
       " Qc3    : 7                                    3rd Qu.: 675   3rd Qu.:37.12  \n",
       " Qc2    : 7                                    Max.   :1000   Max.   :45.50  \n",
       " (Other):42                                                                  "
      ]
     },
     "metadata": {},
     "output_type": "display_data"
    },
    {
     "data": {
      "text/html": [
       "<table class=\"dataframe\">\n",
       "<caption>A nfnGroupedData: 6 × 5</caption>\n",
       "<thead>\n",
       "\t<tr><th></th><th scope=col>Plant</th><th scope=col>Type</th><th scope=col>Treatment</th><th scope=col>conc</th><th scope=col>uptake</th></tr>\n",
       "\t<tr><th></th><th scope=col>&lt;ord&gt;</th><th scope=col>&lt;fct&gt;</th><th scope=col>&lt;fct&gt;</th><th scope=col>&lt;dbl&gt;</th><th scope=col>&lt;dbl&gt;</th></tr>\n",
       "</thead>\n",
       "<tbody>\n",
       "\t<tr><th scope=row>1</th><td>Qn1</td><td>Quebec</td><td>nonchilled</td><td> 95</td><td>16.0</td></tr>\n",
       "\t<tr><th scope=row>2</th><td>Qn1</td><td>Quebec</td><td>nonchilled</td><td>175</td><td>30.4</td></tr>\n",
       "\t<tr><th scope=row>3</th><td>Qn1</td><td>Quebec</td><td>nonchilled</td><td>250</td><td>34.8</td></tr>\n",
       "\t<tr><th scope=row>4</th><td>Qn1</td><td>Quebec</td><td>nonchilled</td><td>350</td><td>37.2</td></tr>\n",
       "\t<tr><th scope=row>5</th><td>Qn1</td><td>Quebec</td><td>nonchilled</td><td>500</td><td>35.3</td></tr>\n",
       "\t<tr><th scope=row>6</th><td>Qn1</td><td>Quebec</td><td>nonchilled</td><td>675</td><td>39.2</td></tr>\n",
       "</tbody>\n",
       "</table>\n"
      ],
      "text/latex": [
       "A nfnGroupedData: 6 × 5\n",
       "\\begin{tabular}{r|lllll}\n",
       "  & Plant & Type & Treatment & conc & uptake\\\\\n",
       "  & <ord> & <fct> & <fct> & <dbl> & <dbl>\\\\\n",
       "\\hline\n",
       "\t1 & Qn1 & Quebec & nonchilled &  95 & 16.0\\\\\n",
       "\t2 & Qn1 & Quebec & nonchilled & 175 & 30.4\\\\\n",
       "\t3 & Qn1 & Quebec & nonchilled & 250 & 34.8\\\\\n",
       "\t4 & Qn1 & Quebec & nonchilled & 350 & 37.2\\\\\n",
       "\t5 & Qn1 & Quebec & nonchilled & 500 & 35.3\\\\\n",
       "\t6 & Qn1 & Quebec & nonchilled & 675 & 39.2\\\\\n",
       "\\end{tabular}\n"
      ],
      "text/markdown": [
       "\n",
       "A nfnGroupedData: 6 × 5\n",
       "\n",
       "| <!--/--> | Plant &lt;ord&gt; | Type &lt;fct&gt; | Treatment &lt;fct&gt; | conc &lt;dbl&gt; | uptake &lt;dbl&gt; |\n",
       "|---|---|---|---|---|---|\n",
       "| 1 | Qn1 | Quebec | nonchilled |  95 | 16.0 |\n",
       "| 2 | Qn1 | Quebec | nonchilled | 175 | 30.4 |\n",
       "| 3 | Qn1 | Quebec | nonchilled | 250 | 34.8 |\n",
       "| 4 | Qn1 | Quebec | nonchilled | 350 | 37.2 |\n",
       "| 5 | Qn1 | Quebec | nonchilled | 500 | 35.3 |\n",
       "| 6 | Qn1 | Quebec | nonchilled | 675 | 39.2 |\n",
       "\n"
      ],
      "text/plain": [
       "  Plant Type   Treatment  conc uptake\n",
       "1 Qn1   Quebec nonchilled  95  16.0  \n",
       "2 Qn1   Quebec nonchilled 175  30.4  \n",
       "3 Qn1   Quebec nonchilled 250  34.8  \n",
       "4 Qn1   Quebec nonchilled 350  37.2  \n",
       "5 Qn1   Quebec nonchilled 500  35.3  \n",
       "6 Qn1   Quebec nonchilled 675  39.2  "
      ]
     },
     "metadata": {},
     "output_type": "display_data"
    }
   ],
   "source": [
    "summary(CO2)\n",
    "head(CO2)"
   ]
  },
  {
   "cell_type": "markdown",
   "metadata": {},
   "source": [
    "## Condicionando a coluna Type"
   ]
  },
  {
   "cell_type": "code",
   "execution_count": 42,
   "metadata": {
    "vscode": {
     "languageId": "r"
    }
   },
   "outputs": [
    {
     "data": {
      "image/png": "[encoded data removed]",
      "text/plain": [
       "plot without title"
      ]
     },
     "metadata": {
      "image/png": {
       "height": 420,
       "width": 420
      }
     },
     "output_type": "display_data"
    }
   ],
   "source": [
    "xyplot(conc ~ uptake | Type, data=CO2, pch=19)"
   ]
  },
  {
   "cell_type": "markdown",
   "metadata": {},
   "source": [
    "## Condicionando a coluna Treatment"
   ]
  },
  {
   "cell_type": "code",
   "execution_count": 45,
   "metadata": {
    "vscode": {
     "languageId": "r"
    }
   },
   "outputs": [
    {
     "data": {
      "image/png": "[encoded data removed]",
      "text/plain": [
       "plot without title"
      ]
     },
     "metadata": {
      "image/png": {
       "height": 420,
       "width": 420
      }
     },
     "output_type": "display_data"
    }
   ],
   "source": [
    "xyplot(conc ~ uptake | Treatment, data=CO2, pch=10)"
   ]
  },
  {
   "cell_type": "markdown",
   "metadata": {},
   "source": [
    "## Db = esoph -> dotplot | Lattice\n",
    "- Combinação ampla de variaveis categóricas e numéricas"
   ]
  },
  {
   "cell_type": "code",
   "execution_count": 46,
   "metadata": {
    "vscode": {
     "languageId": "r"
    }
   },
   "outputs": [
    {
     "data": {
      "text/plain": [
       "   agegp          alcgp         tobgp        ncases         ncontrols     \n",
       " 25-34:15   0-39g/day:23   0-9g/day:24   Min.   : 0.000   Min.   : 0.000  \n",
       " 35-44:15   40-79    :23   10-19   :24   1st Qu.: 0.000   1st Qu.: 1.000  \n",
       " 45-54:16   80-119   :21   20-29   :20   Median : 1.000   Median : 4.000  \n",
       " 55-64:16   120+     :21   30+     :20   Mean   : 2.273   Mean   : 8.807  \n",
       " 65-74:15                                3rd Qu.: 4.000   3rd Qu.:10.000  \n",
       " 75+  :11                                Max.   :17.000   Max.   :60.000  "
      ]
     },
     "metadata": {},
     "output_type": "display_data"
    },
    {
     "data": {
      "text/html": [
       "<table class=\"dataframe\">\n",
       "<caption>A data.frame: 6 × 5</caption>\n",
       "<thead>\n",
       "\t<tr><th></th><th scope=col>agegp</th><th scope=col>alcgp</th><th scope=col>tobgp</th><th scope=col>ncases</th><th scope=col>ncontrols</th></tr>\n",
       "\t<tr><th></th><th scope=col>&lt;ord&gt;</th><th scope=col>&lt;ord&gt;</th><th scope=col>&lt;ord&gt;</th><th scope=col>&lt;dbl&gt;</th><th scope=col>&lt;dbl&gt;</th></tr>\n",
       "</thead>\n",
       "<tbody>\n",
       "\t<tr><th scope=row>1</th><td>25-34</td><td>0-39g/day</td><td>0-9g/day</td><td>0</td><td>40</td></tr>\n",
       "\t<tr><th scope=row>2</th><td>25-34</td><td>0-39g/day</td><td>10-19   </td><td>0</td><td>10</td></tr>\n",
       "\t<tr><th scope=row>3</th><td>25-34</td><td>0-39g/day</td><td>20-29   </td><td>0</td><td> 6</td></tr>\n",
       "\t<tr><th scope=row>4</th><td>25-34</td><td>0-39g/day</td><td>30+     </td><td>0</td><td> 5</td></tr>\n",
       "\t<tr><th scope=row>5</th><td>25-34</td><td>40-79    </td><td>0-9g/day</td><td>0</td><td>27</td></tr>\n",
       "\t<tr><th scope=row>6</th><td>25-34</td><td>40-79    </td><td>10-19   </td><td>0</td><td> 7</td></tr>\n",
       "</tbody>\n",
       "</table>\n"
      ],
      "text/latex": [
       "A data.frame: 6 × 5\n",
       "\\begin{tabular}{r|lllll}\n",
       "  & agegp & alcgp & tobgp & ncases & ncontrols\\\\\n",
       "  & <ord> & <ord> & <ord> & <dbl> & <dbl>\\\\\n",
       "\\hline\n",
       "\t1 & 25-34 & 0-39g/day & 0-9g/day & 0 & 40\\\\\n",
       "\t2 & 25-34 & 0-39g/day & 10-19    & 0 & 10\\\\\n",
       "\t3 & 25-34 & 0-39g/day & 20-29    & 0 &  6\\\\\n",
       "\t4 & 25-34 & 0-39g/day & 30+      & 0 &  5\\\\\n",
       "\t5 & 25-34 & 40-79     & 0-9g/day & 0 & 27\\\\\n",
       "\t6 & 25-34 & 40-79     & 10-19    & 0 &  7\\\\\n",
       "\\end{tabular}\n"
      ],
      "text/markdown": [
       "\n",
       "A data.frame: 6 × 5\n",
       "\n",
       "| <!--/--> | agegp &lt;ord&gt; | alcgp &lt;ord&gt; | tobgp &lt;ord&gt; | ncases &lt;dbl&gt; | ncontrols &lt;dbl&gt; |\n",
       "|---|---|---|---|---|---|\n",
       "| 1 | 25-34 | 0-39g/day | 0-9g/day | 0 | 40 |\n",
       "| 2 | 25-34 | 0-39g/day | 10-19    | 0 | 10 |\n",
       "| 3 | 25-34 | 0-39g/day | 20-29    | 0 |  6 |\n",
       "| 4 | 25-34 | 0-39g/day | 30+      | 0 |  5 |\n",
       "| 5 | 25-34 | 40-79     | 0-9g/day | 0 | 27 |\n",
       "| 6 | 25-34 | 40-79     | 10-19    | 0 |  7 |\n",
       "\n"
      ],
      "text/plain": [
       "  agegp alcgp     tobgp    ncases ncontrols\n",
       "1 25-34 0-39g/day 0-9g/day 0      40       \n",
       "2 25-34 0-39g/day 10-19    0      10       \n",
       "3 25-34 0-39g/day 20-29    0       6       \n",
       "4 25-34 0-39g/day 30+      0       5       \n",
       "5 25-34 40-79     0-9g/day 0      27       \n",
       "6 25-34 40-79     10-19    0       7       "
      ]
     },
     "metadata": {},
     "output_type": "display_data"
    }
   ],
   "source": [
    "summary(esoph)\n",
    "head(esoph)"
   ]
  },
  {
   "cell_type": "markdown",
   "metadata": {},
   "source": [
    "## Relação entre coluna alcool e controle"
   ]
  },
  {
   "cell_type": "code",
   "execution_count": 47,
   "metadata": {
    "vscode": {
     "languageId": "r"
    }
   },
   "outputs": [
    {
     "data": {
      "image/png": "[encoded data removed]",
      "text/plain": [
       "plot without title"
      ]
     },
     "metadata": {
      "image/png": {
       "height": 420,
       "width": 420
      }
     },
     "output_type": "display_data"
    }
   ],
   "source": [
    "dotplot(alcgp ~ ncontrols, data=esoph)"
   ]
  },
  {
   "cell_type": "markdown",
   "metadata": {},
   "source": [
    "## Coluna alcool e controle em relação a coluna tabaco  "
   ]
  },
  {
   "cell_type": "code",
   "execution_count": 48,
   "metadata": {
    "vscode": {
     "languageId": "r"
    }
   },
   "outputs": [
    {
     "data": {
      "image/png": "[encoded data removed]",
      "text/plain": [
       "plot without title"
      ]
     },
     "metadata": {
      "image/png": {
       "height": 420,
       "width": 420
      }
     },
     "output_type": "display_data"
    }
   ],
   "source": [
    "dotplot(alcgp ~ ncontrols | tobgp, data=esoph)"
   ]
  },
  {
   "cell_type": "markdown",
   "metadata": {},
   "source": [
    "## Matrizes de dispersão | Lattice\n",
    "- splom() -> Gera matrizes com gráficos de dispersão"
   ]
  },
  {
   "cell_type": "code",
   "execution_count": 49,
   "metadata": {
    "vscode": {
     "languageId": "r"
    }
   },
   "outputs": [
    {
     "data": {
      "text/plain": [
       "     Plant             Type         Treatment       conc          uptake     \n",
       " Qn1    : 7   Quebec     :42   nonchilled:42   Min.   :  95   Min.   : 7.70  \n",
       " Qn2    : 7   Mississippi:42   chilled   :42   1st Qu.: 175   1st Qu.:17.90  \n",
       " Qn3    : 7                                    Median : 350   Median :28.30  \n",
       " Qc1    : 7                                    Mean   : 435   Mean   :27.21  \n",
       " Qc3    : 7                                    3rd Qu.: 675   3rd Qu.:37.12  \n",
       " Qc2    : 7                                    Max.   :1000   Max.   :45.50  \n",
       " (Other):42                                                                  "
      ]
     },
     "metadata": {},
     "output_type": "display_data"
    },
    {
     "data": {
      "text/html": [
       "<table class=\"dataframe\">\n",
       "<caption>A nfnGroupedData: 6 × 5</caption>\n",
       "<thead>\n",
       "\t<tr><th></th><th scope=col>Plant</th><th scope=col>Type</th><th scope=col>Treatment</th><th scope=col>conc</th><th scope=col>uptake</th></tr>\n",
       "\t<tr><th></th><th scope=col>&lt;ord&gt;</th><th scope=col>&lt;fct&gt;</th><th scope=col>&lt;fct&gt;</th><th scope=col>&lt;dbl&gt;</th><th scope=col>&lt;dbl&gt;</th></tr>\n",
       "</thead>\n",
       "<tbody>\n",
       "\t<tr><th scope=row>1</th><td>Qn1</td><td>Quebec</td><td>nonchilled</td><td> 95</td><td>16.0</td></tr>\n",
       "\t<tr><th scope=row>2</th><td>Qn1</td><td>Quebec</td><td>nonchilled</td><td>175</td><td>30.4</td></tr>\n",
       "\t<tr><th scope=row>3</th><td>Qn1</td><td>Quebec</td><td>nonchilled</td><td>250</td><td>34.8</td></tr>\n",
       "\t<tr><th scope=row>4</th><td>Qn1</td><td>Quebec</td><td>nonchilled</td><td>350</td><td>37.2</td></tr>\n",
       "\t<tr><th scope=row>5</th><td>Qn1</td><td>Quebec</td><td>nonchilled</td><td>500</td><td>35.3</td></tr>\n",
       "\t<tr><th scope=row>6</th><td>Qn1</td><td>Quebec</td><td>nonchilled</td><td>675</td><td>39.2</td></tr>\n",
       "</tbody>\n",
       "</table>\n"
      ],
      "text/latex": [
       "A nfnGroupedData: 6 × 5\n",
       "\\begin{tabular}{r|lllll}\n",
       "  & Plant & Type & Treatment & conc & uptake\\\\\n",
       "  & <ord> & <fct> & <fct> & <dbl> & <dbl>\\\\\n",
       "\\hline\n",
       "\t1 & Qn1 & Quebec & nonchilled &  95 & 16.0\\\\\n",
       "\t2 & Qn1 & Quebec & nonchilled & 175 & 30.4\\\\\n",
       "\t3 & Qn1 & Quebec & nonchilled & 250 & 34.8\\\\\n",
       "\t4 & Qn1 & Quebec & nonchilled & 350 & 37.2\\\\\n",
       "\t5 & Qn1 & Quebec & nonchilled & 500 & 35.3\\\\\n",
       "\t6 & Qn1 & Quebec & nonchilled & 675 & 39.2\\\\\n",
       "\\end{tabular}\n"
      ],
      "text/markdown": [
       "\n",
       "A nfnGroupedData: 6 × 5\n",
       "\n",
       "| <!--/--> | Plant &lt;ord&gt; | Type &lt;fct&gt; | Treatment &lt;fct&gt; | conc &lt;dbl&gt; | uptake &lt;dbl&gt; |\n",
       "|---|---|---|---|---|---|\n",
       "| 1 | Qn1 | Quebec | nonchilled |  95 | 16.0 |\n",
       "| 2 | Qn1 | Quebec | nonchilled | 175 | 30.4 |\n",
       "| 3 | Qn1 | Quebec | nonchilled | 250 | 34.8 |\n",
       "| 4 | Qn1 | Quebec | nonchilled | 350 | 37.2 |\n",
       "| 5 | Qn1 | Quebec | nonchilled | 500 | 35.3 |\n",
       "| 6 | Qn1 | Quebec | nonchilled | 675 | 39.2 |\n",
       "\n"
      ],
      "text/plain": [
       "  Plant Type   Treatment  conc uptake\n",
       "1 Qn1   Quebec nonchilled  95  16.0  \n",
       "2 Qn1   Quebec nonchilled 175  30.4  \n",
       "3 Qn1   Quebec nonchilled 250  34.8  \n",
       "4 Qn1   Quebec nonchilled 350  37.2  \n",
       "5 Qn1   Quebec nonchilled 500  35.3  \n",
       "6 Qn1   Quebec nonchilled 675  39.2  "
      ]
     },
     "metadata": {},
     "output_type": "display_data"
    }
   ],
   "source": [
    "summary(CO2)\n",
    "head(CO2)"
   ]
  },
  {
   "cell_type": "markdown",
   "metadata": {},
   "source": [
    "## Colunas 4 e 5 (conc e uptake) em relação a coluna Treatment"
   ]
  },
  {
   "cell_type": "code",
   "execution_count": 51,
   "metadata": {
    "vscode": {
     "languageId": "r"
    }
   },
   "outputs": [
    {
     "data": {
      "image/png": "[encoded data removed]",
      "text/plain": [
       "plot without title"
      ]
     },
     "metadata": {
      "image/png": {
       "height": 420,
       "width": 420
      }
     },
     "output_type": "display_data"
    }
   ],
   "source": [
    "splom(~CO2[4:5] | CO2$Treatment, data=CO2)"
   ]
  },
  {
   "cell_type": "markdown",
   "metadata": {},
   "source": [
    "## Gráficos de densidade condicional | Lattice\n",
    "- densityplot() -> Retorna um grafico de densidade\n",
    "- plot.points= -> Exibe os pontos de marcação dos dados"
   ]
  },
  {
   "cell_type": "code",
   "execution_count": 55,
   "metadata": {
    "vscode": {
     "languageId": "r"
    }
   },
   "outputs": [
    {
     "data": {
      "image/png": "[encoded data removed]",
      "text/plain": [
       "plot without title"
      ]
     },
     "metadata": {
      "image/png": {
       "height": 420,
       "width": 420
      }
     },
     "output_type": "display_data"
    },
    {
     "data": {
      "image/png": "[encoded data removed]",
      "text/plain": [
       "plot without title"
      ]
     },
     "metadata": {
      "image/png": {
       "height": 420,
       "width": 420
      }
     },
     "output_type": "display_data"
    }
   ],
   "source": [
    "densityplot(~CO2$conc | CO2$Treatment, data=CO2, plot.points=F)\n",
    "densityplot(~CO2$uptake | CO2$Type, data=CO2, plot.points=T, pch=19, col='purple')"
   ]
  },
  {
   "cell_type": "markdown",
   "metadata": {},
   "source": [
    "## Graficos 3d | Lattice | Db = OrchardSprays\n",
    "- cloud() -> gera um gráfico 3d\n",
    "- ~ -> Sucesse a cota (eixo z)\n",
    "- \\* -> Relaciona abcissa e ordenada (eixos x e y)\n",
    "- groups= -> Indica relação a uma coluna categórica "
   ]
  },
  {
   "cell_type": "code",
   "execution_count": 57,
   "metadata": {
    "vscode": {
     "languageId": "r"
    }
   },
   "outputs": [
    {
     "data": {
      "text/plain": [
       "    decrease          rowpos         colpos       treatment \n",
       " Min.   :  2.00   Min.   :1.00   Min.   :1.00   A      : 8  \n",
       " 1st Qu.: 12.75   1st Qu.:2.75   1st Qu.:2.75   B      : 8  \n",
       " Median : 41.00   Median :4.50   Median :4.50   C      : 8  \n",
       " Mean   : 45.42   Mean   :4.50   Mean   :4.50   D      : 8  \n",
       " 3rd Qu.: 72.00   3rd Qu.:6.25   3rd Qu.:6.25   E      : 8  \n",
       " Max.   :130.00   Max.   :8.00   Max.   :8.00   F      : 8  \n",
       "                                                (Other):16  "
      ]
     },
     "metadata": {},
     "output_type": "display_data"
    },
    {
     "data": {
      "text/html": [
       "<table class=\"dataframe\">\n",
       "<caption>A data.frame: 6 × 4</caption>\n",
       "<thead>\n",
       "\t<tr><th></th><th scope=col>decrease</th><th scope=col>rowpos</th><th scope=col>colpos</th><th scope=col>treatment</th></tr>\n",
       "\t<tr><th></th><th scope=col>&lt;dbl&gt;</th><th scope=col>&lt;dbl&gt;</th><th scope=col>&lt;dbl&gt;</th><th scope=col>&lt;fct&gt;</th></tr>\n",
       "</thead>\n",
       "<tbody>\n",
       "\t<tr><th scope=row>1</th><td>57</td><td>1</td><td>1</td><td>D</td></tr>\n",
       "\t<tr><th scope=row>2</th><td>95</td><td>2</td><td>1</td><td>E</td></tr>\n",
       "\t<tr><th scope=row>3</th><td> 8</td><td>3</td><td>1</td><td>B</td></tr>\n",
       "\t<tr><th scope=row>4</th><td>69</td><td>4</td><td>1</td><td>H</td></tr>\n",
       "\t<tr><th scope=row>5</th><td>92</td><td>5</td><td>1</td><td>G</td></tr>\n",
       "\t<tr><th scope=row>6</th><td>90</td><td>6</td><td>1</td><td>F</td></tr>\n",
       "</tbody>\n",
       "</table>\n"
      ],
      "text/latex": [
       "A data.frame: 6 × 4\n",
       "\\begin{tabular}{r|llll}\n",
       "  & decrease & rowpos & colpos & treatment\\\\\n",
       "  & <dbl> & <dbl> & <dbl> & <fct>\\\\\n",
       "\\hline\n",
       "\t1 & 57 & 1 & 1 & D\\\\\n",
       "\t2 & 95 & 2 & 1 & E\\\\\n",
       "\t3 &  8 & 3 & 1 & B\\\\\n",
       "\t4 & 69 & 4 & 1 & H\\\\\n",
       "\t5 & 92 & 5 & 1 & G\\\\\n",
       "\t6 & 90 & 6 & 1 & F\\\\\n",
       "\\end{tabular}\n"
      ],
      "text/markdown": [
       "\n",
       "A data.frame: 6 × 4\n",
       "\n",
       "| <!--/--> | decrease &lt;dbl&gt; | rowpos &lt;dbl&gt; | colpos &lt;dbl&gt; | treatment &lt;fct&gt; |\n",
       "|---|---|---|---|---|\n",
       "| 1 | 57 | 1 | 1 | D |\n",
       "| 2 | 95 | 2 | 1 | E |\n",
       "| 3 |  8 | 3 | 1 | B |\n",
       "| 4 | 69 | 4 | 1 | H |\n",
       "| 5 | 92 | 5 | 1 | G |\n",
       "| 6 | 90 | 6 | 1 | F |\n",
       "\n"
      ],
      "text/plain": [
       "  decrease rowpos colpos treatment\n",
       "1 57       1      1      D        \n",
       "2 95       2      1      E        \n",
       "3  8       3      1      B        \n",
       "4 69       4      1      H        \n",
       "5 92       5      1      G        \n",
       "6 90       6      1      F        "
      ]
     },
     "metadata": {},
     "output_type": "display_data"
    },
    {
     "data": {
      "text/html": [
       "<style>\n",
       ".dl-inline {width: auto; margin:0; padding: 0}\n",
       ".dl-inline>dt, .dl-inline>dd {float: none; width: auto; display: inline-block}\n",
       ".dl-inline>dt::after {content: \":\\0020\"; padding-right: .5ex}\n",
       ".dl-inline>dt:not(:first-of-type) {padding-left: .5ex}\n",
       "</style><dl class=dl-inline><dt>A</dt><dd>8</dd><dt>B</dt><dd>8</dd><dt>C</dt><dd>8</dd><dt>D</dt><dd>8</dd><dt>E</dt><dd>8</dd><dt>F</dt><dd>8</dd><dt>G</dt><dd>8</dd><dt>H</dt><dd>8</dd></dl>\n"
      ],
      "text/latex": [
       "\\begin{description*}\n",
       "\\item[A] 8\n",
       "\\item[B] 8\n",
       "\\item[C] 8\n",
       "\\item[D] 8\n",
       "\\item[E] 8\n",
       "\\item[F] 8\n",
       "\\item[G] 8\n",
       "\\item[H] 8\n",
       "\\end{description*}\n"
      ],
      "text/markdown": [
       "A\n",
       ":   8B\n",
       ":   8C\n",
       ":   8D\n",
       ":   8E\n",
       ":   8F\n",
       ":   8G\n",
       ":   8H\n",
       ":   8\n",
       "\n"
      ],
      "text/plain": [
       "A B C D E F G H \n",
       "8 8 8 8 8 8 8 8 "
      ]
     },
     "metadata": {},
     "output_type": "display_data"
    }
   ],
   "source": [
    "summary(OrchardSprays)\n",
    "head(OrchardSprays)\n",
    "summary(OrchardSprays$treatment)"
   ]
  },
  {
   "cell_type": "code",
   "execution_count": 65,
   "metadata": {
    "vscode": {
     "languageId": "r"
    }
   },
   "outputs": [
    {
     "data": {
      "image/png": "[encoded data removed]",
      "text/plain": [
       "plot without title"
      ]
     },
     "metadata": {
      "image/png": {
       "height": 420,
       "width": 420
      }
     },
     "output_type": "display_data"
    }
   ],
   "source": [
    "cloud(decrease ~ rowpos * colpos, groups=treatment, data=OrchardSprays, pch=19)"
   ]
  },
  {
   "cell_type": "code",
   "execution_count": 69,
   "metadata": {
    "vscode": {
     "languageId": "r"
    }
   },
   "outputs": [
    {
     "data": {
      "image/png": "[encoded data removed]",
      "text/plain": [
       "plot without title"
      ]
     },
     "metadata": {
      "image/png": {
       "height": 420,
       "width": 420
      }
     },
     "output_type": "display_data"
    }
   ],
   "source": [
    "cloud(Girth ~ Height * Volume, data=trees, pch=19)"
   ]
  },
  {
   "cell_type": "markdown",
   "metadata": {},
   "source": [
    "## Gráficos com level | Lattice\n",
    "- levelplot() -> retorna um grafico com 'level'. utiliza a cota (eixo z) como\n",
    "densidade"
   ]
  },
  {
   "cell_type": "code",
   "execution_count": 66,
   "metadata": {
    "vscode": {
     "languageId": "r"
    }
   },
   "outputs": [
    {
     "data": {
      "text/plain": [
       "     Girth           Height       Volume     \n",
       " Min.   : 8.30   Min.   :63   Min.   :10.20  \n",
       " 1st Qu.:11.05   1st Qu.:72   1st Qu.:19.40  \n",
       " Median :12.90   Median :76   Median :24.20  \n",
       " Mean   :13.25   Mean   :76   Mean   :30.17  \n",
       " 3rd Qu.:15.25   3rd Qu.:80   3rd Qu.:37.30  \n",
       " Max.   :20.60   Max.   :87   Max.   :77.00  "
      ]
     },
     "metadata": {},
     "output_type": "display_data"
    },
    {
     "data": {
      "text/html": [
       "<table class=\"dataframe\">\n",
       "<caption>A data.frame: 6 × 3</caption>\n",
       "<thead>\n",
       "\t<tr><th></th><th scope=col>Girth</th><th scope=col>Height</th><th scope=col>Volume</th></tr>\n",
       "\t<tr><th></th><th scope=col>&lt;dbl&gt;</th><th scope=col>&lt;dbl&gt;</th><th scope=col>&lt;dbl&gt;</th></tr>\n",
       "</thead>\n",
       "<tbody>\n",
       "\t<tr><th scope=row>1</th><td> 8.3</td><td>70</td><td>10.3</td></tr>\n",
       "\t<tr><th scope=row>2</th><td> 8.6</td><td>65</td><td>10.3</td></tr>\n",
       "\t<tr><th scope=row>3</th><td> 8.8</td><td>63</td><td>10.2</td></tr>\n",
       "\t<tr><th scope=row>4</th><td>10.5</td><td>72</td><td>16.4</td></tr>\n",
       "\t<tr><th scope=row>5</th><td>10.7</td><td>81</td><td>18.8</td></tr>\n",
       "\t<tr><th scope=row>6</th><td>10.8</td><td>83</td><td>19.7</td></tr>\n",
       "</tbody>\n",
       "</table>\n"
      ],
      "text/latex": [
       "A data.frame: 6 × 3\n",
       "\\begin{tabular}{r|lll}\n",
       "  & Girth & Height & Volume\\\\\n",
       "  & <dbl> & <dbl> & <dbl>\\\\\n",
       "\\hline\n",
       "\t1 &  8.3 & 70 & 10.3\\\\\n",
       "\t2 &  8.6 & 65 & 10.3\\\\\n",
       "\t3 &  8.8 & 63 & 10.2\\\\\n",
       "\t4 & 10.5 & 72 & 16.4\\\\\n",
       "\t5 & 10.7 & 81 & 18.8\\\\\n",
       "\t6 & 10.8 & 83 & 19.7\\\\\n",
       "\\end{tabular}\n"
      ],
      "text/markdown": [
       "\n",
       "A data.frame: 6 × 3\n",
       "\n",
       "| <!--/--> | Girth &lt;dbl&gt; | Height &lt;dbl&gt; | Volume &lt;dbl&gt; |\n",
       "|---|---|---|---|\n",
       "| 1 |  8.3 | 70 | 10.3 |\n",
       "| 2 |  8.6 | 65 | 10.3 |\n",
       "| 3 |  8.8 | 63 | 10.2 |\n",
       "| 4 | 10.5 | 72 | 16.4 |\n",
       "| 5 | 10.7 | 81 | 18.8 |\n",
       "| 6 | 10.8 | 83 | 19.7 |\n",
       "\n"
      ],
      "text/plain": [
       "  Girth Height Volume\n",
       "1  8.3  70     10.3  \n",
       "2  8.6  65     10.3  \n",
       "3  8.8  63     10.2  \n",
       "4 10.5  72     16.4  \n",
       "5 10.7  81     18.8  \n",
       "6 10.8  83     19.7  "
      ]
     },
     "metadata": {},
     "output_type": "display_data"
    }
   ],
   "source": [
    "summary(trees)\n",
    "head(trees)"
   ]
  },
  {
   "cell_type": "code",
   "execution_count": 67,
   "metadata": {
    "vscode": {
     "languageId": "r"
    }
   },
   "outputs": [
    {
     "data": {
      "image/png": "[encoded data removed]",
      "text/plain": [
       "plot without title"
      ]
     },
     "metadata": {
      "image/png": {
       "height": 420,
       "width": 420
      }
     },
     "output_type": "display_data"
    }
   ],
   "source": [
    "levelplot(Girth ~ Height * Volume, data=trees)"
   ]
  }
 ],
 "metadata": {
  "kernelspec": {
   "display_name": "R",
   "language": "R",
   "name": "ir"
  },
  "language_info": {
   "codemirror_mode": "r",
   "file_extension": ".r",
   "mimetype": "text/x-r-source",
   "name": "R",
   "pygments_lexer": "r",
   "version": "4.3.2"
  }
 },
 "nbformat": 4,
 "nbformat_minor": 2
}
