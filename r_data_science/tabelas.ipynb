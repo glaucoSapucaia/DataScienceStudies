{
 "cells": [
  {
   "cell_type": "markdown",
   "metadata": {},
   "source": [
    "## Use stargazer library\n",
    "- install.packages('stargazer')\n",
    "- library(stargazer)"
   ]
  },
  {
   "cell_type": "code",
   "execution_count": 1,
   "metadata": {
    "vscode": {
     "languageId": "r"
    }
   },
   "outputs": [
    {
     "name": "stderr",
     "output_type": "stream",
     "text": [
      "\n",
      "Please cite as: \n",
      "\n",
      "\n",
      " Hlavac, Marek (2022). stargazer: Well-Formatted Regression and Summary Statistics Tables.\n",
      "\n",
      " R package version 5.2.3. https://CRAN.R-project.org/package=stargazer \n",
      "\n",
      "\n"
     ]
    }
   ],
   "source": [
    "library(stargazer)"
   ]
  },
  {
   "cell_type": "code",
   "execution_count": 2,
   "metadata": {
    "vscode": {
     "languageId": "r"
    }
   },
   "outputs": [
    {
     "data": {
      "text/plain": [
       "  Sepal.Length    Sepal.Width     Petal.Length    Petal.Width   \n",
       " Min.   :4.300   Min.   :2.000   Min.   :1.000   Min.   :0.100  \n",
       " 1st Qu.:5.100   1st Qu.:2.800   1st Qu.:1.600   1st Qu.:0.300  \n",
       " Median :5.800   Median :3.000   Median :4.350   Median :1.300  \n",
       " Mean   :5.843   Mean   :3.057   Mean   :3.758   Mean   :1.199  \n",
       " 3rd Qu.:6.400   3rd Qu.:3.300   3rd Qu.:5.100   3rd Qu.:1.800  \n",
       " Max.   :7.900   Max.   :4.400   Max.   :6.900   Max.   :2.500  \n",
       "       Species  \n",
       " setosa    :50  \n",
       " versicolor:50  \n",
       " virginica :50  \n",
       "                \n",
       "                \n",
       "                "
      ]
     },
     "metadata": {},
     "output_type": "display_data"
    },
    {
     "data": {
      "text/html": [
       "<table class=\"dataframe\">\n",
       "<caption>A data.frame: 6 × 5</caption>\n",
       "<thead>\n",
       "\t<tr><th></th><th scope=col>Sepal.Length</th><th scope=col>Sepal.Width</th><th scope=col>Petal.Length</th><th scope=col>Petal.Width</th><th scope=col>Species</th></tr>\n",
       "\t<tr><th></th><th scope=col>&lt;dbl&gt;</th><th scope=col>&lt;dbl&gt;</th><th scope=col>&lt;dbl&gt;</th><th scope=col>&lt;dbl&gt;</th><th scope=col>&lt;fct&gt;</th></tr>\n",
       "</thead>\n",
       "<tbody>\n",
       "\t<tr><th scope=row>1</th><td>5.1</td><td>3.5</td><td>1.4</td><td>0.2</td><td>setosa</td></tr>\n",
       "\t<tr><th scope=row>2</th><td>4.9</td><td>3.0</td><td>1.4</td><td>0.2</td><td>setosa</td></tr>\n",
       "\t<tr><th scope=row>3</th><td>4.7</td><td>3.2</td><td>1.3</td><td>0.2</td><td>setosa</td></tr>\n",
       "\t<tr><th scope=row>4</th><td>4.6</td><td>3.1</td><td>1.5</td><td>0.2</td><td>setosa</td></tr>\n",
       "\t<tr><th scope=row>5</th><td>5.0</td><td>3.6</td><td>1.4</td><td>0.2</td><td>setosa</td></tr>\n",
       "\t<tr><th scope=row>6</th><td>5.4</td><td>3.9</td><td>1.7</td><td>0.4</td><td>setosa</td></tr>\n",
       "</tbody>\n",
       "</table>\n"
      ],
      "text/latex": [
       "A data.frame: 6 × 5\n",
       "\\begin{tabular}{r|lllll}\n",
       "  & Sepal.Length & Sepal.Width & Petal.Length & Petal.Width & Species\\\\\n",
       "  & <dbl> & <dbl> & <dbl> & <dbl> & <fct>\\\\\n",
       "\\hline\n",
       "\t1 & 5.1 & 3.5 & 1.4 & 0.2 & setosa\\\\\n",
       "\t2 & 4.9 & 3.0 & 1.4 & 0.2 & setosa\\\\\n",
       "\t3 & 4.7 & 3.2 & 1.3 & 0.2 & setosa\\\\\n",
       "\t4 & 4.6 & 3.1 & 1.5 & 0.2 & setosa\\\\\n",
       "\t5 & 5.0 & 3.6 & 1.4 & 0.2 & setosa\\\\\n",
       "\t6 & 5.4 & 3.9 & 1.7 & 0.4 & setosa\\\\\n",
       "\\end{tabular}\n"
      ],
      "text/markdown": [
       "\n",
       "A data.frame: 6 × 5\n",
       "\n",
       "| <!--/--> | Sepal.Length &lt;dbl&gt; | Sepal.Width &lt;dbl&gt; | Petal.Length &lt;dbl&gt; | Petal.Width &lt;dbl&gt; | Species &lt;fct&gt; |\n",
       "|---|---|---|---|---|---|\n",
       "| 1 | 5.1 | 3.5 | 1.4 | 0.2 | setosa |\n",
       "| 2 | 4.9 | 3.0 | 1.4 | 0.2 | setosa |\n",
       "| 3 | 4.7 | 3.2 | 1.3 | 0.2 | setosa |\n",
       "| 4 | 4.6 | 3.1 | 1.5 | 0.2 | setosa |\n",
       "| 5 | 5.0 | 3.6 | 1.4 | 0.2 | setosa |\n",
       "| 6 | 5.4 | 3.9 | 1.7 | 0.4 | setosa |\n",
       "\n"
      ],
      "text/plain": [
       "  Sepal.Length Sepal.Width Petal.Length Petal.Width Species\n",
       "1 5.1          3.5         1.4          0.2         setosa \n",
       "2 4.9          3.0         1.4          0.2         setosa \n",
       "3 4.7          3.2         1.3          0.2         setosa \n",
       "4 4.6          3.1         1.5          0.2         setosa \n",
       "5 5.0          3.6         1.4          0.2         setosa \n",
       "6 5.4          3.9         1.7          0.4         setosa "
      ]
     },
     "metadata": {},
     "output_type": "display_data"
    }
   ],
   "source": [
    "summary(iris)\n",
    "head(iris)"
   ]
  },
  {
   "cell_type": "markdown",
   "metadata": {},
   "source": [
    "## LaTex\n",
    "- stargazer() -> Retorna LaTex\n",
    "- type= -> Retorna outra linguagem de marcação | 'html', 'text', etc..."
   ]
  },
  {
   "cell_type": "code",
   "execution_count": 7,
   "metadata": {
    "vscode": {
     "languageId": "r"
    }
   },
   "outputs": [
    {
     "name": "stdout",
     "output_type": "stream",
     "text": [
      "\n",
      "% Table created by stargazer v.5.2.3 by Marek Hlavac, Social Policy Institute. E-mail: marek.hlavac at gmail.com\n",
      "% Date and time: sáb, jan 13, 2024 - 14:18:02\n",
      "\\begin{table}[!htbp] \\centering \n",
      "  \\caption{} \n",
      "  \\label{} \n",
      "\\begin{tabular}{@{\\extracolsep{5pt}}lccccc} \n",
      "\\\\[-1.8ex]\\hline \n",
      "\\hline \\\\[-1.8ex] \n",
      "Statistic & \\multicolumn{1}{c}{N} & \\multicolumn{1}{c}{Mean} & \\multicolumn{1}{c}{St. Dev.} & \\multicolumn{1}{c}{Min} & \\multicolumn{1}{c}{Max} \\\\ \n",
      "\\hline \\\\[-1.8ex] \n",
      "Sepal.Length & 150 & 5.843 & 0.828 & 4.300 & 7.900 \\\\ \n",
      "Sepal.Width & 150 & 3.057 & 0.436 & 2.000 & 4.400 \\\\ \n",
      "Petal.Length & 150 & 3.758 & 1.765 & 1.000 & 6.900 \\\\ \n",
      "Petal.Width & 150 & 1.199 & 0.762 & 0.100 & 2.500 \\\\ \n",
      "\\hline \\\\[-1.8ex] \n",
      "\\end{tabular} \n",
      "\\end{table} \n",
      "\n",
      "<table style=\"text-align:center\"><tr><td colspan=\"6\" style=\"border-bottom: 1px solid black\"></td></tr><tr><td style=\"text-align:left\">Statistic</td><td>N</td><td>Mean</td><td>St. Dev.</td><td>Min</td><td>Max</td></tr>\n",
      "<tr><td colspan=\"6\" style=\"border-bottom: 1px solid black\"></td></tr><tr><td style=\"text-align:left\">Sepal.Length</td><td>150</td><td>5.843</td><td>0.828</td><td>4.300</td><td>7.900</td></tr>\n",
      "<tr><td style=\"text-align:left\">Sepal.Width</td><td>150</td><td>3.057</td><td>0.436</td><td>2.000</td><td>4.400</td></tr>\n",
      "<tr><td style=\"text-align:left\">Petal.Length</td><td>150</td><td>3.758</td><td>1.765</td><td>1.000</td><td>6.900</td></tr>\n",
      "<tr><td style=\"text-align:left\">Petal.Width</td><td>150</td><td>1.199</td><td>0.762</td><td>0.100</td><td>2.500</td></tr>\n",
      "<tr><td colspan=\"6\" style=\"border-bottom: 1px solid black\"></td></tr></table>\n"
     ]
    }
   ],
   "source": [
    "stargazer(iris)\n",
    "stargazer(iris, type='html')"
   ]
  },
  {
   "cell_type": "code",
   "execution_count": 8,
   "metadata": {
    "vscode": {
     "languageId": "r"
    }
   },
   "outputs": [
    {
     "name": "stdout",
     "output_type": "stream",
     "text": [
      "\n",
      "===========================================\n",
      "Statistic     N  Mean  St. Dev.  Min   Max \n",
      "-------------------------------------------\n",
      "Sepal.Length 150 5.843  0.828   4.300 7.900\n",
      "Sepal.Width  150 3.057  0.436   2.000 4.400\n",
      "Petal.Length 150 3.758  1.765   1.000 6.900\n",
      "Petal.Width  150 1.199  0.762   0.100 2.500\n",
      "-------------------------------------------\n"
     ]
    }
   ],
   "source": [
    "stargazer(iris, type='text')"
   ]
  },
  {
   "cell_type": "markdown",
   "metadata": {},
   "source": [
    "## Db = women | Criando arquivo de dados\n",
    "- out= -> Nome  e extensão do arquivo\n",
    "- summary= -> Inclui ou não o sumário"
   ]
  },
  {
   "cell_type": "code",
   "execution_count": 9,
   "metadata": {
    "vscode": {
     "languageId": "r"
    }
   },
   "outputs": [
    {
     "data": {
      "text/plain": [
       "     height         weight     \n",
       " Min.   :58.0   Min.   :115.0  \n",
       " 1st Qu.:61.5   1st Qu.:124.5  \n",
       " Median :65.0   Median :135.0  \n",
       " Mean   :65.0   Mean   :136.7  \n",
       " 3rd Qu.:68.5   3rd Qu.:148.0  \n",
       " Max.   :72.0   Max.   :164.0  "
      ]
     },
     "metadata": {},
     "output_type": "display_data"
    },
    {
     "data": {
      "text/html": [
       "<table class=\"dataframe\">\n",
       "<caption>A data.frame: 6 × 2</caption>\n",
       "<thead>\n",
       "\t<tr><th></th><th scope=col>height</th><th scope=col>weight</th></tr>\n",
       "\t<tr><th></th><th scope=col>&lt;dbl&gt;</th><th scope=col>&lt;dbl&gt;</th></tr>\n",
       "</thead>\n",
       "<tbody>\n",
       "\t<tr><th scope=row>1</th><td>58</td><td>115</td></tr>\n",
       "\t<tr><th scope=row>2</th><td>59</td><td>117</td></tr>\n",
       "\t<tr><th scope=row>3</th><td>60</td><td>120</td></tr>\n",
       "\t<tr><th scope=row>4</th><td>61</td><td>123</td></tr>\n",
       "\t<tr><th scope=row>5</th><td>62</td><td>126</td></tr>\n",
       "\t<tr><th scope=row>6</th><td>63</td><td>129</td></tr>\n",
       "</tbody>\n",
       "</table>\n"
      ],
      "text/latex": [
       "A data.frame: 6 × 2\n",
       "\\begin{tabular}{r|ll}\n",
       "  & height & weight\\\\\n",
       "  & <dbl> & <dbl>\\\\\n",
       "\\hline\n",
       "\t1 & 58 & 115\\\\\n",
       "\t2 & 59 & 117\\\\\n",
       "\t3 & 60 & 120\\\\\n",
       "\t4 & 61 & 123\\\\\n",
       "\t5 & 62 & 126\\\\\n",
       "\t6 & 63 & 129\\\\\n",
       "\\end{tabular}\n"
      ],
      "text/markdown": [
       "\n",
       "A data.frame: 6 × 2\n",
       "\n",
       "| <!--/--> | height &lt;dbl&gt; | weight &lt;dbl&gt; |\n",
       "|---|---|---|\n",
       "| 1 | 58 | 115 |\n",
       "| 2 | 59 | 117 |\n",
       "| 3 | 60 | 120 |\n",
       "| 4 | 61 | 123 |\n",
       "| 5 | 62 | 126 |\n",
       "| 6 | 63 | 129 |\n",
       "\n"
      ],
      "text/plain": [
       "  height weight\n",
       "1 58     115   \n",
       "2 59     117   \n",
       "3 60     120   \n",
       "4 61     123   \n",
       "5 62     126   \n",
       "6 63     129   "
      ]
     },
     "metadata": {},
     "output_type": "display_data"
    }
   ],
   "source": [
    "summary(women)\n",
    "head(women)"
   ]
  },
  {
   "cell_type": "code",
   "execution_count": 10,
   "metadata": {
    "vscode": {
     "languageId": "r"
    }
   },
   "outputs": [
    {
     "name": "stdout",
     "output_type": "stream",
     "text": [
      "\n",
      "=====================================\n",
      "Statistic N   Mean   St. Dev. Min Max\n",
      "-------------------------------------\n",
      "height    15 65.000   4.472   58  72 \n",
      "weight    15 136.733  15.499  115 164\n",
      "-------------------------------------\n"
     ]
    }
   ],
   "source": [
    "stargazer(women, type='text')"
   ]
  },
  {
   "cell_type": "code",
   "execution_count": 11,
   "metadata": {
    "vscode": {
     "languageId": "r"
    }
   },
   "outputs": [
    {
     "name": "stdout",
     "output_type": "stream",
     "text": [
      "\n",
      "% Table created by stargazer v.5.2.3 by Marek Hlavac, Social Policy Institute. E-mail: marek.hlavac at gmail.com\n",
      "% Date and time: sáb, jan 13, 2024 - 14:20:40\n",
      "\\begin{table}[!htbp] \\centering \n",
      "  \\caption{} \n",
      "  \\label{} \n",
      "\\begin{tabular}{@{\\extracolsep{5pt}}lccccc} \n",
      "\\\\[-1.8ex]\\hline \n",
      "\\hline \\\\[-1.8ex] \n",
      "Statistic & \\multicolumn{1}{c}{N} & \\multicolumn{1}{c}{Mean} & \\multicolumn{1}{c}{St. Dev.} & \\multicolumn{1}{c}{Min} & \\multicolumn{1}{c}{Max} \\\\ \n",
      "\\hline \\\\[-1.8ex] \n",
      "height & 15 & 65.000 & 4.472 & 58 & 72 \\\\ \n",
      "weight & 15 & 136.733 & 15.499 & 115 & 164 \\\\ \n",
      "\\hline \\\\[-1.8ex] \n",
      "\\end{tabular} \n",
      "\\end{table} \n"
     ]
    }
   ],
   "source": [
    "stargazer(women, out='women.txt')"
   ]
  },
  {
   "cell_type": "code",
   "execution_count": 12,
   "metadata": {
    "vscode": {
     "languageId": "r"
    }
   },
   "outputs": [
    {
     "name": "stdout",
     "output_type": "stream",
     "text": [
      "\n",
      "% Table created by stargazer v.5.2.3 by Marek Hlavac, Social Policy Institute. E-mail: marek.hlavac at gmail.com\n",
      "% Date and time: sáb, jan 13, 2024 - 14:21:21\n",
      "\\begin{table}[!htbp] \\centering \n",
      "  \\caption{} \n",
      "  \\label{} \n",
      "\\begin{tabular}{@{\\extracolsep{5pt}} ccc} \n",
      "\\\\[-1.8ex]\\hline \n",
      "\\hline \\\\[-1.8ex] \n",
      " & height & weight \\\\ \n",
      "\\hline \\\\[-1.8ex] \n",
      "1 & $58$ & $115$ \\\\ \n",
      "2 & $59$ & $117$ \\\\ \n",
      "3 & $60$ & $120$ \\\\ \n",
      "4 & $61$ & $123$ \\\\ \n",
      "5 & $62$ & $126$ \\\\ \n",
      "6 & $63$ & $129$ \\\\ \n",
      "7 & $64$ & $132$ \\\\ \n",
      "8 & $65$ & $135$ \\\\ \n",
      "9 & $66$ & $139$ \\\\ \n",
      "10 & $67$ & $142$ \\\\ \n",
      "11 & $68$ & $146$ \\\\ \n",
      "12 & $69$ & $150$ \\\\ \n",
      "13 & $70$ & $154$ \\\\ \n",
      "14 & $71$ & $159$ \\\\ \n",
      "15 & $72$ & $164$ \\\\ \n",
      "\\hline \\\\[-1.8ex] \n",
      "\\end{tabular} \n",
      "\\end{table} \n"
     ]
    }
   ],
   "source": [
    "stargazer(women, out='women_non_summary.txt', summary=F)"
   ]
  }
 ],
 "metadata": {
  "kernelspec": {
   "display_name": "R",
   "language": "R",
   "name": "ir"
  },
  "language_info": {
   "codemirror_mode": "r",
   "file_extension": ".r",
   "mimetype": "text/x-r-source",
   "name": "R",
   "pygments_lexer": "r",
   "version": "4.3.2"
  }
 },
 "nbformat": 4,
 "nbformat_minor": 2
}
