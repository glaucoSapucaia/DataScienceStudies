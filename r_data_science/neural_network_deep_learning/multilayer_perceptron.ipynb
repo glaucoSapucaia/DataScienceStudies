{
 "cells": [
  {
   "cell_type": "markdown",
   "metadata": {},
   "source": [
    "## Packages\n",
    "- install.packages('neuralnet')\n",
    "- install.packages('caret')\n",
    "- install.packages('data.table')\n",
    "- install.packages('mltools')\n",
    "- install.packages('NeuralNetTools')"
   ]
  },
  {
   "cell_type": "code",
   "execution_count": 107,
   "metadata": {
    "vscode": {
     "languageId": "r"
    }
   },
   "outputs": [
    {
     "data": {
      "text/html": [
       "<style>\n",
       ".list-inline {list-style: none; margin:0; padding: 0}\n",
       ".list-inline>li {display: inline-block}\n",
       ".list-inline>li:not(:last-child)::after {content: \"\\00b7\"; padding: 0 .5ex}\n",
       "</style>\n",
       "<ol class=list-inline><li>150</li><li>5</li></ol>\n"
      ],
      "text/latex": [
       "\\begin{enumerate*}\n",
       "\\item 150\n",
       "\\item 5\n",
       "\\end{enumerate*}\n"
      ],
      "text/markdown": [
       "1. 150\n",
       "2. 5\n",
       "\n",
       "\n"
      ],
      "text/plain": [
       "[1] 150   5"
      ]
     },
     "metadata": {},
     "output_type": "display_data"
    },
    {
     "data": {
      "text/html": [
       "<table class=\"dataframe\">\n",
       "<caption>A data.frame: 6 × 5</caption>\n",
       "<thead>\n",
       "\t<tr><th></th><th scope=col>Sepal.Length</th><th scope=col>Sepal.Width</th><th scope=col>Petal.Length</th><th scope=col>Petal.Width</th><th scope=col>Species</th></tr>\n",
       "\t<tr><th></th><th scope=col>&lt;dbl&gt;</th><th scope=col>&lt;dbl&gt;</th><th scope=col>&lt;dbl&gt;</th><th scope=col>&lt;dbl&gt;</th><th scope=col>&lt;fct&gt;</th></tr>\n",
       "</thead>\n",
       "<tbody>\n",
       "\t<tr><th scope=row>1</th><td>5.1</td><td>3.5</td><td>1.4</td><td>0.2</td><td>setosa</td></tr>\n",
       "\t<tr><th scope=row>2</th><td>4.9</td><td>3.0</td><td>1.4</td><td>0.2</td><td>setosa</td></tr>\n",
       "\t<tr><th scope=row>3</th><td>4.7</td><td>3.2</td><td>1.3</td><td>0.2</td><td>setosa</td></tr>\n",
       "\t<tr><th scope=row>4</th><td>4.6</td><td>3.1</td><td>1.5</td><td>0.2</td><td>setosa</td></tr>\n",
       "\t<tr><th scope=row>5</th><td>5.0</td><td>3.6</td><td>1.4</td><td>0.2</td><td>setosa</td></tr>\n",
       "\t<tr><th scope=row>6</th><td>5.4</td><td>3.9</td><td>1.7</td><td>0.4</td><td>setosa</td></tr>\n",
       "</tbody>\n",
       "</table>\n"
      ],
      "text/latex": [
       "A data.frame: 6 × 5\n",
       "\\begin{tabular}{r|lllll}\n",
       "  & Sepal.Length & Sepal.Width & Petal.Length & Petal.Width & Species\\\\\n",
       "  & <dbl> & <dbl> & <dbl> & <dbl> & <fct>\\\\\n",
       "\\hline\n",
       "\t1 & 5.1 & 3.5 & 1.4 & 0.2 & setosa\\\\\n",
       "\t2 & 4.9 & 3.0 & 1.4 & 0.2 & setosa\\\\\n",
       "\t3 & 4.7 & 3.2 & 1.3 & 0.2 & setosa\\\\\n",
       "\t4 & 4.6 & 3.1 & 1.5 & 0.2 & setosa\\\\\n",
       "\t5 & 5.0 & 3.6 & 1.4 & 0.2 & setosa\\\\\n",
       "\t6 & 5.4 & 3.9 & 1.7 & 0.4 & setosa\\\\\n",
       "\\end{tabular}\n"
      ],
      "text/markdown": [
       "\n",
       "A data.frame: 6 × 5\n",
       "\n",
       "| <!--/--> | Sepal.Length &lt;dbl&gt; | Sepal.Width &lt;dbl&gt; | Petal.Length &lt;dbl&gt; | Petal.Width &lt;dbl&gt; | Species &lt;fct&gt; |\n",
       "|---|---|---|---|---|---|\n",
       "| 1 | 5.1 | 3.5 | 1.4 | 0.2 | setosa |\n",
       "| 2 | 4.9 | 3.0 | 1.4 | 0.2 | setosa |\n",
       "| 3 | 4.7 | 3.2 | 1.3 | 0.2 | setosa |\n",
       "| 4 | 4.6 | 3.1 | 1.5 | 0.2 | setosa |\n",
       "| 5 | 5.0 | 3.6 | 1.4 | 0.2 | setosa |\n",
       "| 6 | 5.4 | 3.9 | 1.7 | 0.4 | setosa |\n",
       "\n"
      ],
      "text/plain": [
       "  Sepal.Length Sepal.Width Petal.Length Petal.Width Species\n",
       "1 5.1          3.5         1.4          0.2         setosa \n",
       "2 4.9          3.0         1.4          0.2         setosa \n",
       "3 4.7          3.2         1.3          0.2         setosa \n",
       "4 4.6          3.1         1.5          0.2         setosa \n",
       "5 5.0          3.6         1.4          0.2         setosa \n",
       "6 5.4          3.9         1.7          0.4         setosa "
      ]
     },
     "metadata": {},
     "output_type": "display_data"
    },
    {
     "data": {
      "text/plain": [
       "  Sepal.Length    Sepal.Width     Petal.Length    Petal.Width   \n",
       " Min.   :4.300   Min.   :2.000   Min.   :1.000   Min.   :0.100  \n",
       " 1st Qu.:5.100   1st Qu.:2.800   1st Qu.:1.600   1st Qu.:0.300  \n",
       " Median :5.800   Median :3.000   Median :4.350   Median :1.300  \n",
       " Mean   :5.843   Mean   :3.057   Mean   :3.758   Mean   :1.199  \n",
       " 3rd Qu.:6.400   3rd Qu.:3.300   3rd Qu.:5.100   3rd Qu.:1.800  \n",
       " Max.   :7.900   Max.   :4.400   Max.   :6.900   Max.   :2.500  \n",
       "       Species  \n",
       " setosa    :50  \n",
       " versicolor:50  \n",
       " virginica :50  \n",
       "                \n",
       "                \n",
       "                "
      ]
     },
     "metadata": {},
     "output_type": "display_data"
    }
   ],
   "source": [
    "library(mltools)\n",
    "library(data.table)\n",
    "library(neuralnet)\n",
    "library(caret)\n",
    "library(NeuralNetTools)\n",
    "\n",
    "dim(iris)\n",
    "head(iris)\n",
    "summary(iris)"
   ]
  },
  {
   "cell_type": "markdown",
   "metadata": {},
   "source": [
    "## Dimensionamento de Caracteristicas - Padronização"
   ]
  },
  {
   "cell_type": "code",
   "execution_count": 108,
   "metadata": {
    "vscode": {
     "languageId": "r"
    }
   },
   "outputs": [
    {
     "data": {
      "text/html": [
       "<table class=\"dataframe\">\n",
       "<caption>A matrix: 6 × 4 of type dbl</caption>\n",
       "<thead>\n",
       "\t<tr><th scope=col>Sepal.Length</th><th scope=col>Sepal.Width</th><th scope=col>Petal.Length</th><th scope=col>Petal.Width</th></tr>\n",
       "</thead>\n",
       "<tbody>\n",
       "\t<tr><td>-0.8976739</td><td> 1.01560199</td><td>-1.335752</td><td>-1.311052</td></tr>\n",
       "\t<tr><td>-1.1392005</td><td>-0.13153881</td><td>-1.335752</td><td>-1.311052</td></tr>\n",
       "\t<tr><td>-1.3807271</td><td> 0.32731751</td><td>-1.392399</td><td>-1.311052</td></tr>\n",
       "\t<tr><td>-1.5014904</td><td> 0.09788935</td><td>-1.279104</td><td>-1.311052</td></tr>\n",
       "\t<tr><td>-1.0184372</td><td> 1.24503015</td><td>-1.335752</td><td>-1.311052</td></tr>\n",
       "\t<tr><td>-0.5353840</td><td> 1.93331463</td><td>-1.165809</td><td>-1.048667</td></tr>\n",
       "</tbody>\n",
       "</table>\n"
      ],
      "text/latex": [
       "A matrix: 6 × 4 of type dbl\n",
       "\\begin{tabular}{llll}\n",
       " Sepal.Length & Sepal.Width & Petal.Length & Petal.Width\\\\\n",
       "\\hline\n",
       "\t -0.8976739 &  1.01560199 & -1.335752 & -1.311052\\\\\n",
       "\t -1.1392005 & -0.13153881 & -1.335752 & -1.311052\\\\\n",
       "\t -1.3807271 &  0.32731751 & -1.392399 & -1.311052\\\\\n",
       "\t -1.5014904 &  0.09788935 & -1.279104 & -1.311052\\\\\n",
       "\t -1.0184372 &  1.24503015 & -1.335752 & -1.311052\\\\\n",
       "\t -0.5353840 &  1.93331463 & -1.165809 & -1.048667\\\\\n",
       "\\end{tabular}\n"
      ],
      "text/markdown": [
       "\n",
       "A matrix: 6 × 4 of type dbl\n",
       "\n",
       "| Sepal.Length | Sepal.Width | Petal.Length | Petal.Width |\n",
       "|---|---|---|---|\n",
       "| -0.8976739 |  1.01560199 | -1.335752 | -1.311052 |\n",
       "| -1.1392005 | -0.13153881 | -1.335752 | -1.311052 |\n",
       "| -1.3807271 |  0.32731751 | -1.392399 | -1.311052 |\n",
       "| -1.5014904 |  0.09788935 | -1.279104 | -1.311052 |\n",
       "| -1.0184372 |  1.24503015 | -1.335752 | -1.311052 |\n",
       "| -0.5353840 |  1.93331463 | -1.165809 | -1.048667 |\n",
       "\n"
      ],
      "text/plain": [
       "     Sepal.Length Sepal.Width Petal.Length Petal.Width\n",
       "[1,] -0.8976739    1.01560199 -1.335752    -1.311052  \n",
       "[2,] -1.1392005   -0.13153881 -1.335752    -1.311052  \n",
       "[3,] -1.3807271    0.32731751 -1.392399    -1.311052  \n",
       "[4,] -1.5014904    0.09788935 -1.279104    -1.311052  \n",
       "[5,] -1.0184372    1.24503015 -1.335752    -1.311052  \n",
       "[6,] -0.5353840    1.93331463 -1.165809    -1.048667  "
      ]
     },
     "metadata": {},
     "output_type": "display_data"
    },
    {
     "data": {
      "text/html": [
       "<table class=\"dataframe\">\n",
       "<caption>A data.frame: 6 × 4</caption>\n",
       "<thead>\n",
       "\t<tr><th></th><th scope=col>Sepal.Length</th><th scope=col>Sepal.Width</th><th scope=col>Petal.Length</th><th scope=col>Petal.Width</th></tr>\n",
       "\t<tr><th></th><th scope=col>&lt;dbl&gt;</th><th scope=col>&lt;dbl&gt;</th><th scope=col>&lt;dbl&gt;</th><th scope=col>&lt;dbl&gt;</th></tr>\n",
       "</thead>\n",
       "<tbody>\n",
       "\t<tr><th scope=row>1</th><td>-0.8976739</td><td> 1.01560199</td><td>-1.335752</td><td>-1.311052</td></tr>\n",
       "\t<tr><th scope=row>2</th><td>-1.1392005</td><td>-0.13153881</td><td>-1.335752</td><td>-1.311052</td></tr>\n",
       "\t<tr><th scope=row>3</th><td>-1.3807271</td><td> 0.32731751</td><td>-1.392399</td><td>-1.311052</td></tr>\n",
       "\t<tr><th scope=row>4</th><td>-1.5014904</td><td> 0.09788935</td><td>-1.279104</td><td>-1.311052</td></tr>\n",
       "\t<tr><th scope=row>5</th><td>-1.0184372</td><td> 1.24503015</td><td>-1.335752</td><td>-1.311052</td></tr>\n",
       "\t<tr><th scope=row>6</th><td>-0.5353840</td><td> 1.93331463</td><td>-1.165809</td><td>-1.048667</td></tr>\n",
       "</tbody>\n",
       "</table>\n"
      ],
      "text/latex": [
       "A data.frame: 6 × 4\n",
       "\\begin{tabular}{r|llll}\n",
       "  & Sepal.Length & Sepal.Width & Petal.Length & Petal.Width\\\\\n",
       "  & <dbl> & <dbl> & <dbl> & <dbl>\\\\\n",
       "\\hline\n",
       "\t1 & -0.8976739 &  1.01560199 & -1.335752 & -1.311052\\\\\n",
       "\t2 & -1.1392005 & -0.13153881 & -1.335752 & -1.311052\\\\\n",
       "\t3 & -1.3807271 &  0.32731751 & -1.392399 & -1.311052\\\\\n",
       "\t4 & -1.5014904 &  0.09788935 & -1.279104 & -1.311052\\\\\n",
       "\t5 & -1.0184372 &  1.24503015 & -1.335752 & -1.311052\\\\\n",
       "\t6 & -0.5353840 &  1.93331463 & -1.165809 & -1.048667\\\\\n",
       "\\end{tabular}\n"
      ],
      "text/markdown": [
       "\n",
       "A data.frame: 6 × 4\n",
       "\n",
       "| <!--/--> | Sepal.Length &lt;dbl&gt; | Sepal.Width &lt;dbl&gt; | Petal.Length &lt;dbl&gt; | Petal.Width &lt;dbl&gt; |\n",
       "|---|---|---|---|---|\n",
       "| 1 | -0.8976739 |  1.01560199 | -1.335752 | -1.311052 |\n",
       "| 2 | -1.1392005 | -0.13153881 | -1.335752 | -1.311052 |\n",
       "| 3 | -1.3807271 |  0.32731751 | -1.392399 | -1.311052 |\n",
       "| 4 | -1.5014904 |  0.09788935 | -1.279104 | -1.311052 |\n",
       "| 5 | -1.0184372 |  1.24503015 | -1.335752 | -1.311052 |\n",
       "| 6 | -0.5353840 |  1.93331463 | -1.165809 | -1.048667 |\n",
       "\n"
      ],
      "text/plain": [
       "  Sepal.Length Sepal.Width Petal.Length Petal.Width\n",
       "1 -0.8976739    1.01560199 -1.335752    -1.311052  \n",
       "2 -1.1392005   -0.13153881 -1.335752    -1.311052  \n",
       "3 -1.3807271    0.32731751 -1.392399    -1.311052  \n",
       "4 -1.5014904    0.09788935 -1.279104    -1.311052  \n",
       "5 -1.0184372    1.24503015 -1.335752    -1.311052  \n",
       "6 -0.5353840    1.93331463 -1.165809    -1.048667  "
      ]
     },
     "metadata": {},
     "output_type": "display_data"
    },
    {
     "data": {
      "text/html": [
       "<table class=\"dataframe\">\n",
       "<caption>A data.frame: 6 × 5</caption>\n",
       "<thead>\n",
       "\t<tr><th></th><th scope=col>Sepal.Length</th><th scope=col>Sepal.Width</th><th scope=col>Petal.Length</th><th scope=col>Petal.Width</th><th scope=col>Species</th></tr>\n",
       "\t<tr><th></th><th scope=col>&lt;dbl&gt;</th><th scope=col>&lt;dbl&gt;</th><th scope=col>&lt;dbl&gt;</th><th scope=col>&lt;dbl&gt;</th><th scope=col>&lt;fct&gt;</th></tr>\n",
       "</thead>\n",
       "<tbody>\n",
       "\t<tr><th scope=row>1</th><td>-0.8976739</td><td> 1.01560199</td><td>-1.335752</td><td>-1.311052</td><td>setosa</td></tr>\n",
       "\t<tr><th scope=row>2</th><td>-1.1392005</td><td>-0.13153881</td><td>-1.335752</td><td>-1.311052</td><td>setosa</td></tr>\n",
       "\t<tr><th scope=row>3</th><td>-1.3807271</td><td> 0.32731751</td><td>-1.392399</td><td>-1.311052</td><td>setosa</td></tr>\n",
       "\t<tr><th scope=row>4</th><td>-1.5014904</td><td> 0.09788935</td><td>-1.279104</td><td>-1.311052</td><td>setosa</td></tr>\n",
       "\t<tr><th scope=row>5</th><td>-1.0184372</td><td> 1.24503015</td><td>-1.335752</td><td>-1.311052</td><td>setosa</td></tr>\n",
       "\t<tr><th scope=row>6</th><td>-0.5353840</td><td> 1.93331463</td><td>-1.165809</td><td>-1.048667</td><td>setosa</td></tr>\n",
       "</tbody>\n",
       "</table>\n"
      ],
      "text/latex": [
       "A data.frame: 6 × 5\n",
       "\\begin{tabular}{r|lllll}\n",
       "  & Sepal.Length & Sepal.Width & Petal.Length & Petal.Width & Species\\\\\n",
       "  & <dbl> & <dbl> & <dbl> & <dbl> & <fct>\\\\\n",
       "\\hline\n",
       "\t1 & -0.8976739 &  1.01560199 & -1.335752 & -1.311052 & setosa\\\\\n",
       "\t2 & -1.1392005 & -0.13153881 & -1.335752 & -1.311052 & setosa\\\\\n",
       "\t3 & -1.3807271 &  0.32731751 & -1.392399 & -1.311052 & setosa\\\\\n",
       "\t4 & -1.5014904 &  0.09788935 & -1.279104 & -1.311052 & setosa\\\\\n",
       "\t5 & -1.0184372 &  1.24503015 & -1.335752 & -1.311052 & setosa\\\\\n",
       "\t6 & -0.5353840 &  1.93331463 & -1.165809 & -1.048667 & setosa\\\\\n",
       "\\end{tabular}\n"
      ],
      "text/markdown": [
       "\n",
       "A data.frame: 6 × 5\n",
       "\n",
       "| <!--/--> | Sepal.Length &lt;dbl&gt; | Sepal.Width &lt;dbl&gt; | Petal.Length &lt;dbl&gt; | Petal.Width &lt;dbl&gt; | Species &lt;fct&gt; |\n",
       "|---|---|---|---|---|---|\n",
       "| 1 | -0.8976739 |  1.01560199 | -1.335752 | -1.311052 | setosa |\n",
       "| 2 | -1.1392005 | -0.13153881 | -1.335752 | -1.311052 | setosa |\n",
       "| 3 | -1.3807271 |  0.32731751 | -1.392399 | -1.311052 | setosa |\n",
       "| 4 | -1.5014904 |  0.09788935 | -1.279104 | -1.311052 | setosa |\n",
       "| 5 | -1.0184372 |  1.24503015 | -1.335752 | -1.311052 | setosa |\n",
       "| 6 | -0.5353840 |  1.93331463 | -1.165809 | -1.048667 | setosa |\n",
       "\n"
      ],
      "text/plain": [
       "  Sepal.Length Sepal.Width Petal.Length Petal.Width Species\n",
       "1 -0.8976739    1.01560199 -1.335752    -1.311052   setosa \n",
       "2 -1.1392005   -0.13153881 -1.335752    -1.311052   setosa \n",
       "3 -1.3807271    0.32731751 -1.392399    -1.311052   setosa \n",
       "4 -1.5014904    0.09788935 -1.279104    -1.311052   setosa \n",
       "5 -1.0184372    1.24503015 -1.335752    -1.311052   setosa \n",
       "6 -0.5353840    1.93331463 -1.165809    -1.048667   setosa "
      ]
     },
     "metadata": {},
     "output_type": "display_data"
    }
   ],
   "source": [
    "# Matriz com dados padronizados\n",
    "data_ = scale(iris[, 1:4])\n",
    "head(data_)\n",
    "\n",
    "# Coerção para data frame\n",
    "data_ = as.data.frame(data_)\n",
    "head(data_)\n",
    "\n",
    "# Adicionando classe = Species\n",
    "data_$Species = iris$Species\n",
    "head(data_)"
   ]
  },
  {
   "cell_type": "markdown",
   "metadata": {},
   "source": [
    "## Dados - Treino e Teste\n",
    "- createDataPartition( ) -> Retorna uma amostra dos dados\n",
    "- dim( )[1] -> Obtemos apenas a quantidade de instâncias (linhas)\n",
    "- p= -> Probabilidade"
   ]
  },
  {
   "cell_type": "code",
   "execution_count": 109,
   "metadata": {
    "vscode": {
     "languageId": "r"
    }
   },
   "outputs": [
    {
     "data": {
      "text/plain": [
       "          Length Class  Mode   \n",
       "Resample1 106    -none- numeric"
      ]
     },
     "metadata": {},
     "output_type": "display_data"
    },
    {
     "data": {
      "text/html": [
       "<style>\n",
       ".list-inline {list-style: none; margin:0; padding: 0}\n",
       ".list-inline>li {display: inline-block}\n",
       ".list-inline>li:not(:last-child)::after {content: \"\\00b7\"; padding: 0 .5ex}\n",
       "</style>\n",
       "<ol class=list-inline><li>106</li><li>5</li></ol>\n"
      ],
      "text/latex": [
       "\\begin{enumerate*}\n",
       "\\item 106\n",
       "\\item 5\n",
       "\\end{enumerate*}\n"
      ],
      "text/markdown": [
       "1. 106\n",
       "2. 5\n",
       "\n",
       "\n"
      ],
      "text/plain": [
       "[1] 106   5"
      ]
     },
     "metadata": {},
     "output_type": "display_data"
    },
    {
     "data": {
      "text/html": [
       "<style>\n",
       ".list-inline {list-style: none; margin:0; padding: 0}\n",
       ".list-inline>li {display: inline-block}\n",
       ".list-inline>li:not(:last-child)::after {content: \"\\00b7\"; padding: 0 .5ex}\n",
       "</style>\n",
       "<ol class=list-inline><li>44</li><li>5</li></ol>\n"
      ],
      "text/latex": [
       "\\begin{enumerate*}\n",
       "\\item 44\n",
       "\\item 5\n",
       "\\end{enumerate*}\n"
      ],
      "text/markdown": [
       "1. 44\n",
       "2. 5\n",
       "\n",
       "\n"
      ],
      "text/plain": [
       "[1] 44  5"
      ]
     },
     "metadata": {},
     "output_type": "display_data"
    }
   ],
   "source": [
    "# Amostra\n",
    "set.seed(1234)\n",
    "particao = createDataPartition(1:dim(data_)[1], p=0.7)\n",
    "summary(particao)\n",
    "\n",
    "# Dados\n",
    "datatreino = data_[particao$Resample1, ]\n",
    "datateste = data_[- particao$Resample1, ]\n",
    "\n",
    "dim(datatreino)\n",
    "dim(datateste)"
   ]
  },
  {
   "cell_type": "markdown",
   "metadata": {},
   "source": [
    "## One hot enconding - Classe\n",
    "- cbind( ) -> Utilizamos para manter os atributos na variavel\n",
    "- one_hot( ) -> Retorna a classe decodificada (table -> Como tabela)"
   ]
  },
  {
   "cell_type": "code",
   "execution_count": 110,
   "metadata": {
    "vscode": {
     "languageId": "r"
    }
   },
   "outputs": [
    {
     "data": {
      "text/html": [
       "<table class=\"dataframe\">\n",
       "<caption>A data.frame: 6 × 7</caption>\n",
       "<thead>\n",
       "\t<tr><th></th><th scope=col>Sepal.Length</th><th scope=col>Sepal.Width</th><th scope=col>Petal.Length</th><th scope=col>Petal.Width</th><th scope=col>V1_setosa</th><th scope=col>V1_versicolor</th><th scope=col>V1_virginica</th></tr>\n",
       "\t<tr><th></th><th scope=col>&lt;dbl&gt;</th><th scope=col>&lt;dbl&gt;</th><th scope=col>&lt;dbl&gt;</th><th scope=col>&lt;dbl&gt;</th><th scope=col>&lt;int&gt;</th><th scope=col>&lt;int&gt;</th><th scope=col>&lt;int&gt;</th></tr>\n",
       "</thead>\n",
       "<tbody>\n",
       "\t<tr><th scope=row>2</th><td>-1.139200</td><td>-0.13153881</td><td>-1.335752</td><td>-1.311052</td><td>1</td><td>0</td><td>0</td></tr>\n",
       "\t<tr><th scope=row>3</th><td>-1.380727</td><td> 0.32731751</td><td>-1.392399</td><td>-1.311052</td><td>1</td><td>0</td><td>0</td></tr>\n",
       "\t<tr><th scope=row>4</th><td>-1.501490</td><td> 0.09788935</td><td>-1.279104</td><td>-1.311052</td><td>1</td><td>0</td><td>0</td></tr>\n",
       "\t<tr><th scope=row>5</th><td>-1.018437</td><td> 1.24503015</td><td>-1.335752</td><td>-1.311052</td><td>1</td><td>0</td><td>0</td></tr>\n",
       "\t<tr><th scope=row>6</th><td>-0.535384</td><td> 1.93331463</td><td>-1.165809</td><td>-1.048667</td><td>1</td><td>0</td><td>0</td></tr>\n",
       "\t<tr><th scope=row>7</th><td>-1.501490</td><td> 0.78617383</td><td>-1.335752</td><td>-1.179859</td><td>1</td><td>0</td><td>0</td></tr>\n",
       "</tbody>\n",
       "</table>\n"
      ],
      "text/latex": [
       "A data.frame: 6 × 7\n",
       "\\begin{tabular}{r|lllllll}\n",
       "  & Sepal.Length & Sepal.Width & Petal.Length & Petal.Width & V1\\_setosa & V1\\_versicolor & V1\\_virginica\\\\\n",
       "  & <dbl> & <dbl> & <dbl> & <dbl> & <int> & <int> & <int>\\\\\n",
       "\\hline\n",
       "\t2 & -1.139200 & -0.13153881 & -1.335752 & -1.311052 & 1 & 0 & 0\\\\\n",
       "\t3 & -1.380727 &  0.32731751 & -1.392399 & -1.311052 & 1 & 0 & 0\\\\\n",
       "\t4 & -1.501490 &  0.09788935 & -1.279104 & -1.311052 & 1 & 0 & 0\\\\\n",
       "\t5 & -1.018437 &  1.24503015 & -1.335752 & -1.311052 & 1 & 0 & 0\\\\\n",
       "\t6 & -0.535384 &  1.93331463 & -1.165809 & -1.048667 & 1 & 0 & 0\\\\\n",
       "\t7 & -1.501490 &  0.78617383 & -1.335752 & -1.179859 & 1 & 0 & 0\\\\\n",
       "\\end{tabular}\n"
      ],
      "text/markdown": [
       "\n",
       "A data.frame: 6 × 7\n",
       "\n",
       "| <!--/--> | Sepal.Length &lt;dbl&gt; | Sepal.Width &lt;dbl&gt; | Petal.Length &lt;dbl&gt; | Petal.Width &lt;dbl&gt; | V1_setosa &lt;int&gt; | V1_versicolor &lt;int&gt; | V1_virginica &lt;int&gt; |\n",
       "|---|---|---|---|---|---|---|---|\n",
       "| 2 | -1.139200 | -0.13153881 | -1.335752 | -1.311052 | 1 | 0 | 0 |\n",
       "| 3 | -1.380727 |  0.32731751 | -1.392399 | -1.311052 | 1 | 0 | 0 |\n",
       "| 4 | -1.501490 |  0.09788935 | -1.279104 | -1.311052 | 1 | 0 | 0 |\n",
       "| 5 | -1.018437 |  1.24503015 | -1.335752 | -1.311052 | 1 | 0 | 0 |\n",
       "| 6 | -0.535384 |  1.93331463 | -1.165809 | -1.048667 | 1 | 0 | 0 |\n",
       "| 7 | -1.501490 |  0.78617383 | -1.335752 | -1.179859 | 1 | 0 | 0 |\n",
       "\n"
      ],
      "text/plain": [
       "  Sepal.Length Sepal.Width Petal.Length Petal.Width V1_setosa V1_versicolor\n",
       "2 -1.139200    -0.13153881 -1.335752    -1.311052   1         0            \n",
       "3 -1.380727     0.32731751 -1.392399    -1.311052   1         0            \n",
       "4 -1.501490     0.09788935 -1.279104    -1.311052   1         0            \n",
       "5 -1.018437     1.24503015 -1.335752    -1.311052   1         0            \n",
       "6 -0.535384     1.93331463 -1.165809    -1.048667   1         0            \n",
       "7 -1.501490     0.78617383 -1.335752    -1.179859   1         0            \n",
       "  V1_virginica\n",
       "2 0           \n",
       "3 0           \n",
       "4 0           \n",
       "5 0           \n",
       "6 0           \n",
       "7 0           "
      ]
     },
     "metadata": {},
     "output_type": "display_data"
    },
    {
     "data": {
      "text/plain": [
       "  Sepal.Length       Sepal.Width        Petal.Length       Petal.Width      \n",
       " Min.   :-1.86378   Min.   :-2.42582   Min.   :-1.56234   Min.   :-1.44224  \n",
       " 1st Qu.:-0.77691   1st Qu.:-0.59040   1st Qu.:-1.22246   1st Qu.:-1.14706  \n",
       " Median :-0.05233   Median :-0.13154   Median : 0.27871   Median : 0.13207  \n",
       " Mean   : 0.00919   Mean   :-0.01899   Mean   : 0.01043   Mean   : 0.02563  \n",
       " 3rd Qu.: 0.67225   3rd Qu.: 0.55675   3rd Qu.: 0.76021   3rd Qu.: 0.78803  \n",
       " Max.   : 2.48370   Max.   : 3.08046   Max.   : 1.66657   Max.   : 1.70638  \n",
       "   V1_setosa      V1_versicolor     V1_virginica   \n",
       " Min.   :0.0000   Min.   :0.0000   Min.   :0.0000  \n",
       " 1st Qu.:0.0000   1st Qu.:0.0000   1st Qu.:0.0000  \n",
       " Median :0.0000   Median :0.0000   Median :0.0000  \n",
       " Mean   :0.3113   Mean   :0.3774   Mean   :0.3113  \n",
       " 3rd Qu.:1.0000   3rd Qu.:1.0000   3rd Qu.:1.0000  \n",
       " Max.   :1.0000   Max.   :1.0000   Max.   :1.0000  "
      ]
     },
     "metadata": {},
     "output_type": "display_data"
    }
   ],
   "source": [
    "datatreino = cbind(datatreino[, 1:4], one_hot(as.data.table(datatreino[, 5])))\n",
    "head(datatreino)\n",
    "summary(datatreino)"
   ]
  },
  {
   "cell_type": "markdown",
   "metadata": {},
   "source": [
    "## Modelo Neural\n",
    "- neuralnet( ) -> Retonra modelo neural\n",
    "- ~ -> Separa váriaveis dependentes de independentes\n",
    "- hidden= -> Indica camadas ocultas, abaixo temos duas, com 5 e 4 neuronios respectivamente\n",
    "- \n",
    "- rep= -> Indica a repetição de aprendizagem ('best' = a melhor | Menos taxa de erro)\n",
    "- plot( ) - Precisa do argumento rep="
   ]
  },
  {
   "cell_type": "code",
   "execution_count": 111,
   "metadata": {
    "vscode": {
     "languageId": "r"
    }
   },
   "outputs": [
    {
     "data": {
      "image/png": "[encoded data removed]",
      "text/plain": [
       "plot without title"
      ]
     },
     "metadata": {
      "image/png": {
       "height": 420,
       "width": 420
      }
     },
     "output_type": "display_data"
    },
    {
     "data": {
      "image/png": "[encoded data removed]",
      "text/plain": [
       "plot without title"
      ]
     },
     "metadata": {
      "image/png": {
       "height": 420,
       "width": 420
      }
     },
     "output_type": "display_data"
    }
   ],
   "source": [
    "modelo = neuralnet(formula = V1_setosa + V1_versicolor + V1_virginica ~ Sepal.Length + Sepal.Width + Petal.Length + Petal.Width,\n",
    "data=datatreino, hidden = c(5, 4))\n",
    "\n",
    "plot(modelo, rep='best')\n",
    "plotnet(modelo)"
   ]
  },
  {
   "cell_type": "markdown",
   "metadata": {},
   "source": [
    "## Previsões\n",
    "- compute( ) -> Retorna previsão para objetos da classe nn = neuralnet\n",
    "- O resultado é demonstrado em pesos que tendem para as classes previstas ($net.result)"
   ]
  },
  {
   "cell_type": "code",
   "execution_count": 112,
   "metadata": {
    "vscode": {
     "languageId": "r"
    }
   },
   "outputs": [
    {
     "data": {
      "text/plain": [
       "           Length Class  Mode   \n",
       "neurons      3    -none- list   \n",
       "net.result 132    -none- numeric"
      ]
     },
     "metadata": {},
     "output_type": "display_data"
    },
    {
     "data": {
      "text/html": [
       "<table class=\"dataframe\">\n",
       "<caption>A matrix: 6 × 3 of type dbl</caption>\n",
       "<tbody>\n",
       "\t<tr><th scope=row>1</th><td>0.9999490</td><td>0.001184915</td><td>-3.122372e-06</td></tr>\n",
       "\t<tr><th scope=row>10</th><td>0.9999490</td><td>0.001184888</td><td>-3.099547e-06</td></tr>\n",
       "\t<tr><th scope=row>12</th><td>0.9999490</td><td>0.001184916</td><td>-3.123149e-06</td></tr>\n",
       "\t<tr><th scope=row>13</th><td>0.9999497</td><td>0.001183223</td><td>-1.868730e-06</td></tr>\n",
       "\t<tr><th scope=row>17</th><td>0.9999490</td><td>0.001184914</td><td>-3.122079e-06</td></tr>\n",
       "\t<tr><th scope=row>19</th><td>0.9999490</td><td>0.001184914</td><td>-3.122419e-06</td></tr>\n",
       "</tbody>\n",
       "</table>\n"
      ],
      "text/latex": [
       "A matrix: 6 × 3 of type dbl\n",
       "\\begin{tabular}{r|lll}\n",
       "\t1 & 0.9999490 & 0.001184915 & -3.122372e-06\\\\\n",
       "\t10 & 0.9999490 & 0.001184888 & -3.099547e-06\\\\\n",
       "\t12 & 0.9999490 & 0.001184916 & -3.123149e-06\\\\\n",
       "\t13 & 0.9999497 & 0.001183223 & -1.868730e-06\\\\\n",
       "\t17 & 0.9999490 & 0.001184914 & -3.122079e-06\\\\\n",
       "\t19 & 0.9999490 & 0.001184914 & -3.122419e-06\\\\\n",
       "\\end{tabular}\n"
      ],
      "text/markdown": [
       "\n",
       "A matrix: 6 × 3 of type dbl\n",
       "\n",
       "| 1 | 0.9999490 | 0.001184915 | -3.122372e-06 |\n",
       "| 10 | 0.9999490 | 0.001184888 | -3.099547e-06 |\n",
       "| 12 | 0.9999490 | 0.001184916 | -3.123149e-06 |\n",
       "| 13 | 0.9999497 | 0.001183223 | -1.868730e-06 |\n",
       "| 17 | 0.9999490 | 0.001184914 | -3.122079e-06 |\n",
       "| 19 | 0.9999490 | 0.001184914 | -3.122419e-06 |\n",
       "\n"
      ],
      "text/plain": [
       "   [,1]      [,2]        [,3]         \n",
       "1  0.9999490 0.001184915 -3.122372e-06\n",
       "10 0.9999490 0.001184888 -3.099547e-06\n",
       "12 0.9999490 0.001184916 -3.123149e-06\n",
       "13 0.9999497 0.001183223 -1.868730e-06\n",
       "17 0.9999490 0.001184914 -3.122079e-06\n",
       "19 0.9999490 0.001184914 -3.122419e-06"
      ]
     },
     "metadata": {},
     "output_type": "display_data"
    },
    {
     "data": {
      "text/plain": [
       "       V1                  V2                  V3            \n",
       " Min.   :-0.023714   Min.   :-0.602367   Min.   :-0.5743453  \n",
       " 1st Qu.:-0.002483   1st Qu.: 0.001169   1st Qu.:-0.0000031  \n",
       " Median : 0.002828   Median : 0.001185   Median : 0.0063220  \n",
       " Mean   : 0.390640   Mean   : 0.215219   Mean   : 0.3952548  \n",
       " 3rd Qu.: 0.999949   3rd Qu.: 0.037439   3rd Qu.: 0.9974884  \n",
       " Max.   : 1.000290   Max.   : 1.520467   Max.   : 1.3533960  "
      ]
     },
     "metadata": {},
     "output_type": "display_data"
    },
    {
     "data": {
      "text/html": [
       "<table class=\"dataframe\">\n",
       "<caption>A data.frame: 6 × 3</caption>\n",
       "<thead>\n",
       "\t<tr><th></th><th scope=col>V1</th><th scope=col>V2</th><th scope=col>V3</th></tr>\n",
       "\t<tr><th></th><th scope=col>&lt;dbl&gt;</th><th scope=col>&lt;dbl&gt;</th><th scope=col>&lt;dbl&gt;</th></tr>\n",
       "</thead>\n",
       "<tbody>\n",
       "\t<tr><th scope=row>1</th><td>0.9999490</td><td>0.001184915</td><td>-3.122372e-06</td></tr>\n",
       "\t<tr><th scope=row>10</th><td>0.9999490</td><td>0.001184888</td><td>-3.099547e-06</td></tr>\n",
       "\t<tr><th scope=row>12</th><td>0.9999490</td><td>0.001184916</td><td>-3.123149e-06</td></tr>\n",
       "\t<tr><th scope=row>13</th><td>0.9999497</td><td>0.001183223</td><td>-1.868730e-06</td></tr>\n",
       "\t<tr><th scope=row>17</th><td>0.9999490</td><td>0.001184914</td><td>-3.122079e-06</td></tr>\n",
       "\t<tr><th scope=row>19</th><td>0.9999490</td><td>0.001184914</td><td>-3.122419e-06</td></tr>\n",
       "</tbody>\n",
       "</table>\n"
      ],
      "text/latex": [
       "A data.frame: 6 × 3\n",
       "\\begin{tabular}{r|lll}\n",
       "  & V1 & V2 & V3\\\\\n",
       "  & <dbl> & <dbl> & <dbl>\\\\\n",
       "\\hline\n",
       "\t1 & 0.9999490 & 0.001184915 & -3.122372e-06\\\\\n",
       "\t10 & 0.9999490 & 0.001184888 & -3.099547e-06\\\\\n",
       "\t12 & 0.9999490 & 0.001184916 & -3.123149e-06\\\\\n",
       "\t13 & 0.9999497 & 0.001183223 & -1.868730e-06\\\\\n",
       "\t17 & 0.9999490 & 0.001184914 & -3.122079e-06\\\\\n",
       "\t19 & 0.9999490 & 0.001184914 & -3.122419e-06\\\\\n",
       "\\end{tabular}\n"
      ],
      "text/markdown": [
       "\n",
       "A data.frame: 6 × 3\n",
       "\n",
       "| <!--/--> | V1 &lt;dbl&gt; | V2 &lt;dbl&gt; | V3 &lt;dbl&gt; |\n",
       "|---|---|---|---|\n",
       "| 1 | 0.9999490 | 0.001184915 | -3.122372e-06 |\n",
       "| 10 | 0.9999490 | 0.001184888 | -3.099547e-06 |\n",
       "| 12 | 0.9999490 | 0.001184916 | -3.123149e-06 |\n",
       "| 13 | 0.9999497 | 0.001183223 | -1.868730e-06 |\n",
       "| 17 | 0.9999490 | 0.001184914 | -3.122079e-06 |\n",
       "| 19 | 0.9999490 | 0.001184914 | -3.122419e-06 |\n",
       "\n"
      ],
      "text/plain": [
       "   V1        V2          V3           \n",
       "1  0.9999490 0.001184915 -3.122372e-06\n",
       "10 0.9999490 0.001184888 -3.099547e-06\n",
       "12 0.9999490 0.001184916 -3.123149e-06\n",
       "13 0.9999497 0.001183223 -1.868730e-06\n",
       "17 0.9999490 0.001184914 -3.122079e-06\n",
       "19 0.9999490 0.001184914 -3.122419e-06"
      ]
     },
     "metadata": {},
     "output_type": "display_data"
    }
   ],
   "source": [
    "predicao = compute(modelo, datateste[, 1:4])\n",
    "summary(predicao)\n",
    "head(predicao$net.result)\n",
    "\n",
    "# Coerção para data frame\n",
    "predicao_result = as.data.frame(predicao$net.result)\n",
    "summary(predicao_result)\n",
    "head(predicao_result)"
   ]
  },
  {
   "cell_type": "markdown",
   "metadata": {},
   "source": [
    "## Avaliando Performance\n",
    "- names( ) -> Nomeia um elemento\n",
    "- colnames( ) -> Retorna nome de colunas\n",
    "- max.col( ) -> Retorna o maior valor entre as colunas\n",
    "- ties.method='first' -> Retorna o primeiro elemento encontrado"
   ]
  },
  {
   "cell_type": "code",
   "execution_count": 113,
   "metadata": {
    "vscode": {
     "languageId": "r"
    }
   },
   "outputs": [
    {
     "data": {
      "text/html": [
       "<table class=\"dataframe\">\n",
       "<caption>A data.frame: 6 × 3</caption>\n",
       "<thead>\n",
       "\t<tr><th></th><th scope=col>setosa</th><th scope=col>versicolor</th><th scope=col>virginica</th></tr>\n",
       "\t<tr><th></th><th scope=col>&lt;dbl&gt;</th><th scope=col>&lt;dbl&gt;</th><th scope=col>&lt;dbl&gt;</th></tr>\n",
       "</thead>\n",
       "<tbody>\n",
       "\t<tr><th scope=row>1</th><td>0.9999490</td><td>0.001184915</td><td>-3.122372e-06</td></tr>\n",
       "\t<tr><th scope=row>10</th><td>0.9999490</td><td>0.001184888</td><td>-3.099547e-06</td></tr>\n",
       "\t<tr><th scope=row>12</th><td>0.9999490</td><td>0.001184916</td><td>-3.123149e-06</td></tr>\n",
       "\t<tr><th scope=row>13</th><td>0.9999497</td><td>0.001183223</td><td>-1.868730e-06</td></tr>\n",
       "\t<tr><th scope=row>17</th><td>0.9999490</td><td>0.001184914</td><td>-3.122079e-06</td></tr>\n",
       "\t<tr><th scope=row>19</th><td>0.9999490</td><td>0.001184914</td><td>-3.122419e-06</td></tr>\n",
       "</tbody>\n",
       "</table>\n"
      ],
      "text/latex": [
       "A data.frame: 6 × 3\n",
       "\\begin{tabular}{r|lll}\n",
       "  & setosa & versicolor & virginica\\\\\n",
       "  & <dbl> & <dbl> & <dbl>\\\\\n",
       "\\hline\n",
       "\t1 & 0.9999490 & 0.001184915 & -3.122372e-06\\\\\n",
       "\t10 & 0.9999490 & 0.001184888 & -3.099547e-06\\\\\n",
       "\t12 & 0.9999490 & 0.001184916 & -3.123149e-06\\\\\n",
       "\t13 & 0.9999497 & 0.001183223 & -1.868730e-06\\\\\n",
       "\t17 & 0.9999490 & 0.001184914 & -3.122079e-06\\\\\n",
       "\t19 & 0.9999490 & 0.001184914 & -3.122419e-06\\\\\n",
       "\\end{tabular}\n"
      ],
      "text/markdown": [
       "\n",
       "A data.frame: 6 × 3\n",
       "\n",
       "| <!--/--> | setosa &lt;dbl&gt; | versicolor &lt;dbl&gt; | virginica &lt;dbl&gt; |\n",
       "|---|---|---|---|\n",
       "| 1 | 0.9999490 | 0.001184915 | -3.122372e-06 |\n",
       "| 10 | 0.9999490 | 0.001184888 | -3.099547e-06 |\n",
       "| 12 | 0.9999490 | 0.001184916 | -3.123149e-06 |\n",
       "| 13 | 0.9999497 | 0.001183223 | -1.868730e-06 |\n",
       "| 17 | 0.9999490 | 0.001184914 | -3.122079e-06 |\n",
       "| 19 | 0.9999490 | 0.001184914 | -3.122419e-06 |\n",
       "\n"
      ],
      "text/plain": [
       "   setosa    versicolor  virginica    \n",
       "1  0.9999490 0.001184915 -3.122372e-06\n",
       "10 0.9999490 0.001184888 -3.099547e-06\n",
       "12 0.9999490 0.001184916 -3.123149e-06\n",
       "13 0.9999497 0.001183223 -1.868730e-06\n",
       "17 0.9999490 0.001184914 -3.122079e-06\n",
       "19 0.9999490 0.001184914 -3.122419e-06"
      ]
     },
     "metadata": {},
     "output_type": "display_data"
    },
    {
     "data": {
      "text/plain": [
       "     setosa            versicolor          virginica         \n",
       " Min.   :-0.023714   Min.   :-0.602367   Min.   :-0.5743453  \n",
       " 1st Qu.:-0.002483   1st Qu.: 0.001169   1st Qu.:-0.0000031  \n",
       " Median : 0.002828   Median : 0.001185   Median : 0.0063220  \n",
       " Mean   : 0.390640   Mean   : 0.215219   Mean   : 0.3952548  \n",
       " 3rd Qu.: 0.999949   3rd Qu.: 0.037439   3rd Qu.: 0.9974884  \n",
       " Max.   : 1.000290   Max.   : 1.520467   Max.   : 1.3533960  \n",
       "    class          \n",
       " Length:44         \n",
       " Class :character  \n",
       " Mode  :character  \n",
       "                   \n",
       "                   \n",
       "                   "
      ]
     },
     "metadata": {},
     "output_type": "display_data"
    },
    {
     "data": {
      "text/html": [
       "<table class=\"dataframe\">\n",
       "<caption>A data.frame: 6 × 4</caption>\n",
       "<thead>\n",
       "\t<tr><th></th><th scope=col>setosa</th><th scope=col>versicolor</th><th scope=col>virginica</th><th scope=col>class</th></tr>\n",
       "\t<tr><th></th><th scope=col>&lt;dbl&gt;</th><th scope=col>&lt;dbl&gt;</th><th scope=col>&lt;dbl&gt;</th><th scope=col>&lt;chr&gt;</th></tr>\n",
       "</thead>\n",
       "<tbody>\n",
       "\t<tr><th scope=row>1</th><td>0.9999490</td><td>0.001184915</td><td>-3.122372e-06</td><td>setosa</td></tr>\n",
       "\t<tr><th scope=row>10</th><td>0.9999490</td><td>0.001184888</td><td>-3.099547e-06</td><td>setosa</td></tr>\n",
       "\t<tr><th scope=row>12</th><td>0.9999490</td><td>0.001184916</td><td>-3.123149e-06</td><td>setosa</td></tr>\n",
       "\t<tr><th scope=row>13</th><td>0.9999497</td><td>0.001183223</td><td>-1.868730e-06</td><td>setosa</td></tr>\n",
       "\t<tr><th scope=row>17</th><td>0.9999490</td><td>0.001184914</td><td>-3.122079e-06</td><td>setosa</td></tr>\n",
       "\t<tr><th scope=row>19</th><td>0.9999490</td><td>0.001184914</td><td>-3.122419e-06</td><td>setosa</td></tr>\n",
       "</tbody>\n",
       "</table>\n"
      ],
      "text/latex": [
       "A data.frame: 6 × 4\n",
       "\\begin{tabular}{r|llll}\n",
       "  & setosa & versicolor & virginica & class\\\\\n",
       "  & <dbl> & <dbl> & <dbl> & <chr>\\\\\n",
       "\\hline\n",
       "\t1 & 0.9999490 & 0.001184915 & -3.122372e-06 & setosa\\\\\n",
       "\t10 & 0.9999490 & 0.001184888 & -3.099547e-06 & setosa\\\\\n",
       "\t12 & 0.9999490 & 0.001184916 & -3.123149e-06 & setosa\\\\\n",
       "\t13 & 0.9999497 & 0.001183223 & -1.868730e-06 & setosa\\\\\n",
       "\t17 & 0.9999490 & 0.001184914 & -3.122079e-06 & setosa\\\\\n",
       "\t19 & 0.9999490 & 0.001184914 & -3.122419e-06 & setosa\\\\\n",
       "\\end{tabular}\n"
      ],
      "text/markdown": [
       "\n",
       "A data.frame: 6 × 4\n",
       "\n",
       "| <!--/--> | setosa &lt;dbl&gt; | versicolor &lt;dbl&gt; | virginica &lt;dbl&gt; | class &lt;chr&gt; |\n",
       "|---|---|---|---|---|\n",
       "| 1 | 0.9999490 | 0.001184915 | -3.122372e-06 | setosa |\n",
       "| 10 | 0.9999490 | 0.001184888 | -3.099547e-06 | setosa |\n",
       "| 12 | 0.9999490 | 0.001184916 | -3.123149e-06 | setosa |\n",
       "| 13 | 0.9999497 | 0.001183223 | -1.868730e-06 | setosa |\n",
       "| 17 | 0.9999490 | 0.001184914 | -3.122079e-06 | setosa |\n",
       "| 19 | 0.9999490 | 0.001184914 | -3.122419e-06 | setosa |\n",
       "\n"
      ],
      "text/plain": [
       "   setosa    versicolor  virginica     class \n",
       "1  0.9999490 0.001184915 -3.122372e-06 setosa\n",
       "10 0.9999490 0.001184888 -3.099547e-06 setosa\n",
       "12 0.9999490 0.001184916 -3.123149e-06 setosa\n",
       "13 0.9999497 0.001183223 -1.868730e-06 setosa\n",
       "17 0.9999490 0.001184914 -3.122079e-06 setosa\n",
       "19 0.9999490 0.001184914 -3.122419e-06 setosa"
      ]
     },
     "metadata": {},
     "output_type": "display_data"
    }
   ],
   "source": [
    "# Alteramos os nomes das colunas\n",
    "names(predicao_result)[1] = 'setosa'\n",
    "names(predicao_result)[2] = 'versicolor'\n",
    "names(predicao_result)[3] = 'virginica'\n",
    "head(predicao_result)\n",
    "\n",
    "# Criamos a co9luna classe e atribuimos seu valor\n",
    "# de acordo com o maior peso das previsões\n",
    "\n",
    "predicao_result$class = colnames(predicao_result[, 1:3])[max.col(predicao_result[, 1:3],\n",
    "ties.method = 'first')]\n",
    "summary(predicao_result)\n",
    "head(predicao_result)"
   ]
  },
  {
   "cell_type": "markdown",
   "metadata": {},
   "source": [
    "## Matriz de Confusão\n",
    "- \\* 100 -> Retorna porcentagem absoluta da taxa de acerto"
   ]
  },
  {
   "cell_type": "code",
   "execution_count": 122,
   "metadata": {
    "vscode": {
     "languageId": "r"
    }
   },
   "outputs": [
    {
     "data": {
      "text/plain": [
       "            \n",
       "             setosa versicolor virginica\n",
       "  setosa         17          0         0\n",
       "  versicolor      0          8         1\n",
       "  virginica       0          2        16"
      ]
     },
     "metadata": {},
     "output_type": "display_data"
    },
    {
     "data": {
      "text/html": [
       "93.1818181818182"
      ],
      "text/latex": [
       "93.1818181818182"
      ],
      "text/markdown": [
       "93.1818181818182"
      ],
      "text/plain": [
       "[1] 93.18182"
      ]
     },
     "metadata": {},
     "output_type": "display_data"
    }
   ],
   "source": [
    "confusao = table(predicao_result$class, datateste$Species)\n",
    "confusao\n",
    "\n",
    "taxaacerto = sum(diag(confusao)) * 100 / sum(confusao)\n",
    "taxaacerto"
   ]
  }
 ],
 "metadata": {
  "kernelspec": {
   "display_name": "R",
   "language": "R",
   "name": "ir"
  },
  "language_info": {
   "codemirror_mode": "r",
   "file_extension": ".r",
   "mimetype": "text/x-r-source",
   "name": "R",
   "pygments_lexer": "r",
   "version": "4.3.2"
  }
 },
 "nbformat": 4,
 "nbformat_minor": 2
}
