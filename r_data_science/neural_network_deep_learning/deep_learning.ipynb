{
 "cells": [
  {
   "cell_type": "markdown",
   "metadata": {},
   "source": [
    "## Packages\n",
    "- install.packages('h2o')"
   ]
  },
  {
   "cell_type": "code",
   "execution_count": 1,
   "metadata": {
    "vscode": {
     "languageId": "r"
    }
   },
   "outputs": [
    {
     "name": "stderr",
     "output_type": "stream",
     "text": [
      "\n",
      "----------------------------------------------------------------------\n",
      "\n",
      "Your next step is to start H2O:\n",
      "    > h2o.init()\n",
      "\n",
      "For H2O package documentation, ask for help:\n",
      "    > ??h2o\n",
      "\n",
      "After starting H2O, you can use the Web UI at http://localhost:54321\n",
      "For more information visit https://docs.h2o.ai\n",
      "\n",
      "----------------------------------------------------------------------\n",
      "\n",
      "\n",
      "\n",
      "Attaching package: 'h2o'\n",
      "\n",
      "\n",
      "The following objects are masked from 'package:stats':\n",
      "\n",
      "    cor, sd, var\n",
      "\n",
      "\n",
      "The following objects are masked from 'package:base':\n",
      "\n",
      "    %*%, %in%, &&, ||, apply, as.factor, as.numeric, colnames,\n",
      "    colnames<-, ifelse, is.character, is.factor, is.numeric, log,\n",
      "    log10, log1p, log2, round, signif, trunc\n",
      "\n",
      "\n"
     ]
    }
   ],
   "source": [
    "library(h2o)"
   ]
  },
  {
   "cell_type": "markdown",
   "metadata": {},
   "source": [
    "## MNIST DATABASE\n",
    "- gzfile( ) -> Descompacta o arquivo"
   ]
  },
  {
   "cell_type": "code",
   "execution_count": 2,
   "metadata": {
    "vscode": {
     "languageId": "r"
    }
   },
   "outputs": [
    {
     "data": {
      "text/html": [
       "<style>\n",
       ".list-inline {list-style: none; margin:0; padding: 0}\n",
       ".list-inline>li {display: inline-block}\n",
       ".list-inline>li:not(:last-child)::after {content: \"\\00b7\"; padding: 0 .5ex}\n",
       "</style>\n",
       "<ol class=list-inline><li>10000</li><li>785</li></ol>\n"
      ],
      "text/latex": [
       "\\begin{enumerate*}\n",
       "\\item 10000\n",
       "\\item 785\n",
       "\\end{enumerate*}\n"
      ],
      "text/markdown": [
       "1. 10000\n",
       "2. 785\n",
       "\n",
       "\n"
      ],
      "text/plain": [
       "[1] 10000   785"
      ]
     },
     "metadata": {},
     "output_type": "display_data"
    },
    {
     "data": {
      "text/html": [
       "<table class=\"dataframe\">\n",
       "<caption>A data.frame: 6 × 785</caption>\n",
       "<thead>\n",
       "\t<tr><th></th><th scope=col>V1</th><th scope=col>V2</th><th scope=col>V3</th><th scope=col>V4</th><th scope=col>V5</th><th scope=col>V6</th><th scope=col>V7</th><th scope=col>V8</th><th scope=col>V9</th><th scope=col>V10</th><th scope=col>⋯</th><th scope=col>V776</th><th scope=col>V777</th><th scope=col>V778</th><th scope=col>V779</th><th scope=col>V780</th><th scope=col>V781</th><th scope=col>V782</th><th scope=col>V783</th><th scope=col>V784</th><th scope=col>V785</th></tr>\n",
       "\t<tr><th></th><th scope=col>&lt;int&gt;</th><th scope=col>&lt;int&gt;</th><th scope=col>&lt;int&gt;</th><th scope=col>&lt;int&gt;</th><th scope=col>&lt;int&gt;</th><th scope=col>&lt;int&gt;</th><th scope=col>&lt;int&gt;</th><th scope=col>&lt;int&gt;</th><th scope=col>&lt;int&gt;</th><th scope=col>&lt;int&gt;</th><th scope=col>⋯</th><th scope=col>&lt;int&gt;</th><th scope=col>&lt;int&gt;</th><th scope=col>&lt;int&gt;</th><th scope=col>&lt;int&gt;</th><th scope=col>&lt;int&gt;</th><th scope=col>&lt;int&gt;</th><th scope=col>&lt;int&gt;</th><th scope=col>&lt;int&gt;</th><th scope=col>&lt;int&gt;</th><th scope=col>&lt;int&gt;</th></tr>\n",
       "</thead>\n",
       "<tbody>\n",
       "\t<tr><th scope=row>1</th><td>0</td><td>0</td><td>0</td><td>0</td><td>0</td><td>0</td><td>0</td><td>0</td><td>0</td><td>0</td><td>⋯</td><td>0</td><td>0</td><td>0</td><td>0</td><td>0</td><td>0</td><td>0</td><td>0</td><td>0</td><td>8</td></tr>\n",
       "\t<tr><th scope=row>2</th><td>0</td><td>0</td><td>0</td><td>0</td><td>0</td><td>0</td><td>0</td><td>0</td><td>0</td><td>0</td><td>⋯</td><td>0</td><td>0</td><td>0</td><td>0</td><td>0</td><td>0</td><td>0</td><td>0</td><td>0</td><td>3</td></tr>\n",
       "\t<tr><th scope=row>3</th><td>0</td><td>0</td><td>0</td><td>0</td><td>0</td><td>0</td><td>0</td><td>0</td><td>0</td><td>0</td><td>⋯</td><td>0</td><td>0</td><td>0</td><td>0</td><td>0</td><td>0</td><td>0</td><td>0</td><td>0</td><td>8</td></tr>\n",
       "\t<tr><th scope=row>4</th><td>0</td><td>0</td><td>0</td><td>0</td><td>0</td><td>0</td><td>0</td><td>0</td><td>0</td><td>0</td><td>⋯</td><td>0</td><td>0</td><td>0</td><td>0</td><td>0</td><td>0</td><td>0</td><td>0</td><td>0</td><td>0</td></tr>\n",
       "\t<tr><th scope=row>5</th><td>0</td><td>0</td><td>0</td><td>0</td><td>0</td><td>0</td><td>0</td><td>0</td><td>0</td><td>0</td><td>⋯</td><td>0</td><td>0</td><td>0</td><td>0</td><td>0</td><td>0</td><td>0</td><td>0</td><td>0</td><td>1</td></tr>\n",
       "\t<tr><th scope=row>6</th><td>0</td><td>0</td><td>0</td><td>0</td><td>0</td><td>0</td><td>0</td><td>0</td><td>0</td><td>0</td><td>⋯</td><td>0</td><td>0</td><td>0</td><td>0</td><td>0</td><td>0</td><td>0</td><td>0</td><td>0</td><td>5</td></tr>\n",
       "</tbody>\n",
       "</table>\n"
      ],
      "text/latex": [
       "A data.frame: 6 × 785\n",
       "\\begin{tabular}{r|lllllllllllllllllllll}\n",
       "  & V1 & V2 & V3 & V4 & V5 & V6 & V7 & V8 & V9 & V10 & ⋯ & V776 & V777 & V778 & V779 & V780 & V781 & V782 & V783 & V784 & V785\\\\\n",
       "  & <int> & <int> & <int> & <int> & <int> & <int> & <int> & <int> & <int> & <int> & ⋯ & <int> & <int> & <int> & <int> & <int> & <int> & <int> & <int> & <int> & <int>\\\\\n",
       "\\hline\n",
       "\t1 & 0 & 0 & 0 & 0 & 0 & 0 & 0 & 0 & 0 & 0 & ⋯ & 0 & 0 & 0 & 0 & 0 & 0 & 0 & 0 & 0 & 8\\\\\n",
       "\t2 & 0 & 0 & 0 & 0 & 0 & 0 & 0 & 0 & 0 & 0 & ⋯ & 0 & 0 & 0 & 0 & 0 & 0 & 0 & 0 & 0 & 3\\\\\n",
       "\t3 & 0 & 0 & 0 & 0 & 0 & 0 & 0 & 0 & 0 & 0 & ⋯ & 0 & 0 & 0 & 0 & 0 & 0 & 0 & 0 & 0 & 8\\\\\n",
       "\t4 & 0 & 0 & 0 & 0 & 0 & 0 & 0 & 0 & 0 & 0 & ⋯ & 0 & 0 & 0 & 0 & 0 & 0 & 0 & 0 & 0 & 0\\\\\n",
       "\t5 & 0 & 0 & 0 & 0 & 0 & 0 & 0 & 0 & 0 & 0 & ⋯ & 0 & 0 & 0 & 0 & 0 & 0 & 0 & 0 & 0 & 1\\\\\n",
       "\t6 & 0 & 0 & 0 & 0 & 0 & 0 & 0 & 0 & 0 & 0 & ⋯ & 0 & 0 & 0 & 0 & 0 & 0 & 0 & 0 & 0 & 5\\\\\n",
       "\\end{tabular}\n"
      ],
      "text/markdown": [
       "\n",
       "A data.frame: 6 × 785\n",
       "\n",
       "| <!--/--> | V1 &lt;int&gt; | V2 &lt;int&gt; | V3 &lt;int&gt; | V4 &lt;int&gt; | V5 &lt;int&gt; | V6 &lt;int&gt; | V7 &lt;int&gt; | V8 &lt;int&gt; | V9 &lt;int&gt; | V10 &lt;int&gt; | ⋯ ⋯ | V776 &lt;int&gt; | V777 &lt;int&gt; | V778 &lt;int&gt; | V779 &lt;int&gt; | V780 &lt;int&gt; | V781 &lt;int&gt; | V782 &lt;int&gt; | V783 &lt;int&gt; | V784 &lt;int&gt; | V785 &lt;int&gt; |\n",
       "|---|---|---|---|---|---|---|---|---|---|---|---|---|---|---|---|---|---|---|---|---|---|\n",
       "| 1 | 0 | 0 | 0 | 0 | 0 | 0 | 0 | 0 | 0 | 0 | ⋯ | 0 | 0 | 0 | 0 | 0 | 0 | 0 | 0 | 0 | 8 |\n",
       "| 2 | 0 | 0 | 0 | 0 | 0 | 0 | 0 | 0 | 0 | 0 | ⋯ | 0 | 0 | 0 | 0 | 0 | 0 | 0 | 0 | 0 | 3 |\n",
       "| 3 | 0 | 0 | 0 | 0 | 0 | 0 | 0 | 0 | 0 | 0 | ⋯ | 0 | 0 | 0 | 0 | 0 | 0 | 0 | 0 | 0 | 8 |\n",
       "| 4 | 0 | 0 | 0 | 0 | 0 | 0 | 0 | 0 | 0 | 0 | ⋯ | 0 | 0 | 0 | 0 | 0 | 0 | 0 | 0 | 0 | 0 |\n",
       "| 5 | 0 | 0 | 0 | 0 | 0 | 0 | 0 | 0 | 0 | 0 | ⋯ | 0 | 0 | 0 | 0 | 0 | 0 | 0 | 0 | 0 | 1 |\n",
       "| 6 | 0 | 0 | 0 | 0 | 0 | 0 | 0 | 0 | 0 | 0 | ⋯ | 0 | 0 | 0 | 0 | 0 | 0 | 0 | 0 | 0 | 5 |\n",
       "\n"
      ],
      "text/plain": [
       "  V1 V2 V3 V4 V5 V6 V7 V8 V9 V10 ⋯ V776 V777 V778 V779 V780 V781 V782 V783 V784\n",
       "1 0  0  0  0  0  0  0  0  0  0   ⋯ 0    0    0    0    0    0    0    0    0   \n",
       "2 0  0  0  0  0  0  0  0  0  0   ⋯ 0    0    0    0    0    0    0    0    0   \n",
       "3 0  0  0  0  0  0  0  0  0  0   ⋯ 0    0    0    0    0    0    0    0    0   \n",
       "4 0  0  0  0  0  0  0  0  0  0   ⋯ 0    0    0    0    0    0    0    0    0   \n",
       "5 0  0  0  0  0  0  0  0  0  0   ⋯ 0    0    0    0    0    0    0    0    0   \n",
       "6 0  0  0  0  0  0  0  0  0  0   ⋯ 0    0    0    0    0    0    0    0    0   \n",
       "  V785\n",
       "1 8   \n",
       "2 3   \n",
       "3 8   \n",
       "4 0   \n",
       "5 1   \n",
       "6 5   "
      ]
     },
     "metadata": {},
     "output_type": "display_data"
    }
   ],
   "source": [
    "digitos = read.csv(gzfile('test.csv.gz'), header = F)\n",
    "dim(digitos)\n",
    "head(digitos)"
   ]
  },
  {
   "cell_type": "markdown",
   "metadata": {},
   "source": [
    "## Visualizando Elementos\n",
    "- t( ) -> 'Gira' dados de linhas para colunas e vice versa\n",
    "- matrix( ) -> Cria uma matrix\n",
    "- umlist( ) -> Cria um vetor\n",
    "- dig1 = Ao item da linha 20\n",
    "- Ignoramos a coluna 785, pois ela é a classe correspondente ao digito\n",
    "- nrow= -> Indica a quantidade de linhas da matriz\n",
    "- byrow= -> Indica se a matriz será preenchida por linhas ou colunas\n",
    "- \n",
    "- apply( ) -> Retorna um objeto de classe H2O\n",
    "- dig1 -> Data\n",
    "- rev( ) -> Retorna uma versão reversa do objeto"
   ]
  },
  {
   "cell_type": "code",
   "execution_count": 3,
   "metadata": {
    "vscode": {
     "languageId": "r"
    }
   },
   "outputs": [
    {
     "data": {
      "text/html": [
       "<table class=\"dataframe\">\n",
       "<caption>A matrix: 28 × 28 of type int</caption>\n",
       "<tbody>\n",
       "\t<tr><td>0</td><td>  0</td><td>  0</td><td>  0</td><td>  0</td><td>  0</td><td>  0</td><td>  0</td><td>  0</td><td>  0</td><td>⋯</td><td>  0</td><td>  0</td><td>  0</td><td>0</td><td>0</td><td>0</td><td>0</td><td>0</td><td>0</td><td>0</td></tr>\n",
       "\t<tr><td>0</td><td>  0</td><td>  0</td><td>  0</td><td>  0</td><td>  0</td><td>  0</td><td>  0</td><td>  0</td><td>  0</td><td>⋯</td><td>  0</td><td>  0</td><td>  0</td><td>0</td><td>0</td><td>0</td><td>0</td><td>0</td><td>0</td><td>0</td></tr>\n",
       "\t<tr><td>0</td><td>  0</td><td>  0</td><td>  0</td><td>  0</td><td>  0</td><td>  0</td><td>  0</td><td>  0</td><td>  0</td><td>⋯</td><td>  0</td><td>  0</td><td>  0</td><td>0</td><td>0</td><td>0</td><td>0</td><td>0</td><td>0</td><td>0</td></tr>\n",
       "\t<tr><td>0</td><td>  0</td><td>  0</td><td>  0</td><td>  0</td><td>  0</td><td>  0</td><td>  0</td><td>  0</td><td>  0</td><td>⋯</td><td>  0</td><td>  0</td><td>  0</td><td>0</td><td>0</td><td>0</td><td>0</td><td>0</td><td>0</td><td>0</td></tr>\n",
       "\t<tr><td>0</td><td>  0</td><td>  0</td><td>  0</td><td>  0</td><td>  0</td><td>  0</td><td>  0</td><td>  0</td><td>  0</td><td>⋯</td><td>  0</td><td>  0</td><td>  0</td><td>0</td><td>0</td><td>0</td><td>0</td><td>0</td><td>0</td><td>0</td></tr>\n",
       "\t<tr><td>0</td><td>  0</td><td>  0</td><td>  0</td><td>  0</td><td>  0</td><td>  0</td><td>  0</td><td>  0</td><td>  0</td><td>⋯</td><td>  0</td><td>  0</td><td>  0</td><td>0</td><td>0</td><td>0</td><td>0</td><td>0</td><td>0</td><td>0</td></tr>\n",
       "\t<tr><td>0</td><td>  0</td><td>  0</td><td>  0</td><td>  0</td><td>  0</td><td>  0</td><td>  0</td><td>  0</td><td>  0</td><td>⋯</td><td>  0</td><td>  0</td><td>  0</td><td>0</td><td>0</td><td>0</td><td>0</td><td>0</td><td>0</td><td>0</td></tr>\n",
       "\t<tr><td>0</td><td>  0</td><td>  0</td><td>  0</td><td>  0</td><td>  0</td><td>  0</td><td>  0</td><td>  0</td><td>  0</td><td>⋯</td><td>  0</td><td>  0</td><td>  0</td><td>0</td><td>0</td><td>0</td><td>0</td><td>0</td><td>0</td><td>0</td></tr>\n",
       "\t<tr><td>0</td><td>  0</td><td>  0</td><td>  0</td><td>  0</td><td>  0</td><td>  0</td><td>  0</td><td>  0</td><td>  0</td><td>⋯</td><td>  0</td><td>  0</td><td>  0</td><td>0</td><td>0</td><td>0</td><td>0</td><td>0</td><td>0</td><td>0</td></tr>\n",
       "\t<tr><td>0</td><td>  0</td><td>  0</td><td>  0</td><td>  0</td><td>  0</td><td>  0</td><td>  0</td><td>  0</td><td>  0</td><td>⋯</td><td>  8</td><td>  0</td><td>  0</td><td>0</td><td>0</td><td>0</td><td>0</td><td>0</td><td>0</td><td>0</td></tr>\n",
       "\t<tr><td>0</td><td>  0</td><td>  0</td><td>  0</td><td>  0</td><td>  0</td><td>  0</td><td>  0</td><td>  0</td><td>  0</td><td>⋯</td><td>187</td><td> 15</td><td>  0</td><td>0</td><td>0</td><td>0</td><td>0</td><td>0</td><td>0</td><td>0</td></tr>\n",
       "\t<tr><td>0</td><td>  0</td><td>  0</td><td>  0</td><td>  0</td><td>  0</td><td>  0</td><td>  0</td><td>  0</td><td>  0</td><td>⋯</td><td>253</td><td>159</td><td>  0</td><td>0</td><td>0</td><td>0</td><td>0</td><td>0</td><td>0</td><td>0</td></tr>\n",
       "\t<tr><td>0</td><td>  0</td><td>  0</td><td>  0</td><td>  0</td><td>  0</td><td>  0</td><td>  0</td><td>  0</td><td>  0</td><td>⋯</td><td>253</td><td>248</td><td> 42</td><td>0</td><td>0</td><td>0</td><td>0</td><td>0</td><td>0</td><td>0</td></tr>\n",
       "\t<tr><td>0</td><td> 32</td><td> 55</td><td> 31</td><td>  0</td><td>  0</td><td>  0</td><td>  0</td><td>  0</td><td>  0</td><td>⋯</td><td>227</td><td>253</td><td>216</td><td>0</td><td>0</td><td>0</td><td>0</td><td>0</td><td>0</td><td>0</td></tr>\n",
       "\t<tr><td>0</td><td>231</td><td>253</td><td>230</td><td>136</td><td> 64</td><td>  0</td><td>  0</td><td>  0</td><td>  0</td><td>⋯</td><td>101</td><td>253</td><td>255</td><td>0</td><td>0</td><td>0</td><td>0</td><td>0</td><td>0</td><td>0</td></tr>\n",
       "\t<tr><td>0</td><td>188</td><td>253</td><td>253</td><td>253</td><td>249</td><td>188</td><td>110</td><td> 15</td><td>  0</td><td>⋯</td><td> 16</td><td>214</td><td>254</td><td>0</td><td>0</td><td>0</td><td>0</td><td>0</td><td>0</td><td>0</td></tr>\n",
       "\t<tr><td>0</td><td> 13</td><td> 86</td><td>180</td><td>229</td><td>253</td><td>253</td><td>253</td><td>224</td><td>168</td><td>⋯</td><td>  0</td><td>177</td><td>255</td><td>0</td><td>0</td><td>0</td><td>0</td><td>0</td><td>0</td><td>0</td></tr>\n",
       "\t<tr><td>0</td><td>  0</td><td>  0</td><td>  0</td><td> 47</td><td>156</td><td>201</td><td>253</td><td>253</td><td>253</td><td>⋯</td><td>110</td><td>239</td><td>255</td><td>0</td><td>0</td><td>0</td><td>0</td><td>0</td><td>0</td><td>0</td></tr>\n",
       "\t<tr><td>0</td><td>  0</td><td>  0</td><td>  0</td><td>  0</td><td>  0</td><td>  9</td><td>138</td><td>226</td><td>251</td><td>⋯</td><td>253</td><td>253</td><td>185</td><td>0</td><td>0</td><td>0</td><td>0</td><td>0</td><td>0</td><td>0</td></tr>\n",
       "\t<tr><td>0</td><td>  0</td><td>  0</td><td>  0</td><td>  0</td><td>  0</td><td>  0</td><td>  0</td><td>  0</td><td> 80</td><td>⋯</td><td>245</td><td>159</td><td> 13</td><td>0</td><td>0</td><td>0</td><td>0</td><td>0</td><td>0</td><td>0</td></tr>\n",
       "\t<tr><td>0</td><td>  0</td><td>  0</td><td>  0</td><td>  0</td><td>  0</td><td>  0</td><td>  0</td><td>  0</td><td>  0</td><td>⋯</td><td> 38</td><td>  0</td><td>  0</td><td>0</td><td>0</td><td>0</td><td>0</td><td>0</td><td>0</td><td>0</td></tr>\n",
       "\t<tr><td>0</td><td>  0</td><td>  0</td><td>  0</td><td>  0</td><td>  0</td><td>  0</td><td>  0</td><td>  0</td><td>  0</td><td>⋯</td><td>  0</td><td>  0</td><td>  0</td><td>0</td><td>0</td><td>0</td><td>0</td><td>0</td><td>0</td><td>0</td></tr>\n",
       "\t<tr><td>0</td><td>  0</td><td>  0</td><td>  0</td><td>  0</td><td>  0</td><td>  0</td><td>  0</td><td>  0</td><td>  0</td><td>⋯</td><td>  0</td><td>  0</td><td>  0</td><td>0</td><td>0</td><td>0</td><td>0</td><td>0</td><td>0</td><td>0</td></tr>\n",
       "\t<tr><td>0</td><td>  0</td><td>  0</td><td>  0</td><td>  0</td><td>  0</td><td>  0</td><td>  0</td><td>  0</td><td>  0</td><td>⋯</td><td>  0</td><td>  0</td><td>  0</td><td>0</td><td>0</td><td>0</td><td>0</td><td>0</td><td>0</td><td>0</td></tr>\n",
       "\t<tr><td>0</td><td>  0</td><td>  0</td><td>  0</td><td>  0</td><td>  0</td><td>  0</td><td>  0</td><td>  0</td><td>  0</td><td>⋯</td><td>  0</td><td>  0</td><td>  0</td><td>0</td><td>0</td><td>0</td><td>0</td><td>0</td><td>0</td><td>0</td></tr>\n",
       "\t<tr><td>0</td><td>  0</td><td>  0</td><td>  0</td><td>  0</td><td>  0</td><td>  0</td><td>  0</td><td>  0</td><td>  0</td><td>⋯</td><td>  0</td><td>  0</td><td>  0</td><td>0</td><td>0</td><td>0</td><td>0</td><td>0</td><td>0</td><td>0</td></tr>\n",
       "\t<tr><td>0</td><td>  0</td><td>  0</td><td>  0</td><td>  0</td><td>  0</td><td>  0</td><td>  0</td><td>  0</td><td>  0</td><td>⋯</td><td>  0</td><td>  0</td><td>  0</td><td>0</td><td>0</td><td>0</td><td>0</td><td>0</td><td>0</td><td>0</td></tr>\n",
       "\t<tr><td>0</td><td>  0</td><td>  0</td><td>  0</td><td>  0</td><td>  0</td><td>  0</td><td>  0</td><td>  0</td><td>  0</td><td>⋯</td><td>  0</td><td>  0</td><td>  0</td><td>0</td><td>0</td><td>0</td><td>0</td><td>0</td><td>0</td><td>0</td></tr>\n",
       "</tbody>\n",
       "</table>\n"
      ],
      "text/latex": [
       "A matrix: 28 × 28 of type int\n",
       "\\begin{tabular}{lllllllllllllllllllll}\n",
       "\t 0 &   0 &   0 &   0 &   0 &   0 &   0 &   0 &   0 &   0 & ⋯ &   0 &   0 &   0 & 0 & 0 & 0 & 0 & 0 & 0 & 0\\\\\n",
       "\t 0 &   0 &   0 &   0 &   0 &   0 &   0 &   0 &   0 &   0 & ⋯ &   0 &   0 &   0 & 0 & 0 & 0 & 0 & 0 & 0 & 0\\\\\n",
       "\t 0 &   0 &   0 &   0 &   0 &   0 &   0 &   0 &   0 &   0 & ⋯ &   0 &   0 &   0 & 0 & 0 & 0 & 0 & 0 & 0 & 0\\\\\n",
       "\t 0 &   0 &   0 &   0 &   0 &   0 &   0 &   0 &   0 &   0 & ⋯ &   0 &   0 &   0 & 0 & 0 & 0 & 0 & 0 & 0 & 0\\\\\n",
       "\t 0 &   0 &   0 &   0 &   0 &   0 &   0 &   0 &   0 &   0 & ⋯ &   0 &   0 &   0 & 0 & 0 & 0 & 0 & 0 & 0 & 0\\\\\n",
       "\t 0 &   0 &   0 &   0 &   0 &   0 &   0 &   0 &   0 &   0 & ⋯ &   0 &   0 &   0 & 0 & 0 & 0 & 0 & 0 & 0 & 0\\\\\n",
       "\t 0 &   0 &   0 &   0 &   0 &   0 &   0 &   0 &   0 &   0 & ⋯ &   0 &   0 &   0 & 0 & 0 & 0 & 0 & 0 & 0 & 0\\\\\n",
       "\t 0 &   0 &   0 &   0 &   0 &   0 &   0 &   0 &   0 &   0 & ⋯ &   0 &   0 &   0 & 0 & 0 & 0 & 0 & 0 & 0 & 0\\\\\n",
       "\t 0 &   0 &   0 &   0 &   0 &   0 &   0 &   0 &   0 &   0 & ⋯ &   0 &   0 &   0 & 0 & 0 & 0 & 0 & 0 & 0 & 0\\\\\n",
       "\t 0 &   0 &   0 &   0 &   0 &   0 &   0 &   0 &   0 &   0 & ⋯ &   8 &   0 &   0 & 0 & 0 & 0 & 0 & 0 & 0 & 0\\\\\n",
       "\t 0 &   0 &   0 &   0 &   0 &   0 &   0 &   0 &   0 &   0 & ⋯ & 187 &  15 &   0 & 0 & 0 & 0 & 0 & 0 & 0 & 0\\\\\n",
       "\t 0 &   0 &   0 &   0 &   0 &   0 &   0 &   0 &   0 &   0 & ⋯ & 253 & 159 &   0 & 0 & 0 & 0 & 0 & 0 & 0 & 0\\\\\n",
       "\t 0 &   0 &   0 &   0 &   0 &   0 &   0 &   0 &   0 &   0 & ⋯ & 253 & 248 &  42 & 0 & 0 & 0 & 0 & 0 & 0 & 0\\\\\n",
       "\t 0 &  32 &  55 &  31 &   0 &   0 &   0 &   0 &   0 &   0 & ⋯ & 227 & 253 & 216 & 0 & 0 & 0 & 0 & 0 & 0 & 0\\\\\n",
       "\t 0 & 231 & 253 & 230 & 136 &  64 &   0 &   0 &   0 &   0 & ⋯ & 101 & 253 & 255 & 0 & 0 & 0 & 0 & 0 & 0 & 0\\\\\n",
       "\t 0 & 188 & 253 & 253 & 253 & 249 & 188 & 110 &  15 &   0 & ⋯ &  16 & 214 & 254 & 0 & 0 & 0 & 0 & 0 & 0 & 0\\\\\n",
       "\t 0 &  13 &  86 & 180 & 229 & 253 & 253 & 253 & 224 & 168 & ⋯ &   0 & 177 & 255 & 0 & 0 & 0 & 0 & 0 & 0 & 0\\\\\n",
       "\t 0 &   0 &   0 &   0 &  47 & 156 & 201 & 253 & 253 & 253 & ⋯ & 110 & 239 & 255 & 0 & 0 & 0 & 0 & 0 & 0 & 0\\\\\n",
       "\t 0 &   0 &   0 &   0 &   0 &   0 &   9 & 138 & 226 & 251 & ⋯ & 253 & 253 & 185 & 0 & 0 & 0 & 0 & 0 & 0 & 0\\\\\n",
       "\t 0 &   0 &   0 &   0 &   0 &   0 &   0 &   0 &   0 &  80 & ⋯ & 245 & 159 &  13 & 0 & 0 & 0 & 0 & 0 & 0 & 0\\\\\n",
       "\t 0 &   0 &   0 &   0 &   0 &   0 &   0 &   0 &   0 &   0 & ⋯ &  38 &   0 &   0 & 0 & 0 & 0 & 0 & 0 & 0 & 0\\\\\n",
       "\t 0 &   0 &   0 &   0 &   0 &   0 &   0 &   0 &   0 &   0 & ⋯ &   0 &   0 &   0 & 0 & 0 & 0 & 0 & 0 & 0 & 0\\\\\n",
       "\t 0 &   0 &   0 &   0 &   0 &   0 &   0 &   0 &   0 &   0 & ⋯ &   0 &   0 &   0 & 0 & 0 & 0 & 0 & 0 & 0 & 0\\\\\n",
       "\t 0 &   0 &   0 &   0 &   0 &   0 &   0 &   0 &   0 &   0 & ⋯ &   0 &   0 &   0 & 0 & 0 & 0 & 0 & 0 & 0 & 0\\\\\n",
       "\t 0 &   0 &   0 &   0 &   0 &   0 &   0 &   0 &   0 &   0 & ⋯ &   0 &   0 &   0 & 0 & 0 & 0 & 0 & 0 & 0 & 0\\\\\n",
       "\t 0 &   0 &   0 &   0 &   0 &   0 &   0 &   0 &   0 &   0 & ⋯ &   0 &   0 &   0 & 0 & 0 & 0 & 0 & 0 & 0 & 0\\\\\n",
       "\t 0 &   0 &   0 &   0 &   0 &   0 &   0 &   0 &   0 &   0 & ⋯ &   0 &   0 &   0 & 0 & 0 & 0 & 0 & 0 & 0 & 0\\\\\n",
       "\t 0 &   0 &   0 &   0 &   0 &   0 &   0 &   0 &   0 &   0 & ⋯ &   0 &   0 &   0 & 0 & 0 & 0 & 0 & 0 & 0 & 0\\\\\n",
       "\\end{tabular}\n"
      ],
      "text/markdown": [
       "\n",
       "A matrix: 28 × 28 of type int\n",
       "\n",
       "| 0 |   0 |   0 |   0 |   0 |   0 |   0 |   0 |   0 |   0 | ⋯ |   0 |   0 |   0 | 0 | 0 | 0 | 0 | 0 | 0 | 0 |\n",
       "| 0 |   0 |   0 |   0 |   0 |   0 |   0 |   0 |   0 |   0 | ⋯ |   0 |   0 |   0 | 0 | 0 | 0 | 0 | 0 | 0 | 0 |\n",
       "| 0 |   0 |   0 |   0 |   0 |   0 |   0 |   0 |   0 |   0 | ⋯ |   0 |   0 |   0 | 0 | 0 | 0 | 0 | 0 | 0 | 0 |\n",
       "| 0 |   0 |   0 |   0 |   0 |   0 |   0 |   0 |   0 |   0 | ⋯ |   0 |   0 |   0 | 0 | 0 | 0 | 0 | 0 | 0 | 0 |\n",
       "| 0 |   0 |   0 |   0 |   0 |   0 |   0 |   0 |   0 |   0 | ⋯ |   0 |   0 |   0 | 0 | 0 | 0 | 0 | 0 | 0 | 0 |\n",
       "| 0 |   0 |   0 |   0 |   0 |   0 |   0 |   0 |   0 |   0 | ⋯ |   0 |   0 |   0 | 0 | 0 | 0 | 0 | 0 | 0 | 0 |\n",
       "| 0 |   0 |   0 |   0 |   0 |   0 |   0 |   0 |   0 |   0 | ⋯ |   0 |   0 |   0 | 0 | 0 | 0 | 0 | 0 | 0 | 0 |\n",
       "| 0 |   0 |   0 |   0 |   0 |   0 |   0 |   0 |   0 |   0 | ⋯ |   0 |   0 |   0 | 0 | 0 | 0 | 0 | 0 | 0 | 0 |\n",
       "| 0 |   0 |   0 |   0 |   0 |   0 |   0 |   0 |   0 |   0 | ⋯ |   0 |   0 |   0 | 0 | 0 | 0 | 0 | 0 | 0 | 0 |\n",
       "| 0 |   0 |   0 |   0 |   0 |   0 |   0 |   0 |   0 |   0 | ⋯ |   8 |   0 |   0 | 0 | 0 | 0 | 0 | 0 | 0 | 0 |\n",
       "| 0 |   0 |   0 |   0 |   0 |   0 |   0 |   0 |   0 |   0 | ⋯ | 187 |  15 |   0 | 0 | 0 | 0 | 0 | 0 | 0 | 0 |\n",
       "| 0 |   0 |   0 |   0 |   0 |   0 |   0 |   0 |   0 |   0 | ⋯ | 253 | 159 |   0 | 0 | 0 | 0 | 0 | 0 | 0 | 0 |\n",
       "| 0 |   0 |   0 |   0 |   0 |   0 |   0 |   0 |   0 |   0 | ⋯ | 253 | 248 |  42 | 0 | 0 | 0 | 0 | 0 | 0 | 0 |\n",
       "| 0 |  32 |  55 |  31 |   0 |   0 |   0 |   0 |   0 |   0 | ⋯ | 227 | 253 | 216 | 0 | 0 | 0 | 0 | 0 | 0 | 0 |\n",
       "| 0 | 231 | 253 | 230 | 136 |  64 |   0 |   0 |   0 |   0 | ⋯ | 101 | 253 | 255 | 0 | 0 | 0 | 0 | 0 | 0 | 0 |\n",
       "| 0 | 188 | 253 | 253 | 253 | 249 | 188 | 110 |  15 |   0 | ⋯ |  16 | 214 | 254 | 0 | 0 | 0 | 0 | 0 | 0 | 0 |\n",
       "| 0 |  13 |  86 | 180 | 229 | 253 | 253 | 253 | 224 | 168 | ⋯ |   0 | 177 | 255 | 0 | 0 | 0 | 0 | 0 | 0 | 0 |\n",
       "| 0 |   0 |   0 |   0 |  47 | 156 | 201 | 253 | 253 | 253 | ⋯ | 110 | 239 | 255 | 0 | 0 | 0 | 0 | 0 | 0 | 0 |\n",
       "| 0 |   0 |   0 |   0 |   0 |   0 |   9 | 138 | 226 | 251 | ⋯ | 253 | 253 | 185 | 0 | 0 | 0 | 0 | 0 | 0 | 0 |\n",
       "| 0 |   0 |   0 |   0 |   0 |   0 |   0 |   0 |   0 |  80 | ⋯ | 245 | 159 |  13 | 0 | 0 | 0 | 0 | 0 | 0 | 0 |\n",
       "| 0 |   0 |   0 |   0 |   0 |   0 |   0 |   0 |   0 |   0 | ⋯ |  38 |   0 |   0 | 0 | 0 | 0 | 0 | 0 | 0 | 0 |\n",
       "| 0 |   0 |   0 |   0 |   0 |   0 |   0 |   0 |   0 |   0 | ⋯ |   0 |   0 |   0 | 0 | 0 | 0 | 0 | 0 | 0 | 0 |\n",
       "| 0 |   0 |   0 |   0 |   0 |   0 |   0 |   0 |   0 |   0 | ⋯ |   0 |   0 |   0 | 0 | 0 | 0 | 0 | 0 | 0 | 0 |\n",
       "| 0 |   0 |   0 |   0 |   0 |   0 |   0 |   0 |   0 |   0 | ⋯ |   0 |   0 |   0 | 0 | 0 | 0 | 0 | 0 | 0 | 0 |\n",
       "| 0 |   0 |   0 |   0 |   0 |   0 |   0 |   0 |   0 |   0 | ⋯ |   0 |   0 |   0 | 0 | 0 | 0 | 0 | 0 | 0 | 0 |\n",
       "| 0 |   0 |   0 |   0 |   0 |   0 |   0 |   0 |   0 |   0 | ⋯ |   0 |   0 |   0 | 0 | 0 | 0 | 0 | 0 | 0 | 0 |\n",
       "| 0 |   0 |   0 |   0 |   0 |   0 |   0 |   0 |   0 |   0 | ⋯ |   0 |   0 |   0 | 0 | 0 | 0 | 0 | 0 | 0 | 0 |\n",
       "| 0 |   0 |   0 |   0 |   0 |   0 |   0 |   0 |   0 |   0 | ⋯ |   0 |   0 |   0 | 0 | 0 | 0 | 0 | 0 | 0 | 0 |\n",
       "\n"
      ],
      "text/plain": [
       "      [,1] [,2] [,3] [,4] [,5] [,6] [,7] [,8] [,9] [,10] [,11] [,12] [,13]\n",
       " [1,] 0      0    0    0    0    0    0    0    0    0   ⋯       0     0  \n",
       " [2,] 0      0    0    0    0    0    0    0    0    0   ⋯       0     0  \n",
       " [3,] 0      0    0    0    0    0    0    0    0    0   ⋯       0     0  \n",
       " [4,] 0      0    0    0    0    0    0    0    0    0   ⋯       0     0  \n",
       " [5,] 0      0    0    0    0    0    0    0    0    0   ⋯       0     0  \n",
       " [6,] 0      0    0    0    0    0    0    0    0    0   ⋯       0     0  \n",
       " [7,] 0      0    0    0    0    0    0    0    0    0   ⋯       0     0  \n",
       " [8,] 0      0    0    0    0    0    0    0    0    0   ⋯       0     0  \n",
       " [9,] 0      0    0    0    0    0    0    0    0    0   ⋯       0     0  \n",
       "[10,] 0      0    0    0    0    0    0    0    0    0   ⋯       8     0  \n",
       "[11,] 0      0    0    0    0    0    0    0    0    0   ⋯     187    15  \n",
       "[12,] 0      0    0    0    0    0    0    0    0    0   ⋯     253   159  \n",
       "[13,] 0      0    0    0    0    0    0    0    0    0   ⋯     253   248  \n",
       "[14,] 0     32   55   31    0    0    0    0    0    0   ⋯     227   253  \n",
       "[15,] 0    231  253  230  136   64    0    0    0    0   ⋯     101   253  \n",
       "[16,] 0    188  253  253  253  249  188  110   15    0   ⋯      16   214  \n",
       "[17,] 0     13   86  180  229  253  253  253  224  168   ⋯       0   177  \n",
       "[18,] 0      0    0    0   47  156  201  253  253  253   ⋯     110   239  \n",
       "[19,] 0      0    0    0    0    0    9  138  226  251   ⋯     253   253  \n",
       "[20,] 0      0    0    0    0    0    0    0    0   80   ⋯     245   159  \n",
       "[21,] 0      0    0    0    0    0    0    0    0    0   ⋯      38     0  \n",
       "[22,] 0      0    0    0    0    0    0    0    0    0   ⋯       0     0  \n",
       "[23,] 0      0    0    0    0    0    0    0    0    0   ⋯       0     0  \n",
       "[24,] 0      0    0    0    0    0    0    0    0    0   ⋯       0     0  \n",
       "[25,] 0      0    0    0    0    0    0    0    0    0   ⋯       0     0  \n",
       "[26,] 0      0    0    0    0    0    0    0    0    0   ⋯       0     0  \n",
       "[27,] 0      0    0    0    0    0    0    0    0    0   ⋯       0     0  \n",
       "[28,] 0      0    0    0    0    0    0    0    0    0   ⋯       0     0  \n",
       "      [,14] [,15] [,16] [,17] [,18] [,19] [,20] [,21]\n",
       " [1,]   0   0     0     0     0     0     0     0    \n",
       " [2,]   0   0     0     0     0     0     0     0    \n",
       " [3,]   0   0     0     0     0     0     0     0    \n",
       " [4,]   0   0     0     0     0     0     0     0    \n",
       " [5,]   0   0     0     0     0     0     0     0    \n",
       " [6,]   0   0     0     0     0     0     0     0    \n",
       " [7,]   0   0     0     0     0     0     0     0    \n",
       " [8,]   0   0     0     0     0     0     0     0    \n",
       " [9,]   0   0     0     0     0     0     0     0    \n",
       "[10,]   0   0     0     0     0     0     0     0    \n",
       "[11,]   0   0     0     0     0     0     0     0    \n",
       "[12,]   0   0     0     0     0     0     0     0    \n",
       "[13,]  42   0     0     0     0     0     0     0    \n",
       "[14,] 216   0     0     0     0     0     0     0    \n",
       "[15,] 255   0     0     0     0     0     0     0    \n",
       "[16,] 254   0     0     0     0     0     0     0    \n",
       "[17,] 255   0     0     0     0     0     0     0    \n",
       "[18,] 255   0     0     0     0     0     0     0    \n",
       "[19,] 185   0     0     0     0     0     0     0    \n",
       "[20,]  13   0     0     0     0     0     0     0    \n",
       "[21,]   0   0     0     0     0     0     0     0    \n",
       "[22,]   0   0     0     0     0     0     0     0    \n",
       "[23,]   0   0     0     0     0     0     0     0    \n",
       "[24,]   0   0     0     0     0     0     0     0    \n",
       "[25,]   0   0     0     0     0     0     0     0    \n",
       "[26,]   0   0     0     0     0     0     0     0    \n",
       "[27,]   0   0     0     0     0     0     0     0    \n",
       "[28,]   0   0     0     0     0     0     0     0    "
      ]
     },
     "metadata": {},
     "output_type": "display_data"
    },
    {
     "data": {
      "text/html": [
       "9"
      ],
      "text/latex": [
       "9"
      ],
      "text/markdown": [
       "9"
      ],
      "text/plain": [
       "[1] 9"
      ]
     },
     "metadata": {},
     "output_type": "display_data"
    },
    {
     "data": {
      "text/html": [
       "3"
      ],
      "text/latex": [
       "3"
      ],
      "text/markdown": [
       "3"
      ],
      "text/plain": [
       "[1] 3"
      ]
     },
     "metadata": {},
     "output_type": "display_data"
    },
    {
     "data": {
      "text/html": [
       "0"
      ],
      "text/latex": [
       "0"
      ],
      "text/markdown": [
       "0"
      ],
      "text/plain": [
       "[1] 0"
      ]
     },
     "metadata": {},
     "output_type": "display_data"
    },
    {
     "data": {
      "text/html": [
       "1"
      ],
      "text/latex": [
       "1"
      ],
      "text/markdown": [
       "1"
      ],
      "text/plain": [
       "[1] 1"
      ]
     },
     "metadata": {},
     "output_type": "display_data"
    },
    {
     "data": {
      "text/html": [
       "<style>\n",
       ".list-inline {list-style: none; margin:0; padding: 0}\n",
       ".list-inline>li {display: inline-block}\n",
       ".list-inline>li:not(:last-child)::after {content: \"\\00b7\"; padding: 0 .5ex}\n",
       "</style>\n",
       "<ol class=list-inline><li>1</li><li>2</li><li>3</li><li>4</li></ol>\n"
      ],
      "text/latex": [
       "\\begin{enumerate*}\n",
       "\\item 1\n",
       "\\item 2\n",
       "\\item 3\n",
       "\\item 4\n",
       "\\end{enumerate*}\n"
      ],
      "text/markdown": [
       "1. 1\n",
       "2. 2\n",
       "3. 3\n",
       "4. 4\n",
       "\n",
       "\n"
      ],
      "text/plain": [
       "[1] 1 2 3 4"
      ]
     },
     "metadata": {},
     "output_type": "display_data"
    },
    {
     "data": {
      "image/png": "[encoded data removed]",
      "text/plain": [
       "plot without title"
      ]
     },
     "metadata": {
      "image/png": {
       "height": 420,
       "width": 420
      }
     },
     "output_type": "display_data"
    }
   ],
   "source": [
    "dig1 = t(matrix(unlist(digitos[20, -785]), nrow=28, byrow = F))\n",
    "dig1 = t(apply(dig1, 2, rev))\n",
    "dig1\n",
    "digitos[20, 785]\n",
    "\n",
    "dig2 = t(matrix(unlist(digitos[2, -785]), nrow = 28, byrow = F))\n",
    "dig2 = t(apply(dig2, 2, rev))\n",
    "digitos[2, 785]\n",
    "\n",
    "dig3 = t(matrix(unlist(digitos[4, -785]), nrow = 28, byrow = F))\n",
    "dig3 = t(apply(dig3, 2, rev))\n",
    "digitos[4, 785]\n",
    "\n",
    "dig4 = t(matrix(unlist(digitos[5, -785]), nrow = 28, byrow = F))\n",
    "dig4 = t(apply(dig4, 2, rev))\n",
    "digitos[5, 785]\n",
    "\n",
    "# Imagens\n",
    "split.screen(figs = c(2, 2))\n",
    "screen(1)\n",
    "image(dig1, col=grey.colors(255))\n",
    "screen(2)\n",
    "image(dig2, col=grey.colors(255))\n",
    "screen(3)\n",
    "image(dig3, col=grey.colors(255))\n",
    "screen(4)\n",
    "image(dig4, col=grey.colors(255))\n",
    "close.screen(all=T)"
   ]
  },
  {
   "cell_type": "markdown",
   "metadata": {},
   "source": [
    "## H2O\n",
    "- Por usar cluster e suportar processos pesados, a lib deve ser inicializada\n",
    "- init( ) -> Inicializa cluter localmente\n",
    "- importFile( ) -> Importa arquivos com o tipo H2O\n",
    "- as.factor( ) -> Transformamos a classe (col 785) em fator"
   ]
  },
  {
   "cell_type": "code",
   "execution_count": 4,
   "metadata": {
    "vscode": {
     "languageId": "r"
    }
   },
   "outputs": [
    {
     "name": "stdout",
     "output_type": "stream",
     "text": [
      "\n",
      "H2O is not running yet, starting it now...\n",
      "\n",
      "Note:  In case of errors look at the following log files:\n",
      "    C:\\Users\\glauc\\AppData\\Local\\Temp\\RtmpqEiAbk\\file31f45e745e5f/h2o_glauc_started_from_r.out\n",
      "    C:\\Users\\glauc\\AppData\\Local\\Temp\\RtmpqEiAbk\\file31f47953380c/h2o_glauc_started_from_r.err\n",
      "\n",
      "\n",
      "Starting H2O JVM and connecting:  Connection successful!\n",
      "\n",
      "R is connected to the H2O cluster: \n",
      "    H2O cluster uptime:         3 seconds 559 milliseconds \n",
      "    H2O cluster timezone:       America/Sao_Paulo \n",
      "    H2O data parsing timezone:  UTC \n",
      "    H2O cluster version:        3.44.0.3 \n",
      "    H2O cluster version age:    1 month \n",
      "    H2O cluster name:           H2O_started_from_R_glauc_old903 \n",
      "    H2O cluster total nodes:    1 \n",
      "    H2O cluster total memory:   2.96 GB \n",
      "    H2O cluster total cores:    16 \n",
      "    H2O cluster allowed cores:  16 \n",
      "    H2O cluster healthy:        TRUE \n",
      "    H2O Connection ip:          localhost \n",
      "    H2O Connection port:        54321 \n",
      "    H2O Connection proxy:       NA \n",
      "    H2O Internal Security:      FALSE \n",
      "    R Version:                  R version 4.3.2 (2023-10-31 ucrt) \n",
      "\n"
     ]
    }
   ],
   "source": [
    "h2o.init()"
   ]
  },
  {
   "cell_type": "markdown",
   "metadata": {},
   "source": [
    "## Errors\n",
    "- Java x32 -> Foi necessário instalar o JAVA SD JDK x64\n",
    "- Windows Path -> Foi necessário renomear \"Área de Trabalho\" para Desktop\n",
    "- Á -> Caracter que gera confusão no Path do arquivo"
   ]
  },
  {
   "cell_type": "code",
   "execution_count": 6,
   "metadata": {
    "vscode": {
     "languageId": "r"
    }
   },
   "outputs": [
    {
     "name": "stdout",
     "output_type": "stream",
     "text": [
      "  |======================================================================| 100%\n",
      "  |======================================================================| 100%\n"
     ]
    },
    {
     "data": {
      "text/html": [
       "<style>\n",
       ".list-inline {list-style: none; margin:0; padding: 0}\n",
       ".list-inline>li {display: inline-block}\n",
       ".list-inline>li:not(:last-child)::after {content: \"\\00b7\"; padding: 0 .5ex}\n",
       "</style>\n",
       "<ol class=list-inline><li>60000</li><li>785</li></ol>\n"
      ],
      "text/latex": [
       "\\begin{enumerate*}\n",
       "\\item 60000\n",
       "\\item 785\n",
       "\\end{enumerate*}\n"
      ],
      "text/markdown": [
       "1. 60000\n",
       "2. 785\n",
       "\n",
       "\n"
      ],
      "text/plain": [
       "[1] 60000   785"
      ]
     },
     "metadata": {},
     "output_type": "display_data"
    },
    {
     "data": {
      "text/html": [
       "<table class=\"dataframe\">\n",
       "<caption>A data.frame: 6 × 200</caption>\n",
       "<thead>\n",
       "\t<tr><th></th><th scope=col>C1</th><th scope=col>C2</th><th scope=col>C3</th><th scope=col>C4</th><th scope=col>C5</th><th scope=col>C6</th><th scope=col>C7</th><th scope=col>C8</th><th scope=col>C9</th><th scope=col>C10</th><th scope=col>⋯</th><th scope=col>C191</th><th scope=col>C192</th><th scope=col>C193</th><th scope=col>C194</th><th scope=col>C195</th><th scope=col>C196</th><th scope=col>C197</th><th scope=col>C198</th><th scope=col>C199</th><th scope=col>C200</th></tr>\n",
       "\t<tr><th></th><th scope=col>&lt;dbl&gt;</th><th scope=col>&lt;dbl&gt;</th><th scope=col>&lt;dbl&gt;</th><th scope=col>&lt;dbl&gt;</th><th scope=col>&lt;dbl&gt;</th><th scope=col>&lt;dbl&gt;</th><th scope=col>&lt;dbl&gt;</th><th scope=col>&lt;dbl&gt;</th><th scope=col>&lt;dbl&gt;</th><th scope=col>&lt;dbl&gt;</th><th scope=col>⋯</th><th scope=col>&lt;dbl&gt;</th><th scope=col>&lt;dbl&gt;</th><th scope=col>&lt;dbl&gt;</th><th scope=col>&lt;dbl&gt;</th><th scope=col>&lt;dbl&gt;</th><th scope=col>&lt;dbl&gt;</th><th scope=col>&lt;dbl&gt;</th><th scope=col>&lt;dbl&gt;</th><th scope=col>&lt;dbl&gt;</th><th scope=col>&lt;dbl&gt;</th></tr>\n",
       "</thead>\n",
       "<tbody>\n",
       "\t<tr><th scope=row>1</th><td>0</td><td>0</td><td>0</td><td>0</td><td>0</td><td>0</td><td>0</td><td>0</td><td>0</td><td>0</td><td>⋯</td><td>0</td><td>0</td><td>0</td><td>0</td><td>0</td><td>0</td><td>0</td><td>0</td><td>0</td><td>0</td></tr>\n",
       "\t<tr><th scope=row>2</th><td>0</td><td>0</td><td>0</td><td>0</td><td>0</td><td>0</td><td>0</td><td>0</td><td>0</td><td>0</td><td>⋯</td><td>0</td><td>0</td><td>0</td><td>0</td><td>0</td><td>0</td><td>0</td><td>0</td><td>0</td><td>0</td></tr>\n",
       "\t<tr><th scope=row>3</th><td>0</td><td>0</td><td>0</td><td>0</td><td>0</td><td>0</td><td>0</td><td>0</td><td>0</td><td>0</td><td>⋯</td><td>0</td><td>0</td><td>0</td><td>0</td><td>0</td><td>0</td><td>0</td><td>0</td><td>0</td><td>0</td></tr>\n",
       "\t<tr><th scope=row>4</th><td>0</td><td>0</td><td>0</td><td>0</td><td>0</td><td>0</td><td>0</td><td>0</td><td>0</td><td>0</td><td>⋯</td><td>0</td><td>0</td><td>0</td><td>0</td><td>0</td><td>0</td><td>0</td><td>0</td><td>0</td><td>0</td></tr>\n",
       "\t<tr><th scope=row>5</th><td>0</td><td>0</td><td>0</td><td>0</td><td>0</td><td>0</td><td>0</td><td>0</td><td>0</td><td>0</td><td>⋯</td><td>0</td><td>0</td><td>0</td><td>0</td><td>0</td><td>0</td><td>0</td><td>0</td><td>0</td><td>0</td></tr>\n",
       "\t<tr><th scope=row>6</th><td>0</td><td>0</td><td>0</td><td>0</td><td>0</td><td>0</td><td>0</td><td>0</td><td>0</td><td>0</td><td>⋯</td><td>0</td><td>0</td><td>0</td><td>0</td><td>0</td><td>0</td><td>0</td><td>0</td><td>0</td><td>0</td></tr>\n",
       "</tbody>\n",
       "</table>\n"
      ],
      "text/latex": [
       "A data.frame: 6 × 200\n",
       "\\begin{tabular}{r|lllllllllllllllllllll}\n",
       "  & C1 & C2 & C3 & C4 & C5 & C6 & C7 & C8 & C9 & C10 & ⋯ & C191 & C192 & C193 & C194 & C195 & C196 & C197 & C198 & C199 & C200\\\\\n",
       "  & <dbl> & <dbl> & <dbl> & <dbl> & <dbl> & <dbl> & <dbl> & <dbl> & <dbl> & <dbl> & ⋯ & <dbl> & <dbl> & <dbl> & <dbl> & <dbl> & <dbl> & <dbl> & <dbl> & <dbl> & <dbl>\\\\\n",
       "\\hline\n",
       "\t1 & 0 & 0 & 0 & 0 & 0 & 0 & 0 & 0 & 0 & 0 & ⋯ & 0 & 0 & 0 & 0 & 0 & 0 & 0 & 0 & 0 & 0\\\\\n",
       "\t2 & 0 & 0 & 0 & 0 & 0 & 0 & 0 & 0 & 0 & 0 & ⋯ & 0 & 0 & 0 & 0 & 0 & 0 & 0 & 0 & 0 & 0\\\\\n",
       "\t3 & 0 & 0 & 0 & 0 & 0 & 0 & 0 & 0 & 0 & 0 & ⋯ & 0 & 0 & 0 & 0 & 0 & 0 & 0 & 0 & 0 & 0\\\\\n",
       "\t4 & 0 & 0 & 0 & 0 & 0 & 0 & 0 & 0 & 0 & 0 & ⋯ & 0 & 0 & 0 & 0 & 0 & 0 & 0 & 0 & 0 & 0\\\\\n",
       "\t5 & 0 & 0 & 0 & 0 & 0 & 0 & 0 & 0 & 0 & 0 & ⋯ & 0 & 0 & 0 & 0 & 0 & 0 & 0 & 0 & 0 & 0\\\\\n",
       "\t6 & 0 & 0 & 0 & 0 & 0 & 0 & 0 & 0 & 0 & 0 & ⋯ & 0 & 0 & 0 & 0 & 0 & 0 & 0 & 0 & 0 & 0\\\\\n",
       "\\end{tabular}\n"
      ],
      "text/markdown": [
       "\n",
       "A data.frame: 6 × 200\n",
       "\n",
       "| <!--/--> | C1 &lt;dbl&gt; | C2 &lt;dbl&gt; | C3 &lt;dbl&gt; | C4 &lt;dbl&gt; | C5 &lt;dbl&gt; | C6 &lt;dbl&gt; | C7 &lt;dbl&gt; | C8 &lt;dbl&gt; | C9 &lt;dbl&gt; | C10 &lt;dbl&gt; | ⋯ ⋯ | C191 &lt;dbl&gt; | C192 &lt;dbl&gt; | C193 &lt;dbl&gt; | C194 &lt;dbl&gt; | C195 &lt;dbl&gt; | C196 &lt;dbl&gt; | C197 &lt;dbl&gt; | C198 &lt;dbl&gt; | C199 &lt;dbl&gt; | C200 &lt;dbl&gt; |\n",
       "|---|---|---|---|---|---|---|---|---|---|---|---|---|---|---|---|---|---|---|---|---|---|\n",
       "| 1 | 0 | 0 | 0 | 0 | 0 | 0 | 0 | 0 | 0 | 0 | ⋯ | 0 | 0 | 0 | 0 | 0 | 0 | 0 | 0 | 0 | 0 |\n",
       "| 2 | 0 | 0 | 0 | 0 | 0 | 0 | 0 | 0 | 0 | 0 | ⋯ | 0 | 0 | 0 | 0 | 0 | 0 | 0 | 0 | 0 | 0 |\n",
       "| 3 | 0 | 0 | 0 | 0 | 0 | 0 | 0 | 0 | 0 | 0 | ⋯ | 0 | 0 | 0 | 0 | 0 | 0 | 0 | 0 | 0 | 0 |\n",
       "| 4 | 0 | 0 | 0 | 0 | 0 | 0 | 0 | 0 | 0 | 0 | ⋯ | 0 | 0 | 0 | 0 | 0 | 0 | 0 | 0 | 0 | 0 |\n",
       "| 5 | 0 | 0 | 0 | 0 | 0 | 0 | 0 | 0 | 0 | 0 | ⋯ | 0 | 0 | 0 | 0 | 0 | 0 | 0 | 0 | 0 | 0 |\n",
       "| 6 | 0 | 0 | 0 | 0 | 0 | 0 | 0 | 0 | 0 | 0 | ⋯ | 0 | 0 | 0 | 0 | 0 | 0 | 0 | 0 | 0 | 0 |\n",
       "\n"
      ],
      "text/plain": [
       "  C1 C2 C3 C4 C5 C6 C7 C8 C9 C10 ⋯ C191 C192 C193 C194 C195 C196 C197 C198 C199\n",
       "1 0  0  0  0  0  0  0  0  0  0   ⋯ 0    0    0    0    0    0    0    0    0   \n",
       "2 0  0  0  0  0  0  0  0  0  0   ⋯ 0    0    0    0    0    0    0    0    0   \n",
       "3 0  0  0  0  0  0  0  0  0  0   ⋯ 0    0    0    0    0    0    0    0    0   \n",
       "4 0  0  0  0  0  0  0  0  0  0   ⋯ 0    0    0    0    0    0    0    0    0   \n",
       "5 0  0  0  0  0  0  0  0  0  0   ⋯ 0    0    0    0    0    0    0    0    0   \n",
       "6 0  0  0  0  0  0  0  0  0  0   ⋯ 0    0    0    0    0    0    0    0    0   \n",
       "  C200\n",
       "1 0   \n",
       "2 0   \n",
       "3 0   \n",
       "4 0   \n",
       "5 0   \n",
       "6 0   "
      ]
     },
     "metadata": {},
     "output_type": "display_data"
    },
    {
     "data": {
      "text/html": [
       "<style>\n",
       ".list-inline {list-style: none; margin:0; padding: 0}\n",
       ".list-inline>li {display: inline-block}\n",
       ".list-inline>li:not(:last-child)::after {content: \"\\00b7\"; padding: 0 .5ex}\n",
       "</style>\n",
       "<ol class=list-inline><li>10000</li><li>785</li></ol>\n"
      ],
      "text/latex": [
       "\\begin{enumerate*}\n",
       "\\item 10000\n",
       "\\item 785\n",
       "\\end{enumerate*}\n"
      ],
      "text/markdown": [
       "1. 10000\n",
       "2. 785\n",
       "\n",
       "\n"
      ],
      "text/plain": [
       "[1] 10000   785"
      ]
     },
     "metadata": {},
     "output_type": "display_data"
    },
    {
     "data": {
      "text/html": [
       "<table class=\"dataframe\">\n",
       "<caption>A data.frame: 6 × 200</caption>\n",
       "<thead>\n",
       "\t<tr><th></th><th scope=col>C1</th><th scope=col>C2</th><th scope=col>C3</th><th scope=col>C4</th><th scope=col>C5</th><th scope=col>C6</th><th scope=col>C7</th><th scope=col>C8</th><th scope=col>C9</th><th scope=col>C10</th><th scope=col>⋯</th><th scope=col>C191</th><th scope=col>C192</th><th scope=col>C193</th><th scope=col>C194</th><th scope=col>C195</th><th scope=col>C196</th><th scope=col>C197</th><th scope=col>C198</th><th scope=col>C199</th><th scope=col>C200</th></tr>\n",
       "\t<tr><th></th><th scope=col>&lt;dbl&gt;</th><th scope=col>&lt;dbl&gt;</th><th scope=col>&lt;dbl&gt;</th><th scope=col>&lt;dbl&gt;</th><th scope=col>&lt;dbl&gt;</th><th scope=col>&lt;dbl&gt;</th><th scope=col>&lt;dbl&gt;</th><th scope=col>&lt;dbl&gt;</th><th scope=col>&lt;dbl&gt;</th><th scope=col>&lt;dbl&gt;</th><th scope=col>⋯</th><th scope=col>&lt;dbl&gt;</th><th scope=col>&lt;dbl&gt;</th><th scope=col>&lt;dbl&gt;</th><th scope=col>&lt;dbl&gt;</th><th scope=col>&lt;dbl&gt;</th><th scope=col>&lt;dbl&gt;</th><th scope=col>&lt;dbl&gt;</th><th scope=col>&lt;dbl&gt;</th><th scope=col>&lt;dbl&gt;</th><th scope=col>&lt;dbl&gt;</th></tr>\n",
       "</thead>\n",
       "<tbody>\n",
       "\t<tr><th scope=row>1</th><td>0</td><td>0</td><td>0</td><td>0</td><td>0</td><td>0</td><td>0</td><td>0</td><td>0</td><td>0</td><td>⋯</td><td>0</td><td>0</td><td>0</td><td>0</td><td>0</td><td>0</td><td>0</td><td>0</td><td>0</td><td>0</td></tr>\n",
       "\t<tr><th scope=row>2</th><td>0</td><td>0</td><td>0</td><td>0</td><td>0</td><td>0</td><td>0</td><td>0</td><td>0</td><td>0</td><td>⋯</td><td>0</td><td>0</td><td>0</td><td>0</td><td>0</td><td>0</td><td>0</td><td>0</td><td>0</td><td>0</td></tr>\n",
       "\t<tr><th scope=row>3</th><td>0</td><td>0</td><td>0</td><td>0</td><td>0</td><td>0</td><td>0</td><td>0</td><td>0</td><td>0</td><td>⋯</td><td>0</td><td>0</td><td>0</td><td>0</td><td>0</td><td>0</td><td>0</td><td>0</td><td>0</td><td>0</td></tr>\n",
       "\t<tr><th scope=row>4</th><td>0</td><td>0</td><td>0</td><td>0</td><td>0</td><td>0</td><td>0</td><td>0</td><td>0</td><td>0</td><td>⋯</td><td>0</td><td>0</td><td>0</td><td>0</td><td>0</td><td>0</td><td>0</td><td>0</td><td>0</td><td>0</td></tr>\n",
       "\t<tr><th scope=row>5</th><td>0</td><td>0</td><td>0</td><td>0</td><td>0</td><td>0</td><td>0</td><td>0</td><td>0</td><td>0</td><td>⋯</td><td>0</td><td>0</td><td>0</td><td>0</td><td>0</td><td>0</td><td>0</td><td>0</td><td>0</td><td>0</td></tr>\n",
       "\t<tr><th scope=row>6</th><td>0</td><td>0</td><td>0</td><td>0</td><td>0</td><td>0</td><td>0</td><td>0</td><td>0</td><td>0</td><td>⋯</td><td>0</td><td>0</td><td>0</td><td>0</td><td>0</td><td>0</td><td>0</td><td>0</td><td>0</td><td>0</td></tr>\n",
       "</tbody>\n",
       "</table>\n"
      ],
      "text/latex": [
       "A data.frame: 6 × 200\n",
       "\\begin{tabular}{r|lllllllllllllllllllll}\n",
       "  & C1 & C2 & C3 & C4 & C5 & C6 & C7 & C8 & C9 & C10 & ⋯ & C191 & C192 & C193 & C194 & C195 & C196 & C197 & C198 & C199 & C200\\\\\n",
       "  & <dbl> & <dbl> & <dbl> & <dbl> & <dbl> & <dbl> & <dbl> & <dbl> & <dbl> & <dbl> & ⋯ & <dbl> & <dbl> & <dbl> & <dbl> & <dbl> & <dbl> & <dbl> & <dbl> & <dbl> & <dbl>\\\\\n",
       "\\hline\n",
       "\t1 & 0 & 0 & 0 & 0 & 0 & 0 & 0 & 0 & 0 & 0 & ⋯ & 0 & 0 & 0 & 0 & 0 & 0 & 0 & 0 & 0 & 0\\\\\n",
       "\t2 & 0 & 0 & 0 & 0 & 0 & 0 & 0 & 0 & 0 & 0 & ⋯ & 0 & 0 & 0 & 0 & 0 & 0 & 0 & 0 & 0 & 0\\\\\n",
       "\t3 & 0 & 0 & 0 & 0 & 0 & 0 & 0 & 0 & 0 & 0 & ⋯ & 0 & 0 & 0 & 0 & 0 & 0 & 0 & 0 & 0 & 0\\\\\n",
       "\t4 & 0 & 0 & 0 & 0 & 0 & 0 & 0 & 0 & 0 & 0 & ⋯ & 0 & 0 & 0 & 0 & 0 & 0 & 0 & 0 & 0 & 0\\\\\n",
       "\t5 & 0 & 0 & 0 & 0 & 0 & 0 & 0 & 0 & 0 & 0 & ⋯ & 0 & 0 & 0 & 0 & 0 & 0 & 0 & 0 & 0 & 0\\\\\n",
       "\t6 & 0 & 0 & 0 & 0 & 0 & 0 & 0 & 0 & 0 & 0 & ⋯ & 0 & 0 & 0 & 0 & 0 & 0 & 0 & 0 & 0 & 0\\\\\n",
       "\\end{tabular}\n"
      ],
      "text/markdown": [
       "\n",
       "A data.frame: 6 × 200\n",
       "\n",
       "| <!--/--> | C1 &lt;dbl&gt; | C2 &lt;dbl&gt; | C3 &lt;dbl&gt; | C4 &lt;dbl&gt; | C5 &lt;dbl&gt; | C6 &lt;dbl&gt; | C7 &lt;dbl&gt; | C8 &lt;dbl&gt; | C9 &lt;dbl&gt; | C10 &lt;dbl&gt; | ⋯ ⋯ | C191 &lt;dbl&gt; | C192 &lt;dbl&gt; | C193 &lt;dbl&gt; | C194 &lt;dbl&gt; | C195 &lt;dbl&gt; | C196 &lt;dbl&gt; | C197 &lt;dbl&gt; | C198 &lt;dbl&gt; | C199 &lt;dbl&gt; | C200 &lt;dbl&gt; |\n",
       "|---|---|---|---|---|---|---|---|---|---|---|---|---|---|---|---|---|---|---|---|---|---|\n",
       "| 1 | 0 | 0 | 0 | 0 | 0 | 0 | 0 | 0 | 0 | 0 | ⋯ | 0 | 0 | 0 | 0 | 0 | 0 | 0 | 0 | 0 | 0 |\n",
       "| 2 | 0 | 0 | 0 | 0 | 0 | 0 | 0 | 0 | 0 | 0 | ⋯ | 0 | 0 | 0 | 0 | 0 | 0 | 0 | 0 | 0 | 0 |\n",
       "| 3 | 0 | 0 | 0 | 0 | 0 | 0 | 0 | 0 | 0 | 0 | ⋯ | 0 | 0 | 0 | 0 | 0 | 0 | 0 | 0 | 0 | 0 |\n",
       "| 4 | 0 | 0 | 0 | 0 | 0 | 0 | 0 | 0 | 0 | 0 | ⋯ | 0 | 0 | 0 | 0 | 0 | 0 | 0 | 0 | 0 | 0 |\n",
       "| 5 | 0 | 0 | 0 | 0 | 0 | 0 | 0 | 0 | 0 | 0 | ⋯ | 0 | 0 | 0 | 0 | 0 | 0 | 0 | 0 | 0 | 0 |\n",
       "| 6 | 0 | 0 | 0 | 0 | 0 | 0 | 0 | 0 | 0 | 0 | ⋯ | 0 | 0 | 0 | 0 | 0 | 0 | 0 | 0 | 0 | 0 |\n",
       "\n"
      ],
      "text/plain": [
       "  C1 C2 C3 C4 C5 C6 C7 C8 C9 C10 ⋯ C191 C192 C193 C194 C195 C196 C197 C198 C199\n",
       "1 0  0  0  0  0  0  0  0  0  0   ⋯ 0    0    0    0    0    0    0    0    0   \n",
       "2 0  0  0  0  0  0  0  0  0  0   ⋯ 0    0    0    0    0    0    0    0    0   \n",
       "3 0  0  0  0  0  0  0  0  0  0   ⋯ 0    0    0    0    0    0    0    0    0   \n",
       "4 0  0  0  0  0  0  0  0  0  0   ⋯ 0    0    0    0    0    0    0    0    0   \n",
       "5 0  0  0  0  0  0  0  0  0  0   ⋯ 0    0    0    0    0    0    0    0    0   \n",
       "6 0  0  0  0  0  0  0  0  0  0   ⋯ 0    0    0    0    0    0    0    0    0   \n",
       "  C200\n",
       "1 0   \n",
       "2 0   \n",
       "3 0   \n",
       "4 0   \n",
       "5 0   \n",
       "6 0   "
      ]
     },
     "metadata": {},
     "output_type": "display_data"
    }
   ],
   "source": [
    "datatreino = h2o.importFile('train.csv.gz')\n",
    "datateste = h2o.importFile('test.csv.gz')\n",
    "\n",
    "datatreino[, 785] = as.factor(datatreino[, 785])\n",
    "datateste[, 785] = as.factor(datateste[, 785])\n",
    "\n",
    "dim(datatreino)\n",
    "head(datatreino)\n",
    "\n",
    "dim(datateste)\n",
    "head(datateste)"
   ]
  },
  {
   "cell_type": "markdown",
   "metadata": {},
   "source": [
    "## Modelo Deep Learning\n",
    "- h2o.deeplearning( ) -> Retorna um modelo RNA\n",
    "### Hiper Parâmetros\n",
    "- x= -> Váriaveis Independentes\n",
    "- y= -> Váriaveis Dependentes\n",
    "- training_frame= -> Dados para treino (learning)\n",
    "- validation_frame= -> Dados para testes\n",
    "- distribution= -> Indica o Algoritmo\n",
    "- activation= -> Indica a função de ativação dos nodes\n",
    "- hidden= -> Define qtd de camadas ocultas e qtd de neurônios\n",
    "- sparse= -> Ative quando houver muitos zero values\n",
    "- epochs= -> Qtd de ciclos para o treinamento do modelo (Ajusta os pesos (weights))"
   ]
  },
  {
   "cell_type": "code",
   "execution_count": 7,
   "metadata": {
    "vscode": {
     "languageId": "r"
    }
   },
   "outputs": [
    {
     "name": "stderr",
     "output_type": "stream",
     "text": [
      "Warning message in .h2o.processResponseWarnings(res):\n",
      "\"Dropping bad and constant columns: [C86, C85, C729, C728, C646, C645, C169, C760, C561, C53, C11, C55, C10, C54, C57, C12, C56, C58, C17, C19, C18, C731, C730, C20, C22, C21, C24, C23, C26, C25, C28, C27, C702, C701, C29, C700, C1, C2, C784, C3, C783, C4, C782, C5, C781, C6, C142, C7, C141, C8, C9, C31, C30, C32, C759, C758, C757, C756, C755, C477, C113, C674, C112, C673, C672, C84, C83].\n",
      "\"\n"
     ]
    },
    {
     "name": "stdout",
     "output_type": "stream",
     "text": [
      "  |======================================================================| 100%\n"
     ]
    }
   ],
   "source": [
    "modelo = h2o.deeplearning(\n",
    "    x=colnames(datatreino[, 1:784]), y='C785', training_frame = datatreino,\n",
    "    validation_frame = datateste, distribution = 'AUTO',\n",
    "    activation = 'RectifierWithDropout', hidden = c(64, 64, 64),\n",
    "    sparse = T, epochs = 20\n",
    ")"
   ]
  },
  {
   "cell_type": "markdown",
   "metadata": {},
   "source": [
    "## Gráfico | Erros"
   ]
  },
  {
   "cell_type": "code",
   "execution_count": 8,
   "metadata": {
    "vscode": {
     "languageId": "r"
    }
   },
   "outputs": [
    {
     "data": {
      "image/png": "[encoded data removed]",
      "text/plain": [
       "Plot with title \"Scoring History\""
      ]
     },
     "metadata": {
      "image/png": {
       "height": 420,
       "width": 420
      }
     },
     "output_type": "display_data"
    }
   ],
   "source": [
    "plot(modelo)"
   ]
  },
  {
   "cell_type": "markdown",
   "metadata": {},
   "source": [
    "## Avaliando Performance\n",
    "- h2o.performance( ) -> Retorna avalição de performance"
   ]
  },
  {
   "cell_type": "code",
   "execution_count": 9,
   "metadata": {
    "vscode": {
     "languageId": "r"
    }
   },
   "outputs": [
    {
     "data": {
      "text/plain": [
       "H2OMultinomialMetrics: deeplearning\n",
       "** Reported on training data. **\n",
       "** Metrics reported on temporary training frame with 10041 samples **\n",
       "\n",
       "Training Set Metrics: \n",
       "=====================\n",
       "\n",
       "MSE: (Extract with `h2o.mse`) 0.03370667\n",
       "RMSE: (Extract with `h2o.rmse`) 0.1835938\n",
       "Logloss: (Extract with `h2o.logloss`) 0.1344594\n",
       "Mean Per-Class Error: 0.0369072\n",
       "AUC: (Extract with `h2o.auc`) NaN\n",
       "AUCPR: (Extract with `h2o.aucpr`) NaN\n",
       "Confusion Matrix: Extract with `h2o.confusionMatrix(<model>,train = TRUE)`)\n",
       "=========================================================================\n",
       "Confusion Matrix: Row labels: Actual class; Column labels: Predicted class\n",
       "         0    1    2    3   4   5    6   7   8    9  Error           Rate\n",
       "0      951    0    1    0   2   4    0   2  12    0 0.0216 =     21 / 972\n",
       "1        0 1105    6    3   0   2    0   0   4    4 0.0169 =   19 / 1.124\n",
       "2        3    4  972   12   3   2    2   6  11    3 0.0452 =   46 / 1.018\n",
       "3        1    1    6  972   0   9    0   5   5    5 0.0319 =   32 / 1.004\n",
       "4        5    3    4    0 908   1    5   1   3   40 0.0639 =     62 / 970\n",
       "5        5    0    3   13   1 867    4   0   2    2 0.0334 =     30 / 897\n",
       "6        7    1    6    0   2  14 1015   0   7    0 0.0352 =   37 / 1.052\n",
       "7        0    2    6   15   4   0    1 971   0   30 0.0564 =   58 / 1.029\n",
       "8        0    7    2    7   0   5    2   0 943    3 0.0268 =     26 / 969\n",
       "9        5    5    0   13   8   2    0   2   3  968 0.0378 =   38 / 1.006\n",
       "Totals 977 1128 1006 1035 928 906 1029 987 990 1055 0.0367 = 369 / 10.041\n",
       "\n",
       "Hit Ratio Table: Extract with `h2o.hit_ratio_table(<model>,train = TRUE)`\n",
       "=======================================================================\n",
       "Top-10 Hit Ratios: \n",
       "    k hit_ratio\n",
       "1   1  0.963251\n",
       "2   2  0.985161\n",
       "3   3  0.992033\n",
       "4   4  0.995518\n",
       "5   5  0.997510\n",
       "6   6  0.998406\n",
       "7   7  0.999104\n",
       "8   8  0.999701\n",
       "9   9  1.000000\n",
       "10 10  1.000000\n",
       "\n",
       "\n"
      ]
     },
     "metadata": {},
     "output_type": "display_data"
    }
   ],
   "source": [
    "h2o.performance(modelo)"
   ]
  },
  {
   "cell_type": "markdown",
   "metadata": {},
   "source": [
    "## Teste Simples | Uma instância\n",
    "- h2o.predict( ) -> Retorna uma previsão"
   ]
  },
  {
   "cell_type": "code",
   "execution_count": 13,
   "metadata": {
    "vscode": {
     "languageId": "r"
    }
   },
   "outputs": [
    {
     "data": {
      "text/html": [
       "4\n",
       "<details>\n",
       "\t<summary style=display:list-item;cursor:pointer>\n",
       "\t\t<strong>Levels</strong>:\n",
       "\t</summary>\n",
       "\t<style>\n",
       "\t.list-inline {list-style: none; margin:0; padding: 0}\n",
       "\t.list-inline>li {display: inline-block}\n",
       "\t.list-inline>li:not(:last-child)::after {content: \"\\00b7\"; padding: 0 .5ex}\n",
       "\t</style>\n",
       "\t<ol class=list-inline><li>'0'</li><li>'1'</li><li>'2'</li><li>'3'</li><li>'4'</li><li>'5'</li><li>'6'</li><li>'7'</li><li>'8'</li><li>'9'</li></ol>\n",
       "</details>"
      ],
      "text/latex": [
       "4\n",
       "\\emph{Levels}: \\begin{enumerate*}\n",
       "\\item '0'\n",
       "\\item '1'\n",
       "\\item '2'\n",
       "\\item '3'\n",
       "\\item '4'\n",
       "\\item '5'\n",
       "\\item '6'\n",
       "\\item '7'\n",
       "\\item '8'\n",
       "\\item '9'\n",
       "\\end{enumerate*}\n"
      ],
      "text/markdown": [
       "4\n",
       "**Levels**: 1. '0'\n",
       "2. '1'\n",
       "3. '2'\n",
       "4. '3'\n",
       "5. '4'\n",
       "6. '5'\n",
       "7. '6'\n",
       "8. '7'\n",
       "9. '8'\n",
       "10. '9'\n",
       "\n",
       "\n"
      ],
      "text/plain": [
       "[1] 4\n",
       "attr(,\"types\")\n",
       "attr(,\"types\")[[1]]\n",
       "[1] enum\n",
       "\n",
       "Levels: 0 1 2 3 4 5 6 7 8 9"
      ]
     },
     "metadata": {},
     "output_type": "display_data"
    },
    {
     "name": "stdout",
     "output_type": "stream",
     "text": [
      "  |======================================================================| 100%\n"
     ]
    },
    {
     "data": {
      "text/plain": [
       "  predict           p0           p1           p2           p3        p4\n",
       "1       4 4.031297e-05 5.866923e-06 7.555686e-05 1.270695e-06 0.9846471\n",
       "            p5           p6           p7           p8         p9\n",
       "1 6.634298e-06 0.0003549388 0.0001930349 3.427876e-06 0.01467186\n",
       "\n",
       "[1 row x 11 columns] "
      ]
     },
     "metadata": {},
     "output_type": "display_data"
    },
    {
     "data": {
      "text/plain": [
       "  predict\n",
       "1       4\n",
       "\n",
       "[1 row x 1 column] "
      ]
     },
     "metadata": {},
     "output_type": "display_data"
    }
   ],
   "source": [
    "datatreino[20, 785]\n",
    "\n",
    "predicao = h2o.predict(modelo, newdata = datatreino[20, 1:784])\n",
    "predicao\n",
    "predicao$predict\n"
   ]
  }
 ],
 "metadata": {
  "kernelspec": {
   "display_name": "R",
   "language": "R",
   "name": "ir"
  },
  "language_info": {
   "codemirror_mode": "r",
   "file_extension": ".r",
   "mimetype": "text/x-r-source",
   "name": "R",
   "pygments_lexer": "r",
   "version": "4.3.2"
  }
 },
 "nbformat": 4,
 "nbformat_minor": 2
}
