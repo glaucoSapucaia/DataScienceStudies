{
 "cells": [
  {
   "cell_type": "markdown",
   "metadata": {},
   "source": [
    "## package - 'corrgram'\n",
    "- install.packages('corrgram')"
   ]
  },
  {
   "cell_type": "code",
   "execution_count": 1,
   "metadata": {
    "vscode": {
     "languageId": "r"
    }
   },
   "outputs": [
    {
     "data": {
      "text/html": [
       "<style>\n",
       ".list-inline {list-style: none; margin:0; padding: 0}\n",
       ".list-inline>li {display: inline-block}\n",
       ".list-inline>li:not(:last-child)::after {content: \"\\00b7\"; padding: 0 .5ex}\n",
       "</style>\n",
       "<ol class=list-inline><li>50</li><li>2</li></ol>\n"
      ],
      "text/latex": [
       "\\begin{enumerate*}\n",
       "\\item 50\n",
       "\\item 2\n",
       "\\end{enumerate*}\n"
      ],
      "text/markdown": [
       "1. 50\n",
       "2. 2\n",
       "\n",
       "\n"
      ],
      "text/plain": [
       "[1] 50  2"
      ]
     },
     "metadata": {},
     "output_type": "display_data"
    },
    {
     "data": {
      "text/plain": [
       "     speed           dist       \n",
       " Min.   : 4.0   Min.   :  2.00  \n",
       " 1st Qu.:12.0   1st Qu.: 26.00  \n",
       " Median :15.0   Median : 36.00  \n",
       " Mean   :15.4   Mean   : 42.98  \n",
       " 3rd Qu.:19.0   3rd Qu.: 56.00  \n",
       " Max.   :25.0   Max.   :120.00  "
      ]
     },
     "metadata": {},
     "output_type": "display_data"
    },
    {
     "data": {
      "text/html": [
       "<table class=\"dataframe\">\n",
       "<caption>A data.frame: 6 × 2</caption>\n",
       "<thead>\n",
       "\t<tr><th></th><th scope=col>speed</th><th scope=col>dist</th></tr>\n",
       "\t<tr><th></th><th scope=col>&lt;dbl&gt;</th><th scope=col>&lt;dbl&gt;</th></tr>\n",
       "</thead>\n",
       "<tbody>\n",
       "\t<tr><th scope=row>1</th><td>4</td><td> 2</td></tr>\n",
       "\t<tr><th scope=row>2</th><td>4</td><td>10</td></tr>\n",
       "\t<tr><th scope=row>3</th><td>7</td><td> 4</td></tr>\n",
       "\t<tr><th scope=row>4</th><td>7</td><td>22</td></tr>\n",
       "\t<tr><th scope=row>5</th><td>8</td><td>16</td></tr>\n",
       "\t<tr><th scope=row>6</th><td>9</td><td>10</td></tr>\n",
       "</tbody>\n",
       "</table>\n"
      ],
      "text/latex": [
       "A data.frame: 6 × 2\n",
       "\\begin{tabular}{r|ll}\n",
       "  & speed & dist\\\\\n",
       "  & <dbl> & <dbl>\\\\\n",
       "\\hline\n",
       "\t1 & 4 &  2\\\\\n",
       "\t2 & 4 & 10\\\\\n",
       "\t3 & 7 &  4\\\\\n",
       "\t4 & 7 & 22\\\\\n",
       "\t5 & 8 & 16\\\\\n",
       "\t6 & 9 & 10\\\\\n",
       "\\end{tabular}\n"
      ],
      "text/markdown": [
       "\n",
       "A data.frame: 6 × 2\n",
       "\n",
       "| <!--/--> | speed &lt;dbl&gt; | dist &lt;dbl&gt; |\n",
       "|---|---|---|\n",
       "| 1 | 4 |  2 |\n",
       "| 2 | 4 | 10 |\n",
       "| 3 | 7 |  4 |\n",
       "| 4 | 7 | 22 |\n",
       "| 5 | 8 | 16 |\n",
       "| 6 | 9 | 10 |\n",
       "\n"
      ],
      "text/plain": [
       "  speed dist\n",
       "1 4      2  \n",
       "2 4     10  \n",
       "3 7      4  \n",
       "4 7     22  \n",
       "5 8     16  \n",
       "6 9     10  "
      ]
     },
     "metadata": {},
     "output_type": "display_data"
    }
   ],
   "source": [
    "library(corrgram)\n",
    "dim(cars)\n",
    "summary(cars)\n",
    "head(cars)"
   ]
  },
  {
   "cell_type": "markdown",
   "metadata": {},
   "source": [
    "## Correlações\n",
    "- cor() -> Retorna correlação entre as variaveis\n",
    "- corrgram() -> Cria uma gráfico de correlação\n"
   ]
  },
  {
   "cell_type": "code",
   "execution_count": 3,
   "metadata": {
    "vscode": {
     "languageId": "r"
    }
   },
   "outputs": [
    {
     "data": {
      "text/html": [
       "<table class=\"dataframe\">\n",
       "<caption>A matrix: 2 × 2 of type dbl</caption>\n",
       "<thead>\n",
       "\t<tr><th></th><th scope=col>speed</th><th scope=col>dist</th></tr>\n",
       "</thead>\n",
       "<tbody>\n",
       "\t<tr><th scope=row>speed</th><td>1.0000000</td><td>0.8068949</td></tr>\n",
       "\t<tr><th scope=row>dist</th><td>0.8068949</td><td>1.0000000</td></tr>\n",
       "</tbody>\n",
       "</table>\n"
      ],
      "text/latex": [
       "A matrix: 2 × 2 of type dbl\n",
       "\\begin{tabular}{r|ll}\n",
       "  & speed & dist\\\\\n",
       "\\hline\n",
       "\tspeed & 1.0000000 & 0.8068949\\\\\n",
       "\tdist & 0.8068949 & 1.0000000\\\\\n",
       "\\end{tabular}\n"
      ],
      "text/markdown": [
       "\n",
       "A matrix: 2 × 2 of type dbl\n",
       "\n",
       "| <!--/--> | speed | dist |\n",
       "|---|---|---|\n",
       "| speed | 1.0000000 | 0.8068949 |\n",
       "| dist | 0.8068949 | 1.0000000 |\n",
       "\n"
      ],
      "text/plain": [
       "      speed     dist     \n",
       "speed 1.0000000 0.8068949\n",
       "dist  0.8068949 1.0000000"
      ]
     },
     "metadata": {},
     "output_type": "display_data"
    },
    {
     "data": {
      "image/png": "[encoded data removed]",
      "text/plain": [
       "plot without title"
      ]
     },
     "metadata": {
      "image/png": {
       "height": 420,
       "width": 420
      }
     },
     "output_type": "display_data"
    }
   ],
   "source": [
    "# corelação entre uma variavel e ela mesma sempre é 1\n",
    "# correlação = 0.80 -> Positiva forte\n",
    "cor(cars)\n",
    "\n",
    "corrgram(cars, order=T, lower.panel=panel.shade, upper.panel=panel.pie,\n",
    "text.panel=panel.txt, main='Carros')"
   ]
  },
  {
   "cell_type": "markdown",
   "metadata": {},
   "source": [
    "## lm() -> Linear Model | Modelo Linear\n",
    "- formula -> variavel dependente (speed) ~ variavel independente (dist)\n",
    "- lm() -> retorna interceptação e inclinção"
   ]
  },
  {
   "cell_type": "code",
   "execution_count": 4,
   "metadata": {
    "vscode": {
     "languageId": "r"
    }
   },
   "outputs": [
    {
     "data": {
      "text/plain": [
       "\n",
       "Call:\n",
       "lm(formula = speed ~ dist, data = cars)\n",
       "\n",
       "Coefficients:\n",
       "(Intercept)         dist  \n",
       "     8.2839       0.1656  \n"
      ]
     },
     "metadata": {},
     "output_type": "display_data"
    }
   ],
   "source": [
    "modelo = lm(speed ~ dist, data=cars)\n",
    "modelo"
   ]
  },
  {
   "cell_type": "markdown",
   "metadata": {},
   "source": [
    "## Grafico de dispersão com linha de melhor ajuste\n",
    "- abline() -> Retorna linha de melhor ajuste"
   ]
  },
  {
   "cell_type": "code",
   "execution_count": 9,
   "metadata": {
    "vscode": {
     "languageId": "r"
    }
   },
   "outputs": [
    {
     "data": {
      "image/png": "[encoded data removed]",
      "text/plain": [
       "Plot with title \"Carros\""
      ]
     },
     "metadata": {
      "image/png": {
       "height": 420,
       "width": 420
      }
     },
     "output_type": "display_data"
    }
   ],
   "source": [
    "plot(speed ~ dist, data=cars, xlab='Distância', ylab='Velocidade',\n",
    "main='Carros', pch=19, col='purple')\n",
    "abline(modelo, col='blue')"
   ]
  },
  {
   "cell_type": "markdown",
   "metadata": {},
   "source": [
    "## Previsões\n",
    "- coefficients\n",
    "- interceptação + inclinação * valor explanatório\n",
    "- predict() -> Retorna uma previsão genérica (faz o callculo acima)\n",
    "- predict() recebe o modelo e o valor base para previsão"
   ]
  },
  {
   "cell_type": "code",
   "execution_count": 12,
   "metadata": {
    "vscode": {
     "languageId": "r"
    }
   },
   "outputs": [
    {
     "data": {
      "text/html": [
       "<style>\n",
       ".dl-inline {width: auto; margin:0; padding: 0}\n",
       ".dl-inline>dt, .dl-inline>dd {float: none; width: auto; display: inline-block}\n",
       ".dl-inline>dt::after {content: \":\\0020\"; padding-right: .5ex}\n",
       ".dl-inline>dt:not(:first-of-type) {padding-left: .5ex}\n",
       "</style><dl class=dl-inline><dt>(Intercept)</dt><dd>8.28390564178717</dd><dt>dist</dt><dd>0.165567574644319</dd></dl>\n"
      ],
      "text/latex": [
       "\\begin{description*}\n",
       "\\item[(Intercept)] 8.28390564178717\n",
       "\\item[dist] 0.165567574644319\n",
       "\\end{description*}\n"
      ],
      "text/markdown": [
       "(Intercept)\n",
       ":   8.28390564178717dist\n",
       ":   0.165567574644319\n",
       "\n"
      ],
      "text/plain": [
       "(Intercept)        dist \n",
       "  8.2839056   0.1655676 "
      ]
     },
     "metadata": {},
     "output_type": "display_data"
    },
    {
     "data": {
      "text/html": [
       "<strong>(Intercept):</strong> 11.9263922839622"
      ],
      "text/latex": [
       "\\textbf{(Intercept):} 11.9263922839622"
      ],
      "text/markdown": [
       "**(Intercept):** 11.9263922839622"
      ],
      "text/plain": [
       "(Intercept) \n",
       "   11.92639 "
      ]
     },
     "metadata": {},
     "output_type": "display_data"
    },
    {
     "data": {
      "text/html": [
       "<strong>1:</strong> 11.9263922839622"
      ],
      "text/latex": [
       "\\textbf{1:} 11.9263922839622"
      ],
      "text/markdown": [
       "**1:** 11.9263922839622"
      ],
      "text/plain": [
       "       1 \n",
       "11.92639 "
      ]
     },
     "metadata": {},
     "output_type": "display_data"
    }
   ],
   "source": [
    "# Qual a velocidade do veiuculo que levou 22 metros para parar?\n",
    "modelo$coefficients\n",
    "modelo$coefficients[1] + modelo$coefficients[2] * 22\n",
    "\n",
    "predict(modelo, data.frame(dist=22))"
   ]
  },
  {
   "cell_type": "markdown",
   "metadata": {},
   "source": [
    "## Resumo dos dados\n",
    "- Residuos - Valores sem tendencia\n",
    "- fitted values - São os valores ajustados a linha de ajuste"
   ]
  },
  {
   "cell_type": "code",
   "execution_count": 15,
   "metadata": {
    "vscode": {
     "languageId": "r"
    }
   },
   "outputs": [
    {
     "data": {
      "text/plain": [
       "\n",
       "Call:\n",
       "lm(formula = speed ~ dist, data = cars)\n",
       "\n",
       "Residuals:\n",
       "    Min      1Q  Median      3Q     Max \n",
       "-7.5293 -2.1550  0.3615  2.4377  6.4179 \n",
       "\n",
       "Coefficients:\n",
       "            Estimate Std. Error t value Pr(>|t|)    \n",
       "(Intercept)  8.28391    0.87438   9.474 1.44e-12 ***\n",
       "dist         0.16557    0.01749   9.464 1.49e-12 ***\n",
       "---\n",
       "Signif. codes:  0 '***' 0.001 '**' 0.01 '*' 0.05 '.' 0.1 ' ' 1\n",
       "\n",
       "Residual standard error: 3.156 on 48 degrees of freedom\n",
       "Multiple R-squared:  0.6511,\tAdjusted R-squared:  0.6438 \n",
       "F-statistic: 89.57 on 1 and 48 DF,  p-value: 1.49e-12\n"
      ]
     },
     "metadata": {},
     "output_type": "display_data"
    },
    {
     "data": {
      "text/html": [
       "<style>\n",
       ".dl-inline {width: auto; margin:0; padding: 0}\n",
       ".dl-inline>dt, .dl-inline>dd {float: none; width: auto; display: inline-block}\n",
       ".dl-inline>dt::after {content: \":\\0020\"; padding-right: .5ex}\n",
       ".dl-inline>dt:not(:first-of-type) {padding-left: .5ex}\n",
       "</style><dl class=dl-inline><dt>(Intercept)</dt><dd>8.28390564178717</dd><dt>dist</dt><dd>0.165567574644319</dd></dl>\n"
      ],
      "text/latex": [
       "\\begin{description*}\n",
       "\\item[(Intercept)] 8.28390564178717\n",
       "\\item[dist] 0.165567574644319\n",
       "\\end{description*}\n"
      ],
      "text/markdown": [
       "(Intercept)\n",
       ":   8.28390564178717dist\n",
       ":   0.165567574644319\n",
       "\n"
      ],
      "text/plain": [
       "(Intercept)        dist \n",
       "  8.2839056   0.1655676 "
      ]
     },
     "metadata": {},
     "output_type": "display_data"
    },
    {
     "data": {
      "text/html": [
       "<style>\n",
       ".dl-inline {width: auto; margin:0; padding: 0}\n",
       ".dl-inline>dt, .dl-inline>dd {float: none; width: auto; display: inline-block}\n",
       ".dl-inline>dt::after {content: \":\\0020\"; padding-right: .5ex}\n",
       ".dl-inline>dt:not(:first-of-type) {padding-left: .5ex}\n",
       "</style><dl class=dl-inline><dt>1</dt><dd>-4.61504079107585</dd><dt>2</dt><dd>-5.93958138823036</dd><dt>3</dt><dd>-1.94617594036445</dd><dt>4</dt><dd>-4.92639228396219</dd><dt>5</dt><dd>-2.93298683609627</dd><dt>6</dt><dd>-0.93958138823036</dd><dt>7</dt><dd>-1.26412198538491</dd><dt>8</dt><dd>-2.58866258253946</dd><dt>9</dt><dd>-3.91320317969401</dd><dt>10</dt><dd>-0.0985544107405929</dd><dt>11</dt><dd>-1.9197977318281</dd><dt>12</dt><dd>1.39814831319236</dd><dt>13</dt><dd>0.40474286532645</dd><dt>14</dt><dd>-0.257527433250826</dd><dt>15</dt><dd>-0.919797731828102</dd><dt>16</dt><dd>0.411337417460537</dd><dt>17</dt><dd>-0.913203179694015</dd><dt>18</dt><dd>-0.913203179694015</dd><dt>19</dt><dd>-2.90001407542584</dd><dt>20</dt><dd>1.41133741746054</dd><dt>21</dt><dd>-0.244338328982653</dd><dt>22</dt><dd>-4.21796012044631</dd><dt>23</dt><dd>-7.52931161333269</dd><dt>24</dt><dd>3.40474286532645</dd><dt>25</dt><dd>2.41133741746054</dd><dt>26</dt><dd>-2.22455467258039</dd><dt>27</dt><dd>2.41793196959462</dd><dt>28</dt><dd>1.09339137244007</dd><dt>29</dt><dd>3.41793196959462</dd><dt>30</dt><dd>2.09339137244007</dd><dt>31</dt><dd>0.437715625996881</dd><dt>32</dt><dd>2.76225622315143</dd><dt>33</dt><dd>0.444310178130968</dd><dt>34</dt><dd>-2.86704131475541</dd><dt>35</dt><dd>-4.19158191190996</dd><dt>36</dt><dd>4.75566167101735</dd><dt>37</dt><dd>3.09998592457416</dd><dt>38</dt><dd>-0.542500717600859</dd><dt>39</dt><dd>6.41793196959462</dd><dt>40</dt><dd>3.76885077528552</dd><dt>41</dt><dd>3.10658047670824</dd><dt>42</dt><dd>2.44431017813097</dd><dt>43</dt><dd>1.11976958097642</dd><dt>44</dt><dd>2.78863443168778</dd><dt>45</dt><dd>5.77544532741961</dd><dt>46</dt><dd>4.1263641331105</dd><dt>47</dt><dd>0.483877490935486</dd><dt>48</dt><dd>0.318309916291166</dd><dt>49</dt><dd>-4.15201459910544</dd><dt>50</dt><dd>2.64285051344572</dd></dl>\n"
      ],
      "text/latex": [
       "\\begin{description*}\n",
       "\\item[1] -4.61504079107585\n",
       "\\item[2] -5.93958138823036\n",
       "\\item[3] -1.94617594036445\n",
       "\\item[4] -4.92639228396219\n",
       "\\item[5] -2.93298683609627\n",
       "\\item[6] -0.93958138823036\n",
       "\\item[7] -1.26412198538491\n",
       "\\item[8] -2.58866258253946\n",
       "\\item[9] -3.91320317969401\n",
       "\\item[10] -0.0985544107405929\n",
       "\\item[11] -1.9197977318281\n",
       "\\item[12] 1.39814831319236\n",
       "\\item[13] 0.40474286532645\n",
       "\\item[14] -0.257527433250826\n",
       "\\item[15] -0.919797731828102\n",
       "\\item[16] 0.411337417460537\n",
       "\\item[17] -0.913203179694015\n",
       "\\item[18] -0.913203179694015\n",
       "\\item[19] -2.90001407542584\n",
       "\\item[20] 1.41133741746054\n",
       "\\item[21] -0.244338328982653\n",
       "\\item[22] -4.21796012044631\n",
       "\\item[23] -7.52931161333269\n",
       "\\item[24] 3.40474286532645\n",
       "\\item[25] 2.41133741746054\n",
       "\\item[26] -2.22455467258039\n",
       "\\item[27] 2.41793196959462\n",
       "\\item[28] 1.09339137244007\n",
       "\\item[29] 3.41793196959462\n",
       "\\item[30] 2.09339137244007\n",
       "\\item[31] 0.437715625996881\n",
       "\\item[32] 2.76225622315143\n",
       "\\item[33] 0.444310178130968\n",
       "\\item[34] -2.86704131475541\n",
       "\\item[35] -4.19158191190996\n",
       "\\item[36] 4.75566167101735\n",
       "\\item[37] 3.09998592457416\n",
       "\\item[38] -0.542500717600859\n",
       "\\item[39] 6.41793196959462\n",
       "\\item[40] 3.76885077528552\n",
       "\\item[41] 3.10658047670824\n",
       "\\item[42] 2.44431017813097\n",
       "\\item[43] 1.11976958097642\n",
       "\\item[44] 2.78863443168778\n",
       "\\item[45] 5.77544532741961\n",
       "\\item[46] 4.1263641331105\n",
       "\\item[47] 0.483877490935486\n",
       "\\item[48] 0.318309916291166\n",
       "\\item[49] -4.15201459910544\n",
       "\\item[50] 2.64285051344572\n",
       "\\end{description*}\n"
      ],
      "text/markdown": [
       "1\n",
       ":   -4.615040791075852\n",
       ":   -5.939581388230363\n",
       ":   -1.946175940364454\n",
       ":   -4.926392283962195\n",
       ":   -2.932986836096276\n",
       ":   -0.939581388230367\n",
       ":   -1.264121985384918\n",
       ":   -2.588662582539469\n",
       ":   -3.9132031796940110\n",
       ":   -0.098554410740592911\n",
       ":   -1.919797731828112\n",
       ":   1.3981483131923613\n",
       ":   0.4047428653264514\n",
       ":   -0.25752743325082615\n",
       ":   -0.91979773182810216\n",
       ":   0.41133741746053717\n",
       ":   -0.91320317969401518\n",
       ":   -0.91320317969401519\n",
       ":   -2.9000140754258420\n",
       ":   1.4113374174605421\n",
       ":   -0.24433832898265322\n",
       ":   -4.2179601204463123\n",
       ":   -7.5293116133326924\n",
       ":   3.4047428653264525\n",
       ":   2.4113374174605426\n",
       ":   -2.2245546725803927\n",
       ":   2.4179319695946228\n",
       ":   1.0933913724400729\n",
       ":   3.4179319695946230\n",
       ":   2.0933913724400731\n",
       ":   0.43771562599688132\n",
       ":   2.7622562231514333\n",
       ":   0.44431017813096834\n",
       ":   -2.8670413147554135\n",
       ":   -4.1915819119099636\n",
       ":   4.7556616710173537\n",
       ":   3.0999859245741638\n",
       ":   -0.54250071760085939\n",
       ":   6.4179319695946240\n",
       ":   3.7688507752855241\n",
       ":   3.1065804767082442\n",
       ":   2.4443101781309743\n",
       ":   1.1197695809764244\n",
       ":   2.7886344316877845\n",
       ":   5.7754453274196146\n",
       ":   4.126364133110547\n",
       ":   0.48387749093548648\n",
       ":   0.31830991629116649\n",
       ":   -4.1520145991054450\n",
       ":   2.64285051344572\n",
       "\n"
      ],
      "text/plain": [
       "          1           2           3           4           5           6 \n",
       "-4.61504079 -5.93958139 -1.94617594 -4.92639228 -2.93298684 -0.93958139 \n",
       "          7           8           9          10          11          12 \n",
       "-1.26412199 -2.58866258 -3.91320318 -0.09855441 -1.91979773  1.39814831 \n",
       "         13          14          15          16          17          18 \n",
       " 0.40474287 -0.25752743 -0.91979773  0.41133742 -0.91320318 -0.91320318 \n",
       "         19          20          21          22          23          24 \n",
       "-2.90001408  1.41133742 -0.24433833 -4.21796012 -7.52931161  3.40474287 \n",
       "         25          26          27          28          29          30 \n",
       " 2.41133742 -2.22455467  2.41793197  1.09339137  3.41793197  2.09339137 \n",
       "         31          32          33          34          35          36 \n",
       " 0.43771563  2.76225622  0.44431018 -2.86704131 -4.19158191  4.75566167 \n",
       "         37          38          39          40          41          42 \n",
       " 3.09998592 -0.54250072  6.41793197  3.76885078  3.10658048  2.44431018 \n",
       "         43          44          45          46          47          48 \n",
       " 1.11976958  2.78863443  5.77544533  4.12636413  0.48387749  0.31830992 \n",
       "         49          50 \n",
       "-4.15201460  2.64285051 "
      ]
     },
     "metadata": {},
     "output_type": "display_data"
    },
    {
     "data": {
      "image/png": "[encoded data removed]",
      "text/plain": [
       "Plot with title \"Histogram of modelo$residuals\""
      ]
     },
     "metadata": {
      "image/png": {
       "height": 420,
       "width": 420
      }
     },
     "output_type": "display_data"
    },
    {
     "data": {
      "text/html": [
       "<style>\n",
       ".dl-inline {width: auto; margin:0; padding: 0}\n",
       ".dl-inline>dt, .dl-inline>dd {float: none; width: auto; display: inline-block}\n",
       ".dl-inline>dt::after {content: \":\\0020\"; padding-right: .5ex}\n",
       ".dl-inline>dt:not(:first-of-type) {padding-left: .5ex}\n",
       "</style><dl class=dl-inline><dt>1</dt><dd>8.61504079107585</dd><dt>2</dt><dd>9.93958138823036</dd><dt>3</dt><dd>8.94617594036445</dd><dt>4</dt><dd>11.9263922839622</dd><dt>5</dt><dd>10.9329868360963</dd><dt>6</dt><dd>9.93958138823036</dd><dt>7</dt><dd>11.2641219853849</dd><dt>8</dt><dd>12.5886625825395</dd><dt>9</dt><dd>13.913203179694</dd><dt>10</dt><dd>11.0985544107406</dd><dt>11</dt><dd>12.9197977318281</dd><dt>12</dt><dd>10.6018516868076</dd><dt>13</dt><dd>11.5952571346735</dd><dt>14</dt><dd>12.2575274332508</dd><dt>15</dt><dd>12.9197977318281</dd><dt>16</dt><dd>12.5886625825395</dd><dt>17</dt><dd>13.913203179694</dd><dt>18</dt><dd>13.913203179694</dd><dt>19</dt><dd>15.9000140754258</dd><dt>20</dt><dd>12.5886625825395</dd><dt>21</dt><dd>14.2443383289827</dd><dt>22</dt><dd>18.2179601204463</dd><dt>23</dt><dd>21.5293116133327</dd><dt>24</dt><dd>11.5952571346735</dd><dt>25</dt><dd>12.5886625825395</dd><dt>26</dt><dd>17.2245546725804</dd><dt>27</dt><dd>13.5820680304054</dd><dt>28</dt><dd>14.9066086275599</dd><dt>29</dt><dd>13.5820680304054</dd><dt>30</dt><dd>14.9066086275599</dd><dt>31</dt><dd>16.5622843740031</dd><dt>32</dt><dd>15.2377437768486</dd><dt>33</dt><dd>17.555689821869</dd><dt>34</dt><dd>20.8670413147554</dd><dt>35</dt><dd>22.19158191191</dd><dt>36</dt><dd>14.2443383289827</dd><dt>37</dt><dd>15.9000140754258</dd><dt>38</dt><dd>19.5425007176009</dd><dt>39</dt><dd>13.5820680304054</dd><dt>40</dt><dd>16.2311492247145</dd><dt>41</dt><dd>16.8934195232918</dd><dt>42</dt><dd>17.555689821869</dd><dt>43</dt><dd>18.8802304190236</dd><dt>44</dt><dd>19.2113655683122</dd><dt>45</dt><dd>17.2245546725804</dd><dt>46</dt><dd>19.8736358668895</dd><dt>47</dt><dd>23.5161225090645</dd><dt>48</dt><dd>23.6816900837088</dd><dt>49</dt><dd>28.1520145991054</dd><dt>50</dt><dd>22.3571494865543</dd></dl>\n"
      ],
      "text/latex": [
       "\\begin{description*}\n",
       "\\item[1] 8.61504079107585\n",
       "\\item[2] 9.93958138823036\n",
       "\\item[3] 8.94617594036445\n",
       "\\item[4] 11.9263922839622\n",
       "\\item[5] 10.9329868360963\n",
       "\\item[6] 9.93958138823036\n",
       "\\item[7] 11.2641219853849\n",
       "\\item[8] 12.5886625825395\n",
       "\\item[9] 13.913203179694\n",
       "\\item[10] 11.0985544107406\n",
       "\\item[11] 12.9197977318281\n",
       "\\item[12] 10.6018516868076\n",
       "\\item[13] 11.5952571346735\n",
       "\\item[14] 12.2575274332508\n",
       "\\item[15] 12.9197977318281\n",
       "\\item[16] 12.5886625825395\n",
       "\\item[17] 13.913203179694\n",
       "\\item[18] 13.913203179694\n",
       "\\item[19] 15.9000140754258\n",
       "\\item[20] 12.5886625825395\n",
       "\\item[21] 14.2443383289827\n",
       "\\item[22] 18.2179601204463\n",
       "\\item[23] 21.5293116133327\n",
       "\\item[24] 11.5952571346735\n",
       "\\item[25] 12.5886625825395\n",
       "\\item[26] 17.2245546725804\n",
       "\\item[27] 13.5820680304054\n",
       "\\item[28] 14.9066086275599\n",
       "\\item[29] 13.5820680304054\n",
       "\\item[30] 14.9066086275599\n",
       "\\item[31] 16.5622843740031\n",
       "\\item[32] 15.2377437768486\n",
       "\\item[33] 17.555689821869\n",
       "\\item[34] 20.8670413147554\n",
       "\\item[35] 22.19158191191\n",
       "\\item[36] 14.2443383289827\n",
       "\\item[37] 15.9000140754258\n",
       "\\item[38] 19.5425007176009\n",
       "\\item[39] 13.5820680304054\n",
       "\\item[40] 16.2311492247145\n",
       "\\item[41] 16.8934195232918\n",
       "\\item[42] 17.555689821869\n",
       "\\item[43] 18.8802304190236\n",
       "\\item[44] 19.2113655683122\n",
       "\\item[45] 17.2245546725804\n",
       "\\item[46] 19.8736358668895\n",
       "\\item[47] 23.5161225090645\n",
       "\\item[48] 23.6816900837088\n",
       "\\item[49] 28.1520145991054\n",
       "\\item[50] 22.3571494865543\n",
       "\\end{description*}\n"
      ],
      "text/markdown": [
       "1\n",
       ":   8.615040791075852\n",
       ":   9.939581388230363\n",
       ":   8.946175940364454\n",
       ":   11.92639228396225\n",
       ":   10.93298683609636\n",
       ":   9.939581388230367\n",
       ":   11.26412198538498\n",
       ":   12.58866258253959\n",
       ":   13.91320317969410\n",
       ":   11.098554410740611\n",
       ":   12.919797731828112\n",
       ":   10.601851686807613\n",
       ":   11.595257134673514\n",
       ":   12.257527433250815\n",
       ":   12.919797731828116\n",
       ":   12.588662582539517\n",
       ":   13.91320317969418\n",
       ":   13.91320317969419\n",
       ":   15.900014075425820\n",
       ":   12.588662582539521\n",
       ":   14.244338328982722\n",
       ":   18.217960120446323\n",
       ":   21.529311613332724\n",
       ":   11.595257134673525\n",
       ":   12.588662582539526\n",
       ":   17.224554672580427\n",
       ":   13.582068030405428\n",
       ":   14.906608627559929\n",
       ":   13.582068030405430\n",
       ":   14.906608627559931\n",
       ":   16.562284374003132\n",
       ":   15.237743776848633\n",
       ":   17.55568982186934\n",
       ":   20.867041314755435\n",
       ":   22.1915819119136\n",
       ":   14.244338328982737\n",
       ":   15.900014075425838\n",
       ":   19.542500717600939\n",
       ":   13.582068030405440\n",
       ":   16.231149224714541\n",
       ":   16.893419523291842\n",
       ":   17.55568982186943\n",
       ":   18.880230419023644\n",
       ":   19.211365568312245\n",
       ":   17.224554672580446\n",
       ":   19.873635866889547\n",
       ":   23.516122509064548\n",
       ":   23.681690083708849\n",
       ":   28.152014599105450\n",
       ":   22.3571494865543\n",
       "\n"
      ],
      "text/plain": [
       "        1         2         3         4         5         6         7         8 \n",
       " 8.615041  9.939581  8.946176 11.926392 10.932987  9.939581 11.264122 12.588663 \n",
       "        9        10        11        12        13        14        15        16 \n",
       "13.913203 11.098554 12.919798 10.601852 11.595257 12.257527 12.919798 12.588663 \n",
       "       17        18        19        20        21        22        23        24 \n",
       "13.913203 13.913203 15.900014 12.588663 14.244338 18.217960 21.529312 11.595257 \n",
       "       25        26        27        28        29        30        31        32 \n",
       "12.588663 17.224555 13.582068 14.906609 13.582068 14.906609 16.562284 15.237744 \n",
       "       33        34        35        36        37        38        39        40 \n",
       "17.555690 20.867041 22.191582 14.244338 15.900014 19.542501 13.582068 16.231149 \n",
       "       41        42        43        44        45        46        47        48 \n",
       "16.893420 17.555690 18.880230 19.211366 17.224555 19.873636 23.516123 23.681690 \n",
       "       49        50 \n",
       "28.152015 22.357149 "
      ]
     },
     "metadata": {},
     "output_type": "display_data"
    },
    {
     "data": {
      "image/png": "[encoded data removed]",
      "text/plain": [
       "plot without title"
      ]
     },
     "metadata": {
      "image/png": {
       "height": 420,
       "width": 420
      }
     },
     "output_type": "display_data"
    },
    {
     "data": {
      "image/png": "[encoded data removed]",
      "text/plain": [
       "plot without title"
      ]
     },
     "metadata": {
      "image/png": {
       "height": 420,
       "width": 420
      }
     },
     "output_type": "display_data"
    }
   ],
   "source": [
    "summary(modelo)\n",
    "modelo$coefficients\n",
    "modelo$residuals\n",
    "hist(modelo$residuals, col='purple')\n",
    "plot(modelo$residuals)\n",
    "modelo$fitted.values\n",
    "plot(modelo$fitted.values, cars$dist, col='blue', pch=19)"
   ]
  }
 ],
 "metadata": {
  "kernelspec": {
   "display_name": "R",
   "language": "R",
   "name": "ir"
  },
  "language_info": {
   "codemirror_mode": "r",
   "file_extension": ".r",
   "mimetype": "text/x-r-source",
   "name": "R",
   "pygments_lexer": "r",
   "version": "4.3.2"
  }
 },
 "nbformat": 4,
 "nbformat_minor": 2
}
