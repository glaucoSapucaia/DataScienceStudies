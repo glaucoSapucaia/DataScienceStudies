{
 "cells": [
  {
   "cell_type": "code",
   "execution_count": 1,
   "metadata": {
    "vscode": {
     "languageId": "r"
    }
   },
   "outputs": [
    {
     "name": "stderr",
     "output_type": "stream",
     "text": [
      "Carregando pacotes exigidos: ggplot2\n",
      "\n"
     ]
    },
    {
     "name": "stderr",
     "output_type": "stream",
     "text": [
      "Welcome! Want to learn more? See two factoextra-related books at https://goo.gl/ve3WBa\n",
      "\n"
     ]
    },
    {
     "data": {
      "text/html": [
       "<style>\n",
       ".list-inline {list-style: none; margin:0; padding: 0}\n",
       ".list-inline>li {display: inline-block}\n",
       ".list-inline>li:not(:last-child)::after {content: \"\\00b7\"; padding: 0 .5ex}\n",
       "</style>\n",
       "<ol class=list-inline><li>150</li><li>5</li></ol>\n"
      ],
      "text/latex": [
       "\\begin{enumerate*}\n",
       "\\item 150\n",
       "\\item 5\n",
       "\\end{enumerate*}\n"
      ],
      "text/markdown": [
       "1. 150\n",
       "2. 5\n",
       "\n",
       "\n"
      ],
      "text/plain": [
       "[1] 150   5"
      ]
     },
     "metadata": {},
     "output_type": "display_data"
    },
    {
     "data": {
      "text/html": [
       "<table class=\"dataframe\">\n",
       "<caption>A data.frame: 6 × 5</caption>\n",
       "<thead>\n",
       "\t<tr><th></th><th scope=col>Sepal.Length</th><th scope=col>Sepal.Width</th><th scope=col>Petal.Length</th><th scope=col>Petal.Width</th><th scope=col>Species</th></tr>\n",
       "\t<tr><th></th><th scope=col>&lt;dbl&gt;</th><th scope=col>&lt;dbl&gt;</th><th scope=col>&lt;dbl&gt;</th><th scope=col>&lt;dbl&gt;</th><th scope=col>&lt;fct&gt;</th></tr>\n",
       "</thead>\n",
       "<tbody>\n",
       "\t<tr><th scope=row>1</th><td>5.1</td><td>3.5</td><td>1.4</td><td>0.2</td><td>setosa</td></tr>\n",
       "\t<tr><th scope=row>2</th><td>4.9</td><td>3.0</td><td>1.4</td><td>0.2</td><td>setosa</td></tr>\n",
       "\t<tr><th scope=row>3</th><td>4.7</td><td>3.2</td><td>1.3</td><td>0.2</td><td>setosa</td></tr>\n",
       "\t<tr><th scope=row>4</th><td>4.6</td><td>3.1</td><td>1.5</td><td>0.2</td><td>setosa</td></tr>\n",
       "\t<tr><th scope=row>5</th><td>5.0</td><td>3.6</td><td>1.4</td><td>0.2</td><td>setosa</td></tr>\n",
       "\t<tr><th scope=row>6</th><td>5.4</td><td>3.9</td><td>1.7</td><td>0.4</td><td>setosa</td></tr>\n",
       "</tbody>\n",
       "</table>\n"
      ],
      "text/latex": [
       "A data.frame: 6 × 5\n",
       "\\begin{tabular}{r|lllll}\n",
       "  & Sepal.Length & Sepal.Width & Petal.Length & Petal.Width & Species\\\\\n",
       "  & <dbl> & <dbl> & <dbl> & <dbl> & <fct>\\\\\n",
       "\\hline\n",
       "\t1 & 5.1 & 3.5 & 1.4 & 0.2 & setosa\\\\\n",
       "\t2 & 4.9 & 3.0 & 1.4 & 0.2 & setosa\\\\\n",
       "\t3 & 4.7 & 3.2 & 1.3 & 0.2 & setosa\\\\\n",
       "\t4 & 4.6 & 3.1 & 1.5 & 0.2 & setosa\\\\\n",
       "\t5 & 5.0 & 3.6 & 1.4 & 0.2 & setosa\\\\\n",
       "\t6 & 5.4 & 3.9 & 1.7 & 0.4 & setosa\\\\\n",
       "\\end{tabular}\n"
      ],
      "text/markdown": [
       "\n",
       "A data.frame: 6 × 5\n",
       "\n",
       "| <!--/--> | Sepal.Length &lt;dbl&gt; | Sepal.Width &lt;dbl&gt; | Petal.Length &lt;dbl&gt; | Petal.Width &lt;dbl&gt; | Species &lt;fct&gt; |\n",
       "|---|---|---|---|---|---|\n",
       "| 1 | 5.1 | 3.5 | 1.4 | 0.2 | setosa |\n",
       "| 2 | 4.9 | 3.0 | 1.4 | 0.2 | setosa |\n",
       "| 3 | 4.7 | 3.2 | 1.3 | 0.2 | setosa |\n",
       "| 4 | 4.6 | 3.1 | 1.5 | 0.2 | setosa |\n",
       "| 5 | 5.0 | 3.6 | 1.4 | 0.2 | setosa |\n",
       "| 6 | 5.4 | 3.9 | 1.7 | 0.4 | setosa |\n",
       "\n"
      ],
      "text/plain": [
       "  Sepal.Length Sepal.Width Petal.Length Petal.Width Species\n",
       "1 5.1          3.5         1.4          0.2         setosa \n",
       "2 4.9          3.0         1.4          0.2         setosa \n",
       "3 4.7          3.2         1.3          0.2         setosa \n",
       "4 4.6          3.1         1.5          0.2         setosa \n",
       "5 5.0          3.6         1.4          0.2         setosa \n",
       "6 5.4          3.9         1.7          0.4         setosa "
      ]
     },
     "metadata": {},
     "output_type": "display_data"
    },
    {
     "data": {
      "text/plain": [
       "  Sepal.Length    Sepal.Width     Petal.Length    Petal.Width   \n",
       " Min.   :4.300   Min.   :2.000   Min.   :1.000   Min.   :0.100  \n",
       " 1st Qu.:5.100   1st Qu.:2.800   1st Qu.:1.600   1st Qu.:0.300  \n",
       " Median :5.800   Median :3.000   Median :4.350   Median :1.300  \n",
       " Mean   :5.843   Mean   :3.057   Mean   :3.758   Mean   :1.199  \n",
       " 3rd Qu.:6.400   3rd Qu.:3.300   3rd Qu.:5.100   3rd Qu.:1.800  \n",
       " Max.   :7.900   Max.   :4.400   Max.   :6.900   Max.   :2.500  \n",
       "       Species  \n",
       " setosa    :50  \n",
       " versicolor:50  \n",
       " virginica :50  \n",
       "                \n",
       "                \n",
       "                "
      ]
     },
     "metadata": {},
     "output_type": "display_data"
    }
   ],
   "source": [
    "library(factoextra)\n",
    "library(e1071)\n",
    "library(RColorBrewer)\n",
    "\n",
    "dim(iris)\n",
    "head(iris)\n",
    "summary(iris)"
   ]
  },
  {
   "cell_type": "markdown",
   "metadata": {},
   "source": [
    "## CLuster Fuzzi\n",
    "- cmeans -> Retorna agrupamentos como em k-means, mas em percentual (sem um valor absoluto)"
   ]
  },
  {
   "cell_type": "code",
   "execution_count": 2,
   "metadata": {
    "vscode": {
     "languageId": "r"
    }
   },
   "outputs": [
    {
     "data": {
      "text/plain": [
       "Fuzzy c-means clustering with 3 clusters\n",
       "\n",
       "Cluster centers:\n",
       "  Sepal.Length Sepal.Width Petal.Length Petal.Width\n",
       "1     5.003966    3.414086     1.482820   0.2535482\n",
       "2     5.888984    2.761088     4.364027   1.3973540\n",
       "3     6.775074    3.052400     5.646860   2.0535767\n",
       "\n",
       "Memberships:\n",
       "                 1            2            3\n",
       "  [1,] 0.996623581 0.0023043738 0.0010720452\n",
       "  [2,] 0.975853902 0.0166484900 0.0074976078\n",
       "  [3,] 0.979826806 0.0137588345 0.0064143594\n",
       "  [4,] 0.967429246 0.0224636778 0.0101070767\n",
       "  [5,] 0.994470387 0.0037616730 0.0017679397\n",
       "  [6,] 0.934577019 0.0448041037 0.0206188768\n",
       "  [7,] 0.979492586 0.0140031263 0.0065042873\n",
       "  [8,] 0.999547287 0.0003115141 0.0001411985\n",
       "  [9,] 0.930383214 0.0477152104 0.0219015761\n",
       " [10,] 0.982723989 0.0119347072 0.0053413040\n",
       " [11,] 0.968043582 0.0217558069 0.0102006111\n",
       " [12,] 0.992137667 0.0054314069 0.0024309263\n",
       " [13,] 0.970641691 0.0201815190 0.0091767898\n",
       " [14,] 0.922972999 0.0517918141 0.0252351867\n",
       " [15,] 0.889762312 0.0726070392 0.0376306489\n",
       " [16,] 0.841349723 0.1043458727 0.0543044039\n",
       " [17,] 0.946927154 0.0355777767 0.0174950697\n",
       " [18,] 0.996652767 0.0022884475 0.0010587853\n",
       " [19,] 0.904139470 0.0655537002 0.0303068300\n",
       " [20,] 0.979189807 0.0141567437 0.0066534493\n",
       " [21,] 0.968606334 0.0218538739 0.0095397924\n",
       " [22,] 0.984833562 0.0103727380 0.0047937001\n",
       " [23,] 0.958659194 0.0275082796 0.0138325262\n",
       " [24,] 0.979429095 0.0144598753 0.0061110299\n",
       " [25,] 0.966921555 0.0232408705 0.0098375748\n",
       " [26,] 0.973569908 0.0184571236 0.0079729685\n",
       " [27,] 0.994846002 0.0035808875 0.0015731104\n",
       " [28,] 0.993348512 0.0045648209 0.0020866669\n",
       " [29,] 0.993676172 0.0043279010 0.0019959273\n",
       " [30,] 0.979517597 0.0142002010 0.0062822019\n",
       " [31,] 0.978729295 0.0147976635 0.0064730415\n",
       " [32,] 0.974365965 0.0176949990 0.0079390357\n",
       " [33,] 0.938522875 0.0411436405 0.0203334847\n",
       " [34,] 0.904173491 0.0634792314 0.0323472778\n",
       " [35,] 0.985066347 0.0103399376 0.0045937150\n",
       " [36,] 0.984994166 0.0102007750 0.0048050589\n",
       " [37,] 0.964185951 0.0242503578 0.0115636911\n",
       " [38,] 0.990891102 0.0061823622 0.0029265362\n",
       " [39,] 0.939687082 0.0410811608 0.0192317575\n",
       " [40,] 0.998289137 0.0011776474 0.0005332161\n",
       " [41,] 0.994727786 0.0035838782 0.0016883361\n",
       " [42,] 0.850742413 0.1022649039 0.0469926828\n",
       " [43,] 0.952617523 0.0321746507 0.0152078263\n",
       " [44,] 0.979289476 0.0143814951 0.0063290294\n",
       " [45,] 0.945274452 0.0381258125 0.0165997357\n",
       " [46,] 0.972148060 0.0192209113 0.0086310288\n",
       " [47,] 0.976794040 0.0158412937 0.0073646666\n",
       " [48,] 0.974222223 0.0176513732 0.0081264039\n",
       " [49,] 0.977221269 0.0155194258 0.0072593054\n",
       " [50,] 0.997072609 0.0020081098 0.0009192809\n",
       " [51,] 0.044575358 0.4543142856 0.5011103565\n",
       " [52,] 0.029158212 0.7640809241 0.2067608639\n",
       " [53,] 0.031268071 0.3688217831 0.5999101456\n",
       " [54,] 0.049361558 0.8701860753 0.0804523666\n",
       " [55,] 0.024103334 0.7588092316 0.2170874341\n",
       " [56,] 0.005740254 0.9737975148 0.0204622309\n",
       " [57,] 0.029792304 0.6730750015 0.2971326944\n",
       " [58,] 0.285207917 0.5824826646 0.1323094181\n",
       " [59,] 0.031228553 0.7210860739 0.2476853731\n",
       " [60,] 0.074775317 0.8305165367 0.0947081462\n",
       " [61,] 0.218442898 0.6364929244 0.1450641778\n",
       " [62,] 0.009186928 0.9620750374 0.0287380346\n",
       " [63,] 0.055637883 0.8432373880 0.1011247286\n",
       " [64,] 0.012108337 0.8996970342 0.0881946288\n",
       " [65,] 0.091665104 0.8161413856 0.0921935103\n",
       " [66,] 0.041716176 0.6899323958 0.2683514285\n",
       " [67,] 0.014152838 0.9331792598 0.0526679017\n",
       " [68,] 0.025902605 0.9257160334 0.0483813615\n",
       " [69,] 0.027141843 0.8354634258 0.1373947311\n",
       " [70,] 0.051573315 0.8776436162 0.0707830692\n",
       " [71,] 0.027612308 0.7217158453 0.2506718472\n",
       " [72,] 0.019498523 0.9342646179 0.0462368592\n",
       " [73,] 0.023967109 0.7055219069 0.2705109845\n",
       " [74,] 0.013928964 0.9027764714 0.0832945649\n",
       " [75,] 0.022902687 0.8759370730 0.1011602396\n",
       " [76,] 0.033936611 0.7548357516 0.2112276373\n",
       " [77,] 0.033605039 0.5237384864 0.4426564750\n",
       " [78,] 0.021189306 0.3064223228 0.6723883709\n",
       " [79,] 0.004932263 0.9689021889 0.0261655482\n",
       " [80,] 0.128344642 0.7669886641 0.1046666938\n",
       " [81,] 0.077824404 0.8322763998 0.0898991963\n",
       " [82,] 0.103801767 0.7954459338 0.1007522991\n",
       " [83,] 0.030993851 0.9186881445 0.0503180050\n",
       " [84,] 0.023967644 0.6564099991 0.3196223571\n",
       " [85,] 0.026382250 0.8911732759 0.0824444738\n",
       " [86,] 0.032138558 0.7971989341 0.1706625078\n",
       " [87,] 0.033452212 0.5554972567 0.4110505316\n",
       " [88,] 0.026862410 0.8576823238 0.1154552659\n",
       " [89,] 0.024099148 0.9289062152 0.0469946371\n",
       " [90,] 0.038190722 0.8994194618 0.0623898157\n",
       " [91,] 0.019634718 0.9311344885 0.0492307933\n",
       " [92,] 0.011612179 0.9156989074 0.0726889132\n",
       " [93,] 0.022527533 0.9356717885 0.0418006784\n",
       " [94,] 0.268962762 0.5982955058 0.1327417322\n",
       " [95,] 0.012687189 0.9588604007 0.0284524104\n",
       " [96,] 0.016788937 0.9455262639 0.0376847988\n",
       " [97,] 0.009582256 0.9673949257 0.0230228186\n",
       " [98,] 0.011404763 0.9438809078 0.0447143295\n",
       " [99,] 0.355386032 0.5201023352 0.1245116325\n",
       "[100,] 0.012698312 0.9605502966 0.0267513919\n",
       "[101,] 0.019356059 0.1207383363 0.8599056043\n",
       "[102,] 0.029294505 0.6156661489 0.3550393459\n",
       "[103,] 0.006070209 0.0381221327 0.9558076580\n",
       "[104,] 0.012527864 0.1420015680 0.8454705678\n",
       "[105,] 0.004754143 0.0376434413 0.9576024152\n",
       "[106,] 0.035448825 0.1526416622 0.8119095127\n",
       "[107,] 0.072978734 0.7599905716 0.1670306943\n",
       "[108,] 0.021889594 0.1151082471 0.8630021592\n",
       "[109,] 0.013992227 0.1173505613 0.8686572121\n",
       "[110,] 0.024407811 0.1145618235 0.8610303652\n",
       "[111,] 0.016767502 0.2099672034 0.7732652941\n",
       "[112,] 0.015758303 0.2232233666 0.7610183300\n",
       "[113,] 0.001167466 0.0100280693 0.9888044645\n",
       "[114,] 0.034361267 0.6600271680 0.3056115655\n",
       "[115,] 0.038369529 0.4610598422 0.5005706291\n",
       "[116,] 0.014065732 0.1361161776 0.8498180899\n",
       "[117,] 0.007164450 0.0796691548 0.9131663957\n",
       "[118,] 0.050576169 0.1857910605 0.7636327707\n",
       "[119,] 0.049171031 0.1932287935 0.7576001758\n",
       "[120,] 0.032183520 0.7107766888 0.2570397912\n",
       "[121,] 0.003824649 0.0256822400 0.9704931108\n",
       "[122,] 0.033636410 0.7070322237 0.2593313666\n",
       "[123,] 0.041959760 0.1747996632 0.7832405768\n",
       "[124,] 0.022798145 0.5958591608 0.3813426945\n",
       "[125,] 0.002912678 0.0217396813 0.9753476406\n",
       "[126,] 0.012900943 0.0751383312 0.9119607258\n",
       "[127,] 0.020973295 0.7078676399 0.2711590649\n",
       "[128,] 0.023086973 0.6469994455 0.3299135811\n",
       "[129,] 0.008359968 0.0830383959 0.9086016357\n",
       "[130,] 0.014441290 0.0947321112 0.8908265989\n",
       "[131,] 0.019778454 0.1074171149 0.8728044311\n",
       "[132,] 0.050891566 0.1889682377 0.7601401964\n",
       "[133,] 0.008958099 0.0848734770 0.9061684243\n",
       "[134,] 0.023387975 0.5403090246 0.4363030001\n",
       "[135,] 0.031184165 0.3927903134 0.5760255215\n",
       "[136,] 0.028651545 0.1317424449 0.8396060103\n",
       "[137,] 0.017226627 0.1287167151 0.8540566577\n",
       "[138,] 0.009786576 0.1101286751 0.8800847486\n",
       "[139,] 0.021718252 0.7499783059 0.2283034426\n",
       "[140,] 0.003489901 0.0289718075 0.9675382919\n",
       "[141,] 0.005076470 0.0376774399 0.9572460899\n",
       "[142,] 0.015402676 0.1295100537 0.8550872707\n",
       "[143,] 0.029294505 0.6156661489 0.3550393459\n",
       "[144,] 0.005245496 0.0337123316 0.9610421722\n",
       "[145,] 0.009698527 0.0631714321 0.9271300413\n",
       "[146,] 0.011264541 0.1064224890 0.8823129703\n",
       "[147,] 0.025795875 0.5076182911 0.4665858344\n",
       "[148,] 0.012117297 0.1565118381 0.8313708647\n",
       "[149,] 0.021583283 0.1890761268 0.7893405902\n",
       "[150,] 0.026917774 0.5818724245 0.3912098017\n",
       "\n",
       "Closest hard clustering:\n",
       "  [1] 1 1 1 1 1 1 1 1 1 1 1 1 1 1 1 1 1 1 1 1 1 1 1 1 1 1 1 1 1 1 1 1 1 1 1 1 1\n",
       " [38] 1 1 1 1 1 1 1 1 1 1 1 1 1 3 2 3 2 2 2 2 2 2 2 2 2 2 2 2 2 2 2 2 2 2 2 2 2\n",
       " [75] 2 2 2 3 2 2 2 2 2 2 2 2 2 2 2 2 2 2 2 2 2 2 2 2 2 2 3 2 3 3 3 3 2 3 3 3 3\n",
       "[112] 3 3 2 3 3 3 3 3 2 3 2 3 2 3 3 2 2 3 3 3 3 3 2 3 3 3 3 2 3 3 3 2 3 3 3 2 3\n",
       "[149] 3 2\n",
       "\n",
       "Available components:\n",
       "[1] \"centers\"     \"size\"        \"cluster\"     \"membership\"  \"iter\"       \n",
       "[6] \"withinerror\" \"call\"       "
      ]
     },
     "metadata": {},
     "output_type": "display_data"
    },
    {
     "data": {
      "text/html": [
       "<table class=\"dataframe\">\n",
       "<caption>A matrix: 150 × 3 of type dbl</caption>\n",
       "<thead>\n",
       "\t<tr><th scope=col>1</th><th scope=col>2</th><th scope=col>3</th></tr>\n",
       "</thead>\n",
       "<tbody>\n",
       "\t<tr><td>0.9966236</td><td>0.0023043738</td><td>0.0010720452</td></tr>\n",
       "\t<tr><td>0.9758539</td><td>0.0166484900</td><td>0.0074976078</td></tr>\n",
       "\t<tr><td>0.9798268</td><td>0.0137588345</td><td>0.0064143594</td></tr>\n",
       "\t<tr><td>0.9674292</td><td>0.0224636778</td><td>0.0101070767</td></tr>\n",
       "\t<tr><td>0.9944704</td><td>0.0037616730</td><td>0.0017679397</td></tr>\n",
       "\t<tr><td>0.9345770</td><td>0.0448041037</td><td>0.0206188768</td></tr>\n",
       "\t<tr><td>0.9794926</td><td>0.0140031263</td><td>0.0065042873</td></tr>\n",
       "\t<tr><td>0.9995473</td><td>0.0003115141</td><td>0.0001411985</td></tr>\n",
       "\t<tr><td>0.9303832</td><td>0.0477152104</td><td>0.0219015761</td></tr>\n",
       "\t<tr><td>0.9827240</td><td>0.0119347072</td><td>0.0053413040</td></tr>\n",
       "\t<tr><td>0.9680436</td><td>0.0217558069</td><td>0.0102006111</td></tr>\n",
       "\t<tr><td>0.9921377</td><td>0.0054314069</td><td>0.0024309263</td></tr>\n",
       "\t<tr><td>0.9706417</td><td>0.0201815190</td><td>0.0091767898</td></tr>\n",
       "\t<tr><td>0.9229730</td><td>0.0517918141</td><td>0.0252351867</td></tr>\n",
       "\t<tr><td>0.8897623</td><td>0.0726070392</td><td>0.0376306489</td></tr>\n",
       "\t<tr><td>0.8413497</td><td>0.1043458727</td><td>0.0543044039</td></tr>\n",
       "\t<tr><td>0.9469272</td><td>0.0355777767</td><td>0.0174950697</td></tr>\n",
       "\t<tr><td>0.9966528</td><td>0.0022884475</td><td>0.0010587853</td></tr>\n",
       "\t<tr><td>0.9041395</td><td>0.0655537002</td><td>0.0303068300</td></tr>\n",
       "\t<tr><td>0.9791898</td><td>0.0141567437</td><td>0.0066534493</td></tr>\n",
       "\t<tr><td>0.9686063</td><td>0.0218538739</td><td>0.0095397924</td></tr>\n",
       "\t<tr><td>0.9848336</td><td>0.0103727380</td><td>0.0047937001</td></tr>\n",
       "\t<tr><td>0.9586592</td><td>0.0275082796</td><td>0.0138325262</td></tr>\n",
       "\t<tr><td>0.9794291</td><td>0.0144598753</td><td>0.0061110299</td></tr>\n",
       "\t<tr><td>0.9669216</td><td>0.0232408705</td><td>0.0098375748</td></tr>\n",
       "\t<tr><td>0.9735699</td><td>0.0184571236</td><td>0.0079729685</td></tr>\n",
       "\t<tr><td>0.9948460</td><td>0.0035808875</td><td>0.0015731104</td></tr>\n",
       "\t<tr><td>0.9933485</td><td>0.0045648209</td><td>0.0020866669</td></tr>\n",
       "\t<tr><td>0.9936762</td><td>0.0043279010</td><td>0.0019959273</td></tr>\n",
       "\t<tr><td>0.9795176</td><td>0.0142002010</td><td>0.0062822019</td></tr>\n",
       "\t<tr><td>⋮</td><td>⋮</td><td>⋮</td></tr>\n",
       "\t<tr><td>0.003824649</td><td>0.02568224</td><td>0.9704931</td></tr>\n",
       "\t<tr><td>0.033636410</td><td>0.70703222</td><td>0.2593314</td></tr>\n",
       "\t<tr><td>0.041959760</td><td>0.17479966</td><td>0.7832406</td></tr>\n",
       "\t<tr><td>0.022798145</td><td>0.59585916</td><td>0.3813427</td></tr>\n",
       "\t<tr><td>0.002912678</td><td>0.02173968</td><td>0.9753476</td></tr>\n",
       "\t<tr><td>0.012900943</td><td>0.07513833</td><td>0.9119607</td></tr>\n",
       "\t<tr><td>0.020973295</td><td>0.70786764</td><td>0.2711591</td></tr>\n",
       "\t<tr><td>0.023086973</td><td>0.64699945</td><td>0.3299136</td></tr>\n",
       "\t<tr><td>0.008359968</td><td>0.08303840</td><td>0.9086016</td></tr>\n",
       "\t<tr><td>0.014441290</td><td>0.09473211</td><td>0.8908266</td></tr>\n",
       "\t<tr><td>0.019778454</td><td>0.10741711</td><td>0.8728044</td></tr>\n",
       "\t<tr><td>0.050891566</td><td>0.18896824</td><td>0.7601402</td></tr>\n",
       "\t<tr><td>0.008958099</td><td>0.08487348</td><td>0.9061684</td></tr>\n",
       "\t<tr><td>0.023387975</td><td>0.54030902</td><td>0.4363030</td></tr>\n",
       "\t<tr><td>0.031184165</td><td>0.39279031</td><td>0.5760255</td></tr>\n",
       "\t<tr><td>0.028651545</td><td>0.13174244</td><td>0.8396060</td></tr>\n",
       "\t<tr><td>0.017226627</td><td>0.12871672</td><td>0.8540567</td></tr>\n",
       "\t<tr><td>0.009786576</td><td>0.11012868</td><td>0.8800847</td></tr>\n",
       "\t<tr><td>0.021718252</td><td>0.74997831</td><td>0.2283034</td></tr>\n",
       "\t<tr><td>0.003489901</td><td>0.02897181</td><td>0.9675383</td></tr>\n",
       "\t<tr><td>0.005076470</td><td>0.03767744</td><td>0.9572461</td></tr>\n",
       "\t<tr><td>0.015402676</td><td>0.12951005</td><td>0.8550873</td></tr>\n",
       "\t<tr><td>0.029294505</td><td>0.61566615</td><td>0.3550393</td></tr>\n",
       "\t<tr><td>0.005245496</td><td>0.03371233</td><td>0.9610422</td></tr>\n",
       "\t<tr><td>0.009698527</td><td>0.06317143</td><td>0.9271300</td></tr>\n",
       "\t<tr><td>0.011264541</td><td>0.10642249</td><td>0.8823130</td></tr>\n",
       "\t<tr><td>0.025795875</td><td>0.50761829</td><td>0.4665858</td></tr>\n",
       "\t<tr><td>0.012117297</td><td>0.15651184</td><td>0.8313709</td></tr>\n",
       "\t<tr><td>0.021583283</td><td>0.18907613</td><td>0.7893406</td></tr>\n",
       "\t<tr><td>0.026917774</td><td>0.58187242</td><td>0.3912098</td></tr>\n",
       "</tbody>\n",
       "</table>\n"
      ],
      "text/latex": [
       "A matrix: 150 × 3 of type dbl\n",
       "\\begin{tabular}{lll}\n",
       " 1 & 2 & 3\\\\\n",
       "\\hline\n",
       "\t 0.9966236 & 0.0023043738 & 0.0010720452\\\\\n",
       "\t 0.9758539 & 0.0166484900 & 0.0074976078\\\\\n",
       "\t 0.9798268 & 0.0137588345 & 0.0064143594\\\\\n",
       "\t 0.9674292 & 0.0224636778 & 0.0101070767\\\\\n",
       "\t 0.9944704 & 0.0037616730 & 0.0017679397\\\\\n",
       "\t 0.9345770 & 0.0448041037 & 0.0206188768\\\\\n",
       "\t 0.9794926 & 0.0140031263 & 0.0065042873\\\\\n",
       "\t 0.9995473 & 0.0003115141 & 0.0001411985\\\\\n",
       "\t 0.9303832 & 0.0477152104 & 0.0219015761\\\\\n",
       "\t 0.9827240 & 0.0119347072 & 0.0053413040\\\\\n",
       "\t 0.9680436 & 0.0217558069 & 0.0102006111\\\\\n",
       "\t 0.9921377 & 0.0054314069 & 0.0024309263\\\\\n",
       "\t 0.9706417 & 0.0201815190 & 0.0091767898\\\\\n",
       "\t 0.9229730 & 0.0517918141 & 0.0252351867\\\\\n",
       "\t 0.8897623 & 0.0726070392 & 0.0376306489\\\\\n",
       "\t 0.8413497 & 0.1043458727 & 0.0543044039\\\\\n",
       "\t 0.9469272 & 0.0355777767 & 0.0174950697\\\\\n",
       "\t 0.9966528 & 0.0022884475 & 0.0010587853\\\\\n",
       "\t 0.9041395 & 0.0655537002 & 0.0303068300\\\\\n",
       "\t 0.9791898 & 0.0141567437 & 0.0066534493\\\\\n",
       "\t 0.9686063 & 0.0218538739 & 0.0095397924\\\\\n",
       "\t 0.9848336 & 0.0103727380 & 0.0047937001\\\\\n",
       "\t 0.9586592 & 0.0275082796 & 0.0138325262\\\\\n",
       "\t 0.9794291 & 0.0144598753 & 0.0061110299\\\\\n",
       "\t 0.9669216 & 0.0232408705 & 0.0098375748\\\\\n",
       "\t 0.9735699 & 0.0184571236 & 0.0079729685\\\\\n",
       "\t 0.9948460 & 0.0035808875 & 0.0015731104\\\\\n",
       "\t 0.9933485 & 0.0045648209 & 0.0020866669\\\\\n",
       "\t 0.9936762 & 0.0043279010 & 0.0019959273\\\\\n",
       "\t 0.9795176 & 0.0142002010 & 0.0062822019\\\\\n",
       "\t ⋮ & ⋮ & ⋮\\\\\n",
       "\t 0.003824649 & 0.02568224 & 0.9704931\\\\\n",
       "\t 0.033636410 & 0.70703222 & 0.2593314\\\\\n",
       "\t 0.041959760 & 0.17479966 & 0.7832406\\\\\n",
       "\t 0.022798145 & 0.59585916 & 0.3813427\\\\\n",
       "\t 0.002912678 & 0.02173968 & 0.9753476\\\\\n",
       "\t 0.012900943 & 0.07513833 & 0.9119607\\\\\n",
       "\t 0.020973295 & 0.70786764 & 0.2711591\\\\\n",
       "\t 0.023086973 & 0.64699945 & 0.3299136\\\\\n",
       "\t 0.008359968 & 0.08303840 & 0.9086016\\\\\n",
       "\t 0.014441290 & 0.09473211 & 0.8908266\\\\\n",
       "\t 0.019778454 & 0.10741711 & 0.8728044\\\\\n",
       "\t 0.050891566 & 0.18896824 & 0.7601402\\\\\n",
       "\t 0.008958099 & 0.08487348 & 0.9061684\\\\\n",
       "\t 0.023387975 & 0.54030902 & 0.4363030\\\\\n",
       "\t 0.031184165 & 0.39279031 & 0.5760255\\\\\n",
       "\t 0.028651545 & 0.13174244 & 0.8396060\\\\\n",
       "\t 0.017226627 & 0.12871672 & 0.8540567\\\\\n",
       "\t 0.009786576 & 0.11012868 & 0.8800847\\\\\n",
       "\t 0.021718252 & 0.74997831 & 0.2283034\\\\\n",
       "\t 0.003489901 & 0.02897181 & 0.9675383\\\\\n",
       "\t 0.005076470 & 0.03767744 & 0.9572461\\\\\n",
       "\t 0.015402676 & 0.12951005 & 0.8550873\\\\\n",
       "\t 0.029294505 & 0.61566615 & 0.3550393\\\\\n",
       "\t 0.005245496 & 0.03371233 & 0.9610422\\\\\n",
       "\t 0.009698527 & 0.06317143 & 0.9271300\\\\\n",
       "\t 0.011264541 & 0.10642249 & 0.8823130\\\\\n",
       "\t 0.025795875 & 0.50761829 & 0.4665858\\\\\n",
       "\t 0.012117297 & 0.15651184 & 0.8313709\\\\\n",
       "\t 0.021583283 & 0.18907613 & 0.7893406\\\\\n",
       "\t 0.026917774 & 0.58187242 & 0.3912098\\\\\n",
       "\\end{tabular}\n"
      ],
      "text/markdown": [
       "\n",
       "A matrix: 150 × 3 of type dbl\n",
       "\n",
       "| 1 | 2 | 3 |\n",
       "|---|---|---|\n",
       "| 0.9966236 | 0.0023043738 | 0.0010720452 |\n",
       "| 0.9758539 | 0.0166484900 | 0.0074976078 |\n",
       "| 0.9798268 | 0.0137588345 | 0.0064143594 |\n",
       "| 0.9674292 | 0.0224636778 | 0.0101070767 |\n",
       "| 0.9944704 | 0.0037616730 | 0.0017679397 |\n",
       "| 0.9345770 | 0.0448041037 | 0.0206188768 |\n",
       "| 0.9794926 | 0.0140031263 | 0.0065042873 |\n",
       "| 0.9995473 | 0.0003115141 | 0.0001411985 |\n",
       "| 0.9303832 | 0.0477152104 | 0.0219015761 |\n",
       "| 0.9827240 | 0.0119347072 | 0.0053413040 |\n",
       "| 0.9680436 | 0.0217558069 | 0.0102006111 |\n",
       "| 0.9921377 | 0.0054314069 | 0.0024309263 |\n",
       "| 0.9706417 | 0.0201815190 | 0.0091767898 |\n",
       "| 0.9229730 | 0.0517918141 | 0.0252351867 |\n",
       "| 0.8897623 | 0.0726070392 | 0.0376306489 |\n",
       "| 0.8413497 | 0.1043458727 | 0.0543044039 |\n",
       "| 0.9469272 | 0.0355777767 | 0.0174950697 |\n",
       "| 0.9966528 | 0.0022884475 | 0.0010587853 |\n",
       "| 0.9041395 | 0.0655537002 | 0.0303068300 |\n",
       "| 0.9791898 | 0.0141567437 | 0.0066534493 |\n",
       "| 0.9686063 | 0.0218538739 | 0.0095397924 |\n",
       "| 0.9848336 | 0.0103727380 | 0.0047937001 |\n",
       "| 0.9586592 | 0.0275082796 | 0.0138325262 |\n",
       "| 0.9794291 | 0.0144598753 | 0.0061110299 |\n",
       "| 0.9669216 | 0.0232408705 | 0.0098375748 |\n",
       "| 0.9735699 | 0.0184571236 | 0.0079729685 |\n",
       "| 0.9948460 | 0.0035808875 | 0.0015731104 |\n",
       "| 0.9933485 | 0.0045648209 | 0.0020866669 |\n",
       "| 0.9936762 | 0.0043279010 | 0.0019959273 |\n",
       "| 0.9795176 | 0.0142002010 | 0.0062822019 |\n",
       "| ⋮ | ⋮ | ⋮ |\n",
       "| 0.003824649 | 0.02568224 | 0.9704931 |\n",
       "| 0.033636410 | 0.70703222 | 0.2593314 |\n",
       "| 0.041959760 | 0.17479966 | 0.7832406 |\n",
       "| 0.022798145 | 0.59585916 | 0.3813427 |\n",
       "| 0.002912678 | 0.02173968 | 0.9753476 |\n",
       "| 0.012900943 | 0.07513833 | 0.9119607 |\n",
       "| 0.020973295 | 0.70786764 | 0.2711591 |\n",
       "| 0.023086973 | 0.64699945 | 0.3299136 |\n",
       "| 0.008359968 | 0.08303840 | 0.9086016 |\n",
       "| 0.014441290 | 0.09473211 | 0.8908266 |\n",
       "| 0.019778454 | 0.10741711 | 0.8728044 |\n",
       "| 0.050891566 | 0.18896824 | 0.7601402 |\n",
       "| 0.008958099 | 0.08487348 | 0.9061684 |\n",
       "| 0.023387975 | 0.54030902 | 0.4363030 |\n",
       "| 0.031184165 | 0.39279031 | 0.5760255 |\n",
       "| 0.028651545 | 0.13174244 | 0.8396060 |\n",
       "| 0.017226627 | 0.12871672 | 0.8540567 |\n",
       "| 0.009786576 | 0.11012868 | 0.8800847 |\n",
       "| 0.021718252 | 0.74997831 | 0.2283034 |\n",
       "| 0.003489901 | 0.02897181 | 0.9675383 |\n",
       "| 0.005076470 | 0.03767744 | 0.9572461 |\n",
       "| 0.015402676 | 0.12951005 | 0.8550873 |\n",
       "| 0.029294505 | 0.61566615 | 0.3550393 |\n",
       "| 0.005245496 | 0.03371233 | 0.9610422 |\n",
       "| 0.009698527 | 0.06317143 | 0.9271300 |\n",
       "| 0.011264541 | 0.10642249 | 0.8823130 |\n",
       "| 0.025795875 | 0.50761829 | 0.4665858 |\n",
       "| 0.012117297 | 0.15651184 | 0.8313709 |\n",
       "| 0.021583283 | 0.18907613 | 0.7893406 |\n",
       "| 0.026917774 | 0.58187242 | 0.3912098 |\n",
       "\n"
      ],
      "text/plain": [
       "      1           2            3           \n",
       " [1,] 0.9966236   0.0023043738 0.0010720452\n",
       " [2,] 0.9758539   0.0166484900 0.0074976078\n",
       " [3,] 0.9798268   0.0137588345 0.0064143594\n",
       " [4,] 0.9674292   0.0224636778 0.0101070767\n",
       " [5,] 0.9944704   0.0037616730 0.0017679397\n",
       " [6,] 0.9345770   0.0448041037 0.0206188768\n",
       " [7,] 0.9794926   0.0140031263 0.0065042873\n",
       " [8,] 0.9995473   0.0003115141 0.0001411985\n",
       " [9,] 0.9303832   0.0477152104 0.0219015761\n",
       "[10,] 0.9827240   0.0119347072 0.0053413040\n",
       "[11,] 0.9680436   0.0217558069 0.0102006111\n",
       "[12,] 0.9921377   0.0054314069 0.0024309263\n",
       "[13,] 0.9706417   0.0201815190 0.0091767898\n",
       "[14,] 0.9229730   0.0517918141 0.0252351867\n",
       "[15,] 0.8897623   0.0726070392 0.0376306489\n",
       "[16,] 0.8413497   0.1043458727 0.0543044039\n",
       "[17,] 0.9469272   0.0355777767 0.0174950697\n",
       "[18,] 0.9966528   0.0022884475 0.0010587853\n",
       "[19,] 0.9041395   0.0655537002 0.0303068300\n",
       "[20,] 0.9791898   0.0141567437 0.0066534493\n",
       "[21,] 0.9686063   0.0218538739 0.0095397924\n",
       "[22,] 0.9848336   0.0103727380 0.0047937001\n",
       "[23,] 0.9586592   0.0275082796 0.0138325262\n",
       "[24,] 0.9794291   0.0144598753 0.0061110299\n",
       "[25,] 0.9669216   0.0232408705 0.0098375748\n",
       "[26,] 0.9735699   0.0184571236 0.0079729685\n",
       "[27,] 0.9948460   0.0035808875 0.0015731104\n",
       "[28,] 0.9933485   0.0045648209 0.0020866669\n",
       "[29,] 0.9936762   0.0043279010 0.0019959273\n",
       "[30,] 0.9795176   0.0142002010 0.0062822019\n",
       "[31,] ⋮           ⋮            ⋮           \n",
       "[32,] 0.003824649 0.02568224   0.9704931   \n",
       "[33,] 0.033636410 0.70703222   0.2593314   \n",
       "[34,] 0.041959760 0.17479966   0.7832406   \n",
       "[35,] 0.022798145 0.59585916   0.3813427   \n",
       "[36,] 0.002912678 0.02173968   0.9753476   \n",
       "[37,] 0.012900943 0.07513833   0.9119607   \n",
       "[38,] 0.020973295 0.70786764   0.2711591   \n",
       "[39,] 0.023086973 0.64699945   0.3299136   \n",
       "[40,] 0.008359968 0.08303840   0.9086016   \n",
       "[41,] 0.014441290 0.09473211   0.8908266   \n",
       "[42,] 0.019778454 0.10741711   0.8728044   \n",
       "[43,] 0.050891566 0.18896824   0.7601402   \n",
       "[44,] 0.008958099 0.08487348   0.9061684   \n",
       "[45,] 0.023387975 0.54030902   0.4363030   \n",
       "[46,] 0.031184165 0.39279031   0.5760255   \n",
       "[47,] 0.028651545 0.13174244   0.8396060   \n",
       "[48,] 0.017226627 0.12871672   0.8540567   \n",
       "[49,] 0.009786576 0.11012868   0.8800847   \n",
       "[50,] 0.021718252 0.74997831   0.2283034   \n",
       "[51,] 0.003489901 0.02897181   0.9675383   \n",
       "[52,] 0.005076470 0.03767744   0.9572461   \n",
       "[53,] 0.015402676 0.12951005   0.8550873   \n",
       "[54,] 0.029294505 0.61566615   0.3550393   \n",
       "[55,] 0.005245496 0.03371233   0.9610422   \n",
       "[56,] 0.009698527 0.06317143   0.9271300   \n",
       "[57,] 0.011264541 0.10642249   0.8823130   \n",
       "[58,] 0.025795875 0.50761829   0.4665858   \n",
       "[59,] 0.012117297 0.15651184   0.8313709   \n",
       "[60,] 0.021583283 0.18907613   0.7893406   \n",
       "[61,] 0.026917774 0.58187242   0.3912098   "
      ]
     },
     "metadata": {},
     "output_type": "display_data"
    }
   ],
   "source": [
    "cluster_ = cmeans(iris[, 1:4], centers = 3)\n",
    "cluster_\n",
    "cluster_$membership"
   ]
  },
  {
   "cell_type": "markdown",
   "metadata": {},
   "source": [
    "## Gráfico heatmap( )\n",
    "- Retorna o percentual de associação de cada instância a cada cluster"
   ]
  },
  {
   "cell_type": "code",
   "execution_count": 3,
   "metadata": {
    "vscode": {
     "languageId": "r"
    }
   },
   "outputs": [
    {
     "data": {
      "image/png": "[encoded data removed]",
      "text/plain": [
       "plot without title"
      ]
     },
     "metadata": {
      "image/png": {
       "height": 420,
       "width": 420
      }
     },
     "output_type": "display_data"
    }
   ],
   "source": [
    "heatmap(cluster_$membership, Colv = NA, Rowv = NA, col=brewer.pal(n=9, name='YlOrRd'))"
   ]
  },
  {
   "cell_type": "markdown",
   "metadata": {},
   "source": [
    "## Matriz de Confusão"
   ]
  },
  {
   "cell_type": "code",
   "execution_count": 4,
   "metadata": {
    "vscode": {
     "languageId": "r"
    }
   },
   "outputs": [
    {
     "data": {
      "text/plain": [
       "            \n",
       "              1  2  3\n",
       "  setosa     50  0  0\n",
       "  versicolor  0 47  3\n",
       "  virginica   0 13 37"
      ]
     },
     "metadata": {},
     "output_type": "display_data"
    }
   ],
   "source": [
    "confusao = table(iris$Species, cluster_$cluster)\n",
    "confusao"
   ]
  },
  {
   "cell_type": "markdown",
   "metadata": {},
   "source": [
    "## Gráfico com fviz_cluster( )"
   ]
  },
  {
   "cell_type": "code",
   "execution_count": 5,
   "metadata": {
    "vscode": {
     "languageId": "r"
    }
   },
   "outputs": [
    {
     "data": {
      "image/png": "[encoded data removed]",
      "text/plain": [
       "plot without title"
      ]
     },
     "metadata": {
      "image/png": {
       "height": 420,
       "width": 420
      }
     },
     "output_type": "display_data"
    }
   ],
   "source": [
    "g = fviz_cluster(list(data=iris[, 1:4], cluster=cluster_$cluster),\n",
    "ellipse.type = 'norm', ggtheme = theme_bw(), main='Iris Cluster Fuzzi C')\n",
    "plot(g)"
   ]
  }
 ],
 "metadata": {
  "kernelspec": {
   "display_name": "R",
   "language": "R",
   "name": "ir"
  },
  "language_info": {
   "codemirror_mode": "r",
   "file_extension": ".r",
   "mimetype": "text/x-r-source",
   "name": "R",
   "pygments_lexer": "r",
   "version": "4.3.2"
  }
 },
 "nbformat": 4,
 "nbformat_minor": 2
}
