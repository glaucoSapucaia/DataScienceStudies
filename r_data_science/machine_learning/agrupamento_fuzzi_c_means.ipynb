{
 "cells": [
  {
   "cell_type": "code",
   "execution_count": 2,
   "metadata": {
    "vscode": {
     "languageId": "r"
    }
   },
   "outputs": [
    {
     "data": {
      "text/html": [
       "<style>\n",
       ".list-inline {list-style: none; margin:0; padding: 0}\n",
       ".list-inline>li {display: inline-block}\n",
       ".list-inline>li:not(:last-child)::after {content: \"\\00b7\"; padding: 0 .5ex}\n",
       "</style>\n",
       "<ol class=list-inline><li>150</li><li>5</li></ol>\n"
      ],
      "text/latex": [
       "\\begin{enumerate*}\n",
       "\\item 150\n",
       "\\item 5\n",
       "\\end{enumerate*}\n"
      ],
      "text/markdown": [
       "1. 150\n",
       "2. 5\n",
       "\n",
       "\n"
      ],
      "text/plain": [
       "[1] 150   5"
      ]
     },
     "metadata": {},
     "output_type": "display_data"
    },
    {
     "data": {
      "text/html": [
       "<table class=\"dataframe\">\n",
       "<caption>A data.frame: 6 × 5</caption>\n",
       "<thead>\n",
       "\t<tr><th></th><th scope=col>Sepal.Length</th><th scope=col>Sepal.Width</th><th scope=col>Petal.Length</th><th scope=col>Petal.Width</th><th scope=col>Species</th></tr>\n",
       "\t<tr><th></th><th scope=col>&lt;dbl&gt;</th><th scope=col>&lt;dbl&gt;</th><th scope=col>&lt;dbl&gt;</th><th scope=col>&lt;dbl&gt;</th><th scope=col>&lt;fct&gt;</th></tr>\n",
       "</thead>\n",
       "<tbody>\n",
       "\t<tr><th scope=row>1</th><td>5.1</td><td>3.5</td><td>1.4</td><td>0.2</td><td>setosa</td></tr>\n",
       "\t<tr><th scope=row>2</th><td>4.9</td><td>3.0</td><td>1.4</td><td>0.2</td><td>setosa</td></tr>\n",
       "\t<tr><th scope=row>3</th><td>4.7</td><td>3.2</td><td>1.3</td><td>0.2</td><td>setosa</td></tr>\n",
       "\t<tr><th scope=row>4</th><td>4.6</td><td>3.1</td><td>1.5</td><td>0.2</td><td>setosa</td></tr>\n",
       "\t<tr><th scope=row>5</th><td>5.0</td><td>3.6</td><td>1.4</td><td>0.2</td><td>setosa</td></tr>\n",
       "\t<tr><th scope=row>6</th><td>5.4</td><td>3.9</td><td>1.7</td><td>0.4</td><td>setosa</td></tr>\n",
       "</tbody>\n",
       "</table>\n"
      ],
      "text/latex": [
       "A data.frame: 6 × 5\n",
       "\\begin{tabular}{r|lllll}\n",
       "  & Sepal.Length & Sepal.Width & Petal.Length & Petal.Width & Species\\\\\n",
       "  & <dbl> & <dbl> & <dbl> & <dbl> & <fct>\\\\\n",
       "\\hline\n",
       "\t1 & 5.1 & 3.5 & 1.4 & 0.2 & setosa\\\\\n",
       "\t2 & 4.9 & 3.0 & 1.4 & 0.2 & setosa\\\\\n",
       "\t3 & 4.7 & 3.2 & 1.3 & 0.2 & setosa\\\\\n",
       "\t4 & 4.6 & 3.1 & 1.5 & 0.2 & setosa\\\\\n",
       "\t5 & 5.0 & 3.6 & 1.4 & 0.2 & setosa\\\\\n",
       "\t6 & 5.4 & 3.9 & 1.7 & 0.4 & setosa\\\\\n",
       "\\end{tabular}\n"
      ],
      "text/markdown": [
       "\n",
       "A data.frame: 6 × 5\n",
       "\n",
       "| <!--/--> | Sepal.Length &lt;dbl&gt; | Sepal.Width &lt;dbl&gt; | Petal.Length &lt;dbl&gt; | Petal.Width &lt;dbl&gt; | Species &lt;fct&gt; |\n",
       "|---|---|---|---|---|---|\n",
       "| 1 | 5.1 | 3.5 | 1.4 | 0.2 | setosa |\n",
       "| 2 | 4.9 | 3.0 | 1.4 | 0.2 | setosa |\n",
       "| 3 | 4.7 | 3.2 | 1.3 | 0.2 | setosa |\n",
       "| 4 | 4.6 | 3.1 | 1.5 | 0.2 | setosa |\n",
       "| 5 | 5.0 | 3.6 | 1.4 | 0.2 | setosa |\n",
       "| 6 | 5.4 | 3.9 | 1.7 | 0.4 | setosa |\n",
       "\n"
      ],
      "text/plain": [
       "  Sepal.Length Sepal.Width Petal.Length Petal.Width Species\n",
       "1 5.1          3.5         1.4          0.2         setosa \n",
       "2 4.9          3.0         1.4          0.2         setosa \n",
       "3 4.7          3.2         1.3          0.2         setosa \n",
       "4 4.6          3.1         1.5          0.2         setosa \n",
       "5 5.0          3.6         1.4          0.2         setosa \n",
       "6 5.4          3.9         1.7          0.4         setosa "
      ]
     },
     "metadata": {},
     "output_type": "display_data"
    },
    {
     "data": {
      "text/plain": [
       "  Sepal.Length    Sepal.Width     Petal.Length    Petal.Width   \n",
       " Min.   :4.300   Min.   :2.000   Min.   :1.000   Min.   :0.100  \n",
       " 1st Qu.:5.100   1st Qu.:2.800   1st Qu.:1.600   1st Qu.:0.300  \n",
       " Median :5.800   Median :3.000   Median :4.350   Median :1.300  \n",
       " Mean   :5.843   Mean   :3.057   Mean   :3.758   Mean   :1.199  \n",
       " 3rd Qu.:6.400   3rd Qu.:3.300   3rd Qu.:5.100   3rd Qu.:1.800  \n",
       " Max.   :7.900   Max.   :4.400   Max.   :6.900   Max.   :2.500  \n",
       "       Species  \n",
       " setosa    :50  \n",
       " versicolor:50  \n",
       " virginica :50  \n",
       "                \n",
       "                \n",
       "                "
      ]
     },
     "metadata": {},
     "output_type": "display_data"
    }
   ],
   "source": [
    "library(factoextra)\n",
    "library(e1071)\n",
    "library(RColorBrewer)\n",
    "\n",
    "dim(iris)\n",
    "head(iris)\n",
    "summary(iris)"
   ]
  },
  {
   "cell_type": "markdown",
   "metadata": {},
   "source": [
    "## CLuster Fuzzi\n",
    "- cmeans -> Retorna agrupamentos como em k-means, mas em percentual (sem um valor absoluto)"
   ]
  },
  {
   "cell_type": "code",
   "execution_count": 4,
   "metadata": {
    "vscode": {
     "languageId": "r"
    }
   },
   "outputs": [
    {
     "data": {
      "text/plain": [
       "Fuzzy c-means clustering with 3 clusters\n",
       "\n",
       "Cluster centers:\n",
       "  Sepal.Length Sepal.Width Petal.Length Petal.Width\n",
       "1     6.774924    3.052357     5.646674   2.0535050\n",
       "2     5.888861    2.761044     4.363847   1.3972610\n",
       "3     5.003966    3.414092     1.482810   0.2535437\n",
       "\n",
       "Memberships:\n",
       "                  1           2           3\n",
       "  [1,] 0.0010720191 0.002304388 0.996623593\n",
       "  [2,] 0.0074984180 0.016650924 0.975850658\n",
       "  [3,] 0.0064148826 0.013760423 0.979824694\n",
       "  [4,] 0.0101081416 0.022466910 0.967424949\n",
       "  [5,] 0.0017679290 0.003761760 0.994470311\n",
       "  [6,] 0.0206207332 0.044809188 0.934570079\n",
       "  [7,] 0.0065048375 0.014004771 0.979490392\n",
       "  [8,] 0.0001412136 0.000311558 0.999547228\n",
       "  [9,] 0.0219035862 0.047721382 0.930375031\n",
       " [10,] 0.0053419186 0.011936541 0.982721540\n",
       " [11,] 0.0102013974 0.021758048 0.968040555\n",
       " [12,] 0.0024312405 0.005432307 0.992136453\n",
       " [13,] 0.0091777017 0.020184286 0.970638013\n",
       " [14,] 0.0252370898 0.051797339 0.922965571\n",
       " [15,] 0.0376330524 0.072612639 0.889754309\n",
       " [16,] 0.0543080108 0.104353564 0.841338425\n",
       " [17,] 0.0174962576 0.035580886 0.946922856\n",
       " [18,] 0.0010587937 0.002288536 0.996652671\n",
       " [19,] 0.0303094621 0.065560825 0.904129713\n",
       " [20,] 0.0066539029 0.014158080 0.979188017\n",
       " [21,] 0.0095409042 0.021857193 0.968601903\n",
       " [22,] 0.0047940771 0.010373847 0.984832076\n",
       " [23,] 0.0138332764 0.027510452 0.958656272\n",
       " [24,] 0.0061120159 0.014462795 0.979425189\n",
       " [25,] 0.0098388901 0.023244958 0.966916152\n",
       " [26,] 0.0079740270 0.018460358 0.973565615\n",
       " [27,] 0.0015734356 0.003581759 0.994844806\n",
       " [28,] 0.0020868204 0.004565301 0.993347879\n",
       " [29,] 0.0019960398 0.004328282 0.993675679\n",
       " [30,] 0.0062829752 0.014202510 0.979514515\n",
       " [31,] 0.0064738923 0.014800218 0.978725890\n",
       " [32,] 0.0079398817 0.017697447 0.974362671\n",
       " [33,] 0.0203348441 0.041147193 0.938517963\n",
       " [34,] 0.0323494131 0.063484319 0.904166267\n",
       " [35,] 0.0045943024 0.010341664 0.985064034\n",
       " [36,] 0.0048053658 0.010201752 0.984992883\n",
       " [37,] 0.0115645227 0.024252727 0.964182750\n",
       " [38,] 0.0029265988 0.006182676 0.990890725\n",
       " [39,] 0.0192334255 0.041086162 0.939680413\n",
       " [40,] 0.0005332715 0.001177810 0.998288919\n",
       " [41,] 0.0016883251 0.003583960 0.994727714\n",
       " [42,] 0.0469965301 0.102277228 0.850726242\n",
       " [43,] 0.0152090844 0.032178375 0.952612540\n",
       " [44,] 0.0063298442 0.014383838 0.979286318\n",
       " [45,] 0.0166015458 0.038131173 0.945267281\n",
       " [46,] 0.0086319760 0.019223759 0.972144265\n",
       " [47,] 0.0073652328 0.015842947 0.976791821\n",
       " [48,] 0.0081271572 0.017653635 0.974219208\n",
       " [49,] 0.0072598299 0.015520964 0.977219206\n",
       " [50,] 0.0009193385 0.002008304 0.997072357\n",
       " [51,] 0.5012402835 0.454184710 0.044575007\n",
       " [52,] 0.2068928725 0.763940366 0.029166762\n",
       " [53,] 0.6000720060 0.368662836 0.031265158\n",
       " [54,] 0.0804285474 0.870235435 0.049336018\n",
       " [55,] 0.2172471544 0.758640880 0.024111965\n",
       " [56,] 0.0204641792 0.973796684 0.005739137\n",
       " [57,] 0.2973140657 0.672887146 0.029798788\n",
       " [58,] 0.1323041016 0.582546959 0.285148940\n",
       " [59,] 0.2478236472 0.720940786 0.031235566\n",
       " [60,] 0.0946869366 0.830570433 0.074742630\n",
       " [61,] 0.1450567051 0.636548153 0.218395141\n",
       " [62,] 0.0287411289 0.962073581 0.009185290\n",
       " [63,] 0.1011122160 0.843268763 0.055619021\n",
       " [64,] 0.0883077060 0.899572951 0.012119344\n",
       " [65,] 0.0921722281 0.816203032 0.091624740\n",
       " [66,] 0.2684666337 0.689811596 0.041721770\n",
       " [67,] 0.0526874570 0.933158604 0.014153939\n",
       " [68,] 0.0483551389 0.925762428 0.025882433\n",
       " [69,] 0.1374527763 0.835401706 0.027145518\n",
       " [70,] 0.0707536475 0.877705742 0.051540610\n",
       " [71,] 0.2508346161 0.721545868 0.027619516\n",
       " [72,] 0.0462262746 0.934284656 0.019489070\n",
       " [73,] 0.2706921000 0.705334286 0.023973614\n",
       " [74,] 0.0833726671 0.902689934 0.013937399\n",
       " [75,] 0.1012158171 0.875875669 0.022908514\n",
       " [76,] 0.2113379130 0.754718310 0.033943777\n",
       " [77,] 0.4428305402 0.523563156 0.033606304\n",
       " [78,] 0.6726017204 0.306214581 0.021183699\n",
       " [79,] 0.0262191903 0.968840119 0.004940690\n",
       " [80,] 0.1046470700 0.767057363 0.128295567\n",
       " [81,] 0.0898734046 0.832340618 0.077785978\n",
       " [82,] 0.1007293257 0.795513146 0.103757529\n",
       " [83,] 0.0502885585 0.918742966 0.030968476\n",
       " [84,] 0.3198301211 0.656197136 0.023972743\n",
       " [85,] 0.0824572516 0.891163505 0.026379243\n",
       " [86,] 0.1707547253 0.797099480 0.032145795\n",
       " [87,] 0.4112349662 0.555310424 0.033454609\n",
       " [88,] 0.1154965643 0.857638775 0.026864661\n",
       " [89,] 0.0469729100 0.928945034 0.024082056\n",
       " [90,] 0.0623610453 0.899474580 0.038164375\n",
       " [91,] 0.0492140106 0.931162911 0.019623078\n",
       " [92,] 0.0727796424 0.915597801 0.011622557\n",
       " [93,] 0.0417710692 0.935722755 0.022506176\n",
       " [94,] 0.1327352969 0.598360095 0.268904608\n",
       " [95,] 0.0284252552 0.958902889 0.012671856\n",
       " [96,] 0.0376665676 0.945556902 0.016776531\n",
       " [97,] 0.0230013919 0.967427787 0.009570821\n",
       " [98,] 0.0447423539 0.943849124 0.011408522\n",
       " [99,] 0.1245099260 0.520167220 0.355322854\n",
       "[100,] 0.0267232526 0.960595007 0.012681740\n",
       "[101,] 0.8599133796 0.120728085 0.019358536\n",
       "[102,] 0.3552189558 0.615483357 0.029297687\n",
       "[103,] 0.9557692779 0.038154059 0.006076663\n",
       "[104,] 0.8455976359 0.141880972 0.012521393\n",
       "[105,] 0.9576149149 0.037631233 0.004753852\n",
       "[106,] 0.8118720318 0.152667493 0.035460475\n",
       "[107,] 0.1670416984 0.759990319 0.072967983\n",
       "[108,] 0.8629688485 0.115132783 0.021898369\n",
       "[109,] 0.8686980973 0.117310828 0.013991075\n",
       "[110,] 0.8609936400 0.114588452 0.024417908\n",
       "[111,] 0.7734510035 0.209789321 0.016759676\n",
       "[112,] 0.7612162205 0.223032778 0.015751002\n",
       "[113,] 0.9888257751 0.010008678 0.001165546\n",
       "[114,] 0.3057440722 0.659891233 0.034364695\n",
       "[115,] 0.5007163616 0.460915635 0.038368004\n",
       "[116,] 0.8499258936 0.136014548 0.014059558\n",
       "[117,] 0.9132774932 0.079564966 0.007157541\n",
       "[118,] 0.7636001968 0.185810968 0.050588835\n",
       "[119,] 0.7575709426 0.193246599 0.049182458\n",
       "[120,] 0.2571536804 0.710658541 0.032187779\n",
       "[121,] 0.9704693890 0.025702081 0.003828530\n",
       "[122,] 0.2594536865 0.706905282 0.033641032\n",
       "[123,] 0.7832084800 0.174820438 0.041971082\n",
       "[124,] 0.3815938726 0.595604513 0.022801614\n",
       "[125,] 0.9753447528 0.021741554 0.002913693\n",
       "[126,] 0.9119274556 0.075164387 0.012908158\n",
       "[127,] 0.2713837923 0.707635378 0.020980829\n",
       "[128,] 0.3301523567 0.646755213 0.023092430\n",
       "[129,] 0.9086824943 0.082962624 0.008354882\n",
       "[130,] 0.8908193101 0.094735579 0.014445111\n",
       "[131,] 0.8727724451 0.107440893 0.019786662\n",
       "[132,] 0.7601104572 0.188985818 0.050903725\n",
       "[133,] 0.9062398974 0.084806456 0.008953647\n",
       "[134,] 0.4365528056 0.540057632 0.023389562\n",
       "[135,] 0.5761730042 0.392645080 0.031181916\n",
       "[136,] 0.8395686303 0.131769086 0.028662284\n",
       "[137,] 0.8541057270 0.128669645 0.017224628\n",
       "[138,] 0.8802104044 0.110010171 0.009779424\n",
       "[139,] 0.2284922202 0.749780913 0.021726866\n",
       "[140,] 0.9675633645 0.028948542 0.003488093\n",
       "[141,] 0.9572510921 0.037671884 0.005077024\n",
       "[142,] 0.8551604966 0.129440740 0.015398763\n",
       "[143,] 0.3552189558 0.615483357 0.029297687\n",
       "[144,] 0.9610117011 0.033737652 0.005250647\n",
       "[145,] 0.9271231066 0.063175488 0.009701405\n",
       "[146,] 0.8824030350 0.106337938 0.011259027\n",
       "[147,] 0.4668078498 0.507396143 0.025796007\n",
       "[148,] 0.8315519075 0.156339453 0.012108640\n",
       "[149,] 0.7894401457 0.188981400 0.021578455\n",
       "[150,] 0.3914251984 0.581654384 0.026920417\n",
       "\n",
       "Closest hard clustering:\n",
       "  [1] 3 3 3 3 3 3 3 3 3 3 3 3 3 3 3 3 3 3 3 3 3 3 3 3 3 3 3 3 3 3 3 3 3 3 3 3 3\n",
       " [38] 3 3 3 3 3 3 3 3 3 3 3 3 3 1 2 1 2 2 2 2 2 2 2 2 2 2 2 2 2 2 2 2 2 2 2 2 2\n",
       " [75] 2 2 2 1 2 2 2 2 2 2 2 2 2 2 2 2 2 2 2 2 2 2 2 2 2 2 1 2 1 1 1 1 2 1 1 1 1\n",
       "[112] 1 1 2 1 1 1 1 1 2 1 2 1 2 1 1 2 2 1 1 1 1 1 2 1 1 1 1 2 1 1 1 2 1 1 1 2 1\n",
       "[149] 1 2\n",
       "\n",
       "Available components:\n",
       "[1] \"centers\"     \"size\"        \"cluster\"     \"membership\"  \"iter\"       \n",
       "[6] \"withinerror\" \"call\"       "
      ]
     },
     "metadata": {},
     "output_type": "display_data"
    },
    {
     "data": {
      "text/html": [
       "<table class=\"dataframe\">\n",
       "<caption>A matrix: 150 × 3 of type dbl</caption>\n",
       "<thead>\n",
       "\t<tr><th scope=col>1</th><th scope=col>2</th><th scope=col>3</th></tr>\n",
       "</thead>\n",
       "<tbody>\n",
       "\t<tr><td>0.0010720191</td><td>0.002304388</td><td>0.9966236</td></tr>\n",
       "\t<tr><td>0.0074984180</td><td>0.016650924</td><td>0.9758507</td></tr>\n",
       "\t<tr><td>0.0064148826</td><td>0.013760423</td><td>0.9798247</td></tr>\n",
       "\t<tr><td>0.0101081416</td><td>0.022466910</td><td>0.9674249</td></tr>\n",
       "\t<tr><td>0.0017679290</td><td>0.003761760</td><td>0.9944703</td></tr>\n",
       "\t<tr><td>0.0206207332</td><td>0.044809188</td><td>0.9345701</td></tr>\n",
       "\t<tr><td>0.0065048375</td><td>0.014004771</td><td>0.9794904</td></tr>\n",
       "\t<tr><td>0.0001412136</td><td>0.000311558</td><td>0.9995472</td></tr>\n",
       "\t<tr><td>0.0219035862</td><td>0.047721382</td><td>0.9303750</td></tr>\n",
       "\t<tr><td>0.0053419186</td><td>0.011936541</td><td>0.9827215</td></tr>\n",
       "\t<tr><td>0.0102013974</td><td>0.021758048</td><td>0.9680406</td></tr>\n",
       "\t<tr><td>0.0024312405</td><td>0.005432307</td><td>0.9921365</td></tr>\n",
       "\t<tr><td>0.0091777017</td><td>0.020184286</td><td>0.9706380</td></tr>\n",
       "\t<tr><td>0.0252370898</td><td>0.051797339</td><td>0.9229656</td></tr>\n",
       "\t<tr><td>0.0376330524</td><td>0.072612639</td><td>0.8897543</td></tr>\n",
       "\t<tr><td>0.0543080108</td><td>0.104353564</td><td>0.8413384</td></tr>\n",
       "\t<tr><td>0.0174962576</td><td>0.035580886</td><td>0.9469229</td></tr>\n",
       "\t<tr><td>0.0010587937</td><td>0.002288536</td><td>0.9966527</td></tr>\n",
       "\t<tr><td>0.0303094621</td><td>0.065560825</td><td>0.9041297</td></tr>\n",
       "\t<tr><td>0.0066539029</td><td>0.014158080</td><td>0.9791880</td></tr>\n",
       "\t<tr><td>0.0095409042</td><td>0.021857193</td><td>0.9686019</td></tr>\n",
       "\t<tr><td>0.0047940771</td><td>0.010373847</td><td>0.9848321</td></tr>\n",
       "\t<tr><td>0.0138332764</td><td>0.027510452</td><td>0.9586563</td></tr>\n",
       "\t<tr><td>0.0061120159</td><td>0.014462795</td><td>0.9794252</td></tr>\n",
       "\t<tr><td>0.0098388901</td><td>0.023244958</td><td>0.9669162</td></tr>\n",
       "\t<tr><td>0.0079740270</td><td>0.018460358</td><td>0.9735656</td></tr>\n",
       "\t<tr><td>0.0015734356</td><td>0.003581759</td><td>0.9948448</td></tr>\n",
       "\t<tr><td>0.0020868204</td><td>0.004565301</td><td>0.9933479</td></tr>\n",
       "\t<tr><td>0.0019960398</td><td>0.004328282</td><td>0.9936757</td></tr>\n",
       "\t<tr><td>0.0062829752</td><td>0.014202510</td><td>0.9795145</td></tr>\n",
       "\t<tr><td>⋮</td><td>⋮</td><td>⋮</td></tr>\n",
       "\t<tr><td>0.9704694</td><td>0.02570208</td><td>0.003828530</td></tr>\n",
       "\t<tr><td>0.2594537</td><td>0.70690528</td><td>0.033641032</td></tr>\n",
       "\t<tr><td>0.7832085</td><td>0.17482044</td><td>0.041971082</td></tr>\n",
       "\t<tr><td>0.3815939</td><td>0.59560451</td><td>0.022801614</td></tr>\n",
       "\t<tr><td>0.9753448</td><td>0.02174155</td><td>0.002913693</td></tr>\n",
       "\t<tr><td>0.9119275</td><td>0.07516439</td><td>0.012908158</td></tr>\n",
       "\t<tr><td>0.2713838</td><td>0.70763538</td><td>0.020980829</td></tr>\n",
       "\t<tr><td>0.3301524</td><td>0.64675521</td><td>0.023092430</td></tr>\n",
       "\t<tr><td>0.9086825</td><td>0.08296262</td><td>0.008354882</td></tr>\n",
       "\t<tr><td>0.8908193</td><td>0.09473558</td><td>0.014445111</td></tr>\n",
       "\t<tr><td>0.8727724</td><td>0.10744089</td><td>0.019786662</td></tr>\n",
       "\t<tr><td>0.7601105</td><td>0.18898582</td><td>0.050903725</td></tr>\n",
       "\t<tr><td>0.9062399</td><td>0.08480646</td><td>0.008953647</td></tr>\n",
       "\t<tr><td>0.4365528</td><td>0.54005763</td><td>0.023389562</td></tr>\n",
       "\t<tr><td>0.5761730</td><td>0.39264508</td><td>0.031181916</td></tr>\n",
       "\t<tr><td>0.8395686</td><td>0.13176909</td><td>0.028662284</td></tr>\n",
       "\t<tr><td>0.8541057</td><td>0.12866964</td><td>0.017224628</td></tr>\n",
       "\t<tr><td>0.8802104</td><td>0.11001017</td><td>0.009779424</td></tr>\n",
       "\t<tr><td>0.2284922</td><td>0.74978091</td><td>0.021726866</td></tr>\n",
       "\t<tr><td>0.9675634</td><td>0.02894854</td><td>0.003488093</td></tr>\n",
       "\t<tr><td>0.9572511</td><td>0.03767188</td><td>0.005077024</td></tr>\n",
       "\t<tr><td>0.8551605</td><td>0.12944074</td><td>0.015398763</td></tr>\n",
       "\t<tr><td>0.3552190</td><td>0.61548336</td><td>0.029297687</td></tr>\n",
       "\t<tr><td>0.9610117</td><td>0.03373765</td><td>0.005250647</td></tr>\n",
       "\t<tr><td>0.9271231</td><td>0.06317549</td><td>0.009701405</td></tr>\n",
       "\t<tr><td>0.8824030</td><td>0.10633794</td><td>0.011259027</td></tr>\n",
       "\t<tr><td>0.4668078</td><td>0.50739614</td><td>0.025796007</td></tr>\n",
       "\t<tr><td>0.8315519</td><td>0.15633945</td><td>0.012108640</td></tr>\n",
       "\t<tr><td>0.7894401</td><td>0.18898140</td><td>0.021578455</td></tr>\n",
       "\t<tr><td>0.3914252</td><td>0.58165438</td><td>0.026920417</td></tr>\n",
       "</tbody>\n",
       "</table>\n"
      ],
      "text/latex": [
       "A matrix: 150 × 3 of type dbl\n",
       "\\begin{tabular}{lll}\n",
       " 1 & 2 & 3\\\\\n",
       "\\hline\n",
       "\t 0.0010720191 & 0.002304388 & 0.9966236\\\\\n",
       "\t 0.0074984180 & 0.016650924 & 0.9758507\\\\\n",
       "\t 0.0064148826 & 0.013760423 & 0.9798247\\\\\n",
       "\t 0.0101081416 & 0.022466910 & 0.9674249\\\\\n",
       "\t 0.0017679290 & 0.003761760 & 0.9944703\\\\\n",
       "\t 0.0206207332 & 0.044809188 & 0.9345701\\\\\n",
       "\t 0.0065048375 & 0.014004771 & 0.9794904\\\\\n",
       "\t 0.0001412136 & 0.000311558 & 0.9995472\\\\\n",
       "\t 0.0219035862 & 0.047721382 & 0.9303750\\\\\n",
       "\t 0.0053419186 & 0.011936541 & 0.9827215\\\\\n",
       "\t 0.0102013974 & 0.021758048 & 0.9680406\\\\\n",
       "\t 0.0024312405 & 0.005432307 & 0.9921365\\\\\n",
       "\t 0.0091777017 & 0.020184286 & 0.9706380\\\\\n",
       "\t 0.0252370898 & 0.051797339 & 0.9229656\\\\\n",
       "\t 0.0376330524 & 0.072612639 & 0.8897543\\\\\n",
       "\t 0.0543080108 & 0.104353564 & 0.8413384\\\\\n",
       "\t 0.0174962576 & 0.035580886 & 0.9469229\\\\\n",
       "\t 0.0010587937 & 0.002288536 & 0.9966527\\\\\n",
       "\t 0.0303094621 & 0.065560825 & 0.9041297\\\\\n",
       "\t 0.0066539029 & 0.014158080 & 0.9791880\\\\\n",
       "\t 0.0095409042 & 0.021857193 & 0.9686019\\\\\n",
       "\t 0.0047940771 & 0.010373847 & 0.9848321\\\\\n",
       "\t 0.0138332764 & 0.027510452 & 0.9586563\\\\\n",
       "\t 0.0061120159 & 0.014462795 & 0.9794252\\\\\n",
       "\t 0.0098388901 & 0.023244958 & 0.9669162\\\\\n",
       "\t 0.0079740270 & 0.018460358 & 0.9735656\\\\\n",
       "\t 0.0015734356 & 0.003581759 & 0.9948448\\\\\n",
       "\t 0.0020868204 & 0.004565301 & 0.9933479\\\\\n",
       "\t 0.0019960398 & 0.004328282 & 0.9936757\\\\\n",
       "\t 0.0062829752 & 0.014202510 & 0.9795145\\\\\n",
       "\t ⋮ & ⋮ & ⋮\\\\\n",
       "\t 0.9704694 & 0.02570208 & 0.003828530\\\\\n",
       "\t 0.2594537 & 0.70690528 & 0.033641032\\\\\n",
       "\t 0.7832085 & 0.17482044 & 0.041971082\\\\\n",
       "\t 0.3815939 & 0.59560451 & 0.022801614\\\\\n",
       "\t 0.9753448 & 0.02174155 & 0.002913693\\\\\n",
       "\t 0.9119275 & 0.07516439 & 0.012908158\\\\\n",
       "\t 0.2713838 & 0.70763538 & 0.020980829\\\\\n",
       "\t 0.3301524 & 0.64675521 & 0.023092430\\\\\n",
       "\t 0.9086825 & 0.08296262 & 0.008354882\\\\\n",
       "\t 0.8908193 & 0.09473558 & 0.014445111\\\\\n",
       "\t 0.8727724 & 0.10744089 & 0.019786662\\\\\n",
       "\t 0.7601105 & 0.18898582 & 0.050903725\\\\\n",
       "\t 0.9062399 & 0.08480646 & 0.008953647\\\\\n",
       "\t 0.4365528 & 0.54005763 & 0.023389562\\\\\n",
       "\t 0.5761730 & 0.39264508 & 0.031181916\\\\\n",
       "\t 0.8395686 & 0.13176909 & 0.028662284\\\\\n",
       "\t 0.8541057 & 0.12866964 & 0.017224628\\\\\n",
       "\t 0.8802104 & 0.11001017 & 0.009779424\\\\\n",
       "\t 0.2284922 & 0.74978091 & 0.021726866\\\\\n",
       "\t 0.9675634 & 0.02894854 & 0.003488093\\\\\n",
       "\t 0.9572511 & 0.03767188 & 0.005077024\\\\\n",
       "\t 0.8551605 & 0.12944074 & 0.015398763\\\\\n",
       "\t 0.3552190 & 0.61548336 & 0.029297687\\\\\n",
       "\t 0.9610117 & 0.03373765 & 0.005250647\\\\\n",
       "\t 0.9271231 & 0.06317549 & 0.009701405\\\\\n",
       "\t 0.8824030 & 0.10633794 & 0.011259027\\\\\n",
       "\t 0.4668078 & 0.50739614 & 0.025796007\\\\\n",
       "\t 0.8315519 & 0.15633945 & 0.012108640\\\\\n",
       "\t 0.7894401 & 0.18898140 & 0.021578455\\\\\n",
       "\t 0.3914252 & 0.58165438 & 0.026920417\\\\\n",
       "\\end{tabular}\n"
      ],
      "text/markdown": [
       "\n",
       "A matrix: 150 × 3 of type dbl\n",
       "\n",
       "| 1 | 2 | 3 |\n",
       "|---|---|---|\n",
       "| 0.0010720191 | 0.002304388 | 0.9966236 |\n",
       "| 0.0074984180 | 0.016650924 | 0.9758507 |\n",
       "| 0.0064148826 | 0.013760423 | 0.9798247 |\n",
       "| 0.0101081416 | 0.022466910 | 0.9674249 |\n",
       "| 0.0017679290 | 0.003761760 | 0.9944703 |\n",
       "| 0.0206207332 | 0.044809188 | 0.9345701 |\n",
       "| 0.0065048375 | 0.014004771 | 0.9794904 |\n",
       "| 0.0001412136 | 0.000311558 | 0.9995472 |\n",
       "| 0.0219035862 | 0.047721382 | 0.9303750 |\n",
       "| 0.0053419186 | 0.011936541 | 0.9827215 |\n",
       "| 0.0102013974 | 0.021758048 | 0.9680406 |\n",
       "| 0.0024312405 | 0.005432307 | 0.9921365 |\n",
       "| 0.0091777017 | 0.020184286 | 0.9706380 |\n",
       "| 0.0252370898 | 0.051797339 | 0.9229656 |\n",
       "| 0.0376330524 | 0.072612639 | 0.8897543 |\n",
       "| 0.0543080108 | 0.104353564 | 0.8413384 |\n",
       "| 0.0174962576 | 0.035580886 | 0.9469229 |\n",
       "| 0.0010587937 | 0.002288536 | 0.9966527 |\n",
       "| 0.0303094621 | 0.065560825 | 0.9041297 |\n",
       "| 0.0066539029 | 0.014158080 | 0.9791880 |\n",
       "| 0.0095409042 | 0.021857193 | 0.9686019 |\n",
       "| 0.0047940771 | 0.010373847 | 0.9848321 |\n",
       "| 0.0138332764 | 0.027510452 | 0.9586563 |\n",
       "| 0.0061120159 | 0.014462795 | 0.9794252 |\n",
       "| 0.0098388901 | 0.023244958 | 0.9669162 |\n",
       "| 0.0079740270 | 0.018460358 | 0.9735656 |\n",
       "| 0.0015734356 | 0.003581759 | 0.9948448 |\n",
       "| 0.0020868204 | 0.004565301 | 0.9933479 |\n",
       "| 0.0019960398 | 0.004328282 | 0.9936757 |\n",
       "| 0.0062829752 | 0.014202510 | 0.9795145 |\n",
       "| ⋮ | ⋮ | ⋮ |\n",
       "| 0.9704694 | 0.02570208 | 0.003828530 |\n",
       "| 0.2594537 | 0.70690528 | 0.033641032 |\n",
       "| 0.7832085 | 0.17482044 | 0.041971082 |\n",
       "| 0.3815939 | 0.59560451 | 0.022801614 |\n",
       "| 0.9753448 | 0.02174155 | 0.002913693 |\n",
       "| 0.9119275 | 0.07516439 | 0.012908158 |\n",
       "| 0.2713838 | 0.70763538 | 0.020980829 |\n",
       "| 0.3301524 | 0.64675521 | 0.023092430 |\n",
       "| 0.9086825 | 0.08296262 | 0.008354882 |\n",
       "| 0.8908193 | 0.09473558 | 0.014445111 |\n",
       "| 0.8727724 | 0.10744089 | 0.019786662 |\n",
       "| 0.7601105 | 0.18898582 | 0.050903725 |\n",
       "| 0.9062399 | 0.08480646 | 0.008953647 |\n",
       "| 0.4365528 | 0.54005763 | 0.023389562 |\n",
       "| 0.5761730 | 0.39264508 | 0.031181916 |\n",
       "| 0.8395686 | 0.13176909 | 0.028662284 |\n",
       "| 0.8541057 | 0.12866964 | 0.017224628 |\n",
       "| 0.8802104 | 0.11001017 | 0.009779424 |\n",
       "| 0.2284922 | 0.74978091 | 0.021726866 |\n",
       "| 0.9675634 | 0.02894854 | 0.003488093 |\n",
       "| 0.9572511 | 0.03767188 | 0.005077024 |\n",
       "| 0.8551605 | 0.12944074 | 0.015398763 |\n",
       "| 0.3552190 | 0.61548336 | 0.029297687 |\n",
       "| 0.9610117 | 0.03373765 | 0.005250647 |\n",
       "| 0.9271231 | 0.06317549 | 0.009701405 |\n",
       "| 0.8824030 | 0.10633794 | 0.011259027 |\n",
       "| 0.4668078 | 0.50739614 | 0.025796007 |\n",
       "| 0.8315519 | 0.15633945 | 0.012108640 |\n",
       "| 0.7894401 | 0.18898140 | 0.021578455 |\n",
       "| 0.3914252 | 0.58165438 | 0.026920417 |\n",
       "\n"
      ],
      "text/plain": [
       "      1            2           3          \n",
       " [1,] 0.0010720191 0.002304388 0.9966236  \n",
       " [2,] 0.0074984180 0.016650924 0.9758507  \n",
       " [3,] 0.0064148826 0.013760423 0.9798247  \n",
       " [4,] 0.0101081416 0.022466910 0.9674249  \n",
       " [5,] 0.0017679290 0.003761760 0.9944703  \n",
       " [6,] 0.0206207332 0.044809188 0.9345701  \n",
       " [7,] 0.0065048375 0.014004771 0.9794904  \n",
       " [8,] 0.0001412136 0.000311558 0.9995472  \n",
       " [9,] 0.0219035862 0.047721382 0.9303750  \n",
       "[10,] 0.0053419186 0.011936541 0.9827215  \n",
       "[11,] 0.0102013974 0.021758048 0.9680406  \n",
       "[12,] 0.0024312405 0.005432307 0.9921365  \n",
       "[13,] 0.0091777017 0.020184286 0.9706380  \n",
       "[14,] 0.0252370898 0.051797339 0.9229656  \n",
       "[15,] 0.0376330524 0.072612639 0.8897543  \n",
       "[16,] 0.0543080108 0.104353564 0.8413384  \n",
       "[17,] 0.0174962576 0.035580886 0.9469229  \n",
       "[18,] 0.0010587937 0.002288536 0.9966527  \n",
       "[19,] 0.0303094621 0.065560825 0.9041297  \n",
       "[20,] 0.0066539029 0.014158080 0.9791880  \n",
       "[21,] 0.0095409042 0.021857193 0.9686019  \n",
       "[22,] 0.0047940771 0.010373847 0.9848321  \n",
       "[23,] 0.0138332764 0.027510452 0.9586563  \n",
       "[24,] 0.0061120159 0.014462795 0.9794252  \n",
       "[25,] 0.0098388901 0.023244958 0.9669162  \n",
       "[26,] 0.0079740270 0.018460358 0.9735656  \n",
       "[27,] 0.0015734356 0.003581759 0.9948448  \n",
       "[28,] 0.0020868204 0.004565301 0.9933479  \n",
       "[29,] 0.0019960398 0.004328282 0.9936757  \n",
       "[30,] 0.0062829752 0.014202510 0.9795145  \n",
       "[31,] ⋮            ⋮           ⋮          \n",
       "[32,] 0.9704694    0.02570208  0.003828530\n",
       "[33,] 0.2594537    0.70690528  0.033641032\n",
       "[34,] 0.7832085    0.17482044  0.041971082\n",
       "[35,] 0.3815939    0.59560451  0.022801614\n",
       "[36,] 0.9753448    0.02174155  0.002913693\n",
       "[37,] 0.9119275    0.07516439  0.012908158\n",
       "[38,] 0.2713838    0.70763538  0.020980829\n",
       "[39,] 0.3301524    0.64675521  0.023092430\n",
       "[40,] 0.9086825    0.08296262  0.008354882\n",
       "[41,] 0.8908193    0.09473558  0.014445111\n",
       "[42,] 0.8727724    0.10744089  0.019786662\n",
       "[43,] 0.7601105    0.18898582  0.050903725\n",
       "[44,] 0.9062399    0.08480646  0.008953647\n",
       "[45,] 0.4365528    0.54005763  0.023389562\n",
       "[46,] 0.5761730    0.39264508  0.031181916\n",
       "[47,] 0.8395686    0.13176909  0.028662284\n",
       "[48,] 0.8541057    0.12866964  0.017224628\n",
       "[49,] 0.8802104    0.11001017  0.009779424\n",
       "[50,] 0.2284922    0.74978091  0.021726866\n",
       "[51,] 0.9675634    0.02894854  0.003488093\n",
       "[52,] 0.9572511    0.03767188  0.005077024\n",
       "[53,] 0.8551605    0.12944074  0.015398763\n",
       "[54,] 0.3552190    0.61548336  0.029297687\n",
       "[55,] 0.9610117    0.03373765  0.005250647\n",
       "[56,] 0.9271231    0.06317549  0.009701405\n",
       "[57,] 0.8824030    0.10633794  0.011259027\n",
       "[58,] 0.4668078    0.50739614  0.025796007\n",
       "[59,] 0.8315519    0.15633945  0.012108640\n",
       "[60,] 0.7894401    0.18898140  0.021578455\n",
       "[61,] 0.3914252    0.58165438  0.026920417"
      ]
     },
     "metadata": {},
     "output_type": "display_data"
    }
   ],
   "source": [
    "cluster_ = cmeans(iris[, 1:4], centers = 3)\n",
    "cluster_\n",
    "cluster_$membership"
   ]
  },
  {
   "cell_type": "markdown",
   "metadata": {},
   "source": [
    "## Gráfico heatmap( )\n",
    "- Retorna o percentual de associação de cada instância a cada cluster"
   ]
  },
  {
   "cell_type": "code",
   "execution_count": 8,
   "metadata": {
    "vscode": {
     "languageId": "r"
    }
   },
   "outputs": [
    {
     "data": {
      "image/png": "[encoded data removed]",
      "text/plain": [
       "plot without title"
      ]
     },
     "metadata": {
      "image/png": {
       "height": 420,
       "width": 420
      }
     },
     "output_type": "display_data"
    }
   ],
   "source": [
    "heatmap(cluster_$membership, Colv = NA, Rowv = NA, col=brewer.pal(n=9, name='YlOrRd'))"
   ]
  },
  {
   "cell_type": "markdown",
   "metadata": {},
   "source": [
    "## Matriz de Confusão"
   ]
  },
  {
   "cell_type": "code",
   "execution_count": 9,
   "metadata": {
    "vscode": {
     "languageId": "r"
    }
   },
   "outputs": [
    {
     "data": {
      "text/plain": [
       "            \n",
       "              1  2  3\n",
       "  setosa      0  0 50\n",
       "  versicolor  3 47  0\n",
       "  virginica  37 13  0"
      ]
     },
     "metadata": {},
     "output_type": "display_data"
    }
   ],
   "source": [
    "confusao = table(iris$Species, cluster_$cluster)\n",
    "confusao"
   ]
  },
  {
   "cell_type": "markdown",
   "metadata": {},
   "source": [
    "## Gráfico com fviz_cluster( )"
   ]
  },
  {
   "cell_type": "code",
   "execution_count": 10,
   "metadata": {
    "vscode": {
     "languageId": "r"
    }
   },
   "outputs": [
    {
     "data": {
      "image/png": "[encoded data removed]",
      "text/plain": [
       "plot without title"
      ]
     },
     "metadata": {
      "image/png": {
       "height": 420,
       "width": 420
      }
     },
     "output_type": "display_data"
    }
   ],
   "source": [
    "g = fviz_cluster(list(data=iris[, 1:4], cluster=cluster_$cluster),\n",
    "ellipse.type = 'norm', ggtheme = theme_bw(), main='Iris Cluster Fuzzi C')\n",
    "plot(g)"
   ]
  }
 ],
 "metadata": {
  "kernelspec": {
   "display_name": "R",
   "language": "R",
   "name": "ir"
  },
  "language_info": {
   "codemirror_mode": "r",
   "file_extension": ".r",
   "mimetype": "text/x-r-source",
   "name": "R",
   "pygments_lexer": "r",
   "version": "4.3.2"
  }
 },
 "nbformat": 4,
 "nbformat_minor": 2
}
