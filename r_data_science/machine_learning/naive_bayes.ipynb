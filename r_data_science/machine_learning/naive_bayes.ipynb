{
 "cells": [
  {
   "cell_type": "markdown",
   "metadata": {},
   "source": [
    "## Packages\n",
    "- install.packages('e1071')"
   ]
  },
  {
   "cell_type": "code",
   "execution_count": 6,
   "metadata": {
    "vscode": {
     "languageId": "r"
    }
   },
   "outputs": [
    {
     "data": {
      "text/html": [
       "<table class=\"dataframe\">\n",
       "<caption>A data.frame: 6 × 21</caption>\n",
       "<thead>\n",
       "\t<tr><th></th><th scope=col>checking_status</th><th scope=col>duration</th><th scope=col>credit_history</th><th scope=col>purpose</th><th scope=col>credit_amount</th><th scope=col>savings_status</th><th scope=col>employment</th><th scope=col>installment_commitment</th><th scope=col>personal_status</th><th scope=col>other_parties</th><th scope=col>⋯</th><th scope=col>property_magnitude</th><th scope=col>age</th><th scope=col>other_payment_plans</th><th scope=col>housing</th><th scope=col>existing_credits</th><th scope=col>job</th><th scope=col>num_dependents</th><th scope=col>own_telephone</th><th scope=col>foreign_worker</th><th scope=col>class</th></tr>\n",
       "\t<tr><th></th><th scope=col>&lt;fct&gt;</th><th scope=col>&lt;int&gt;</th><th scope=col>&lt;fct&gt;</th><th scope=col>&lt;fct&gt;</th><th scope=col>&lt;int&gt;</th><th scope=col>&lt;fct&gt;</th><th scope=col>&lt;fct&gt;</th><th scope=col>&lt;int&gt;</th><th scope=col>&lt;fct&gt;</th><th scope=col>&lt;fct&gt;</th><th scope=col>⋯</th><th scope=col>&lt;fct&gt;</th><th scope=col>&lt;int&gt;</th><th scope=col>&lt;fct&gt;</th><th scope=col>&lt;fct&gt;</th><th scope=col>&lt;int&gt;</th><th scope=col>&lt;fct&gt;</th><th scope=col>&lt;int&gt;</th><th scope=col>&lt;fct&gt;</th><th scope=col>&lt;fct&gt;</th><th scope=col>&lt;fct&gt;</th></tr>\n",
       "</thead>\n",
       "<tbody>\n",
       "\t<tr><th scope=row>1</th><td><span style=white-space:pre-wrap>&lt;0           </span></td><td> 6</td><td>'critical/other existing credit'</td><td><span style=white-space:pre-wrap>radio/tv           </span></td><td>1169</td><td>'no known savings'</td><td><span style=white-space:pre-wrap>&gt;=7   </span></td><td>4</td><td><span style=white-space:pre-wrap>'male single'       </span></td><td><span style=white-space:pre-wrap>none     </span></td><td>⋯</td><td><span style=white-space:pre-wrap>'real estate'      </span></td><td>67</td><td>none</td><td><span style=white-space:pre-wrap>own       </span></td><td>2</td><td><span style=white-space:pre-wrap>skilled             </span></td><td>1</td><td>yes </td><td>yes</td><td>good</td></tr>\n",
       "\t<tr><th scope=row>2</th><td><span style=white-space:pre-wrap>0&lt;=X&lt;200     </span></td><td>48</td><td><span style=white-space:pre-wrap>'existing paid'                 </span></td><td><span style=white-space:pre-wrap>radio/tv           </span></td><td>5951</td><td><span style=white-space:pre-wrap>&lt;100              </span></td><td>1&lt;=X&lt;4</td><td>2</td><td>'female div/dep/mar'</td><td><span style=white-space:pre-wrap>none     </span></td><td>⋯</td><td><span style=white-space:pre-wrap>'real estate'      </span></td><td>22</td><td>none</td><td><span style=white-space:pre-wrap>own       </span></td><td>1</td><td><span style=white-space:pre-wrap>skilled             </span></td><td>1</td><td>none</td><td>yes</td><td>bad </td></tr>\n",
       "\t<tr><th scope=row>3</th><td>'no checking'</td><td>12</td><td>'critical/other existing credit'</td><td><span style=white-space:pre-wrap>education          </span></td><td>2096</td><td><span style=white-space:pre-wrap>&lt;100              </span></td><td>4&lt;=X&lt;7</td><td>2</td><td><span style=white-space:pre-wrap>'male single'       </span></td><td><span style=white-space:pre-wrap>none     </span></td><td>⋯</td><td><span style=white-space:pre-wrap>'real estate'      </span></td><td>49</td><td>none</td><td><span style=white-space:pre-wrap>own       </span></td><td>1</td><td>'unskilled resident'</td><td>2</td><td>none</td><td>yes</td><td>good</td></tr>\n",
       "\t<tr><th scope=row>4</th><td><span style=white-space:pre-wrap>&lt;0           </span></td><td>42</td><td><span style=white-space:pre-wrap>'existing paid'                 </span></td><td>furniture/equipment</td><td>7882</td><td><span style=white-space:pre-wrap>&lt;100              </span></td><td>4&lt;=X&lt;7</td><td>2</td><td><span style=white-space:pre-wrap>'male single'       </span></td><td>guarantor</td><td>⋯</td><td><span style=white-space:pre-wrap>'life insurance'   </span></td><td>45</td><td>none</td><td>'for free'</td><td>1</td><td><span style=white-space:pre-wrap>skilled             </span></td><td>2</td><td>none</td><td>yes</td><td>good</td></tr>\n",
       "\t<tr><th scope=row>5</th><td><span style=white-space:pre-wrap>&lt;0           </span></td><td>24</td><td><span style=white-space:pre-wrap>'delayed previously'            </span></td><td><span style=white-space:pre-wrap>'new car'          </span></td><td>4870</td><td><span style=white-space:pre-wrap>&lt;100              </span></td><td>1&lt;=X&lt;4</td><td>3</td><td><span style=white-space:pre-wrap>'male single'       </span></td><td><span style=white-space:pre-wrap>none     </span></td><td>⋯</td><td>'no known property'</td><td>53</td><td>none</td><td>'for free'</td><td>2</td><td><span style=white-space:pre-wrap>skilled             </span></td><td>2</td><td>none</td><td>yes</td><td>bad </td></tr>\n",
       "\t<tr><th scope=row>6</th><td>'no checking'</td><td>36</td><td><span style=white-space:pre-wrap>'existing paid'                 </span></td><td><span style=white-space:pre-wrap>education          </span></td><td>9055</td><td>'no known savings'</td><td>1&lt;=X&lt;4</td><td>2</td><td><span style=white-space:pre-wrap>'male single'       </span></td><td><span style=white-space:pre-wrap>none     </span></td><td>⋯</td><td>'no known property'</td><td>35</td><td>none</td><td>'for free'</td><td>1</td><td>'unskilled resident'</td><td>2</td><td>yes </td><td>yes</td><td>good</td></tr>\n",
       "</tbody>\n",
       "</table>\n"
      ],
      "text/latex": [
       "A data.frame: 6 × 21\n",
       "\\begin{tabular}{r|lllllllllllllllllllll}\n",
       "  & checking\\_status & duration & credit\\_history & purpose & credit\\_amount & savings\\_status & employment & installment\\_commitment & personal\\_status & other\\_parties & ⋯ & property\\_magnitude & age & other\\_payment\\_plans & housing & existing\\_credits & job & num\\_dependents & own\\_telephone & foreign\\_worker & class\\\\\n",
       "  & <fct> & <int> & <fct> & <fct> & <int> & <fct> & <fct> & <int> & <fct> & <fct> & ⋯ & <fct> & <int> & <fct> & <fct> & <int> & <fct> & <int> & <fct> & <fct> & <fct>\\\\\n",
       "\\hline\n",
       "\t1 & <0            &  6 & 'critical/other existing credit' & radio/tv            & 1169 & 'no known savings' & >=7    & 4 & 'male single'        & none      & ⋯ & 'real estate'       & 67 & none & own        & 2 & skilled              & 1 & yes  & yes & good\\\\\n",
       "\t2 & 0<=X<200      & 48 & 'existing paid'                  & radio/tv            & 5951 & <100               & 1<=X<4 & 2 & 'female div/dep/mar' & none      & ⋯ & 'real estate'       & 22 & none & own        & 1 & skilled              & 1 & none & yes & bad \\\\\n",
       "\t3 & 'no checking' & 12 & 'critical/other existing credit' & education           & 2096 & <100               & 4<=X<7 & 2 & 'male single'        & none      & ⋯ & 'real estate'       & 49 & none & own        & 1 & 'unskilled resident' & 2 & none & yes & good\\\\\n",
       "\t4 & <0            & 42 & 'existing paid'                  & furniture/equipment & 7882 & <100               & 4<=X<7 & 2 & 'male single'        & guarantor & ⋯ & 'life insurance'    & 45 & none & 'for free' & 1 & skilled              & 2 & none & yes & good\\\\\n",
       "\t5 & <0            & 24 & 'delayed previously'             & 'new car'           & 4870 & <100               & 1<=X<4 & 3 & 'male single'        & none      & ⋯ & 'no known property' & 53 & none & 'for free' & 2 & skilled              & 2 & none & yes & bad \\\\\n",
       "\t6 & 'no checking' & 36 & 'existing paid'                  & education           & 9055 & 'no known savings' & 1<=X<4 & 2 & 'male single'        & none      & ⋯ & 'no known property' & 35 & none & 'for free' & 1 & 'unskilled resident' & 2 & yes  & yes & good\\\\\n",
       "\\end{tabular}\n"
      ],
      "text/markdown": [
       "\n",
       "A data.frame: 6 × 21\n",
       "\n",
       "| <!--/--> | checking_status &lt;fct&gt; | duration &lt;int&gt; | credit_history &lt;fct&gt; | purpose &lt;fct&gt; | credit_amount &lt;int&gt; | savings_status &lt;fct&gt; | employment &lt;fct&gt; | installment_commitment &lt;int&gt; | personal_status &lt;fct&gt; | other_parties &lt;fct&gt; | ⋯ ⋯ | property_magnitude &lt;fct&gt; | age &lt;int&gt; | other_payment_plans &lt;fct&gt; | housing &lt;fct&gt; | existing_credits &lt;int&gt; | job &lt;fct&gt; | num_dependents &lt;int&gt; | own_telephone &lt;fct&gt; | foreign_worker &lt;fct&gt; | class &lt;fct&gt; |\n",
       "|---|---|---|---|---|---|---|---|---|---|---|---|---|---|---|---|---|---|---|---|---|---|\n",
       "| 1 | &lt;0            |  6 | 'critical/other existing credit' | radio/tv            | 1169 | 'no known savings' | &gt;=7    | 4 | 'male single'        | none      | ⋯ | 'real estate'       | 67 | none | own        | 2 | skilled              | 1 | yes  | yes | good |\n",
       "| 2 | 0&lt;=X&lt;200      | 48 | 'existing paid'                  | radio/tv            | 5951 | &lt;100               | 1&lt;=X&lt;4 | 2 | 'female div/dep/mar' | none      | ⋯ | 'real estate'       | 22 | none | own        | 1 | skilled              | 1 | none | yes | bad  |\n",
       "| 3 | 'no checking' | 12 | 'critical/other existing credit' | education           | 2096 | &lt;100               | 4&lt;=X&lt;7 | 2 | 'male single'        | none      | ⋯ | 'real estate'       | 49 | none | own        | 1 | 'unskilled resident' | 2 | none | yes | good |\n",
       "| 4 | &lt;0            | 42 | 'existing paid'                  | furniture/equipment | 7882 | &lt;100               | 4&lt;=X&lt;7 | 2 | 'male single'        | guarantor | ⋯ | 'life insurance'    | 45 | none | 'for free' | 1 | skilled              | 2 | none | yes | good |\n",
       "| 5 | &lt;0            | 24 | 'delayed previously'             | 'new car'           | 4870 | &lt;100               | 1&lt;=X&lt;4 | 3 | 'male single'        | none      | ⋯ | 'no known property' | 53 | none | 'for free' | 2 | skilled              | 2 | none | yes | bad  |\n",
       "| 6 | 'no checking' | 36 | 'existing paid'                  | education           | 9055 | 'no known savings' | 1&lt;=X&lt;4 | 2 | 'male single'        | none      | ⋯ | 'no known property' | 35 | none | 'for free' | 1 | 'unskilled resident' | 2 | yes  | yes | good |\n",
       "\n"
      ],
      "text/plain": [
       "  checking_status duration credit_history                   purpose            \n",
       "1 <0               6       'critical/other existing credit' radio/tv           \n",
       "2 0<=X<200        48       'existing paid'                  radio/tv           \n",
       "3 'no checking'   12       'critical/other existing credit' education          \n",
       "4 <0              42       'existing paid'                  furniture/equipment\n",
       "5 <0              24       'delayed previously'             'new car'          \n",
       "6 'no checking'   36       'existing paid'                  education          \n",
       "  credit_amount savings_status     employment installment_commitment\n",
       "1 1169          'no known savings' >=7        4                     \n",
       "2 5951          <100               1<=X<4     2                     \n",
       "3 2096          <100               4<=X<7     2                     \n",
       "4 7882          <100               4<=X<7     2                     \n",
       "5 4870          <100               1<=X<4     3                     \n",
       "6 9055          'no known savings' 1<=X<4     2                     \n",
       "  personal_status      other_parties ⋯ property_magnitude  age\n",
       "1 'male single'        none          ⋯ 'real estate'       67 \n",
       "2 'female div/dep/mar' none          ⋯ 'real estate'       22 \n",
       "3 'male single'        none          ⋯ 'real estate'       49 \n",
       "4 'male single'        guarantor     ⋯ 'life insurance'    45 \n",
       "5 'male single'        none          ⋯ 'no known property' 53 \n",
       "6 'male single'        none          ⋯ 'no known property' 35 \n",
       "  other_payment_plans housing    existing_credits job                 \n",
       "1 none                own        2                skilled             \n",
       "2 none                own        1                skilled             \n",
       "3 none                own        1                'unskilled resident'\n",
       "4 none                'for free' 1                skilled             \n",
       "5 none                'for free' 2                skilled             \n",
       "6 none                'for free' 1                'unskilled resident'\n",
       "  num_dependents own_telephone foreign_worker class\n",
       "1 1              yes           yes            good \n",
       "2 1              none          yes            bad  \n",
       "3 2              none          yes            good \n",
       "4 2              none          yes            good \n",
       "5 2              none          yes            bad  \n",
       "6 2              yes           yes            good "
      ]
     },
     "metadata": {},
     "output_type": "display_data"
    },
    {
     "data": {
      "text/plain": [
       "      checking_status    duration                             credit_history\n",
       " 'no checking':394    Min.   : 4.0   'all paid'                      : 49   \n",
       " <0           :274    1st Qu.:12.0   'critical/other existing credit':293   \n",
       " >=200        : 63    Median :18.0   'delayed previously'            : 88   \n",
       " 0<=X<200     :269    Mean   :20.9   'existing paid'                 :530   \n",
       "                      3rd Qu.:24.0   'no credits/all paid'           : 40   \n",
       "                      Max.   :72.0                                          \n",
       "                                                                            \n",
       "                purpose    credit_amount              savings_status\n",
       " radio/tv           :280   Min.   :  250   'no known savings':183   \n",
       " 'new car'          :234   1st Qu.: 1366   <100              :603   \n",
       " furniture/equipment:181   Median : 2320   >=1000            : 48   \n",
       " 'used car'         :103   Mean   : 3271   100<=X<500        :103   \n",
       " business           : 97   3rd Qu.: 3972   500<=X<1000       : 63   \n",
       " education          : 50   Max.   :18424                            \n",
       " (Other)            : 55                                            \n",
       "      employment  installment_commitment             personal_status\n",
       " <1        :172   Min.   :1.000          'female div/dep/mar':310   \n",
       " >=7       :253   1st Qu.:2.000          'male div/sep'      : 50   \n",
       " 1<=X<4    :339   Median :3.000          'male mar/wid'      : 92   \n",
       " 4<=X<7    :174   Mean   :2.973          'male single'       :548   \n",
       " unemployed: 62   3rd Qu.:4.000                                     \n",
       "                  Max.   :4.000                                     \n",
       "                                                                    \n",
       "        other_parties residence_since           property_magnitude\n",
       " 'co applicant': 41   Min.   :1.000   'life insurance'   :232     \n",
       " guarantor     : 52   1st Qu.:2.000   'no known property':154     \n",
       " none          :907   Median :3.000   'real estate'      :282     \n",
       "                      Mean   :2.845   car                :332     \n",
       "                      3rd Qu.:4.000                               \n",
       "                      Max.   :4.000                               \n",
       "                                                                  \n",
       "      age        other_payment_plans       housing    existing_credits\n",
       " Min.   :19.00   bank  :139          'for free':108   Min.   :1.000   \n",
       " 1st Qu.:27.00   none  :814          own       :713   1st Qu.:1.000   \n",
       " Median :33.00   stores: 47          rent      :179   Median :1.000   \n",
       " Mean   :35.55                                        Mean   :1.407   \n",
       " 3rd Qu.:42.00                                        3rd Qu.:2.000   \n",
       " Max.   :75.00                                        Max.   :4.000   \n",
       "                                                                      \n",
       "                          job      num_dependents  own_telephone foreign_worker\n",
       " 'high qualif/self emp/mgmt':148   Min.   :1.000   none:596      no : 37       \n",
       " 'unemp/unskilled non res'  : 22   1st Qu.:1.000   yes :404      yes:963       \n",
       " 'unskilled resident'       :200   Median :1.000                               \n",
       " skilled                    :630   Mean   :1.155                               \n",
       "                                   3rd Qu.:1.000                               \n",
       "                                   Max.   :2.000                               \n",
       "                                                                               \n",
       "  class    \n",
       " bad :300  \n",
       " good:700  \n",
       "           \n",
       "           \n",
       "           \n",
       "           \n",
       "           "
      ]
     },
     "metadata": {},
     "output_type": "display_data"
    },
    {
     "data": {
      "text/html": [
       "<style>\n",
       ".list-inline {list-style: none; margin:0; padding: 0}\n",
       ".list-inline>li {display: inline-block}\n",
       ".list-inline>li:not(:last-child)::after {content: \"\\00b7\"; padding: 0 .5ex}\n",
       "</style>\n",
       "<ol class=list-inline><li>1000</li><li>21</li></ol>\n"
      ],
      "text/latex": [
       "\\begin{enumerate*}\n",
       "\\item 1000\n",
       "\\item 21\n",
       "\\end{enumerate*}\n"
      ],
      "text/markdown": [
       "1. 1000\n",
       "2. 21\n",
       "\n",
       "\n"
      ],
      "text/plain": [
       "[1] 1000   21"
      ]
     },
     "metadata": {},
     "output_type": "display_data"
    }
   ],
   "source": [
    "library(e1071)\n",
    "\n",
    "data_ = read.csv('Credit.csv', stringsAsFactors=T)\n",
    "head(data_)\n",
    "summary(data_)\n",
    "dim(data_)"
   ]
  },
  {
   "cell_type": "markdown",
   "metadata": {},
   "source": [
    "## Amostras"
   ]
  },
  {
   "cell_type": "code",
   "execution_count": 7,
   "metadata": {
    "vscode": {
     "languageId": "r"
    }
   },
   "outputs": [
    {
     "data": {
      "text/html": [
       "<style>\n",
       ".list-inline {list-style: none; margin:0; padding: 0}\n",
       ".list-inline>li {display: inline-block}\n",
       ".list-inline>li:not(:last-child)::after {content: \"\\00b7\"; padding: 0 .5ex}\n",
       "</style>\n",
       "<ol class=list-inline><li>715</li><li>21</li></ol>\n"
      ],
      "text/latex": [
       "\\begin{enumerate*}\n",
       "\\item 715\n",
       "\\item 21\n",
       "\\end{enumerate*}\n"
      ],
      "text/markdown": [
       "1. 715\n",
       "2. 21\n",
       "\n",
       "\n"
      ],
      "text/plain": [
       "[1] 715  21"
      ]
     },
     "metadata": {},
     "output_type": "display_data"
    },
    {
     "data": {
      "text/html": [
       "<style>\n",
       ".list-inline {list-style: none; margin:0; padding: 0}\n",
       ".list-inline>li {display: inline-block}\n",
       ".list-inline>li:not(:last-child)::after {content: \"\\00b7\"; padding: 0 .5ex}\n",
       "</style>\n",
       "<ol class=list-inline><li>285</li><li>21</li></ol>\n"
      ],
      "text/latex": [
       "\\begin{enumerate*}\n",
       "\\item 285\n",
       "\\item 21\n",
       "\\end{enumerate*}\n"
      ],
      "text/markdown": [
       "1. 285\n",
       "2. 21\n",
       "\n",
       "\n"
      ],
      "text/plain": [
       "[1] 285  21"
      ]
     },
     "metadata": {},
     "output_type": "display_data"
    }
   ],
   "source": [
    "amostra = sample(2, 1000, replace = T, prob=c(0.7, 0.3))\n",
    "\n",
    "datatreino = data_[amostra==1, ]\n",
    "datateste = data_[amostra==2, ]\n",
    "\n",
    "dim(datatreino)\n",
    "dim(datateste)"
   ]
  },
  {
   "cell_type": "markdown",
   "metadata": {},
   "source": [
    "## Modelo Linear\n",
    "- naiveBayes( ) -> Retorna uma tabela de probabilidades independentes (por atributos)"
   ]
  },
  {
   "cell_type": "code",
   "execution_count": 9,
   "metadata": {
    "vscode": {
     "languageId": "r"
    }
   },
   "outputs": [
    {
     "data": {
      "text/plain": [
       "\n",
       "Naive Bayes Classifier for Discrete Predictors\n",
       "\n",
       "Call:\n",
       "naiveBayes.default(x = X, y = Y, laplace = laplace)\n",
       "\n",
       "A-priori probabilities:\n",
       "Y\n",
       "      bad      good \n",
       "0.2937063 0.7062937 \n",
       "\n",
       "Conditional probabilities:\n",
       "      checking_status\n",
       "Y      'no checking'         <0      >=200   0<=X<200\n",
       "  bad     0.13333333 0.45714286 0.06190476 0.34761905\n",
       "  good    0.49504950 0.21782178 0.06138614 0.22574257\n",
       "\n",
       "      duration\n",
       "Y          [,1]     [,2]\n",
       "  bad  25.33810 13.53588\n",
       "  good 19.31485 10.99990\n",
       "\n",
       "      credit_history\n",
       "Y      'all paid' 'critical/other existing credit' 'delayed previously'\n",
       "  bad  0.10476190                       0.16666667           0.09047619\n",
       "  good 0.03960396                       0.34851485           0.07524752\n",
       "      credit_history\n",
       "Y      'existing paid' 'no credits/all paid'\n",
       "  bad       0.55238095            0.08571429\n",
       "  good      0.51485149            0.02178218\n",
       "\n",
       "      purpose\n",
       "Y      'domestic appliance'   'new car'  'used car'    business   education\n",
       "  bad           0.014285714 0.323809524 0.042857143 0.104761905 0.071428571\n",
       "  good          0.009900990 0.198019802 0.122772277 0.089108911 0.037623762\n",
       "      purpose\n",
       "Y      furniture/equipment       other    radio/tv     repairs  retraining\n",
       "  bad          0.180952381 0.023809524 0.204761905 0.028571429 0.004761905\n",
       "  good         0.196039604 0.013861386 0.295049505 0.025742574 0.011881188\n",
       "\n",
       "      credit_amount\n",
       "Y          [,1]     [,2]\n",
       "  bad  4053.043 3768.986\n",
       "  good 2985.309 2378.862\n",
       "\n",
       "      savings_status\n",
       "Y      'no known savings'       <100     >=1000 100<=X<500 500<=X<1000\n",
       "  bad          0.11428571 0.70000000 0.02380952 0.12857143  0.03333333\n",
       "  good         0.20990099 0.55049505 0.06336634 0.09900990  0.07722772\n",
       "\n",
       "      employment\n",
       "Y              <1        >=7     1<=X<4     4<=X<7 unemployed\n",
       "  bad  0.20476190 0.21904762 0.36666667 0.14761905 0.06190476\n",
       "  good 0.14653465 0.26138614 0.33663366 0.19207921 0.06336634\n",
       "\n",
       "      installment_commitment\n",
       "Y          [,1]     [,2]\n",
       "  bad  3.066667 1.104724\n",
       "  good 2.944554 1.111312\n",
       "\n",
       "      personal_status\n",
       "Y      'female div/dep/mar' 'male div/sep' 'male mar/wid' 'male single'\n",
       "  bad            0.35238095     0.04761905     0.09047619    0.50952381\n",
       "  good           0.27920792     0.03960396     0.10099010    0.58019802\n",
       "\n",
       "      other_parties\n",
       "Y      'co applicant'  guarantor       none\n",
       "  bad      0.06666667 0.04285714 0.89047619\n",
       "  good     0.03564356 0.06336634 0.90099010\n",
       "\n",
       "      residence_since\n",
       "Y          [,1]     [,2]\n",
       "  bad  2.866667 1.072195\n",
       "  good 2.867327 1.111012\n",
       "\n",
       "      property_magnitude\n",
       "Y      'life insurance' 'no known property' 'real estate'       car\n",
       "  bad         0.2333333           0.2428571     0.2190476 0.3047619\n",
       "  good        0.2356436           0.1326733     0.3287129 0.3029703\n",
       "\n",
       "      age\n",
       "Y          [,1]     [,2]\n",
       "  bad  33.98571 11.32870\n",
       "  good 36.32277 11.52055\n",
       "\n",
       "      other_payment_plans\n",
       "Y            bank       none     stores\n",
       "  bad  0.20000000 0.74285714 0.05714286\n",
       "  good 0.12871287 0.82970297 0.04158416\n",
       "\n",
       "      housing\n",
       "Y      'for free'        own       rent\n",
       "  bad  0.16666667 0.60952381 0.22380952\n",
       "  good 0.09306931 0.73861386 0.16831683\n",
       "\n",
       "      existing_credits\n",
       "Y          [,1]      [,2]\n",
       "  bad  1.371429 0.5314446\n",
       "  good 1.417822 0.5822091\n",
       "\n",
       "      job\n",
       "Y      'high qualif/self emp/mgmt' 'unemp/unskilled non res'\n",
       "  bad                   0.17619048                0.02380952\n",
       "  good                  0.14455446                0.01980198\n",
       "      job\n",
       "Y      'unskilled resident'    skilled\n",
       "  bad            0.18095238 0.61904762\n",
       "  good           0.21782178 0.61782178\n",
       "\n",
       "      num_dependents\n",
       "Y          [,1]      [,2]\n",
       "  bad  1.157143 0.3648050\n",
       "  good 1.146535 0.3539921\n",
       "\n",
       "      own_telephone\n",
       "Y           none       yes\n",
       "  bad  0.6190476 0.3809524\n",
       "  good 0.5603960 0.4396040\n",
       "\n",
       "      foreign_worker\n",
       "Y              no        yes\n",
       "  bad  0.01904762 0.98095238\n",
       "  good 0.04554455 0.95445545\n"
      ]
     },
     "metadata": {},
     "output_type": "display_data"
    }
   ],
   "source": [
    "modelo = naiveBayes(class ~ ., datatreino)\n",
    "modelo"
   ]
  },
  {
   "cell_type": "markdown",
   "metadata": {},
   "source": [
    "## Previsões"
   ]
  },
  {
   "cell_type": "code",
   "execution_count": 12,
   "metadata": {
    "vscode": {
     "languageId": "r"
    }
   },
   "outputs": [
    {
     "data": {
      "text/html": [
       "<style>\n",
       ".dl-inline {width: auto; margin:0; padding: 0}\n",
       ".dl-inline>dt, .dl-inline>dd {float: none; width: auto; display: inline-block}\n",
       ".dl-inline>dt::after {content: \":\\0020\"; padding-right: .5ex}\n",
       ".dl-inline>dt:not(:first-of-type) {padding-left: .5ex}\n",
       "</style><dl class=dl-inline><dt>bad</dt><dd>60</dd><dt>good</dt><dd>225</dd></dl>\n"
      ],
      "text/latex": [
       "\\begin{description*}\n",
       "\\item[bad] 60\n",
       "\\item[good] 225\n",
       "\\end{description*}\n"
      ],
      "text/markdown": [
       "bad\n",
       ":   60good\n",
       ":   225\n",
       "\n"
      ],
      "text/plain": [
       " bad good \n",
       "  60  225 "
      ]
     },
     "metadata": {},
     "output_type": "display_data"
    }
   ],
   "source": [
    "predicao = predict(modelo, newdata = datateste)\n",
    "summary(predicao)"
   ]
  },
  {
   "cell_type": "markdown",
   "metadata": {},
   "source": [
    "## Matriz de Confusão"
   ]
  },
  {
   "cell_type": "code",
   "execution_count": 14,
   "metadata": {
    "vscode": {
     "languageId": "r"
    }
   },
   "outputs": [
    {
     "data": {
      "text/plain": [
       "      predicao\n",
       "       bad good\n",
       "  bad   40   50\n",
       "  good  20  175"
      ]
     },
     "metadata": {},
     "output_type": "display_data"
    },
    {
     "data": {
      "text/html": [
       "0.754385964912281"
      ],
      "text/latex": [
       "0.754385964912281"
      ],
      "text/markdown": [
       "0.754385964912281"
      ],
      "text/plain": [
       "[1] 0.754386"
      ]
     },
     "metadata": {},
     "output_type": "display_data"
    },
    {
     "data": {
      "text/html": [
       "0.245614035087719"
      ],
      "text/latex": [
       "0.245614035087719"
      ],
      "text/markdown": [
       "0.245614035087719"
      ],
      "text/plain": [
       "[1] 0.245614"
      ]
     },
     "metadata": {},
     "output_type": "display_data"
    }
   ],
   "source": [
    "confusao = table(datateste$class, predicao)\n",
    "confusao\n",
    "taxaacerto = (confusao[1] + confusao[4]) / sum(confusao)\n",
    "taxaerro = (confusao[2] + confusao[3]) / sum(confusao)\n",
    "taxaacerto\n",
    "taxaerro"
   ]
  }
 ],
 "metadata": {
  "kernelspec": {
   "display_name": "R",
   "language": "R",
   "name": "ir"
  },
  "language_info": {
   "codemirror_mode": "r",
   "file_extension": ".r",
   "mimetype": "text/x-r-source",
   "name": "R",
   "pygments_lexer": "r",
   "version": "4.3.2"
  }
 },
 "nbformat": 4,
 "nbformat_minor": 2
}
