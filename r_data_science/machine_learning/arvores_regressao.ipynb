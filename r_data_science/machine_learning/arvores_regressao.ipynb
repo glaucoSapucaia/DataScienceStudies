{
 "cells": [
  {
   "cell_type": "markdown",
   "metadata": {},
   "source": [
    "## Package\n",
    "- install.packages('rpart') - Cria uma arvore de decisões\n",
    "- install.packages('forecast') - Usamos para avaliar a metric do modelo criado"
   ]
  },
  {
   "cell_type": "code",
   "execution_count": 10,
   "metadata": {
    "vscode": {
     "languageId": "r"
    }
   },
   "outputs": [
    {
     "data": {
      "text/html": [
       "<style>\n",
       ".list-inline {list-style: none; margin:0; padding: 0}\n",
       ".list-inline>li {display: inline-block}\n",
       ".list-inline>li:not(:last-child)::after {content: \"\\00b7\"; padding: 0 .5ex}\n",
       "</style>\n",
       "<ol class=list-inline><li>150</li><li>5</li></ol>\n"
      ],
      "text/latex": [
       "\\begin{enumerate*}\n",
       "\\item 150\n",
       "\\item 5\n",
       "\\end{enumerate*}\n"
      ],
      "text/markdown": [
       "1. 150\n",
       "2. 5\n",
       "\n",
       "\n"
      ],
      "text/plain": [
       "[1] 150   5"
      ]
     },
     "metadata": {},
     "output_type": "display_data"
    },
    {
     "data": {
      "text/plain": [
       "  Sepal.Length    Sepal.Width     Petal.Length    Petal.Width   \n",
       " Min.   :4.300   Min.   :2.000   Min.   :1.000   Min.   :0.100  \n",
       " 1st Qu.:5.100   1st Qu.:2.800   1st Qu.:1.600   1st Qu.:0.300  \n",
       " Median :5.800   Median :3.000   Median :4.350   Median :1.300  \n",
       " Mean   :5.843   Mean   :3.057   Mean   :3.758   Mean   :1.199  \n",
       " 3rd Qu.:6.400   3rd Qu.:3.300   3rd Qu.:5.100   3rd Qu.:1.800  \n",
       " Max.   :7.900   Max.   :4.400   Max.   :6.900   Max.   :2.500  \n",
       "       Species  \n",
       " setosa    :50  \n",
       " versicolor:50  \n",
       " virginica :50  \n",
       "                \n",
       "                \n",
       "                "
      ]
     },
     "metadata": {},
     "output_type": "display_data"
    },
    {
     "data": {
      "text/html": [
       "<table class=\"dataframe\">\n",
       "<caption>A data.frame: 6 × 5</caption>\n",
       "<thead>\n",
       "\t<tr><th></th><th scope=col>Sepal.Length</th><th scope=col>Sepal.Width</th><th scope=col>Petal.Length</th><th scope=col>Petal.Width</th><th scope=col>Species</th></tr>\n",
       "\t<tr><th></th><th scope=col>&lt;dbl&gt;</th><th scope=col>&lt;dbl&gt;</th><th scope=col>&lt;dbl&gt;</th><th scope=col>&lt;dbl&gt;</th><th scope=col>&lt;fct&gt;</th></tr>\n",
       "</thead>\n",
       "<tbody>\n",
       "\t<tr><th scope=row>1</th><td>5.1</td><td>3.5</td><td>1.4</td><td>0.2</td><td>setosa</td></tr>\n",
       "\t<tr><th scope=row>2</th><td>4.9</td><td>3.0</td><td>1.4</td><td>0.2</td><td>setosa</td></tr>\n",
       "\t<tr><th scope=row>3</th><td>4.7</td><td>3.2</td><td>1.3</td><td>0.2</td><td>setosa</td></tr>\n",
       "\t<tr><th scope=row>4</th><td>4.6</td><td>3.1</td><td>1.5</td><td>0.2</td><td>setosa</td></tr>\n",
       "\t<tr><th scope=row>5</th><td>5.0</td><td>3.6</td><td>1.4</td><td>0.2</td><td>setosa</td></tr>\n",
       "\t<tr><th scope=row>6</th><td>5.4</td><td>3.9</td><td>1.7</td><td>0.4</td><td>setosa</td></tr>\n",
       "</tbody>\n",
       "</table>\n"
      ],
      "text/latex": [
       "A data.frame: 6 × 5\n",
       "\\begin{tabular}{r|lllll}\n",
       "  & Sepal.Length & Sepal.Width & Petal.Length & Petal.Width & Species\\\\\n",
       "  & <dbl> & <dbl> & <dbl> & <dbl> & <fct>\\\\\n",
       "\\hline\n",
       "\t1 & 5.1 & 3.5 & 1.4 & 0.2 & setosa\\\\\n",
       "\t2 & 4.9 & 3.0 & 1.4 & 0.2 & setosa\\\\\n",
       "\t3 & 4.7 & 3.2 & 1.3 & 0.2 & setosa\\\\\n",
       "\t4 & 4.6 & 3.1 & 1.5 & 0.2 & setosa\\\\\n",
       "\t5 & 5.0 & 3.6 & 1.4 & 0.2 & setosa\\\\\n",
       "\t6 & 5.4 & 3.9 & 1.7 & 0.4 & setosa\\\\\n",
       "\\end{tabular}\n"
      ],
      "text/markdown": [
       "\n",
       "A data.frame: 6 × 5\n",
       "\n",
       "| <!--/--> | Sepal.Length &lt;dbl&gt; | Sepal.Width &lt;dbl&gt; | Petal.Length &lt;dbl&gt; | Petal.Width &lt;dbl&gt; | Species &lt;fct&gt; |\n",
       "|---|---|---|---|---|---|\n",
       "| 1 | 5.1 | 3.5 | 1.4 | 0.2 | setosa |\n",
       "| 2 | 4.9 | 3.0 | 1.4 | 0.2 | setosa |\n",
       "| 3 | 4.7 | 3.2 | 1.3 | 0.2 | setosa |\n",
       "| 4 | 4.6 | 3.1 | 1.5 | 0.2 | setosa |\n",
       "| 5 | 5.0 | 3.6 | 1.4 | 0.2 | setosa |\n",
       "| 6 | 5.4 | 3.9 | 1.7 | 0.4 | setosa |\n",
       "\n"
      ],
      "text/plain": [
       "  Sepal.Length Sepal.Width Petal.Length Petal.Width Species\n",
       "1 5.1          3.5         1.4          0.2         setosa \n",
       "2 4.9          3.0         1.4          0.2         setosa \n",
       "3 4.7          3.2         1.3          0.2         setosa \n",
       "4 4.6          3.1         1.5          0.2         setosa \n",
       "5 5.0          3.6         1.4          0.2         setosa \n",
       "6 5.4          3.9         1.7          0.4         setosa "
      ]
     },
     "metadata": {},
     "output_type": "display_data"
    }
   ],
   "source": [
    "library(forecast)\n",
    "library(rpart)\n",
    "\n",
    "dim(iris)\n",
    "summary(iris)\n",
    "head(iris)"
   ]
  },
  {
   "cell_type": "markdown",
   "metadata": {},
   "source": [
    "### Abaixo, queremo prever valores de Sepal.Length. O que deve ser previsto\n",
    "### vem sempre antes do ~. O que torna essa uma arvore de regressão, é a\n",
    "### variavel prevista ser NUMÉRICA!"
   ]
  },
  {
   "cell_type": "code",
   "execution_count": 11,
   "metadata": {
    "vscode": {
     "languageId": "r"
    }
   },
   "outputs": [
    {
     "data": {
      "text/plain": [
       "n= 150 \n",
       "\n",
       "node), split, n, deviance, yval\n",
       "      * denotes terminal node\n",
       "\n",
       " 1) root 150 102.1683000 5.843333  \n",
       "   2) Petal.Length< 4.25 73  13.1391800 5.179452  \n",
       "     4) Petal.Length< 3.4 53   6.1083020 5.005660  \n",
       "       8) Sepal.Width< 3.25 20   1.0855000 4.735000 *\n",
       "       9) Sepal.Width>=3.25 33   2.6696970 5.169697 *\n",
       "     5) Petal.Length>=3.4 20   1.1880000 5.640000 *\n",
       "   3) Petal.Length>=4.25 77  26.3527300 6.472727  \n",
       "     6) Petal.Length< 6.05 68  13.4923500 6.326471  \n",
       "      12) Petal.Length< 5.15 43   8.2576740 6.165116  \n",
       "        24) Sepal.Width< 3.05 33   5.2218180 6.054545 *\n",
       "        25) Sepal.Width>=3.05 10   1.3010000 6.530000 *\n",
       "      13) Petal.Length>=5.15 25   2.1896000 6.604000 *\n",
       "     7) Petal.Length>=6.05 9   0.4155556 7.577778 *"
      ]
     },
     "metadata": {},
     "output_type": "display_data"
    },
    {
     "name": "stdout",
     "output_type": "stream",
     "text": [
      "Call:\n",
      "rpart(formula = Sepal.Length ~ Sepal.Width + Petal.Length + Petal.Width + \n",
      "    Species, data = iris)\n",
      "  n= 150 \n",
      "\n",
      "          CP nsplit rel error    xerror       xstd\n",
      "1 0.61346237      0 1.0000000 1.0103598 0.09841656\n",
      "2 0.12180701      1 0.3865376 0.3919526 0.04790791\n",
      "3 0.05718872      2 0.2647306 0.2934773 0.03096593\n",
      "4 0.02980452      3 0.2075419 0.2439849 0.02960651\n",
      "5 0.02303165      4 0.1777374 0.2332114 0.02866655\n",
      "6 0.01698037      5 0.1547057 0.2258201 0.02627012\n",
      "7 0.01000000      6 0.1377254 0.2117186 0.02546075\n",
      "\n",
      "Variable importance\n",
      "Petal.Length  Petal.Width      Species  Sepal.Width \n",
      "          37           27           22           15 \n",
      "\n",
      "Node number 1: 150 observations,    complexity param=0.6134624\n",
      "  mean=5.843333, MSE=0.6811222 \n",
      "  left son=2 (73 obs) right son=3 (77 obs)\n",
      "  Primary splits:\n",
      "      Petal.Length < 4.25 to the left,  improve=0.61346240, (0 missing)\n",
      "      Petal.Width  < 1.15 to the left,  improve=0.58031680, (0 missing)\n",
      "      Species      splits as  LRR,      improve=0.51468520, (0 missing)\n",
      "      Sepal.Width  < 3.35 to the right, improve=0.07284853, (0 missing)\n",
      "  Surrogate splits:\n",
      "      Petal.Width < 1.35 to the left,  agree=0.940, adj=0.877, (0 split)\n",
      "      Species     splits as  LRR,      agree=0.847, adj=0.685, (0 split)\n",
      "      Sepal.Width < 3.35 to the right, agree=0.680, adj=0.342, (0 split)\n",
      "\n",
      "Node number 2: 73 observations,    complexity param=0.05718872\n",
      "  mean=5.179452, MSE=0.1799887 \n",
      "  left son=4 (53 obs) right son=5 (20 obs)\n",
      "  Primary splits:\n",
      "      Petal.Length < 3.4  to the left,  improve=0.4446911, (0 missing)\n",
      "      Species      splits as  LR-,      improve=0.3633756, (0 missing)\n",
      "      Petal.Width  < 0.8  to the left,  improve=0.3633756, (0 missing)\n",
      "      Sepal.Width  < 2.85 to the right, improve=0.1573443, (0 missing)\n",
      "  Surrogate splits:\n",
      "      Petal.Width < 0.8  to the left,  agree=0.959, adj=0.85, (0 split)\n",
      "      Species     splits as  LR-,      agree=0.959, adj=0.85, (0 split)\n",
      "      Sepal.Width < 2.95 to the right, agree=0.890, adj=0.60, (0 split)\n",
      "\n",
      "Node number 3: 77 observations,    complexity param=0.121807\n",
      "  mean=6.472727, MSE=0.3422432 \n",
      "  left son=6 (68 obs) right son=7 (9 obs)\n",
      "  Primary splits:\n",
      "      Petal.Length < 6.05 to the left,  improve=0.47224030, (0 missing)\n",
      "      Petal.Width  < 1.95 to the left,  improve=0.15491880, (0 missing)\n",
      "      Sepal.Width  < 2.75 to the left,  improve=0.09266865, (0 missing)\n",
      "      Species      splits as  -LR,      improve=0.07189928, (0 missing)\n",
      "  Surrogate splits:\n",
      "      Sepal.Width < 3.5  to the left,  agree=0.922, adj=0.333, (0 split)\n",
      "\n",
      "Node number 4: 53 observations,    complexity param=0.02303165\n",
      "  mean=5.00566, MSE=0.115251 \n",
      "  left son=8 (20 obs) right son=9 (33 obs)\n",
      "  Primary splits:\n",
      "      Sepal.Width  < 3.25 to the left,  improve=0.38523060, (0 missing)\n",
      "      Petal.Length < 1.45 to the left,  improve=0.08661382, (0 missing)\n",
      "      Petal.Width  < 0.35 to the left,  improve=0.08016696, (0 missing)\n",
      "  Surrogate splits:\n",
      "      Petal.Length < 2.45 to the right, agree=0.679, adj=0.15, (0 split)\n",
      "      Petal.Width  < 0.8  to the right, agree=0.679, adj=0.15, (0 split)\n",
      "      Species      splits as  RL-,      agree=0.679, adj=0.15, (0 split)\n",
      "\n",
      "Node number 5: 20 observations\n",
      "  mean=5.64, MSE=0.0594 \n",
      "\n",
      "Node number 6: 68 observations,    complexity param=0.02980452\n",
      "  mean=6.326471, MSE=0.198417 \n",
      "  left son=12 (43 obs) right son=13 (25 obs)\n",
      "  Primary splits:\n",
      "      Petal.Length < 5.15 to the left,  improve=0.22568920, (0 missing)\n",
      "      Sepal.Width  < 2.95 to the left,  improve=0.18113710, (0 missing)\n",
      "      Petal.Width  < 2.05 to the left,  improve=0.11970880, (0 missing)\n",
      "      Species      splits as  -LR,      improve=0.01499292, (0 missing)\n",
      "  Surrogate splits:\n",
      "      Petal.Width < 2.05 to the left,  agree=0.838, adj=0.56, (0 split)\n",
      "      Species     splits as  -LR,      agree=0.765, adj=0.36, (0 split)\n",
      "      Sepal.Width < 3.15 to the left,  agree=0.676, adj=0.12, (0 split)\n",
      "\n",
      "Node number 7: 9 observations\n",
      "  mean=7.577778, MSE=0.04617284 \n",
      "\n",
      "Node number 8: 20 observations\n",
      "  mean=4.735, MSE=0.054275 \n",
      "\n",
      "Node number 9: 33 observations\n",
      "  mean=5.169697, MSE=0.08089991 \n",
      "\n",
      "Node number 12: 43 observations,    complexity param=0.01698037\n",
      "  mean=6.165116, MSE=0.1920389 \n",
      "  left son=24 (33 obs) right son=25 (10 obs)\n",
      "  Primary splits:\n",
      "      Sepal.Width  < 3.05 to the left,  improve=0.21009020, (0 missing)\n",
      "      Species      splits as  -RL,      improve=0.07788079, (0 missing)\n",
      "      Petal.Length < 4.55 to the left,  improve=0.07459424, (0 missing)\n",
      "      Petal.Width  < 1.55 to the right, improve=0.06783151, (0 missing)\n",
      "\n",
      "Node number 13: 25 observations\n",
      "  mean=6.604, MSE=0.087584 \n",
      "\n",
      "Node number 24: 33 observations\n",
      "  mean=6.054545, MSE=0.1582369 \n",
      "\n",
      "Node number 25: 10 observations\n",
      "  mean=6.53, MSE=0.1301 \n",
      "\n"
     ]
    }
   ],
   "source": [
    "modelo = rpart(Sepal.Length ~ Sepal.Width + Petal.Length + Petal.Width\n",
    "+ Species, data = iris)\n",
    "modelo\n",
    "summary(modelo)"
   ]
  },
  {
   "cell_type": "markdown",
   "metadata": {},
   "source": [
    "## text( )\n",
    "- Inclui o nome dos atributos no gráfico!"
   ]
  },
  {
   "cell_type": "code",
   "execution_count": 12,
   "metadata": {
    "vscode": {
     "languageId": "r"
    }
   },
   "outputs": [
    {
     "data": {
      "image/png": "[encoded data removed]",
      "text/plain": [
       "plot without title"
      ]
     },
     "metadata": {
      "image/png": {
       "height": 420,
       "width": 420
      }
     },
     "output_type": "display_data"
    }
   ],
   "source": [
    "plot(modelo)\n",
    "text(modelo)"
   ]
  },
  {
   "cell_type": "markdown",
   "metadata": {},
   "source": [
    "### Com um modelo linear criado, podemos utiliza-lo com outros dados.\n",
    "### Ele não utilizará mais os dados usados para contrui-lo."
   ]
  },
  {
   "cell_type": "code",
   "execution_count": 14,
   "metadata": {
    "vscode": {
     "languageId": "r"
    }
   },
   "outputs": [
    {
     "data": {
      "text/html": [
       "<style>\n",
       ".dl-inline {width: auto; margin:0; padding: 0}\n",
       ".dl-inline>dt, .dl-inline>dd {float: none; width: auto; display: inline-block}\n",
       ".dl-inline>dt::after {content: \":\\0020\"; padding-right: .5ex}\n",
       ".dl-inline>dt:not(:first-of-type) {padding-left: .5ex}\n",
       "</style><dl class=dl-inline><dt>1</dt><dd>5.16969696969697</dd><dt>2</dt><dd>4.735</dd><dt>3</dt><dd>4.735</dd><dt>4</dt><dd>4.735</dd><dt>5</dt><dd>5.16969696969697</dd><dt>6</dt><dd>5.16969696969697</dd></dl>\n"
      ],
      "text/latex": [
       "\\begin{description*}\n",
       "\\item[1] 5.16969696969697\n",
       "\\item[2] 4.735\n",
       "\\item[3] 4.735\n",
       "\\item[4] 4.735\n",
       "\\item[5] 5.16969696969697\n",
       "\\item[6] 5.16969696969697\n",
       "\\end{description*}\n"
      ],
      "text/markdown": [
       "1\n",
       ":   5.169696969696972\n",
       ":   4.7353\n",
       ":   4.7354\n",
       ":   4.7355\n",
       ":   5.169696969696976\n",
       ":   5.16969696969697\n",
       "\n"
      ],
      "text/plain": [
       "       1        2        3        4        5        6 \n",
       "5.169697 4.735000 4.735000 4.735000 5.169697 5.169697 "
      ]
     },
     "metadata": {},
     "output_type": "display_data"
    },
    {
     "data": {
      "text/plain": [
       "   Min. 1st Qu.  Median    Mean 3rd Qu.    Max. \n",
       "  4.735   5.170   6.055   5.843   6.530   7.578 "
      ]
     },
     "metadata": {},
     "output_type": "display_data"
    }
   ],
   "source": [
    "predicao = predict(modelo, iris)\n",
    "head(predicao)\n",
    "summary(predicao)"
   ]
  },
  {
   "cell_type": "markdown",
   "metadata": {},
   "source": [
    "## cbind( )\n",
    "- Cria colunas par uma matrix\n",
    "- A ideia é compararmos os valores previstos com os reais"
   ]
  },
  {
   "cell_type": "code",
   "execution_count": 15,
   "metadata": {
    "vscode": {
     "languageId": "r"
    }
   },
   "outputs": [
    {
     "data": {
      "text/html": [
       "<table class=\"dataframe\">\n",
       "<caption>A matrix: 6 × 3 of type dbl</caption>\n",
       "<thead>\n",
       "\t<tr><th></th><th scope=col>predicao</th><th scope=col></th><th scope=col></th></tr>\n",
       "</thead>\n",
       "<tbody>\n",
       "\t<tr><th scope=row>1</th><td>5.169697</td><td>5.1</td><td> 0.06969697</td></tr>\n",
       "\t<tr><th scope=row>2</th><td>4.735000</td><td>4.9</td><td>-0.16500000</td></tr>\n",
       "\t<tr><th scope=row>3</th><td>4.735000</td><td>4.7</td><td> 0.03500000</td></tr>\n",
       "\t<tr><th scope=row>4</th><td>4.735000</td><td>4.6</td><td> 0.13500000</td></tr>\n",
       "\t<tr><th scope=row>5</th><td>5.169697</td><td>5.0</td><td> 0.16969697</td></tr>\n",
       "\t<tr><th scope=row>6</th><td>5.169697</td><td>5.4</td><td>-0.23030303</td></tr>\n",
       "</tbody>\n",
       "</table>\n"
      ],
      "text/latex": [
       "A matrix: 6 × 3 of type dbl\n",
       "\\begin{tabular}{r|lll}\n",
       "  & predicao &  & \\\\\n",
       "\\hline\n",
       "\t1 & 5.169697 & 5.1 &  0.06969697\\\\\n",
       "\t2 & 4.735000 & 4.9 & -0.16500000\\\\\n",
       "\t3 & 4.735000 & 4.7 &  0.03500000\\\\\n",
       "\t4 & 4.735000 & 4.6 &  0.13500000\\\\\n",
       "\t5 & 5.169697 & 5.0 &  0.16969697\\\\\n",
       "\t6 & 5.169697 & 5.4 & -0.23030303\\\\\n",
       "\\end{tabular}\n"
      ],
      "text/markdown": [
       "\n",
       "A matrix: 6 × 3 of type dbl\n",
       "\n",
       "| <!--/--> | predicao | <!----> | <!----> |\n",
       "|---|---|---|---|\n",
       "| 1 | 5.169697 | 5.1 |  0.06969697 |\n",
       "| 2 | 4.735000 | 4.9 | -0.16500000 |\n",
       "| 3 | 4.735000 | 4.7 |  0.03500000 |\n",
       "| 4 | 4.735000 | 4.6 |  0.13500000 |\n",
       "| 5 | 5.169697 | 5.0 |  0.16969697 |\n",
       "| 6 | 5.169697 | 5.4 | -0.23030303 |\n",
       "\n"
      ],
      "text/plain": [
       "  predicao                \n",
       "1 5.169697 5.1  0.06969697\n",
       "2 4.735000 4.9 -0.16500000\n",
       "3 4.735000 4.7  0.03500000\n",
       "4 4.735000 4.6  0.13500000\n",
       "5 5.169697 5.0  0.16969697\n",
       "6 5.169697 5.4 -0.23030303"
      ]
     },
     "metadata": {},
     "output_type": "display_data"
    }
   ],
   "source": [
    "compara = cbind(predicao, iris$Sepal.Length, predicao - iris$Sepal.Length)\n",
    "head(compara)"
   ]
  },
  {
   "cell_type": "markdown",
   "metadata": {},
   "source": [
    "## accuracy( )\n",
    "- Retorna métricas estatisticas para avaliarmos as previsões.\n",
    "- Basta indicar as previsões e os valores reais"
   ]
  },
  {
   "cell_type": "code",
   "execution_count": 16,
   "metadata": {
    "vscode": {
     "languageId": "r"
    }
   },
   "outputs": [
    {
     "data": {
      "text/html": [
       "<table class=\"dataframe\">\n",
       "<caption>A matrix: 1 × 5 of type dbl</caption>\n",
       "<thead>\n",
       "\t<tr><th></th><th scope=col>ME</th><th scope=col>RMSE</th><th scope=col>MAE</th><th scope=col>MPE</th><th scope=col>MAPE</th></tr>\n",
       "</thead>\n",
       "<tbody>\n",
       "\t<tr><th scope=row>Test set</th><td>6.335601e-16</td><td>0.3062806</td><td>0.2425701</td><td>-0.2838496</td><td>4.219833</td></tr>\n",
       "</tbody>\n",
       "</table>\n"
      ],
      "text/latex": [
       "A matrix: 1 × 5 of type dbl\n",
       "\\begin{tabular}{r|lllll}\n",
       "  & ME & RMSE & MAE & MPE & MAPE\\\\\n",
       "\\hline\n",
       "\tTest set & 6.335601e-16 & 0.3062806 & 0.2425701 & -0.2838496 & 4.219833\\\\\n",
       "\\end{tabular}\n"
      ],
      "text/markdown": [
       "\n",
       "A matrix: 1 × 5 of type dbl\n",
       "\n",
       "| <!--/--> | ME | RMSE | MAE | MPE | MAPE |\n",
       "|---|---|---|---|---|---|\n",
       "| Test set | 6.335601e-16 | 0.3062806 | 0.2425701 | -0.2838496 | 4.219833 |\n",
       "\n"
      ],
      "text/plain": [
       "         ME           RMSE      MAE       MPE        MAPE    \n",
       "Test set 6.335601e-16 0.3062806 0.2425701 -0.2838496 4.219833"
      ]
     },
     "metadata": {},
     "output_type": "display_data"
    }
   ],
   "source": [
    "accuracy(predicao, iris$Sepal.Length)"
   ]
  }
 ],
 "metadata": {
  "kernelspec": {
   "display_name": "R",
   "language": "R",
   "name": "ir"
  },
  "language_info": {
   "codemirror_mode": "r",
   "file_extension": ".r",
   "mimetype": "text/x-r-source",
   "name": "R",
   "pygments_lexer": "r",
   "version": "4.3.2"
  }
 },
 "nbformat": 4,
 "nbformat_minor": 2
}
