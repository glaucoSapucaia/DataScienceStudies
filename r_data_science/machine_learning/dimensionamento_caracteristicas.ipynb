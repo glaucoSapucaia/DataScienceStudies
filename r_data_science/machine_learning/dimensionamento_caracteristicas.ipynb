{
 "cells": [
  {
   "cell_type": "code",
   "execution_count": 1,
   "metadata": {
    "vscode": {
     "languageId": "r"
    }
   },
   "outputs": [
    {
     "data": {
      "text/html": [
       "<style>\n",
       ".list-inline {list-style: none; margin:0; padding: 0}\n",
       ".list-inline>li {display: inline-block}\n",
       ".list-inline>li:not(:last-child)::after {content: \"\\00b7\"; padding: 0 .5ex}\n",
       "</style>\n",
       "<ol class=list-inline><li>150</li><li>5</li></ol>\n"
      ],
      "text/latex": [
       "\\begin{enumerate*}\n",
       "\\item 150\n",
       "\\item 5\n",
       "\\end{enumerate*}\n"
      ],
      "text/markdown": [
       "1. 150\n",
       "2. 5\n",
       "\n",
       "\n"
      ],
      "text/plain": [
       "[1] 150   5"
      ]
     },
     "metadata": {},
     "output_type": "display_data"
    },
    {
     "data": {
      "text/html": [
       "<table class=\"dataframe\">\n",
       "<caption>A data.frame: 6 × 5</caption>\n",
       "<thead>\n",
       "\t<tr><th></th><th scope=col>Sepal.Length</th><th scope=col>Sepal.Width</th><th scope=col>Petal.Length</th><th scope=col>Petal.Width</th><th scope=col>Species</th></tr>\n",
       "\t<tr><th></th><th scope=col>&lt;dbl&gt;</th><th scope=col>&lt;dbl&gt;</th><th scope=col>&lt;dbl&gt;</th><th scope=col>&lt;dbl&gt;</th><th scope=col>&lt;fct&gt;</th></tr>\n",
       "</thead>\n",
       "<tbody>\n",
       "\t<tr><th scope=row>1</th><td>5.1</td><td>3.5</td><td>1.4</td><td>0.2</td><td>setosa</td></tr>\n",
       "\t<tr><th scope=row>2</th><td>4.9</td><td>3.0</td><td>1.4</td><td>0.2</td><td>setosa</td></tr>\n",
       "\t<tr><th scope=row>3</th><td>4.7</td><td>3.2</td><td>1.3</td><td>0.2</td><td>setosa</td></tr>\n",
       "\t<tr><th scope=row>4</th><td>4.6</td><td>3.1</td><td>1.5</td><td>0.2</td><td>setosa</td></tr>\n",
       "\t<tr><th scope=row>5</th><td>5.0</td><td>3.6</td><td>1.4</td><td>0.2</td><td>setosa</td></tr>\n",
       "\t<tr><th scope=row>6</th><td>5.4</td><td>3.9</td><td>1.7</td><td>0.4</td><td>setosa</td></tr>\n",
       "</tbody>\n",
       "</table>\n"
      ],
      "text/latex": [
       "A data.frame: 6 × 5\n",
       "\\begin{tabular}{r|lllll}\n",
       "  & Sepal.Length & Sepal.Width & Petal.Length & Petal.Width & Species\\\\\n",
       "  & <dbl> & <dbl> & <dbl> & <dbl> & <fct>\\\\\n",
       "\\hline\n",
       "\t1 & 5.1 & 3.5 & 1.4 & 0.2 & setosa\\\\\n",
       "\t2 & 4.9 & 3.0 & 1.4 & 0.2 & setosa\\\\\n",
       "\t3 & 4.7 & 3.2 & 1.3 & 0.2 & setosa\\\\\n",
       "\t4 & 4.6 & 3.1 & 1.5 & 0.2 & setosa\\\\\n",
       "\t5 & 5.0 & 3.6 & 1.4 & 0.2 & setosa\\\\\n",
       "\t6 & 5.4 & 3.9 & 1.7 & 0.4 & setosa\\\\\n",
       "\\end{tabular}\n"
      ],
      "text/markdown": [
       "\n",
       "A data.frame: 6 × 5\n",
       "\n",
       "| <!--/--> | Sepal.Length &lt;dbl&gt; | Sepal.Width &lt;dbl&gt; | Petal.Length &lt;dbl&gt; | Petal.Width &lt;dbl&gt; | Species &lt;fct&gt; |\n",
       "|---|---|---|---|---|---|\n",
       "| 1 | 5.1 | 3.5 | 1.4 | 0.2 | setosa |\n",
       "| 2 | 4.9 | 3.0 | 1.4 | 0.2 | setosa |\n",
       "| 3 | 4.7 | 3.2 | 1.3 | 0.2 | setosa |\n",
       "| 4 | 4.6 | 3.1 | 1.5 | 0.2 | setosa |\n",
       "| 5 | 5.0 | 3.6 | 1.4 | 0.2 | setosa |\n",
       "| 6 | 5.4 | 3.9 | 1.7 | 0.4 | setosa |\n",
       "\n"
      ],
      "text/plain": [
       "  Sepal.Length Sepal.Width Petal.Length Petal.Width Species\n",
       "1 5.1          3.5         1.4          0.2         setosa \n",
       "2 4.9          3.0         1.4          0.2         setosa \n",
       "3 4.7          3.2         1.3          0.2         setosa \n",
       "4 4.6          3.1         1.5          0.2         setosa \n",
       "5 5.0          3.6         1.4          0.2         setosa \n",
       "6 5.4          3.9         1.7          0.4         setosa "
      ]
     },
     "metadata": {},
     "output_type": "display_data"
    },
    {
     "data": {
      "text/plain": [
       "  Sepal.Length    Sepal.Width     Petal.Length    Petal.Width   \n",
       " Min.   :4.300   Min.   :2.000   Min.   :1.000   Min.   :0.100  \n",
       " 1st Qu.:5.100   1st Qu.:2.800   1st Qu.:1.600   1st Qu.:0.300  \n",
       " Median :5.800   Median :3.000   Median :4.350   Median :1.300  \n",
       " Mean   :5.843   Mean   :3.057   Mean   :3.758   Mean   :1.199  \n",
       " 3rd Qu.:6.400   3rd Qu.:3.300   3rd Qu.:5.100   3rd Qu.:1.800  \n",
       " Max.   :7.900   Max.   :4.400   Max.   :6.900   Max.   :2.500  \n",
       "       Species  \n",
       " setosa    :50  \n",
       " versicolor:50  \n",
       " virginica :50  \n",
       "                \n",
       "                \n",
       "                "
      ]
     },
     "metadata": {},
     "output_type": "display_data"
    }
   ],
   "source": [
    "dim(iris)\n",
    "head(iris)\n",
    "summary(iris)"
   ]
  },
  {
   "cell_type": "markdown",
   "metadata": {},
   "source": [
    "## Padronização\n",
    "- scale( ) -> Retorna Z-Score | Aproxima dados da média 0 e desvio padrão 1\n",
    "- Mantém outliers"
   ]
  },
  {
   "cell_type": "code",
   "execution_count": 3,
   "metadata": {
    "vscode": {
     "languageId": "r"
    }
   },
   "outputs": [
    {
     "data": {
      "text/plain": [
       "  Sepal.Length       Sepal.Width       Petal.Length      Petal.Width     \n",
       " Min.   :-1.86378   Min.   :-2.4258   Min.   :-1.5623   Min.   :-1.4422  \n",
       " 1st Qu.:-0.89767   1st Qu.:-0.5904   1st Qu.:-1.2225   1st Qu.:-1.1799  \n",
       " Median :-0.05233   Median :-0.1315   Median : 0.3354   Median : 0.1321  \n",
       " Mean   : 0.00000   Mean   : 0.0000   Mean   : 0.0000   Mean   : 0.0000  \n",
       " 3rd Qu.: 0.67225   3rd Qu.: 0.5567   3rd Qu.: 0.7602   3rd Qu.: 0.7880  \n",
       " Max.   : 2.48370   Max.   : 3.0805   Max.   : 1.7799   Max.   : 1.7064  "
      ]
     },
     "metadata": {},
     "output_type": "display_data"
    },
    {
     "data": {
      "text/html": [
       "<table class=\"dataframe\">\n",
       "<caption>A matrix: 6 × 4 of type dbl</caption>\n",
       "<thead>\n",
       "\t<tr><th scope=col>Sepal.Length</th><th scope=col>Sepal.Width</th><th scope=col>Petal.Length</th><th scope=col>Petal.Width</th></tr>\n",
       "</thead>\n",
       "<tbody>\n",
       "\t<tr><td>-0.8976739</td><td> 1.01560199</td><td>-1.335752</td><td>-1.311052</td></tr>\n",
       "\t<tr><td>-1.1392005</td><td>-0.13153881</td><td>-1.335752</td><td>-1.311052</td></tr>\n",
       "\t<tr><td>-1.3807271</td><td> 0.32731751</td><td>-1.392399</td><td>-1.311052</td></tr>\n",
       "\t<tr><td>-1.5014904</td><td> 0.09788935</td><td>-1.279104</td><td>-1.311052</td></tr>\n",
       "\t<tr><td>-1.0184372</td><td> 1.24503015</td><td>-1.335752</td><td>-1.311052</td></tr>\n",
       "\t<tr><td>-0.5353840</td><td> 1.93331463</td><td>-1.165809</td><td>-1.048667</td></tr>\n",
       "</tbody>\n",
       "</table>\n"
      ],
      "text/latex": [
       "A matrix: 6 × 4 of type dbl\n",
       "\\begin{tabular}{llll}\n",
       " Sepal.Length & Sepal.Width & Petal.Length & Petal.Width\\\\\n",
       "\\hline\n",
       "\t -0.8976739 &  1.01560199 & -1.335752 & -1.311052\\\\\n",
       "\t -1.1392005 & -0.13153881 & -1.335752 & -1.311052\\\\\n",
       "\t -1.3807271 &  0.32731751 & -1.392399 & -1.311052\\\\\n",
       "\t -1.5014904 &  0.09788935 & -1.279104 & -1.311052\\\\\n",
       "\t -1.0184372 &  1.24503015 & -1.335752 & -1.311052\\\\\n",
       "\t -0.5353840 &  1.93331463 & -1.165809 & -1.048667\\\\\n",
       "\\end{tabular}\n"
      ],
      "text/markdown": [
       "\n",
       "A matrix: 6 × 4 of type dbl\n",
       "\n",
       "| Sepal.Length | Sepal.Width | Petal.Length | Petal.Width |\n",
       "|---|---|---|---|\n",
       "| -0.8976739 |  1.01560199 | -1.335752 | -1.311052 |\n",
       "| -1.1392005 | -0.13153881 | -1.335752 | -1.311052 |\n",
       "| -1.3807271 |  0.32731751 | -1.392399 | -1.311052 |\n",
       "| -1.5014904 |  0.09788935 | -1.279104 | -1.311052 |\n",
       "| -1.0184372 |  1.24503015 | -1.335752 | -1.311052 |\n",
       "| -0.5353840 |  1.93331463 | -1.165809 | -1.048667 |\n",
       "\n"
      ],
      "text/plain": [
       "     Sepal.Length Sepal.Width Petal.Length Petal.Width\n",
       "[1,] -0.8976739    1.01560199 -1.335752    -1.311052  \n",
       "[2,] -1.1392005   -0.13153881 -1.335752    -1.311052  \n",
       "[3,] -1.3807271    0.32731751 -1.392399    -1.311052  \n",
       "[4,] -1.5014904    0.09788935 -1.279104    -1.311052  \n",
       "[5,] -1.0184372    1.24503015 -1.335752    -1.311052  \n",
       "[6,] -0.5353840    1.93331463 -1.165809    -1.048667  "
      ]
     },
     "metadata": {},
     "output_type": "display_data"
    }
   ],
   "source": [
    "iris_padr = scale(iris[, 1:4])\n",
    "summary(iris_padr)\n",
    "head(iris_padr)"
   ]
  },
  {
   "cell_type": "markdown",
   "metadata": {},
   "source": [
    "## Normalização (min-max)\n",
    "- Tranforma dados para uma escala comuum entre 0 e 1\n",
    "- Pode remover outlliers"
   ]
  },
  {
   "cell_type": "code",
   "execution_count": 4,
   "metadata": {
    "vscode": {
     "languageId": "r"
    }
   },
   "outputs": [
    {
     "data": {
      "text/plain": [
       "  Sepal.Length     Sepal.Width      Petal.Length     Petal.Width     \n",
       " Min.   :0.5385   Min.   :0.2436   Min.   :0.1154   Min.   :0.00000  \n",
       " 1st Qu.:0.6410   1st Qu.:0.3462   1st Qu.:0.1923   1st Qu.:0.02564  \n",
       " Median :0.7308   Median :0.3718   Median :0.5449   Median :0.15385  \n",
       " Mean   :0.7363   Mean   :0.3791   Mean   :0.4690   Mean   :0.14094  \n",
       " 3rd Qu.:0.8077   3rd Qu.:0.4103   3rd Qu.:0.6410   3rd Qu.:0.21795  \n",
       " Max.   :1.0000   Max.   :0.5513   Max.   :0.8718   Max.   :0.30769  "
      ]
     },
     "metadata": {},
     "output_type": "display_data"
    },
    {
     "data": {
      "text/html": [
       "<table class=\"dataframe\">\n",
       "<caption>A data.frame: 6 × 4</caption>\n",
       "<thead>\n",
       "\t<tr><th></th><th scope=col>Sepal.Length</th><th scope=col>Sepal.Width</th><th scope=col>Petal.Length</th><th scope=col>Petal.Width</th></tr>\n",
       "\t<tr><th></th><th scope=col>&lt;dbl&gt;</th><th scope=col>&lt;dbl&gt;</th><th scope=col>&lt;dbl&gt;</th><th scope=col>&lt;dbl&gt;</th></tr>\n",
       "</thead>\n",
       "<tbody>\n",
       "\t<tr><th scope=row>1</th><td>0.6410256</td><td>0.4358974</td><td>0.1666667</td><td>0.01282051</td></tr>\n",
       "\t<tr><th scope=row>2</th><td>0.6153846</td><td>0.3717949</td><td>0.1666667</td><td>0.01282051</td></tr>\n",
       "\t<tr><th scope=row>3</th><td>0.5897436</td><td>0.3974359</td><td>0.1538462</td><td>0.01282051</td></tr>\n",
       "\t<tr><th scope=row>4</th><td>0.5769231</td><td>0.3846154</td><td>0.1794872</td><td>0.01282051</td></tr>\n",
       "\t<tr><th scope=row>5</th><td>0.6282051</td><td>0.4487179</td><td>0.1666667</td><td>0.01282051</td></tr>\n",
       "\t<tr><th scope=row>6</th><td>0.6794872</td><td>0.4871795</td><td>0.2051282</td><td>0.03846154</td></tr>\n",
       "</tbody>\n",
       "</table>\n"
      ],
      "text/latex": [
       "A data.frame: 6 × 4\n",
       "\\begin{tabular}{r|llll}\n",
       "  & Sepal.Length & Sepal.Width & Petal.Length & Petal.Width\\\\\n",
       "  & <dbl> & <dbl> & <dbl> & <dbl>\\\\\n",
       "\\hline\n",
       "\t1 & 0.6410256 & 0.4358974 & 0.1666667 & 0.01282051\\\\\n",
       "\t2 & 0.6153846 & 0.3717949 & 0.1666667 & 0.01282051\\\\\n",
       "\t3 & 0.5897436 & 0.3974359 & 0.1538462 & 0.01282051\\\\\n",
       "\t4 & 0.5769231 & 0.3846154 & 0.1794872 & 0.01282051\\\\\n",
       "\t5 & 0.6282051 & 0.4487179 & 0.1666667 & 0.01282051\\\\\n",
       "\t6 & 0.6794872 & 0.4871795 & 0.2051282 & 0.03846154\\\\\n",
       "\\end{tabular}\n"
      ],
      "text/markdown": [
       "\n",
       "A data.frame: 6 × 4\n",
       "\n",
       "| <!--/--> | Sepal.Length &lt;dbl&gt; | Sepal.Width &lt;dbl&gt; | Petal.Length &lt;dbl&gt; | Petal.Width &lt;dbl&gt; |\n",
       "|---|---|---|---|---|\n",
       "| 1 | 0.6410256 | 0.4358974 | 0.1666667 | 0.01282051 |\n",
       "| 2 | 0.6153846 | 0.3717949 | 0.1666667 | 0.01282051 |\n",
       "| 3 | 0.5897436 | 0.3974359 | 0.1538462 | 0.01282051 |\n",
       "| 4 | 0.5769231 | 0.3846154 | 0.1794872 | 0.01282051 |\n",
       "| 5 | 0.6282051 | 0.4487179 | 0.1666667 | 0.01282051 |\n",
       "| 6 | 0.6794872 | 0.4871795 | 0.2051282 | 0.03846154 |\n",
       "\n"
      ],
      "text/plain": [
       "  Sepal.Length Sepal.Width Petal.Length Petal.Width\n",
       "1 0.6410256    0.4358974   0.1666667    0.01282051 \n",
       "2 0.6153846    0.3717949   0.1666667    0.01282051 \n",
       "3 0.5897436    0.3974359   0.1538462    0.01282051 \n",
       "4 0.5769231    0.3846154   0.1794872    0.01282051 \n",
       "5 0.6282051    0.4487179   0.1666667    0.01282051 \n",
       "6 0.6794872    0.4871795   0.2051282    0.03846154 "
      ]
     },
     "metadata": {},
     "output_type": "display_data"
    }
   ],
   "source": [
    "# Função com cálculo\n",
    "normaliza = function(x) {\n",
    "    return ((x - min(x)) / (max(x) - min(x)))\n",
    "}\n",
    "\n",
    "# Aplicando normalização\n",
    "iris_norm = normaliza(iris[, 1:4])\n",
    "summary(iris_norm)\n",
    "head(iris_norm)"
   ]
  },
  {
   "cell_type": "markdown",
   "metadata": {},
   "source": [
    "## Comparando dados"
   ]
  },
  {
   "cell_type": "code",
   "execution_count": 5,
   "metadata": {
    "vscode": {
     "languageId": "r"
    }
   },
   "outputs": [
    {
     "data": {
      "image/png": "[encoded data removed]",
      "text/plain": [
       "Plot with title \"Iris Original\""
      ]
     },
     "metadata": {
      "image/png": {
       "height": 420,
       "width": 420
      }
     },
     "output_type": "display_data"
    },
    {
     "data": {
      "image/png": "[encoded data removed]",
      "text/plain": [
       "Plot with title \"Iris Padronizado\""
      ]
     },
     "metadata": {
      "image/png": {
       "height": 420,
       "width": 420
      }
     },
     "output_type": "display_data"
    },
    {
     "data": {
      "image/png": "[encoded data removed]",
      "text/plain": [
       "Plot with title \"Iris Normalizado (min-max)\""
      ]
     },
     "metadata": {
      "image/png": {
       "height": 420,
       "width": 420
      }
     },
     "output_type": "display_data"
    }
   ],
   "source": [
    "# Dados originais\n",
    "boxplot(iris[, 1:4], main='Iris Original')\n",
    "\n",
    "# Dados padronizados\n",
    "boxplot(iris_padr, main='Iris Padronizado')\n",
    "\n",
    "# Dados normalizados\n",
    "boxplot(iris_norm, main='Iris Normalizado (min-max)')"
   ]
  }
 ],
 "metadata": {
  "kernelspec": {
   "display_name": "R",
   "language": "R",
   "name": "ir"
  },
  "language_info": {
   "codemirror_mode": "r",
   "file_extension": ".r",
   "mimetype": "text/x-r-source",
   "name": "R",
   "pygments_lexer": "r",
   "version": "4.3.2"
  }
 },
 "nbformat": 4,
 "nbformat_minor": 2
}
