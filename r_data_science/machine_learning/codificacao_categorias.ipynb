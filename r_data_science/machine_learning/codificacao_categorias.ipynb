{
 "cells": [
  {
   "cell_type": "markdown",
   "metadata": {},
   "source": [
    "## Packages\n",
    "- install.packages('mltools')\n",
    "- install.packages('data.table')"
   ]
  },
  {
   "cell_type": "markdown",
   "metadata": {},
   "source": [
    "## DB = Titanic\n",
    "- as.data.frame( ) -> Transforma um conjunto de dados em data frame"
   ]
  },
  {
   "cell_type": "code",
   "execution_count": 4,
   "metadata": {
    "vscode": {
     "languageId": "r"
    }
   },
   "outputs": [
    {
     "data": {
      "text/plain": [
       ", , Age = Child, Survived = No\n",
       "\n",
       "      Sex\n",
       "Class  Male Female\n",
       "  1st     0      0\n",
       "  2nd     0      0\n",
       "  3rd    35     17\n",
       "  Crew    0      0\n",
       "\n",
       ", , Age = Adult, Survived = No\n",
       "\n",
       "      Sex\n",
       "Class  Male Female\n",
       "  1st   118      4\n",
       "  2nd   154     13\n",
       "  3rd   387     89\n",
       "  Crew  670      3\n",
       "\n",
       ", , Age = Child, Survived = Yes\n",
       "\n",
       "      Sex\n",
       "Class  Male Female\n",
       "  1st     5      1\n",
       "  2nd    11     13\n",
       "  3rd    13     14\n",
       "  Crew    0      0\n",
       "\n",
       ", , Age = Adult, Survived = Yes\n",
       "\n",
       "      Sex\n",
       "Class  Male Female\n",
       "  1st    57    140\n",
       "  2nd    14     80\n",
       "  3rd    75     76\n",
       "  Crew  192     20\n"
      ]
     },
     "metadata": {},
     "output_type": "display_data"
    },
    {
     "data": {
      "text/html": [
       "<style>\n",
       ".list-inline {list-style: none; margin:0; padding: 0}\n",
       ".list-inline>li {display: inline-block}\n",
       ".list-inline>li:not(:last-child)::after {content: \"\\00b7\"; padding: 0 .5ex}\n",
       "</style>\n",
       "<ol class=list-inline><li>32</li><li>5</li></ol>\n"
      ],
      "text/latex": [
       "\\begin{enumerate*}\n",
       "\\item 32\n",
       "\\item 5\n",
       "\\end{enumerate*}\n"
      ],
      "text/markdown": [
       "1. 32\n",
       "2. 5\n",
       "\n",
       "\n"
      ],
      "text/plain": [
       "[1] 32  5"
      ]
     },
     "metadata": {},
     "output_type": "display_data"
    },
    {
     "data": {
      "text/html": [
       "<table class=\"dataframe\">\n",
       "<caption>A data.frame: 6 × 5</caption>\n",
       "<thead>\n",
       "\t<tr><th></th><th scope=col>Class</th><th scope=col>Sex</th><th scope=col>Age</th><th scope=col>Survived</th><th scope=col>Freq</th></tr>\n",
       "\t<tr><th></th><th scope=col>&lt;fct&gt;</th><th scope=col>&lt;fct&gt;</th><th scope=col>&lt;fct&gt;</th><th scope=col>&lt;fct&gt;</th><th scope=col>&lt;dbl&gt;</th></tr>\n",
       "</thead>\n",
       "<tbody>\n",
       "\t<tr><th scope=row>1</th><td>1st </td><td>Male  </td><td>Child</td><td>No</td><td> 0</td></tr>\n",
       "\t<tr><th scope=row>2</th><td>2nd </td><td>Male  </td><td>Child</td><td>No</td><td> 0</td></tr>\n",
       "\t<tr><th scope=row>3</th><td>3rd </td><td>Male  </td><td>Child</td><td>No</td><td>35</td></tr>\n",
       "\t<tr><th scope=row>4</th><td>Crew</td><td>Male  </td><td>Child</td><td>No</td><td> 0</td></tr>\n",
       "\t<tr><th scope=row>5</th><td>1st </td><td>Female</td><td>Child</td><td>No</td><td> 0</td></tr>\n",
       "\t<tr><th scope=row>6</th><td>2nd </td><td>Female</td><td>Child</td><td>No</td><td> 0</td></tr>\n",
       "</tbody>\n",
       "</table>\n"
      ],
      "text/latex": [
       "A data.frame: 6 × 5\n",
       "\\begin{tabular}{r|lllll}\n",
       "  & Class & Sex & Age & Survived & Freq\\\\\n",
       "  & <fct> & <fct> & <fct> & <fct> & <dbl>\\\\\n",
       "\\hline\n",
       "\t1 & 1st  & Male   & Child & No &  0\\\\\n",
       "\t2 & 2nd  & Male   & Child & No &  0\\\\\n",
       "\t3 & 3rd  & Male   & Child & No & 35\\\\\n",
       "\t4 & Crew & Male   & Child & No &  0\\\\\n",
       "\t5 & 1st  & Female & Child & No &  0\\\\\n",
       "\t6 & 2nd  & Female & Child & No &  0\\\\\n",
       "\\end{tabular}\n"
      ],
      "text/markdown": [
       "\n",
       "A data.frame: 6 × 5\n",
       "\n",
       "| <!--/--> | Class &lt;fct&gt; | Sex &lt;fct&gt; | Age &lt;fct&gt; | Survived &lt;fct&gt; | Freq &lt;dbl&gt; |\n",
       "|---|---|---|---|---|---|\n",
       "| 1 | 1st  | Male   | Child | No |  0 |\n",
       "| 2 | 2nd  | Male   | Child | No |  0 |\n",
       "| 3 | 3rd  | Male   | Child | No | 35 |\n",
       "| 4 | Crew | Male   | Child | No |  0 |\n",
       "| 5 | 1st  | Female | Child | No |  0 |\n",
       "| 6 | 2nd  | Female | Child | No |  0 |\n",
       "\n"
      ],
      "text/plain": [
       "  Class Sex    Age   Survived Freq\n",
       "1 1st   Male   Child No        0  \n",
       "2 2nd   Male   Child No        0  \n",
       "3 3rd   Male   Child No       35  \n",
       "4 Crew  Male   Child No        0  \n",
       "5 1st   Female Child No        0  \n",
       "6 2nd   Female Child No        0  "
      ]
     },
     "metadata": {},
     "output_type": "display_data"
    },
    {
     "data": {
      "text/plain": [
       "  Class       Sex        Age     Survived      Freq       \n",
       " 1st :8   Male  :16   Child:16   No :16   Min.   :  0.00  \n",
       " 2nd :8   Female:16   Adult:16   Yes:16   1st Qu.:  0.75  \n",
       " 3rd :8                                   Median : 13.50  \n",
       " Crew:8                                   Mean   : 68.78  \n",
       "                                          3rd Qu.: 77.00  \n",
       "                                          Max.   :670.00  "
      ]
     },
     "metadata": {},
     "output_type": "display_data"
    }
   ],
   "source": [
    "library(mltools)\n",
    "library(data.table)\n",
    "\n",
    "Titanic\n",
    "tit = as.data.frame(Titanic)\n",
    "dim(tit)\n",
    "head(tit)\n",
    "summary(tit)"
   ]
  },
  {
   "cell_type": "markdown",
   "metadata": {},
   "source": [
    "## Label Encoder\n",
    "- data.matrix( ) -> Transforma atributos categóricos em numéricos\n",
    "- atributos seleconados -> Class, Sex e Age"
   ]
  },
  {
   "cell_type": "code",
   "execution_count": 6,
   "metadata": {
    "vscode": {
     "languageId": "r"
    }
   },
   "outputs": [
    {
     "data": {
      "text/plain": [
       "     Class           Sex           Age     \n",
       " Min.   :1.00   Min.   :1.0   Min.   :1.0  \n",
       " 1st Qu.:1.75   1st Qu.:1.0   1st Qu.:1.0  \n",
       " Median :2.50   Median :1.5   Median :1.5  \n",
       " Mean   :2.50   Mean   :1.5   Mean   :1.5  \n",
       " 3rd Qu.:3.25   3rd Qu.:2.0   3rd Qu.:2.0  \n",
       " Max.   :4.00   Max.   :2.0   Max.   :2.0  "
      ]
     },
     "metadata": {},
     "output_type": "display_data"
    },
    {
     "data": {
      "text/html": [
       "<table class=\"dataframe\">\n",
       "<caption>A matrix: 6 × 3 of type int</caption>\n",
       "<thead>\n",
       "\t<tr><th scope=col>Class</th><th scope=col>Sex</th><th scope=col>Age</th></tr>\n",
       "</thead>\n",
       "<tbody>\n",
       "\t<tr><td>1</td><td>1</td><td>1</td></tr>\n",
       "\t<tr><td>2</td><td>1</td><td>1</td></tr>\n",
       "\t<tr><td>3</td><td>1</td><td>1</td></tr>\n",
       "\t<tr><td>4</td><td>1</td><td>1</td></tr>\n",
       "\t<tr><td>1</td><td>2</td><td>1</td></tr>\n",
       "\t<tr><td>2</td><td>2</td><td>1</td></tr>\n",
       "</tbody>\n",
       "</table>\n"
      ],
      "text/latex": [
       "A matrix: 6 × 3 of type int\n",
       "\\begin{tabular}{lll}\n",
       " Class & Sex & Age\\\\\n",
       "\\hline\n",
       "\t 1 & 1 & 1\\\\\n",
       "\t 2 & 1 & 1\\\\\n",
       "\t 3 & 1 & 1\\\\\n",
       "\t 4 & 1 & 1\\\\\n",
       "\t 1 & 2 & 1\\\\\n",
       "\t 2 & 2 & 1\\\\\n",
       "\\end{tabular}\n"
      ],
      "text/markdown": [
       "\n",
       "A matrix: 6 × 3 of type int\n",
       "\n",
       "| Class | Sex | Age |\n",
       "|---|---|---|\n",
       "| 1 | 1 | 1 |\n",
       "| 2 | 1 | 1 |\n",
       "| 3 | 1 | 1 |\n",
       "| 4 | 1 | 1 |\n",
       "| 1 | 2 | 1 |\n",
       "| 2 | 2 | 1 |\n",
       "\n"
      ],
      "text/plain": [
       "     Class Sex Age\n",
       "[1,] 1     1   1  \n",
       "[2,] 2     1   1  \n",
       "[3,] 3     1   1  \n",
       "[4,] 4     1   1  \n",
       "[5,] 1     2   1  \n",
       "[6,] 2     2   1  "
      ]
     },
     "metadata": {},
     "output_type": "display_data"
    }
   ],
   "source": [
    "labenc = data.matrix(tit[, 1:3])\n",
    "summary(labenc)\n",
    "head(labenc)"
   ]
  },
  {
   "cell_type": "markdown",
   "metadata": {},
   "source": [
    "## One Hot Enconding\n",
    "- Trannforma cada valor categóricos em uma coluna numérica.\n",
    "- Seu valor é reprentado com 1, na coluna indicada\n",
    "- exemplo -> (0, 0, 1, 0) = Class = 3rd"
   ]
  },
  {
   "cell_type": "code",
   "execution_count": 7,
   "metadata": {
    "vscode": {
     "languageId": "r"
    }
   },
   "outputs": [
    {
     "data": {
      "text/plain": [
       "   Class_1st      Class_2nd      Class_3rd      Class_Crew      Sex_Male  \n",
       " Min.   :0.00   Min.   :0.00   Min.   :0.00   Min.   :0.00   Min.   :0.0  \n",
       " 1st Qu.:0.00   1st Qu.:0.00   1st Qu.:0.00   1st Qu.:0.00   1st Qu.:0.0  \n",
       " Median :0.00   Median :0.00   Median :0.00   Median :0.00   Median :0.5  \n",
       " Mean   :0.25   Mean   :0.25   Mean   :0.25   Mean   :0.25   Mean   :0.5  \n",
       " 3rd Qu.:0.25   3rd Qu.:0.25   3rd Qu.:0.25   3rd Qu.:0.25   3rd Qu.:1.0  \n",
       " Max.   :1.00   Max.   :1.00   Max.   :1.00   Max.   :1.00   Max.   :1.0  \n",
       "   Sex_Female    Age_Child     Age_Adult  \n",
       " Min.   :0.0   Min.   :0.0   Min.   :0.0  \n",
       " 1st Qu.:0.0   1st Qu.:0.0   1st Qu.:0.0  \n",
       " Median :0.5   Median :0.5   Median :0.5  \n",
       " Mean   :0.5   Mean   :0.5   Mean   :0.5  \n",
       " 3rd Qu.:1.0   3rd Qu.:1.0   3rd Qu.:1.0  \n",
       " Max.   :1.0   Max.   :1.0   Max.   :1.0  "
      ]
     },
     "metadata": {},
     "output_type": "display_data"
    },
    {
     "data": {
      "text/html": [
       "<table class=\"dataframe\">\n",
       "<caption>A data.table: 6 × 8</caption>\n",
       "<thead>\n",
       "\t<tr><th scope=col>Class_1st</th><th scope=col>Class_2nd</th><th scope=col>Class_3rd</th><th scope=col>Class_Crew</th><th scope=col>Sex_Male</th><th scope=col>Sex_Female</th><th scope=col>Age_Child</th><th scope=col>Age_Adult</th></tr>\n",
       "\t<tr><th scope=col>&lt;int&gt;</th><th scope=col>&lt;int&gt;</th><th scope=col>&lt;int&gt;</th><th scope=col>&lt;int&gt;</th><th scope=col>&lt;int&gt;</th><th scope=col>&lt;int&gt;</th><th scope=col>&lt;int&gt;</th><th scope=col>&lt;int&gt;</th></tr>\n",
       "</thead>\n",
       "<tbody>\n",
       "\t<tr><td>1</td><td>0</td><td>0</td><td>0</td><td>1</td><td>0</td><td>1</td><td>0</td></tr>\n",
       "\t<tr><td>0</td><td>1</td><td>0</td><td>0</td><td>1</td><td>0</td><td>1</td><td>0</td></tr>\n",
       "\t<tr><td>0</td><td>0</td><td>1</td><td>0</td><td>1</td><td>0</td><td>1</td><td>0</td></tr>\n",
       "\t<tr><td>0</td><td>0</td><td>0</td><td>1</td><td>1</td><td>0</td><td>1</td><td>0</td></tr>\n",
       "\t<tr><td>1</td><td>0</td><td>0</td><td>0</td><td>0</td><td>1</td><td>1</td><td>0</td></tr>\n",
       "\t<tr><td>0</td><td>1</td><td>0</td><td>0</td><td>0</td><td>1</td><td>1</td><td>0</td></tr>\n",
       "</tbody>\n",
       "</table>\n"
      ],
      "text/latex": [
       "A data.table: 6 × 8\n",
       "\\begin{tabular}{llllllll}\n",
       " Class\\_1st & Class\\_2nd & Class\\_3rd & Class\\_Crew & Sex\\_Male & Sex\\_Female & Age\\_Child & Age\\_Adult\\\\\n",
       " <int> & <int> & <int> & <int> & <int> & <int> & <int> & <int>\\\\\n",
       "\\hline\n",
       "\t 1 & 0 & 0 & 0 & 1 & 0 & 1 & 0\\\\\n",
       "\t 0 & 1 & 0 & 0 & 1 & 0 & 1 & 0\\\\\n",
       "\t 0 & 0 & 1 & 0 & 1 & 0 & 1 & 0\\\\\n",
       "\t 0 & 0 & 0 & 1 & 1 & 0 & 1 & 0\\\\\n",
       "\t 1 & 0 & 0 & 0 & 0 & 1 & 1 & 0\\\\\n",
       "\t 0 & 1 & 0 & 0 & 0 & 1 & 1 & 0\\\\\n",
       "\\end{tabular}\n"
      ],
      "text/markdown": [
       "\n",
       "A data.table: 6 × 8\n",
       "\n",
       "| Class_1st &lt;int&gt; | Class_2nd &lt;int&gt; | Class_3rd &lt;int&gt; | Class_Crew &lt;int&gt; | Sex_Male &lt;int&gt; | Sex_Female &lt;int&gt; | Age_Child &lt;int&gt; | Age_Adult &lt;int&gt; |\n",
       "|---|---|---|---|---|---|---|---|\n",
       "| 1 | 0 | 0 | 0 | 1 | 0 | 1 | 0 |\n",
       "| 0 | 1 | 0 | 0 | 1 | 0 | 1 | 0 |\n",
       "| 0 | 0 | 1 | 0 | 1 | 0 | 1 | 0 |\n",
       "| 0 | 0 | 0 | 1 | 1 | 0 | 1 | 0 |\n",
       "| 1 | 0 | 0 | 0 | 0 | 1 | 1 | 0 |\n",
       "| 0 | 1 | 0 | 0 | 0 | 1 | 1 | 0 |\n",
       "\n"
      ],
      "text/plain": [
       "  Class_1st Class_2nd Class_3rd Class_Crew Sex_Male Sex_Female Age_Child\n",
       "1 1         0         0         0          1        0          1        \n",
       "2 0         1         0         0          1        0          1        \n",
       "3 0         0         1         0          1        0          1        \n",
       "4 0         0         0         1          1        0          1        \n",
       "5 1         0         0         0          0        1          1        \n",
       "6 0         1         0         0          0        1          1        \n",
       "  Age_Adult\n",
       "1 0        \n",
       "2 0        \n",
       "3 0        \n",
       "4 0        \n",
       "5 0        \n",
       "6 0        "
      ]
     },
     "metadata": {},
     "output_type": "display_data"
    }
   ],
   "source": [
    "hotenc = one_hot(as.data.table(tit[, 1:3]))\n",
    "summary(hotenc)\n",
    "head(hotenc)"
   ]
  }
 ],
 "metadata": {
  "kernelspec": {
   "display_name": "R",
   "language": "R",
   "name": "ir"
  },
  "language_info": {
   "codemirror_mode": "r",
   "file_extension": ".r",
   "mimetype": "text/x-r-source",
   "name": "R",
   "pygments_lexer": "r",
   "version": "4.3.2"
  }
 },
 "nbformat": 4,
 "nbformat_minor": 2
}
