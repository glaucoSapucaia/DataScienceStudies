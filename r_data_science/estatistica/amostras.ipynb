{
 "cells": [
  {
   "cell_type": "markdown",
   "metadata": {},
   "source": [
    "## Pacotes\n",
    "### TeachingSampling, sampling\n",
    "- install.packages('TeachingSampling')\n",
    "- install.packages('sampling')"
   ]
  },
  {
   "cell_type": "code",
   "execution_count": 105,
   "metadata": {
    "vscode": {
     "languageId": "r"
    }
   },
   "outputs": [],
   "source": [
    "library(TeachingSampling)\n",
    "library(sampling)"
   ]
  },
  {
   "cell_type": "markdown",
   "metadata": {},
   "source": [
    "## Amostragem simples\n",
    "- sample() -> Retorna amostragens\n",
    "- x= -> Dados/Elementos\n",
    "- size= -> Qtd amostras\n",
    "- replace= -> Ativa/desativa a reposição de elementos\n",
    "- prob= -> Indica a probabilidade dos elementos\n",
    "- as.factor() -> Fatora valores para melhor compreensão"
   ]
  },
  {
   "cell_type": "markdown",
   "metadata": {},
   "source": [
    "### Gera 150 amostras do grupo de elemenros (0, 1)"
   ]
  },
  {
   "cell_type": "code",
   "execution_count": 106,
   "metadata": {
    "vscode": {
     "languageId": "r"
    }
   },
   "outputs": [
    {
     "data": {
      "text/html": [
       "<style>\n",
       ".dl-inline {width: auto; margin:0; padding: 0}\n",
       ".dl-inline>dt, .dl-inline>dd {float: none; width: auto; display: inline-block}\n",
       ".dl-inline>dt::after {content: \":\\0020\"; padding-right: .5ex}\n",
       ".dl-inline>dt:not(:first-of-type) {padding-left: .5ex}\n",
       "</style><dl class=dl-inline><dt>0</dt><dd>82</dd><dt>1</dt><dd>68</dd></dl>\n"
      ],
      "text/latex": [
       "\\begin{description*}\n",
       "\\item[0] 82\n",
       "\\item[1] 68\n",
       "\\end{description*}\n"
      ],
      "text/markdown": [
       "0\n",
       ":   821\n",
       ":   68\n",
       "\n"
      ],
      "text/plain": [
       " 0  1 \n",
       "82 68 "
      ]
     },
     "metadata": {},
     "output_type": "display_data"
    },
    {
     "data": {
      "text/html": [
       "<style>\n",
       ".dl-inline {width: auto; margin:0; padding: 0}\n",
       ".dl-inline>dt, .dl-inline>dd {float: none; width: auto; display: inline-block}\n",
       ".dl-inline>dt::after {content: \":\\0020\"; padding-right: .5ex}\n",
       ".dl-inline>dt:not(:first-of-type) {padding-left: .5ex}\n",
       "</style><dl class=dl-inline><dt>0</dt><dd>108</dd><dt>1</dt><dd>42</dd></dl>\n"
      ],
      "text/latex": [
       "\\begin{description*}\n",
       "\\item[0] 108\n",
       "\\item[1] 42\n",
       "\\end{description*}\n"
      ],
      "text/markdown": [
       "0\n",
       ":   1081\n",
       ":   42\n",
       "\n"
      ],
      "text/plain": [
       "  0   1 \n",
       "108  42 "
      ]
     },
     "metadata": {},
     "output_type": "display_data"
    }
   ],
   "source": [
    "amostra = sample(x=c(0, 1), size=150, replace=T, prob=c(0.5, 0.5))\n",
    "summary(as.factor(amostra))\n",
    "amostra = sample(x=c(0, 1), size=150, replace=T, prob=c(0.7, 0.3))\n",
    "summary(as.factor(amostra))"
   ]
  },
  {
   "cell_type": "markdown",
   "metadata": {},
   "source": [
    "### Gera 150 amostras, de 1 a 1000, sem reposição, probalidades iguais"
   ]
  },
  {
   "cell_type": "code",
   "execution_count": 107,
   "metadata": {
    "vscode": {
     "languageId": "r"
    }
   },
   "outputs": [
    {
     "data": {
      "text/html": [
       "<style>\n",
       ".list-inline {list-style: none; margin:0; padding: 0}\n",
       ".list-inline>li {display: inline-block}\n",
       ".list-inline>li:not(:last-child)::after {content: \"\\00b7\"; padding: 0 .5ex}\n",
       "</style>\n",
       "<ol class=list-inline><li>247</li><li>719</li><li>250</li><li>626</li><li>55</li><li>272</li><li>63</li><li>570</li><li>780</li><li>252</li><li>903</li><li>308</li><li>6</li><li>714</li><li>556</li><li>792</li><li>554</li><li>360</li><li>354</li><li>269</li><li>779</li><li>635</li><li>164</li><li>359</li><li>79</li><li>506</li><li>183</li><li>312</li><li>945</li><li>983</li><li>340</li><li>261</li><li>797</li><li>715</li><li>608</li><li>785</li><li>588</li><li>865</li><li>51</li><li>197</li><li>137</li><li>229</li><li>602</li><li>221</li><li>584</li><li>907</li><li>574</li><li>298</li><li>943</li><li>866</li><li>444</li><li>293</li><li>997</li><li>240</li><li>194</li><li>621</li><li>727</li><li>883</li><li>768</li><li>864</li><li>110</li><li>838</li><li>526</li><li>189</li><li>759</li><li>225</li><li>120</li><li>81</li><li>748</li><li>998</li><li>610</li><li>977</li><li>138</li><li>278</li><li>453</li><li>543</li><li>476</li><li>152</li><li>963</li><li>332</li><li>599</li><li>400</li><li>306</li><li>532</li><li>347</li><li>971</li><li>329</li><li>160</li><li>559</li><li>3</li><li>567</li><li>163</li><li>501</li><li>187</li><li>82</li><li>569</li><li>524</li><li>469</li><li>765</li><li>826</li><li>292</li><li>25</li><li>459</li><li>718</li><li>595</li><li>954</li><li>353</li><li>214</li><li>846</li><li>305</li><li>34</li><li>260</li><li>593</li><li>149</li><li>857</li><li>475</li><li>692</li><li>604</li><li>762</li><li>668</li><li>967</li><li>316</li><li>399</li><li>884</li><li>280</li><li>665</li><li>912</li><li>60</li><li>146</li><li>456</li><li>981</li><li>732</li><li>452</li><li>725</li><li>191</li><li>394</li><li>623</li><li>564</li><li>112</li><li>207</li><li>745</li><li>125</li><li>813</li><li>297</li><li>975</li><li>73</li><li>28</li><li>923</li><li>491</li><li>162</li></ol>\n"
      ],
      "text/latex": [
       "\\begin{enumerate*}\n",
       "\\item 247\n",
       "\\item 719\n",
       "\\item 250\n",
       "\\item 626\n",
       "\\item 55\n",
       "\\item 272\n",
       "\\item 63\n",
       "\\item 570\n",
       "\\item 780\n",
       "\\item 252\n",
       "\\item 903\n",
       "\\item 308\n",
       "\\item 6\n",
       "\\item 714\n",
       "\\item 556\n",
       "\\item 792\n",
       "\\item 554\n",
       "\\item 360\n",
       "\\item 354\n",
       "\\item 269\n",
       "\\item 779\n",
       "\\item 635\n",
       "\\item 164\n",
       "\\item 359\n",
       "\\item 79\n",
       "\\item 506\n",
       "\\item 183\n",
       "\\item 312\n",
       "\\item 945\n",
       "\\item 983\n",
       "\\item 340\n",
       "\\item 261\n",
       "\\item 797\n",
       "\\item 715\n",
       "\\item 608\n",
       "\\item 785\n",
       "\\item 588\n",
       "\\item 865\n",
       "\\item 51\n",
       "\\item 197\n",
       "\\item 137\n",
       "\\item 229\n",
       "\\item 602\n",
       "\\item 221\n",
       "\\item 584\n",
       "\\item 907\n",
       "\\item 574\n",
       "\\item 298\n",
       "\\item 943\n",
       "\\item 866\n",
       "\\item 444\n",
       "\\item 293\n",
       "\\item 997\n",
       "\\item 240\n",
       "\\item 194\n",
       "\\item 621\n",
       "\\item 727\n",
       "\\item 883\n",
       "\\item 768\n",
       "\\item 864\n",
       "\\item 110\n",
       "\\item 838\n",
       "\\item 526\n",
       "\\item 189\n",
       "\\item 759\n",
       "\\item 225\n",
       "\\item 120\n",
       "\\item 81\n",
       "\\item 748\n",
       "\\item 998\n",
       "\\item 610\n",
       "\\item 977\n",
       "\\item 138\n",
       "\\item 278\n",
       "\\item 453\n",
       "\\item 543\n",
       "\\item 476\n",
       "\\item 152\n",
       "\\item 963\n",
       "\\item 332\n",
       "\\item 599\n",
       "\\item 400\n",
       "\\item 306\n",
       "\\item 532\n",
       "\\item 347\n",
       "\\item 971\n",
       "\\item 329\n",
       "\\item 160\n",
       "\\item 559\n",
       "\\item 3\n",
       "\\item 567\n",
       "\\item 163\n",
       "\\item 501\n",
       "\\item 187\n",
       "\\item 82\n",
       "\\item 569\n",
       "\\item 524\n",
       "\\item 469\n",
       "\\item 765\n",
       "\\item 826\n",
       "\\item 292\n",
       "\\item 25\n",
       "\\item 459\n",
       "\\item 718\n",
       "\\item 595\n",
       "\\item 954\n",
       "\\item 353\n",
       "\\item 214\n",
       "\\item 846\n",
       "\\item 305\n",
       "\\item 34\n",
       "\\item 260\n",
       "\\item 593\n",
       "\\item 149\n",
       "\\item 857\n",
       "\\item 475\n",
       "\\item 692\n",
       "\\item 604\n",
       "\\item 762\n",
       "\\item 668\n",
       "\\item 967\n",
       "\\item 316\n",
       "\\item 399\n",
       "\\item 884\n",
       "\\item 280\n",
       "\\item 665\n",
       "\\item 912\n",
       "\\item 60\n",
       "\\item 146\n",
       "\\item 456\n",
       "\\item 981\n",
       "\\item 732\n",
       "\\item 452\n",
       "\\item 725\n",
       "\\item 191\n",
       "\\item 394\n",
       "\\item 623\n",
       "\\item 564\n",
       "\\item 112\n",
       "\\item 207\n",
       "\\item 745\n",
       "\\item 125\n",
       "\\item 813\n",
       "\\item 297\n",
       "\\item 975\n",
       "\\item 73\n",
       "\\item 28\n",
       "\\item 923\n",
       "\\item 491\n",
       "\\item 162\n",
       "\\end{enumerate*}\n"
      ],
      "text/markdown": [
       "1. 247\n",
       "2. 719\n",
       "3. 250\n",
       "4. 626\n",
       "5. 55\n",
       "6. 272\n",
       "7. 63\n",
       "8. 570\n",
       "9. 780\n",
       "10. 252\n",
       "11. 903\n",
       "12. 308\n",
       "13. 6\n",
       "14. 714\n",
       "15. 556\n",
       "16. 792\n",
       "17. 554\n",
       "18. 360\n",
       "19. 354\n",
       "20. 269\n",
       "21. 779\n",
       "22. 635\n",
       "23. 164\n",
       "24. 359\n",
       "25. 79\n",
       "26. 506\n",
       "27. 183\n",
       "28. 312\n",
       "29. 945\n",
       "30. 983\n",
       "31. 340\n",
       "32. 261\n",
       "33. 797\n",
       "34. 715\n",
       "35. 608\n",
       "36. 785\n",
       "37. 588\n",
       "38. 865\n",
       "39. 51\n",
       "40. 197\n",
       "41. 137\n",
       "42. 229\n",
       "43. 602\n",
       "44. 221\n",
       "45. 584\n",
       "46. 907\n",
       "47. 574\n",
       "48. 298\n",
       "49. 943\n",
       "50. 866\n",
       "51. 444\n",
       "52. 293\n",
       "53. 997\n",
       "54. 240\n",
       "55. 194\n",
       "56. 621\n",
       "57. 727\n",
       "58. 883\n",
       "59. 768\n",
       "60. 864\n",
       "61. 110\n",
       "62. 838\n",
       "63. 526\n",
       "64. 189\n",
       "65. 759\n",
       "66. 225\n",
       "67. 120\n",
       "68. 81\n",
       "69. 748\n",
       "70. 998\n",
       "71. 610\n",
       "72. 977\n",
       "73. 138\n",
       "74. 278\n",
       "75. 453\n",
       "76. 543\n",
       "77. 476\n",
       "78. 152\n",
       "79. 963\n",
       "80. 332\n",
       "81. 599\n",
       "82. 400\n",
       "83. 306\n",
       "84. 532\n",
       "85. 347\n",
       "86. 971\n",
       "87. 329\n",
       "88. 160\n",
       "89. 559\n",
       "90. 3\n",
       "91. 567\n",
       "92. 163\n",
       "93. 501\n",
       "94. 187\n",
       "95. 82\n",
       "96. 569\n",
       "97. 524\n",
       "98. 469\n",
       "99. 765\n",
       "100. 826\n",
       "101. 292\n",
       "102. 25\n",
       "103. 459\n",
       "104. 718\n",
       "105. 595\n",
       "106. 954\n",
       "107. 353\n",
       "108. 214\n",
       "109. 846\n",
       "110. 305\n",
       "111. 34\n",
       "112. 260\n",
       "113. 593\n",
       "114. 149\n",
       "115. 857\n",
       "116. 475\n",
       "117. 692\n",
       "118. 604\n",
       "119. 762\n",
       "120. 668\n",
       "121. 967\n",
       "122. 316\n",
       "123. 399\n",
       "124. 884\n",
       "125. 280\n",
       "126. 665\n",
       "127. 912\n",
       "128. 60\n",
       "129. 146\n",
       "130. 456\n",
       "131. 981\n",
       "132. 732\n",
       "133. 452\n",
       "134. 725\n",
       "135. 191\n",
       "136. 394\n",
       "137. 623\n",
       "138. 564\n",
       "139. 112\n",
       "140. 207\n",
       "141. 745\n",
       "142. 125\n",
       "143. 813\n",
       "144. 297\n",
       "145. 975\n",
       "146. 73\n",
       "147. 28\n",
       "148. 923\n",
       "149. 491\n",
       "150. 162\n",
       "\n",
       "\n"
      ],
      "text/plain": [
       "  [1] 247 719 250 626  55 272  63 570 780 252 903 308   6 714 556 792 554 360\n",
       " [19] 354 269 779 635 164 359  79 506 183 312 945 983 340 261 797 715 608 785\n",
       " [37] 588 865  51 197 137 229 602 221 584 907 574 298 943 866 444 293 997 240\n",
       " [55] 194 621 727 883 768 864 110 838 526 189 759 225 120  81 748 998 610 977\n",
       " [73] 138 278 453 543 476 152 963 332 599 400 306 532 347 971 329 160 559   3\n",
       " [91] 567 163 501 187  82 569 524 469 765 826 292  25 459 718 595 954 353 214\n",
       "[109] 846 305  34 260 593 149 857 475 692 604 762 668 967 316 399 884 280 665\n",
       "[127] 912  60 146 456 981 732 452 725 191 394 623 564 112 207 745 125 813 297\n",
       "[145] 975  73  28 923 491 162"
      ]
     },
     "metadata": {},
     "output_type": "display_data"
    }
   ],
   "source": [
    "amostra = sample(x=c(1:1000), size=150, replace=F)\n",
    "amostra"
   ]
  },
  {
   "cell_type": "markdown",
   "metadata": {},
   "source": [
    "## Amostra da base de dados iris\n",
    "- Geramos um vetor (0, 1). para buscar uma amostra de 30% do total dos dados.\n",
    "- size=150 pois iris possui 150 linhas (elementos)\n",
    "- prop=c(0.7, 0.3) pois usaremos o valor 1 como 30%\n",
    "- Por fim, fazemos uma comparação lógica do vetorcriado com a base de dados."
   ]
  },
  {
   "cell_type": "code",
   "execution_count": 108,
   "metadata": {
    "vscode": {
     "languageId": "r"
    }
   },
   "outputs": [
    {
     "data": {
      "text/html": [
       "<style>\n",
       ".list-inline {list-style: none; margin:0; padding: 0}\n",
       ".list-inline>li {display: inline-block}\n",
       ".list-inline>li:not(:last-child)::after {content: \"\\00b7\"; padding: 0 .5ex}\n",
       "</style>\n",
       "<ol class=list-inline><li>150</li><li>5</li></ol>\n"
      ],
      "text/latex": [
       "\\begin{enumerate*}\n",
       "\\item 150\n",
       "\\item 5\n",
       "\\end{enumerate*}\n"
      ],
      "text/markdown": [
       "1. 150\n",
       "2. 5\n",
       "\n",
       "\n"
      ],
      "text/plain": [
       "[1] 150   5"
      ]
     },
     "metadata": {},
     "output_type": "display_data"
    },
    {
     "data": {
      "text/html": [
       "<style>\n",
       ".dl-inline {width: auto; margin:0; padding: 0}\n",
       ".dl-inline>dt, .dl-inline>dd {float: none; width: auto; display: inline-block}\n",
       ".dl-inline>dt::after {content: \":\\0020\"; padding-right: .5ex}\n",
       ".dl-inline>dt:not(:first-of-type) {padding-left: .5ex}\n",
       "</style><dl class=dl-inline><dt>0</dt><dd>114</dd><dt>1</dt><dd>36</dd></dl>\n"
      ],
      "text/latex": [
       "\\begin{description*}\n",
       "\\item[0] 114\n",
       "\\item[1] 36\n",
       "\\end{description*}\n"
      ],
      "text/markdown": [
       "0\n",
       ":   1141\n",
       ":   36\n",
       "\n"
      ],
      "text/plain": [
       "  0   1 \n",
       "114  36 "
      ]
     },
     "metadata": {},
     "output_type": "display_data"
    },
    {
     "data": {
      "text/plain": [
       "  Sepal.Length    Sepal.Width     Petal.Length    Petal.Width   \n",
       " Min.   :4.400   Min.   :2.300   Min.   :1.300   Min.   :0.200  \n",
       " 1st Qu.:5.350   1st Qu.:2.700   1st Qu.:3.100   1st Qu.:0.875  \n",
       " Median :5.750   Median :2.950   Median :4.450   Median :1.450  \n",
       " Mean   :5.917   Mean   :2.953   Mean   :4.064   Mean   :1.319  \n",
       " 3rd Qu.:6.425   3rd Qu.:3.225   3rd Qu.:5.125   3rd Qu.:1.900  \n",
       " Max.   :7.700   Max.   :3.900   Max.   :6.900   Max.   :2.300  \n",
       "       Species  \n",
       " setosa    : 9  \n",
       " versicolor:14  \n",
       " virginica :13  \n",
       "                \n",
       "                \n",
       "                "
      ]
     },
     "metadata": {},
     "output_type": "display_data"
    },
    {
     "data": {
      "text/html": [
       "<style>\n",
       ".list-inline {list-style: none; margin:0; padding: 0}\n",
       ".list-inline>li {display: inline-block}\n",
       ".list-inline>li:not(:last-child)::after {content: \"\\00b7\"; padding: 0 .5ex}\n",
       "</style>\n",
       "<ol class=list-inline><li>36</li><li>5</li></ol>\n"
      ],
      "text/latex": [
       "\\begin{enumerate*}\n",
       "\\item 36\n",
       "\\item 5\n",
       "\\end{enumerate*}\n"
      ],
      "text/markdown": [
       "1. 36\n",
       "2. 5\n",
       "\n",
       "\n"
      ],
      "text/plain": [
       "[1] 36  5"
      ]
     },
     "metadata": {},
     "output_type": "display_data"
    }
   ],
   "source": [
    "dim(iris)\n",
    "amostra = sample(x=c(0, 1), size=150, replace=T, prob=c(0.7, 0.3))\n",
    "summary(as.factor(amostra))\n",
    "amostra_iris = iris[amostra==1, ]\n",
    "summary(amostra_iris)\n",
    "dim(amostra_iris)"
   ]
  },
  {
   "cell_type": "markdown",
   "metadata": {},
   "source": [
    "### Podemos garantir o mesmo resultado ao repetir experimentos aleatórios\n",
    "- set.seed() -> Indica uma key (semente) para obter os mesmos resultados\n",
    "- seed deve ser indicado logo acima do experimento. Não deixe nada entre eles"
   ]
  },
  {
   "cell_type": "code",
   "execution_count": 109,
   "metadata": {
    "vscode": {
     "languageId": "r"
    }
   },
   "outputs": [
    {
     "data": {
      "text/html": [
       "483"
      ],
      "text/latex": [
       "483"
      ],
      "text/markdown": [
       "483"
      ],
      "text/plain": [
       "[1] 483"
      ]
     },
     "metadata": {},
     "output_type": "display_data"
    }
   ],
   "source": [
    "set.seed(2345)\n",
    "sample(c(1000), 1)"
   ]
  },
  {
   "cell_type": "code",
   "execution_count": 110,
   "metadata": {
    "vscode": {
     "languageId": "r"
    }
   },
   "outputs": [
    {
     "data": {
      "text/html": [
       "483"
      ],
      "text/latex": [
       "483"
      ],
      "text/markdown": [
       "483"
      ],
      "text/plain": [
       "[1] 483"
      ]
     },
     "metadata": {},
     "output_type": "display_data"
    }
   ],
   "source": [
    "set.seed(2345)\n",
    "sample(c(1000), 1)"
   ]
  },
  {
   "cell_type": "markdown",
   "metadata": {},
   "source": [
    "## Amostragem Sistemática\n",
    "- A cada n elementos, um é escolhido"
   ]
  },
  {
   "cell_type": "markdown",
   "metadata": {},
   "source": [
    "## Pacote TeachingSampling\n",
    "- S.SY() -> Gera amostras sistematicas.\n",
    "- N= -> Range de elementos\n",
    "- a= -> Passo para a seleção de amostras\n",
    "- Utilizamos a amostra sistematica na base de dados iris"
   ]
  },
  {
   "cell_type": "code",
   "execution_count": 111,
   "metadata": {
    "vscode": {
     "languageId": "r"
    }
   },
   "outputs": [
    {
     "data": {
      "text/html": [
       "<table class=\"dataframe\">\n",
       "<caption>A matrix: 14 × 1 of type dbl</caption>\n",
       "<tbody>\n",
       "\t<tr><td>  7</td></tr>\n",
       "\t<tr><td> 18</td></tr>\n",
       "\t<tr><td> 29</td></tr>\n",
       "\t<tr><td> 40</td></tr>\n",
       "\t<tr><td> 51</td></tr>\n",
       "\t<tr><td> 62</td></tr>\n",
       "\t<tr><td> 73</td></tr>\n",
       "\t<tr><td> 84</td></tr>\n",
       "\t<tr><td> 95</td></tr>\n",
       "\t<tr><td>106</td></tr>\n",
       "\t<tr><td>117</td></tr>\n",
       "\t<tr><td>128</td></tr>\n",
       "\t<tr><td>139</td></tr>\n",
       "\t<tr><td>150</td></tr>\n",
       "</tbody>\n",
       "</table>\n"
      ],
      "text/latex": [
       "A matrix: 14 × 1 of type dbl\n",
       "\\begin{tabular}{l}\n",
       "\t   7\\\\\n",
       "\t  18\\\\\n",
       "\t  29\\\\\n",
       "\t  40\\\\\n",
       "\t  51\\\\\n",
       "\t  62\\\\\n",
       "\t  73\\\\\n",
       "\t  84\\\\\n",
       "\t  95\\\\\n",
       "\t 106\\\\\n",
       "\t 117\\\\\n",
       "\t 128\\\\\n",
       "\t 139\\\\\n",
       "\t 150\\\\\n",
       "\\end{tabular}\n"
      ],
      "text/markdown": [
       "\n",
       "A matrix: 14 × 1 of type dbl\n",
       "\n",
       "|   7 |\n",
       "|  18 |\n",
       "|  29 |\n",
       "|  40 |\n",
       "|  51 |\n",
       "|  62 |\n",
       "|  73 |\n",
       "|  84 |\n",
       "|  95 |\n",
       "| 106 |\n",
       "| 117 |\n",
       "| 128 |\n",
       "| 139 |\n",
       "| 150 |\n",
       "\n"
      ],
      "text/plain": [
       "      [,1]\n",
       " [1,]   7 \n",
       " [2,]  18 \n",
       " [3,]  29 \n",
       " [4,]  40 \n",
       " [5,]  51 \n",
       " [6,]  62 \n",
       " [7,]  73 \n",
       " [8,]  84 \n",
       " [9,]  95 \n",
       "[10,] 106 \n",
       "[11,] 117 \n",
       "[12,] 128 \n",
       "[13,] 139 \n",
       "[14,] 150 "
      ]
     },
     "metadata": {},
     "output_type": "display_data"
    },
    {
     "data": {
      "text/html": [
       "<style>\n",
       ".list-inline {list-style: none; margin:0; padding: 0}\n",
       ".list-inline>li {display: inline-block}\n",
       ".list-inline>li:not(:last-child)::after {content: \"\\00b7\"; padding: 0 .5ex}\n",
       "</style>\n",
       "<ol class=list-inline><li>14</li><li>1</li></ol>\n"
      ],
      "text/latex": [
       "\\begin{enumerate*}\n",
       "\\item 14\n",
       "\\item 1\n",
       "\\end{enumerate*}\n"
      ],
      "text/markdown": [
       "1. 14\n",
       "2. 1\n",
       "\n",
       "\n"
      ],
      "text/plain": [
       "[1] 14  1"
      ]
     },
     "metadata": {},
     "output_type": "display_data"
    },
    {
     "data": {
      "text/html": [
       "<table class=\"dataframe\">\n",
       "<caption>A data.frame: 14 × 5</caption>\n",
       "<thead>\n",
       "\t<tr><th></th><th scope=col>Sepal.Length</th><th scope=col>Sepal.Width</th><th scope=col>Petal.Length</th><th scope=col>Petal.Width</th><th scope=col>Species</th></tr>\n",
       "\t<tr><th></th><th scope=col>&lt;dbl&gt;</th><th scope=col>&lt;dbl&gt;</th><th scope=col>&lt;dbl&gt;</th><th scope=col>&lt;dbl&gt;</th><th scope=col>&lt;fct&gt;</th></tr>\n",
       "</thead>\n",
       "<tbody>\n",
       "\t<tr><th scope=row>7</th><td>4.6</td><td>3.4</td><td>1.4</td><td>0.3</td><td>setosa    </td></tr>\n",
       "\t<tr><th scope=row>18</th><td>5.1</td><td>3.5</td><td>1.4</td><td>0.3</td><td>setosa    </td></tr>\n",
       "\t<tr><th scope=row>29</th><td>5.2</td><td>3.4</td><td>1.4</td><td>0.2</td><td>setosa    </td></tr>\n",
       "\t<tr><th scope=row>40</th><td>5.1</td><td>3.4</td><td>1.5</td><td>0.2</td><td>setosa    </td></tr>\n",
       "\t<tr><th scope=row>51</th><td>7.0</td><td>3.2</td><td>4.7</td><td>1.4</td><td>versicolor</td></tr>\n",
       "\t<tr><th scope=row>62</th><td>5.9</td><td>3.0</td><td>4.2</td><td>1.5</td><td>versicolor</td></tr>\n",
       "\t<tr><th scope=row>73</th><td>6.3</td><td>2.5</td><td>4.9</td><td>1.5</td><td>versicolor</td></tr>\n",
       "\t<tr><th scope=row>84</th><td>6.0</td><td>2.7</td><td>5.1</td><td>1.6</td><td>versicolor</td></tr>\n",
       "\t<tr><th scope=row>95</th><td>5.6</td><td>2.7</td><td>4.2</td><td>1.3</td><td>versicolor</td></tr>\n",
       "\t<tr><th scope=row>106</th><td>7.6</td><td>3.0</td><td>6.6</td><td>2.1</td><td>virginica </td></tr>\n",
       "\t<tr><th scope=row>117</th><td>6.5</td><td>3.0</td><td>5.5</td><td>1.8</td><td>virginica </td></tr>\n",
       "\t<tr><th scope=row>128</th><td>6.1</td><td>3.0</td><td>4.9</td><td>1.8</td><td>virginica </td></tr>\n",
       "\t<tr><th scope=row>139</th><td>6.0</td><td>3.0</td><td>4.8</td><td>1.8</td><td>virginica </td></tr>\n",
       "\t<tr><th scope=row>150</th><td>5.9</td><td>3.0</td><td>5.1</td><td>1.8</td><td>virginica </td></tr>\n",
       "</tbody>\n",
       "</table>\n"
      ],
      "text/latex": [
       "A data.frame: 14 × 5\n",
       "\\begin{tabular}{r|lllll}\n",
       "  & Sepal.Length & Sepal.Width & Petal.Length & Petal.Width & Species\\\\\n",
       "  & <dbl> & <dbl> & <dbl> & <dbl> & <fct>\\\\\n",
       "\\hline\n",
       "\t7 & 4.6 & 3.4 & 1.4 & 0.3 & setosa    \\\\\n",
       "\t18 & 5.1 & 3.5 & 1.4 & 0.3 & setosa    \\\\\n",
       "\t29 & 5.2 & 3.4 & 1.4 & 0.2 & setosa    \\\\\n",
       "\t40 & 5.1 & 3.4 & 1.5 & 0.2 & setosa    \\\\\n",
       "\t51 & 7.0 & 3.2 & 4.7 & 1.4 & versicolor\\\\\n",
       "\t62 & 5.9 & 3.0 & 4.2 & 1.5 & versicolor\\\\\n",
       "\t73 & 6.3 & 2.5 & 4.9 & 1.5 & versicolor\\\\\n",
       "\t84 & 6.0 & 2.7 & 5.1 & 1.6 & versicolor\\\\\n",
       "\t95 & 5.6 & 2.7 & 4.2 & 1.3 & versicolor\\\\\n",
       "\t106 & 7.6 & 3.0 & 6.6 & 2.1 & virginica \\\\\n",
       "\t117 & 6.5 & 3.0 & 5.5 & 1.8 & virginica \\\\\n",
       "\t128 & 6.1 & 3.0 & 4.9 & 1.8 & virginica \\\\\n",
       "\t139 & 6.0 & 3.0 & 4.8 & 1.8 & virginica \\\\\n",
       "\t150 & 5.9 & 3.0 & 5.1 & 1.8 & virginica \\\\\n",
       "\\end{tabular}\n"
      ],
      "text/markdown": [
       "\n",
       "A data.frame: 14 × 5\n",
       "\n",
       "| <!--/--> | Sepal.Length &lt;dbl&gt; | Sepal.Width &lt;dbl&gt; | Petal.Length &lt;dbl&gt; | Petal.Width &lt;dbl&gt; | Species &lt;fct&gt; |\n",
       "|---|---|---|---|---|---|\n",
       "| 7 | 4.6 | 3.4 | 1.4 | 0.3 | setosa     |\n",
       "| 18 | 5.1 | 3.5 | 1.4 | 0.3 | setosa     |\n",
       "| 29 | 5.2 | 3.4 | 1.4 | 0.2 | setosa     |\n",
       "| 40 | 5.1 | 3.4 | 1.5 | 0.2 | setosa     |\n",
       "| 51 | 7.0 | 3.2 | 4.7 | 1.4 | versicolor |\n",
       "| 62 | 5.9 | 3.0 | 4.2 | 1.5 | versicolor |\n",
       "| 73 | 6.3 | 2.5 | 4.9 | 1.5 | versicolor |\n",
       "| 84 | 6.0 | 2.7 | 5.1 | 1.6 | versicolor |\n",
       "| 95 | 5.6 | 2.7 | 4.2 | 1.3 | versicolor |\n",
       "| 106 | 7.6 | 3.0 | 6.6 | 2.1 | virginica  |\n",
       "| 117 | 6.5 | 3.0 | 5.5 | 1.8 | virginica  |\n",
       "| 128 | 6.1 | 3.0 | 4.9 | 1.8 | virginica  |\n",
       "| 139 | 6.0 | 3.0 | 4.8 | 1.8 | virginica  |\n",
       "| 150 | 5.9 | 3.0 | 5.1 | 1.8 | virginica  |\n",
       "\n"
      ],
      "text/plain": [
       "    Sepal.Length Sepal.Width Petal.Length Petal.Width Species   \n",
       "7   4.6          3.4         1.4          0.3         setosa    \n",
       "18  5.1          3.5         1.4          0.3         setosa    \n",
       "29  5.2          3.4         1.4          0.2         setosa    \n",
       "40  5.1          3.4         1.5          0.2         setosa    \n",
       "51  7.0          3.2         4.7          1.4         versicolor\n",
       "62  5.9          3.0         4.2          1.5         versicolor\n",
       "73  6.3          2.5         4.9          1.5         versicolor\n",
       "84  6.0          2.7         5.1          1.6         versicolor\n",
       "95  5.6          2.7         4.2          1.3         versicolor\n",
       "106 7.6          3.0         6.6          2.1         virginica \n",
       "117 6.5          3.0         5.5          1.8         virginica \n",
       "128 6.1          3.0         4.9          1.8         virginica \n",
       "139 6.0          3.0         4.8          1.8         virginica \n",
       "150 5.9          3.0         5.1          1.8         virginica "
      ]
     },
     "metadata": {},
     "output_type": "display_data"
    },
    {
     "data": {
      "text/html": [
       "<style>\n",
       ".list-inline {list-style: none; margin:0; padding: 0}\n",
       ".list-inline>li {display: inline-block}\n",
       ".list-inline>li:not(:last-child)::after {content: \"\\00b7\"; padding: 0 .5ex}\n",
       "</style>\n",
       "<ol class=list-inline><li>14</li><li>5</li></ol>\n"
      ],
      "text/latex": [
       "\\begin{enumerate*}\n",
       "\\item 14\n",
       "\\item 5\n",
       "\\end{enumerate*}\n"
      ],
      "text/markdown": [
       "1. 14\n",
       "2. 5\n",
       "\n",
       "\n"
      ],
      "text/plain": [
       "[1] 14  5"
      ]
     },
     "metadata": {},
     "output_type": "display_data"
    }
   ],
   "source": [
    "amostra = S.SY(N=150, a=11)\n",
    "amostra\n",
    "dim(amostra)\n",
    "amostra_iris = iris[amostra, ]\n",
    "amostra_iris\n",
    "dim(amostra_iris)"
   ]
  },
  {
   "cell_type": "markdown",
   "metadata": {},
   "source": [
    "## Amostragem Estratificada"
   ]
  },
  {
   "cell_type": "markdown",
   "metadata": {},
   "source": [
    "## Pacote sampling\n",
    "- Defina uma proporção | Elementos de cada espécie (estrato)\n",
    "- strata() -> Retorna uma amostra estratificada\n",
    "- data= -> banco de dados\n",
    "- stratanames= -> Coluna que indica as espécies\n",
    "- size= -> Indica a proporção e o número de espécies\n",
    "- rep() -> Repete o vetor c() para cada espécie\n",
    "\n",
    "### method= -> Tipo da amostra estratificada\n",
    "- 'srswor' -> amostra simples sem reposição\n",
    "- 'srswr' -> amostra simples com reposição"
   ]
  },
  {
   "cell_type": "code",
   "execution_count": 113,
   "metadata": {
    "vscode": {
     "languageId": "r"
    }
   },
   "outputs": [
    {
     "data": {
      "text/plain": [
       "       Species      ID_unit            Prob        Stratum \n",
       " setosa    :25   Min.   :  6.00   Min.   :0.5   Min.   :1  \n",
       " versicolor:25   1st Qu.: 39.00   1st Qu.:0.5   1st Qu.:1  \n",
       " virginica :25   Median : 79.00   Median :0.5   Median :2  \n",
       "                 Mean   : 76.76   Mean   :0.5   Mean   :2  \n",
       "                 3rd Qu.:111.00   3rd Qu.:0.5   3rd Qu.:3  \n",
       "                 Max.   :150.00   Max.   :0.5   Max.   :3  "
      ]
     },
     "metadata": {},
     "output_type": "display_data"
    },
    {
     "data": {
      "text/html": [
       "<style>\n",
       ".list-inline {list-style: none; margin:0; padding: 0}\n",
       ".list-inline>li {display: inline-block}\n",
       ".list-inline>li:not(:last-child)::after {content: \"\\00b7\"; padding: 0 .5ex}\n",
       "</style>\n",
       "<ol class=list-inline><li>75</li><li>4</li></ol>\n"
      ],
      "text/latex": [
       "\\begin{enumerate*}\n",
       "\\item 75\n",
       "\\item 4\n",
       "\\end{enumerate*}\n"
      ],
      "text/markdown": [
       "1. 75\n",
       "2. 4\n",
       "\n",
       "\n"
      ],
      "text/plain": [
       "[1] 75  4"
      ]
     },
     "metadata": {},
     "output_type": "display_data"
    }
   ],
   "source": [
    "proporcao = 25\n",
    "amostra_iris_estratificada = strata(\n",
    "    data=iris, stratanames=c('Species'), size=c(rep(proporcao, 3)),\n",
    "    method='srswor'\n",
    ")\n",
    "summary(amostra_iris_estratificada)\n",
    "dim(amostra_iris_estratificada)"
   ]
  },
  {
   "cell_type": "markdown",
   "metadata": {},
   "source": [
    "## DB -> infert"
   ]
  },
  {
   "cell_type": "code",
   "execution_count": 114,
   "metadata": {
    "vscode": {
     "languageId": "r"
    }
   },
   "outputs": [
    {
     "data": {
      "text/plain": [
       "   education        age            parity         induced      \n",
       " 0-5yrs : 12   Min.   :21.00   Min.   :1.000   Min.   :0.0000  \n",
       " 6-11yrs:120   1st Qu.:28.00   1st Qu.:1.000   1st Qu.:0.0000  \n",
       " 12+ yrs:116   Median :31.00   Median :2.000   Median :0.0000  \n",
       "               Mean   :31.50   Mean   :2.093   Mean   :0.5726  \n",
       "               3rd Qu.:35.25   3rd Qu.:3.000   3rd Qu.:1.0000  \n",
       "               Max.   :44.00   Max.   :6.000   Max.   :2.0000  \n",
       "      case         spontaneous        stratum      pooled.stratum \n",
       " Min.   :0.0000   Min.   :0.0000   Min.   : 1.00   Min.   : 1.00  \n",
       " 1st Qu.:0.0000   1st Qu.:0.0000   1st Qu.:21.00   1st Qu.:19.00  \n",
       " Median :0.0000   Median :0.0000   Median :42.00   Median :36.00  \n",
       " Mean   :0.3347   Mean   :0.5766   Mean   :41.87   Mean   :33.58  \n",
       " 3rd Qu.:1.0000   3rd Qu.:1.0000   3rd Qu.:62.25   3rd Qu.:48.25  \n",
       " Max.   :1.0000   Max.   :2.0000   Max.   :83.00   Max.   :63.00  "
      ]
     },
     "metadata": {},
     "output_type": "display_data"
    },
    {
     "data": {
      "text/html": [
       "<table class=\"dataframe\">\n",
       "<caption>A data.frame: 6 × 8</caption>\n",
       "<thead>\n",
       "\t<tr><th></th><th scope=col>education</th><th scope=col>age</th><th scope=col>parity</th><th scope=col>induced</th><th scope=col>case</th><th scope=col>spontaneous</th><th scope=col>stratum</th><th scope=col>pooled.stratum</th></tr>\n",
       "\t<tr><th></th><th scope=col>&lt;fct&gt;</th><th scope=col>&lt;dbl&gt;</th><th scope=col>&lt;dbl&gt;</th><th scope=col>&lt;dbl&gt;</th><th scope=col>&lt;dbl&gt;</th><th scope=col>&lt;dbl&gt;</th><th scope=col>&lt;int&gt;</th><th scope=col>&lt;dbl&gt;</th></tr>\n",
       "</thead>\n",
       "<tbody>\n",
       "\t<tr><th scope=row>1</th><td>0-5yrs </td><td>26</td><td>6</td><td>1</td><td>1</td><td>2</td><td>1</td><td> 3</td></tr>\n",
       "\t<tr><th scope=row>2</th><td>0-5yrs </td><td>42</td><td>1</td><td>1</td><td>1</td><td>0</td><td>2</td><td> 1</td></tr>\n",
       "\t<tr><th scope=row>3</th><td>0-5yrs </td><td>39</td><td>6</td><td>2</td><td>1</td><td>0</td><td>3</td><td> 4</td></tr>\n",
       "\t<tr><th scope=row>4</th><td>0-5yrs </td><td>34</td><td>4</td><td>2</td><td>1</td><td>0</td><td>4</td><td> 2</td></tr>\n",
       "\t<tr><th scope=row>5</th><td>6-11yrs</td><td>35</td><td>3</td><td>1</td><td>1</td><td>1</td><td>5</td><td>32</td></tr>\n",
       "\t<tr><th scope=row>6</th><td>6-11yrs</td><td>36</td><td>4</td><td>2</td><td>1</td><td>1</td><td>6</td><td>36</td></tr>\n",
       "</tbody>\n",
       "</table>\n"
      ],
      "text/latex": [
       "A data.frame: 6 × 8\n",
       "\\begin{tabular}{r|llllllll}\n",
       "  & education & age & parity & induced & case & spontaneous & stratum & pooled.stratum\\\\\n",
       "  & <fct> & <dbl> & <dbl> & <dbl> & <dbl> & <dbl> & <int> & <dbl>\\\\\n",
       "\\hline\n",
       "\t1 & 0-5yrs  & 26 & 6 & 1 & 1 & 2 & 1 &  3\\\\\n",
       "\t2 & 0-5yrs  & 42 & 1 & 1 & 1 & 0 & 2 &  1\\\\\n",
       "\t3 & 0-5yrs  & 39 & 6 & 2 & 1 & 0 & 3 &  4\\\\\n",
       "\t4 & 0-5yrs  & 34 & 4 & 2 & 1 & 0 & 4 &  2\\\\\n",
       "\t5 & 6-11yrs & 35 & 3 & 1 & 1 & 1 & 5 & 32\\\\\n",
       "\t6 & 6-11yrs & 36 & 4 & 2 & 1 & 1 & 6 & 36\\\\\n",
       "\\end{tabular}\n"
      ],
      "text/markdown": [
       "\n",
       "A data.frame: 6 × 8\n",
       "\n",
       "| <!--/--> | education &lt;fct&gt; | age &lt;dbl&gt; | parity &lt;dbl&gt; | induced &lt;dbl&gt; | case &lt;dbl&gt; | spontaneous &lt;dbl&gt; | stratum &lt;int&gt; | pooled.stratum &lt;dbl&gt; |\n",
       "|---|---|---|---|---|---|---|---|---|\n",
       "| 1 | 0-5yrs  | 26 | 6 | 1 | 1 | 2 | 1 |  3 |\n",
       "| 2 | 0-5yrs  | 42 | 1 | 1 | 1 | 0 | 2 |  1 |\n",
       "| 3 | 0-5yrs  | 39 | 6 | 2 | 1 | 0 | 3 |  4 |\n",
       "| 4 | 0-5yrs  | 34 | 4 | 2 | 1 | 0 | 4 |  2 |\n",
       "| 5 | 6-11yrs | 35 | 3 | 1 | 1 | 1 | 5 | 32 |\n",
       "| 6 | 6-11yrs | 36 | 4 | 2 | 1 | 1 | 6 | 36 |\n",
       "\n"
      ],
      "text/plain": [
       "  education age parity induced case spontaneous stratum pooled.stratum\n",
       "1 0-5yrs    26  6      1       1    2           1        3            \n",
       "2 0-5yrs    42  1      1       1    0           2        1            \n",
       "3 0-5yrs    39  6      2       1    0           3        4            \n",
       "4 0-5yrs    34  4      2       1    0           4        2            \n",
       "5 6-11yrs   35  3      1       1    1           5       32            \n",
       "6 6-11yrs   36  4      2       1    1           6       36            "
      ]
     },
     "metadata": {},
     "output_type": "display_data"
    },
    {
     "data": {
      "text/html": [
       "<style>\n",
       ".list-inline {list-style: none; margin:0; padding: 0}\n",
       ".list-inline>li {display: inline-block}\n",
       ".list-inline>li:not(:last-child)::after {content: \"\\00b7\"; padding: 0 .5ex}\n",
       "</style>\n",
       "<ol class=list-inline><li>248</li><li>8</li></ol>\n"
      ],
      "text/latex": [
       "\\begin{enumerate*}\n",
       "\\item 248\n",
       "\\item 8\n",
       "\\end{enumerate*}\n"
      ],
      "text/markdown": [
       "1. 248\n",
       "2. 8\n",
       "\n",
       "\n"
      ],
      "text/plain": [
       "[1] 248   8"
      ]
     },
     "metadata": {},
     "output_type": "display_data"
    }
   ],
   "source": [
    "summary(infert)\n",
    "head(infert)\n",
    "dim(infert)"
   ]
  },
  {
   "cell_type": "markdown",
   "metadata": {},
   "source": [
    "### Mantendo proporções para estratos com diferentes valores\n",
    "- Diferentes valores na coluna education\n",
    "- c(5, 48, 47) -> Utilize a mesma ordem em que os elementos aparecem no banco\n",
    "de dados"
   ]
  },
  {
   "cell_type": "code",
   "execution_count": 115,
   "metadata": {
    "vscode": {
     "languageId": "r"
    }
   },
   "outputs": [
    {
     "data": {
      "text/plain": [
       "   education     ID_unit            Prob           Stratum    \n",
       " 0-5yrs : 5   Min.   :  3.00   Min.   :0.4000   Min.   :1.00  \n",
       " 6-11yrs:48   1st Qu.: 59.75   1st Qu.:0.4000   1st Qu.:2.00  \n",
       " 12+ yrs:47   Median :123.50   Median :0.4052   Median :2.00  \n",
       "              Mean   :121.02   Mean   :0.4033   Mean   :2.42  \n",
       "              3rd Qu.:170.75   3rd Qu.:0.4052   3rd Qu.:3.00  \n",
       "              Max.   :244.00   Max.   :0.4167   Max.   :3.00  "
      ]
     },
     "metadata": {},
     "output_type": "display_data"
    },
    {
     "data": {
      "text/html": [
       "<style>\n",
       ".list-inline {list-style: none; margin:0; padding: 0}\n",
       ".list-inline>li {display: inline-block}\n",
       ".list-inline>li:not(:last-child)::after {content: \"\\00b7\"; padding: 0 .5ex}\n",
       "</style>\n",
       "<ol class=list-inline><li>100</li><li>4</li></ol>\n"
      ],
      "text/latex": [
       "\\begin{enumerate*}\n",
       "\\item 100\n",
       "\\item 4\n",
       "\\end{enumerate*}\n"
      ],
      "text/markdown": [
       "1. 100\n",
       "2. 4\n",
       "\n",
       "\n"
      ],
      "text/plain": [
       "[1] 100   4"
      ]
     },
     "metadata": {},
     "output_type": "display_data"
    }
   ],
   "source": [
    "amostra_infert = strata(\n",
    "    data=infert, stratanames=c('education'), size=c(5, 48, 47),\n",
    "    method='srswor'\n",
    ")\n",
    "summary(amostra_infert)\n",
    "dim(amostra_infert)"
   ]
  }
 ],
 "metadata": {
  "kernelspec": {
   "display_name": "R",
   "language": "R",
   "name": "ir"
  },
  "language_info": {
   "codemirror_mode": "r",
   "file_extension": ".r",
   "mimetype": "text/x-r-source",
   "name": "R",
   "pygments_lexer": "r",
   "version": "4.3.2"
  }
 },
 "nbformat": 4,
 "nbformat_minor": 2
}
