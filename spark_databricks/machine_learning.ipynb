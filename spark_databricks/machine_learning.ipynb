{
 "cells": [
  {
   "cell_type": "code",
   "execution_count": 0,
   "metadata": {
    "application/vnd.databricks.v1+cell": {
     "cellMetadata": {
      "byteLimit": 2048000,
      "rowLimit": 10000
     },
     "inputWidgets": {},
     "nuid": "22564f38-debb-4932-b129-6e6fd4c40b43",
     "showTitle": false,
     "title": ""
    }
   },
   "outputs": [],
   "source": [
    "from pyspark.ml.regression import LinearRegression, RandomForestRegressor\n",
    "from pyspark.ml.evaluation import RegressionEvaluator\n",
    "from pyspark.ml.feature import VectorAssembler"
   ]
  },
  {
   "cell_type": "code",
   "execution_count": 0,
   "metadata": {
    "application/vnd.databricks.v1+cell": {
     "cellMetadata": {
      "byteLimit": 2048000,
      "rowLimit": 10000
     },
     "inputWidgets": {},
     "nuid": "dc52b895-ea64-4865-aeca-196c6e56d80b",
     "showTitle": false,
     "title": ""
    }
   },
   "outputs": [
    {
     "output_type": "stream",
     "name": "stdout",
     "output_type": "stream",
     "text": [
      "+-------+---------+-----------+---------------+----+-----+---------+-----------+-------+-----------+---+\n|Consumo|Cilindros|Cilindradas|RelEixoTraseiro|Peso|Tempo|TipoMotor|Transmissao|Marchas|Carburadors| HP|\n+-------+---------+-----------+---------------+----+-----+---------+-----------+-------+-----------+---+\n|     21|        6|        160|             39| 262| 1646|        0|          1|      4|          4|110|\n|     21|        6|        160|             39|2875| 1702|        0|          1|      4|          4|110|\n|    228|        4|        108|            385| 232| 1861|        1|          1|      4|          1| 93|\n|    214|        6|        258|            308|3215| 1944|        1|          0|      3|          1|110|\n|    187|        8|        360|            315| 344| 1702|        0|          0|      3|          2|175|\n+-------+---------+-----------+---------------+----+-----+---------+-----------+-------+-----------+---+\nonly showing top 5 rows\n\n"
     ]
    }
   ],
   "source": [
    "#importa\n",
    "Carros_temp = spark.read.csv(\"/FileStore/tables/Carros.csv\",inferSchema=True, header=True, sep=\";\")\n",
    "Carros_temp.show(5)"
   ]
  },
  {
   "cell_type": "code",
   "execution_count": 0,
   "metadata": {
    "application/vnd.databricks.v1+cell": {
     "cellMetadata": {
      "byteLimit": 2048000,
      "rowLimit": 10000
     },
     "inputWidgets": {},
     "nuid": "a3fca0a8-08cd-42b9-811e-b6ecdc40bb45",
     "showTitle": false,
     "title": ""
    }
   },
   "outputs": [
    {
     "output_type": "stream",
     "name": "stdout",
     "output_type": "stream",
     "text": [
      "+-------+---------+-----------+---+\n|Consumo|Cilindros|Cilindradas| HP|\n+-------+---------+-----------+---+\n|     21|        6|        160|110|\n|     21|        6|        160|110|\n|    228|        4|        108| 93|\n|    214|        6|        258|110|\n|    187|        8|        360|175|\n+-------+---------+-----------+---+\nonly showing top 5 rows\n\n"
     ]
    }
   ],
   "source": [
    "#separa colunas\n",
    "Carros = Carros_temp.select(\"Consumo\",\"Cilindros\",\"Cilindradas\",\"HP\")\n",
    "Carros.show(5)"
   ]
  },
  {
   "cell_type": "code",
   "execution_count": 0,
   "metadata": {
    "application/vnd.databricks.v1+cell": {
     "cellMetadata": {
      "byteLimit": 2048000,
      "rowLimit": 10000
     },
     "inputWidgets": {},
     "nuid": "d78cfb1b-876b-4a92-8264-9d5df0207efb",
     "showTitle": false,
     "title": ""
    }
   },
   "outputs": [
    {
     "output_type": "stream",
     "name": "stdout",
     "output_type": "stream",
     "text": [
      "+-------+---------+-----------+---+-----------------+\n|Consumo|Cilindros|Cilindradas| HP|  caracteristicas|\n+-------+---------+-----------+---+-----------------+\n|     21|        6|        160|110| [21.0,6.0,160.0]|\n|     21|        6|        160|110| [21.0,6.0,160.0]|\n|    228|        4|        108| 93|[228.0,4.0,108.0]|\n|    214|        6|        258|110|[214.0,6.0,258.0]|\n|    187|        8|        360|175|[187.0,8.0,360.0]|\n+-------+---------+-----------+---+-----------------+\nonly showing top 5 rows\n\n"
     ]
    }
   ],
   "source": [
    "#vetoriza atributos\n",
    "veccaracteristicas = VectorAssembler(inputCols=[(\"Consumo\"),(\"Cilindros\"),(\"Cilindradas\")],outputCol=\"caracteristicas\")\n",
    "Carros = veccaracteristicas.transform(Carros)\n",
    "Carros.show(5)"
   ]
  },
  {
   "cell_type": "code",
   "execution_count": 0,
   "metadata": {
    "application/vnd.databricks.v1+cell": {
     "cellMetadata": {
      "byteLimit": 2048000,
      "rowLimit": 10000
     },
     "inputWidgets": {},
     "nuid": "c413c428-f5e8-4d93-b9bf-fd479fd99dcb",
     "showTitle": false,
     "title": ""
    }
   },
   "outputs": [
    {
     "output_type": "stream",
     "name": "stdout",
     "output_type": "stream",
     "text": [
      "23\n9\n"
     ]
    }
   ],
   "source": [
    "#divide treino e teste\n",
    "CarrosTreino, CarrosTeste = Carros.randomSplit([0.7,0.3])\n",
    "print(CarrosTreino.count())\n",
    "print(CarrosTeste.count())"
   ]
  },
  {
   "cell_type": "code",
   "execution_count": 0,
   "metadata": {
    "application/vnd.databricks.v1+cell": {
     "cellMetadata": {
      "byteLimit": 2048000,
      "rowLimit": 10000
     },
     "inputWidgets": {},
     "nuid": "7748da9c-02ad-4d61-a371-52ae987633c7",
     "showTitle": false,
     "title": ""
    }
   },
   "outputs": [],
   "source": [
    "#modelo\n",
    "reglin = LinearRegression(featuresCol=\"caracteristicas\", labelCol=\"HP\")\n",
    "modelo = reglin.fit(CarrosTreino)"
   ]
  },
  {
   "cell_type": "code",
   "execution_count": 0,
   "metadata": {
    "application/vnd.databricks.v1+cell": {
     "cellMetadata": {
      "byteLimit": 2048000,
      "rowLimit": 10000
     },
     "inputWidgets": {},
     "nuid": "6a2eb0da-686a-423f-a6f2-1f6c60a75fb2",
     "showTitle": false,
     "title": ""
    }
   },
   "outputs": [
    {
     "output_type": "stream",
     "name": "stdout",
     "output_type": "stream",
     "text": [
      "+-------+---------+-----------+---+-----------------+------------------+\n|Consumo|Cilindros|Cilindradas| HP|  caracteristicas|        prediction|\n+-------+---------+-----------+---+-----------------+------------------+\n|     26|        4|       1203| 91|[26.0,4.0,1203.0]| 84.79383603226813|\n|    104|        8|        460|215|[104.0,8.0,460.0]|218.68051001162448|\n|    143|        8|        360|245|[143.0,8.0,360.0]|217.08701930256075|\n|    152|        8|        304|150|[152.0,8.0,304.0]|217.02512487765614|\n|    155|        8|        318|150|[155.0,8.0,318.0]| 216.7010410887189|\n+-------+---------+-----------+---+-----------------+------------------+\nonly showing top 5 rows\n\n"
     ]
    }
   ],
   "source": [
    "#prever\n",
    "previsao = modelo.transform(CarrosTeste)\n",
    "previsao.show(5)"
   ]
  },
  {
   "cell_type": "code",
   "execution_count": 0,
   "metadata": {
    "application/vnd.databricks.v1+cell": {
     "cellMetadata": {
      "byteLimit": 2048000,
      "rowLimit": 10000
     },
     "inputWidgets": {},
     "nuid": "84598cff-43a8-452c-b26d-38057063594b",
     "showTitle": false,
     "title": ""
    }
   },
   "outputs": [
    {
     "output_type": "stream",
     "name": "stdout",
     "output_type": "stream",
     "text": [
      "33.578532786474575\n"
     ]
    }
   ],
   "source": [
    "#avaliar performance\n",
    "avaliar = RegressionEvaluator(predictionCol=\"prediction\", labelCol=\"HP\",metricName='rmse')\n",
    "rmse = avaliar.evaluate(previsao)\n",
    "print(rmse)"
   ]
  },
  {
   "cell_type": "code",
   "execution_count": 0,
   "metadata": {
    "application/vnd.databricks.v1+cell": {
     "cellMetadata": {
      "byteLimit": 2048000,
      "rowLimit": 10000
     },
     "inputWidgets": {},
     "nuid": "4ee1f65a-42be-4428-a10f-d1d7584c6495",
     "showTitle": false,
     "title": ""
    }
   },
   "outputs": [],
   "source": []
  }
 ],
 "metadata": {
  "application/vnd.databricks.v1+notebook": {
   "dashboards": [],
   "language": "python",
   "notebookMetadata": {
    "pythonIndentUnit": 2
   },
   "notebookName": "2.Ml",
   "widgets": {}
  }
 },
 "nbformat": 4,
 "nbformat_minor": 0
}
