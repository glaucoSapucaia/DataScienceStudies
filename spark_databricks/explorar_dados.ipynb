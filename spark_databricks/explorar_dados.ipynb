{
 "cells": [
  {
   "cell_type": "code",
   "execution_count": 0,
   "metadata": {
    "application/vnd.databricks.v1+cell": {
     "cellMetadata": {
      "byteLimit": 2048000,
      "rowLimit": 10000
     },
     "inputWidgets": {},
     "nuid": "9931fbeb-b329-476d-a2ae-8a1ea5206e4b",
     "showTitle": false,
     "title": ""
    }
   },
   "outputs": [],
   "source": [
    "#Formação Cientista de Dados\n",
    "from pyspark.sql import SparkSession"
   ]
  },
  {
   "cell_type": "code",
   "execution_count": 0,
   "metadata": {
    "application/vnd.databricks.v1+cell": {
     "cellMetadata": {
      "byteLimit": 2048000,
      "rowLimit": 10000
     },
     "inputWidgets": {},
     "nuid": "56097d7d-e31a-4457-a9f5-04a2ed24d5b5",
     "showTitle": false,
     "title": ""
    }
   },
   "outputs": [
    {
     "output_type": "stream",
     "name": "stdout",
     "output_type": "stream",
     "text": [
      "+-------+---------+-----------+---------------+----+-----+---------+-----------+-------+-----------+---+\n|Consumo|Cilindros|Cilindradas|RelEixoTraseiro|Peso|Tempo|TipoMotor|Transmissao|Marchas|Carburadors| HP|\n+-------+---------+-----------+---------------+----+-----+---------+-----------+-------+-----------+---+\n|     21|        6|        160|             39| 262| 1646|        0|          1|      4|          4|110|\n|     21|        6|        160|             39|2875| 1702|        0|          1|      4|          4|110|\n|    228|        4|        108|            385| 232| 1861|        1|          1|      4|          1| 93|\n|    214|        6|        258|            308|3215| 1944|        1|          0|      3|          1|110|\n|    187|        8|        360|            315| 344| 1702|        0|          0|      3|          2|175|\n+-------+---------+-----------+---------------+----+-----+---------+-----------+-------+-----------+---+\nonly showing top 5 rows\n\n"
     ]
    }
   ],
   "source": [
    "carros = spark.read.csv(\"/FileStore/tables/Carros.csv\", header=True, sep=\";\",inferSchema=True)\n",
    "carros.show(5)"
   ]
  },
  {
   "cell_type": "code",
   "execution_count": 0,
   "metadata": {
    "application/vnd.databricks.v1+cell": {
     "cellMetadata": {
      "byteLimit": 2048000,
      "rowLimit": 10000
     },
     "inputWidgets": {},
     "nuid": "06d48a5d-eb90-4f3e-b759-140e6c0e9bb9",
     "showTitle": false,
     "title": ""
    }
   },
   "outputs": [
    {
     "output_type": "stream",
     "name": "stdout",
     "output_type": "stream",
     "text": [
      "Out[3]: StructType([StructField('Consumo', IntegerType(), True), StructField('Cilindros', IntegerType(), True), StructField('Cilindradas', IntegerType(), True), StructField('RelEixoTraseiro', IntegerType(), True), StructField('Peso', IntegerType(), True), StructField('Tempo', IntegerType(), True), StructField('TipoMotor', IntegerType(), True), StructField('Transmissao', IntegerType(), True), StructField('Marchas', IntegerType(), True), StructField('Carburadors', IntegerType(), True), StructField('HP', IntegerType(), True)])"
     ]
    }
   ],
   "source": [
    "carros.schema"
   ]
  },
  {
   "cell_type": "code",
   "execution_count": 0,
   "metadata": {
    "application/vnd.databricks.v1+cell": {
     "cellMetadata": {
      "byteLimit": 2048000,
      "rowLimit": 10000
     },
     "inputWidgets": {},
     "nuid": "5810956e-a839-4b6c-913d-f98e811911ae",
     "showTitle": false,
     "title": ""
    }
   },
   "outputs": [
    {
     "output_type": "stream",
     "name": "stdout",
     "output_type": "stream",
     "text": [
      "Out[4]: 32"
     ]
    }
   ],
   "source": [
    "carros.count()"
   ]
  },
  {
   "cell_type": "code",
   "execution_count": 0,
   "metadata": {
    "application/vnd.databricks.v1+cell": {
     "cellMetadata": {
      "byteLimit": 2048000,
      "rowLimit": 10000
     },
     "inputWidgets": {},
     "nuid": "73dbeefb-ad3c-4ddb-b584-1981eb67720d",
     "showTitle": false,
     "title": ""
    }
   },
   "outputs": [
    {
     "output_type": "stream",
     "name": "stdout",
     "output_type": "stream",
     "text": [
      "Out[5]: ['Consumo',\n 'Cilindros',\n 'Cilindradas',\n 'RelEixoTraseiro',\n 'Peso',\n 'Tempo',\n 'TipoMotor',\n 'Transmissao',\n 'Marchas',\n 'Carburadors',\n 'HP']"
     ]
    }
   ],
   "source": [
    "carros.columns"
   ]
  },
  {
   "cell_type": "code",
   "execution_count": 0,
   "metadata": {
    "application/vnd.databricks.v1+cell": {
     "cellMetadata": {
      "byteLimit": 2048000,
      "rowLimit": 10000
     },
     "inputWidgets": {},
     "nuid": "7f28353d-56e9-48d4-98d5-7f7e0ea73135",
     "showTitle": false,
     "title": ""
    }
   },
   "outputs": [
    {
     "output_type": "stream",
     "name": "stdout",
     "output_type": "stream",
     "text": [
      "+-------+---------+\n|Consumo|Cilindros|\n+-------+---------+\n|     21|        6|\n|     21|        6|\n|    228|        4|\n|    214|        6|\n|    187|        8|\n+-------+---------+\nonly showing top 5 rows\n\n"
     ]
    }
   ],
   "source": [
    "carros.select(\"Consumo\",\"Cilindros\").show(5)"
   ]
  },
  {
   "cell_type": "code",
   "execution_count": 0,
   "metadata": {
    "application/vnd.databricks.v1+cell": {
     "cellMetadata": {
      "byteLimit": 2048000,
      "rowLimit": 10000
     },
     "inputWidgets": {},
     "nuid": "76525701-8a4d-4e6b-bd76-dc6f8ec18cce",
     "showTitle": false,
     "title": ""
    }
   },
   "outputs": [
    {
     "output_type": "stream",
     "name": "stdout",
     "output_type": "stream",
     "text": [
      "+-------+---------+\n|Consumo|Cilindros|\n+-------+---------+\n|    187|        8|\n|    143|        8|\n|    164|        8|\n|    173|        8|\n|    152|        8|\n|    104|        8|\n|    104|        8|\n|    147|        8|\n|    155|        8|\n|    152|        8|\n|    133|        8|\n|    192|        8|\n|    158|        8|\n|     15|        8|\n+-------+---------+\n\n"
     ]
    }
   ],
   "source": [
    "from pyspark.sql import functions as Func\n",
    "carros.select(\"Consumo\",\"Cilindros\").where(Func.col(\"Cilindros\") > 6).show()"
   ]
  },
  {
   "cell_type": "code",
   "execution_count": 0,
   "metadata": {
    "application/vnd.databricks.v1+cell": {
     "cellMetadata": {
      "byteLimit": 2048000,
      "rowLimit": 10000
     },
     "inputWidgets": {},
     "nuid": "4e4ae7cd-3f34-4155-8383-64a27b4fb670",
     "showTitle": false,
     "title": ""
    }
   },
   "outputs": [
    {
     "output_type": "stream",
     "name": "stdout",
     "output_type": "stream",
     "text": [
      "+-------+---------+-----------+---------------+----+-----+---------+-----------+-------+-----------+---+\n|Consumo|Cilindros|Cilindradas|RelEixoTraseiro|Peso|Tempo|TipoMotor|Transmissao|Marchas|Carburadors| HP|\n+-------+---------+-----------+---------------+----+-----+---------+-----------+-------+-----------+---+\n|    304|        4|        757|            493|1615| 1852|        1|          1|      4|          2| 52|\n|    244|        4|       1467|            369| 319|   20|        1|          0|      4|          2| 62|\n|    339|        4|        711|            422|1835|  199|        1|          1|      4|          1| 65|\n|    324|        4|        787|            408|  22| 1947|        1|          1|      4|          1| 66|\n|    273|        4|         79|            408|1935|  189|        1|          1|      4|          1| 66|\n+-------+---------+-----------+---------------+----+-----+---------+-----------+-------+-----------+---+\nonly showing top 5 rows\n\n"
     ]
    }
   ],
   "source": [
    "carros.orderBy(\"HP\").show(5)"
   ]
  },
  {
   "cell_type": "code",
   "execution_count": 0,
   "metadata": {
    "application/vnd.databricks.v1+cell": {
     "cellMetadata": {
      "byteLimit": 2048000,
      "rowLimit": 10000
     },
     "inputWidgets": {},
     "nuid": "457f376a-b163-4c76-8da7-de08e40ff6a1",
     "showTitle": false,
     "title": ""
    }
   },
   "outputs": [
    {
     "output_type": "stream",
     "name": "stdout",
     "output_type": "stream",
     "text": [
      "+-------+---------+-----------+---------------+----+-----+---------+-----------+-------+-----------+---+\n|Consumo|Cilindros|Cilindradas|RelEixoTraseiro|Peso|Tempo|TipoMotor|Transmissao|Marchas|Carburadors| HP|\n+-------+---------+-----------+---------------+----+-----+---------+-----------+-------+-----------+---+\n|     15|        8|        301|            354| 357|  146|        0|          1|      5|          8|335|\n|    158|        8|        351|            422| 317|  145|        0|          1|      5|          4|264|\n|    143|        8|        360|            321| 357| 1584|        0|          0|      3|          4|245|\n|    133|        8|        350|            373| 384| 1541|        0|          0|      3|          4|245|\n|    147|        8|        440|            323|5345| 1742|        0|          0|      3|          4|230|\n+-------+---------+-----------+---------------+----+-----+---------+-----------+-------+-----------+---+\nonly showing top 5 rows\n\n"
     ]
    }
   ],
   "source": [
    "carros.orderBy(Func.col(\"HP\").desc()).show(5)"
   ]
  },
  {
   "cell_type": "code",
   "execution_count": 0,
   "metadata": {
    "application/vnd.databricks.v1+cell": {
     "cellMetadata": {},
     "inputWidgets": {},
     "nuid": "786287b1-3df6-427b-9e37-c9d2abdb9a4c",
     "showTitle": false,
     "title": ""
    }
   },
   "outputs": [
    {
     "output_type": "display_data",
     "data": {
      "text/html": [
       "<style scoped>\n",
       "  .ansiout {\n",
       "    display: block;\n",
       "    unicode-bidi: embed;\n",
       "    white-space: pre-wrap;\n",
       "    word-wrap: break-word;\n",
       "    word-break: break-all;\n",
       "    font-family: \"Menlo\", \"Monaco\", \"Consolas\", \"Ubuntu Mono\", \"Source Code Pro\", monospace;\n",
       "    font-size: 13px;\n",
       "    color: #555;\n",
       "    margin-left: 4px;\n",
       "    line-height: 19px;\n",
       "  }\n",
       "</style>"
      ]
     },
     "metadata": {
      "application/vnd.databricks.v1+output": {
       "arguments": {},
       "data": "",
       "errorSummary": "",
       "errorTraceType": null,
       "metadata": {},
       "type": "ipynbError"
      }
     },
     "output_type": "display_data"
    }
   ],
   "source": []
  }
 ],
 "metadata": {
  "application/vnd.databricks.v1+notebook": {
   "dashboards": [],
   "language": "python",
   "notebookMetadata": {
    "pythonIndentUnit": 2
   },
   "notebookName": "1.Explorar",
   "widgets": {}
  }
 },
 "nbformat": 4,
 "nbformat_minor": 0
}
