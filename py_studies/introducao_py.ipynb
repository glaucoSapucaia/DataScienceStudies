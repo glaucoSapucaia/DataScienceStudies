{
 "cells": [
  {
   "cell_type": "code",
   "execution_count": 8,
   "metadata": {},
   "outputs": [
    {
     "name": "stdout",
     "output_type": "stream",
     "text": [
      "111\n"
     ]
    }
   ],
   "source": [
    "import numpy as np\n",
    "\n",
    "def amplitude(_min: int | float, _max: int | float) -> int | float:\n",
    "    return _max - _min\n",
    "\n",
    "lista = [list(range(23, 135, 3))]\n",
    "print(amplitude(np.min(lista), np.max(lista)))"
   ]
  },
  {
   "cell_type": "code",
   "execution_count": 7,
   "metadata": {},
   "outputs": [
    {
     "name": "stdout",
     "output_type": "stream",
     "text": [
      "P\n",
      "y\n",
      "t\n",
      "h\n",
      "o\n",
      "n\n"
     ]
    }
   ],
   "source": [
    "def my_print(lista: str) -> None:\n",
    "    for _ in lista:\n",
    "        print(_)\n",
    "\n",
    "texto = 'Python'\n",
    "my_print(texto)"
   ]
  },
  {
   "cell_type": "code",
   "execution_count": 21,
   "metadata": {},
   "outputs": [
    {
     "name": "stdout",
     "output_type": "stream",
     "text": [
      "36\n",
      "Muito pesado para transportar!\n"
     ]
    }
   ],
   "source": [
    "import random\n",
    "\n",
    "def service(weight: int) -> None:\n",
    "    if weight <= 10:\n",
    "        print('R$ 50,00 reais')\n",
    "        return\n",
    "    if weight >= 11 and weight <= 20:\n",
    "        print('R$ 80,00 reais')\n",
    "        return\n",
    "    print('Muito pesado para transportar!')\n",
    "\n",
    "peso = random.randint(1,40)\n",
    "print(peso)\n",
    "service(peso)\n"
   ]
  }
 ],
 "metadata": {
  "kernelspec": {
   "display_name": "venv",
   "language": "python",
   "name": "python3"
  },
  "language_info": {
   "codemirror_mode": {
    "name": "ipython",
    "version": 3
   },
   "file_extension": ".py",
   "mimetype": "text/x-python",
   "name": "python",
   "nbconvert_exporter": "python",
   "pygments_lexer": "ipython3",
   "version": "3.12.1"
  }
 },
 "nbformat": 4,
 "nbformat_minor": 2
}
