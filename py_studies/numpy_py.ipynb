{
 "cells": [
  {
   "cell_type": "code",
   "execution_count": 1,
   "metadata": {},
   "outputs": [
    {
     "name": "stdout",
     "output_type": "stream",
     "text": [
      "[1 2 3 4 5]\n",
      "<class 'numpy.ndarray'>\n"
     ]
    }
   ],
   "source": [
    "import numpy as np\n",
    "\n",
    "mt = np.array([1, 2, 3, 4, 5])\n",
    "print(mt)\n",
    "print(type(mt))"
   ]
  },
  {
   "cell_type": "code",
   "execution_count": 2,
   "metadata": {},
   "outputs": [
    {
     "name": "stdout",
     "output_type": "stream",
     "text": [
      "[1. 2. 3. 4.]\n",
      "<class 'numpy.ndarray'>\n",
      "[1 2 3 4]\n",
      "<class 'numpy.ndarray'>\n"
     ]
    }
   ],
   "source": [
    "mt2 = np.array([1, 2, 3, 4], dtype=np.float64)\n",
    "print(mt2)\n",
    "print(type(mt2))\n",
    "\n",
    "mt3 = np.array([1, 2, 3, 4], dtype=np.int64)\n",
    "print(mt3)\n",
    "print(type(mt3))"
   ]
  },
  {
   "cell_type": "code",
   "execution_count": 3,
   "metadata": {},
   "outputs": [
    {
     "name": "stdout",
     "output_type": "stream",
     "text": [
      "[  1.2   -4.6    2.1  -69.75]\n",
      "[  1  -4   2 -69]\n"
     ]
    }
   ],
   "source": [
    "mt4 = np.array([1.2, -4.6, 2.1, -69.75])\n",
    "print(mt4)\n",
    "mt4_2 = mt4.astype(np.int32)\n",
    "print(mt4_2)"
   ]
  },
  {
   "cell_type": "code",
   "execution_count": 4,
   "metadata": {},
   "outputs": [
    {
     "name": "stdout",
     "output_type": "stream",
     "text": [
      "[1 2 3 4]\n",
      "[1. 2. 3. 4.]\n"
     ]
    }
   ],
   "source": [
    "mt5 = np.array([1, 2, 3, 4])\n",
    "print(mt5)\n",
    "mt5_2 = mt5.astype(np.float64)\n",
    "print(mt5_2)"
   ]
  },
  {
   "cell_type": "code",
   "execution_count": 5,
   "metadata": {},
   "outputs": [
    {
     "name": "stdout",
     "output_type": "stream",
     "text": [
      "[[1 2 3]\n",
      " [4 5 6]\n",
      " [7 8 9]]\n"
     ]
    }
   ],
   "source": [
    "mt6 = np.array([[1, 2, 3], [4, 5, 6], [7, 8, 9]])\n",
    "print(mt6)"
   ]
  },
  {
   "cell_type": "code",
   "execution_count": 6,
   "metadata": {},
   "outputs": [
    {
     "name": "stdout",
     "output_type": "stream",
     "text": [
      "[[2 0]\n",
      " [0 0]\n",
      " [0 0]]\n",
      "__________________________________________________\n",
      "[[0 0 0 0 0 0 0 0]\n",
      " [0 0 0 0 0 0 0 0]\n",
      " [0 0 0 0 0 0 0 0]\n",
      " [0 0 0 0 0 0 0 0]]\n",
      "__________________________________________________\n",
      "[[1 1]\n",
      " [1 1]\n",
      " [1 1]\n",
      " [1 1]]\n",
      "__________________________________________________\n",
      "[[1 0 0 0 0 0]\n",
      " [0 1 0 0 0 0]\n",
      " [0 0 1 0 0 0]\n",
      " [0 0 0 1 0 0]\n",
      " [0 0 0 0 1 0]\n",
      " [0 0 0 0 0 1]]\n"
     ]
    }
   ],
   "source": [
    "vazio = np.empty([3, 2], dtype=np.int64)\n",
    "print(vazio)\n",
    "print('_' * 50)\n",
    "zeros = np.zeros([4, 8], dtype=np.int64)\n",
    "print(zeros)\n",
    "print('_' * 50)\n",
    "uns = np.ones([4, 2], dtype=np.int64)\n",
    "print(uns)\n",
    "print('_' * 50)\n",
    "quadratica = np.eye(6, dtype=np.int64)\n",
    "print(quadratica)"
   ]
  },
  {
   "cell_type": "code",
   "execution_count": 7,
   "metadata": {},
   "outputs": [
    {
     "name": "stdout",
     "output_type": "stream",
     "text": [
      "[0.83334251 0.69784646 0.23961072 0.41250664]\n",
      "__________________________________________________\n",
      "[-0.56237125 -0.42655221 -1.18509059  0.74168994 -0.05884401]\n",
      "__________________________________________________\n",
      "[[4.49510357 1.23648061 3.76992167 5.02854738]\n",
      " [8.20939336 6.5461455  6.00002471 7.14878083]\n",
      " [0.31091209 6.54334216 9.45184183 6.12946108]]\n"
     ]
    }
   ],
   "source": [
    "from numpy import dtype\n",
    "\n",
    "\n",
    "ale = np.random.random((4))\n",
    "print(ale)\n",
    "print('_' * 50)\n",
    "ale2 = np.random.randn((5))\n",
    "print(ale2)\n",
    "print('_' * 50)\n",
    "ale3 = 10 * np.random.random((3, 4))\n",
    "print(ale3)"
   ]
  },
  {
   "cell_type": "code",
   "execution_count": 8,
   "metadata": {},
   "outputs": [
    {
     "name": "stdout",
     "output_type": "stream",
     "text": [
      "[0.51182162 0.9504637  0.14415961 0.94864945 0.31183145 0.42332645\n",
      " 0.82770259 0.40919914 0.54959369 0.02755911 0.75351311]\n",
      "__________________________________________________\n",
      "[[8 5 8 3]\n",
      " [4 7 1 3]\n",
      " [1 4 9 1]\n",
      " [3 4 9 2]]\n"
     ]
    }
   ],
   "source": [
    "gnr = np.random.default_rng(1)\n",
    "ale4 = gnr.random((11))\n",
    "print(ale4)\n",
    "print('_' * 50)\n",
    "ale5 = gnr.integers(10, size=(4, 4))\n",
    "print(ale5)"
   ]
  },
  {
   "cell_type": "code",
   "execution_count": 9,
   "metadata": {},
   "outputs": [
    {
     "name": "stdout",
     "output_type": "stream",
     "text": [
      "[12 12 10 10  1  1 11 11 13 14 15]\n",
      "[ 1 10 11 12 13 14 15]\n"
     ]
    }
   ],
   "source": [
    "j = np.array([12, 12, 10, 10, 1, 1, 11, 11, 13, 14, 15])\n",
    "print(j)\n",
    "j = np.unique(j)\n",
    "print(j)\n",
    "\n"
   ]
  },
  {
   "cell_type": "code",
   "execution_count": 10,
   "metadata": {},
   "outputs": [
    {
     "name": "stdout",
     "output_type": "stream",
     "text": [
      "[[1 2 3]\n",
      " [4 5 6]\n",
      " [7 8 9]]\n",
      "2\n",
      "(3, 3)\n"
     ]
    }
   ],
   "source": [
    "k = np.array([[1, 2, 3], [4, 5, 6], [7, 8, 9]])\n",
    "print(k)\n",
    "print(k[0][1])\n",
    "print(k.shape)"
   ]
  },
  {
   "cell_type": "code",
   "execution_count": 11,
   "metadata": {},
   "outputs": [
    {
     "name": "stdout",
     "output_type": "stream",
     "text": [
      "1\n",
      "9\n",
      "45\n",
      "5.0\n",
      "2.581988897471611\n"
     ]
    }
   ],
   "source": [
    "print(k.min())\n",
    "print(k.max())\n",
    "print(k.sum())\n",
    "print(k.mean())\n",
    "print(k.std())"
   ]
  },
  {
   "cell_type": "code",
   "execution_count": 12,
   "metadata": {},
   "outputs": [
    {
     "name": "stdout",
     "output_type": "stream",
     "text": [
      "[ 1  4  9 16 25]\n",
      "[1. 2. 3. 4. 5.]\n",
      "[2.71828183e+00 5.45981500e+01 8.10308393e+03 8.88611052e+06\n",
      " 7.20048993e+10]\n"
     ]
    }
   ],
   "source": [
    "k1 = np.array([1, 4, 9, 16, 25])\n",
    "print(k1)\n",
    "print(np.sqrt(k1))\n",
    "print(np.exp(k1))"
   ]
  },
  {
   "cell_type": "code",
   "execution_count": 13,
   "metadata": {},
   "outputs": [
    {
     "name": "stdout",
     "output_type": "stream",
     "text": [
      "[ 1  2  3  4  5  6  7  8  9 10]\n",
      "5\n",
      "[ 5  6  7  8  9 10]\n",
      "[ 8  9 10]\n",
      "[10  9  8  7  6  5  4  3  2  1]\n"
     ]
    }
   ],
   "source": [
    "m = np.array([1, 2, 3, 4, 5, 6, 7, 8, 9, 10])\n",
    "print(m)\n",
    "print(m[4])\n",
    "print(m[4:])\n",
    "print(m[-3:])\n",
    "print(m[::-1])"
   ]
  },
  {
   "cell_type": "code",
   "execution_count": 14,
   "metadata": {},
   "outputs": [
    {
     "name": "stdout",
     "output_type": "stream",
     "text": [
      "[[1 2 3]\n",
      " [4 5 6]\n",
      " [7 8 9]]\n",
      "[1 2 3]\n",
      "[7 8 9]\n",
      "[3 2 1]\n",
      "[3 6 9]\n"
     ]
    }
   ],
   "source": [
    "n = np.array([[1, 2, 3], [4, 5, 6], [7, 8, 9]])\n",
    "print(n)\n",
    "print(n[0, :])\n",
    "print(n[2, :])\n",
    "print(n[0, ::-1])\n",
    "print(n[:, 2])"
   ]
  },
  {
   "cell_type": "code",
   "execution_count": 15,
   "metadata": {},
   "outputs": [
    {
     "name": "stdout",
     "output_type": "stream",
     "text": [
      "[[10 10 10]\n",
      " [20 20 20]]\n",
      "[[10 10 10]\n",
      " [20 20 20]]\n",
      "[[20 20 20]\n",
      " [40 40 40]]\n",
      "[[100 100 100]\n",
      " [400 400 400]]\n",
      "__________________________________________________\n",
      "[10 10 10]\n",
      "[[1 2 3]\n",
      " [4 5 6]\n",
      " [7 8 9]]\n",
      "[[11 12 13]\n",
      " [14 15 16]\n",
      " [17 18 19]]\n",
      "[[10 20 30]\n",
      " [40 50 60]\n",
      " [70 80 90]]\n"
     ]
    }
   ],
   "source": [
    "o = np.array([[10, 10, 10], [20, 20, 20]])\n",
    "p = np.array([[10, 10, 10], [20, 20, 20]])\n",
    "print(o)\n",
    "print(p)\n",
    "print(o + p)\n",
    "print(o * p)\n",
    "print('_' * 50)\n",
    "o_1 = np.array([10, 10, 10])\n",
    "o_2 = np.array([[1, 2, 3], [4, 5, 6], [7, 8, 9]])\n",
    "print(o_1)\n",
    "print(o_2)\n",
    "print(o_1 + o_2)\n",
    "print(o_1 * o_2)"
   ]
  },
  {
   "cell_type": "code",
   "execution_count": 16,
   "metadata": {},
   "outputs": [
    {
     "name": "stdout",
     "output_type": "stream",
     "text": [
      "[[ 0  1  2  3  4]\n",
      " [ 5  6  7  8  9]\n",
      " [10 11 12 13 14]]\n",
      "__________________________________________________\n",
      "[[ 0  5 10]\n",
      " [ 1  6 11]\n",
      " [ 2  7 12]\n",
      " [ 3  8 13]\n",
      " [ 4  9 14]]\n"
     ]
    }
   ],
   "source": [
    "q = np.arange(15).reshape((3, 5))\n",
    "print(q)\n",
    "print('_' * 50)\n",
    "print(q.T)"
   ]
  },
  {
   "cell_type": "code",
   "execution_count": 17,
   "metadata": {},
   "outputs": [
    {
     "name": "stdout",
     "output_type": "stream",
     "text": [
      "[[ 0  1  2  3  4]\n",
      " [ 5  6  7  8  9]\n",
      " [10 11 12 13 14]]\n",
      "__________________________________________________\n",
      "[[ 0  5 10]\n",
      " [ 1  6 11]\n",
      " [ 2  7 12]\n",
      " [ 3  8 13]\n",
      " [ 4  9 14]]\n"
     ]
    }
   ],
   "source": [
    "p = np.arange(15).reshape((3, 5))\n",
    "print(p)\n",
    "print('_' * 50)\n",
    "print(p.transpose((1, 0)))"
   ]
  },
  {
   "cell_type": "code",
   "execution_count": 18,
   "metadata": {},
   "outputs": [
    {
     "name": "stdout",
     "output_type": "stream",
     "text": [
      "[[-0.43705291  1.58065214 -1.71299429  0.93706037]\n",
      " [ 0.72444405  0.56680793  0.29558118 -0.15439953]\n",
      " [-0.01061627 -1.11878807  1.7557231  -0.1090467 ]\n",
      " [ 0.06923919 -0.27478315 -1.26152199 -1.21635081]]\n",
      "[[False  True False  True]\n",
      " [ True  True  True False]\n",
      " [False False  True False]\n",
      " [ True False False False]]\n",
      "[[-1  1 -1  1]\n",
      " [ 1  1  1 -1]\n",
      " [-1 -1  1 -1]\n",
      " [ 1 -1 -1 -1]]\n"
     ]
    }
   ],
   "source": [
    "r = np.random.randn(4, 4)\n",
    "print(r)\n",
    "z = (r > 0)\n",
    "print(z)\n",
    "z_1 = np.where(z > 0, 1, -1)\n",
    "print(z_1)"
   ]
  }
 ],
 "metadata": {
  "kernelspec": {
   "display_name": "Python 3",
   "language": "python",
   "name": "python3"
  },
  "language_info": {
   "codemirror_mode": {
    "name": "ipython",
    "version": 3
   },
   "file_extension": ".py",
   "mimetype": "text/x-python",
   "name": "python",
   "nbconvert_exporter": "python",
   "pygments_lexer": "ipython3",
   "version": "3.12.1"
  }
 },
 "nbformat": 4,
 "nbformat_minor": 2
}
