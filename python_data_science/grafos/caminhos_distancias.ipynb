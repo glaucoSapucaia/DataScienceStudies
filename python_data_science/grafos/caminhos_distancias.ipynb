{
 "cells": [
  {
   "cell_type": "code",
   "execution_count": 2,
   "metadata": {},
   "outputs": [],
   "source": [
    "from igraph import Graph\n",
    "from igraph import plot"
   ]
  },
  {
   "cell_type": "code",
   "execution_count": 3,
   "metadata": {},
   "outputs": [
    {
     "name": "stdout",
     "output_type": "stream",
     "text": [
      "IGRAPH D-W- 8 9 --\n",
      "+ attr: label (v), weight (e)\n",
      "+ edges:\n",
      "0->2 0->1 1->4 1->5 2->3 6->7 3->7 4->7 5->6\n"
     ]
    }
   ],
   "source": [
    "grafo = Graph(\n",
    "    edges=[\n",
    "        (0, 2), (0, 1), (1, 4), (1, 5), (2, 3), (6, 7), (3, 7), (4, 7), (5, 6)\n",
    "    ],\n",
    "    directed=True\n",
    ")\n",
    "\n",
    "grafo.vs['label'] = ['A', 'B', 'C', 'D', 'E', 'F', 'G', 'H']\n",
    "grafo.es['weight'] = [2, 1, 2, 1, 2, 1, 3, 1]\n",
    "\n",
    "print(grafo)"
   ]
  },
  {
   "cell_type": "code",
   "execution_count": 4,
   "metadata": {},
   "outputs": [
    {
     "data": {
      "image/svg+xml": [
       "<?xml version=\"1.0\" encoding=\"UTF-8\"?>\n",
       "<svg xmlns=\"http://www.w3.org/2000/svg\" xmlns:xlink=\"http://www.w3.org/1999/xlink\" width=\"400pt\" height=\"400pt\" viewBox=\"0 0 400 400\" version=\"1.1\">\n",
       "<defs>\n",
       "<g>\n",
       "<symbol overflow=\"visible\" id=\"glyph0-0\">\n",
       "<path style=\"stroke:none;\" d=\"M 0.703125 2.46875 L 0.703125 -9.875 L 7.703125 -9.875 L 7.703125 2.46875 Z M 1.484375 1.703125 L 6.921875 1.703125 L 6.921875 -9.078125 L 1.484375 -9.078125 Z M 1.484375 1.703125 \"/>\n",
       "</symbol>\n",
       "<symbol overflow=\"visible\" id=\"glyph0-1\">\n",
       "<path style=\"stroke:none;\" d=\"M 4.78125 -8.84375 L 2.90625 -3.765625 L 6.671875 -3.765625 Z M 4 -10.203125 L 5.578125 -10.203125 L 9.46875 0 L 8.03125 0 L 7.09375 -2.625 L 2.5 -2.625 L 1.5625 0 L 0.109375 0 Z M 4 -10.203125 \"/>\n",
       "</symbol>\n",
       "<symbol overflow=\"visible\" id=\"glyph0-2\">\n",
       "<path style=\"stroke:none;\" d=\"M 2.75 -4.875 L 2.75 -1.140625 L 4.96875 -1.140625 C 5.707031 -1.140625 6.253906 -1.289062 6.609375 -1.59375 C 6.972656 -1.90625 7.15625 -2.378906 7.15625 -3.015625 C 7.15625 -3.648438 6.972656 -4.117188 6.609375 -4.421875 C 6.253906 -4.722656 5.707031 -4.875 4.96875 -4.875 Z M 2.75 -9.078125 L 2.75 -6 L 4.796875 -6 C 5.472656 -6 5.972656 -6.125 6.296875 -6.375 C 6.628906 -6.625 6.796875 -7.007812 6.796875 -7.53125 C 6.796875 -8.050781 6.628906 -8.4375 6.296875 -8.6875 C 5.972656 -8.945312 5.472656 -9.078125 4.796875 -9.078125 Z M 1.375 -10.203125 L 4.90625 -10.203125 C 5.957031 -10.203125 6.765625 -9.984375 7.328125 -9.546875 C 7.898438 -9.109375 8.1875 -8.488281 8.1875 -7.6875 C 8.1875 -7.0625 8.039062 -6.5625 7.75 -6.1875 C 7.457031 -5.820312 7.03125 -5.59375 6.46875 -5.5 C 7.144531 -5.351562 7.671875 -5.046875 8.046875 -4.578125 C 8.421875 -4.117188 8.609375 -3.546875 8.609375 -2.859375 C 8.609375 -1.941406 8.296875 -1.234375 7.671875 -0.734375 C 7.054688 -0.242188 6.175781 0 5.03125 0 L 1.375 0 Z M 1.375 -10.203125 \"/>\n",
       "</symbol>\n",
       "<symbol overflow=\"visible\" id=\"glyph0-3\">\n",
       "<path style=\"stroke:none;\" d=\"M 9.015625 -9.421875 L 9.015625 -7.96875 C 8.546875 -8.394531 8.046875 -8.710938 7.515625 -8.921875 C 6.992188 -9.140625 6.441406 -9.25 5.859375 -9.25 C 4.691406 -9.25 3.796875 -8.890625 3.171875 -8.171875 C 2.554688 -7.460938 2.25 -6.4375 2.25 -5.09375 C 2.25 -3.75 2.554688 -2.71875 3.171875 -2 C 3.796875 -1.289062 4.691406 -0.9375 5.859375 -0.9375 C 6.441406 -0.9375 6.992188 -1.039062 7.515625 -1.25 C 8.046875 -1.46875 8.546875 -1.796875 9.015625 -2.234375 L 9.015625 -0.78125 C 8.535156 -0.457031 8.023438 -0.210938 7.484375 -0.046875 C 6.941406 0.117188 6.367188 0.203125 5.765625 0.203125 C 4.222656 0.203125 3.003906 -0.269531 2.109375 -1.21875 C 1.222656 -2.164062 0.78125 -3.457031 0.78125 -5.09375 C 0.78125 -6.726562 1.222656 -8.019531 2.109375 -8.96875 C 3.003906 -9.914062 4.222656 -10.390625 5.765625 -10.390625 C 6.378906 -10.390625 6.957031 -10.304688 7.5 -10.140625 C 8.039062 -9.984375 8.546875 -9.742188 9.015625 -9.421875 Z M 9.015625 -9.421875 \"/>\n",
       "</symbol>\n",
       "<symbol overflow=\"visible\" id=\"glyph0-4\">\n",
       "<path style=\"stroke:none;\" d=\"M 2.75 -9.078125 L 2.75 -1.140625 L 4.421875 -1.140625 C 5.828125 -1.140625 6.859375 -1.457031 7.515625 -2.09375 C 8.171875 -2.726562 8.5 -3.734375 8.5 -5.109375 C 8.5 -6.484375 8.171875 -7.488281 7.515625 -8.125 C 6.859375 -8.757812 5.828125 -9.078125 4.421875 -9.078125 Z M 1.375 -10.203125 L 4.21875 -10.203125 C 6.1875 -10.203125 7.632812 -9.789062 8.5625 -8.96875 C 9.488281 -8.144531 9.953125 -6.859375 9.953125 -5.109375 C 9.953125 -3.347656 9.488281 -2.054688 8.5625 -1.234375 C 7.632812 -0.410156 6.1875 0 4.21875 0 L 1.375 0 Z M 1.375 -10.203125 \"/>\n",
       "</symbol>\n",
       "<symbol overflow=\"visible\" id=\"glyph0-5\">\n",
       "<path style=\"stroke:none;\" d=\"M 1.375 -10.203125 L 7.828125 -10.203125 L 7.828125 -9.046875 L 2.75 -9.046875 L 2.75 -6.015625 L 7.609375 -6.015625 L 7.609375 -4.859375 L 2.75 -4.859375 L 2.75 -1.15625 L 7.953125 -1.15625 L 7.953125 0 L 1.375 0 Z M 1.375 -10.203125 \"/>\n",
       "</symbol>\n",
       "<symbol overflow=\"visible\" id=\"glyph0-6\">\n",
       "<path style=\"stroke:none;\" d=\"M 1.375 -10.203125 L 7.234375 -10.203125 L 7.234375 -9.046875 L 2.75 -9.046875 L 2.75 -6.03125 L 6.796875 -6.03125 L 6.796875 -4.875 L 2.75 -4.875 L 2.75 0 L 1.375 0 Z M 1.375 -10.203125 \"/>\n",
       "</symbol>\n",
       "<symbol overflow=\"visible\" id=\"glyph0-7\">\n",
       "<path style=\"stroke:none;\" d=\"M 8.328125 -1.453125 L 8.328125 -4.203125 L 6.078125 -4.203125 L 6.078125 -5.328125 L 9.703125 -5.328125 L 9.703125 -0.953125 C 9.171875 -0.578125 8.582031 -0.289062 7.9375 -0.09375 C 7.289062 0.101562 6.601562 0.203125 5.875 0.203125 C 4.28125 0.203125 3.03125 -0.257812 2.125 -1.1875 C 1.226562 -2.125 0.78125 -3.425781 0.78125 -5.09375 C 0.78125 -6.757812 1.226562 -8.054688 2.125 -8.984375 C 3.03125 -9.921875 4.28125 -10.390625 5.875 -10.390625 C 6.539062 -10.390625 7.171875 -10.304688 7.765625 -10.140625 C 8.367188 -9.984375 8.925781 -9.742188 9.4375 -9.421875 L 9.4375 -7.953125 C 8.925781 -8.378906 8.382812 -8.703125 7.8125 -8.921875 C 7.238281 -9.140625 6.632812 -9.25 6 -9.25 C 4.75 -9.25 3.8125 -8.898438 3.1875 -8.203125 C 2.5625 -7.515625 2.25 -6.476562 2.25 -5.09375 C 2.25 -3.71875 2.5625 -2.679688 3.1875 -1.984375 C 3.8125 -1.285156 4.75 -0.9375 6 -0.9375 C 6.488281 -0.9375 6.921875 -0.976562 7.296875 -1.0625 C 7.679688 -1.144531 8.023438 -1.273438 8.328125 -1.453125 Z M 8.328125 -1.453125 \"/>\n",
       "</symbol>\n",
       "<symbol overflow=\"visible\" id=\"glyph0-8\">\n",
       "<path style=\"stroke:none;\" d=\"M 1.375 -10.203125 L 2.75 -10.203125 L 2.75 -6.015625 L 7.765625 -6.015625 L 7.765625 -10.203125 L 9.15625 -10.203125 L 9.15625 0 L 7.765625 0 L 7.765625 -4.859375 L 2.75 -4.859375 L 2.75 0 L 1.375 0 Z M 1.375 -10.203125 \"/>\n",
       "</symbol>\n",
       "<symbol overflow=\"visible\" id=\"glyph1-0\">\n",
       "<path style=\"stroke:none;\" d=\"M 0.59375 2.125 L 0.59375 -8.46875 L 6.59375 -8.46875 L 6.59375 2.125 Z M 1.265625 1.453125 L 5.9375 1.453125 L 5.9375 -7.78125 L 1.265625 -7.78125 Z M 1.265625 1.453125 \"/>\n",
       "</symbol>\n",
       "<symbol overflow=\"visible\" id=\"glyph1-1\">\n",
       "<path style=\"stroke:none;\" d=\"M 2.296875 -1 L 6.4375 -1 L 6.4375 0 L 0.875 0 L 0.875 -1 C 1.320312 -1.457031 1.929688 -2.078125 2.703125 -2.859375 C 3.484375 -3.648438 3.972656 -4.160156 4.171875 -4.390625 C 4.554688 -4.804688 4.820312 -5.160156 4.96875 -5.453125 C 5.125 -5.753906 5.203125 -6.046875 5.203125 -6.328125 C 5.203125 -6.796875 5.035156 -7.175781 4.703125 -7.46875 C 4.378906 -7.757812 3.957031 -7.90625 3.4375 -7.90625 C 3.0625 -7.90625 2.664062 -7.84375 2.25 -7.71875 C 1.84375 -7.59375 1.40625 -7.394531 0.9375 -7.125 L 0.9375 -8.328125 C 1.414062 -8.515625 1.859375 -8.65625 2.265625 -8.75 C 2.679688 -8.851562 3.0625 -8.90625 3.40625 -8.90625 C 4.3125 -8.90625 5.035156 -8.675781 5.578125 -8.21875 C 6.117188 -7.769531 6.390625 -7.164062 6.390625 -6.40625 C 6.390625 -6.050781 6.320312 -5.710938 6.1875 -5.390625 C 6.050781 -5.066406 5.804688 -4.6875 5.453125 -4.25 C 5.347656 -4.132812 5.035156 -3.804688 4.515625 -3.265625 C 3.992188 -2.722656 3.253906 -1.96875 2.296875 -1 Z M 2.296875 -1 \"/>\n",
       "</symbol>\n",
       "<symbol overflow=\"visible\" id=\"glyph1-2\">\n",
       "<path style=\"stroke:none;\" d=\"M 1.484375 -1 L 3.421875 -1 L 3.421875 -7.671875 L 1.3125 -7.25 L 1.3125 -8.328125 L 3.40625 -8.75 L 4.59375 -8.75 L 4.59375 -1 L 6.53125 -1 L 6.53125 0 L 1.484375 0 Z M 1.484375 -1 \"/>\n",
       "</symbol>\n",
       "<symbol overflow=\"visible\" id=\"glyph1-3\">\n",
       "<path style=\"stroke:none;\" d=\"M 4.875 -4.71875 C 5.4375 -4.59375 5.875 -4.335938 6.1875 -3.953125 C 6.507812 -3.578125 6.671875 -3.109375 6.671875 -2.546875 C 6.671875 -1.679688 6.375 -1.007812 5.78125 -0.53125 C 5.1875 -0.0625 4.34375 0.171875 3.25 0.171875 C 2.882812 0.171875 2.503906 0.132812 2.109375 0.0625 C 1.722656 -0.0078125 1.328125 -0.117188 0.921875 -0.265625 L 0.921875 -1.40625 C 1.242188 -1.21875 1.597656 -1.070312 1.984375 -0.96875 C 2.378906 -0.875 2.789062 -0.828125 3.21875 -0.828125 C 3.957031 -0.828125 4.519531 -0.972656 4.90625 -1.265625 C 5.300781 -1.554688 5.5 -1.984375 5.5 -2.546875 C 5.5 -3.054688 5.316406 -3.457031 4.953125 -3.75 C 4.585938 -4.039062 4.085938 -4.1875 3.453125 -4.1875 L 2.421875 -4.1875 L 2.421875 -5.15625 L 3.5 -5.15625 C 4.070312 -5.15625 4.515625 -5.269531 4.828125 -5.5 C 5.140625 -5.738281 5.296875 -6.078125 5.296875 -6.515625 C 5.296875 -6.960938 5.132812 -7.304688 4.8125 -7.546875 C 4.5 -7.785156 4.046875 -7.90625 3.453125 -7.90625 C 3.117188 -7.90625 2.765625 -7.867188 2.390625 -7.796875 C 2.023438 -7.734375 1.617188 -7.628906 1.171875 -7.484375 L 1.171875 -8.53125 C 1.628906 -8.65625 2.050781 -8.75 2.4375 -8.8125 C 2.832031 -8.875 3.203125 -8.90625 3.546875 -8.90625 C 4.453125 -8.90625 5.164062 -8.703125 5.6875 -8.296875 C 6.207031 -7.890625 6.46875 -7.335938 6.46875 -6.640625 C 6.46875 -6.148438 6.328125 -5.738281 6.046875 -5.40625 C 5.773438 -5.070312 5.382812 -4.84375 4.875 -4.71875 Z M 4.875 -4.71875 \"/>\n",
       "</symbol>\n",
       "</g>\n",
       "</defs>\n",
       "<g id=\"surface2\">\n",
       "<rect x=\"0\" y=\"0\" width=\"400\" height=\"400\" style=\"fill:rgb(100%,100%,100%);fill-opacity:1;stroke:none;\"/>\n",
       "<path style=\"fill:none;stroke-width:1;stroke-linecap:butt;stroke-linejoin:miter;stroke:rgb(26.666667%,26.666667%,26.666667%);stroke-opacity:1;stroke-miterlimit:10;\" d=\"M 266.058594 366.707031 L 123.867188 378.066406 \"/>\n",
       "<path style=\" stroke:none;fill-rule:nonzero;fill:rgb(26.666667%,26.666667%,26.666667%);fill-opacity:1;\" d=\"M 109.648438 379.203125 L 123.496094 373.445312 L 124.234375 382.6875 L 109.648438 379.203125 \"/>\n",
       "<path style=\"fill:none;stroke-width:1;stroke-linecap:butt;stroke-linejoin:miter;stroke:rgb(26.666667%,26.666667%,26.666667%);stroke-opacity:1;stroke-miterlimit:10;\" d=\"M 266.058594 366.707031 L 339.082031 251.355469 \"/>\n",
       "<path style=\" stroke:none;fill-rule:nonzero;fill:rgb(26.666667%,26.666667%,26.666667%);fill-opacity:1;\" d=\"M 346.710938 239.300781 L 342.996094 253.832031 L 335.164062 248.875 L 346.710938 239.300781 \"/>\n",
       "<path style=\"fill:none;stroke-width:1;stroke-linecap:butt;stroke-linejoin:miter;stroke:rgb(26.666667%,26.666667%,26.666667%);stroke-opacity:1;stroke-miterlimit:10;\" d=\"M 352.058594 230.851562 L 253.851562 182.019531 \"/>\n",
       "<path style=\" stroke:none;fill-rule:nonzero;fill:rgb(26.666667%,26.666667%,26.666667%);fill-opacity:1;\" d=\"M 241.078125 175.667969 L 255.914062 177.871094 L 251.789062 186.171875 L 241.078125 175.667969 \"/>\n",
       "<path style=\"fill:none;stroke-width:1;stroke-linecap:butt;stroke-linejoin:miter;stroke:rgb(26.666667%,26.666667%,26.666667%);stroke-opacity:1;stroke-miterlimit:10;\" d=\"M 352.058594 230.851562 L 375.449219 108.398438 \"/>\n",
       "<path style=\" stroke:none;fill-rule:nonzero;fill:rgb(26.666667%,26.666667%,26.666667%);fill-opacity:1;\" d=\"M 378.125 94.386719 L 380 109.269531 L 370.894531 107.53125 L 378.125 94.386719 \"/>\n",
       "<path style=\"fill:none;stroke-width:1;stroke-linecap:butt;stroke-linejoin:miter;stroke:rgb(26.666667%,26.666667%,26.666667%);stroke-opacity:1;stroke-miterlimit:10;\" d=\"M 99.679688 380 L 33.183594 277.238281 \"/>\n",
       "<path style=\" stroke:none;fill-rule:nonzero;fill:rgb(26.666667%,26.666667%,26.666667%);fill-opacity:1;\" d=\"M 25.433594 265.257812 L 37.074219 274.71875 L 29.292969 279.753906 L 25.433594 265.257812 \"/>\n",
       "<path style=\"fill:none;stroke-width:1;stroke-linecap:butt;stroke-linejoin:miter;stroke:rgb(26.666667%,26.666667%,26.666667%);stroke-opacity:1;stroke-miterlimit:10;\" d=\"M 235.722656 20 L 125.371094 106.070312 \"/>\n",
       "<path style=\" stroke:none;fill-rule:nonzero;fill:rgb(26.666667%,26.666667%,26.666667%);fill-opacity:1;\" d=\"M 114.121094 114.84375 L 122.519531 102.417969 L 128.222656 109.726562 L 114.121094 114.84375 \"/>\n",
       "<path style=\"fill:none;stroke-width:1;stroke-linecap:butt;stroke-linejoin:miter;stroke:rgb(26.666667%,26.666667%,26.666667%);stroke-opacity:1;stroke-miterlimit:10;\" d=\"M 20 256.863281 L 93.234375 141.484375 \"/>\n",
       "<path style=\" stroke:none;fill-rule:nonzero;fill:rgb(26.666667%,26.666667%,26.666667%);fill-opacity:1;\" d=\"M 100.878906 129.4375 L 97.144531 143.964844 L 89.320312 139 L 100.878906 129.4375 \"/>\n",
       "<path style=\"fill:none;stroke-width:1;stroke-linecap:butt;stroke-linejoin:miter;stroke:rgb(26.666667%,26.666667%,26.666667%);stroke-opacity:1;stroke-miterlimit:10;\" d=\"M 232.125 171.21875 L 128.773438 129.988281 \"/>\n",
       "<path style=\" stroke:none;fill-rule:nonzero;fill:rgb(26.666667%,26.666667%,26.666667%);fill-opacity:1;\" d=\"M 115.523438 124.699219 L 130.492188 125.679688 L 127.058594 134.292969 L 115.523438 124.699219 \"/>\n",
       "<path style=\"fill:none;stroke-width:1;stroke-linecap:butt;stroke-linejoin:miter;stroke:rgb(26.666667%,26.666667%,26.666667%);stroke-opacity:1;stroke-miterlimit:10;\" d=\"M 380 84.566406 L 257.871094 29.910156 \"/>\n",
       "<path style=\" stroke:none;fill-rule:nonzero;fill:rgb(26.666667%,26.666667%,26.666667%);fill-opacity:1;\" d=\"M 244.851562 24.085938 L 259.765625 25.679688 L 255.980469 34.144531 L 244.851562 24.085938 \"/>\n",
       "<path style=\"fill-rule:nonzero;fill:rgb(100%,0%,0%);fill-opacity:1;stroke-width:1;stroke-linecap:butt;stroke-linejoin:miter;stroke:rgb(0%,0%,0%);stroke-opacity:1;stroke-miterlimit:10;\" d=\"M 276.058594 366.707031 C 276.058594 372.230469 271.582031 376.707031 266.058594 376.707031 C 260.535156 376.707031 256.058594 372.230469 256.058594 366.707031 C 256.058594 361.183594 260.535156 356.707031 266.058594 356.707031 C 271.582031 356.707031 276.058594 361.183594 276.058594 366.707031 \"/>\n",
       "<path style=\"fill-rule:nonzero;fill:rgb(100%,0%,0%);fill-opacity:1;stroke-width:1;stroke-linecap:butt;stroke-linejoin:miter;stroke:rgb(0%,0%,0%);stroke-opacity:1;stroke-miterlimit:10;\" d=\"M 362.058594 230.851562 C 362.058594 236.375 357.582031 240.851562 352.058594 240.851562 C 346.535156 240.851562 342.058594 236.375 342.058594 230.851562 C 342.058594 225.328125 346.535156 220.851562 352.058594 220.851562 C 357.582031 220.851562 362.058594 225.328125 362.058594 230.851562 \"/>\n",
       "<path style=\"fill-rule:nonzero;fill:rgb(100%,0%,0%);fill-opacity:1;stroke-width:1;stroke-linecap:butt;stroke-linejoin:miter;stroke:rgb(0%,0%,0%);stroke-opacity:1;stroke-miterlimit:10;\" d=\"M 109.679688 380 C 109.679688 385.523438 105.203125 390 99.679688 390 C 94.15625 390 89.679688 385.523438 89.679688 380 C 89.679688 374.476562 94.15625 370 99.679688 370 C 105.203125 370 109.679688 374.476562 109.679688 380 \"/>\n",
       "<path style=\"fill-rule:nonzero;fill:rgb(100%,0%,0%);fill-opacity:1;stroke-width:1;stroke-linecap:butt;stroke-linejoin:miter;stroke:rgb(0%,0%,0%);stroke-opacity:1;stroke-miterlimit:10;\" d=\"M 30 256.863281 C 30 262.386719 25.523438 266.863281 20 266.863281 C 14.476562 266.863281 10 262.386719 10 256.863281 C 10 251.339844 14.476562 246.863281 20 246.863281 C 25.523438 246.863281 30 251.339844 30 256.863281 \"/>\n",
       "<path style=\"fill-rule:nonzero;fill:rgb(100%,0%,0%);fill-opacity:1;stroke-width:1;stroke-linecap:butt;stroke-linejoin:miter;stroke:rgb(0%,0%,0%);stroke-opacity:1;stroke-miterlimit:10;\" d=\"M 242.125 171.21875 C 242.125 176.742188 237.644531 181.21875 232.125 181.21875 C 226.601562 181.21875 222.125 176.742188 222.125 171.21875 C 222.125 165.695312 226.601562 161.21875 232.125 161.21875 C 237.644531 161.21875 242.125 165.695312 242.125 171.21875 \"/>\n",
       "<path style=\"fill-rule:nonzero;fill:rgb(100%,0%,0%);fill-opacity:1;stroke-width:1;stroke-linecap:butt;stroke-linejoin:miter;stroke:rgb(0%,0%,0%);stroke-opacity:1;stroke-miterlimit:10;\" d=\"M 390 84.566406 C 390 90.085938 385.523438 94.566406 380 94.566406 C 374.476562 94.566406 370 90.085938 370 84.566406 C 370 79.042969 374.476562 74.566406 380 74.566406 C 385.523438 74.566406 390 79.042969 390 84.566406 \"/>\n",
       "<path style=\"fill-rule:nonzero;fill:rgb(100%,0%,0%);fill-opacity:1;stroke-width:1;stroke-linecap:butt;stroke-linejoin:miter;stroke:rgb(0%,0%,0%);stroke-opacity:1;stroke-miterlimit:10;\" d=\"M 245.722656 20 C 245.722656 25.523438 241.246094 30 235.722656 30 C 230.199219 30 225.722656 25.523438 225.722656 20 C 225.722656 14.476562 230.199219 10 235.722656 10 C 241.246094 10 245.722656 14.476562 245.722656 20 \"/>\n",
       "<path style=\"fill-rule:nonzero;fill:rgb(100%,0%,0%);fill-opacity:1;stroke-width:1;stroke-linecap:butt;stroke-linejoin:miter;stroke:rgb(0%,0%,0%);stroke-opacity:1;stroke-miterlimit:10;\" d=\"M 116.234375 120.996094 C 116.234375 126.519531 111.757812 130.996094 106.234375 130.996094 C 100.714844 130.996094 96.234375 126.519531 96.234375 120.996094 C 96.234375 115.472656 100.714844 110.996094 106.234375 110.996094 C 111.757812 110.996094 116.234375 115.472656 116.234375 120.996094 \"/>\n",
       "<g style=\"fill:rgb(0%,0%,0%);fill-opacity:1;\">\n",
       "  <use xlink:href=\"#glyph0-1\" x=\"261.273438\" y=\"373.460938\"/>\n",
       "</g>\n",
       "<g style=\"fill:rgb(0%,0%,0%);fill-opacity:1;\">\n",
       "  <use xlink:href=\"#glyph0-2\" x=\"347.066406\" y=\"237.605469\"/>\n",
       "</g>\n",
       "<g style=\"fill:rgb(0%,0%,0%);fill-opacity:1;\">\n",
       "  <use xlink:href=\"#glyph0-3\" x=\"94.777344\" y=\"386.847656\"/>\n",
       "</g>\n",
       "<g style=\"fill:rgb(0%,0%,0%);fill-opacity:1;\">\n",
       "  <use xlink:href=\"#glyph0-4\" x=\"14.335938\" y=\"263.617188\"/>\n",
       "</g>\n",
       "<g style=\"fill:rgb(0%,0%,0%);fill-opacity:1;\">\n",
       "  <use xlink:href=\"#glyph0-5\" x=\"227.460938\" y=\"177.972656\"/>\n",
       "</g>\n",
       "<g style=\"fill:rgb(0%,0%,0%);fill-opacity:1;\">\n",
       "  <use xlink:href=\"#glyph0-6\" x=\"375.695312\" y=\"91.320312\"/>\n",
       "</g>\n",
       "<g style=\"fill:rgb(0%,0%,0%);fill-opacity:1;\">\n",
       "  <use xlink:href=\"#glyph0-7\" x=\"230.480469\" y=\"26.847656\"/>\n",
       "</g>\n",
       "<g style=\"fill:rgb(0%,0%,0%);fill-opacity:1;\">\n",
       "  <use xlink:href=\"#glyph0-8\" x=\"100.972656\" y=\"127.75\"/>\n",
       "</g>\n",
       "<g style=\"fill:rgb(0%,0%,0%);fill-opacity:1;\">\n",
       "  <use xlink:href=\"#glyph1-1\" x=\"181.988281\" y=\"387.324219\"/>\n",
       "</g>\n",
       "<g style=\"fill:rgb(0%,0%,0%);fill-opacity:1;\">\n",
       "  <use xlink:href=\"#glyph1-2\" x=\"302.53125\" y=\"308.375\"/>\n",
       "</g>\n",
       "<g style=\"fill:rgb(0%,0%,0%);fill-opacity:1;\">\n",
       "  <use xlink:href=\"#glyph1-1\" x=\"285.65625\" y=\"215.003906\"/>\n",
       "</g>\n",
       "<g style=\"fill:rgb(0%,0%,0%);fill-opacity:1;\">\n",
       "  <use xlink:href=\"#glyph1-2\" x=\"359.503906\" y=\"167.300781\"/>\n",
       "</g>\n",
       "<g style=\"fill:rgb(0%,0%,0%);fill-opacity:1;\">\n",
       "  <use xlink:href=\"#glyph1-1\" x=\"53.40625\" y=\"327.949219\"/>\n",
       "</g>\n",
       "<g style=\"fill:rgb(0%,0%,0%);fill-opacity:1;\">\n",
       "  <use xlink:href=\"#glyph1-2\" x=\"169.660156\" y=\"84.464844\"/>\n",
       "</g>\n",
       "<g style=\"fill:rgb(0%,0%,0%);fill-opacity:1;\">\n",
       "  <use xlink:href=\"#glyph1-3\" x=\"56.445312\" y=\"198.359375\"/>\n",
       "</g>\n",
       "<g style=\"fill:rgb(0%,0%,0%);fill-opacity:1;\">\n",
       "  <use xlink:href=\"#glyph1-2\" x=\"162.652344\" y=\"160.074219\"/>\n",
       "</g>\n",
       "<g style=\"fill:rgb(0%,0%,0%);fill-opacity:1;\">\n",
       "  <use xlink:href=\"#glyph1-1\" x=\"301.429688\" y=\"66.25\"/>\n",
       "</g>\n",
       "</g>\n",
       "</svg>\n"
      ],
      "text/plain": [
       "<igraph.drawing.cairo.plot.CairoPlot at 0x7f154e81c970>"
      ]
     },
     "execution_count": 4,
     "metadata": {
      "image/svg+xml": {
       "isolated": true
      }
     },
     "output_type": "execute_result"
    }
   ],
   "source": [
    "plot(grafo, bbox=(0, 0, 400, 400), edge_label=grafo.es['weight'])"
   ]
  },
  {
   "cell_type": "markdown",
   "metadata": {},
   "source": [
    "## Menor Caminho"
   ]
  },
  {
   "cell_type": "markdown",
   "metadata": {},
   "source": [
    "### Retornando vértices\n",
    "  \n",
    "- 0 e 7 -> São os indices dos vértices indicados."
   ]
  },
  {
   "cell_type": "code",
   "execution_count": 5,
   "metadata": {},
   "outputs": [
    {
     "name": "stdout",
     "output_type": "stream",
     "text": [
      "A\n",
      "B\n",
      "E\n",
      "H\n"
     ]
    }
   ],
   "source": [
    "caminho_vertice = grafo.get_shortest_paths(0, 7, output='vpath')\n",
    "for n in caminho_vertice[0]:\n",
    "    print(grafo.vs[n]['label'])"
   ]
  },
  {
   "cell_type": "markdown",
   "metadata": {},
   "source": [
    "### Retornando Edges\n",
    "- retorna o indice das arestas"
   ]
  },
  {
   "cell_type": "code",
   "execution_count": 6,
   "metadata": {},
   "outputs": [
    {
     "data": {
      "text/plain": [
       "[[1, 2, 7]]"
      ]
     },
     "execution_count": 6,
     "metadata": {},
     "output_type": "execute_result"
    }
   ],
   "source": [
    "caminho_aresta = grafo.get_shortest_paths(0, 7, output='epath')\n",
    "caminho_aresta"
   ]
  },
  {
   "cell_type": "markdown",
   "metadata": {},
   "source": [
    "## Calculando a distância"
   ]
  },
  {
   "cell_type": "code",
   "execution_count": 7,
   "metadata": {},
   "outputs": [
    {
     "name": "stdout",
     "output_type": "stream",
     "text": [
      "0\n",
      "1\n",
      "2\n",
      "3\n",
      "4\n",
      "5\n",
      "6\n",
      "7\n",
      "8\n"
     ]
    },
    {
     "data": {
      "text/plain": [
       "4"
      ]
     },
     "execution_count": 7,
     "metadata": {},
     "output_type": "execute_result"
    }
   ],
   "source": [
    "# ilustrando caminhos\n",
    "caminho_aresta_id = []\n",
    "for n in caminho_aresta[0]:\n",
    "    caminho_aresta_id.append(n)\n",
    "caminho_aresta_id\n",
    "\n",
    "# somando os pesos\n",
    "distancia_em_peso = 0\n",
    "\n",
    "for e in grafo.es:\n",
    "    print(e.index)\n",
    "    if e.index in caminho_aresta_id:\n",
    "        distancia_em_peso += grafo.es[e.index]['weight']\n",
    "distancia_em_peso"
   ]
  }
 ],
 "metadata": {
  "kernelspec": {
   "display_name": "venv",
   "language": "python",
   "name": "python3"
  },
  "language_info": {
   "codemirror_mode": {
    "name": "ipython",
    "version": 3
   },
   "file_extension": ".py",
   "mimetype": "text/x-python",
   "name": "python",
   "nbconvert_exporter": "python",
   "pygments_lexer": "ipython3",
   "version": "3.10.12"
  }
 },
 "nbformat": 4,
 "nbformat_minor": 2
}
