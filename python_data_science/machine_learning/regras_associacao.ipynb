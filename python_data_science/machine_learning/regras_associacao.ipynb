{
 "cells": [
  {
   "cell_type": "markdown",
   "metadata": {},
   "source": [
    "# LIBS\n",
    "- pip install apyori"
   ]
  },
  {
   "cell_type": "code",
   "execution_count": 1,
   "metadata": {},
   "outputs": [],
   "source": [
    "import pandas as pd\n",
    "from apyori import apriori"
   ]
  },
  {
   "cell_type": "code",
   "execution_count": 3,
   "metadata": {},
   "outputs": [
    {
     "data": {
      "text/html": [
       "<div>\n",
       "<style scoped>\n",
       "    .dataframe tbody tr th:only-of-type {\n",
       "        vertical-align: middle;\n",
       "    }\n",
       "\n",
       "    .dataframe tbody tr th {\n",
       "        vertical-align: top;\n",
       "    }\n",
       "\n",
       "    .dataframe thead th {\n",
       "        text-align: right;\n",
       "    }\n",
       "</style>\n",
       "<table border=\"1\" class=\"dataframe\">\n",
       "  <thead>\n",
       "    <tr style=\"text-align: right;\">\n",
       "      <th></th>\n",
       "      <th>0</th>\n",
       "      <th>1</th>\n",
       "      <th>2</th>\n",
       "    </tr>\n",
       "  </thead>\n",
       "  <tbody>\n",
       "    <tr>\n",
       "      <th>0</th>\n",
       "      <td>Cerveja</td>\n",
       "      <td>Pizza</td>\n",
       "      <td>Sorvete</td>\n",
       "    </tr>\n",
       "    <tr>\n",
       "      <th>1</th>\n",
       "      <td>Pizza</td>\n",
       "      <td>Sorvete</td>\n",
       "      <td>NaN</td>\n",
       "    </tr>\n",
       "    <tr>\n",
       "      <th>2</th>\n",
       "      <td>Cerveja</td>\n",
       "      <td>Pizza</td>\n",
       "      <td>NaN</td>\n",
       "    </tr>\n",
       "    <tr>\n",
       "      <th>3</th>\n",
       "      <td>Cerveja</td>\n",
       "      <td>Pizza</td>\n",
       "      <td>Sorvete</td>\n",
       "    </tr>\n",
       "    <tr>\n",
       "      <th>4</th>\n",
       "      <td>Cerveja</td>\n",
       "      <td>Pizza</td>\n",
       "      <td>NaN</td>\n",
       "    </tr>\n",
       "    <tr>\n",
       "      <th>5</th>\n",
       "      <td>Pizza</td>\n",
       "      <td>NaN</td>\n",
       "      <td>NaN</td>\n",
       "    </tr>\n",
       "  </tbody>\n",
       "</table>\n",
       "</div>"
      ],
      "text/plain": [
       "         0        1        2\n",
       "0  Cerveja    Pizza  Sorvete\n",
       "1    Pizza  Sorvete      NaN\n",
       "2  Cerveja    Pizza      NaN\n",
       "3  Cerveja    Pizza  Sorvete\n",
       "4  Cerveja    Pizza      NaN\n",
       "5    Pizza      NaN      NaN"
      ]
     },
     "execution_count": 3,
     "metadata": {},
     "output_type": "execute_result"
    }
   ],
   "source": [
    "data_ = pd.read_csv('dados/transacoes.txt', header=None)\n",
    "data_"
   ]
  },
  {
   "cell_type": "markdown",
   "metadata": {},
   "source": [
    "# apriori\n",
    "É necessário a coerção dos dados em lista. 06 é a qtd de itens."
   ]
  },
  {
   "cell_type": "code",
   "execution_count": 4,
   "metadata": {},
   "outputs": [
    {
     "data": {
      "text/plain": [
       "[['Cerveja', 'Pizza', 'Sorvete'],\n",
       " ['Pizza', 'Sorvete', 'nan'],\n",
       " ['Cerveja', 'Pizza', 'nan'],\n",
       " ['Cerveja', 'Pizza', 'Sorvete'],\n",
       " ['Cerveja', 'Pizza', 'nan'],\n",
       " ['Pizza', 'nan', 'nan']]"
      ]
     },
     "execution_count": 4,
     "metadata": {},
     "output_type": "execute_result"
    }
   ],
   "source": [
    "transacoes = []\n",
    "for i in range(6):\n",
    "    transacoes.append(\n",
    "        [str(data_.values[i, j]) for j in range(3)]\n",
    "    )\n",
    "\n",
    "transacoes"
   ]
  },
  {
   "cell_type": "markdown",
   "metadata": {},
   "source": [
    "# Regras para apriori\n",
    "- min_support -> suporte minimo\n",
    "- min_confidence -> confiança minima\n",
    "\n",
    "Essas regras variam de acordo com os dados. É necessário uma pesquisa."
   ]
  },
  {
   "cell_type": "code",
   "execution_count": 5,
   "metadata": {},
   "outputs": [
    {
     "data": {
      "text/plain": [
       "<generator object apriori at 0x7f6b5b9b21f0>"
      ]
     },
     "execution_count": 5,
     "metadata": {},
     "output_type": "execute_result"
    }
   ],
   "source": [
    "regras = apriori(transacoes, min_support=0.5, min_confidence=0.5, min_length=2)\n",
    "regras"
   ]
  },
  {
   "cell_type": "markdown",
   "metadata": {},
   "source": [
    "# Tradando resultados apriori"
   ]
  },
  {
   "cell_type": "code",
   "execution_count": 6,
   "metadata": {},
   "outputs": [
    {
     "data": {
      "text/plain": [
       "[RelationRecord(items=frozenset({'Cerveja'}), support=0.6666666666666666, ordered_statistics=[OrderedStatistic(items_base=frozenset(), items_add=frozenset({'Cerveja'}), confidence=0.6666666666666666, lift=1.0)]),\n",
       " RelationRecord(items=frozenset({'Pizza'}), support=1.0, ordered_statistics=[OrderedStatistic(items_base=frozenset(), items_add=frozenset({'Pizza'}), confidence=1.0, lift=1.0)]),\n",
       " RelationRecord(items=frozenset({'Sorvete'}), support=0.5, ordered_statistics=[OrderedStatistic(items_base=frozenset(), items_add=frozenset({'Sorvete'}), confidence=0.5, lift=1.0)]),\n",
       " RelationRecord(items=frozenset({'nan'}), support=0.6666666666666666, ordered_statistics=[OrderedStatistic(items_base=frozenset(), items_add=frozenset({'nan'}), confidence=0.6666666666666666, lift=1.0)]),\n",
       " RelationRecord(items=frozenset({'Cerveja', 'Pizza'}), support=0.6666666666666666, ordered_statistics=[OrderedStatistic(items_base=frozenset(), items_add=frozenset({'Cerveja', 'Pizza'}), confidence=0.6666666666666666, lift=1.0), OrderedStatistic(items_base=frozenset({'Cerveja'}), items_add=frozenset({'Pizza'}), confidence=1.0, lift=1.0), OrderedStatistic(items_base=frozenset({'Pizza'}), items_add=frozenset({'Cerveja'}), confidence=0.6666666666666666, lift=1.0)]),\n",
       " RelationRecord(items=frozenset({'Sorvete', 'Pizza'}), support=0.5, ordered_statistics=[OrderedStatistic(items_base=frozenset(), items_add=frozenset({'Sorvete', 'Pizza'}), confidence=0.5, lift=1.0), OrderedStatistic(items_base=frozenset({'Pizza'}), items_add=frozenset({'Sorvete'}), confidence=0.5, lift=1.0), OrderedStatistic(items_base=frozenset({'Sorvete'}), items_add=frozenset({'Pizza'}), confidence=1.0, lift=1.0)]),\n",
       " RelationRecord(items=frozenset({'nan', 'Pizza'}), support=0.6666666666666666, ordered_statistics=[OrderedStatistic(items_base=frozenset(), items_add=frozenset({'nan', 'Pizza'}), confidence=0.6666666666666666, lift=1.0), OrderedStatistic(items_base=frozenset({'Pizza'}), items_add=frozenset({'nan'}), confidence=0.6666666666666666, lift=1.0), OrderedStatistic(items_base=frozenset({'nan'}), items_add=frozenset({'Pizza'}), confidence=1.0, lift=1.0)])]"
      ]
     },
     "execution_count": 6,
     "metadata": {},
     "output_type": "execute_result"
    }
   ],
   "source": [
    "resultados = list(regras)\n",
    "resultados"
   ]
  },
  {
   "cell_type": "code",
   "execution_count": 7,
   "metadata": {},
   "outputs": [
    {
     "data": {
      "text/plain": [
       "[[frozenset({'Cerveja'}),\n",
       "  0.6666666666666666,\n",
       "  [OrderedStatistic(items_base=frozenset(), items_add=frozenset({'Cerveja'}), confidence=0.6666666666666666, lift=1.0)]],\n",
       " [frozenset({'Pizza'}),\n",
       "  1.0,\n",
       "  [OrderedStatistic(items_base=frozenset(), items_add=frozenset({'Pizza'}), confidence=1.0, lift=1.0)]],\n",
       " [frozenset({'Sorvete'}),\n",
       "  0.5,\n",
       "  [OrderedStatistic(items_base=frozenset(), items_add=frozenset({'Sorvete'}), confidence=0.5, lift=1.0)]],\n",
       " [frozenset({'nan'}),\n",
       "  0.6666666666666666,\n",
       "  [OrderedStatistic(items_base=frozenset(), items_add=frozenset({'nan'}), confidence=0.6666666666666666, lift=1.0)]],\n",
       " [frozenset({'Cerveja', 'Pizza'}),\n",
       "  0.6666666666666666,\n",
       "  [OrderedStatistic(items_base=frozenset(), items_add=frozenset({'Cerveja', 'Pizza'}), confidence=0.6666666666666666, lift=1.0),\n",
       "   OrderedStatistic(items_base=frozenset({'Cerveja'}), items_add=frozenset({'Pizza'}), confidence=1.0, lift=1.0),\n",
       "   OrderedStatistic(items_base=frozenset({'Pizza'}), items_add=frozenset({'Cerveja'}), confidence=0.6666666666666666, lift=1.0)]],\n",
       " [frozenset({'Pizza', 'Sorvete'}),\n",
       "  0.5,\n",
       "  [OrderedStatistic(items_base=frozenset(), items_add=frozenset({'Sorvete', 'Pizza'}), confidence=0.5, lift=1.0),\n",
       "   OrderedStatistic(items_base=frozenset({'Pizza'}), items_add=frozenset({'Sorvete'}), confidence=0.5, lift=1.0),\n",
       "   OrderedStatistic(items_base=frozenset({'Sorvete'}), items_add=frozenset({'Pizza'}), confidence=1.0, lift=1.0)]],\n",
       " [frozenset({'Pizza', 'nan'}),\n",
       "  0.6666666666666666,\n",
       "  [OrderedStatistic(items_base=frozenset(), items_add=frozenset({'nan', 'Pizza'}), confidence=0.6666666666666666, lift=1.0),\n",
       "   OrderedStatistic(items_base=frozenset({'Pizza'}), items_add=frozenset({'nan'}), confidence=0.6666666666666666, lift=1.0),\n",
       "   OrderedStatistic(items_base=frozenset({'nan'}), items_add=frozenset({'Pizza'}), confidence=1.0, lift=1.0)]]]"
      ]
     },
     "execution_count": 7,
     "metadata": {},
     "output_type": "execute_result"
    }
   ],
   "source": [
    "resultados_tratados = [\n",
    "    list(x) for x in resultados\n",
    "]\n",
    "\n",
    "resultados_tratados"
   ]
  },
  {
   "cell_type": "markdown",
   "metadata": {},
   "source": [
    "# Retorno\n",
    "\n",
    "[frozenset(), frozenset({'Cerveja', 'Pizza'}), 0.6666666666666666, 1.0],  \n",
    "----------------------------------------------------------------confiança--------------------lift  "
   ]
  },
  {
   "cell_type": "code",
   "execution_count": 8,
   "metadata": {},
   "outputs": [
    {
     "data": {
      "text/plain": [
       "[[[frozenset(), frozenset({'Cerveja'}), 0.6666666666666666, 1.0]],\n",
       " [[frozenset(), frozenset({'Pizza'}), 1.0, 1.0]],\n",
       " [[frozenset(), frozenset({'Sorvete'}), 0.5, 1.0]],\n",
       " [[frozenset(), frozenset({'nan'}), 0.6666666666666666, 1.0]],\n",
       " [[frozenset(), frozenset({'Cerveja', 'Pizza'}), 0.6666666666666666, 1.0],\n",
       "  [frozenset({'Cerveja'}), frozenset({'Pizza'}), 1.0, 1.0],\n",
       "  [frozenset({'Pizza'}), frozenset({'Cerveja'}), 0.6666666666666666, 1.0]],\n",
       " [[frozenset(), frozenset({'Pizza', 'Sorvete'}), 0.5, 1.0],\n",
       "  [frozenset({'Pizza'}), frozenset({'Sorvete'}), 0.5, 1.0],\n",
       "  [frozenset({'Sorvete'}), frozenset({'Pizza'}), 1.0, 1.0]],\n",
       " [[frozenset(), frozenset({'Pizza', 'nan'}), 0.6666666666666666, 1.0],\n",
       "  [frozenset({'Pizza'}), frozenset({'nan'}), 0.6666666666666666, 1.0],\n",
       "  [frozenset({'nan'}), frozenset({'Pizza'}), 1.0, 1.0]]]"
      ]
     },
     "execution_count": 8,
     "metadata": {},
     "output_type": "execute_result"
    }
   ],
   "source": [
    "resultados_tratados_2 = []\n",
    "for j in range(7):\n",
    "    resultados_tratados_2.append(\n",
    "        [list(x) for x in resultados_tratados[j][2]]\n",
    "    )\n",
    "\n",
    "resultados_tratados_2"
   ]
  }
 ],
 "metadata": {
  "kernelspec": {
   "display_name": "venv",
   "language": "python",
   "name": "python3"
  },
  "language_info": {
   "codemirror_mode": {
    "name": "ipython",
    "version": 3
   },
   "file_extension": ".py",
   "mimetype": "text/x-python",
   "name": "python",
   "nbconvert_exporter": "python",
   "pygments_lexer": "ipython3",
   "version": "3.10.12"
  }
 },
 "nbformat": 4,
 "nbformat_minor": 2
}
