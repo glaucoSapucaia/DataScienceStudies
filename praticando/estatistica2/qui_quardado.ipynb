{
 "cells": [
  {
   "cell_type": "code",
   "execution_count": 4,
   "metadata": {
    "vscode": {
     "languageId": "r"
    }
   },
   "outputs": [
    {
     "data": {
      "text/html": [
       "<table class=\"dataframe\">\n",
       "<caption>A matrix: 2 × 2 of type dbl</caption>\n",
       "<thead>\n",
       "\t<tr><th></th><th scope=col>joga</th><th scope=col>não joga</th></tr>\n",
       "</thead>\n",
       "<tbody>\n",
       "\t<tr><th scope=row>masculino</th><td>41</td><td>34</td></tr>\n",
       "\t<tr><th scope=row>feminino</th><td>18</td><td> 7</td></tr>\n",
       "</tbody>\n",
       "</table>\n"
      ],
      "text/latex": [
       "A matrix: 2 × 2 of type dbl\n",
       "\\begin{tabular}{r|ll}\n",
       "  & joga & não joga\\\\\n",
       "\\hline\n",
       "\tmasculino & 41 & 34\\\\\n",
       "\tfeminino & 18 &  7\\\\\n",
       "\\end{tabular}\n"
      ],
      "text/markdown": [
       "\n",
       "A matrix: 2 × 2 of type dbl\n",
       "\n",
       "| <!--/--> | joga | não joga |\n",
       "|---|---|---|\n",
       "| masculino | 41 | 34 |\n",
       "| feminino | 18 |  7 |\n",
       "\n"
      ],
      "text/plain": [
       "          joga não joga\n",
       "masculino 41   34      \n",
       "feminino  18    7      "
      ]
     },
     "metadata": {},
     "output_type": "display_data"
    },
    {
     "data": {
      "text/plain": [
       "\n",
       "\tPearson's Chi-squared test with Yates' continuity correction\n",
       "\n",
       "data:  jogo_azar\n",
       "X-squared = 1.6674, df = 1, p-value = 0.1966\n"
      ]
     },
     "metadata": {},
     "output_type": "display_data"
    }
   ],
   "source": [
    "jogo_azar = matrix(c(41, 34, 18, 7), nrow=2, byrow=T)\n",
    "rownames(jogo_azar) = c('masculino', 'feminino')\n",
    "colnames(jogo_azar) = c('joga', 'não joga')\n",
    "jogo_azar\n",
    "chisq.test(jogo_azar)"
   ]
  }
 ],
 "metadata": {
  "kernelspec": {
   "display_name": "R",
   "language": "R",
   "name": "ir"
  },
  "language_info": {
   "codemirror_mode": "r",
   "file_extension": ".r",
   "mimetype": "text/x-r-source",
   "name": "R",
   "pygments_lexer": "r",
   "version": "4.3.2"
  }
 },
 "nbformat": 4,
 "nbformat_minor": 2
}
