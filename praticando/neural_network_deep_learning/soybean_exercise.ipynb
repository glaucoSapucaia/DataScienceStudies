{
 "cells": [
  {
   "cell_type": "markdown",
   "metadata": {},
   "source": [
    "## Packages"
   ]
  },
  {
   "cell_type": "code",
   "execution_count": 1,
   "metadata": {
    "vscode": {
     "languageId": "r"
    }
   },
   "outputs": [
    {
     "name": "stderr",
     "output_type": "stream",
     "text": [
      "randomForest 4.7-1.1\n",
      "\n",
      "Type rfNews() to see new features/changes/bug fixes.\n",
      "\n",
      "Carregando pacotes exigidos: ggplot2\n",
      "\n",
      "\n",
      "Attaching package: 'ggplot2'\n",
      "\n",
      "\n",
      "The following object is masked from 'package:randomForest':\n",
      "\n",
      "    margin\n",
      "\n",
      "\n",
      "Carregando pacotes exigidos: lattice\n",
      "\n"
     ]
    }
   ],
   "source": [
    "library(randomForest)\n",
    "library(caret)"
   ]
  },
  {
   "cell_type": "markdown",
   "metadata": {},
   "source": [
    "## DATABASE"
   ]
  },
  {
   "cell_type": "code",
   "execution_count": 2,
   "metadata": {
    "vscode": {
     "languageId": "r"
    }
   },
   "outputs": [
    {
     "data": {
      "text/plain": [
       "        date        plant.stand      precip         temp      hail    \n",
       " september:149   ?        : 36   ?      : 38   ?      : 30   ?  :121  \n",
       " august   :131   lt-normal:293   gt-norm:459   gt-norm:199   no :127  \n",
       " july     :118   normal   :354   lt-norm: 74   lt-norm: 80   yes:435  \n",
       " june     : 93                   norm   :112   norm   :374            \n",
       " october  : 90                                                        \n",
       " may      : 75                                                        \n",
       " (Other)  : 27                                                        \n",
       "            crop.hist        area.damaged       severity        seed.tmt  \n",
       " ?               : 16   ?          :  1   ?         :121   ?        :121  \n",
       " diff-lst-year   : 65   low-areas  :227   minor     :195   fungicide:222  \n",
       " same-lst-sev-yrs:218   scattered  :123   pot-severe:322   none     :305  \n",
       " same-lst-two-yrs:219   upper-areas:145   severe    : 45   other    : 35  \n",
       " same-lst-yr     :165   whole-field:187                                   \n",
       "                                                                          \n",
       "                                                                          \n",
       " germination  plant.growth    leaves            leafspots.halo\n",
       " ?     :112   ?     : 16   abnorm:606   ?              : 84   \n",
       " 80-89 :213   abnorm:226   norm  : 77   absent         :221   \n",
       " 90-100:165   norm  :441                no-yellow-halos:342   \n",
       " lt-80 :193                             yellow-halos   : 36   \n",
       "                                                              \n",
       "                                                              \n",
       "                                                              \n",
       "     leafspots.marg leafspot.size  leaf.shread    leaf.malf        leaf.mild  \n",
       " ?          : 84    ?     : 84    ?      :100   ?      : 84   ?         :108  \n",
       " dna        :221    dna   :221    absent :487   absent :554   absent    :535  \n",
       " no-w-s-marg: 21    gt-1/8:327    present: 96   present: 45   lower-surf: 20  \n",
       " w-s-marg   :357    lt-1/8: 51                                upper-surf: 20  \n",
       "                                                                              \n",
       "                                                                              \n",
       "                                                                              \n",
       "     stem     lodging          stem.cankers      canker.lesion fruiting.bodies\n",
       " ?     : 16   ?  :121   ?            : 38   ?           : 38   ?      :106    \n",
       " abnorm:371   no : 42   above-sec-nde:191   brown       : 83   absent :473    \n",
       " norm  :296   yes:520   above-soil   : 36   dk-brown-blk:177   present:104    \n",
       "                        absent       :379   dna         :320                  \n",
       "                        below-soil   : 39   tan         : 65                  \n",
       "                                                                              \n",
       "                                                                              \n",
       "      external.decay    mycelium   int.discolor   sclerotia         fruit.pods \n",
       " ?           : 38    ?      : 38   ?    : 38    ?      : 38   ?          : 84  \n",
       " absent      :497    absent :639   black: 20    absent :625   diseased   :130  \n",
       " firm-and-dry:135    present:  6   brown: 44    present: 20   dna        : 48  \n",
       " watery      : 13                  none :581                  few-present: 14  \n",
       "                                                              norm       :407  \n",
       "                                                                               \n",
       "                                                                               \n",
       "             fruit.spots      seed      mold.growth  seed.discolor\n",
       " ?                 :106   ?     : 92   ?      : 92   ?      :106  \n",
       " absent            :345   abnorm:115   absent :524   absent :513  \n",
       " brown-w/blk-specks: 57   norm  :476   present: 67   present: 64  \n",
       " colored           : 75                                           \n",
       " dna               :100                                           \n",
       "                                                                  \n",
       "                                                                  \n",
       "   seed.size     shriveling          roots                     class    \n",
       " ?      : 92   ?      :106   ?          : 31   brown-spot         : 92  \n",
       " lt-norm: 59   absent :539   galls-cysts: 15   alternarialeaf-spot: 91  \n",
       " norm   :532   present: 38   norm       :551   frog-eye-leaf-spot : 91  \n",
       "                             rotted     : 86   phytophthora-rot   : 88  \n",
       "                                               anthracnose        : 44  \n",
       "                                               brown-stem-rot     : 44  \n",
       "                                               (Other)            :233  "
      ]
     },
     "metadata": {},
     "output_type": "display_data"
    },
    {
     "data": {
      "text/html": [
       "<style>\n",
       ".list-inline {list-style: none; margin:0; padding: 0}\n",
       ".list-inline>li {display: inline-block}\n",
       ".list-inline>li:not(:last-child)::after {content: \"\\00b7\"; padding: 0 .5ex}\n",
       "</style>\n",
       "<ol class=list-inline><li>683</li><li>36</li></ol>\n"
      ],
      "text/latex": [
       "\\begin{enumerate*}\n",
       "\\item 683\n",
       "\\item 36\n",
       "\\end{enumerate*}\n"
      ],
      "text/markdown": [
       "1. 683\n",
       "2. 36\n",
       "\n",
       "\n"
      ],
      "text/plain": [
       "[1] 683  36"
      ]
     },
     "metadata": {},
     "output_type": "display_data"
    }
   ],
   "source": [
    "data_ = read.csv('soybean.csv', stringsAsFactors=T)\n",
    "summary(data_)\n",
    "dim(data_)"
   ]
  },
  {
   "cell_type": "markdown",
   "metadata": {},
   "source": [
    "## Amostras"
   ]
  },
  {
   "cell_type": "code",
   "execution_count": 3,
   "metadata": {
    "vscode": {
     "languageId": "r"
    }
   },
   "outputs": [
    {
     "data": {
      "text/plain": [
       "          Length Class  Mode   \n",
       "Resample1 479    -none- numeric"
      ]
     },
     "metadata": {},
     "output_type": "display_data"
    },
    {
     "data": {
      "text/html": [
       "<style>\n",
       ".list-inline {list-style: none; margin:0; padding: 0}\n",
       ".list-inline>li {display: inline-block}\n",
       ".list-inline>li:not(:last-child)::after {content: \"\\00b7\"; padding: 0 .5ex}\n",
       "</style>\n",
       "<ol class=list-inline><li>479</li><li>36</li></ol>\n"
      ],
      "text/latex": [
       "\\begin{enumerate*}\n",
       "\\item 479\n",
       "\\item 36\n",
       "\\end{enumerate*}\n"
      ],
      "text/markdown": [
       "1. 479\n",
       "2. 36\n",
       "\n",
       "\n"
      ],
      "text/plain": [
       "[1] 479  36"
      ]
     },
     "metadata": {},
     "output_type": "display_data"
    },
    {
     "data": {
      "text/html": [
       "<style>\n",
       ".list-inline {list-style: none; margin:0; padding: 0}\n",
       ".list-inline>li {display: inline-block}\n",
       ".list-inline>li:not(:last-child)::after {content: \"\\00b7\"; padding: 0 .5ex}\n",
       "</style>\n",
       "<ol class=list-inline><li>204</li><li>36</li></ol>\n"
      ],
      "text/latex": [
       "\\begin{enumerate*}\n",
       "\\item 204\n",
       "\\item 36\n",
       "\\end{enumerate*}\n"
      ],
      "text/markdown": [
       "1. 204\n",
       "2. 36\n",
       "\n",
       "\n"
      ],
      "text/plain": [
       "[1] 204  36"
      ]
     },
     "metadata": {},
     "output_type": "display_data"
    }
   ],
   "source": [
    "amostra = createDataPartition(1:dim(data_)[1], p=0.7)\n",
    "summary(amostra)\n",
    "\n",
    "amostra_treino = data_[amostra$Resample1, ]\n",
    "amostra_teste = data_[-amostra$Resample1, ]\n",
    "\n",
    "dim(amostra_treino)\n",
    "dim(amostra_teste)"
   ]
  },
  {
   "cell_type": "markdown",
   "metadata": {},
   "source": [
    "## Modelo"
   ]
  },
  {
   "cell_type": "code",
   "execution_count": 4,
   "metadata": {
    "vscode": {
     "languageId": "r"
    }
   },
   "outputs": [
    {
     "data": {
      "text/plain": [
       "\n",
       "Call:\n",
       " randomForest(formula = class ~ ., data = amostra_treino, ntree = 100,      importance = T) \n",
       "               Type of random forest: classification\n",
       "                     Number of trees: 100\n",
       "No. of variables tried at each split: 5\n",
       "\n",
       "        OOB estimate of  error rate: 6.05%\n",
       "Confusion matrix:\n",
       "                            2-4-d-injury alternarialeaf-spot anthracnose\n",
       "2-4-d-injury                          12                   0           0\n",
       "alternarialeaf-spot                    0                  61           0\n",
       "anthracnose                            0                   0          32\n",
       "bacterial-blight                       0                   0           0\n",
       "bacterial-pustule                      0                   0           0\n",
       "brown-spot                             0                   1           0\n",
       "brown-stem-rot                         0                   0           0\n",
       "charcoal-rot                           0                   0           0\n",
       "cyst-nematode                          0                   0           0\n",
       "diaporthe-pod-&-stem-blight            0                   0           0\n",
       "diaporthe-stem-canker                  0                   0           0\n",
       "downy-mildew                           0                   0           0\n",
       "frog-eye-leaf-spot                     0                  13           0\n",
       "herbicide-injury                       0                   0           0\n",
       "phyllosticta-leaf-spot                 0                   1           0\n",
       "phytophthora-rot                       0                   0           0\n",
       "powdery-mildew                         0                   0           0\n",
       "purple-seed-stain                      0                   0           0\n",
       "rhizoctonia-root-rot                   0                   0           0\n",
       "                            bacterial-blight bacterial-pustule brown-spot\n",
       "2-4-d-injury                               0                 0          0\n",
       "alternarialeaf-spot                        0                 0          0\n",
       "anthracnose                                0                 0          0\n",
       "bacterial-blight                          16                 0          0\n",
       "bacterial-pustule                          2                10          0\n",
       "brown-spot                                 0                 0         62\n",
       "brown-stem-rot                             0                 0          0\n",
       "charcoal-rot                               0                 0          0\n",
       "cyst-nematode                              0                 0          0\n",
       "diaporthe-pod-&-stem-blight                0                 0          0\n",
       "diaporthe-stem-canker                      0                 0          0\n",
       "downy-mildew                               0                 0          0\n",
       "frog-eye-leaf-spot                         0                 0          3\n",
       "herbicide-injury                           0                 0          0\n",
       "phyllosticta-leaf-spot                     0                 0          2\n",
       "phytophthora-rot                           0                 0          0\n",
       "powdery-mildew                             0                 0          0\n",
       "purple-seed-stain                          0                 0          0\n",
       "rhizoctonia-root-rot                       0                 0          0\n",
       "                            brown-stem-rot charcoal-rot cyst-nematode\n",
       "2-4-d-injury                             0            0             0\n",
       "alternarialeaf-spot                      0            0             0\n",
       "anthracnose                              0            0             0\n",
       "bacterial-blight                         0            0             0\n",
       "bacterial-pustule                        0            0             0\n",
       "brown-spot                               0            0             0\n",
       "brown-stem-rot                          33            0             0\n",
       "charcoal-rot                             0           11             0\n",
       "cyst-nematode                            0            0             9\n",
       "diaporthe-pod-&-stem-blight              0            0             0\n",
       "diaporthe-stem-canker                    0            0             0\n",
       "downy-mildew                             0            0             0\n",
       "frog-eye-leaf-spot                       0            0             0\n",
       "herbicide-injury                         0            0             0\n",
       "phyllosticta-leaf-spot                   0            0             0\n",
       "phytophthora-rot                         0            0             0\n",
       "powdery-mildew                           0            0             0\n",
       "purple-seed-stain                        0            0             0\n",
       "rhizoctonia-root-rot                     0            0             0\n",
       "                            diaporthe-pod-&-stem-blight diaporthe-stem-canker\n",
       "2-4-d-injury                                          0                     0\n",
       "alternarialeaf-spot                                   0                     0\n",
       "anthracnose                                           0                     0\n",
       "bacterial-blight                                      0                     0\n",
       "bacterial-pustule                                     0                     0\n",
       "brown-spot                                            0                     0\n",
       "brown-stem-rot                                        0                     0\n",
       "charcoal-rot                                          0                     0\n",
       "cyst-nematode                                         0                     0\n",
       "diaporthe-pod-&-stem-blight                          11                     0\n",
       "diaporthe-stem-canker                                 0                    15\n",
       "downy-mildew                                          0                     0\n",
       "frog-eye-leaf-spot                                    0                     0\n",
       "herbicide-injury                                      0                     0\n",
       "phyllosticta-leaf-spot                                0                     0\n",
       "phytophthora-rot                                      0                     0\n",
       "powdery-mildew                                        0                     0\n",
       "purple-seed-stain                                     0                     0\n",
       "rhizoctonia-root-rot                                  0                     0\n",
       "                            downy-mildew frog-eye-leaf-spot herbicide-injury\n",
       "2-4-d-injury                           0                  0                0\n",
       "alternarialeaf-spot                    0                  3                0\n",
       "anthracnose                            0                  0                0\n",
       "bacterial-blight                       0                  0                0\n",
       "bacterial-pustule                      0                  0                0\n",
       "brown-spot                             0                  3                0\n",
       "brown-stem-rot                         0                  0                0\n",
       "charcoal-rot                           0                  0                0\n",
       "cyst-nematode                          0                  0                0\n",
       "diaporthe-pod-&-stem-blight            0                  0                0\n",
       "diaporthe-stem-canker                  0                  0                0\n",
       "downy-mildew                          14                  0                0\n",
       "frog-eye-leaf-spot                     0                 50                0\n",
       "herbicide-injury                       0                  0                5\n",
       "phyllosticta-leaf-spot                 0                  0                0\n",
       "phytophthora-rot                       0                  0                0\n",
       "powdery-mildew                         0                  0                0\n",
       "purple-seed-stain                      0                  0                0\n",
       "rhizoctonia-root-rot                   0                  0                0\n",
       "                            phyllosticta-leaf-spot phytophthora-rot\n",
       "2-4-d-injury                                     0                0\n",
       "alternarialeaf-spot                              0                0\n",
       "anthracnose                                      0                0\n",
       "bacterial-blight                                 0                0\n",
       "bacterial-pustule                                0                0\n",
       "brown-spot                                       1                0\n",
       "brown-stem-rot                                   0                0\n",
       "charcoal-rot                                     0                0\n",
       "cyst-nematode                                    0                0\n",
       "diaporthe-pod-&-stem-blight                      0                0\n",
       "diaporthe-stem-canker                            0                0\n",
       "downy-mildew                                     0                0\n",
       "frog-eye-leaf-spot                               0                0\n",
       "herbicide-injury                                 0                0\n",
       "phyllosticta-leaf-spot                          10                0\n",
       "phytophthora-rot                                 0               62\n",
       "powdery-mildew                                   0                0\n",
       "purple-seed-stain                                0                0\n",
       "rhizoctonia-root-rot                             0                0\n",
       "                            powdery-mildew purple-seed-stain\n",
       "2-4-d-injury                             0                 0\n",
       "alternarialeaf-spot                      0                 0\n",
       "anthracnose                              0                 0\n",
       "bacterial-blight                         0                 0\n",
       "bacterial-pustule                        0                 0\n",
       "brown-spot                               0                 0\n",
       "brown-stem-rot                           0                 0\n",
       "charcoal-rot                             0                 0\n",
       "cyst-nematode                            0                 0\n",
       "diaporthe-pod-&-stem-blight              0                 0\n",
       "diaporthe-stem-canker                    0                 0\n",
       "downy-mildew                             0                 0\n",
       "frog-eye-leaf-spot                       0                 0\n",
       "herbicide-injury                         0                 0\n",
       "phyllosticta-leaf-spot                   0                 0\n",
       "phytophthora-rot                         0                 0\n",
       "powdery-mildew                          12                 0\n",
       "purple-seed-stain                        0                12\n",
       "rhizoctonia-root-rot                     0                 0\n",
       "                            rhizoctonia-root-rot class.error\n",
       "2-4-d-injury                                   0  0.00000000\n",
       "alternarialeaf-spot                            0  0.04687500\n",
       "anthracnose                                    0  0.00000000\n",
       "bacterial-blight                               0  0.00000000\n",
       "bacterial-pustule                              0  0.16666667\n",
       "brown-spot                                     0  0.07462687\n",
       "brown-stem-rot                                 0  0.00000000\n",
       "charcoal-rot                                   0  0.00000000\n",
       "cyst-nematode                                  0  0.00000000\n",
       "diaporthe-pod-&-stem-blight                    0  0.00000000\n",
       "diaporthe-stem-canker                          0  0.00000000\n",
       "downy-mildew                                   0  0.00000000\n",
       "frog-eye-leaf-spot                             0  0.24242424\n",
       "herbicide-injury                               0  0.00000000\n",
       "phyllosticta-leaf-spot                         0  0.23076923\n",
       "phytophthora-rot                               0  0.00000000\n",
       "powdery-mildew                                 0  0.00000000\n",
       "purple-seed-stain                              0  0.00000000\n",
       "rhizoctonia-root-rot                          13  0.00000000"
      ]
     },
     "metadata": {},
     "output_type": "display_data"
    },
    {
     "data": {
      "image/png": "[encoded data removed]",
      "text/plain": [
       "Plot with title \"modelo\""
      ]
     },
     "metadata": {
      "image/png": {
       "height": 420,
       "width": 420
      }
     },
     "output_type": "display_data"
    }
   ],
   "source": [
    "modelo = randomForest(class ~ ., data=amostra_treino, ntree = 100, importance = T)\n",
    "modelo\n",
    "plot(modelo)"
   ]
  },
  {
   "cell_type": "markdown",
   "metadata": {},
   "source": [
    "## Previsão"
   ]
  },
  {
   "cell_type": "code",
   "execution_count": 5,
   "metadata": {
    "vscode": {
     "languageId": "r"
    }
   },
   "outputs": [
    {
     "data": {
      "text/html": [
       "<style>\n",
       ".dl-inline {width: auto; margin:0; padding: 0}\n",
       ".dl-inline>dt, .dl-inline>dd {float: none; width: auto; display: inline-block}\n",
       ".dl-inline>dt::after {content: \":\\0020\"; padding-right: .5ex}\n",
       ".dl-inline>dt:not(:first-of-type) {padding-left: .5ex}\n",
       "</style><dl class=dl-inline><dt>2-4-d-injury</dt><dd>4</dd><dt>alternarialeaf-spot</dt><dd>32</dd><dt>anthracnose</dt><dd>12</dd><dt>bacterial-blight</dt><dd>5</dd><dt>bacterial-pustule</dt><dd>7</dd><dt>brown-spot</dt><dd>26</dd><dt>brown-stem-rot</dt><dd>11</dd><dt>charcoal-rot</dt><dd>9</dd><dt>cyst-nematode</dt><dd>5</dd><dt>diaporthe-pod-&amp;-stem-blight</dt><dd>4</dd><dt>diaporthe-stem-canker</dt><dd>5</dd><dt>downy-mildew</dt><dd>6</dd><dt>frog-eye-leaf-spot</dt><dd>20</dd><dt>herbicide-injury</dt><dd>3</dd><dt>phyllosticta-leaf-spot</dt><dd>6</dd><dt>phytophthora-rot</dt><dd>26</dd><dt>powdery-mildew</dt><dd>8</dd><dt>purple-seed-stain</dt><dd>8</dd><dt>rhizoctonia-root-rot</dt><dd>7</dd></dl>\n"
      ],
      "text/latex": [
       "\\begin{description*}\n",
       "\\item[2-4-d-injury] 4\n",
       "\\item[alternarialeaf-spot] 32\n",
       "\\item[anthracnose] 12\n",
       "\\item[bacterial-blight] 5\n",
       "\\item[bacterial-pustule] 7\n",
       "\\item[brown-spot] 26\n",
       "\\item[brown-stem-rot] 11\n",
       "\\item[charcoal-rot] 9\n",
       "\\item[cyst-nematode] 5\n",
       "\\item[diaporthe-pod-\\textbackslash{}\\&-stem-blight] 4\n",
       "\\item[diaporthe-stem-canker] 5\n",
       "\\item[downy-mildew] 6\n",
       "\\item[frog-eye-leaf-spot] 20\n",
       "\\item[herbicide-injury] 3\n",
       "\\item[phyllosticta-leaf-spot] 6\n",
       "\\item[phytophthora-rot] 26\n",
       "\\item[powdery-mildew] 8\n",
       "\\item[purple-seed-stain] 8\n",
       "\\item[rhizoctonia-root-rot] 7\n",
       "\\end{description*}\n"
      ],
      "text/markdown": [
       "2-4-d-injury\n",
       ":   4alternarialeaf-spot\n",
       ":   32anthracnose\n",
       ":   12bacterial-blight\n",
       ":   5bacterial-pustule\n",
       ":   7brown-spot\n",
       ":   26brown-stem-rot\n",
       ":   11charcoal-rot\n",
       ":   9cyst-nematode\n",
       ":   5diaporthe-pod-&amp;amp;-stem-blight\n",
       ":   4diaporthe-stem-canker\n",
       ":   5downy-mildew\n",
       ":   6frog-eye-leaf-spot\n",
       ":   20herbicide-injury\n",
       ":   3phyllosticta-leaf-spot\n",
       ":   6phytophthora-rot\n",
       ":   26powdery-mildew\n",
       ":   8purple-seed-stain\n",
       ":   8rhizoctonia-root-rot\n",
       ":   7\n",
       "\n"
      ],
      "text/plain": [
       "               2-4-d-injury         alternarialeaf-spot \n",
       "                          4                          32 \n",
       "                anthracnose            bacterial-blight \n",
       "                         12                           5 \n",
       "          bacterial-pustule                  brown-spot \n",
       "                          7                          26 \n",
       "             brown-stem-rot                charcoal-rot \n",
       "                         11                           9 \n",
       "              cyst-nematode diaporthe-pod-&-stem-blight \n",
       "                          5                           4 \n",
       "      diaporthe-stem-canker                downy-mildew \n",
       "                          5                           6 \n",
       "         frog-eye-leaf-spot            herbicide-injury \n",
       "                         20                           3 \n",
       "     phyllosticta-leaf-spot            phytophthora-rot \n",
       "                          6                          26 \n",
       "             powdery-mildew           purple-seed-stain \n",
       "                          8                           8 \n",
       "       rhizoctonia-root-rot \n",
       "                          7 "
      ]
     },
     "metadata": {},
     "output_type": "display_data"
    }
   ],
   "source": [
    "previsao = predict(modelo, newdata=amostra_teste)\n",
    "summary(previsao)"
   ]
  },
  {
   "cell_type": "markdown",
   "metadata": {},
   "source": [
    "## Matriz de Confusão"
   ]
  },
  {
   "cell_type": "code",
   "execution_count": 6,
   "metadata": {
    "vscode": {
     "languageId": "r"
    }
   },
   "outputs": [
    {
     "data": {
      "text/html": [
       "<table class=\"dataframe\">\n",
       "<caption>A matrix: 19 × 20 of type dbl</caption>\n",
       "<thead>\n",
       "\t<tr><th></th><th scope=col>2-4-d-injury</th><th scope=col>alternarialeaf-spot</th><th scope=col>anthracnose</th><th scope=col>bacterial-blight</th><th scope=col>bacterial-pustule</th><th scope=col>brown-spot</th><th scope=col>brown-stem-rot</th><th scope=col>charcoal-rot</th><th scope=col>cyst-nematode</th><th scope=col>diaporthe-pod-&amp;-stem-blight</th><th scope=col>diaporthe-stem-canker</th><th scope=col>downy-mildew</th><th scope=col>frog-eye-leaf-spot</th><th scope=col>herbicide-injury</th><th scope=col>phyllosticta-leaf-spot</th><th scope=col>phytophthora-rot</th><th scope=col>powdery-mildew</th><th scope=col>purple-seed-stain</th><th scope=col>rhizoctonia-root-rot</th><th scope=col>class.error</th></tr>\n",
       "</thead>\n",
       "<tbody>\n",
       "\t<tr><th scope=row>2-4-d-injury</th><td>12</td><td> 0</td><td> 0</td><td> 0</td><td> 0</td><td> 0</td><td> 0</td><td> 0</td><td>0</td><td> 0</td><td> 0</td><td> 0</td><td> 0</td><td>0</td><td> 0</td><td> 0</td><td> 0</td><td> 0</td><td> 0</td><td>0.00000000</td></tr>\n",
       "\t<tr><th scope=row>alternarialeaf-spot</th><td> 0</td><td>61</td><td> 0</td><td> 0</td><td> 0</td><td> 0</td><td> 0</td><td> 0</td><td>0</td><td> 0</td><td> 0</td><td> 0</td><td> 3</td><td>0</td><td> 0</td><td> 0</td><td> 0</td><td> 0</td><td> 0</td><td>0.04687500</td></tr>\n",
       "\t<tr><th scope=row>anthracnose</th><td> 0</td><td> 0</td><td>32</td><td> 0</td><td> 0</td><td> 0</td><td> 0</td><td> 0</td><td>0</td><td> 0</td><td> 0</td><td> 0</td><td> 0</td><td>0</td><td> 0</td><td> 0</td><td> 0</td><td> 0</td><td> 0</td><td>0.00000000</td></tr>\n",
       "\t<tr><th scope=row>bacterial-blight</th><td> 0</td><td> 0</td><td> 0</td><td>16</td><td> 0</td><td> 0</td><td> 0</td><td> 0</td><td>0</td><td> 0</td><td> 0</td><td> 0</td><td> 0</td><td>0</td><td> 0</td><td> 0</td><td> 0</td><td> 0</td><td> 0</td><td>0.00000000</td></tr>\n",
       "\t<tr><th scope=row>bacterial-pustule</th><td> 0</td><td> 0</td><td> 0</td><td> 2</td><td>10</td><td> 0</td><td> 0</td><td> 0</td><td>0</td><td> 0</td><td> 0</td><td> 0</td><td> 0</td><td>0</td><td> 0</td><td> 0</td><td> 0</td><td> 0</td><td> 0</td><td>0.16666667</td></tr>\n",
       "\t<tr><th scope=row>brown-spot</th><td> 0</td><td> 1</td><td> 0</td><td> 0</td><td> 0</td><td>62</td><td> 0</td><td> 0</td><td>0</td><td> 0</td><td> 0</td><td> 0</td><td> 3</td><td>0</td><td> 1</td><td> 0</td><td> 0</td><td> 0</td><td> 0</td><td>0.07462687</td></tr>\n",
       "\t<tr><th scope=row>brown-stem-rot</th><td> 0</td><td> 0</td><td> 0</td><td> 0</td><td> 0</td><td> 0</td><td>33</td><td> 0</td><td>0</td><td> 0</td><td> 0</td><td> 0</td><td> 0</td><td>0</td><td> 0</td><td> 0</td><td> 0</td><td> 0</td><td> 0</td><td>0.00000000</td></tr>\n",
       "\t<tr><th scope=row>charcoal-rot</th><td> 0</td><td> 0</td><td> 0</td><td> 0</td><td> 0</td><td> 0</td><td> 0</td><td>11</td><td>0</td><td> 0</td><td> 0</td><td> 0</td><td> 0</td><td>0</td><td> 0</td><td> 0</td><td> 0</td><td> 0</td><td> 0</td><td>0.00000000</td></tr>\n",
       "\t<tr><th scope=row>cyst-nematode</th><td> 0</td><td> 0</td><td> 0</td><td> 0</td><td> 0</td><td> 0</td><td> 0</td><td> 0</td><td>9</td><td> 0</td><td> 0</td><td> 0</td><td> 0</td><td>0</td><td> 0</td><td> 0</td><td> 0</td><td> 0</td><td> 0</td><td>0.00000000</td></tr>\n",
       "\t<tr><th scope=row>diaporthe-pod-&amp;-stem-blight</th><td> 0</td><td> 0</td><td> 0</td><td> 0</td><td> 0</td><td> 0</td><td> 0</td><td> 0</td><td>0</td><td>11</td><td> 0</td><td> 0</td><td> 0</td><td>0</td><td> 0</td><td> 0</td><td> 0</td><td> 0</td><td> 0</td><td>0.00000000</td></tr>\n",
       "\t<tr><th scope=row>diaporthe-stem-canker</th><td> 0</td><td> 0</td><td> 0</td><td> 0</td><td> 0</td><td> 0</td><td> 0</td><td> 0</td><td>0</td><td> 0</td><td>15</td><td> 0</td><td> 0</td><td>0</td><td> 0</td><td> 0</td><td> 0</td><td> 0</td><td> 0</td><td>0.00000000</td></tr>\n",
       "\t<tr><th scope=row>downy-mildew</th><td> 0</td><td> 0</td><td> 0</td><td> 0</td><td> 0</td><td> 0</td><td> 0</td><td> 0</td><td>0</td><td> 0</td><td> 0</td><td>14</td><td> 0</td><td>0</td><td> 0</td><td> 0</td><td> 0</td><td> 0</td><td> 0</td><td>0.00000000</td></tr>\n",
       "\t<tr><th scope=row>frog-eye-leaf-spot</th><td> 0</td><td>13</td><td> 0</td><td> 0</td><td> 0</td><td> 3</td><td> 0</td><td> 0</td><td>0</td><td> 0</td><td> 0</td><td> 0</td><td>50</td><td>0</td><td> 0</td><td> 0</td><td> 0</td><td> 0</td><td> 0</td><td>0.24242424</td></tr>\n",
       "\t<tr><th scope=row>herbicide-injury</th><td> 0</td><td> 0</td><td> 0</td><td> 0</td><td> 0</td><td> 0</td><td> 0</td><td> 0</td><td>0</td><td> 0</td><td> 0</td><td> 0</td><td> 0</td><td>5</td><td> 0</td><td> 0</td><td> 0</td><td> 0</td><td> 0</td><td>0.00000000</td></tr>\n",
       "\t<tr><th scope=row>phyllosticta-leaf-spot</th><td> 0</td><td> 1</td><td> 0</td><td> 0</td><td> 0</td><td> 2</td><td> 0</td><td> 0</td><td>0</td><td> 0</td><td> 0</td><td> 0</td><td> 0</td><td>0</td><td>10</td><td> 0</td><td> 0</td><td> 0</td><td> 0</td><td>0.23076923</td></tr>\n",
       "\t<tr><th scope=row>phytophthora-rot</th><td> 0</td><td> 0</td><td> 0</td><td> 0</td><td> 0</td><td> 0</td><td> 0</td><td> 0</td><td>0</td><td> 0</td><td> 0</td><td> 0</td><td> 0</td><td>0</td><td> 0</td><td>62</td><td> 0</td><td> 0</td><td> 0</td><td>0.00000000</td></tr>\n",
       "\t<tr><th scope=row>powdery-mildew</th><td> 0</td><td> 0</td><td> 0</td><td> 0</td><td> 0</td><td> 0</td><td> 0</td><td> 0</td><td>0</td><td> 0</td><td> 0</td><td> 0</td><td> 0</td><td>0</td><td> 0</td><td> 0</td><td>12</td><td> 0</td><td> 0</td><td>0.00000000</td></tr>\n",
       "\t<tr><th scope=row>purple-seed-stain</th><td> 0</td><td> 0</td><td> 0</td><td> 0</td><td> 0</td><td> 0</td><td> 0</td><td> 0</td><td>0</td><td> 0</td><td> 0</td><td> 0</td><td> 0</td><td>0</td><td> 0</td><td> 0</td><td> 0</td><td>12</td><td> 0</td><td>0.00000000</td></tr>\n",
       "\t<tr><th scope=row>rhizoctonia-root-rot</th><td> 0</td><td> 0</td><td> 0</td><td> 0</td><td> 0</td><td> 0</td><td> 0</td><td> 0</td><td>0</td><td> 0</td><td> 0</td><td> 0</td><td> 0</td><td>0</td><td> 0</td><td> 0</td><td> 0</td><td> 0</td><td>13</td><td>0.00000000</td></tr>\n",
       "</tbody>\n",
       "</table>\n"
      ],
      "text/latex": [
       "A matrix: 19 × 20 of type dbl\n",
       "\\begin{tabular}{r|llllllllllllllllllll}\n",
       "  & 2-4-d-injury & alternarialeaf-spot & anthracnose & bacterial-blight & bacterial-pustule & brown-spot & brown-stem-rot & charcoal-rot & cyst-nematode & diaporthe-pod-\\&-stem-blight & diaporthe-stem-canker & downy-mildew & frog-eye-leaf-spot & herbicide-injury & phyllosticta-leaf-spot & phytophthora-rot & powdery-mildew & purple-seed-stain & rhizoctonia-root-rot & class.error\\\\\n",
       "\\hline\n",
       "\t2-4-d-injury & 12 &  0 &  0 &  0 &  0 &  0 &  0 &  0 & 0 &  0 &  0 &  0 &  0 & 0 &  0 &  0 &  0 &  0 &  0 & 0.00000000\\\\\n",
       "\talternarialeaf-spot &  0 & 61 &  0 &  0 &  0 &  0 &  0 &  0 & 0 &  0 &  0 &  0 &  3 & 0 &  0 &  0 &  0 &  0 &  0 & 0.04687500\\\\\n",
       "\tanthracnose &  0 &  0 & 32 &  0 &  0 &  0 &  0 &  0 & 0 &  0 &  0 &  0 &  0 & 0 &  0 &  0 &  0 &  0 &  0 & 0.00000000\\\\\n",
       "\tbacterial-blight &  0 &  0 &  0 & 16 &  0 &  0 &  0 &  0 & 0 &  0 &  0 &  0 &  0 & 0 &  0 &  0 &  0 &  0 &  0 & 0.00000000\\\\\n",
       "\tbacterial-pustule &  0 &  0 &  0 &  2 & 10 &  0 &  0 &  0 & 0 &  0 &  0 &  0 &  0 & 0 &  0 &  0 &  0 &  0 &  0 & 0.16666667\\\\\n",
       "\tbrown-spot &  0 &  1 &  0 &  0 &  0 & 62 &  0 &  0 & 0 &  0 &  0 &  0 &  3 & 0 &  1 &  0 &  0 &  0 &  0 & 0.07462687\\\\\n",
       "\tbrown-stem-rot &  0 &  0 &  0 &  0 &  0 &  0 & 33 &  0 & 0 &  0 &  0 &  0 &  0 & 0 &  0 &  0 &  0 &  0 &  0 & 0.00000000\\\\\n",
       "\tcharcoal-rot &  0 &  0 &  0 &  0 &  0 &  0 &  0 & 11 & 0 &  0 &  0 &  0 &  0 & 0 &  0 &  0 &  0 &  0 &  0 & 0.00000000\\\\\n",
       "\tcyst-nematode &  0 &  0 &  0 &  0 &  0 &  0 &  0 &  0 & 9 &  0 &  0 &  0 &  0 & 0 &  0 &  0 &  0 &  0 &  0 & 0.00000000\\\\\n",
       "\tdiaporthe-pod-\\&-stem-blight &  0 &  0 &  0 &  0 &  0 &  0 &  0 &  0 & 0 & 11 &  0 &  0 &  0 & 0 &  0 &  0 &  0 &  0 &  0 & 0.00000000\\\\\n",
       "\tdiaporthe-stem-canker &  0 &  0 &  0 &  0 &  0 &  0 &  0 &  0 & 0 &  0 & 15 &  0 &  0 & 0 &  0 &  0 &  0 &  0 &  0 & 0.00000000\\\\\n",
       "\tdowny-mildew &  0 &  0 &  0 &  0 &  0 &  0 &  0 &  0 & 0 &  0 &  0 & 14 &  0 & 0 &  0 &  0 &  0 &  0 &  0 & 0.00000000\\\\\n",
       "\tfrog-eye-leaf-spot &  0 & 13 &  0 &  0 &  0 &  3 &  0 &  0 & 0 &  0 &  0 &  0 & 50 & 0 &  0 &  0 &  0 &  0 &  0 & 0.24242424\\\\\n",
       "\therbicide-injury &  0 &  0 &  0 &  0 &  0 &  0 &  0 &  0 & 0 &  0 &  0 &  0 &  0 & 5 &  0 &  0 &  0 &  0 &  0 & 0.00000000\\\\\n",
       "\tphyllosticta-leaf-spot &  0 &  1 &  0 &  0 &  0 &  2 &  0 &  0 & 0 &  0 &  0 &  0 &  0 & 0 & 10 &  0 &  0 &  0 &  0 & 0.23076923\\\\\n",
       "\tphytophthora-rot &  0 &  0 &  0 &  0 &  0 &  0 &  0 &  0 & 0 &  0 &  0 &  0 &  0 & 0 &  0 & 62 &  0 &  0 &  0 & 0.00000000\\\\\n",
       "\tpowdery-mildew &  0 &  0 &  0 &  0 &  0 &  0 &  0 &  0 & 0 &  0 &  0 &  0 &  0 & 0 &  0 &  0 & 12 &  0 &  0 & 0.00000000\\\\\n",
       "\tpurple-seed-stain &  0 &  0 &  0 &  0 &  0 &  0 &  0 &  0 & 0 &  0 &  0 &  0 &  0 & 0 &  0 &  0 &  0 & 12 &  0 & 0.00000000\\\\\n",
       "\trhizoctonia-root-rot &  0 &  0 &  0 &  0 &  0 &  0 &  0 &  0 & 0 &  0 &  0 &  0 &  0 & 0 &  0 &  0 &  0 &  0 & 13 & 0.00000000\\\\\n",
       "\\end{tabular}\n"
      ],
      "text/markdown": [
       "\n",
       "A matrix: 19 × 20 of type dbl\n",
       "\n",
       "| <!--/--> | 2-4-d-injury | alternarialeaf-spot | anthracnose | bacterial-blight | bacterial-pustule | brown-spot | brown-stem-rot | charcoal-rot | cyst-nematode | diaporthe-pod-&amp;-stem-blight | diaporthe-stem-canker | downy-mildew | frog-eye-leaf-spot | herbicide-injury | phyllosticta-leaf-spot | phytophthora-rot | powdery-mildew | purple-seed-stain | rhizoctonia-root-rot | class.error |\n",
       "|---|---|---|---|---|---|---|---|---|---|---|---|---|---|---|---|---|---|---|---|---|\n",
       "| 2-4-d-injury | 12 |  0 |  0 |  0 |  0 |  0 |  0 |  0 | 0 |  0 |  0 |  0 |  0 | 0 |  0 |  0 |  0 |  0 |  0 | 0.00000000 |\n",
       "| alternarialeaf-spot |  0 | 61 |  0 |  0 |  0 |  0 |  0 |  0 | 0 |  0 |  0 |  0 |  3 | 0 |  0 |  0 |  0 |  0 |  0 | 0.04687500 |\n",
       "| anthracnose |  0 |  0 | 32 |  0 |  0 |  0 |  0 |  0 | 0 |  0 |  0 |  0 |  0 | 0 |  0 |  0 |  0 |  0 |  0 | 0.00000000 |\n",
       "| bacterial-blight |  0 |  0 |  0 | 16 |  0 |  0 |  0 |  0 | 0 |  0 |  0 |  0 |  0 | 0 |  0 |  0 |  0 |  0 |  0 | 0.00000000 |\n",
       "| bacterial-pustule |  0 |  0 |  0 |  2 | 10 |  0 |  0 |  0 | 0 |  0 |  0 |  0 |  0 | 0 |  0 |  0 |  0 |  0 |  0 | 0.16666667 |\n",
       "| brown-spot |  0 |  1 |  0 |  0 |  0 | 62 |  0 |  0 | 0 |  0 |  0 |  0 |  3 | 0 |  1 |  0 |  0 |  0 |  0 | 0.07462687 |\n",
       "| brown-stem-rot |  0 |  0 |  0 |  0 |  0 |  0 | 33 |  0 | 0 |  0 |  0 |  0 |  0 | 0 |  0 |  0 |  0 |  0 |  0 | 0.00000000 |\n",
       "| charcoal-rot |  0 |  0 |  0 |  0 |  0 |  0 |  0 | 11 | 0 |  0 |  0 |  0 |  0 | 0 |  0 |  0 |  0 |  0 |  0 | 0.00000000 |\n",
       "| cyst-nematode |  0 |  0 |  0 |  0 |  0 |  0 |  0 |  0 | 9 |  0 |  0 |  0 |  0 | 0 |  0 |  0 |  0 |  0 |  0 | 0.00000000 |\n",
       "| diaporthe-pod-&amp;-stem-blight |  0 |  0 |  0 |  0 |  0 |  0 |  0 |  0 | 0 | 11 |  0 |  0 |  0 | 0 |  0 |  0 |  0 |  0 |  0 | 0.00000000 |\n",
       "| diaporthe-stem-canker |  0 |  0 |  0 |  0 |  0 |  0 |  0 |  0 | 0 |  0 | 15 |  0 |  0 | 0 |  0 |  0 |  0 |  0 |  0 | 0.00000000 |\n",
       "| downy-mildew |  0 |  0 |  0 |  0 |  0 |  0 |  0 |  0 | 0 |  0 |  0 | 14 |  0 | 0 |  0 |  0 |  0 |  0 |  0 | 0.00000000 |\n",
       "| frog-eye-leaf-spot |  0 | 13 |  0 |  0 |  0 |  3 |  0 |  0 | 0 |  0 |  0 |  0 | 50 | 0 |  0 |  0 |  0 |  0 |  0 | 0.24242424 |\n",
       "| herbicide-injury |  0 |  0 |  0 |  0 |  0 |  0 |  0 |  0 | 0 |  0 |  0 |  0 |  0 | 5 |  0 |  0 |  0 |  0 |  0 | 0.00000000 |\n",
       "| phyllosticta-leaf-spot |  0 |  1 |  0 |  0 |  0 |  2 |  0 |  0 | 0 |  0 |  0 |  0 |  0 | 0 | 10 |  0 |  0 |  0 |  0 | 0.23076923 |\n",
       "| phytophthora-rot |  0 |  0 |  0 |  0 |  0 |  0 |  0 |  0 | 0 |  0 |  0 |  0 |  0 | 0 |  0 | 62 |  0 |  0 |  0 | 0.00000000 |\n",
       "| powdery-mildew |  0 |  0 |  0 |  0 |  0 |  0 |  0 |  0 | 0 |  0 |  0 |  0 |  0 | 0 |  0 |  0 | 12 |  0 |  0 | 0.00000000 |\n",
       "| purple-seed-stain |  0 |  0 |  0 |  0 |  0 |  0 |  0 |  0 | 0 |  0 |  0 |  0 |  0 | 0 |  0 |  0 |  0 | 12 |  0 | 0.00000000 |\n",
       "| rhizoctonia-root-rot |  0 |  0 |  0 |  0 |  0 |  0 |  0 |  0 | 0 |  0 |  0 |  0 |  0 | 0 |  0 |  0 |  0 |  0 | 13 | 0.00000000 |\n",
       "\n"
      ],
      "text/plain": [
       "                            2-4-d-injury alternarialeaf-spot anthracnose\n",
       "2-4-d-injury                12            0                   0         \n",
       "alternarialeaf-spot          0           61                   0         \n",
       "anthracnose                  0            0                  32         \n",
       "bacterial-blight             0            0                   0         \n",
       "bacterial-pustule            0            0                   0         \n",
       "brown-spot                   0            1                   0         \n",
       "brown-stem-rot               0            0                   0         \n",
       "charcoal-rot                 0            0                   0         \n",
       "cyst-nematode                0            0                   0         \n",
       "diaporthe-pod-&-stem-blight  0            0                   0         \n",
       "diaporthe-stem-canker        0            0                   0         \n",
       "downy-mildew                 0            0                   0         \n",
       "frog-eye-leaf-spot           0           13                   0         \n",
       "herbicide-injury             0            0                   0         \n",
       "phyllosticta-leaf-spot       0            1                   0         \n",
       "phytophthora-rot             0            0                   0         \n",
       "powdery-mildew               0            0                   0         \n",
       "purple-seed-stain            0            0                   0         \n",
       "rhizoctonia-root-rot         0            0                   0         \n",
       "                            bacterial-blight bacterial-pustule brown-spot\n",
       "2-4-d-injury                 0                0                 0        \n",
       "alternarialeaf-spot          0                0                 0        \n",
       "anthracnose                  0                0                 0        \n",
       "bacterial-blight            16                0                 0        \n",
       "bacterial-pustule            2               10                 0        \n",
       "brown-spot                   0                0                62        \n",
       "brown-stem-rot               0                0                 0        \n",
       "charcoal-rot                 0                0                 0        \n",
       "cyst-nematode                0                0                 0        \n",
       "diaporthe-pod-&-stem-blight  0                0                 0        \n",
       "diaporthe-stem-canker        0                0                 0        \n",
       "downy-mildew                 0                0                 0        \n",
       "frog-eye-leaf-spot           0                0                 3        \n",
       "herbicide-injury             0                0                 0        \n",
       "phyllosticta-leaf-spot       0                0                 2        \n",
       "phytophthora-rot             0                0                 0        \n",
       "powdery-mildew               0                0                 0        \n",
       "purple-seed-stain            0                0                 0        \n",
       "rhizoctonia-root-rot         0                0                 0        \n",
       "                            brown-stem-rot charcoal-rot cyst-nematode\n",
       "2-4-d-injury                 0              0           0            \n",
       "alternarialeaf-spot          0              0           0            \n",
       "anthracnose                  0              0           0            \n",
       "bacterial-blight             0              0           0            \n",
       "bacterial-pustule            0              0           0            \n",
       "brown-spot                   0              0           0            \n",
       "brown-stem-rot              33              0           0            \n",
       "charcoal-rot                 0             11           0            \n",
       "cyst-nematode                0              0           9            \n",
       "diaporthe-pod-&-stem-blight  0              0           0            \n",
       "diaporthe-stem-canker        0              0           0            \n",
       "downy-mildew                 0              0           0            \n",
       "frog-eye-leaf-spot           0              0           0            \n",
       "herbicide-injury             0              0           0            \n",
       "phyllosticta-leaf-spot       0              0           0            \n",
       "phytophthora-rot             0              0           0            \n",
       "powdery-mildew               0              0           0            \n",
       "purple-seed-stain            0              0           0            \n",
       "rhizoctonia-root-rot         0              0           0            \n",
       "                            diaporthe-pod-&-stem-blight diaporthe-stem-canker\n",
       "2-4-d-injury                 0                           0                   \n",
       "alternarialeaf-spot          0                           0                   \n",
       "anthracnose                  0                           0                   \n",
       "bacterial-blight             0                           0                   \n",
       "bacterial-pustule            0                           0                   \n",
       "brown-spot                   0                           0                   \n",
       "brown-stem-rot               0                           0                   \n",
       "charcoal-rot                 0                           0                   \n",
       "cyst-nematode                0                           0                   \n",
       "diaporthe-pod-&-stem-blight 11                           0                   \n",
       "diaporthe-stem-canker        0                          15                   \n",
       "downy-mildew                 0                           0                   \n",
       "frog-eye-leaf-spot           0                           0                   \n",
       "herbicide-injury             0                           0                   \n",
       "phyllosticta-leaf-spot       0                           0                   \n",
       "phytophthora-rot             0                           0                   \n",
       "powdery-mildew               0                           0                   \n",
       "purple-seed-stain            0                           0                   \n",
       "rhizoctonia-root-rot         0                           0                   \n",
       "                            downy-mildew frog-eye-leaf-spot herbicide-injury\n",
       "2-4-d-injury                 0            0                 0               \n",
       "alternarialeaf-spot          0            3                 0               \n",
       "anthracnose                  0            0                 0               \n",
       "bacterial-blight             0            0                 0               \n",
       "bacterial-pustule            0            0                 0               \n",
       "brown-spot                   0            3                 0               \n",
       "brown-stem-rot               0            0                 0               \n",
       "charcoal-rot                 0            0                 0               \n",
       "cyst-nematode                0            0                 0               \n",
       "diaporthe-pod-&-stem-blight  0            0                 0               \n",
       "diaporthe-stem-canker        0            0                 0               \n",
       "downy-mildew                14            0                 0               \n",
       "frog-eye-leaf-spot           0           50                 0               \n",
       "herbicide-injury             0            0                 5               \n",
       "phyllosticta-leaf-spot       0            0                 0               \n",
       "phytophthora-rot             0            0                 0               \n",
       "powdery-mildew               0            0                 0               \n",
       "purple-seed-stain            0            0                 0               \n",
       "rhizoctonia-root-rot         0            0                 0               \n",
       "                            phyllosticta-leaf-spot phytophthora-rot\n",
       "2-4-d-injury                 0                      0              \n",
       "alternarialeaf-spot          0                      0              \n",
       "anthracnose                  0                      0              \n",
       "bacterial-blight             0                      0              \n",
       "bacterial-pustule            0                      0              \n",
       "brown-spot                   1                      0              \n",
       "brown-stem-rot               0                      0              \n",
       "charcoal-rot                 0                      0              \n",
       "cyst-nematode                0                      0              \n",
       "diaporthe-pod-&-stem-blight  0                      0              \n",
       "diaporthe-stem-canker        0                      0              \n",
       "downy-mildew                 0                      0              \n",
       "frog-eye-leaf-spot           0                      0              \n",
       "herbicide-injury             0                      0              \n",
       "phyllosticta-leaf-spot      10                      0              \n",
       "phytophthora-rot             0                     62              \n",
       "powdery-mildew               0                      0              \n",
       "purple-seed-stain            0                      0              \n",
       "rhizoctonia-root-rot         0                      0              \n",
       "                            powdery-mildew purple-seed-stain\n",
       "2-4-d-injury                 0              0               \n",
       "alternarialeaf-spot          0              0               \n",
       "anthracnose                  0              0               \n",
       "bacterial-blight             0              0               \n",
       "bacterial-pustule            0              0               \n",
       "brown-spot                   0              0               \n",
       "brown-stem-rot               0              0               \n",
       "charcoal-rot                 0              0               \n",
       "cyst-nematode                0              0               \n",
       "diaporthe-pod-&-stem-blight  0              0               \n",
       "diaporthe-stem-canker        0              0               \n",
       "downy-mildew                 0              0               \n",
       "frog-eye-leaf-spot           0              0               \n",
       "herbicide-injury             0              0               \n",
       "phyllosticta-leaf-spot       0              0               \n",
       "phytophthora-rot             0              0               \n",
       "powdery-mildew              12              0               \n",
       "purple-seed-stain            0             12               \n",
       "rhizoctonia-root-rot         0              0               \n",
       "                            rhizoctonia-root-rot class.error\n",
       "2-4-d-injury                 0                   0.00000000 \n",
       "alternarialeaf-spot          0                   0.04687500 \n",
       "anthracnose                  0                   0.00000000 \n",
       "bacterial-blight             0                   0.00000000 \n",
       "bacterial-pustule            0                   0.16666667 \n",
       "brown-spot                   0                   0.07462687 \n",
       "brown-stem-rot               0                   0.00000000 \n",
       "charcoal-rot                 0                   0.00000000 \n",
       "cyst-nematode                0                   0.00000000 \n",
       "diaporthe-pod-&-stem-blight  0                   0.00000000 \n",
       "diaporthe-stem-canker        0                   0.00000000 \n",
       "downy-mildew                 0                   0.00000000 \n",
       "frog-eye-leaf-spot           0                   0.24242424 \n",
       "herbicide-injury             0                   0.00000000 \n",
       "phyllosticta-leaf-spot       0                   0.23076923 \n",
       "phytophthora-rot             0                   0.00000000 \n",
       "powdery-mildew               0                   0.00000000 \n",
       "purple-seed-stain            0                   0.00000000 \n",
       "rhizoctonia-root-rot        13                   0.00000000 "
      ]
     },
     "metadata": {},
     "output_type": "display_data"
    },
    {
     "data": {
      "text/html": [
       "93.7966321670588"
      ],
      "text/latex": [
       "93.7966321670588"
      ],
      "text/markdown": [
       "93.7966321670588"
      ],
      "text/plain": [
       "[1] 93.79663"
      ]
     },
     "metadata": {},
     "output_type": "display_data"
    }
   ],
   "source": [
    "confusao = modelo$confusion\n",
    "confusao\n",
    "taxaacerto = sum(diag(confusao)) * 100 / sum(confusao)\n",
    "taxaacerto"
   ]
  }
 ],
 "metadata": {
  "kernelspec": {
   "display_name": "R",
   "language": "R",
   "name": "ir"
  },
  "language_info": {
   "codemirror_mode": "r",
   "file_extension": ".r",
   "mimetype": "text/x-r-source",
   "name": "R",
   "pygments_lexer": "r",
   "version": "4.3.2"
  }
 },
 "nbformat": 4,
 "nbformat_minor": 2
}
