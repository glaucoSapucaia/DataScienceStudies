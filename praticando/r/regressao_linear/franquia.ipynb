{
 "cells": [
  {
   "cell_type": "markdown",
   "metadata": {
    "vscode": {
     "languageId": "r"
    }
   },
   "source": [
    "## DB = slr12"
   ]
  },
  {
   "cell_type": "code",
   "execution_count": 13,
   "metadata": {
    "vscode": {
     "languageId": "r"
    }
   },
   "outputs": [
    {
     "data": {
      "text/html": [
       "<style>\n",
       ".list-inline {list-style: none; margin:0; padding: 0}\n",
       ".list-inline>li {display: inline-block}\n",
       ".list-inline>li:not(:last-child)::after {content: \"\\00b7\"; padding: 0 .5ex}\n",
       "</style>\n",
       "<ol class=list-inline><li>36</li><li>2</li></ol>\n"
      ],
      "text/latex": [
       "\\begin{enumerate*}\n",
       "\\item 36\n",
       "\\item 2\n",
       "\\end{enumerate*}\n"
      ],
      "text/markdown": [
       "1. 36\n",
       "2. 2\n",
       "\n",
       "\n"
      ],
      "text/plain": [
       "[1] 36  2"
      ]
     },
     "metadata": {},
     "output_type": "display_data"
    },
    {
     "data": {
      "text/plain": [
       "    FrqAnual       CusInic    \n",
       " Min.   : 700   Min.   :1050  \n",
       " 1st Qu.:1080   1st Qu.:1250  \n",
       " Median :1162   Median :1278  \n",
       " Mean   :1135   Mean   :1291  \n",
       " 3rd Qu.:1250   3rd Qu.:1300  \n",
       " Max.   :1375   Max.   :1830  "
      ]
     },
     "metadata": {},
     "output_type": "display_data"
    },
    {
     "data": {
      "text/html": [
       "<table class=\"dataframe\">\n",
       "<caption>A data.frame: 6 × 2</caption>\n",
       "<thead>\n",
       "\t<tr><th></th><th scope=col>FrqAnual</th><th scope=col>CusInic</th></tr>\n",
       "\t<tr><th></th><th scope=col>&lt;int&gt;</th><th scope=col>&lt;int&gt;</th></tr>\n",
       "</thead>\n",
       "<tbody>\n",
       "\t<tr><th scope=row>1</th><td>1000</td><td>1050</td></tr>\n",
       "\t<tr><th scope=row>2</th><td>1125</td><td>1150</td></tr>\n",
       "\t<tr><th scope=row>3</th><td>1087</td><td>1213</td></tr>\n",
       "\t<tr><th scope=row>4</th><td>1070</td><td>1275</td></tr>\n",
       "\t<tr><th scope=row>5</th><td>1100</td><td>1300</td></tr>\n",
       "\t<tr><th scope=row>6</th><td>1150</td><td>1300</td></tr>\n",
       "</tbody>\n",
       "</table>\n"
      ],
      "text/latex": [
       "A data.frame: 6 × 2\n",
       "\\begin{tabular}{r|ll}\n",
       "  & FrqAnual & CusInic\\\\\n",
       "  & <int> & <int>\\\\\n",
       "\\hline\n",
       "\t1 & 1000 & 1050\\\\\n",
       "\t2 & 1125 & 1150\\\\\n",
       "\t3 & 1087 & 1213\\\\\n",
       "\t4 & 1070 & 1275\\\\\n",
       "\t5 & 1100 & 1300\\\\\n",
       "\t6 & 1150 & 1300\\\\\n",
       "\\end{tabular}\n"
      ],
      "text/markdown": [
       "\n",
       "A data.frame: 6 × 2\n",
       "\n",
       "| <!--/--> | FrqAnual &lt;int&gt; | CusInic &lt;int&gt; |\n",
       "|---|---|---|\n",
       "| 1 | 1000 | 1050 |\n",
       "| 2 | 1125 | 1150 |\n",
       "| 3 | 1087 | 1213 |\n",
       "| 4 | 1070 | 1275 |\n",
       "| 5 | 1100 | 1300 |\n",
       "| 6 | 1150 | 1300 |\n",
       "\n"
      ],
      "text/plain": [
       "  FrqAnual CusInic\n",
       "1 1000     1050   \n",
       "2 1125     1150   \n",
       "3 1087     1213   \n",
       "4 1070     1275   \n",
       "5 1100     1300   \n",
       "6 1150     1300   "
      ]
     },
     "metadata": {},
     "output_type": "display_data"
    }
   ],
   "source": [
    "library(corrgram)\n",
    "\n",
    "my_data = read.csv('slr12.csv', sep=';')\n",
    "dim(my_data)\n",
    "summary(my_data)\n",
    "head(my_data)"
   ]
  },
  {
   "cell_type": "markdown",
   "metadata": {},
   "source": [
    "## NULL values"
   ]
  },
  {
   "cell_type": "code",
   "execution_count": 14,
   "metadata": {
    "vscode": {
     "languageId": "r"
    }
   },
   "outputs": [
    {
     "data": {
      "text/html": [
       "<table class=\"dataframe\">\n",
       "<caption>A data.frame: 0 × 2</caption>\n",
       "<thead>\n",
       "\t<tr><th scope=col>FrqAnual</th><th scope=col>CusInic</th></tr>\n",
       "\t<tr><th scope=col>&lt;int&gt;</th><th scope=col>&lt;int&gt;</th></tr>\n",
       "</thead>\n",
       "<tbody>\n",
       "</tbody>\n",
       "</table>\n"
      ],
      "text/latex": [
       "A data.frame: 0 × 2\n",
       "\\begin{tabular}{ll}\n",
       " FrqAnual & CusInic\\\\\n",
       " <int> & <int>\\\\\n",
       "\\hline\n",
       "\\end{tabular}\n"
      ],
      "text/markdown": [
       "\n",
       "A data.frame: 0 × 2\n",
       "\n",
       "| FrqAnual &lt;int&gt; | CusInic &lt;int&gt; |\n",
       "|---|---|\n",
       "\n"
      ],
      "text/plain": [
       "     FrqAnual CusInic"
      ]
     },
     "metadata": {},
     "output_type": "display_data"
    }
   ],
   "source": [
    "my_data[!complete.cases(my_data), ]"
   ]
  },
  {
   "cell_type": "markdown",
   "metadata": {},
   "source": [
    "## Correlações\n",
    "- Custo inicial VS Franquia anual"
   ]
  },
  {
   "cell_type": "code",
   "execution_count": 15,
   "metadata": {
    "vscode": {
     "languageId": "r"
    }
   },
   "outputs": [
    {
     "data": {
      "text/html": [
       "<table class=\"dataframe\">\n",
       "<caption>A matrix: 2 × 2 of type dbl</caption>\n",
       "<thead>\n",
       "\t<tr><th></th><th scope=col>FrqAnual</th><th scope=col>CusInic</th></tr>\n",
       "</thead>\n",
       "<tbody>\n",
       "\t<tr><th scope=row>FrqAnual</th><td>1.0000000</td><td>0.4770073</td></tr>\n",
       "\t<tr><th scope=row>CusInic</th><td>0.4770073</td><td>1.0000000</td></tr>\n",
       "</tbody>\n",
       "</table>\n"
      ],
      "text/latex": [
       "A matrix: 2 × 2 of type dbl\n",
       "\\begin{tabular}{r|ll}\n",
       "  & FrqAnual & CusInic\\\\\n",
       "\\hline\n",
       "\tFrqAnual & 1.0000000 & 0.4770073\\\\\n",
       "\tCusInic & 0.4770073 & 1.0000000\\\\\n",
       "\\end{tabular}\n"
      ],
      "text/markdown": [
       "\n",
       "A matrix: 2 × 2 of type dbl\n",
       "\n",
       "| <!--/--> | FrqAnual | CusInic |\n",
       "|---|---|---|\n",
       "| FrqAnual | 1.0000000 | 0.4770073 |\n",
       "| CusInic | 0.4770073 | 1.0000000 |\n",
       "\n"
      ],
      "text/plain": [
       "         FrqAnual  CusInic  \n",
       "FrqAnual 1.0000000 0.4770073\n",
       "CusInic  0.4770073 1.0000000"
      ]
     },
     "metadata": {},
     "output_type": "display_data"
    },
    {
     "data": {
      "image/png": "[encoded data removed]",
      "text/plain": [
       "plot without title"
      ]
     },
     "metadata": {
      "image/png": {
       "height": 420,
       "width": 420
      }
     },
     "output_type": "display_data"
    }
   ],
   "source": [
    "cor(my_data)\n",
    "\n",
    "corrgram(my_data, main='Franquias', order=T, lower.panel = panel.shade,\n",
    "upper.panel = panel.pie, text.panel = panel.txt)"
   ]
  },
  {
   "cell_type": "markdown",
   "metadata": {},
   "source": [
    "## Modelo linear"
   ]
  },
  {
   "cell_type": "code",
   "execution_count": 17,
   "metadata": {
    "vscode": {
     "languageId": "r"
    }
   },
   "outputs": [
    {
     "data": {
      "text/plain": [
       "\n",
       "Call:\n",
       "lm(formula = CusInic ~ FrqAnual, data = my_data)\n",
       "\n",
       "Coefficients:\n",
       "(Intercept)     FrqAnual  \n",
       "   867.6042       0.3732  \n"
      ]
     },
     "metadata": {},
     "output_type": "display_data"
    },
    {
     "data": {
      "text/plain": [
       "\n",
       "Call:\n",
       "lm(formula = CusInic ~ FrqAnual, data = my_data)\n",
       "\n",
       "Residuals:\n",
       "    Min      1Q  Median      3Q     Max \n",
       "-190.76  -53.10  -10.73   36.56  458.63 \n",
       "\n",
       "Coefficients:\n",
       "            Estimate Std. Error t value Pr(>|t|)    \n",
       "(Intercept) 867.6042   135.0711   6.423 2.44e-07 ***\n",
       "FrqAnual      0.3732     0.1179   3.165  0.00327 ** \n",
       "---\n",
       "Signif. codes:  0 '***' 0.001 '**' 0.01 '*' 0.05 '.' 0.1 ' ' 1\n",
       "\n",
       "Residual standard error: 110.6 on 34 degrees of freedom\n",
       "Multiple R-squared:  0.2275,\tAdjusted R-squared:  0.2048 \n",
       "F-statistic: 10.01 on 1 and 34 DF,  p-value: 0.003266\n"
      ]
     },
     "metadata": {},
     "output_type": "display_data"
    },
    {
     "data": {
      "image/png": "[encoded data removed]",
      "text/plain": [
       "Plot with title \"Franquias\""
      ]
     },
     "metadata": {
      "image/png": {
       "height": 420,
       "width": 420
      }
     },
     "output_type": "display_data"
    }
   ],
   "source": [
    "modelo = lm(CusInic ~ FrqAnual, data=my_data)\n",
    "modelo\n",
    "summary(modelo)\n",
    "plot(my_data$CusInic ~ my_data$FrqAnual, main='Franquias', col='black', pch=19)\n",
    "abline(modelo, col='purple')"
   ]
  },
  {
   "cell_type": "markdown",
   "metadata": {},
   "source": [
    "## Previsões"
   ]
  },
  {
   "cell_type": "code",
   "execution_count": 25,
   "metadata": {
    "vscode": {
     "languageId": "r"
    }
   },
   "outputs": [
    {
     "name": "stdout",
     "output_type": "stream",
     "text": [
      "[1] \"A previsão de investimento inicial para as franquias anuais de (120, 450, 770, 1324) é respectivamente de: 912.38\" \n",
      "[2] \"A previsão de investimento inicial para as franquias anuais de (120, 450, 770, 1324) é respectivamente de: 1035.53\"\n",
      "[3] \"A previsão de investimento inicial para as franquias anuais de (120, 450, 770, 1324) é respectivamente de: 1154.94\"\n",
      "[4] \"A previsão de investimento inicial para as franquias anuais de (120, 450, 770, 1324) é respectivamente de: 1361.67\"\n"
     ]
    }
   ],
   "source": [
    "prev = predict(modelo, data.frame(FrqAnual=c(120, 450, 770, 1324)))\n",
    "result = paste0('A previsão de investimento inicial para as franquias anuais de (120, 450, 770, 1324) é respectivamente de: ', round(prev, 2))\n",
    "\n",
    "print(result)"
   ]
  }
 ],
 "metadata": {
  "kernelspec": {
   "display_name": "R",
   "language": "R",
   "name": "ir"
  },
  "language_info": {
   "codemirror_mode": "r",
   "file_extension": ".r",
   "mimetype": "text/x-r-source",
   "name": "R",
   "pygments_lexer": "r",
   "version": "4.3.2"
  }
 },
 "nbformat": 4,
 "nbformat_minor": 2
}
