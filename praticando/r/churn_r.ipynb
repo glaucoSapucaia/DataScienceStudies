{
 "cells": [
  {
   "cell_type": "code",
   "execution_count": 31,
   "metadata": {
    "vscode": {
     "languageId": "r"
    }
   },
   "outputs": [
    {
     "data": {
      "text/plain": [
       "       id             score       estado         genero        idade      \n",
       " Min.   :   1.0   Min.   :376.0   PR:257   F        :  2   Min.   :-20.0  \n",
       " 1st Qu.: 251.5   1st Qu.:580.0   RP:  1   Fem      :  1   1st Qu.: 32.0  \n",
       " Median : 501.0   Median :653.0   RS:478   Feminino :461   Median : 37.0  \n",
       " Mean   : 500.9   Mean   :648.6   SC:258   M        :  6   Mean   : 38.9  \n",
       " 3rd Qu.: 750.5   3rd Qu.:721.0   SP:  4   Masculino:521   3rd Qu.: 44.0  \n",
       " Max.   :1000.0   Max.   :850.0   TD:  1   NA's     :  8   Max.   :140.0  \n",
       "                                                                          \n",
       "       x1             saldo                x2              x3        \n",
       " Min.   : 0.000   Min.   :       0   Min.   :1.000   Min.   :0.0000  \n",
       " 1st Qu.: 2.000   1st Qu.:       0   1st Qu.:1.000   1st Qu.:0.0000  \n",
       " Median : 5.000   Median : 8958835   Median :1.000   Median :1.0000  \n",
       " Mean   : 5.069   Mean   : 7164928   Mean   :1.527   Mean   :0.7027  \n",
       " 3rd Qu.: 8.000   3rd Qu.:12586844   3rd Qu.:2.000   3rd Qu.:1.0000  \n",
       " Max.   :10.000   Max.   :21177431   Max.   :4.000   Max.   :1.0000  \n",
       "                                                                     \n",
       "       x4            salario                x5        \n",
       " Min.   :0.0000   Min.   :9.677e+03   Min.   :0.0000  \n",
       " 1st Qu.:0.0000   1st Qu.:3.029e+06   1st Qu.:0.0000  \n",
       " Median :1.0000   Median :8.703e+06   Median :0.0000  \n",
       " Mean   :0.5095   Mean   :3.529e+07   Mean   :0.2032  \n",
       " 3rd Qu.:1.0000   3rd Qu.:1.405e+07   3rd Qu.:0.0000  \n",
       " Max.   :1.0000   Max.   :1.193e+10   Max.   :1.0000  \n",
       "                  NA's   :7                           "
      ]
     },
     "metadata": {},
     "output_type": "display_data"
    },
    {
     "data": {
      "text/html": [
       "<table class=\"dataframe\">\n",
       "<caption>A data.frame: 6 × 12</caption>\n",
       "<thead>\n",
       "\t<tr><th></th><th scope=col>id</th><th scope=col>score</th><th scope=col>estado</th><th scope=col>genero</th><th scope=col>idade</th><th scope=col>x1</th><th scope=col>saldo</th><th scope=col>x2</th><th scope=col>x3</th><th scope=col>x4</th><th scope=col>salario</th><th scope=col>x5</th></tr>\n",
       "\t<tr><th></th><th scope=col>&lt;int&gt;</th><th scope=col>&lt;int&gt;</th><th scope=col>&lt;fct&gt;</th><th scope=col>&lt;fct&gt;</th><th scope=col>&lt;int&gt;</th><th scope=col>&lt;int&gt;</th><th scope=col>&lt;int&gt;</th><th scope=col>&lt;int&gt;</th><th scope=col>&lt;int&gt;</th><th scope=col>&lt;int&gt;</th><th scope=col>&lt;dbl&gt;</th><th scope=col>&lt;int&gt;</th></tr>\n",
       "</thead>\n",
       "<tbody>\n",
       "\t<tr><th scope=row>1</th><td>1</td><td>619</td><td>RS</td><td>Feminino </td><td>42</td><td>2</td><td>       0</td><td>1</td><td>1</td><td>1</td><td>10134888</td><td>1</td></tr>\n",
       "\t<tr><th scope=row>2</th><td>2</td><td>608</td><td>SC</td><td>Feminino </td><td>41</td><td>1</td><td> 8380786</td><td>1</td><td>0</td><td>1</td><td>11254258</td><td>0</td></tr>\n",
       "\t<tr><th scope=row>3</th><td>3</td><td>502</td><td>RS</td><td>Feminino </td><td>42</td><td>8</td><td> 1596608</td><td>3</td><td>1</td><td>0</td><td>11393157</td><td>1</td></tr>\n",
       "\t<tr><th scope=row>4</th><td>4</td><td>699</td><td>RS</td><td>Feminino </td><td>39</td><td>1</td><td>       0</td><td>2</td><td>0</td><td>0</td><td> 9382663</td><td>0</td></tr>\n",
       "\t<tr><th scope=row>5</th><td>5</td><td>850</td><td>SC</td><td>Feminino </td><td>43</td><td>2</td><td>12551082</td><td>1</td><td>1</td><td>1</td><td>  790841</td><td>0</td></tr>\n",
       "\t<tr><th scope=row>6</th><td>6</td><td>645</td><td>SC</td><td>Masculino</td><td>44</td><td>8</td><td>11375578</td><td>2</td><td>1</td><td>0</td><td>14975671</td><td>1</td></tr>\n",
       "</tbody>\n",
       "</table>\n"
      ],
      "text/latex": [
       "A data.frame: 6 × 12\n",
       "\\begin{tabular}{r|llllllllllll}\n",
       "  & id & score & estado & genero & idade & x1 & saldo & x2 & x3 & x4 & salario & x5\\\\\n",
       "  & <int> & <int> & <fct> & <fct> & <int> & <int> & <int> & <int> & <int> & <int> & <dbl> & <int>\\\\\n",
       "\\hline\n",
       "\t1 & 1 & 619 & RS & Feminino  & 42 & 2 &        0 & 1 & 1 & 1 & 10134888 & 1\\\\\n",
       "\t2 & 2 & 608 & SC & Feminino  & 41 & 1 &  8380786 & 1 & 0 & 1 & 11254258 & 0\\\\\n",
       "\t3 & 3 & 502 & RS & Feminino  & 42 & 8 &  1596608 & 3 & 1 & 0 & 11393157 & 1\\\\\n",
       "\t4 & 4 & 699 & RS & Feminino  & 39 & 1 &        0 & 2 & 0 & 0 &  9382663 & 0\\\\\n",
       "\t5 & 5 & 850 & SC & Feminino  & 43 & 2 & 12551082 & 1 & 1 & 1 &   790841 & 0\\\\\n",
       "\t6 & 6 & 645 & SC & Masculino & 44 & 8 & 11375578 & 2 & 1 & 0 & 14975671 & 1\\\\\n",
       "\\end{tabular}\n"
      ],
      "text/markdown": [
       "\n",
       "A data.frame: 6 × 12\n",
       "\n",
       "| <!--/--> | id &lt;int&gt; | score &lt;int&gt; | estado &lt;fct&gt; | genero &lt;fct&gt; | idade &lt;int&gt; | x1 &lt;int&gt; | saldo &lt;int&gt; | x2 &lt;int&gt; | x3 &lt;int&gt; | x4 &lt;int&gt; | salario &lt;dbl&gt; | x5 &lt;int&gt; |\n",
       "|---|---|---|---|---|---|---|---|---|---|---|---|---|\n",
       "| 1 | 1 | 619 | RS | Feminino  | 42 | 2 |        0 | 1 | 1 | 1 | 10134888 | 1 |\n",
       "| 2 | 2 | 608 | SC | Feminino  | 41 | 1 |  8380786 | 1 | 0 | 1 | 11254258 | 0 |\n",
       "| 3 | 3 | 502 | RS | Feminino  | 42 | 8 |  1596608 | 3 | 1 | 0 | 11393157 | 1 |\n",
       "| 4 | 4 | 699 | RS | Feminino  | 39 | 1 |        0 | 2 | 0 | 0 |  9382663 | 0 |\n",
       "| 5 | 5 | 850 | SC | Feminino  | 43 | 2 | 12551082 | 1 | 1 | 1 |   790841 | 0 |\n",
       "| 6 | 6 | 645 | SC | Masculino | 44 | 8 | 11375578 | 2 | 1 | 0 | 14975671 | 1 |\n",
       "\n"
      ],
      "text/plain": [
       "  id score estado genero    idade x1 saldo    x2 x3 x4 salario  x5\n",
       "1 1  619   RS     Feminino  42    2         0 1  1  1  10134888 1 \n",
       "2 2  608   SC     Feminino  41    1   8380786 1  0  1  11254258 0 \n",
       "3 3  502   RS     Feminino  42    8   1596608 3  1  0  11393157 1 \n",
       "4 4  699   RS     Feminino  39    1         0 2  0  0   9382663 0 \n",
       "5 5  850   SC     Feminino  43    2  12551082 1  1  1    790841 0 \n",
       "6 6  645   SC     Masculino 44    8  11375578 2  1  0  14975671 1 "
      ]
     },
     "metadata": {},
     "output_type": "display_data"
    }
   ],
   "source": [
    "data = read.csv('Churn.csv', sep=';', stringsAsFactors=T, na.strings='')\n",
    "colnames(data) = c(\n",
    "    'id', 'score', 'estado', 'genero', 'idade', 'x1', 'saldo', 'x2', 'x3', 'x4',\n",
    "    'salario', 'x5'\n",
    ")\n",
    "summary(data)\n",
    "head(data)"
   ]
  },
  {
   "cell_type": "markdown",
   "metadata": {},
   "source": [
    "## Dados nulos"
   ]
  },
  {
   "cell_type": "code",
   "execution_count": 32,
   "metadata": {
    "vscode": {
     "languageId": "r"
    }
   },
   "outputs": [
    {
     "data": {
      "text/html": [
       "<table class=\"dataframe\">\n",
       "<caption>A data.frame: 15 × 12</caption>\n",
       "<thead>\n",
       "\t<tr><th></th><th scope=col>id</th><th scope=col>score</th><th scope=col>estado</th><th scope=col>genero</th><th scope=col>idade</th><th scope=col>x1</th><th scope=col>saldo</th><th scope=col>x2</th><th scope=col>x3</th><th scope=col>x4</th><th scope=col>salario</th><th scope=col>x5</th></tr>\n",
       "\t<tr><th></th><th scope=col>&lt;int&gt;</th><th scope=col>&lt;int&gt;</th><th scope=col>&lt;fct&gt;</th><th scope=col>&lt;fct&gt;</th><th scope=col>&lt;int&gt;</th><th scope=col>&lt;int&gt;</th><th scope=col>&lt;int&gt;</th><th scope=col>&lt;int&gt;</th><th scope=col>&lt;int&gt;</th><th scope=col>&lt;int&gt;</th><th scope=col>&lt;dbl&gt;</th><th scope=col>&lt;int&gt;</th></tr>\n",
       "</thead>\n",
       "<tbody>\n",
       "\t<tr><th scope=row>18</th><td> 18</td><td>549</td><td>SC</td><td>Feminino </td><td>24</td><td> 9</td><td>       0</td><td>2</td><td>1</td><td>1</td><td>      NA</td><td>0</td></tr>\n",
       "\t<tr><th scope=row>53</th><td> 53</td><td>788</td><td>RS</td><td>Feminino </td><td>33</td><td> 5</td><td>       0</td><td>2</td><td>0</td><td>0</td><td>      NA</td><td>0</td></tr>\n",
       "\t<tr><th scope=row>65</th><td> 65</td><td>603</td><td>PR</td><td>NA       </td><td>26</td><td> 4</td><td>10916637</td><td>1</td><td>1</td><td>1</td><td> 9284067</td><td>0</td></tr>\n",
       "\t<tr><th scope=row>85</th><td> 86</td><td>493</td><td>RS</td><td>NA       </td><td>46</td><td> 4</td><td>       0</td><td>2</td><td>1</td><td>0</td><td>  190766</td><td>0</td></tr>\n",
       "\t<tr><th scope=row>180</th><td>181</td><td>754</td><td>PR</td><td>Feminino </td><td>55</td><td> 3</td><td>16160881</td><td>1</td><td>1</td><td>0</td><td>      NA</td><td>1</td></tr>\n",
       "\t<tr><th scope=row>214</th><td>215</td><td>676</td><td>RS</td><td>NA       </td><td>34</td><td> 1</td><td> 6309501</td><td>1</td><td>1</td><td>1</td><td> 4064581</td><td>0</td></tr>\n",
       "\t<tr><th scope=row>297</th><td>298</td><td>714</td><td>RS</td><td>NA       </td><td>31</td><td> 4</td><td>12516926</td><td>1</td><td>1</td><td>1</td><td>10663689</td><td>0</td></tr>\n",
       "\t<tr><th scope=row>331</th><td>332</td><td>656</td><td>RS</td><td>Masculino</td><td>50</td><td> 7</td><td>       0</td><td>2</td><td>0</td><td>1</td><td>      NA</td><td>0</td></tr>\n",
       "\t<tr><th scope=row>371</th><td>372</td><td>801</td><td>SC</td><td>NA       </td><td>42</td><td> 4</td><td>14194767</td><td>1</td><td>1</td><td>1</td><td> 1059829</td><td>0</td></tr>\n",
       "\t<tr><th scope=row>427</th><td>428</td><td>492</td><td>PR</td><td>Masculino</td><td>39</td><td>10</td><td>12457665</td><td>2</td><td>1</td><td>0</td><td>      NA</td><td>0</td></tr>\n",
       "\t<tr><th scope=row>502</th><td>503</td><td>692</td><td>RS</td><td>NA       </td><td>54</td><td> 5</td><td>       0</td><td>2</td><td>1</td><td>1</td><td> 8872184</td><td>0</td></tr>\n",
       "\t<tr><th scope=row>551</th><td>552</td><td>721</td><td>PR</td><td>Feminino </td><td>36</td><td> 3</td><td> 6525307</td><td>2</td><td>1</td><td>0</td><td>      NA</td><td>0</td></tr>\n",
       "\t<tr><th scope=row>964</th><td>965</td><td>529</td><td>SC</td><td>NA       </td><td>63</td><td> 4</td><td> 9613411</td><td>3</td><td>1</td><td>0</td><td>10873296</td><td>1</td></tr>\n",
       "\t<tr><th scope=row>970</th><td>971</td><td>649</td><td>PR</td><td>NA       </td><td>70</td><td> 9</td><td>11685471</td><td>2</td><td>0</td><td>1</td><td>10712579</td><td>0</td></tr>\n",
       "\t<tr><th scope=row>984</th><td>985</td><td>614</td><td>PR</td><td>Feminino </td><td>35</td><td> 6</td><td>12810028</td><td>1</td><td>0</td><td>0</td><td>      NA</td><td>1</td></tr>\n",
       "</tbody>\n",
       "</table>\n"
      ],
      "text/latex": [
       "A data.frame: 15 × 12\n",
       "\\begin{tabular}{r|llllllllllll}\n",
       "  & id & score & estado & genero & idade & x1 & saldo & x2 & x3 & x4 & salario & x5\\\\\n",
       "  & <int> & <int> & <fct> & <fct> & <int> & <int> & <int> & <int> & <int> & <int> & <dbl> & <int>\\\\\n",
       "\\hline\n",
       "\t18 &  18 & 549 & SC & Feminino  & 24 &  9 &        0 & 2 & 1 & 1 &       NA & 0\\\\\n",
       "\t53 &  53 & 788 & RS & Feminino  & 33 &  5 &        0 & 2 & 0 & 0 &       NA & 0\\\\\n",
       "\t65 &  65 & 603 & PR & NA        & 26 &  4 & 10916637 & 1 & 1 & 1 &  9284067 & 0\\\\\n",
       "\t85 &  86 & 493 & RS & NA        & 46 &  4 &        0 & 2 & 1 & 0 &   190766 & 0\\\\\n",
       "\t180 & 181 & 754 & PR & Feminino  & 55 &  3 & 16160881 & 1 & 1 & 0 &       NA & 1\\\\\n",
       "\t214 & 215 & 676 & RS & NA        & 34 &  1 &  6309501 & 1 & 1 & 1 &  4064581 & 0\\\\\n",
       "\t297 & 298 & 714 & RS & NA        & 31 &  4 & 12516926 & 1 & 1 & 1 & 10663689 & 0\\\\\n",
       "\t331 & 332 & 656 & RS & Masculino & 50 &  7 &        0 & 2 & 0 & 1 &       NA & 0\\\\\n",
       "\t371 & 372 & 801 & SC & NA        & 42 &  4 & 14194767 & 1 & 1 & 1 &  1059829 & 0\\\\\n",
       "\t427 & 428 & 492 & PR & Masculino & 39 & 10 & 12457665 & 2 & 1 & 0 &       NA & 0\\\\\n",
       "\t502 & 503 & 692 & RS & NA        & 54 &  5 &        0 & 2 & 1 & 1 &  8872184 & 0\\\\\n",
       "\t551 & 552 & 721 & PR & Feminino  & 36 &  3 &  6525307 & 2 & 1 & 0 &       NA & 0\\\\\n",
       "\t964 & 965 & 529 & SC & NA        & 63 &  4 &  9613411 & 3 & 1 & 0 & 10873296 & 1\\\\\n",
       "\t970 & 971 & 649 & PR & NA        & 70 &  9 & 11685471 & 2 & 0 & 1 & 10712579 & 0\\\\\n",
       "\t984 & 985 & 614 & PR & Feminino  & 35 &  6 & 12810028 & 1 & 0 & 0 &       NA & 1\\\\\n",
       "\\end{tabular}\n"
      ],
      "text/markdown": [
       "\n",
       "A data.frame: 15 × 12\n",
       "\n",
       "| <!--/--> | id &lt;int&gt; | score &lt;int&gt; | estado &lt;fct&gt; | genero &lt;fct&gt; | idade &lt;int&gt; | x1 &lt;int&gt; | saldo &lt;int&gt; | x2 &lt;int&gt; | x3 &lt;int&gt; | x4 &lt;int&gt; | salario &lt;dbl&gt; | x5 &lt;int&gt; |\n",
       "|---|---|---|---|---|---|---|---|---|---|---|---|---|\n",
       "| 18 |  18 | 549 | SC | Feminino  | 24 |  9 |        0 | 2 | 1 | 1 |       NA | 0 |\n",
       "| 53 |  53 | 788 | RS | Feminino  | 33 |  5 |        0 | 2 | 0 | 0 |       NA | 0 |\n",
       "| 65 |  65 | 603 | PR | NA        | 26 |  4 | 10916637 | 1 | 1 | 1 |  9284067 | 0 |\n",
       "| 85 |  86 | 493 | RS | NA        | 46 |  4 |        0 | 2 | 1 | 0 |   190766 | 0 |\n",
       "| 180 | 181 | 754 | PR | Feminino  | 55 |  3 | 16160881 | 1 | 1 | 0 |       NA | 1 |\n",
       "| 214 | 215 | 676 | RS | NA        | 34 |  1 |  6309501 | 1 | 1 | 1 |  4064581 | 0 |\n",
       "| 297 | 298 | 714 | RS | NA        | 31 |  4 | 12516926 | 1 | 1 | 1 | 10663689 | 0 |\n",
       "| 331 | 332 | 656 | RS | Masculino | 50 |  7 |        0 | 2 | 0 | 1 |       NA | 0 |\n",
       "| 371 | 372 | 801 | SC | NA        | 42 |  4 | 14194767 | 1 | 1 | 1 |  1059829 | 0 |\n",
       "| 427 | 428 | 492 | PR | Masculino | 39 | 10 | 12457665 | 2 | 1 | 0 |       NA | 0 |\n",
       "| 502 | 503 | 692 | RS | NA        | 54 |  5 |        0 | 2 | 1 | 1 |  8872184 | 0 |\n",
       "| 551 | 552 | 721 | PR | Feminino  | 36 |  3 |  6525307 | 2 | 1 | 0 |       NA | 0 |\n",
       "| 964 | 965 | 529 | SC | NA        | 63 |  4 |  9613411 | 3 | 1 | 0 | 10873296 | 1 |\n",
       "| 970 | 971 | 649 | PR | NA        | 70 |  9 | 11685471 | 2 | 0 | 1 | 10712579 | 0 |\n",
       "| 984 | 985 | 614 | PR | Feminino  | 35 |  6 | 12810028 | 1 | 0 | 0 |       NA | 1 |\n",
       "\n"
      ],
      "text/plain": [
       "    id  score estado genero    idade x1 saldo    x2 x3 x4 salario  x5\n",
       "18   18 549   SC     Feminino  24     9        0 2  1  1        NA 0 \n",
       "53   53 788   RS     Feminino  33     5        0 2  0  0        NA 0 \n",
       "65   65 603   PR     NA        26     4 10916637 1  1  1   9284067 0 \n",
       "85   86 493   RS     NA        46     4        0 2  1  0    190766 0 \n",
       "180 181 754   PR     Feminino  55     3 16160881 1  1  0        NA 1 \n",
       "214 215 676   RS     NA        34     1  6309501 1  1  1   4064581 0 \n",
       "297 298 714   RS     NA        31     4 12516926 1  1  1  10663689 0 \n",
       "331 332 656   RS     Masculino 50     7        0 2  0  1        NA 0 \n",
       "371 372 801   SC     NA        42     4 14194767 1  1  1   1059829 0 \n",
       "427 428 492   PR     Masculino 39    10 12457665 2  1  0        NA 0 \n",
       "502 503 692   RS     NA        54     5        0 2  1  1   8872184 0 \n",
       "551 552 721   PR     Feminino  36     3  6525307 2  1  0        NA 0 \n",
       "964 965 529   SC     NA        63     4  9613411 3  1  0  10873296 1 \n",
       "970 971 649   PR     NA        70     9 11685471 2  0  1  10712579 0 \n",
       "984 985 614   PR     Feminino  35     6 12810028 1  0  0        NA 1 "
      ]
     },
     "metadata": {},
     "output_type": "display_data"
    }
   ],
   "source": [
    "data[!complete.cases(data), ]"
   ]
  },
  {
   "cell_type": "markdown",
   "metadata": {},
   "source": [
    "## Dados duplicados"
   ]
  },
  {
   "cell_type": "code",
   "execution_count": 33,
   "metadata": {
    "vscode": {
     "languageId": "r"
    }
   },
   "outputs": [
    {
     "data": {
      "text/html": [
       "<table class=\"dataframe\">\n",
       "<caption>A data.frame: 1 × 12</caption>\n",
       "<thead>\n",
       "\t<tr><th></th><th scope=col>id</th><th scope=col>score</th><th scope=col>estado</th><th scope=col>genero</th><th scope=col>idade</th><th scope=col>x1</th><th scope=col>saldo</th><th scope=col>x2</th><th scope=col>x3</th><th scope=col>x4</th><th scope=col>salario</th><th scope=col>x5</th></tr>\n",
       "\t<tr><th></th><th scope=col>&lt;int&gt;</th><th scope=col>&lt;int&gt;</th><th scope=col>&lt;fct&gt;</th><th scope=col>&lt;fct&gt;</th><th scope=col>&lt;int&gt;</th><th scope=col>&lt;int&gt;</th><th scope=col>&lt;int&gt;</th><th scope=col>&lt;int&gt;</th><th scope=col>&lt;int&gt;</th><th scope=col>&lt;int&gt;</th><th scope=col>&lt;dbl&gt;</th><th scope=col>&lt;int&gt;</th></tr>\n",
       "</thead>\n",
       "<tbody>\n",
       "\t<tr><th scope=row>82</th><td>81</td><td>665</td><td>RS</td><td>Feminino</td><td>34</td><td>1</td><td>9664554</td><td>2</td><td>0</td><td>0</td><td>17141366</td><td>0</td></tr>\n",
       "</tbody>\n",
       "</table>\n"
      ],
      "text/latex": [
       "A data.frame: 1 × 12\n",
       "\\begin{tabular}{r|llllllllllll}\n",
       "  & id & score & estado & genero & idade & x1 & saldo & x2 & x3 & x4 & salario & x5\\\\\n",
       "  & <int> & <int> & <fct> & <fct> & <int> & <int> & <int> & <int> & <int> & <int> & <dbl> & <int>\\\\\n",
       "\\hline\n",
       "\t82 & 81 & 665 & RS & Feminino & 34 & 1 & 9664554 & 2 & 0 & 0 & 17141366 & 0\\\\\n",
       "\\end{tabular}\n"
      ],
      "text/markdown": [
       "\n",
       "A data.frame: 1 × 12\n",
       "\n",
       "| <!--/--> | id &lt;int&gt; | score &lt;int&gt; | estado &lt;fct&gt; | genero &lt;fct&gt; | idade &lt;int&gt; | x1 &lt;int&gt; | saldo &lt;int&gt; | x2 &lt;int&gt; | x3 &lt;int&gt; | x4 &lt;int&gt; | salario &lt;dbl&gt; | x5 &lt;int&gt; |\n",
       "|---|---|---|---|---|---|---|---|---|---|---|---|---|\n",
       "| 82 | 81 | 665 | RS | Feminino | 34 | 1 | 9664554 | 2 | 0 | 0 | 17141366 | 0 |\n",
       "\n"
      ],
      "text/plain": [
       "   id score estado genero   idade x1 saldo   x2 x3 x4 salario  x5\n",
       "82 81 665   RS     Feminino 34    1  9664554 2  0  0  17141366 0 "
      ]
     },
     "metadata": {},
     "output_type": "display_data"
    },
    {
     "data": {
      "text/html": [
       "<table class=\"dataframe\">\n",
       "<caption>A data.frame: 0 × 12</caption>\n",
       "<thead>\n",
       "\t<tr><th scope=col>id</th><th scope=col>score</th><th scope=col>estado</th><th scope=col>genero</th><th scope=col>idade</th><th scope=col>x1</th><th scope=col>saldo</th><th scope=col>x2</th><th scope=col>x3</th><th scope=col>x4</th><th scope=col>salario</th><th scope=col>x5</th></tr>\n",
       "\t<tr><th scope=col>&lt;int&gt;</th><th scope=col>&lt;int&gt;</th><th scope=col>&lt;fct&gt;</th><th scope=col>&lt;fct&gt;</th><th scope=col>&lt;int&gt;</th><th scope=col>&lt;int&gt;</th><th scope=col>&lt;int&gt;</th><th scope=col>&lt;int&gt;</th><th scope=col>&lt;int&gt;</th><th scope=col>&lt;int&gt;</th><th scope=col>&lt;dbl&gt;</th><th scope=col>&lt;int&gt;</th></tr>\n",
       "</thead>\n",
       "<tbody>\n",
       "</tbody>\n",
       "</table>\n"
      ],
      "text/latex": [
       "A data.frame: 0 × 12\n",
       "\\begin{tabular}{llllllllllll}\n",
       " id & score & estado & genero & idade & x1 & saldo & x2 & x3 & x4 & salario & x5\\\\\n",
       " <int> & <int> & <fct> & <fct> & <int> & <int> & <int> & <int> & <int> & <int> & <dbl> & <int>\\\\\n",
       "\\hline\n",
       "\\end{tabular}\n"
      ],
      "text/markdown": [
       "\n",
       "A data.frame: 0 × 12\n",
       "\n",
       "| id &lt;int&gt; | score &lt;int&gt; | estado &lt;fct&gt; | genero &lt;fct&gt; | idade &lt;int&gt; | x1 &lt;int&gt; | saldo &lt;int&gt; | x2 &lt;int&gt; | x3 &lt;int&gt; | x4 &lt;int&gt; | salario &lt;dbl&gt; | x5 &lt;int&gt; |\n",
       "|---|---|---|---|---|---|---|---|---|---|---|---|\n",
       "\n"
      ],
      "text/plain": [
       "     id score estado genero idade x1 saldo x2 x3 x4 salario x5"
      ]
     },
     "metadata": {},
     "output_type": "display_data"
    }
   ],
   "source": [
    "data[duplicated(data$id), ]\n",
    "data = data[-c(82), ]\n",
    "data[duplicated(data$id), ]"
   ]
  },
  {
   "cell_type": "markdown",
   "metadata": {},
   "source": [
    "## Genero"
   ]
  },
  {
   "cell_type": "code",
   "execution_count": 34,
   "metadata": {
    "vscode": {
     "languageId": "r"
    }
   },
   "outputs": [
    {
     "data": {
      "text/html": [
       "<style>\n",
       ".dl-inline {width: auto; margin:0; padding: 0}\n",
       ".dl-inline>dt, .dl-inline>dd {float: none; width: auto; display: inline-block}\n",
       ".dl-inline>dt::after {content: \":\\0020\"; padding-right: .5ex}\n",
       ".dl-inline>dt:not(:first-of-type) {padding-left: .5ex}\n",
       "</style><dl class=dl-inline><dt>F</dt><dd>2</dd><dt>Fem</dt><dd>1</dd><dt>Feminino</dt><dd>460</dd><dt>M</dt><dd>6</dd><dt>Masculino</dt><dd>521</dd><dt>NA's</dt><dd>8</dd></dl>\n"
      ],
      "text/latex": [
       "\\begin{description*}\n",
       "\\item[F] 2\n",
       "\\item[Fem] 1\n",
       "\\item[Feminino] 460\n",
       "\\item[M] 6\n",
       "\\item[Masculino] 521\n",
       "\\item[NA's] 8\n",
       "\\end{description*}\n"
      ],
      "text/markdown": [
       "F\n",
       ":   2Fem\n",
       ":   1Feminino\n",
       ":   460M\n",
       ":   6Masculino\n",
       ":   521NA's\n",
       ":   8\n",
       "\n"
      ],
      "text/plain": [
       "        F       Fem  Feminino         M Masculino      NA's \n",
       "        2         1       460         6       521         8 "
      ]
     },
     "metadata": {},
     "output_type": "display_data"
    },
    {
     "data": {
      "text/html": [
       "<style>\n",
       ".dl-inline {width: auto; margin:0; padding: 0}\n",
       ".dl-inline>dt, .dl-inline>dd {float: none; width: auto; display: inline-block}\n",
       ".dl-inline>dt::after {content: \":\\0020\"; padding-right: .5ex}\n",
       ".dl-inline>dt:not(:first-of-type) {padding-left: .5ex}\n",
       "</style><dl class=dl-inline><dt>Feminino</dt><dd>463</dd><dt>Masculino</dt><dd>535</dd></dl>\n"
      ],
      "text/latex": [
       "\\begin{description*}\n",
       "\\item[Feminino] 463\n",
       "\\item[Masculino] 535\n",
       "\\end{description*}\n"
      ],
      "text/markdown": [
       "Feminino\n",
       ":   463Masculino\n",
       ":   535\n",
       "\n"
      ],
      "text/plain": [
       " Feminino Masculino \n",
       "      463       535 "
      ]
     },
     "metadata": {},
     "output_type": "display_data"
    },
    {
     "data": {
      "image/png": "[encoded data removed]",
      "text/plain": [
       "plot without title"
      ]
     },
     "metadata": {
      "image/png": {
       "height": 420,
       "width": 420
      }
     },
     "output_type": "display_data"
    }
   ],
   "source": [
    "summary(data$genero)\n",
    "data[is.na(data$genero) | data$genero == 'M', ]$genero = 'Masculino'\n",
    "data[data$genero == 'F' | data$genero == 'Fem', ]$genero = 'Feminino'\n",
    "data$genero = factor(data$genero)\n",
    "summary(data$genero)\n",
    "plot(data$genero)"
   ]
  },
  {
   "cell_type": "markdown",
   "metadata": {},
   "source": [
    "## Salario"
   ]
  },
  {
   "cell_type": "code",
   "execution_count": 35,
   "metadata": {
    "vscode": {
     "languageId": "r"
    }
   },
   "outputs": [
    {
     "data": {
      "text/plain": [
       "     Min.   1st Qu.    Median      Mean   3rd Qu.      Max.      NA's \n",
       "9.677e+03 3.020e+06 8.696e+06 3.531e+07 1.405e+07 1.193e+10         7 "
      ]
     },
     "metadata": {},
     "output_type": "display_data"
    },
    {
     "data": {
      "text/plain": [
       "     Min.   1st Qu.    Median      Mean   3rd Qu.      Max. \n",
       "9.677e+03 3.076e+06 8.696e+06 3.512e+07 1.401e+07 1.193e+10 "
      ]
     },
     "metadata": {},
     "output_type": "display_data"
    },
    {
     "data": {
      "image/png": "[encoded data removed]",
      "text/plain": [
       "plot without title"
      ]
     },
     "metadata": {
      "image/png": {
       "height": 420,
       "width": 420
      }
     },
     "output_type": "display_data"
    },
    {
     "data": {
      "image/png": "[encoded data removed]",
      "text/plain": [
       "plot without title"
      ]
     },
     "metadata": {
      "image/png": {
       "height": 420,
       "width": 420
      }
     },
     "output_type": "display_data"
    }
   ],
   "source": [
    "summary(data$salario)\n",
    "media = median(data$salario, na.rm=T)\n",
    "data[is.na(data$salario), ]$salario = media\n",
    "summary(data$salario)\n",
    "boxplot(data$salario)\n",
    "desv = sd(data$salario)\n",
    "data[data$salario >= 2 * desv, ]$salario = media\n",
    "boxplot(data$salario)"
   ]
  },
  {
   "cell_type": "markdown",
   "metadata": {},
   "source": [
    "### Checando valores nulos"
   ]
  },
  {
   "cell_type": "code",
   "execution_count": 36,
   "metadata": {
    "vscode": {
     "languageId": "r"
    }
   },
   "outputs": [
    {
     "data": {
      "text/html": [
       "<table class=\"dataframe\">\n",
       "<caption>A data.frame: 0 × 12</caption>\n",
       "<thead>\n",
       "\t<tr><th scope=col>id</th><th scope=col>score</th><th scope=col>estado</th><th scope=col>genero</th><th scope=col>idade</th><th scope=col>x1</th><th scope=col>saldo</th><th scope=col>x2</th><th scope=col>x3</th><th scope=col>x4</th><th scope=col>salario</th><th scope=col>x5</th></tr>\n",
       "\t<tr><th scope=col>&lt;int&gt;</th><th scope=col>&lt;int&gt;</th><th scope=col>&lt;fct&gt;</th><th scope=col>&lt;fct&gt;</th><th scope=col>&lt;int&gt;</th><th scope=col>&lt;int&gt;</th><th scope=col>&lt;int&gt;</th><th scope=col>&lt;int&gt;</th><th scope=col>&lt;int&gt;</th><th scope=col>&lt;int&gt;</th><th scope=col>&lt;dbl&gt;</th><th scope=col>&lt;int&gt;</th></tr>\n",
       "</thead>\n",
       "<tbody>\n",
       "</tbody>\n",
       "</table>\n"
      ],
      "text/latex": [
       "A data.frame: 0 × 12\n",
       "\\begin{tabular}{llllllllllll}\n",
       " id & score & estado & genero & idade & x1 & saldo & x2 & x3 & x4 & salario & x5\\\\\n",
       " <int> & <int> & <fct> & <fct> & <int> & <int> & <int> & <int> & <int> & <int> & <dbl> & <int>\\\\\n",
       "\\hline\n",
       "\\end{tabular}\n"
      ],
      "text/markdown": [
       "\n",
       "A data.frame: 0 × 12\n",
       "\n",
       "| id &lt;int&gt; | score &lt;int&gt; | estado &lt;fct&gt; | genero &lt;fct&gt; | idade &lt;int&gt; | x1 &lt;int&gt; | saldo &lt;int&gt; | x2 &lt;int&gt; | x3 &lt;int&gt; | x4 &lt;int&gt; | salario &lt;dbl&gt; | x5 &lt;int&gt; |\n",
       "|---|---|---|---|---|---|---|---|---|---|---|---|\n",
       "\n"
      ],
      "text/plain": [
       "     id score estado genero idade x1 saldo x2 x3 x4 salario x5"
      ]
     },
     "metadata": {},
     "output_type": "display_data"
    }
   ],
   "source": [
    "data[!complete.cases(data), ]"
   ]
  },
  {
   "cell_type": "markdown",
   "metadata": {},
   "source": [
    "## Score"
   ]
  },
  {
   "cell_type": "code",
   "execution_count": 37,
   "metadata": {
    "vscode": {
     "languageId": "r"
    }
   },
   "outputs": [
    {
     "data": {
      "text/plain": [
       "   Min. 1st Qu.  Median    Mean 3rd Qu.    Max. \n",
       "  376.0   580.0   653.0   648.6   721.0   850.0 "
      ]
     },
     "metadata": {},
     "output_type": "display_data"
    },
    {
     "data": {
      "image/png": "[encoded data removed]",
      "text/plain": [
       "plot without title"
      ]
     },
     "metadata": {
      "image/png": {
       "height": 420,
       "width": 420
      }
     },
     "output_type": "display_data"
    }
   ],
   "source": [
    "summary(data$score)\n",
    "boxplot(data$score)"
   ]
  },
  {
   "cell_type": "markdown",
   "metadata": {},
   "source": [
    "## Estado"
   ]
  },
  {
   "cell_type": "code",
   "execution_count": 38,
   "metadata": {
    "vscode": {
     "languageId": "r"
    }
   },
   "outputs": [
    {
     "data": {
      "text/html": [
       "<style>\n",
       ".dl-inline {width: auto; margin:0; padding: 0}\n",
       ".dl-inline>dt, .dl-inline>dd {float: none; width: auto; display: inline-block}\n",
       ".dl-inline>dt::after {content: \":\\0020\"; padding-right: .5ex}\n",
       ".dl-inline>dt:not(:first-of-type) {padding-left: .5ex}\n",
       "</style><dl class=dl-inline><dt>PR</dt><dd>257</dd><dt>RP</dt><dd>1</dd><dt>RS</dt><dd>477</dd><dt>SC</dt><dd>258</dd><dt>SP</dt><dd>4</dd><dt>TD</dt><dd>1</dd></dl>\n"
      ],
      "text/latex": [
       "\\begin{description*}\n",
       "\\item[PR] 257\n",
       "\\item[RP] 1\n",
       "\\item[RS] 477\n",
       "\\item[SC] 258\n",
       "\\item[SP] 4\n",
       "\\item[TD] 1\n",
       "\\end{description*}\n"
      ],
      "text/markdown": [
       "PR\n",
       ":   257RP\n",
       ":   1RS\n",
       ":   477SC\n",
       ":   258SP\n",
       ":   4TD\n",
       ":   1\n",
       "\n"
      ],
      "text/plain": [
       " PR  RP  RS  SC  SP  TD \n",
       "257   1 477 258   4   1 "
      ]
     },
     "metadata": {},
     "output_type": "display_data"
    },
    {
     "data": {
      "text/html": [
       "<style>\n",
       ".dl-inline {width: auto; margin:0; padding: 0}\n",
       ".dl-inline>dt, .dl-inline>dd {float: none; width: auto; display: inline-block}\n",
       ".dl-inline>dt::after {content: \":\\0020\"; padding-right: .5ex}\n",
       ".dl-inline>dt:not(:first-of-type) {padding-left: .5ex}\n",
       "</style><dl class=dl-inline><dt>PR</dt><dd>257</dd><dt>RS</dt><dd>483</dd><dt>SC</dt><dd>258</dd></dl>\n"
      ],
      "text/latex": [
       "\\begin{description*}\n",
       "\\item[PR] 257\n",
       "\\item[RS] 483\n",
       "\\item[SC] 258\n",
       "\\end{description*}\n"
      ],
      "text/markdown": [
       "PR\n",
       ":   257RS\n",
       ":   483SC\n",
       ":   258\n",
       "\n"
      ],
      "text/plain": [
       " PR  RS  SC \n",
       "257 483 258 "
      ]
     },
     "metadata": {},
     "output_type": "display_data"
    },
    {
     "data": {
      "image/png": "[encoded data removed]",
      "text/plain": [
       "plot without title"
      ]
     },
     "metadata": {
      "image/png": {
       "height": 420,
       "width": 420
      }
     },
     "output_type": "display_data"
    }
   ],
   "source": [
    "summary(data$estado)\n",
    "data[data$estado %in% c('RP', 'SP', 'TD'), ]$estado = 'RS'\n",
    "data$estado = factor(data$estado)\n",
    "summary(data$estado)\n",
    "plot(data$estado)"
   ]
  },
  {
   "cell_type": "markdown",
   "metadata": {},
   "source": [
    "## Idade"
   ]
  },
  {
   "cell_type": "code",
   "execution_count": 39,
   "metadata": {
    "vscode": {
     "languageId": "r"
    }
   },
   "outputs": [
    {
     "data": {
      "text/plain": [
       "   Min. 1st Qu.  Median    Mean 3rd Qu.    Max. \n",
       " -20.00   32.00   37.00   38.91   44.00  140.00 "
      ]
     },
     "metadata": {},
     "output_type": "display_data"
    },
    {
     "data": {
      "text/plain": [
       "   Min. 1st Qu.  Median    Mean 3rd Qu.    Max. \n",
       "   0.00   32.00   37.00   38.91   44.00   82.00 "
      ]
     },
     "metadata": {},
     "output_type": "display_data"
    },
    {
     "data": {
      "image/png": "[encoded data removed]",
      "text/plain": [
       "plot without title"
      ]
     },
     "metadata": {
      "image/png": {
       "height": 420,
       "width": 420
      }
     },
     "output_type": "display_data"
    }
   ],
   "source": [
    "summary(data$idade)\n",
    "media = median(data$idade)\n",
    "data[data$idade < 0 | data$idade > 110, ]$idade = media\n",
    "summary(data$idade)\n",
    "plot(data$idade)"
   ]
  },
  {
   "cell_type": "markdown",
   "metadata": {},
   "source": [
    "## Saldo"
   ]
  },
  {
   "cell_type": "code",
   "execution_count": 40,
   "metadata": {
    "vscode": {
     "languageId": "r"
    }
   },
   "outputs": [
    {
     "data": {
      "text/plain": [
       "    Min.  1st Qu.   Median     Mean  3rd Qu.     Max. \n",
       "       0        0  8926348  7162423 12587670 21177431 "
      ]
     },
     "metadata": {},
     "output_type": "display_data"
    },
    {
     "data": {
      "image/png": "[encoded data removed]",
      "text/plain": [
       "plot without title"
      ]
     },
     "metadata": {
      "image/png": {
       "height": 420,
       "width": 420
      }
     },
     "output_type": "display_data"
    }
   ],
   "source": [
    "summary(data$saldo)\n",
    "plot(data$saldo)"
   ]
  },
  {
   "cell_type": "markdown",
   "metadata": {},
   "source": [
    "### Ignorando valores ZERO"
   ]
  },
  {
   "cell_type": "code",
   "execution_count": 41,
   "metadata": {
    "vscode": {
     "languageId": "r"
    }
   },
   "outputs": [
    {
     "data": {
      "text/plain": [
       "    Min.  1st Qu.   Median     Mean  3rd Qu.     Max. \n",
       "   63227  9296814 11644576 11031016 13745242 21177431 "
      ]
     },
     "metadata": {},
     "output_type": "display_data"
    },
    {
     "data": {
      "image/png": "[encoded data removed]",
      "text/plain": [
       "plot without title"
      ]
     },
     "metadata": {
      "image/png": {
       "height": 420,
       "width": 420
      }
     },
     "output_type": "display_data"
    }
   ],
   "source": [
    "data_no_zero_saldo = data[data$saldo > 0, ]$saldo\n",
    "summary(data_no_zero_saldo)\n",
    "plot(data_no_zero_saldo)"
   ]
  }
 ],
 "metadata": {
  "kernelspec": {
   "display_name": "R",
   "language": "R",
   "name": "ir"
  },
  "language_info": {
   "codemirror_mode": "r",
   "file_extension": ".r",
   "mimetype": "text/x-r-source",
   "name": "R",
   "pygments_lexer": "r",
   "version": "4.3.2"
  }
 },
 "nbformat": 4,
 "nbformat_minor": 2
}
