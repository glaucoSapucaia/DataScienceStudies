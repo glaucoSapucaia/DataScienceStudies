{
 "cells": [
  {
   "cell_type": "code",
   "execution_count": 1,
   "metadata": {
    "vscode": {
     "languageId": "r"
    }
   },
   "outputs": [
    {
     "data": {
      "text/plain": [
       "     count       spray \n",
       " Min.   : 0.00   A:12  \n",
       " 1st Qu.: 3.00   B:12  \n",
       " Median : 7.00   C:12  \n",
       " Mean   : 9.50   D:12  \n",
       " 3rd Qu.:14.25   E:12  \n",
       " Max.   :26.00   F:12  "
      ]
     },
     "metadata": {},
     "output_type": "display_data"
    },
    {
     "data": {
      "text/html": [
       "<table class=\"dataframe\">\n",
       "<caption>A data.frame: 6 × 2</caption>\n",
       "<thead>\n",
       "\t<tr><th></th><th scope=col>count</th><th scope=col>spray</th></tr>\n",
       "\t<tr><th></th><th scope=col>&lt;dbl&gt;</th><th scope=col>&lt;fct&gt;</th></tr>\n",
       "</thead>\n",
       "<tbody>\n",
       "\t<tr><th scope=row>1</th><td>10</td><td>A</td></tr>\n",
       "\t<tr><th scope=row>2</th><td> 7</td><td>A</td></tr>\n",
       "\t<tr><th scope=row>3</th><td>20</td><td>A</td></tr>\n",
       "\t<tr><th scope=row>4</th><td>14</td><td>A</td></tr>\n",
       "\t<tr><th scope=row>5</th><td>14</td><td>A</td></tr>\n",
       "\t<tr><th scope=row>6</th><td>12</td><td>A</td></tr>\n",
       "</tbody>\n",
       "</table>\n"
      ],
      "text/latex": [
       "A data.frame: 6 × 2\n",
       "\\begin{tabular}{r|ll}\n",
       "  & count & spray\\\\\n",
       "  & <dbl> & <fct>\\\\\n",
       "\\hline\n",
       "\t1 & 10 & A\\\\\n",
       "\t2 &  7 & A\\\\\n",
       "\t3 & 20 & A\\\\\n",
       "\t4 & 14 & A\\\\\n",
       "\t5 & 14 & A\\\\\n",
       "\t6 & 12 & A\\\\\n",
       "\\end{tabular}\n"
      ],
      "text/markdown": [
       "\n",
       "A data.frame: 6 × 2\n",
       "\n",
       "| <!--/--> | count &lt;dbl&gt; | spray &lt;fct&gt; |\n",
       "|---|---|---|\n",
       "| 1 | 10 | A |\n",
       "| 2 |  7 | A |\n",
       "| 3 | 20 | A |\n",
       "| 4 | 14 | A |\n",
       "| 5 | 14 | A |\n",
       "| 6 | 12 | A |\n",
       "\n"
      ],
      "text/plain": [
       "  count spray\n",
       "1 10    A    \n",
       "2  7    A    \n",
       "3 20    A    \n",
       "4 14    A    \n",
       "5 14    A    \n",
       "6 12    A    "
      ]
     },
     "metadata": {},
     "output_type": "display_data"
    }
   ],
   "source": [
    "summary(InsectSprays)\n",
    "head(InsectSprays)"
   ]
  },
  {
   "cell_type": "markdown",
   "metadata": {},
   "source": [
    "## Valores nulos"
   ]
  },
  {
   "cell_type": "code",
   "execution_count": 3,
   "metadata": {
    "vscode": {
     "languageId": "r"
    }
   },
   "outputs": [
    {
     "data": {
      "text/html": [
       "<table class=\"dataframe\">\n",
       "<caption>A data.frame: 0 × 2</caption>\n",
       "<thead>\n",
       "\t<tr><th scope=col>count</th><th scope=col>spray</th></tr>\n",
       "\t<tr><th scope=col>&lt;dbl&gt;</th><th scope=col>&lt;fct&gt;</th></tr>\n",
       "</thead>\n",
       "<tbody>\n",
       "</tbody>\n",
       "</table>\n"
      ],
      "text/latex": [
       "A data.frame: 0 × 2\n",
       "\\begin{tabular}{ll}\n",
       " count & spray\\\\\n",
       " <dbl> & <fct>\\\\\n",
       "\\hline\n",
       "\\end{tabular}\n"
      ],
      "text/markdown": [
       "\n",
       "A data.frame: 0 × 2\n",
       "\n",
       "| count &lt;dbl&gt; | spray &lt;fct&gt; |\n",
       "|---|---|\n",
       "\n"
      ],
      "text/plain": [
       "     count spray"
      ]
     },
     "metadata": {},
     "output_type": "display_data"
    }
   ],
   "source": [
    "InsectSprays[!complete.cases(InsectSprays), ]"
   ]
  },
  {
   "cell_type": "markdown",
   "metadata": {},
   "source": [
    "## Agrupando e somando dados categoricos"
   ]
  },
  {
   "cell_type": "code",
   "execution_count": 4,
   "metadata": {
    "vscode": {
     "languageId": "r"
    }
   },
   "outputs": [
    {
     "data": {
      "text/plain": [
       " spray     count       \n",
       " A:1   Min.   : 25.00  \n",
       " B:1   1st Qu.: 46.25  \n",
       " C:1   Median :116.50  \n",
       " D:1   Mean   :114.00  \n",
       " E:1   3rd Qu.:181.50  \n",
       " F:1   Max.   :200.00  "
      ]
     },
     "metadata": {},
     "output_type": "display_data"
    },
    {
     "data": {
      "text/html": [
       "<table class=\"dataframe\">\n",
       "<caption>A data.frame: 6 × 2</caption>\n",
       "<thead>\n",
       "\t<tr><th scope=col>spray</th><th scope=col>count</th></tr>\n",
       "\t<tr><th scope=col>&lt;fct&gt;</th><th scope=col>&lt;dbl&gt;</th></tr>\n",
       "</thead>\n",
       "<tbody>\n",
       "\t<tr><td>A</td><td>174</td></tr>\n",
       "\t<tr><td>B</td><td>184</td></tr>\n",
       "\t<tr><td>C</td><td> 25</td></tr>\n",
       "\t<tr><td>D</td><td> 59</td></tr>\n",
       "\t<tr><td>E</td><td> 42</td></tr>\n",
       "\t<tr><td>F</td><td>200</td></tr>\n",
       "</tbody>\n",
       "</table>\n"
      ],
      "text/latex": [
       "A data.frame: 6 × 2\n",
       "\\begin{tabular}{ll}\n",
       " spray & count\\\\\n",
       " <fct> & <dbl>\\\\\n",
       "\\hline\n",
       "\t A & 174\\\\\n",
       "\t B & 184\\\\\n",
       "\t C &  25\\\\\n",
       "\t D &  59\\\\\n",
       "\t E &  42\\\\\n",
       "\t F & 200\\\\\n",
       "\\end{tabular}\n"
      ],
      "text/markdown": [
       "\n",
       "A data.frame: 6 × 2\n",
       "\n",
       "| spray &lt;fct&gt; | count &lt;dbl&gt; |\n",
       "|---|---|\n",
       "| A | 174 |\n",
       "| B | 184 |\n",
       "| C |  25 |\n",
       "| D |  59 |\n",
       "| E |  42 |\n",
       "| F | 200 |\n",
       "\n"
      ],
      "text/plain": [
       "  spray count\n",
       "1 A     174  \n",
       "2 B     184  \n",
       "3 C      25  \n",
       "4 D      59  \n",
       "5 E      42  \n",
       "6 F     200  "
      ]
     },
     "metadata": {},
     "output_type": "display_data"
    }
   ],
   "source": [
    "sprays = aggregate(. ~ spray, data=InsectSprays, sum)\n",
    "summary(sprays)\n",
    "sprays"
   ]
  },
  {
   "cell_type": "code",
   "execution_count": 10,
   "metadata": {
    "vscode": {
     "languageId": "r"
    }
   },
   "outputs": [
    {
     "data": {
      "image/png": "[encoded data removed]",
      "text/plain": [
       "Plot with title \"Sprays Agrupados\""
      ]
     },
     "metadata": {
      "image/png": {
       "height": 420,
       "width": 420
      }
     },
     "output_type": "display_data"
    }
   ],
   "source": [
    "barplot(sprays$count, names.arg=sprays$spray, col=c(1:6), main='Sprays Agrupados',\n",
    "xlab='Sprays', ylab='Total')\n",
    "box()"
   ]
  },
  {
   "cell_type": "code",
   "execution_count": 13,
   "metadata": {
    "vscode": {
     "languageId": "r"
    }
   },
   "outputs": [
    {
     "data": {
      "image/png": "[encoded data removed]",
      "text/plain": [
       "Plot with title \"Sprays Agrupados\""
      ]
     },
     "metadata": {
      "image/png": {
       "height": 420,
       "width": 420
      }
     },
     "output_type": "display_data"
    }
   ],
   "source": [
    "pie(sprays$count, labels=NA, col=c(1:6), main='Sprays Agrupados')\n",
    "legend(x='bottomright', fill=c(1:6), legend=sprays$spray)\n",
    "box()"
   ]
  }
 ],
 "metadata": {
  "kernelspec": {
   "display_name": "R",
   "language": "R",
   "name": "ir"
  },
  "language_info": {
   "codemirror_mode": "r",
   "file_extension": ".r",
   "mimetype": "text/x-r-source",
   "name": "R",
   "pygments_lexer": "r",
   "version": "4.3.2"
  }
 },
 "nbformat": 4,
 "nbformat_minor": 2
}
