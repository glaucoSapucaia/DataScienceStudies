{
 "cells": [
  {
   "cell_type": "markdown",
   "metadata": {},
   "source": [
    "## PostgreSQL - Integrando Banco de Dados com R"
   ]
  },
  {
   "cell_type": "markdown",
   "metadata": {},
   "source": [
    "# Libs\n",
    "- install.packages('RPostgreSQL')\n",
    "- install.packages(\"modules\")"
   ]
  },
  {
   "cell_type": "code",
   "execution_count": 15,
   "metadata": {
    "vscode": {
     "languageId": "r"
    }
   },
   "outputs": [],
   "source": [
    "library('RPostgreSQL')\n",
    "library('modules')"
   ]
  },
  {
   "cell_type": "markdown",
   "metadata": {},
   "source": [
    "Importando .env files"
   ]
  },
  {
   "cell_type": "code",
   "execution_count": 16,
   "metadata": {
    "vscode": {
     "languageId": "r"
    }
   },
   "outputs": [],
   "source": [
    "s = modules::use('.env')"
   ]
  },
  {
   "cell_type": "markdown",
   "metadata": {},
   "source": [
    "Conectando banco de dados"
   ]
  },
  {
   "cell_type": "code",
   "execution_count": 17,
   "metadata": {
    "vscode": {
     "languageId": "r"
    }
   },
   "outputs": [],
   "source": [
    "conexao = dbConnect(\n",
    "    'PostgreSQL',\n",
    "    dbname='my_db',\n",
    "    host='localhost',\n",
    "    port=5432,\n",
    "    user='postgres',\n",
    "    password=s\n",
    ")"
   ]
  },
  {
   "cell_type": "markdown",
   "metadata": {},
   "source": [
    "Criando e executando uma consulta"
   ]
  },
  {
   "cell_type": "code",
   "execution_count": 18,
   "metadata": {
    "vscode": {
     "languageId": "r"
    }
   },
   "outputs": [],
   "source": [
    "sql = \"SELECT QUANTIDADE, VALORTOTAL, PRODUTO, TOTAL FROM ITENSVENDA IV INNER JOIN VENDAS V ON (IV.IDVENDA = V.IDVENDA) INNER JOIN PRODUTOS P ON (IV.IDPRODUTO = P.IDPRODUTO)\"\n",
    "vendas = dbGetQuery(conexao, sql)"
   ]
  },
  {
   "cell_type": "markdown",
   "metadata": {},
   "source": [
    "Retornos"
   ]
  },
  {
   "cell_type": "code",
   "execution_count": 19,
   "metadata": {
    "vscode": {
     "languageId": "r"
    }
   },
   "outputs": [
    {
     "data": {
      "text/html": [
       "'data.frame'"
      ],
      "text/latex": [
       "'data.frame'"
      ],
      "text/markdown": [
       "'data.frame'"
      ],
      "text/plain": [
       "[1] \"data.frame\""
      ]
     },
     "metadata": {},
     "output_type": "display_data"
    }
   ],
   "source": [
    "class(vendas)"
   ]
  },
  {
   "cell_type": "code",
   "execution_count": 20,
   "metadata": {
    "vscode": {
     "languageId": "r"
    }
   },
   "outputs": [
    {
     "data": {
      "text/html": [
       "<style>\n",
       ".list-inline {list-style: none; margin:0; padding: 0}\n",
       ".list-inline>li {display: inline-block}\n",
       ".list-inline>li:not(:last-child)::after {content: \"\\00b7\"; padding: 0 .5ex}\n",
       "</style>\n",
       "<ol class=list-inline><li>940</li><li>4</li></ol>\n"
      ],
      "text/latex": [
       "\\begin{enumerate*}\n",
       "\\item 940\n",
       "\\item 4\n",
       "\\end{enumerate*}\n"
      ],
      "text/markdown": [
       "1. 940\n",
       "2. 4\n",
       "\n",
       "\n"
      ],
      "text/plain": [
       "[1] 940   4"
      ]
     },
     "metadata": {},
     "output_type": "display_data"
    }
   ],
   "source": [
    "dim(vendas)"
   ]
  },
  {
   "cell_type": "code",
   "execution_count": 21,
   "metadata": {
    "vscode": {
     "languageId": "r"
    }
   },
   "outputs": [
    {
     "data": {
      "text/html": [
       "<table class=\"dataframe\">\n",
       "<caption>A data.frame: 6 × 4</caption>\n",
       "<thead>\n",
       "\t<tr><th></th><th scope=col>quantidade</th><th scope=col>valortotal</th><th scope=col>produto</th><th scope=col>total</th></tr>\n",
       "\t<tr><th></th><th scope=col>&lt;int&gt;</th><th scope=col>&lt;dbl&gt;</th><th scope=col>&lt;chr&gt;</th><th scope=col>&lt;dbl&gt;</th></tr>\n",
       "</thead>\n",
       "<tbody>\n",
       "\t<tr><th scope=row>1</th><td>1</td><td>7820.85</td><td>Bicicleta Altools Stroll Aro 26 Freio À Disco 21 Marchas               </td><td>8053.6</td></tr>\n",
       "\t<tr><th scope=row>2</th><td>1</td><td>  97.75</td><td>Bermuda Predactor 3Xu Pro                                              </td><td>8053.6</td></tr>\n",
       "\t<tr><th scope=row>3</th><td>1</td><td> 135.00</td><td>Camiseta Predactor 3Xu Multiplied                                      </td><td>8053.6</td></tr>\n",
       "\t<tr><th scope=row>4</th><td>1</td><td> 150.40</td><td>Luva De Ciclismo - Gometws Sports                                      </td><td> 150.4</td></tr>\n",
       "\t<tr><th scope=row>5</th><td>2</td><td>5932.00</td><td>Bicicleta Gometws Endorphine 7.3 - Shimano Alumínio Aro 29 - 24 Marchas</td><td>6087.0</td></tr>\n",
       "\t<tr><th scope=row>6</th><td>1</td><td> 155.00</td><td>Capacete Gometws Endorphine 2.0                                        </td><td>6087.0</td></tr>\n",
       "</tbody>\n",
       "</table>\n"
      ],
      "text/latex": [
       "A data.frame: 6 × 4\n",
       "\\begin{tabular}{r|llll}\n",
       "  & quantidade & valortotal & produto & total\\\\\n",
       "  & <int> & <dbl> & <chr> & <dbl>\\\\\n",
       "\\hline\n",
       "\t1 & 1 & 7820.85 & Bicicleta Altools Stroll Aro 26 Freio À Disco 21 Marchas                & 8053.6\\\\\n",
       "\t2 & 1 &   97.75 & Bermuda Predactor 3Xu Pro                                               & 8053.6\\\\\n",
       "\t3 & 1 &  135.00 & Camiseta Predactor 3Xu Multiplied                                       & 8053.6\\\\\n",
       "\t4 & 1 &  150.40 & Luva De Ciclismo - Gometws Sports                                       &  150.4\\\\\n",
       "\t5 & 2 & 5932.00 & Bicicleta Gometws Endorphine 7.3 - Shimano Alumínio Aro 29 - 24 Marchas & 6087.0\\\\\n",
       "\t6 & 1 &  155.00 & Capacete Gometws Endorphine 2.0                                         & 6087.0\\\\\n",
       "\\end{tabular}\n"
      ],
      "text/markdown": [
       "\n",
       "A data.frame: 6 × 4\n",
       "\n",
       "| <!--/--> | quantidade &lt;int&gt; | valortotal &lt;dbl&gt; | produto &lt;chr&gt; | total &lt;dbl&gt; |\n",
       "|---|---|---|---|---|\n",
       "| 1 | 1 | 7820.85 | Bicicleta Altools Stroll Aro 26 Freio À Disco 21 Marchas                | 8053.6 |\n",
       "| 2 | 1 |   97.75 | Bermuda Predactor 3Xu Pro                                               | 8053.6 |\n",
       "| 3 | 1 |  135.00 | Camiseta Predactor 3Xu Multiplied                                       | 8053.6 |\n",
       "| 4 | 1 |  150.40 | Luva De Ciclismo - Gometws Sports                                       |  150.4 |\n",
       "| 5 | 2 | 5932.00 | Bicicleta Gometws Endorphine 7.3 - Shimano Alumínio Aro 29 - 24 Marchas | 6087.0 |\n",
       "| 6 | 1 |  155.00 | Capacete Gometws Endorphine 2.0                                         | 6087.0 |\n",
       "\n"
      ],
      "text/plain": [
       "  quantidade valortotal\n",
       "1 1          7820.85   \n",
       "2 1            97.75   \n",
       "3 1           135.00   \n",
       "4 1           150.40   \n",
       "5 2          5932.00   \n",
       "6 1           155.00   \n",
       "  produto                                                                \n",
       "1 Bicicleta Altools Stroll Aro 26 Freio À Disco 21 Marchas               \n",
       "2 Bermuda Predactor 3Xu Pro                                              \n",
       "3 Camiseta Predactor 3Xu Multiplied                                      \n",
       "4 Luva De Ciclismo - Gometws Sports                                      \n",
       "5 Bicicleta Gometws Endorphine 7.3 - Shimano Alumínio Aro 29 - 24 Marchas\n",
       "6 Capacete Gometws Endorphine 2.0                                        \n",
       "  total \n",
       "1 8053.6\n",
       "2 8053.6\n",
       "3 8053.6\n",
       "4  150.4\n",
       "5 6087.0\n",
       "6 6087.0"
      ]
     },
     "metadata": {},
     "output_type": "display_data"
    }
   ],
   "source": [
    "head(vendas)"
   ]
  },
  {
   "cell_type": "markdown",
   "metadata": {},
   "source": [
    "Desconectando DB"
   ]
  },
  {
   "cell_type": "code",
   "execution_count": 22,
   "metadata": {
    "vscode": {
     "languageId": "r"
    }
   },
   "outputs": [
    {
     "data": {
      "text/html": [
       "TRUE"
      ],
      "text/latex": [
       "TRUE"
      ],
      "text/markdown": [
       "TRUE"
      ],
      "text/plain": [
       "[1] TRUE"
      ]
     },
     "metadata": {},
     "output_type": "display_data"
    }
   ],
   "source": [
    "dbDisconnect(conexao)"
   ]
  }
 ],
 "metadata": {
  "kernelspec": {
   "display_name": "R",
   "language": "R",
   "name": "ir"
  },
  "language_info": {
   "codemirror_mode": "r",
   "file_extension": ".r",
   "mimetype": "text/x-r-source",
   "name": "R",
   "pygments_lexer": "r",
   "version": "4.3.3"
  }
 },
 "nbformat": 4,
 "nbformat_minor": 2
}
