{
 "cells": [
  {
   "cell_type": "markdown",
   "metadata": {},
   "source": [
    "# Exploração"
   ]
  },
  {
   "cell_type": "code",
   "execution_count": 1,
   "metadata": {
    "vscode": {
     "languageId": "r"
    }
   },
   "outputs": [
    {
     "data": {
      "text/html": [
       "<table class=\"dataframe\">\n",
       "<caption>A data.frame: 6 × 12</caption>\n",
       "<thead>\n",
       "\t<tr><th></th><th scope=col>X0</th><th scope=col>X1</th><th scope=col>X2</th><th scope=col>X3</th><th scope=col>X4</th><th scope=col>X4.1</th><th scope=col>X6</th><th scope=col>X7</th><th scope=col>X8</th><th scope=col>X9</th><th scope=col>X10</th><th scope=col>X11</th></tr>\n",
       "\t<tr><th></th><th scope=col>&lt;int&gt;</th><th scope=col>&lt;int&gt;</th><th scope=col>&lt;fct&gt;</th><th scope=col>&lt;fct&gt;</th><th scope=col>&lt;int&gt;</th><th scope=col>&lt;int&gt;</th><th scope=col>&lt;int&gt;</th><th scope=col>&lt;int&gt;</th><th scope=col>&lt;int&gt;</th><th scope=col>&lt;int&gt;</th><th scope=col>&lt;dbl&gt;</th><th scope=col>&lt;int&gt;</th></tr>\n",
       "</thead>\n",
       "<tbody>\n",
       "\t<tr><th scope=row>1</th><td>1</td><td>619</td><td>RS</td><td>Feminino </td><td>42</td><td>2</td><td>       0</td><td>1</td><td>1</td><td>1</td><td>10134888</td><td>1</td></tr>\n",
       "\t<tr><th scope=row>2</th><td>2</td><td>608</td><td>SC</td><td>Feminino </td><td>41</td><td>1</td><td> 8380786</td><td>1</td><td>0</td><td>1</td><td>11254258</td><td>0</td></tr>\n",
       "\t<tr><th scope=row>3</th><td>3</td><td>502</td><td>RS</td><td>Feminino </td><td>42</td><td>8</td><td> 1596608</td><td>3</td><td>1</td><td>0</td><td>11393157</td><td>1</td></tr>\n",
       "\t<tr><th scope=row>4</th><td>4</td><td>699</td><td>RS</td><td>Feminino </td><td>39</td><td>1</td><td>       0</td><td>2</td><td>0</td><td>0</td><td> 9382663</td><td>0</td></tr>\n",
       "\t<tr><th scope=row>5</th><td>5</td><td>850</td><td>SC</td><td>Feminino </td><td>43</td><td>2</td><td>12551082</td><td>1</td><td>1</td><td>1</td><td>  790841</td><td>0</td></tr>\n",
       "\t<tr><th scope=row>6</th><td>6</td><td>645</td><td>SC</td><td>Masculino</td><td>44</td><td>8</td><td>11375578</td><td>2</td><td>1</td><td>0</td><td>14975671</td><td>1</td></tr>\n",
       "</tbody>\n",
       "</table>\n"
      ],
      "text/latex": [
       "A data.frame: 6 × 12\n",
       "\\begin{tabular}{r|llllllllllll}\n",
       "  & X0 & X1 & X2 & X3 & X4 & X4.1 & X6 & X7 & X8 & X9 & X10 & X11\\\\\n",
       "  & <int> & <int> & <fct> & <fct> & <int> & <int> & <int> & <int> & <int> & <int> & <dbl> & <int>\\\\\n",
       "\\hline\n",
       "\t1 & 1 & 619 & RS & Feminino  & 42 & 2 &        0 & 1 & 1 & 1 & 10134888 & 1\\\\\n",
       "\t2 & 2 & 608 & SC & Feminino  & 41 & 1 &  8380786 & 1 & 0 & 1 & 11254258 & 0\\\\\n",
       "\t3 & 3 & 502 & RS & Feminino  & 42 & 8 &  1596608 & 3 & 1 & 0 & 11393157 & 1\\\\\n",
       "\t4 & 4 & 699 & RS & Feminino  & 39 & 1 &        0 & 2 & 0 & 0 &  9382663 & 0\\\\\n",
       "\t5 & 5 & 850 & SC & Feminino  & 43 & 2 & 12551082 & 1 & 1 & 1 &   790841 & 0\\\\\n",
       "\t6 & 6 & 645 & SC & Masculino & 44 & 8 & 11375578 & 2 & 1 & 0 & 14975671 & 1\\\\\n",
       "\\end{tabular}\n"
      ],
      "text/markdown": [
       "\n",
       "A data.frame: 6 × 12\n",
       "\n",
       "| <!--/--> | X0 &lt;int&gt; | X1 &lt;int&gt; | X2 &lt;fct&gt; | X3 &lt;fct&gt; | X4 &lt;int&gt; | X4.1 &lt;int&gt; | X6 &lt;int&gt; | X7 &lt;int&gt; | X8 &lt;int&gt; | X9 &lt;int&gt; | X10 &lt;dbl&gt; | X11 &lt;int&gt; |\n",
       "|---|---|---|---|---|---|---|---|---|---|---|---|---|\n",
       "| 1 | 1 | 619 | RS | Feminino  | 42 | 2 |        0 | 1 | 1 | 1 | 10134888 | 1 |\n",
       "| 2 | 2 | 608 | SC | Feminino  | 41 | 1 |  8380786 | 1 | 0 | 1 | 11254258 | 0 |\n",
       "| 3 | 3 | 502 | RS | Feminino  | 42 | 8 |  1596608 | 3 | 1 | 0 | 11393157 | 1 |\n",
       "| 4 | 4 | 699 | RS | Feminino  | 39 | 1 |        0 | 2 | 0 | 0 |  9382663 | 0 |\n",
       "| 5 | 5 | 850 | SC | Feminino  | 43 | 2 | 12551082 | 1 | 1 | 1 |   790841 | 0 |\n",
       "| 6 | 6 | 645 | SC | Masculino | 44 | 8 | 11375578 | 2 | 1 | 0 | 14975671 | 1 |\n",
       "\n"
      ],
      "text/plain": [
       "  X0 X1  X2 X3        X4 X4.1 X6       X7 X8 X9 X10      X11\n",
       "1 1  619 RS Feminino  42 2           0 1  1  1  10134888 1  \n",
       "2 2  608 SC Feminino  41 1     8380786 1  0  1  11254258 0  \n",
       "3 3  502 RS Feminino  42 8     1596608 3  1  0  11393157 1  \n",
       "4 4  699 RS Feminino  39 1           0 2  0  0   9382663 0  \n",
       "5 5  850 SC Feminino  43 2    12551082 1  1  1    790841 0  \n",
       "6 6  645 SC Masculino 44 8    11375578 2  1  0  14975671 1  "
      ]
     },
     "metadata": {},
     "output_type": "display_data"
    },
    {
     "data": {
      "text/plain": [
       "       X0               X1         X2              X3            X4       \n",
       " Min.   :   1.0   Min.   :376.0   PR:257   F        :  2   Min.   :-20.0  \n",
       " 1st Qu.: 251.5   1st Qu.:580.0   RP:  1   Fem      :  1   1st Qu.: 32.0  \n",
       " Median : 501.0   Median :653.0   RS:478   Feminino :461   Median : 37.0  \n",
       " Mean   : 500.9   Mean   :648.6   SC:258   M        :  6   Mean   : 38.9  \n",
       " 3rd Qu.: 750.5   3rd Qu.:721.0   SP:  4   Masculino:521   3rd Qu.: 44.0  \n",
       " Max.   :1000.0   Max.   :850.0   TD:  1   NA's     :  8   Max.   :140.0  \n",
       "                                                                          \n",
       "      X4.1              X6                 X7              X8        \n",
       " Min.   : 0.000   Min.   :       0   Min.   :1.000   Min.   :0.0000  \n",
       " 1st Qu.: 2.000   1st Qu.:       0   1st Qu.:1.000   1st Qu.:0.0000  \n",
       " Median : 5.000   Median : 8958835   Median :1.000   Median :1.0000  \n",
       " Mean   : 5.069   Mean   : 7164928   Mean   :1.527   Mean   :0.7027  \n",
       " 3rd Qu.: 8.000   3rd Qu.:12586844   3rd Qu.:2.000   3rd Qu.:1.0000  \n",
       " Max.   :10.000   Max.   :21177431   Max.   :4.000   Max.   :1.0000  \n",
       "                                                                     \n",
       "       X9              X10                 X11        \n",
       " Min.   :0.0000   Min.   :9.677e+03   Min.   :0.0000  \n",
       " 1st Qu.:0.0000   1st Qu.:3.029e+06   1st Qu.:0.0000  \n",
       " Median :1.0000   Median :8.703e+06   Median :0.0000  \n",
       " Mean   :0.5095   Mean   :3.529e+07   Mean   :0.2032  \n",
       " 3rd Qu.:1.0000   3rd Qu.:1.405e+07   3rd Qu.:0.0000  \n",
       " Max.   :1.0000   Max.   :1.193e+10   Max.   :1.0000  \n",
       "                  NA's   :7                           "
      ]
     },
     "metadata": {},
     "output_type": "display_data"
    }
   ],
   "source": [
    "# DATA_DIR = \"C:\\\\Users\\\\glauc\\\\OneDrive\\\\Área de Trabalho\\\\data_science\\\\studies\\\\FormacaoCD\\\\9.Prática em R\\\\dados\\\\Churn.csv\"\n",
    "DATA_DIR = '/home/glauco_sapucaia/Área de Trabalho/data_science/material_data_science/9.Prática em R/dados/Churn.csv'\n",
    "\n",
    "data = read.csv(DATA_DIR, sep = ';', na.strings = '', stringsAsFactors = T)\n",
    "head(data)\n",
    "summary(data)"
   ]
  },
  {
   "cell_type": "code",
   "execution_count": 2,
   "metadata": {
    "vscode": {
     "languageId": "r"
    }
   },
   "outputs": [
    {
     "data": {
      "text/html": [
       "<table class=\"dataframe\">\n",
       "<caption>A data.frame: 6 × 12</caption>\n",
       "<thead>\n",
       "\t<tr><th></th><th scope=col>id</th><th scope=col>score</th><th scope=col>estado</th><th scope=col>genero</th><th scope=col>idade</th><th scope=col>patrimonio</th><th scope=col>saldo</th><th scope=col>produtos</th><th scope=col>temcardcredito</th><th scope=col>ativo</th><th scope=col>salario</th><th scope=col>saiu</th></tr>\n",
       "\t<tr><th></th><th scope=col>&lt;int&gt;</th><th scope=col>&lt;int&gt;</th><th scope=col>&lt;fct&gt;</th><th scope=col>&lt;fct&gt;</th><th scope=col>&lt;int&gt;</th><th scope=col>&lt;int&gt;</th><th scope=col>&lt;int&gt;</th><th scope=col>&lt;int&gt;</th><th scope=col>&lt;int&gt;</th><th scope=col>&lt;int&gt;</th><th scope=col>&lt;dbl&gt;</th><th scope=col>&lt;int&gt;</th></tr>\n",
       "</thead>\n",
       "<tbody>\n",
       "\t<tr><th scope=row>1</th><td>1</td><td>619</td><td>RS</td><td>Feminino </td><td>42</td><td>2</td><td>       0</td><td>1</td><td>1</td><td>1</td><td>10134888</td><td>1</td></tr>\n",
       "\t<tr><th scope=row>2</th><td>2</td><td>608</td><td>SC</td><td>Feminino </td><td>41</td><td>1</td><td> 8380786</td><td>1</td><td>0</td><td>1</td><td>11254258</td><td>0</td></tr>\n",
       "\t<tr><th scope=row>3</th><td>3</td><td>502</td><td>RS</td><td>Feminino </td><td>42</td><td>8</td><td> 1596608</td><td>3</td><td>1</td><td>0</td><td>11393157</td><td>1</td></tr>\n",
       "\t<tr><th scope=row>4</th><td>4</td><td>699</td><td>RS</td><td>Feminino </td><td>39</td><td>1</td><td>       0</td><td>2</td><td>0</td><td>0</td><td> 9382663</td><td>0</td></tr>\n",
       "\t<tr><th scope=row>5</th><td>5</td><td>850</td><td>SC</td><td>Feminino </td><td>43</td><td>2</td><td>12551082</td><td>1</td><td>1</td><td>1</td><td>  790841</td><td>0</td></tr>\n",
       "\t<tr><th scope=row>6</th><td>6</td><td>645</td><td>SC</td><td>Masculino</td><td>44</td><td>8</td><td>11375578</td><td>2</td><td>1</td><td>0</td><td>14975671</td><td>1</td></tr>\n",
       "</tbody>\n",
       "</table>\n"
      ],
      "text/latex": [
       "A data.frame: 6 × 12\n",
       "\\begin{tabular}{r|llllllllllll}\n",
       "  & id & score & estado & genero & idade & patrimonio & saldo & produtos & temcardcredito & ativo & salario & saiu\\\\\n",
       "  & <int> & <int> & <fct> & <fct> & <int> & <int> & <int> & <int> & <int> & <int> & <dbl> & <int>\\\\\n",
       "\\hline\n",
       "\t1 & 1 & 619 & RS & Feminino  & 42 & 2 &        0 & 1 & 1 & 1 & 10134888 & 1\\\\\n",
       "\t2 & 2 & 608 & SC & Feminino  & 41 & 1 &  8380786 & 1 & 0 & 1 & 11254258 & 0\\\\\n",
       "\t3 & 3 & 502 & RS & Feminino  & 42 & 8 &  1596608 & 3 & 1 & 0 & 11393157 & 1\\\\\n",
       "\t4 & 4 & 699 & RS & Feminino  & 39 & 1 &        0 & 2 & 0 & 0 &  9382663 & 0\\\\\n",
       "\t5 & 5 & 850 & SC & Feminino  & 43 & 2 & 12551082 & 1 & 1 & 1 &   790841 & 0\\\\\n",
       "\t6 & 6 & 645 & SC & Masculino & 44 & 8 & 11375578 & 2 & 1 & 0 & 14975671 & 1\\\\\n",
       "\\end{tabular}\n"
      ],
      "text/markdown": [
       "\n",
       "A data.frame: 6 × 12\n",
       "\n",
       "| <!--/--> | id &lt;int&gt; | score &lt;int&gt; | estado &lt;fct&gt; | genero &lt;fct&gt; | idade &lt;int&gt; | patrimonio &lt;int&gt; | saldo &lt;int&gt; | produtos &lt;int&gt; | temcardcredito &lt;int&gt; | ativo &lt;int&gt; | salario &lt;dbl&gt; | saiu &lt;int&gt; |\n",
       "|---|---|---|---|---|---|---|---|---|---|---|---|---|\n",
       "| 1 | 1 | 619 | RS | Feminino  | 42 | 2 |        0 | 1 | 1 | 1 | 10134888 | 1 |\n",
       "| 2 | 2 | 608 | SC | Feminino  | 41 | 1 |  8380786 | 1 | 0 | 1 | 11254258 | 0 |\n",
       "| 3 | 3 | 502 | RS | Feminino  | 42 | 8 |  1596608 | 3 | 1 | 0 | 11393157 | 1 |\n",
       "| 4 | 4 | 699 | RS | Feminino  | 39 | 1 |        0 | 2 | 0 | 0 |  9382663 | 0 |\n",
       "| 5 | 5 | 850 | SC | Feminino  | 43 | 2 | 12551082 | 1 | 1 | 1 |   790841 | 0 |\n",
       "| 6 | 6 | 645 | SC | Masculino | 44 | 8 | 11375578 | 2 | 1 | 0 | 14975671 | 1 |\n",
       "\n"
      ],
      "text/plain": [
       "  id score estado genero    idade patrimonio saldo    produtos temcardcredito\n",
       "1 1  619   RS     Feminino  42    2                 0 1        1             \n",
       "2 2  608   SC     Feminino  41    1           8380786 1        0             \n",
       "3 3  502   RS     Feminino  42    8           1596608 3        1             \n",
       "4 4  699   RS     Feminino  39    1                 0 2        0             \n",
       "5 5  850   SC     Feminino  43    2          12551082 1        1             \n",
       "6 6  645   SC     Masculino 44    8          11375578 2        1             \n",
       "  ativo salario  saiu\n",
       "1 1     10134888 1   \n",
       "2 1     11254258 0   \n",
       "3 0     11393157 1   \n",
       "4 0      9382663 0   \n",
       "5 1       790841 0   \n",
       "6 0     14975671 1   "
      ]
     },
     "metadata": {},
     "output_type": "display_data"
    }
   ],
   "source": [
    "colnames(data) = c(\n",
    "    'id', 'score', 'estado', 'genero', 'idade', 'patrimonio', 'saldo',\n",
    "    'produtos', 'temcardcredito', 'ativo', 'salario', 'saiu'\n",
    ")\n",
    "head(data)"
   ]
  },
  {
   "cell_type": "code",
   "execution_count": 3,
   "metadata": {
    "vscode": {
     "languageId": "r"
    }
   },
   "outputs": [
    {
     "data": {
      "image/png": "[encoded data removed]",
      "text/plain": [
       "Plot with title “estado”"
      ]
     },
     "metadata": {
      "image/png": {
       "height": 420,
       "width": 420
      }
     },
     "output_type": "display_data"
    }
   ],
   "source": [
    "estados = table(data$estado)\n",
    "barplot(estados, main='estado', xlab = 'estado')"
   ]
  },
  {
   "cell_type": "code",
   "execution_count": 4,
   "metadata": {
    "vscode": {
     "languageId": "r"
    }
   },
   "outputs": [
    {
     "data": {
      "image/png": "[encoded data removed]",
      "text/plain": [
       "plot without title"
      ]
     },
     "metadata": {
      "image/png": {
       "height": 420,
       "width": 420
      }
     },
     "output_type": "display_data"
    }
   ],
   "source": [
    "generos = table(data$genero)\n",
    "barplot(generos)"
   ]
  },
  {
   "cell_type": "code",
   "execution_count": 5,
   "metadata": {
    "vscode": {
     "languageId": "r"
    }
   },
   "outputs": [
    {
     "data": {
      "text/plain": [
       "   Min. 1st Qu.  Median    Mean 3rd Qu.    Max. \n",
       "  376.0   580.0   653.0   648.6   721.0   850.0 "
      ]
     },
     "metadata": {},
     "output_type": "display_data"
    },
    {
     "data": {
      "image/png": "[encoded data removed]",
      "text/plain": [
       "plot without title"
      ]
     },
     "metadata": {
      "image/png": {
       "height": 420,
       "width": 420
      }
     },
     "output_type": "display_data"
    },
    {
     "data": {
      "image/png": "[encoded data removed]",
      "text/plain": [
       "Plot with title “Histogram of scores”"
      ]
     },
     "metadata": {
      "image/png": {
       "height": 420,
       "width": 420
      }
     },
     "output_type": "display_data"
    }
   ],
   "source": [
    "scores = data$score\n",
    "summary(scores)\n",
    "boxplot(scores)\n",
    "hist(scores)\n"
   ]
  },
  {
   "cell_type": "code",
   "execution_count": 6,
   "metadata": {
    "vscode": {
     "languageId": "r"
    }
   },
   "outputs": [
    {
     "data": {
      "text/plain": [
       "   Min. 1st Qu.  Median    Mean 3rd Qu.    Max. \n",
       "  -20.0    32.0    37.0    38.9    44.0   140.0 "
      ]
     },
     "metadata": {},
     "output_type": "display_data"
    },
    {
     "data": {
      "image/png": "[encoded data removed]",
      "text/plain": [
       "Plot with title “Histogram of idades”"
      ]
     },
     "metadata": {
      "image/png": {
       "height": 420,
       "width": 420
      }
     },
     "output_type": "display_data"
    }
   ],
   "source": [
    "idades = data$idade\n",
    "summary(idades)\n",
    "hist(idades)\n"
   ]
  },
  {
   "cell_type": "code",
   "execution_count": 7,
   "metadata": {
    "vscode": {
     "languageId": "r"
    }
   },
   "outputs": [
    {
     "data": {
      "text/plain": [
       "    Min.  1st Qu.   Median     Mean  3rd Qu.     Max. \n",
       "       0        0  8958835  7164928 12586844 21177431 "
      ]
     },
     "metadata": {},
     "output_type": "display_data"
    },
    {
     "data": {
      "image/png": "[encoded data removed]",
      "text/plain": [
       "plot without title"
      ]
     },
     "metadata": {
      "image/png": {
       "height": 420,
       "width": 420
      }
     },
     "output_type": "display_data"
    },
    {
     "data": {
      "image/png": "[encoded data removed]",
      "text/plain": [
       "Plot with title “Histogram of saldos”"
      ]
     },
     "metadata": {
      "image/png": {
       "height": 420,
       "width": 420
      }
     },
     "output_type": "display_data"
    }
   ],
   "source": [
    "saldos = data$saldo\n",
    "summary(saldos)\n",
    "boxplot(saldos)\n",
    "hist(saldos)"
   ]
  },
  {
   "cell_type": "code",
   "execution_count": 8,
   "metadata": {
    "vscode": {
     "languageId": "r"
    }
   },
   "outputs": [
    {
     "data": {
      "text/plain": [
       "     Min.   1st Qu.    Median      Mean   3rd Qu.      Max.      NA's \n",
       "9.677e+03 3.029e+06 8.703e+06 3.529e+07 1.405e+07 1.193e+10         7 "
      ]
     },
     "metadata": {},
     "output_type": "display_data"
    }
   ],
   "source": [
    "salarios = data$salario\n",
    "summary(salarios)"
   ]
  },
  {
   "cell_type": "markdown",
   "metadata": {},
   "source": [
    "# Tratamentos"
   ]
  },
  {
   "cell_type": "code",
   "execution_count": 9,
   "metadata": {
    "vscode": {
     "languageId": "r"
    }
   },
   "outputs": [
    {
     "data": {
      "text/html": [
       "<table class=\"dataframe\">\n",
       "<caption>A data.frame: 15 × 12</caption>\n",
       "<thead>\n",
       "\t<tr><th></th><th scope=col>id</th><th scope=col>score</th><th scope=col>estado</th><th scope=col>genero</th><th scope=col>idade</th><th scope=col>patrimonio</th><th scope=col>saldo</th><th scope=col>produtos</th><th scope=col>temcardcredito</th><th scope=col>ativo</th><th scope=col>salario</th><th scope=col>saiu</th></tr>\n",
       "\t<tr><th></th><th scope=col>&lt;int&gt;</th><th scope=col>&lt;int&gt;</th><th scope=col>&lt;fct&gt;</th><th scope=col>&lt;fct&gt;</th><th scope=col>&lt;int&gt;</th><th scope=col>&lt;int&gt;</th><th scope=col>&lt;int&gt;</th><th scope=col>&lt;int&gt;</th><th scope=col>&lt;int&gt;</th><th scope=col>&lt;int&gt;</th><th scope=col>&lt;dbl&gt;</th><th scope=col>&lt;int&gt;</th></tr>\n",
       "</thead>\n",
       "<tbody>\n",
       "\t<tr><th scope=row>18</th><td> 18</td><td>549</td><td>SC</td><td>Feminino </td><td>24</td><td> 9</td><td>       0</td><td>2</td><td>1</td><td>1</td><td>      NA</td><td>0</td></tr>\n",
       "\t<tr><th scope=row>53</th><td> 53</td><td>788</td><td>RS</td><td>Feminino </td><td>33</td><td> 5</td><td>       0</td><td>2</td><td>0</td><td>0</td><td>      NA</td><td>0</td></tr>\n",
       "\t<tr><th scope=row>65</th><td> 65</td><td>603</td><td>PR</td><td>NA       </td><td>26</td><td> 4</td><td>10916637</td><td>1</td><td>1</td><td>1</td><td> 9284067</td><td>0</td></tr>\n",
       "\t<tr><th scope=row>85</th><td> 86</td><td>493</td><td>RS</td><td>NA       </td><td>46</td><td> 4</td><td>       0</td><td>2</td><td>1</td><td>0</td><td>  190766</td><td>0</td></tr>\n",
       "\t<tr><th scope=row>180</th><td>181</td><td>754</td><td>PR</td><td>Feminino </td><td>55</td><td> 3</td><td>16160881</td><td>1</td><td>1</td><td>0</td><td>      NA</td><td>1</td></tr>\n",
       "\t<tr><th scope=row>214</th><td>215</td><td>676</td><td>RS</td><td>NA       </td><td>34</td><td> 1</td><td> 6309501</td><td>1</td><td>1</td><td>1</td><td> 4064581</td><td>0</td></tr>\n",
       "\t<tr><th scope=row>297</th><td>298</td><td>714</td><td>RS</td><td>NA       </td><td>31</td><td> 4</td><td>12516926</td><td>1</td><td>1</td><td>1</td><td>10663689</td><td>0</td></tr>\n",
       "\t<tr><th scope=row>331</th><td>332</td><td>656</td><td>RS</td><td>Masculino</td><td>50</td><td> 7</td><td>       0</td><td>2</td><td>0</td><td>1</td><td>      NA</td><td>0</td></tr>\n",
       "\t<tr><th scope=row>371</th><td>372</td><td>801</td><td>SC</td><td>NA       </td><td>42</td><td> 4</td><td>14194767</td><td>1</td><td>1</td><td>1</td><td> 1059829</td><td>0</td></tr>\n",
       "\t<tr><th scope=row>427</th><td>428</td><td>492</td><td>PR</td><td>Masculino</td><td>39</td><td>10</td><td>12457665</td><td>2</td><td>1</td><td>0</td><td>      NA</td><td>0</td></tr>\n",
       "\t<tr><th scope=row>502</th><td>503</td><td>692</td><td>RS</td><td>NA       </td><td>54</td><td> 5</td><td>       0</td><td>2</td><td>1</td><td>1</td><td> 8872184</td><td>0</td></tr>\n",
       "\t<tr><th scope=row>551</th><td>552</td><td>721</td><td>PR</td><td>Feminino </td><td>36</td><td> 3</td><td> 6525307</td><td>2</td><td>1</td><td>0</td><td>      NA</td><td>0</td></tr>\n",
       "\t<tr><th scope=row>964</th><td>965</td><td>529</td><td>SC</td><td>NA       </td><td>63</td><td> 4</td><td> 9613411</td><td>3</td><td>1</td><td>0</td><td>10873296</td><td>1</td></tr>\n",
       "\t<tr><th scope=row>970</th><td>971</td><td>649</td><td>PR</td><td>NA       </td><td>70</td><td> 9</td><td>11685471</td><td>2</td><td>0</td><td>1</td><td>10712579</td><td>0</td></tr>\n",
       "\t<tr><th scope=row>984</th><td>985</td><td>614</td><td>PR</td><td>Feminino </td><td>35</td><td> 6</td><td>12810028</td><td>1</td><td>0</td><td>0</td><td>      NA</td><td>1</td></tr>\n",
       "</tbody>\n",
       "</table>\n"
      ],
      "text/latex": [
       "A data.frame: 15 × 12\n",
       "\\begin{tabular}{r|llllllllllll}\n",
       "  & id & score & estado & genero & idade & patrimonio & saldo & produtos & temcardcredito & ativo & salario & saiu\\\\\n",
       "  & <int> & <int> & <fct> & <fct> & <int> & <int> & <int> & <int> & <int> & <int> & <dbl> & <int>\\\\\n",
       "\\hline\n",
       "\t18 &  18 & 549 & SC & Feminino  & 24 &  9 &        0 & 2 & 1 & 1 &       NA & 0\\\\\n",
       "\t53 &  53 & 788 & RS & Feminino  & 33 &  5 &        0 & 2 & 0 & 0 &       NA & 0\\\\\n",
       "\t65 &  65 & 603 & PR & NA        & 26 &  4 & 10916637 & 1 & 1 & 1 &  9284067 & 0\\\\\n",
       "\t85 &  86 & 493 & RS & NA        & 46 &  4 &        0 & 2 & 1 & 0 &   190766 & 0\\\\\n",
       "\t180 & 181 & 754 & PR & Feminino  & 55 &  3 & 16160881 & 1 & 1 & 0 &       NA & 1\\\\\n",
       "\t214 & 215 & 676 & RS & NA        & 34 &  1 &  6309501 & 1 & 1 & 1 &  4064581 & 0\\\\\n",
       "\t297 & 298 & 714 & RS & NA        & 31 &  4 & 12516926 & 1 & 1 & 1 & 10663689 & 0\\\\\n",
       "\t331 & 332 & 656 & RS & Masculino & 50 &  7 &        0 & 2 & 0 & 1 &       NA & 0\\\\\n",
       "\t371 & 372 & 801 & SC & NA        & 42 &  4 & 14194767 & 1 & 1 & 1 &  1059829 & 0\\\\\n",
       "\t427 & 428 & 492 & PR & Masculino & 39 & 10 & 12457665 & 2 & 1 & 0 &       NA & 0\\\\\n",
       "\t502 & 503 & 692 & RS & NA        & 54 &  5 &        0 & 2 & 1 & 1 &  8872184 & 0\\\\\n",
       "\t551 & 552 & 721 & PR & Feminino  & 36 &  3 &  6525307 & 2 & 1 & 0 &       NA & 0\\\\\n",
       "\t964 & 965 & 529 & SC & NA        & 63 &  4 &  9613411 & 3 & 1 & 0 & 10873296 & 1\\\\\n",
       "\t970 & 971 & 649 & PR & NA        & 70 &  9 & 11685471 & 2 & 0 & 1 & 10712579 & 0\\\\\n",
       "\t984 & 985 & 614 & PR & Feminino  & 35 &  6 & 12810028 & 1 & 0 & 0 &       NA & 1\\\\\n",
       "\\end{tabular}\n"
      ],
      "text/markdown": [
       "\n",
       "A data.frame: 15 × 12\n",
       "\n",
       "| <!--/--> | id &lt;int&gt; | score &lt;int&gt; | estado &lt;fct&gt; | genero &lt;fct&gt; | idade &lt;int&gt; | patrimonio &lt;int&gt; | saldo &lt;int&gt; | produtos &lt;int&gt; | temcardcredito &lt;int&gt; | ativo &lt;int&gt; | salario &lt;dbl&gt; | saiu &lt;int&gt; |\n",
       "|---|---|---|---|---|---|---|---|---|---|---|---|---|\n",
       "| 18 |  18 | 549 | SC | Feminino  | 24 |  9 |        0 | 2 | 1 | 1 |       NA | 0 |\n",
       "| 53 |  53 | 788 | RS | Feminino  | 33 |  5 |        0 | 2 | 0 | 0 |       NA | 0 |\n",
       "| 65 |  65 | 603 | PR | NA        | 26 |  4 | 10916637 | 1 | 1 | 1 |  9284067 | 0 |\n",
       "| 85 |  86 | 493 | RS | NA        | 46 |  4 |        0 | 2 | 1 | 0 |   190766 | 0 |\n",
       "| 180 | 181 | 754 | PR | Feminino  | 55 |  3 | 16160881 | 1 | 1 | 0 |       NA | 1 |\n",
       "| 214 | 215 | 676 | RS | NA        | 34 |  1 |  6309501 | 1 | 1 | 1 |  4064581 | 0 |\n",
       "| 297 | 298 | 714 | RS | NA        | 31 |  4 | 12516926 | 1 | 1 | 1 | 10663689 | 0 |\n",
       "| 331 | 332 | 656 | RS | Masculino | 50 |  7 |        0 | 2 | 0 | 1 |       NA | 0 |\n",
       "| 371 | 372 | 801 | SC | NA        | 42 |  4 | 14194767 | 1 | 1 | 1 |  1059829 | 0 |\n",
       "| 427 | 428 | 492 | PR | Masculino | 39 | 10 | 12457665 | 2 | 1 | 0 |       NA | 0 |\n",
       "| 502 | 503 | 692 | RS | NA        | 54 |  5 |        0 | 2 | 1 | 1 |  8872184 | 0 |\n",
       "| 551 | 552 | 721 | PR | Feminino  | 36 |  3 |  6525307 | 2 | 1 | 0 |       NA | 0 |\n",
       "| 964 | 965 | 529 | SC | NA        | 63 |  4 |  9613411 | 3 | 1 | 0 | 10873296 | 1 |\n",
       "| 970 | 971 | 649 | PR | NA        | 70 |  9 | 11685471 | 2 | 0 | 1 | 10712579 | 0 |\n",
       "| 984 | 985 | 614 | PR | Feminino  | 35 |  6 | 12810028 | 1 | 0 | 0 |       NA | 1 |\n",
       "\n"
      ],
      "text/plain": [
       "    id  score estado genero    idade patrimonio saldo    produtos\n",
       "18   18 549   SC     Feminino  24     9                0 2       \n",
       "53   53 788   RS     Feminino  33     5                0 2       \n",
       "65   65 603   PR     NA        26     4         10916637 1       \n",
       "85   86 493   RS     NA        46     4                0 2       \n",
       "180 181 754   PR     Feminino  55     3         16160881 1       \n",
       "214 215 676   RS     NA        34     1          6309501 1       \n",
       "297 298 714   RS     NA        31     4         12516926 1       \n",
       "331 332 656   RS     Masculino 50     7                0 2       \n",
       "371 372 801   SC     NA        42     4         14194767 1       \n",
       "427 428 492   PR     Masculino 39    10         12457665 2       \n",
       "502 503 692   RS     NA        54     5                0 2       \n",
       "551 552 721   PR     Feminino  36     3          6525307 2       \n",
       "964 965 529   SC     NA        63     4          9613411 3       \n",
       "970 971 649   PR     NA        70     9         11685471 2       \n",
       "984 985 614   PR     Feminino  35     6         12810028 1       \n",
       "    temcardcredito ativo salario  saiu\n",
       "18  1              1           NA 0   \n",
       "53  0              0           NA 0   \n",
       "65  1              1      9284067 0   \n",
       "85  1              0       190766 0   \n",
       "180 1              0           NA 1   \n",
       "214 1              1      4064581 0   \n",
       "297 1              1     10663689 0   \n",
       "331 0              1           NA 0   \n",
       "371 1              1      1059829 0   \n",
       "427 1              0           NA 0   \n",
       "502 1              1      8872184 0   \n",
       "551 1              0           NA 0   \n",
       "964 1              0     10873296 1   \n",
       "970 0              1     10712579 0   \n",
       "984 0              0           NA 1   "
      ]
     },
     "metadata": {},
     "output_type": "display_data"
    }
   ],
   "source": [
    "data[!complete.cases(data), ]"
   ]
  },
  {
   "cell_type": "markdown",
   "metadata": {},
   "source": [
    "# Erro\n",
    "- Ao rodar o código mais de uma vez, temos um erro! Algo sobre variaveis\n",
    "na memoria.\n",
    "- Em caso de erro => Reload Window 😁\n",
    "- O erro ocorre em qualquer mudança de valores de uma DB!"
   ]
  },
  {
   "cell_type": "code",
   "execution_count": 10,
   "metadata": {
    "vscode": {
     "languageId": "r"
    }
   },
   "outputs": [
    {
     "data": {
      "text/plain": [
       "     Min.   1st Qu.    Median      Mean   3rd Qu.      Max.      NA's \n",
       "9.677e+03 3.029e+06 8.703e+06 3.529e+07 1.405e+07 1.193e+10         7 "
      ]
     },
     "metadata": {},
     "output_type": "display_data"
    }
   ],
   "source": [
    "summary(data$salario)\n",
    "data[is.na(data$salario),]$salario = median(data$salario,na.rm = T)         \n"
   ]
  },
  {
   "cell_type": "code",
   "execution_count": 11,
   "metadata": {
    "vscode": {
     "languageId": "r"
    }
   },
   "outputs": [
    {
     "data": {
      "text/html": [
       "<table class=\"dataframe\">\n",
       "<caption>A data.frame: 8 × 12</caption>\n",
       "<thead>\n",
       "\t<tr><th></th><th scope=col>id</th><th scope=col>score</th><th scope=col>estado</th><th scope=col>genero</th><th scope=col>idade</th><th scope=col>patrimonio</th><th scope=col>saldo</th><th scope=col>produtos</th><th scope=col>temcardcredito</th><th scope=col>ativo</th><th scope=col>salario</th><th scope=col>saiu</th></tr>\n",
       "\t<tr><th></th><th scope=col>&lt;int&gt;</th><th scope=col>&lt;int&gt;</th><th scope=col>&lt;fct&gt;</th><th scope=col>&lt;fct&gt;</th><th scope=col>&lt;int&gt;</th><th scope=col>&lt;int&gt;</th><th scope=col>&lt;int&gt;</th><th scope=col>&lt;int&gt;</th><th scope=col>&lt;int&gt;</th><th scope=col>&lt;int&gt;</th><th scope=col>&lt;dbl&gt;</th><th scope=col>&lt;int&gt;</th></tr>\n",
       "</thead>\n",
       "<tbody>\n",
       "\t<tr><th scope=row>65</th><td> 65</td><td>603</td><td>PR</td><td>NA</td><td>26</td><td>4</td><td>10916637</td><td>1</td><td>1</td><td>1</td><td> 9284067</td><td>0</td></tr>\n",
       "\t<tr><th scope=row>85</th><td> 86</td><td>493</td><td>RS</td><td>NA</td><td>46</td><td>4</td><td>       0</td><td>2</td><td>1</td><td>0</td><td>  190766</td><td>0</td></tr>\n",
       "\t<tr><th scope=row>214</th><td>215</td><td>676</td><td>RS</td><td>NA</td><td>34</td><td>1</td><td> 6309501</td><td>1</td><td>1</td><td>1</td><td> 4064581</td><td>0</td></tr>\n",
       "\t<tr><th scope=row>297</th><td>298</td><td>714</td><td>RS</td><td>NA</td><td>31</td><td>4</td><td>12516926</td><td>1</td><td>1</td><td>1</td><td>10663689</td><td>0</td></tr>\n",
       "\t<tr><th scope=row>371</th><td>372</td><td>801</td><td>SC</td><td>NA</td><td>42</td><td>4</td><td>14194767</td><td>1</td><td>1</td><td>1</td><td> 1059829</td><td>0</td></tr>\n",
       "\t<tr><th scope=row>502</th><td>503</td><td>692</td><td>RS</td><td>NA</td><td>54</td><td>5</td><td>       0</td><td>2</td><td>1</td><td>1</td><td> 8872184</td><td>0</td></tr>\n",
       "\t<tr><th scope=row>964</th><td>965</td><td>529</td><td>SC</td><td>NA</td><td>63</td><td>4</td><td> 9613411</td><td>3</td><td>1</td><td>0</td><td>10873296</td><td>1</td></tr>\n",
       "\t<tr><th scope=row>970</th><td>971</td><td>649</td><td>PR</td><td>NA</td><td>70</td><td>9</td><td>11685471</td><td>2</td><td>0</td><td>1</td><td>10712579</td><td>0</td></tr>\n",
       "</tbody>\n",
       "</table>\n"
      ],
      "text/latex": [
       "A data.frame: 8 × 12\n",
       "\\begin{tabular}{r|llllllllllll}\n",
       "  & id & score & estado & genero & idade & patrimonio & saldo & produtos & temcardcredito & ativo & salario & saiu\\\\\n",
       "  & <int> & <int> & <fct> & <fct> & <int> & <int> & <int> & <int> & <int> & <int> & <dbl> & <int>\\\\\n",
       "\\hline\n",
       "\t65 &  65 & 603 & PR & NA & 26 & 4 & 10916637 & 1 & 1 & 1 &  9284067 & 0\\\\\n",
       "\t85 &  86 & 493 & RS & NA & 46 & 4 &        0 & 2 & 1 & 0 &   190766 & 0\\\\\n",
       "\t214 & 215 & 676 & RS & NA & 34 & 1 &  6309501 & 1 & 1 & 1 &  4064581 & 0\\\\\n",
       "\t297 & 298 & 714 & RS & NA & 31 & 4 & 12516926 & 1 & 1 & 1 & 10663689 & 0\\\\\n",
       "\t371 & 372 & 801 & SC & NA & 42 & 4 & 14194767 & 1 & 1 & 1 &  1059829 & 0\\\\\n",
       "\t502 & 503 & 692 & RS & NA & 54 & 5 &        0 & 2 & 1 & 1 &  8872184 & 0\\\\\n",
       "\t964 & 965 & 529 & SC & NA & 63 & 4 &  9613411 & 3 & 1 & 0 & 10873296 & 1\\\\\n",
       "\t970 & 971 & 649 & PR & NA & 70 & 9 & 11685471 & 2 & 0 & 1 & 10712579 & 0\\\\\n",
       "\\end{tabular}\n"
      ],
      "text/markdown": [
       "\n",
       "A data.frame: 8 × 12\n",
       "\n",
       "| <!--/--> | id &lt;int&gt; | score &lt;int&gt; | estado &lt;fct&gt; | genero &lt;fct&gt; | idade &lt;int&gt; | patrimonio &lt;int&gt; | saldo &lt;int&gt; | produtos &lt;int&gt; | temcardcredito &lt;int&gt; | ativo &lt;int&gt; | salario &lt;dbl&gt; | saiu &lt;int&gt; |\n",
       "|---|---|---|---|---|---|---|---|---|---|---|---|---|\n",
       "| 65 |  65 | 603 | PR | NA | 26 | 4 | 10916637 | 1 | 1 | 1 |  9284067 | 0 |\n",
       "| 85 |  86 | 493 | RS | NA | 46 | 4 |        0 | 2 | 1 | 0 |   190766 | 0 |\n",
       "| 214 | 215 | 676 | RS | NA | 34 | 1 |  6309501 | 1 | 1 | 1 |  4064581 | 0 |\n",
       "| 297 | 298 | 714 | RS | NA | 31 | 4 | 12516926 | 1 | 1 | 1 | 10663689 | 0 |\n",
       "| 371 | 372 | 801 | SC | NA | 42 | 4 | 14194767 | 1 | 1 | 1 |  1059829 | 0 |\n",
       "| 502 | 503 | 692 | RS | NA | 54 | 5 |        0 | 2 | 1 | 1 |  8872184 | 0 |\n",
       "| 964 | 965 | 529 | SC | NA | 63 | 4 |  9613411 | 3 | 1 | 0 | 10873296 | 1 |\n",
       "| 970 | 971 | 649 | PR | NA | 70 | 9 | 11685471 | 2 | 0 | 1 | 10712579 | 0 |\n",
       "\n"
      ],
      "text/plain": [
       "    id  score estado genero idade patrimonio saldo    produtos temcardcredito\n",
       "65   65 603   PR     NA     26    4          10916637 1        1             \n",
       "85   86 493   RS     NA     46    4                 0 2        1             \n",
       "214 215 676   RS     NA     34    1           6309501 1        1             \n",
       "297 298 714   RS     NA     31    4          12516926 1        1             \n",
       "371 372 801   SC     NA     42    4          14194767 1        1             \n",
       "502 503 692   RS     NA     54    5                 0 2        1             \n",
       "964 965 529   SC     NA     63    4           9613411 3        1             \n",
       "970 971 649   PR     NA     70    9          11685471 2        0             \n",
       "    ativo salario  saiu\n",
       "65  1      9284067 0   \n",
       "85  0       190766 0   \n",
       "214 1      4064581 0   \n",
       "297 1     10663689 0   \n",
       "371 1      1059829 0   \n",
       "502 1      8872184 0   \n",
       "964 0     10873296 1   \n",
       "970 1     10712579 0   "
      ]
     },
     "metadata": {},
     "output_type": "display_data"
    }
   ],
   "source": [
    "data[!complete.cases(data),]"
   ]
  },
  {
   "cell_type": "code",
   "execution_count": 12,
   "metadata": {
    "vscode": {
     "languageId": "r"
    }
   },
   "outputs": [
    {
     "data": {
      "text/html": [
       "<style>\n",
       ".dl-inline {width: auto; margin:0; padding: 0}\n",
       ".dl-inline>dt, .dl-inline>dd {float: none; width: auto; display: inline-block}\n",
       ".dl-inline>dt::after {content: \":\\0020\"; padding-right: .5ex}\n",
       ".dl-inline>dt:not(:first-of-type) {padding-left: .5ex}\n",
       "</style><dl class=dl-inline><dt>F</dt><dd>2</dd><dt>Fem</dt><dd>1</dd><dt>Feminino</dt><dd>461</dd><dt>M</dt><dd>6</dd><dt>Masculino</dt><dd>521</dd><dt>NA's</dt><dd>8</dd></dl>\n"
      ],
      "text/latex": [
       "\\begin{description*}\n",
       "\\item[F] 2\n",
       "\\item[Fem] 1\n",
       "\\item[Feminino] 461\n",
       "\\item[M] 6\n",
       "\\item[Masculino] 521\n",
       "\\item[NA's] 8\n",
       "\\end{description*}\n"
      ],
      "text/markdown": [
       "F\n",
       ":   2Fem\n",
       ":   1Feminino\n",
       ":   461M\n",
       ":   6Masculino\n",
       ":   521NA's\n",
       ":   8\n",
       "\n"
      ],
      "text/plain": [
       "        F       Fem  Feminino         M Masculino      NA's \n",
       "        2         1       461         6       521         8 "
      ]
     },
     "metadata": {},
     "output_type": "display_data"
    },
    {
     "data": {
      "text/html": [
       "<style>\n",
       ".list-inline {list-style: none; margin:0; padding: 0}\n",
       ".list-inline>li {display: inline-block}\n",
       ".list-inline>li:not(:last-child)::after {content: \"\\00b7\"; padding: 0 .5ex}\n",
       "</style>\n",
       "<ol class=list-inline><li>Feminino</li><li>Masculino</li><li>M</li><li>&lt;NA&gt;</li><li>F</li><li>Fem</li></ol>\n",
       "\n",
       "<details>\n",
       "\t<summary style=display:list-item;cursor:pointer>\n",
       "\t\t<strong>Levels</strong>:\n",
       "\t</summary>\n",
       "\t<style>\n",
       "\t.list-inline {list-style: none; margin:0; padding: 0}\n",
       "\t.list-inline>li {display: inline-block}\n",
       "\t.list-inline>li:not(:last-child)::after {content: \"\\00b7\"; padding: 0 .5ex}\n",
       "\t</style>\n",
       "\t<ol class=list-inline><li>'F'</li><li>'Fem'</li><li>'Feminino'</li><li>'M'</li><li>'Masculino'</li></ol>\n",
       "</details>"
      ],
      "text/latex": [
       "\\begin{enumerate*}\n",
       "\\item Feminino\n",
       "\\item Masculino\n",
       "\\item M\n",
       "\\item <NA>\n",
       "\\item F\n",
       "\\item Fem\n",
       "\\end{enumerate*}\n",
       "\n",
       "\\emph{Levels}: \\begin{enumerate*}\n",
       "\\item 'F'\n",
       "\\item 'Fem'\n",
       "\\item 'Feminino'\n",
       "\\item 'M'\n",
       "\\item 'Masculino'\n",
       "\\end{enumerate*}\n"
      ],
      "text/markdown": [
       "1. Feminino\n",
       "2. Masculino\n",
       "3. M\n",
       "4. &lt;NA&gt;\n",
       "5. F\n",
       "6. Fem\n",
       "\n",
       "\n",
       "\n",
       "**Levels**: 1. 'F'\n",
       "2. 'Fem'\n",
       "3. 'Feminino'\n",
       "4. 'M'\n",
       "5. 'Masculino'\n",
       "\n",
       "\n"
      ],
      "text/plain": [
       "[1] Feminino  Masculino M         <NA>      F         Fem      \n",
       "Levels: F Fem Feminino M Masculino"
      ]
     },
     "metadata": {},
     "output_type": "display_data"
    }
   ],
   "source": [
    "summary(data$genero)\n",
    "unique(data$genero)"
   ]
  },
  {
   "cell_type": "code",
   "execution_count": 13,
   "metadata": {
    "vscode": {
     "languageId": "r"
    }
   },
   "outputs": [],
   "source": [
    "data[is.na(data$genero) | data$genero == 'M', ]$genero = 'Masculino'"
   ]
  },
  {
   "cell_type": "code",
   "execution_count": 14,
   "metadata": {
    "vscode": {
     "languageId": "r"
    }
   },
   "outputs": [],
   "source": [
    "data[data$genero == 'F' | data$genero == 'Fem', ]$genero = 'Feminino'"
   ]
  },
  {
   "cell_type": "code",
   "execution_count": 15,
   "metadata": {
    "vscode": {
     "languageId": "r"
    }
   },
   "outputs": [
    {
     "data": {
      "text/html": [
       "<style>\n",
       ".dl-inline {width: auto; margin:0; padding: 0}\n",
       ".dl-inline>dt, .dl-inline>dd {float: none; width: auto; display: inline-block}\n",
       ".dl-inline>dt::after {content: \":\\0020\"; padding-right: .5ex}\n",
       ".dl-inline>dt:not(:first-of-type) {padding-left: .5ex}\n",
       "</style><dl class=dl-inline><dt>Feminino</dt><dd>464</dd><dt>Masculino</dt><dd>535</dd></dl>\n"
      ],
      "text/latex": [
       "\\begin{description*}\n",
       "\\item[Feminino] 464\n",
       "\\item[Masculino] 535\n",
       "\\end{description*}\n"
      ],
      "text/markdown": [
       "Feminino\n",
       ":   464Masculino\n",
       ":   535\n",
       "\n"
      ],
      "text/plain": [
       " Feminino Masculino \n",
       "      464       535 "
      ]
     },
     "metadata": {},
     "output_type": "display_data"
    }
   ],
   "source": [
    "data$genero = factor(data$genero)\n",
    "summary(data$genero)"
   ]
  },
  {
   "cell_type": "code",
   "execution_count": 16,
   "metadata": {
    "vscode": {
     "languageId": "r"
    }
   },
   "outputs": [
    {
     "data": {
      "text/plain": [
       "   Min. 1st Qu.  Median    Mean 3rd Qu.    Max. \n",
       "  -20.0    32.0    37.0    38.9    44.0   140.0 "
      ]
     },
     "metadata": {},
     "output_type": "display_data"
    },
    {
     "data": {
      "text/html": [
       "<style>\n",
       ".list-inline {list-style: none; margin:0; padding: 0}\n",
       ".list-inline>li {display: inline-block}\n",
       ".list-inline>li:not(:last-child)::after {content: \"\\00b7\"; padding: 0 .5ex}\n",
       "</style>\n",
       "<ol class=list-inline><li>-10</li><li>-20</li><li>140</li></ol>\n"
      ],
      "text/latex": [
       "\\begin{enumerate*}\n",
       "\\item -10\n",
       "\\item -20\n",
       "\\item 140\n",
       "\\end{enumerate*}\n"
      ],
      "text/markdown": [
       "1. -10\n",
       "2. -20\n",
       "3. 140\n",
       "\n",
       "\n"
      ],
      "text/plain": [
       "[1] -10 -20 140"
      ]
     },
     "metadata": {},
     "output_type": "display_data"
    },
    {
     "data": {
      "text/html": [
       "<table class=\"dataframe\">\n",
       "<caption>A data.frame: 0 × 12</caption>\n",
       "<thead>\n",
       "\t<tr><th scope=col>id</th><th scope=col>score</th><th scope=col>estado</th><th scope=col>genero</th><th scope=col>idade</th><th scope=col>patrimonio</th><th scope=col>saldo</th><th scope=col>produtos</th><th scope=col>temcardcredito</th><th scope=col>ativo</th><th scope=col>salario</th><th scope=col>saiu</th></tr>\n",
       "\t<tr><th scope=col>&lt;int&gt;</th><th scope=col>&lt;int&gt;</th><th scope=col>&lt;fct&gt;</th><th scope=col>&lt;fct&gt;</th><th scope=col>&lt;int&gt;</th><th scope=col>&lt;int&gt;</th><th scope=col>&lt;int&gt;</th><th scope=col>&lt;int&gt;</th><th scope=col>&lt;int&gt;</th><th scope=col>&lt;int&gt;</th><th scope=col>&lt;dbl&gt;</th><th scope=col>&lt;int&gt;</th></tr>\n",
       "</thead>\n",
       "<tbody>\n",
       "</tbody>\n",
       "</table>\n"
      ],
      "text/latex": [
       "A data.frame: 0 × 12\n",
       "\\begin{tabular}{llllllllllll}\n",
       " id & score & estado & genero & idade & patrimonio & saldo & produtos & temcardcredito & ativo & salario & saiu\\\\\n",
       " <int> & <int> & <fct> & <fct> & <int> & <int> & <int> & <int> & <int> & <int> & <dbl> & <int>\\\\\n",
       "\\hline\n",
       "\\end{tabular}\n"
      ],
      "text/markdown": [
       "\n",
       "A data.frame: 0 × 12\n",
       "\n",
       "| id &lt;int&gt; | score &lt;int&gt; | estado &lt;fct&gt; | genero &lt;fct&gt; | idade &lt;int&gt; | patrimonio &lt;int&gt; | saldo &lt;int&gt; | produtos &lt;int&gt; | temcardcredito &lt;int&gt; | ativo &lt;int&gt; | salario &lt;dbl&gt; | saiu &lt;int&gt; |\n",
       "|---|---|---|---|---|---|---|---|---|---|---|---|\n",
       "\n"
      ],
      "text/plain": [
       "     id score estado genero idade patrimonio saldo produtos temcardcredito\n",
       "     ativo salario saiu"
      ]
     },
     "metadata": {},
     "output_type": "display_data"
    },
    {
     "data": {
      "text/html": [
       "37"
      ],
      "text/latex": [
       "37"
      ],
      "text/markdown": [
       "37"
      ],
      "text/plain": [
       "[1] 37"
      ]
     },
     "metadata": {},
     "output_type": "display_data"
    }
   ],
   "source": [
    "summary(idades)\n",
    "data[data$idade < 0 | data$idade > 110,]$idade\n",
    "data[is.na(data$idade),]\n",
    "median(data$idade)"
   ]
  },
  {
   "cell_type": "code",
   "execution_count": 17,
   "metadata": {
    "vscode": {
     "languageId": "r"
    }
   },
   "outputs": [],
   "source": [
    "data[data$idade < 0 | data$idade > 110, ]$idade = median(data$idade)"
   ]
  },
  {
   "cell_type": "code",
   "execution_count": 18,
   "metadata": {
    "vscode": {
     "languageId": "r"
    }
   },
   "outputs": [
    {
     "data": {
      "text/html": [
       "<table class=\"dataframe\">\n",
       "<caption>A data.frame: 0 × 12</caption>\n",
       "<thead>\n",
       "\t<tr><th scope=col>id</th><th scope=col>score</th><th scope=col>estado</th><th scope=col>genero</th><th scope=col>idade</th><th scope=col>patrimonio</th><th scope=col>saldo</th><th scope=col>produtos</th><th scope=col>temcardcredito</th><th scope=col>ativo</th><th scope=col>salario</th><th scope=col>saiu</th></tr>\n",
       "\t<tr><th scope=col>&lt;int&gt;</th><th scope=col>&lt;int&gt;</th><th scope=col>&lt;fct&gt;</th><th scope=col>&lt;fct&gt;</th><th scope=col>&lt;int&gt;</th><th scope=col>&lt;int&gt;</th><th scope=col>&lt;int&gt;</th><th scope=col>&lt;int&gt;</th><th scope=col>&lt;int&gt;</th><th scope=col>&lt;int&gt;</th><th scope=col>&lt;dbl&gt;</th><th scope=col>&lt;int&gt;</th></tr>\n",
       "</thead>\n",
       "<tbody>\n",
       "</tbody>\n",
       "</table>\n"
      ],
      "text/latex": [
       "A data.frame: 0 × 12\n",
       "\\begin{tabular}{llllllllllll}\n",
       " id & score & estado & genero & idade & patrimonio & saldo & produtos & temcardcredito & ativo & salario & saiu\\\\\n",
       " <int> & <int> & <fct> & <fct> & <int> & <int> & <int> & <int> & <int> & <int> & <dbl> & <int>\\\\\n",
       "\\hline\n",
       "\\end{tabular}\n"
      ],
      "text/markdown": [
       "\n",
       "A data.frame: 0 × 12\n",
       "\n",
       "| id &lt;int&gt; | score &lt;int&gt; | estado &lt;fct&gt; | genero &lt;fct&gt; | idade &lt;int&gt; | patrimonio &lt;int&gt; | saldo &lt;int&gt; | produtos &lt;int&gt; | temcardcredito &lt;int&gt; | ativo &lt;int&gt; | salario &lt;dbl&gt; | saiu &lt;int&gt; |\n",
       "|---|---|---|---|---|---|---|---|---|---|---|---|\n",
       "\n"
      ],
      "text/plain": [
       "     id score estado genero idade patrimonio saldo produtos temcardcredito\n",
       "     ativo salario saiu"
      ]
     },
     "metadata": {},
     "output_type": "display_data"
    }
   ],
   "source": [
    "data[data$idade < 0 | data$idade > 110, ]"
   ]
  },
  {
   "cell_type": "code",
   "execution_count": 19,
   "metadata": {
    "vscode": {
     "languageId": "r"
    }
   },
   "outputs": [
    {
     "data": {
      "text/plain": [
       "   Min. 1st Qu.  Median    Mean 3rd Qu.    Max. \n",
       "    0.0    32.0    37.0    38.9    44.0    82.0 "
      ]
     },
     "metadata": {},
     "output_type": "display_data"
    }
   ],
   "source": [
    "summary(data$idade)"
   ]
  }
 ],
 "metadata": {
  "kernelspec": {
   "display_name": "R",
   "language": "R",
   "name": "ir"
  },
  "language_info": {
   "codemirror_mode": "r",
   "file_extension": ".r",
   "mimetype": "text/x-r-source",
   "name": "R",
   "pygments_lexer": "r",
   "version": "4.3.2"
  }
 },
 "nbformat": 4,
 "nbformat_minor": 2
}
