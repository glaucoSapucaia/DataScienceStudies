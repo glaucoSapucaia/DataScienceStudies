{
 "cells": [
  {
   "cell_type": "markdown",
   "metadata": {},
   "source": [
    "# Aparencia"
   ]
  },
  {
   "cell_type": "code",
   "execution_count": 72,
   "metadata": {
    "vscode": {
     "languageId": "r"
    }
   },
   "outputs": [
    {
     "data": {
      "text/plain": [
       "   Aparencia  Temperatura         Umidade              Vento   Jogar  \n",
       " chuva  :5   Min.   :  64.00   Min.   : 65.00   FALSO     :7   nao:5  \n",
       " menos  :1   1st Qu.:  69.25   1st Qu.: 70.00   VERDADEIRO:6   sim:9  \n",
       " nublado:3   Median :  73.50   Median : 85.00   NA's      :1          \n",
       " sol    :5   Mean   : 155.57   Mean   : 89.77                         \n",
       "             3rd Qu.:  80.75   3rd Qu.: 90.00                         \n",
       "             Max.   :1220.00   Max.   :200.00                         \n",
       "                               NA's   :1                              "
      ]
     },
     "metadata": {},
     "output_type": "display_data"
    },
    {
     "data": {
      "text/html": [
       "<table class=\"dataframe\">\n",
       "<caption>A data.frame: 2 × 5</caption>\n",
       "<thead>\n",
       "\t<tr><th></th><th scope=col>Aparencia</th><th scope=col>Temperatura</th><th scope=col>Umidade</th><th scope=col>Vento</th><th scope=col>Jogar</th></tr>\n",
       "\t<tr><th></th><th scope=col>&lt;fct&gt;</th><th scope=col>&lt;int&gt;</th><th scope=col>&lt;int&gt;</th><th scope=col>&lt;fct&gt;</th><th scope=col>&lt;fct&gt;</th></tr>\n",
       "</thead>\n",
       "<tbody>\n",
       "\t<tr><th scope=row>4</th><td>chuva</td><td>70</td><td> NA</td><td>FALSO</td><td>sim</td></tr>\n",
       "\t<tr><th scope=row>10</th><td>chuva</td><td>75</td><td>200</td><td>NA   </td><td>sim</td></tr>\n",
       "</tbody>\n",
       "</table>\n"
      ],
      "text/latex": [
       "A data.frame: 2 × 5\n",
       "\\begin{tabular}{r|lllll}\n",
       "  & Aparencia & Temperatura & Umidade & Vento & Jogar\\\\\n",
       "  & <fct> & <int> & <int> & <fct> & <fct>\\\\\n",
       "\\hline\n",
       "\t4 & chuva & 70 &  NA & FALSO & sim\\\\\n",
       "\t10 & chuva & 75 & 200 & NA    & sim\\\\\n",
       "\\end{tabular}\n"
      ],
      "text/markdown": [
       "\n",
       "A data.frame: 2 × 5\n",
       "\n",
       "| <!--/--> | Aparencia &lt;fct&gt; | Temperatura &lt;int&gt; | Umidade &lt;int&gt; | Vento &lt;fct&gt; | Jogar &lt;fct&gt; |\n",
       "|---|---|---|---|---|---|\n",
       "| 4 | chuva | 70 |  NA | FALSO | sim |\n",
       "| 10 | chuva | 75 | 200 | NA    | sim |\n",
       "\n"
      ],
      "text/plain": [
       "   Aparencia Temperatura Umidade Vento Jogar\n",
       "4  chuva     70           NA     FALSO sim  \n",
       "10 chuva     75          200     NA    sim  "
      ]
     },
     "metadata": {},
     "output_type": "display_data"
    }
   ],
   "source": [
    "DATA_DIR = '/home/glauco_sapucaia/Área de Trabalho/data_science/material_data_science/9.Prática em R/dados/tempo.csv'\n",
    "data = read.csv(DATA_DIR, sep = ';', na.strings = '', stringsAsFactors = T)\n",
    "summary(data)\n",
    "data[!complete.cases(data), ]"
   ]
  },
  {
   "cell_type": "code",
   "execution_count": 73,
   "metadata": {
    "vscode": {
     "languageId": "r"
    }
   },
   "outputs": [],
   "source": [
    "data[data$Aparencia == 'menos',]$Aparencia = 'sol'"
   ]
  },
  {
   "cell_type": "code",
   "execution_count": 74,
   "metadata": {
    "vscode": {
     "languageId": "r"
    }
   },
   "outputs": [
    {
     "data": {
      "text/html": [
       "<style>\n",
       ".dl-inline {width: auto; margin:0; padding: 0}\n",
       ".dl-inline>dt, .dl-inline>dd {float: none; width: auto; display: inline-block}\n",
       ".dl-inline>dt::after {content: \":\\0020\"; padding-right: .5ex}\n",
       ".dl-inline>dt:not(:first-of-type) {padding-left: .5ex}\n",
       "</style><dl class=dl-inline><dt>chuva</dt><dd>5</dd><dt>menos</dt><dd>0</dd><dt>nublado</dt><dd>3</dd><dt>sol</dt><dd>6</dd></dl>\n"
      ],
      "text/latex": [
       "\\begin{description*}\n",
       "\\item[chuva] 5\n",
       "\\item[menos] 0\n",
       "\\item[nublado] 3\n",
       "\\item[sol] 6\n",
       "\\end{description*}\n"
      ],
      "text/markdown": [
       "chuva\n",
       ":   5menos\n",
       ":   0nublado\n",
       ":   3sol\n",
       ":   6\n",
       "\n"
      ],
      "text/plain": [
       "  chuva   menos nublado     sol \n",
       "      5       0       3       6 "
      ]
     },
     "metadata": {},
     "output_type": "display_data"
    },
    {
     "data": {
      "text/html": [
       "<style>\n",
       ".dl-inline {width: auto; margin:0; padding: 0}\n",
       ".dl-inline>dt, .dl-inline>dd {float: none; width: auto; display: inline-block}\n",
       ".dl-inline>dt::after {content: \":\\0020\"; padding-right: .5ex}\n",
       ".dl-inline>dt:not(:first-of-type) {padding-left: .5ex}\n",
       "</style><dl class=dl-inline><dt>chuva</dt><dd>5</dd><dt>nublado</dt><dd>3</dd><dt>sol</dt><dd>6</dd></dl>\n"
      ],
      "text/latex": [
       "\\begin{description*}\n",
       "\\item[chuva] 5\n",
       "\\item[nublado] 3\n",
       "\\item[sol] 6\n",
       "\\end{description*}\n"
      ],
      "text/markdown": [
       "chuva\n",
       ":   5nublado\n",
       ":   3sol\n",
       ":   6\n",
       "\n"
      ],
      "text/plain": [
       "  chuva nublado     sol \n",
       "      5       3       6 "
      ]
     },
     "metadata": {},
     "output_type": "display_data"
    }
   ],
   "source": [
    "summary(data$Aparencia)\n",
    "data$Aparencia = factor(data$Aparencia)\n",
    "summary(data$Aparencia)"
   ]
  },
  {
   "cell_type": "markdown",
   "metadata": {},
   "source": [
    "# Temperatura"
   ]
  },
  {
   "cell_type": "code",
   "execution_count": 75,
   "metadata": {
    "vscode": {
     "languageId": "r"
    }
   },
   "outputs": [
    {
     "data": {
      "text/plain": [
       "   Min. 1st Qu.  Median    Mean 3rd Qu.    Max. \n",
       "  64.00   69.25   73.50  155.57   80.75 1220.00 "
      ]
     },
     "metadata": {},
     "output_type": "display_data"
    },
    {
     "data": {
      "image/png": "[encoded data removed]",
      "text/plain": [
       "plot without title"
      ]
     },
     "metadata": {
      "image/png": {
       "height": 420,
       "width": 420
      }
     },
     "output_type": "display_data"
    }
   ],
   "source": [
    "summary(data$Temperatura)\n",
    "boxplot(data$Temperatura, outline = T)"
   ]
  },
  {
   "cell_type": "code",
   "execution_count": 76,
   "metadata": {
    "vscode": {
     "languageId": "r"
    }
   },
   "outputs": [
    {
     "data": {
      "text/html": [
       "306.433758505241"
      ],
      "text/latex": [
       "306.433758505241"
      ],
      "text/markdown": [
       "306.433758505241"
      ],
      "text/plain": [
       "[1] 306.4338"
      ]
     },
     "metadata": {},
     "output_type": "display_data"
    },
    {
     "data": {
      "text/html": [
       "73.5"
      ],
      "text/latex": [
       "73.5"
      ],
      "text/markdown": [
       "73.5"
      ],
      "text/plain": [
       "[1] 73.5"
      ]
     },
     "metadata": {},
     "output_type": "display_data"
    }
   ],
   "source": [
    "desv = sd(data$Temperatura, na.rm=FALSE)\n",
    "desv\n",
    "median(data$Temperatura)"
   ]
  },
  {
   "cell_type": "code",
   "execution_count": 77,
   "metadata": {
    "vscode": {
     "languageId": "r"
    }
   },
   "outputs": [],
   "source": [
    "data[data$Temperatura >= 2 * desv,]$Temperatura = median(data$Temperatura)"
   ]
  },
  {
   "cell_type": "code",
   "execution_count": 78,
   "metadata": {
    "vscode": {
     "languageId": "r"
    }
   },
   "outputs": [
    {
     "data": {
      "text/plain": [
       "   Min. 1st Qu.  Median    Mean 3rd Qu.    Max. \n",
       "  64.00   69.25   72.75   73.68   78.75   85.00 "
      ]
     },
     "metadata": {},
     "output_type": "display_data"
    },
    {
     "data": {
      "image/png": "[encoded data removed]",
      "text/plain": [
       "plot without title"
      ]
     },
     "metadata": {
      "image/png": {
       "height": 420,
       "width": 420
      }
     },
     "output_type": "display_data"
    }
   ],
   "source": [
    "boxplot(data$Temperatura)\n",
    "summary(data$Temperatura)"
   ]
  },
  {
   "cell_type": "markdown",
   "metadata": {},
   "source": [
    "# Umidade"
   ]
  },
  {
   "cell_type": "code",
   "execution_count": 79,
   "metadata": {
    "vscode": {
     "languageId": "r"
    }
   },
   "outputs": [
    {
     "data": {
      "text/plain": [
       "   Aparencia  Temperatura       Umidade              Vento   Jogar  \n",
       " chuva  :5   Min.   :64.00   Min.   : 65.00   FALSO     :7   nao:5  \n",
       " nublado:3   1st Qu.:69.25   1st Qu.: 70.00   VERDADEIRO:6   sim:9  \n",
       " sol    :6   Median :72.75   Median : 85.00   NA's      :1          \n",
       "             Mean   :73.68   Mean   : 89.77                         \n",
       "             3rd Qu.:78.75   3rd Qu.: 90.00                         \n",
       "             Max.   :85.00   Max.   :200.00                         \n",
       "                             NA's   :1                              "
      ]
     },
     "metadata": {},
     "output_type": "display_data"
    },
    {
     "data": {
      "text/plain": [
       "   Min. 1st Qu.  Median    Mean 3rd Qu.    Max.    NA's \n",
       "  65.00   70.00   85.00   89.77   90.00  200.00       1 "
      ]
     },
     "metadata": {},
     "output_type": "display_data"
    },
    {
     "data": {
      "text/html": [
       "85"
      ],
      "text/latex": [
       "85"
      ],
      "text/markdown": [
       "85"
      ],
      "text/plain": [
       "[1] 85"
      ]
     },
     "metadata": {},
     "output_type": "display_data"
    },
    {
     "data": {
      "text/html": [
       "34.5402032568664"
      ],
      "text/latex": [
       "34.5402032568664"
      ],
      "text/markdown": [
       "34.5402032568664"
      ],
      "text/plain": [
       "[1] 34.5402"
      ]
     },
     "metadata": {},
     "output_type": "display_data"
    },
    {
     "data": {
      "image/png": "[encoded data removed]",
      "text/plain": [
       "plot without title"
      ]
     },
     "metadata": {
      "image/png": {
       "height": 420,
       "width": 420
      }
     },
     "output_type": "display_data"
    }
   ],
   "source": [
    "summary(data)\n",
    "summary(data$Umidade)\n",
    "median(data$Umidade,na.rm = T)\n",
    "boxplot(data$Umidade)\n",
    "desv_umidade = sd(data$Umidade, na.rm = T)\n",
    "desv_umidade"
   ]
  },
  {
   "cell_type": "code",
   "execution_count": 80,
   "metadata": {
    "vscode": {
     "languageId": "r"
    }
   },
   "outputs": [],
   "source": [
    "data[data$Umidade < 0 | data$Umidade > 100 | is.na(data$Umidade),]$Umidade = median(data$Umidade, na.rm = T)"
   ]
  },
  {
   "cell_type": "code",
   "execution_count": 81,
   "metadata": {
    "vscode": {
     "languageId": "r"
    }
   },
   "outputs": [
    {
     "data": {
      "text/plain": [
       "   Min. 1st Qu.  Median    Mean 3rd Qu.    Max. \n",
       "  65.00   71.25   85.00   81.21   89.00   95.00 "
      ]
     },
     "metadata": {},
     "output_type": "display_data"
    },
    {
     "data": {
      "image/png": "[encoded data removed]",
      "text/plain": [
       "plot without title"
      ]
     },
     "metadata": {
      "image/png": {
       "height": 420,
       "width": 420
      }
     },
     "output_type": "display_data"
    },
    {
     "data": {
      "image/png": "[encoded data removed]",
      "text/plain": [
       "Plot with title “Histogram of data$Umidade”"
      ]
     },
     "metadata": {
      "image/png": {
       "height": 420,
       "width": 420
      }
     },
     "output_type": "display_data"
    }
   ],
   "source": [
    "summary(data$Umidade)\n",
    "boxplot(data$Umidade)\n",
    "hist(data$Umidade)"
   ]
  },
  {
   "cell_type": "markdown",
   "metadata": {},
   "source": [
    "# Vento"
   ]
  },
  {
   "cell_type": "code",
   "execution_count": 82,
   "metadata": {
    "vscode": {
     "languageId": "r"
    }
   },
   "outputs": [
    {
     "data": {
      "text/html": [
       "<style>\n",
       ".dl-inline {width: auto; margin:0; padding: 0}\n",
       ".dl-inline>dt, .dl-inline>dd {float: none; width: auto; display: inline-block}\n",
       ".dl-inline>dt::after {content: \":\\0020\"; padding-right: .5ex}\n",
       ".dl-inline>dt:not(:first-of-type) {padding-left: .5ex}\n",
       "</style><dl class=dl-inline><dt>FALSO</dt><dd>7</dd><dt>VERDADEIRO</dt><dd>6</dd><dt>NA's</dt><dd>1</dd></dl>\n"
      ],
      "text/latex": [
       "\\begin{description*}\n",
       "\\item[FALSO] 7\n",
       "\\item[VERDADEIRO] 6\n",
       "\\item[NA's] 1\n",
       "\\end{description*}\n"
      ],
      "text/markdown": [
       "FALSO\n",
       ":   7VERDADEIRO\n",
       ":   6NA's\n",
       ":   1\n",
       "\n"
      ],
      "text/plain": [
       "     FALSO VERDADEIRO       NA's \n",
       "         7          6          1 "
      ]
     },
     "metadata": {},
     "output_type": "display_data"
    }
   ],
   "source": [
    "summary(data$Vento)"
   ]
  },
  {
   "cell_type": "code",
   "execution_count": 83,
   "metadata": {
    "vscode": {
     "languageId": "r"
    }
   },
   "outputs": [],
   "source": [
    "data[is.na(data$Vento),]$Vento = 'FALSO'"
   ]
  },
  {
   "cell_type": "code",
   "execution_count": 84,
   "metadata": {
    "vscode": {
     "languageId": "r"
    }
   },
   "outputs": [
    {
     "data": {
      "text/html": [
       "<style>\n",
       ".dl-inline {width: auto; margin:0; padding: 0}\n",
       ".dl-inline>dt, .dl-inline>dd {float: none; width: auto; display: inline-block}\n",
       ".dl-inline>dt::after {content: \":\\0020\"; padding-right: .5ex}\n",
       ".dl-inline>dt:not(:first-of-type) {padding-left: .5ex}\n",
       "</style><dl class=dl-inline><dt>FALSO</dt><dd>8</dd><dt>VERDADEIRO</dt><dd>6</dd></dl>\n"
      ],
      "text/latex": [
       "\\begin{description*}\n",
       "\\item[FALSO] 8\n",
       "\\item[VERDADEIRO] 6\n",
       "\\end{description*}\n"
      ],
      "text/markdown": [
       "FALSO\n",
       ":   8VERDADEIRO\n",
       ":   6\n",
       "\n"
      ],
      "text/plain": [
       "     FALSO VERDADEIRO \n",
       "         8          6 "
      ]
     },
     "metadata": {},
     "output_type": "display_data"
    }
   ],
   "source": [
    "summary(data$Vento)"
   ]
  },
  {
   "cell_type": "markdown",
   "metadata": {},
   "source": [
    "# Jogar"
   ]
  },
  {
   "cell_type": "code",
   "execution_count": 85,
   "metadata": {
    "vscode": {
     "languageId": "r"
    }
   },
   "outputs": [
    {
     "data": {
      "text/plain": [
       "   Aparencia  Temperatura       Umidade             Vento   Jogar  \n",
       " chuva  :5   Min.   :64.00   Min.   :65.00   FALSO     :8   nao:5  \n",
       " nublado:3   1st Qu.:69.25   1st Qu.:71.25   VERDADEIRO:6   sim:9  \n",
       " sol    :6   Median :72.75   Median :85.00                         \n",
       "             Mean   :73.68   Mean   :81.21                         \n",
       "             3rd Qu.:78.75   3rd Qu.:89.00                         \n",
       "             Max.   :85.00   Max.   :95.00                         "
      ]
     },
     "metadata": {},
     "output_type": "display_data"
    },
    {
     "data": {
      "text/html": [
       "<style>\n",
       ".dl-inline {width: auto; margin:0; padding: 0}\n",
       ".dl-inline>dt, .dl-inline>dd {float: none; width: auto; display: inline-block}\n",
       ".dl-inline>dt::after {content: \":\\0020\"; padding-right: .5ex}\n",
       ".dl-inline>dt:not(:first-of-type) {padding-left: .5ex}\n",
       "</style><dl class=dl-inline><dt>nao</dt><dd>5</dd><dt>sim</dt><dd>9</dd></dl>\n"
      ],
      "text/latex": [
       "\\begin{description*}\n",
       "\\item[nao] 5\n",
       "\\item[sim] 9\n",
       "\\end{description*}\n"
      ],
      "text/markdown": [
       "nao\n",
       ":   5sim\n",
       ":   9\n",
       "\n"
      ],
      "text/plain": [
       "nao sim \n",
       "  5   9 "
      ]
     },
     "metadata": {},
     "output_type": "display_data"
    }
   ],
   "source": [
    "summary(data)\n",
    "summary(data$Jogar)"
   ]
  }
 ],
 "metadata": {
  "kernelspec": {
   "display_name": "R",
   "language": "R",
   "name": "ir"
  },
  "language_info": {
   "codemirror_mode": "r",
   "file_extension": ".r",
   "mimetype": "text/x-r-source",
   "name": "R",
   "pygments_lexer": "r",
   "version": "4.3.2"
  }
 },
 "nbformat": 4,
 "nbformat_minor": 2
}
