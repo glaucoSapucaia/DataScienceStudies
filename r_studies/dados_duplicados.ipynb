{
 "cells": [
  {
   "cell_type": "markdown",
   "metadata": {},
   "source": [
    "# Dados Duplicados"
   ]
  },
  {
   "cell_type": "code",
   "execution_count": 34,
   "metadata": {
    "vscode": {
     "languageId": "r"
    }
   },
   "outputs": [
    {
     "data": {
      "text/plain": [
       "       X0               X1         X2              X3            X4       \n",
       " Min.   :   1.0   Min.   :376.0   PR:257   F        :  2   Min.   :-20.0  \n",
       " 1st Qu.: 251.5   1st Qu.:580.0   RP:  1   Fem      :  1   1st Qu.: 32.0  \n",
       " Median : 501.0   Median :653.0   RS:478   Feminino :461   Median : 37.0  \n",
       " Mean   : 500.9   Mean   :648.6   SC:258   M        :  6   Mean   : 38.9  \n",
       " 3rd Qu.: 750.5   3rd Qu.:721.0   SP:  4   Masculino:521   3rd Qu.: 44.0  \n",
       " Max.   :1000.0   Max.   :850.0   TD:  1   NA's     :  8   Max.   :140.0  \n",
       "                                                                          \n",
       "      X4.1              X6                 X7              X8        \n",
       " Min.   : 0.000   Min.   :       0   Min.   :1.000   Min.   :0.0000  \n",
       " 1st Qu.: 2.000   1st Qu.:       0   1st Qu.:1.000   1st Qu.:0.0000  \n",
       " Median : 5.000   Median : 8958835   Median :1.000   Median :1.0000  \n",
       " Mean   : 5.069   Mean   : 7164928   Mean   :1.527   Mean   :0.7027  \n",
       " 3rd Qu.: 8.000   3rd Qu.:12586844   3rd Qu.:2.000   3rd Qu.:1.0000  \n",
       " Max.   :10.000   Max.   :21177431   Max.   :4.000   Max.   :1.0000  \n",
       "                                                                     \n",
       "       X9              X10                 X11        \n",
       " Min.   :0.0000   Min.   :9.677e+03   Min.   :0.0000  \n",
       " 1st Qu.:0.0000   1st Qu.:3.029e+06   1st Qu.:0.0000  \n",
       " Median :1.0000   Median :8.703e+06   Median :0.0000  \n",
       " Mean   :0.5095   Mean   :3.529e+07   Mean   :0.2032  \n",
       " 3rd Qu.:1.0000   3rd Qu.:1.405e+07   3rd Qu.:0.0000  \n",
       " Max.   :1.0000   Max.   :1.193e+10   Max.   :1.0000  \n",
       "                  NA's   :7                           "
      ]
     },
     "metadata": {},
     "output_type": "display_data"
    }
   ],
   "source": [
    "DATA_DIR = \"C:\\\\Users\\\\glauc\\\\OneDrive\\\\Área de Trabalho\\\\data_science\\\\studies\\\\FormacaoCD\\\\9.Prática em R\\\\dados\\\\Churn.csv\"\n",
    "data = read.csv(DATA_DIR, sep = \";\", na.strings = \"\", stringsAsFactors = T)\n",
    "summary(data)"
   ]
  },
  {
   "cell_type": "code",
   "execution_count": 35,
   "metadata": {
    "vscode": {
     "languageId": "r"
    }
   },
   "outputs": [
    {
     "data": {
      "text/plain": [
       "       id             score       estado         genero        idade      \n",
       " Min.   :   1.0   Min.   :376.0   PR:257   F        :  2   Min.   :-20.0  \n",
       " 1st Qu.: 251.5   1st Qu.:580.0   RP:  1   Fem      :  1   1st Qu.: 32.0  \n",
       " Median : 501.0   Median :653.0   RS:478   Feminino :461   Median : 37.0  \n",
       " Mean   : 500.9   Mean   :648.6   SC:258   M        :  6   Mean   : 38.9  \n",
       " 3rd Qu.: 750.5   3rd Qu.:721.0   SP:  4   Masculino:521   3rd Qu.: 44.0  \n",
       " Max.   :1000.0   Max.   :850.0   TD:  1   NA's     :  8   Max.   :140.0  \n",
       "                                                                          \n",
       "   patrimonio         saldo             produtos     temcardcredito  \n",
       " Min.   : 0.000   Min.   :       0   Min.   :1.000   Min.   :0.0000  \n",
       " 1st Qu.: 2.000   1st Qu.:       0   1st Qu.:1.000   1st Qu.:0.0000  \n",
       " Median : 5.000   Median : 8958835   Median :1.000   Median :1.0000  \n",
       " Mean   : 5.069   Mean   : 7164928   Mean   :1.527   Mean   :0.7027  \n",
       " 3rd Qu.: 8.000   3rd Qu.:12586844   3rd Qu.:2.000   3rd Qu.:1.0000  \n",
       " Max.   :10.000   Max.   :21177431   Max.   :4.000   Max.   :1.0000  \n",
       "                                                                     \n",
       "     ativo           salario               saiu       \n",
       " Min.   :0.0000   Min.   :9.677e+03   Min.   :0.0000  \n",
       " 1st Qu.:0.0000   1st Qu.:3.029e+06   1st Qu.:0.0000  \n",
       " Median :1.0000   Median :8.703e+06   Median :0.0000  \n",
       " Mean   :0.5095   Mean   :3.529e+07   Mean   :0.2032  \n",
       " 3rd Qu.:1.0000   3rd Qu.:1.405e+07   3rd Qu.:0.0000  \n",
       " Max.   :1.0000   Max.   :1.193e+10   Max.   :1.0000  \n",
       "                  NA's   :7                           "
      ]
     },
     "metadata": {},
     "output_type": "display_data"
    }
   ],
   "source": [
    "colnames(data) = c(\n",
    "    'id', 'score', 'estado', 'genero', 'idade', 'patrimonio', 'saldo',\n",
    "    'produtos', 'temcardcredito', 'ativo', 'salario', 'saiu'\n",
    ")\n",
    "summary(data)"
   ]
  },
  {
   "cell_type": "code",
   "execution_count": 36,
   "metadata": {
    "vscode": {
     "languageId": "r"
    }
   },
   "outputs": [
    {
     "data": {
      "text/html": [
       "<table class=\"dataframe\">\n",
       "<caption>A data.frame: 1 × 12</caption>\n",
       "<thead>\n",
       "\t<tr><th></th><th scope=col>id</th><th scope=col>score</th><th scope=col>estado</th><th scope=col>genero</th><th scope=col>idade</th><th scope=col>patrimonio</th><th scope=col>saldo</th><th scope=col>produtos</th><th scope=col>temcardcredito</th><th scope=col>ativo</th><th scope=col>salario</th><th scope=col>saiu</th></tr>\n",
       "\t<tr><th></th><th scope=col>&lt;int&gt;</th><th scope=col>&lt;int&gt;</th><th scope=col>&lt;fct&gt;</th><th scope=col>&lt;fct&gt;</th><th scope=col>&lt;int&gt;</th><th scope=col>&lt;int&gt;</th><th scope=col>&lt;int&gt;</th><th scope=col>&lt;int&gt;</th><th scope=col>&lt;int&gt;</th><th scope=col>&lt;int&gt;</th><th scope=col>&lt;dbl&gt;</th><th scope=col>&lt;int&gt;</th></tr>\n",
       "</thead>\n",
       "<tbody>\n",
       "\t<tr><th scope=row>82</th><td>81</td><td>665</td><td>RS</td><td>Feminino</td><td>34</td><td>1</td><td>9664554</td><td>2</td><td>0</td><td>0</td><td>17141366</td><td>0</td></tr>\n",
       "</tbody>\n",
       "</table>\n"
      ],
      "text/latex": [
       "A data.frame: 1 × 12\n",
       "\\begin{tabular}{r|llllllllllll}\n",
       "  & id & score & estado & genero & idade & patrimonio & saldo & produtos & temcardcredito & ativo & salario & saiu\\\\\n",
       "  & <int> & <int> & <fct> & <fct> & <int> & <int> & <int> & <int> & <int> & <int> & <dbl> & <int>\\\\\n",
       "\\hline\n",
       "\t82 & 81 & 665 & RS & Feminino & 34 & 1 & 9664554 & 2 & 0 & 0 & 17141366 & 0\\\\\n",
       "\\end{tabular}\n"
      ],
      "text/markdown": [
       "\n",
       "A data.frame: 1 × 12\n",
       "\n",
       "| <!--/--> | id &lt;int&gt; | score &lt;int&gt; | estado &lt;fct&gt; | genero &lt;fct&gt; | idade &lt;int&gt; | patrimonio &lt;int&gt; | saldo &lt;int&gt; | produtos &lt;int&gt; | temcardcredito &lt;int&gt; | ativo &lt;int&gt; | salario &lt;dbl&gt; | saiu &lt;int&gt; |\n",
       "|---|---|---|---|---|---|---|---|---|---|---|---|---|\n",
       "| 82 | 81 | 665 | RS | Feminino | 34 | 1 | 9664554 | 2 | 0 | 0 | 17141366 | 0 |\n",
       "\n"
      ],
      "text/plain": [
       "   id score estado genero   idade patrimonio saldo   produtos temcardcredito\n",
       "82 81 665   RS     Feminino 34    1          9664554 2        0             \n",
       "   ativo salario  saiu\n",
       "82 0     17141366 0   "
      ]
     },
     "metadata": {},
     "output_type": "display_data"
    }
   ],
   "source": [
    "x = data[duplicated(data$id),]\n",
    "x"
   ]
  },
  {
   "cell_type": "code",
   "execution_count": 37,
   "metadata": {
    "vscode": {
     "languageId": "r"
    }
   },
   "outputs": [
    {
     "data": {
      "text/html": [
       "<table class=\"dataframe\">\n",
       "<caption>A data.frame: 0 × 12</caption>\n",
       "<thead>\n",
       "\t<tr><th scope=col>id</th><th scope=col>score</th><th scope=col>estado</th><th scope=col>genero</th><th scope=col>idade</th><th scope=col>patrimonio</th><th scope=col>saldo</th><th scope=col>produtos</th><th scope=col>temcardcredito</th><th scope=col>ativo</th><th scope=col>salario</th><th scope=col>saiu</th></tr>\n",
       "\t<tr><th scope=col>&lt;int&gt;</th><th scope=col>&lt;int&gt;</th><th scope=col>&lt;fct&gt;</th><th scope=col>&lt;fct&gt;</th><th scope=col>&lt;int&gt;</th><th scope=col>&lt;int&gt;</th><th scope=col>&lt;int&gt;</th><th scope=col>&lt;int&gt;</th><th scope=col>&lt;int&gt;</th><th scope=col>&lt;int&gt;</th><th scope=col>&lt;dbl&gt;</th><th scope=col>&lt;int&gt;</th></tr>\n",
       "</thead>\n",
       "<tbody>\n",
       "</tbody>\n",
       "</table>\n"
      ],
      "text/latex": [
       "A data.frame: 0 × 12\n",
       "\\begin{tabular}{llllllllllll}\n",
       " id & score & estado & genero & idade & patrimonio & saldo & produtos & temcardcredito & ativo & salario & saiu\\\\\n",
       " <int> & <int> & <fct> & <fct> & <int> & <int> & <int> & <int> & <int> & <int> & <dbl> & <int>\\\\\n",
       "\\hline\n",
       "\\end{tabular}\n"
      ],
      "text/markdown": [
       "\n",
       "A data.frame: 0 × 12\n",
       "\n",
       "| id &lt;int&gt; | score &lt;int&gt; | estado &lt;fct&gt; | genero &lt;fct&gt; | idade &lt;int&gt; | patrimonio &lt;int&gt; | saldo &lt;int&gt; | produtos &lt;int&gt; | temcardcredito &lt;int&gt; | ativo &lt;int&gt; | salario &lt;dbl&gt; | saiu &lt;int&gt; |\n",
       "|---|---|---|---|---|---|---|---|---|---|---|---|\n",
       "\n"
      ],
      "text/plain": [
       "     id score estado genero idade patrimonio saldo produtos temcardcredito\n",
       "     ativo salario saiu"
      ]
     },
     "metadata": {},
     "output_type": "display_data"
    },
    {
     "data": {
      "text/html": [
       "<table class=\"dataframe\">\n",
       "<caption>A data.frame: 0 × 12</caption>\n",
       "<thead>\n",
       "\t<tr><th scope=col>id</th><th scope=col>score</th><th scope=col>estado</th><th scope=col>genero</th><th scope=col>idade</th><th scope=col>patrimonio</th><th scope=col>saldo</th><th scope=col>produtos</th><th scope=col>temcardcredito</th><th scope=col>ativo</th><th scope=col>salario</th><th scope=col>saiu</th></tr>\n",
       "\t<tr><th scope=col>&lt;int&gt;</th><th scope=col>&lt;int&gt;</th><th scope=col>&lt;fct&gt;</th><th scope=col>&lt;fct&gt;</th><th scope=col>&lt;int&gt;</th><th scope=col>&lt;int&gt;</th><th scope=col>&lt;int&gt;</th><th scope=col>&lt;int&gt;</th><th scope=col>&lt;int&gt;</th><th scope=col>&lt;int&gt;</th><th scope=col>&lt;dbl&gt;</th><th scope=col>&lt;int&gt;</th></tr>\n",
       "</thead>\n",
       "<tbody>\n",
       "</tbody>\n",
       "</table>\n"
      ],
      "text/latex": [
       "A data.frame: 0 × 12\n",
       "\\begin{tabular}{llllllllllll}\n",
       " id & score & estado & genero & idade & patrimonio & saldo & produtos & temcardcredito & ativo & salario & saiu\\\\\n",
       " <int> & <int> & <fct> & <fct> & <int> & <int> & <int> & <int> & <int> & <int> & <dbl> & <int>\\\\\n",
       "\\hline\n",
       "\\end{tabular}\n"
      ],
      "text/markdown": [
       "\n",
       "A data.frame: 0 × 12\n",
       "\n",
       "| id &lt;int&gt; | score &lt;int&gt; | estado &lt;fct&gt; | genero &lt;fct&gt; | idade &lt;int&gt; | patrimonio &lt;int&gt; | saldo &lt;int&gt; | produtos &lt;int&gt; | temcardcredito &lt;int&gt; | ativo &lt;int&gt; | salario &lt;dbl&gt; | saiu &lt;int&gt; |\n",
       "|---|---|---|---|---|---|---|---|---|---|---|---|\n",
       "\n"
      ],
      "text/plain": [
       "     id score estado genero idade patrimonio saldo produtos temcardcredito\n",
       "     ativo salario saiu"
      ]
     },
     "metadata": {},
     "output_type": "display_data"
    }
   ],
   "source": [
    "data = data[!data$id %in% c(x$id),]\n",
    "data[data$id == x$id, ]\n",
    "y = data[duplicated(data$id), ]\n",
    "y"
   ]
  },
  {
   "cell_type": "code",
   "execution_count": 38,
   "metadata": {
    "vscode": {
     "languageId": "r"
    }
   },
   "outputs": [
    {
     "data": {
      "text/html": [
       "<style>\n",
       ".list-inline {list-style: none; margin:0; padding: 0}\n",
       ".list-inline>li {display: inline-block}\n",
       ".list-inline>li:not(:last-child)::after {content: \"\\00b7\"; padding: 0 .5ex}\n",
       "</style>\n",
       "<ol class=list-inline><li>RS</li><li>SC</li><li>PR</li><li>RP</li><li>SP</li><li>TD</li></ol>\n",
       "\n",
       "<details>\n",
       "\t<summary style=display:list-item;cursor:pointer>\n",
       "\t\t<strong>Levels</strong>:\n",
       "\t</summary>\n",
       "\t<style>\n",
       "\t.list-inline {list-style: none; margin:0; padding: 0}\n",
       "\t.list-inline>li {display: inline-block}\n",
       "\t.list-inline>li:not(:last-child)::after {content: \"\\00b7\"; padding: 0 .5ex}\n",
       "\t</style>\n",
       "\t<ol class=list-inline><li>'PR'</li><li>'RP'</li><li>'RS'</li><li>'SC'</li><li>'SP'</li><li>'TD'</li></ol>\n",
       "</details>"
      ],
      "text/latex": [
       "\\begin{enumerate*}\n",
       "\\item RS\n",
       "\\item SC\n",
       "\\item PR\n",
       "\\item RP\n",
       "\\item SP\n",
       "\\item TD\n",
       "\\end{enumerate*}\n",
       "\n",
       "\\emph{Levels}: \\begin{enumerate*}\n",
       "\\item 'PR'\n",
       "\\item 'RP'\n",
       "\\item 'RS'\n",
       "\\item 'SC'\n",
       "\\item 'SP'\n",
       "\\item 'TD'\n",
       "\\end{enumerate*}\n"
      ],
      "text/markdown": [
       "1. RS\n",
       "2. SC\n",
       "3. PR\n",
       "4. RP\n",
       "5. SP\n",
       "6. TD\n",
       "\n",
       "\n",
       "\n",
       "**Levels**: 1. 'PR'\n",
       "2. 'RP'\n",
       "3. 'RS'\n",
       "4. 'SC'\n",
       "5. 'SP'\n",
       "6. 'TD'\n",
       "\n",
       "\n"
      ],
      "text/plain": [
       "[1] RS SC PR RP SP TD\n",
       "Levels: PR RP RS SC SP TD"
      ]
     },
     "metadata": {},
     "output_type": "display_data"
    },
    {
     "data": {
      "text/html": [
       "<style>\n",
       ".dl-inline {width: auto; margin:0; padding: 0}\n",
       ".dl-inline>dt, .dl-inline>dd {float: none; width: auto; display: inline-block}\n",
       ".dl-inline>dt::after {content: \":\\0020\"; padding-right: .5ex}\n",
       ".dl-inline>dt:not(:first-of-type) {padding-left: .5ex}\n",
       "</style><dl class=dl-inline><dt>PR</dt><dd>257</dd><dt>RP</dt><dd>1</dd><dt>RS</dt><dd>476</dd><dt>SC</dt><dd>258</dd><dt>SP</dt><dd>4</dd><dt>TD</dt><dd>1</dd></dl>\n"
      ],
      "text/latex": [
       "\\begin{description*}\n",
       "\\item[PR] 257\n",
       "\\item[RP] 1\n",
       "\\item[RS] 476\n",
       "\\item[SC] 258\n",
       "\\item[SP] 4\n",
       "\\item[TD] 1\n",
       "\\end{description*}\n"
      ],
      "text/markdown": [
       "PR\n",
       ":   257RP\n",
       ":   1RS\n",
       ":   476SC\n",
       ":   258SP\n",
       ":   4TD\n",
       ":   1\n",
       "\n"
      ],
      "text/plain": [
       " PR  RP  RS  SC  SP  TD \n",
       "257   1 476 258   4   1 "
      ]
     },
     "metadata": {},
     "output_type": "display_data"
    }
   ],
   "source": [
    "unique(data$estado)\n",
    "summary(data$estado)\n",
    "data[!data$estado %in% c('RS', 'SC', 'PR'), ]$estado = 'RS'"
   ]
  },
  {
   "cell_type": "code",
   "execution_count": 39,
   "metadata": {
    "vscode": {
     "languageId": "r"
    }
   },
   "outputs": [
    {
     "data": {
      "text/html": [
       "<style>\n",
       ".dl-inline {width: auto; margin:0; padding: 0}\n",
       ".dl-inline>dt, .dl-inline>dd {float: none; width: auto; display: inline-block}\n",
       ".dl-inline>dt::after {content: \":\\0020\"; padding-right: .5ex}\n",
       ".dl-inline>dt:not(:first-of-type) {padding-left: .5ex}\n",
       "</style><dl class=dl-inline><dt>PR</dt><dd>257</dd><dt>RP</dt><dd>0</dd><dt>RS</dt><dd>482</dd><dt>SC</dt><dd>258</dd><dt>SP</dt><dd>0</dd><dt>TD</dt><dd>0</dd></dl>\n"
      ],
      "text/latex": [
       "\\begin{description*}\n",
       "\\item[PR] 257\n",
       "\\item[RP] 0\n",
       "\\item[RS] 482\n",
       "\\item[SC] 258\n",
       "\\item[SP] 0\n",
       "\\item[TD] 0\n",
       "\\end{description*}\n"
      ],
      "text/markdown": [
       "PR\n",
       ":   257RP\n",
       ":   0RS\n",
       ":   482SC\n",
       ":   258SP\n",
       ":   0TD\n",
       ":   0\n",
       "\n"
      ],
      "text/plain": [
       " PR  RP  RS  SC  SP  TD \n",
       "257   0 482 258   0   0 "
      ]
     },
     "metadata": {},
     "output_type": "display_data"
    },
    {
     "data": {
      "text/html": [
       "<style>\n",
       ".dl-inline {width: auto; margin:0; padding: 0}\n",
       ".dl-inline>dt, .dl-inline>dd {float: none; width: auto; display: inline-block}\n",
       ".dl-inline>dt::after {content: \":\\0020\"; padding-right: .5ex}\n",
       ".dl-inline>dt:not(:first-of-type) {padding-left: .5ex}\n",
       "</style><dl class=dl-inline><dt>PR</dt><dd>257</dd><dt>RS</dt><dd>482</dd><dt>SC</dt><dd>258</dd></dl>\n"
      ],
      "text/latex": [
       "\\begin{description*}\n",
       "\\item[PR] 257\n",
       "\\item[RS] 482\n",
       "\\item[SC] 258\n",
       "\\end{description*}\n"
      ],
      "text/markdown": [
       "PR\n",
       ":   257RS\n",
       ":   482SC\n",
       ":   258\n",
       "\n"
      ],
      "text/plain": [
       " PR  RS  SC \n",
       "257 482 258 "
      ]
     },
     "metadata": {},
     "output_type": "display_data"
    }
   ],
   "source": [
    "summary(data$estado)\n",
    "data$estado = factor(data$estado)\n",
    "summary(data$estado)\n"
   ]
  },
  {
   "cell_type": "code",
   "execution_count": 40,
   "metadata": {
    "vscode": {
     "languageId": "r"
    }
   },
   "outputs": [
    {
     "data": {
      "text/plain": [
       "     Min.   1st Qu.    Median      Mean   3rd Qu.      Max.      NA's \n",
       "9.677e+03 3.011e+06 8.688e+06 3.532e+07 1.404e+07 1.193e+10         7 "
      ]
     },
     "metadata": {},
     "output_type": "display_data"
    },
    {
     "data": {
      "image/png": "[encoded data removed]",
      "text/plain": [
       "plot without title"
      ]
     },
     "metadata": {
      "image/png": {
       "height": 420,
       "width": 420
      }
     },
     "output_type": "display_data"
    },
    {
     "data": {
      "image/png": "[encoded data removed]",
      "text/plain": [
       "plot without title"
      ]
     },
     "metadata": {
      "image/png": {
       "height": 420,
       "width": 420
      }
     },
     "output_type": "display_data"
    }
   ],
   "source": [
    "summary(data$salario)\n",
    "boxplot(data$salario)\n",
    "boxplot(data$salario, outline = F)"
   ]
  },
  {
   "cell_type": "code",
   "execution_count": 41,
   "metadata": {
    "vscode": {
     "languageId": "r"
    }
   },
   "outputs": [
    {
     "data": {
      "text/plain": [
       "     Min.   1st Qu.    Median      Mean   3rd Qu.      Max.      NA's \n",
       "9.677e+03 3.011e+06 8.688e+06 3.532e+07 1.404e+07 1.193e+10         7 "
      ]
     },
     "metadata": {},
     "output_type": "display_data"
    },
    {
     "data": {
      "text/html": [
       "<style>\n",
       ".list-inline {list-style: none; margin:0; padding: 0}\n",
       ".list-inline>li {display: inline-block}\n",
       ".list-inline>li:not(:last-child)::after {content: \"\\00b7\"; padding: 0 .5ex}\n",
       "</style>\n",
       "<ol class=list-inline><li>11934688000</li><li>&lt;NA&gt;</li><li>&lt;NA&gt;</li><li>11563829000</li><li>1640178900</li><li>&lt;NA&gt;</li><li>1119811900</li><li>&lt;NA&gt;</li><li>&lt;NA&gt;</li><li>&lt;NA&gt;</li><li>&lt;NA&gt;</li></ol>\n"
      ],
      "text/latex": [
       "\\begin{enumerate*}\n",
       "\\item 11934688000\n",
       "\\item <NA>\n",
       "\\item <NA>\n",
       "\\item 11563829000\n",
       "\\item 1640178900\n",
       "\\item <NA>\n",
       "\\item 1119811900\n",
       "\\item <NA>\n",
       "\\item <NA>\n",
       "\\item <NA>\n",
       "\\item <NA>\n",
       "\\end{enumerate*}\n"
      ],
      "text/markdown": [
       "1. 11934688000\n",
       "2. &lt;NA&gt;\n",
       "3. &lt;NA&gt;\n",
       "4. 11563829000\n",
       "5. 1640178900\n",
       "6. &lt;NA&gt;\n",
       "7. 1119811900\n",
       "8. &lt;NA&gt;\n",
       "9. &lt;NA&gt;\n",
       "10. &lt;NA&gt;\n",
       "11. &lt;NA&gt;\n",
       "\n",
       "\n"
      ],
      "text/plain": [
       " [1] 11934688000          NA          NA 11563829000  1640178900          NA\n",
       " [7]  1119811900          NA          NA          NA          NA"
      ]
     },
     "metadata": {},
     "output_type": "display_data"
    },
    {
     "data": {
      "text/html": [
       "8687741.5"
      ],
      "text/latex": [
       "8687741.5"
      ],
      "text/markdown": [
       "8687741.5"
      ],
      "text/plain": [
       "[1] 8687742"
      ]
     },
     "metadata": {},
     "output_type": "display_data"
    }
   ],
   "source": [
    "summary(data$salario)\n",
    "data[data$salario >= 2 * desv,]$salario\n",
    "median(data$salario, na.rm = T)"
   ]
  },
  {
   "cell_type": "code",
   "execution_count": 42,
   "metadata": {
    "vscode": {
     "languageId": "r"
    }
   },
   "outputs": [
    {
     "data": {
      "text/html": [
       "<table class=\"dataframe\">\n",
       "<caption>A data.frame: 7 × 12</caption>\n",
       "<thead>\n",
       "\t<tr><th></th><th scope=col>id</th><th scope=col>score</th><th scope=col>estado</th><th scope=col>genero</th><th scope=col>idade</th><th scope=col>patrimonio</th><th scope=col>saldo</th><th scope=col>produtos</th><th scope=col>temcardcredito</th><th scope=col>ativo</th><th scope=col>salario</th><th scope=col>saiu</th></tr>\n",
       "\t<tr><th></th><th scope=col>&lt;int&gt;</th><th scope=col>&lt;int&gt;</th><th scope=col>&lt;fct&gt;</th><th scope=col>&lt;fct&gt;</th><th scope=col>&lt;int&gt;</th><th scope=col>&lt;int&gt;</th><th scope=col>&lt;int&gt;</th><th scope=col>&lt;int&gt;</th><th scope=col>&lt;int&gt;</th><th scope=col>&lt;int&gt;</th><th scope=col>&lt;dbl&gt;</th><th scope=col>&lt;int&gt;</th></tr>\n",
       "</thead>\n",
       "<tbody>\n",
       "\t<tr><th scope=row>18</th><td> 18</td><td>549</td><td>SC</td><td>Feminino </td><td>24</td><td> 9</td><td>       0</td><td>2</td><td>1</td><td>1</td><td>NA</td><td>0</td></tr>\n",
       "\t<tr><th scope=row>53</th><td> 53</td><td>788</td><td>RS</td><td>Feminino </td><td>33</td><td> 5</td><td>       0</td><td>2</td><td>0</td><td>0</td><td>NA</td><td>0</td></tr>\n",
       "\t<tr><th scope=row>180</th><td>181</td><td>754</td><td>PR</td><td>Feminino </td><td>55</td><td> 3</td><td>16160881</td><td>1</td><td>1</td><td>0</td><td>NA</td><td>1</td></tr>\n",
       "\t<tr><th scope=row>331</th><td>332</td><td>656</td><td>RS</td><td>Masculino</td><td>50</td><td> 7</td><td>       0</td><td>2</td><td>0</td><td>1</td><td>NA</td><td>0</td></tr>\n",
       "\t<tr><th scope=row>427</th><td>428</td><td>492</td><td>PR</td><td>Masculino</td><td>39</td><td>10</td><td>12457665</td><td>2</td><td>1</td><td>0</td><td>NA</td><td>0</td></tr>\n",
       "\t<tr><th scope=row>551</th><td>552</td><td>721</td><td>PR</td><td>Feminino </td><td>36</td><td> 3</td><td> 6525307</td><td>2</td><td>1</td><td>0</td><td>NA</td><td>0</td></tr>\n",
       "\t<tr><th scope=row>984</th><td>985</td><td>614</td><td>PR</td><td>Feminino </td><td>35</td><td> 6</td><td>12810028</td><td>1</td><td>0</td><td>0</td><td>NA</td><td>1</td></tr>\n",
       "</tbody>\n",
       "</table>\n"
      ],
      "text/latex": [
       "A data.frame: 7 × 12\n",
       "\\begin{tabular}{r|llllllllllll}\n",
       "  & id & score & estado & genero & idade & patrimonio & saldo & produtos & temcardcredito & ativo & salario & saiu\\\\\n",
       "  & <int> & <int> & <fct> & <fct> & <int> & <int> & <int> & <int> & <int> & <int> & <dbl> & <int>\\\\\n",
       "\\hline\n",
       "\t18 &  18 & 549 & SC & Feminino  & 24 &  9 &        0 & 2 & 1 & 1 & NA & 0\\\\\n",
       "\t53 &  53 & 788 & RS & Feminino  & 33 &  5 &        0 & 2 & 0 & 0 & NA & 0\\\\\n",
       "\t180 & 181 & 754 & PR & Feminino  & 55 &  3 & 16160881 & 1 & 1 & 0 & NA & 1\\\\\n",
       "\t331 & 332 & 656 & RS & Masculino & 50 &  7 &        0 & 2 & 0 & 1 & NA & 0\\\\\n",
       "\t427 & 428 & 492 & PR & Masculino & 39 & 10 & 12457665 & 2 & 1 & 0 & NA & 0\\\\\n",
       "\t551 & 552 & 721 & PR & Feminino  & 36 &  3 &  6525307 & 2 & 1 & 0 & NA & 0\\\\\n",
       "\t984 & 985 & 614 & PR & Feminino  & 35 &  6 & 12810028 & 1 & 0 & 0 & NA & 1\\\\\n",
       "\\end{tabular}\n"
      ],
      "text/markdown": [
       "\n",
       "A data.frame: 7 × 12\n",
       "\n",
       "| <!--/--> | id &lt;int&gt; | score &lt;int&gt; | estado &lt;fct&gt; | genero &lt;fct&gt; | idade &lt;int&gt; | patrimonio &lt;int&gt; | saldo &lt;int&gt; | produtos &lt;int&gt; | temcardcredito &lt;int&gt; | ativo &lt;int&gt; | salario &lt;dbl&gt; | saiu &lt;int&gt; |\n",
       "|---|---|---|---|---|---|---|---|---|---|---|---|---|\n",
       "| 18 |  18 | 549 | SC | Feminino  | 24 |  9 |        0 | 2 | 1 | 1 | NA | 0 |\n",
       "| 53 |  53 | 788 | RS | Feminino  | 33 |  5 |        0 | 2 | 0 | 0 | NA | 0 |\n",
       "| 180 | 181 | 754 | PR | Feminino  | 55 |  3 | 16160881 | 1 | 1 | 0 | NA | 1 |\n",
       "| 331 | 332 | 656 | RS | Masculino | 50 |  7 |        0 | 2 | 0 | 1 | NA | 0 |\n",
       "| 427 | 428 | 492 | PR | Masculino | 39 | 10 | 12457665 | 2 | 1 | 0 | NA | 0 |\n",
       "| 551 | 552 | 721 | PR | Feminino  | 36 |  3 |  6525307 | 2 | 1 | 0 | NA | 0 |\n",
       "| 984 | 985 | 614 | PR | Feminino  | 35 |  6 | 12810028 | 1 | 0 | 0 | NA | 1 |\n",
       "\n"
      ],
      "text/plain": [
       "    id  score estado genero    idade patrimonio saldo    produtos\n",
       "18   18 549   SC     Feminino  24     9                0 2       \n",
       "53   53 788   RS     Feminino  33     5                0 2       \n",
       "180 181 754   PR     Feminino  55     3         16160881 1       \n",
       "331 332 656   RS     Masculino 50     7                0 2       \n",
       "427 428 492   PR     Masculino 39    10         12457665 2       \n",
       "551 552 721   PR     Feminino  36     3          6525307 2       \n",
       "984 985 614   PR     Feminino  35     6         12810028 1       \n",
       "    temcardcredito ativo salario saiu\n",
       "18  1              1     NA      0   \n",
       "53  0              0     NA      0   \n",
       "180 1              0     NA      1   \n",
       "331 0              1     NA      0   \n",
       "427 1              0     NA      0   \n",
       "551 1              0     NA      0   \n",
       "984 0              0     NA      1   "
      ]
     },
     "metadata": {},
     "output_type": "display_data"
    }
   ],
   "source": [
    "data[!complete.cases(data$salario),]\n",
    "data[is.na(data$salario),]$salario = median(data$salario, na.rm = T)"
   ]
  },
  {
   "cell_type": "code",
   "execution_count": 43,
   "metadata": {
    "vscode": {
     "languageId": "r"
    }
   },
   "outputs": [
    {
     "data": {
      "text/html": [
       "<table class=\"dataframe\">\n",
       "<caption>A data.frame: 0 × 12</caption>\n",
       "<thead>\n",
       "\t<tr><th scope=col>id</th><th scope=col>score</th><th scope=col>estado</th><th scope=col>genero</th><th scope=col>idade</th><th scope=col>patrimonio</th><th scope=col>saldo</th><th scope=col>produtos</th><th scope=col>temcardcredito</th><th scope=col>ativo</th><th scope=col>salario</th><th scope=col>saiu</th></tr>\n",
       "\t<tr><th scope=col>&lt;int&gt;</th><th scope=col>&lt;int&gt;</th><th scope=col>&lt;fct&gt;</th><th scope=col>&lt;fct&gt;</th><th scope=col>&lt;int&gt;</th><th scope=col>&lt;int&gt;</th><th scope=col>&lt;int&gt;</th><th scope=col>&lt;int&gt;</th><th scope=col>&lt;int&gt;</th><th scope=col>&lt;int&gt;</th><th scope=col>&lt;dbl&gt;</th><th scope=col>&lt;int&gt;</th></tr>\n",
       "</thead>\n",
       "<tbody>\n",
       "</tbody>\n",
       "</table>\n"
      ],
      "text/latex": [
       "A data.frame: 0 × 12\n",
       "\\begin{tabular}{llllllllllll}\n",
       " id & score & estado & genero & idade & patrimonio & saldo & produtos & temcardcredito & ativo & salario & saiu\\\\\n",
       " <int> & <int> & <fct> & <fct> & <int> & <int> & <int> & <int> & <int> & <int> & <dbl> & <int>\\\\\n",
       "\\hline\n",
       "\\end{tabular}\n"
      ],
      "text/markdown": [
       "\n",
       "A data.frame: 0 × 12\n",
       "\n",
       "| id &lt;int&gt; | score &lt;int&gt; | estado &lt;fct&gt; | genero &lt;fct&gt; | idade &lt;int&gt; | patrimonio &lt;int&gt; | saldo &lt;int&gt; | produtos &lt;int&gt; | temcardcredito &lt;int&gt; | ativo &lt;int&gt; | salario &lt;dbl&gt; | saiu &lt;int&gt; |\n",
       "|---|---|---|---|---|---|---|---|---|---|---|---|\n",
       "\n"
      ],
      "text/plain": [
       "     id score estado genero idade patrimonio saldo produtos temcardcredito\n",
       "     ativo salario saiu"
      ]
     },
     "metadata": {},
     "output_type": "display_data"
    }
   ],
   "source": [
    "data[!complete.cases(data$salario),]"
   ]
  },
  {
   "cell_type": "code",
   "execution_count": 44,
   "metadata": {
    "vscode": {
     "languageId": "r"
    }
   },
   "outputs": [
    {
     "data": {
      "text/html": [
       "8687741.5"
      ],
      "text/latex": [
       "8687741.5"
      ],
      "text/markdown": [
       "8687741.5"
      ],
      "text/plain": [
       "[1] 8687742"
      ]
     },
     "metadata": {},
     "output_type": "display_data"
    },
    {
     "data": {
      "text/html": [
       "529250587.500245"
      ],
      "text/latex": [
       "529250587.500245"
      ],
      "text/markdown": [
       "529250587.500245"
      ],
      "text/plain": [
       "[1] 529250588"
      ]
     },
     "metadata": {},
     "output_type": "display_data"
    }
   ],
   "source": [
    "median(data$salario)\n",
    "desv = sd(data$salario)\n",
    "desv"
   ]
  },
  {
   "cell_type": "code",
   "execution_count": 45,
   "metadata": {
    "vscode": {
     "languageId": "r"
    }
   },
   "outputs": [],
   "source": [
    "data[data$salario >= 2 * desv, ]$salario = median(data$salario)"
   ]
  },
  {
   "cell_type": "code",
   "execution_count": 47,
   "metadata": {
    "vscode": {
     "languageId": "r"
    }
   },
   "outputs": [
    {
     "data": {
      "text/html": [],
      "text/latex": [],
      "text/markdown": [],
      "text/plain": [
       "numeric(0)"
      ]
     },
     "metadata": {},
     "output_type": "display_data"
    },
    {
     "data": {
      "text/plain": [
       "    Min.  1st Qu.   Median     Mean  3rd Qu.     Max. \n",
       "    9677  3073095  8687742  8834598 13909373 19972539 "
      ]
     },
     "metadata": {},
     "output_type": "display_data"
    },
    {
     "data": {
      "image/png": "[encoded data removed]",
      "text/plain": [
       "plot without title"
      ]
     },
     "metadata": {
      "image/png": {
       "height": 420,
       "width": 420
      }
     },
     "output_type": "display_data"
    }
   ],
   "source": [
    "data[data$salario >= 2 * desv, ]$salario\n",
    "summary(data$salario)\n",
    "boxplot(data$salario)"
   ]
  }
 ],
 "metadata": {
  "kernelspec": {
   "display_name": "R",
   "language": "R",
   "name": "ir"
  },
  "language_info": {
   "codemirror_mode": "r",
   "file_extension": ".r",
   "mimetype": "text/x-r-source",
   "name": "R",
   "pygments_lexer": "r",
   "version": "4.3.2"
  }
 },
 "nbformat": 4,
 "nbformat_minor": 2
}
