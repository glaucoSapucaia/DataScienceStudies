{
 "cells": [
  {
   "cell_type": "markdown",
   "metadata": {},
   "source": [
    "## Needs => install.packages('stargazer')"
   ]
  },
  {
   "cell_type": "markdown",
   "metadata": {},
   "source": [
    "# Tabelas"
   ]
  },
  {
   "cell_type": "code",
   "execution_count": 33,
   "metadata": {
    "vscode": {
     "languageId": "r"
    }
   },
   "outputs": [],
   "source": [
    "library(stargazer)"
   ]
  },
  {
   "cell_type": "markdown",
   "metadata": {},
   "source": [
    "# LaTex Output!!!"
   ]
  },
  {
   "cell_type": "code",
   "execution_count": 34,
   "metadata": {
    "vscode": {
     "languageId": "r"
    }
   },
   "outputs": [
    {
     "name": "stdout",
     "output_type": "stream",
     "text": [
      "\n",
      "% Table created by stargazer v.5.2.3 by Marek Hlavac, Social Policy Institute. E-mail: marek.hlavac at gmail.com\n",
      "% Date and time: ter, jan 09, 2024 - 22:01:41\n",
      "\\begin{table}[!htbp] \\centering \n",
      "  \\caption{} \n",
      "  \\label{} \n",
      "\\begin{tabular}{@{\\extracolsep{5pt}}lccccc} \n",
      "\\\\[-1.8ex]\\hline \n",
      "\\hline \\\\[-1.8ex] \n",
      "Statistic & \\multicolumn{1}{c}{N} & \\multicolumn{1}{c}{Mean} & \\multicolumn{1}{c}{St. Dev.} & \\multicolumn{1}{c}{Min} & \\multicolumn{1}{c}{Max} \\\\ \n",
      "\\hline \\\\[-1.8ex] \n",
      "Sepal.Length & 150 & 5.843 & 0.828 & 4.300 & 7.900 \\\\ \n",
      "Sepal.Width & 150 & 3.057 & 0.436 & 2.000 & 4.400 \\\\ \n",
      "Petal.Length & 150 & 3.758 & 1.765 & 1.000 & 6.900 \\\\ \n",
      "Petal.Width & 150 & 1.199 & 0.762 & 0.100 & 2.500 \\\\ \n",
      "\\hline \\\\[-1.8ex] \n",
      "\\end{tabular} \n",
      "\\end{table} \n"
     ]
    }
   ],
   "source": [
    "stargazer(iris)"
   ]
  },
  {
   "cell_type": "code",
   "execution_count": 35,
   "metadata": {
    "vscode": {
     "languageId": "r"
    }
   },
   "outputs": [
    {
     "name": "stdout",
     "output_type": "stream",
     "text": [
      "\n",
      "<table style=\"text-align:center\"><tr><td colspan=\"6\" style=\"border-bottom: 1px solid black\"></td></tr><tr><td style=\"text-align:left\">Statistic</td><td>N</td><td>Mean</td><td>St. Dev.</td><td>Min</td><td>Max</td></tr>\n",
      "<tr><td colspan=\"6\" style=\"border-bottom: 1px solid black\"></td></tr><tr><td style=\"text-align:left\">Sepal.Length</td><td>150</td><td>5.843</td><td>0.828</td><td>4.300</td><td>7.900</td></tr>\n",
      "<tr><td style=\"text-align:left\">Sepal.Width</td><td>150</td><td>3.057</td><td>0.436</td><td>2.000</td><td>4.400</td></tr>\n",
      "<tr><td style=\"text-align:left\">Petal.Length</td><td>150</td><td>3.758</td><td>1.765</td><td>1.000</td><td>6.900</td></tr>\n",
      "<tr><td style=\"text-align:left\">Petal.Width</td><td>150</td><td>1.199</td><td>0.762</td><td>0.100</td><td>2.500</td></tr>\n",
      "<tr><td colspan=\"6\" style=\"border-bottom: 1px solid black\"></td></tr></table>\n",
      "\n",
      "===========================================\n",
      "Statistic     N  Mean  St. Dev.  Min   Max \n",
      "-------------------------------------------\n",
      "Sepal.Length 150 5.843  0.828   4.300 7.900\n",
      "Sepal.Width  150 3.057  0.436   2.000 4.400\n",
      "Petal.Length 150 3.758  1.765   1.000 6.900\n",
      "Petal.Width  150 1.199  0.762   0.100 2.500\n",
      "-------------------------------------------\n"
     ]
    }
   ],
   "source": [
    "stargazer(iris, type='html')\n",
    "stargazer(iris, type='text')"
   ]
  },
  {
   "cell_type": "markdown",
   "metadata": {},
   "source": [
    "# Salavando arquivo!"
   ]
  },
  {
   "cell_type": "code",
   "execution_count": 36,
   "metadata": {
    "vscode": {
     "languageId": "r"
    }
   },
   "outputs": [
    {
     "name": "stdout",
     "output_type": "stream",
     "text": [
      "\n",
      "% Table created by stargazer v.5.2.3 by Marek Hlavac, Social Policy Institute. E-mail: marek.hlavac at gmail.com\n",
      "% Date and time: ter, jan 09, 2024 - 22:03:02\n",
      "\\begin{table}[!htbp] \\centering \n",
      "  \\caption{} \n",
      "  \\label{} \n",
      "\\begin{tabular}{@{\\extracolsep{5pt}} ccc} \n",
      "\\\\[-1.8ex]\\hline \n",
      "\\hline \\\\[-1.8ex] \n",
      " & height & weight \\\\ \n",
      "\\hline \\\\[-1.8ex] \n",
      "1 & $58$ & $115$ \\\\ \n",
      "2 & $59$ & $117$ \\\\ \n",
      "3 & $60$ & $120$ \\\\ \n",
      "4 & $61$ & $123$ \\\\ \n",
      "5 & $62$ & $126$ \\\\ \n",
      "6 & $63$ & $129$ \\\\ \n",
      "7 & $64$ & $132$ \\\\ \n",
      "8 & $65$ & $135$ \\\\ \n",
      "9 & $66$ & $139$ \\\\ \n",
      "10 & $67$ & $142$ \\\\ \n",
      "11 & $68$ & $146$ \\\\ \n",
      "12 & $69$ & $150$ \\\\ \n",
      "13 & $70$ & $154$ \\\\ \n",
      "14 & $71$ & $159$ \\\\ \n",
      "15 & $72$ & $164$ \\\\ \n",
      "\\hline \\\\[-1.8ex] \n",
      "\\end{tabular} \n",
      "\\end{table} \n"
     ]
    }
   ],
   "source": [
    "stargazer(women, out='women.txt', summary = F)"
   ]
  }
 ],
 "metadata": {
  "kernelspec": {
   "display_name": "R",
   "language": "R",
   "name": "ir"
  },
  "language_info": {
   "codemirror_mode": "r",
   "file_extension": ".r",
   "mimetype": "text/x-r-source",
   "name": "R",
   "pygments_lexer": "r",
   "version": "4.3.2"
  }
 },
 "nbformat": 4,
 "nbformat_minor": 2
}
