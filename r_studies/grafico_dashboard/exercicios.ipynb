{
 "cells": [
  {
   "cell_type": "code",
   "execution_count": 130,
   "metadata": {
    "vscode": {
     "languageId": "r"
    }
   },
   "outputs": [
    {
     "data": {
      "text/plain": [
       "     CODIGO                        MUNICIPIO        PIB        \n",
       " Min.   :  1.0   CERRO BRANCO           :  2   Min.   :  8237  \n",
       " 1st Qu.:141.0   DOUTOR MAURICIO CARDOSO:  2   1st Qu.: 13621  \n",
       " Median :242.0   MATO LEITAO            :  2   Median : 17206  \n",
       " Mean   :247.2   MONTE ALEGRE DOS CAMPOS:  2   Mean   : 19809  \n",
       " 3rd Qu.:372.5   MULITERNO              :  2   3rd Qu.: 21429  \n",
       " Max.   :496.0   NOVA BOA VISTA         :  2   Max.   :223848  \n",
       "                 (Other)                :175                   \n",
       "  VALOREMPENHO      \n",
       " Min.   :    172.1  \n",
       " 1st Qu.:  52517.2  \n",
       " Median :  84228.2  \n",
       " Mean   : 129984.4  \n",
       " 3rd Qu.: 153896.1  \n",
       " Max.   :1442759.8  \n",
       "                    "
      ]
     },
     "metadata": {},
     "output_type": "display_data"
    }
   ],
   "source": [
    "library(lattice)\n",
    "DB_PATH = \"C:\\\\Users\\\\glauc\\\\OneDrive\\\\Área de Trabalho\\\\data_science\\\\studies\\\\FormacaoCD\\\\12.Prática em R\\\\dados\\\\dados.csv\"\n",
    "data = read.csv(DB_PATH, sep = \";\", na.strings = \"\", stringsAsFactors = T)\n",
    "summary(data)"
   ]
  },
  {
   "cell_type": "markdown",
   "metadata": {},
   "source": [
    "# NULL Values"
   ]
  },
  {
   "cell_type": "code",
   "execution_count": 131,
   "metadata": {
    "vscode": {
     "languageId": "r"
    }
   },
   "outputs": [
    {
     "data": {
      "text/html": [
       "<table class=\"dataframe\">\n",
       "<caption>A data.frame: 6 × 4</caption>\n",
       "<thead>\n",
       "\t<tr><th></th><th scope=col>CODIGO</th><th scope=col>MUNICIPIO</th><th scope=col>PIB</th><th scope=col>VALOREMPENHO</th></tr>\n",
       "\t<tr><th></th><th scope=col>&lt;int&gt;</th><th scope=col>&lt;fct&gt;</th><th scope=col>&lt;dbl&gt;</th><th scope=col>&lt;dbl&gt;</th></tr>\n",
       "</thead>\n",
       "<tbody>\n",
       "\t<tr><th scope=row>1</th><td>106</td><td>SANTANA DO LIVRAMENTO </td><td>12240.76</td><td>1088666.1</td></tr>\n",
       "\t<tr><th scope=row>2</th><td>113</td><td>SANTO ANGELO          </td><td>16575.82</td><td> 800669.9</td></tr>\n",
       "\t<tr><th scope=row>3</th><td>118</td><td>SAO FRANCISCO DE ASSIS</td><td>12037.61</td><td> 466122.8</td></tr>\n",
       "\t<tr><th scope=row>4</th><td> 13</td><td>CACAPAVA DO SUL       </td><td>13674.54</td><td> 485535.9</td></tr>\n",
       "\t<tr><th scope=row>5</th><td>120</td><td>SAO GABRIEL           </td><td>19912.38</td><td> 533719.9</td></tr>\n",
       "\t<tr><th scope=row>6</th><td> 98</td><td>QUARAI                </td><td>12552.51</td><td> 381286.2</td></tr>\n",
       "</tbody>\n",
       "</table>\n"
      ],
      "text/latex": [
       "A data.frame: 6 × 4\n",
       "\\begin{tabular}{r|llll}\n",
       "  & CODIGO & MUNICIPIO & PIB & VALOREMPENHO\\\\\n",
       "  & <int> & <fct> & <dbl> & <dbl>\\\\\n",
       "\\hline\n",
       "\t1 & 106 & SANTANA DO LIVRAMENTO  & 12240.76 & 1088666.1\\\\\n",
       "\t2 & 113 & SANTO ANGELO           & 16575.82 &  800669.9\\\\\n",
       "\t3 & 118 & SAO FRANCISCO DE ASSIS & 12037.61 &  466122.8\\\\\n",
       "\t4 &  13 & CACAPAVA DO SUL        & 13674.54 &  485535.9\\\\\n",
       "\t5 & 120 & SAO GABRIEL            & 19912.38 &  533719.9\\\\\n",
       "\t6 &  98 & QUARAI                 & 12552.51 &  381286.2\\\\\n",
       "\\end{tabular}\n"
      ],
      "text/markdown": [
       "\n",
       "A data.frame: 6 × 4\n",
       "\n",
       "| <!--/--> | CODIGO &lt;int&gt; | MUNICIPIO &lt;fct&gt; | PIB &lt;dbl&gt; | VALOREMPENHO &lt;dbl&gt; |\n",
       "|---|---|---|---|---|\n",
       "| 1 | 106 | SANTANA DO LIVRAMENTO  | 12240.76 | 1088666.1 |\n",
       "| 2 | 113 | SANTO ANGELO           | 16575.82 |  800669.9 |\n",
       "| 3 | 118 | SAO FRANCISCO DE ASSIS | 12037.61 |  466122.8 |\n",
       "| 4 |  13 | CACAPAVA DO SUL        | 13674.54 |  485535.9 |\n",
       "| 5 | 120 | SAO GABRIEL            | 19912.38 |  533719.9 |\n",
       "| 6 |  98 | QUARAI                 | 12552.51 |  381286.2 |\n",
       "\n"
      ],
      "text/plain": [
       "  CODIGO MUNICIPIO              PIB      VALOREMPENHO\n",
       "1 106    SANTANA DO LIVRAMENTO  12240.76 1088666.1   \n",
       "2 113    SANTO ANGELO           16575.82  800669.9   \n",
       "3 118    SAO FRANCISCO DE ASSIS 12037.61  466122.8   \n",
       "4  13    CACAPAVA DO SUL        13674.54  485535.9   \n",
       "5 120    SAO GABRIEL            19912.38  533719.9   \n",
       "6  98    QUARAI                 12552.51  381286.2   "
      ]
     },
     "metadata": {},
     "output_type": "display_data"
    },
    {
     "data": {
      "text/html": [
       "<table class=\"dataframe\">\n",
       "<caption>A data.frame: 0 × 4</caption>\n",
       "<thead>\n",
       "\t<tr><th scope=col>CODIGO</th><th scope=col>MUNICIPIO</th><th scope=col>PIB</th><th scope=col>VALOREMPENHO</th></tr>\n",
       "\t<tr><th scope=col>&lt;int&gt;</th><th scope=col>&lt;fct&gt;</th><th scope=col>&lt;dbl&gt;</th><th scope=col>&lt;dbl&gt;</th></tr>\n",
       "</thead>\n",
       "<tbody>\n",
       "</tbody>\n",
       "</table>\n"
      ],
      "text/latex": [
       "A data.frame: 0 × 4\n",
       "\\begin{tabular}{llll}\n",
       " CODIGO & MUNICIPIO & PIB & VALOREMPENHO\\\\\n",
       " <int> & <fct> & <dbl> & <dbl>\\\\\n",
       "\\hline\n",
       "\\end{tabular}\n"
      ],
      "text/markdown": [
       "\n",
       "A data.frame: 0 × 4\n",
       "\n",
       "| CODIGO &lt;int&gt; | MUNICIPIO &lt;fct&gt; | PIB &lt;dbl&gt; | VALOREMPENHO &lt;dbl&gt; |\n",
       "|---|---|---|---|\n",
       "\n"
      ],
      "text/plain": [
       "     CODIGO MUNICIPIO PIB VALOREMPENHO"
      ]
     },
     "metadata": {},
     "output_type": "display_data"
    }
   ],
   "source": [
    "head(data)\n",
    "data[!complete.cases(data),]"
   ]
  },
  {
   "cell_type": "markdown",
   "metadata": {},
   "source": [
    "# Municipios"
   ]
  },
  {
   "cell_type": "code",
   "execution_count": 132,
   "metadata": {
    "vscode": {
     "languageId": "r"
    }
   },
   "outputs": [
    {
     "data": {
      "text/html": [
       "<style>\n",
       ".dl-inline {width: auto; margin:0; padding: 0}\n",
       ".dl-inline>dt, .dl-inline>dd {float: none; width: auto; display: inline-block}\n",
       ".dl-inline>dt::after {content: \":\\0020\"; padding-right: .5ex}\n",
       ".dl-inline>dt:not(:first-of-type) {padding-left: .5ex}\n",
       "</style><dl class=dl-inline><dt>CERRO BRANCO</dt><dd>2</dd><dt>DOUTOR MAURICIO CARDOSO</dt><dd>2</dd><dt>MATO LEITAO</dt><dd>2</dd><dt>MONTE ALEGRE DOS CAMPOS</dt><dd>2</dd><dt>MULITERNO</dt><dd>2</dd><dt>NOVA BOA VISTA</dt><dd>2</dd><dt>SANTA VITORIA DO PALMAR</dt><dd>2</dd><dt>SANTO ANTONIO DAS MISSOES</dt><dd>2</dd><dt>SANTO ANTONIO DO PLANALTO</dt><dd>2</dd><dt>TAQUARA</dt><dd>2</dd><dt>AGUDO</dt><dd>1</dd><dt>AJURICABA</dt><dd>1</dd><dt>ALECRIM</dt><dd>1</dd><dt>ALMIRANTE TAMANDARE DO SUL</dt><dd>1</dd><dt>ALTO FELIZ</dt><dd>1</dd><dt>AMARAL FERRADOR</dt><dd>1</dd><dt>ARVOREZINHA</dt><dd>1</dd><dt>AUGUSTO PESTANA</dt><dd>1</dd><dt>AUREA</dt><dd>1</dd><dt>BARAO DO COTEGIPE</dt><dd>1</dd><dt>BARRA DO RIBEIRO</dt><dd>1</dd><dt>BOSSOROCA</dt><dd>1</dd><dt>BOZANO</dt><dd>1</dd><dt>BRAGA</dt><dd>1</dd><dt>BUTIA</dt><dd>1</dd><dt>CACAPAVA DO SUL</dt><dd>1</dd><dt>CACEQUI</dt><dd>1</dd><dt>CACHOEIRA DO SUL</dt><dd>1</dd><dt>CAIBATE</dt><dd>1</dd><dt>CAMBARA DO SUL</dt><dd>1</dd><dt>CAMPINA DAS MISSOES</dt><dd>1</dd><dt>CANDIDO GODOI</dt><dd>1</dd><dt>CANGUCU</dt><dd>1</dd><dt>CAPAO DO CIPO</dt><dd>1</dd><dt>CARLOS GOMES</dt><dd>1</dd><dt>CATUIPE</dt><dd>1</dd><dt>CERRO LARGO</dt><dd>1</dd><dt>CHUI</dt><dd>1</dd><dt>CONDOR</dt><dd>1</dd><dt>CORONEL BARROS</dt><dd>1</dd><dt>CORONEL BICACO</dt><dd>1</dd><dt>COXILHA</dt><dd>1</dd><dt>CRISSIUMAL</dt><dd>1</dd><dt>CRISTAL</dt><dd>1</dd><dt>CRUZALTENSE</dt><dd>1</dd><dt>DEZESSEIS DE NOVEMBRO</dt><dd>1</dd><dt>DILERMANDO DE AGUIAR</dt><dd>1</dd><dt>DOIS LAJEADOS</dt><dd>1</dd><dt>DOM PEDRITO</dt><dd>1</dd><dt>DOM PEDRO DE ALCANTARA</dt><dd>1</dd><dt>DONA FRANCISCA</dt><dd>1</dd><dt>ENCRUZILHADA DO SUL</dt><dd>1</dd><dt>ENTRE-IJUIS</dt><dd>1</dd><dt>EREBANGO</dt><dd>1</dd><dt>ESMERALDA</dt><dd>1</dd><dt>ESPERANCA DO SUL</dt><dd>1</dd><dt>ESTACAO</dt><dd>1</dd><dt>EUGENIO DE CASTRO</dt><dd>1</dd><dt>FAGUNDES VARELA</dt><dd>1</dd><dt>FAXINAL DO SOTURNO</dt><dd>1</dd><dt>FLORIANO PEIXOTO</dt><dd>1</dd><dt>FORMIGUEIRO</dt><dd>1</dd><dt>FORTALEZA DOS VALOS</dt><dd>1</dd><dt>GARRUCHOS</dt><dd>1</dd><dt>GAURAMA</dt><dd>1</dd><dt>GENERAL CAMARA</dt><dd>1</dd><dt>GETULIO VARGAS</dt><dd>1</dd><dt>GIRUA</dt><dd>1</dd><dt>GLORINHA</dt><dd>1</dd><dt>GUAPORE</dt><dd>1</dd><dt>GUARANI DAS MISSOES</dt><dd>1</dd><dt>HERVAL</dt><dd>1</dd><dt>IBIRAIARAS</dt><dd>1</dd><dt>IBIRAPUITA</dt><dd>1</dd><dt>IJUI</dt><dd>1</dd><dt>ILOPOLIS</dt><dd>1</dd><dt>INDEPENDENCIA</dt><dd>1</dd><dt>IPE</dt><dd>1</dd><dt>IPIRANGA DO SUL</dt><dd>1</dd><dt>ITAARA</dt><dd>1</dd><dt>ITACURUBI</dt><dd>1</dd><dt>JACUIZINHO</dt><dd>1</dd><dt>JACUTINGA</dt><dd>1</dd><dt>JAQUIRANA</dt><dd>1</dd><dt>JOIA</dt><dd>1</dd><dt>JULIO DE CASTILHOS</dt><dd>1</dd><dt>LAGOA DOS TRES CANTOS</dt><dd>1</dd><dt>MANOEL VIANA</dt><dd>1</dd><dt>MARAU</dt><dd>1</dd><dt>MATA</dt><dd>1</dd><dt>MATO QUEIMADO</dt><dd>1</dd><dt>MAXIMILIANO DE ALMEIDA</dt><dd>1</dd><dt>MINAS DO LEAO</dt><dd>1</dd><dt>MONTAURI</dt><dd>1</dd><dt>MORMACO</dt><dd>1</dd><dt>MOSTARDAS</dt><dd>1</dd><dt>MUITOS CAPOES</dt><dd>1</dd><dt>NOVA CANDELARIA</dt><dd>1</dd><dt>NOVA PALMA</dt><dd>1</dd><dt>(Other)</dt><dd>78</dd></dl>\n"
      ],
      "text/latex": [
       "\\begin{description*}\n",
       "\\item[CERRO BRANCO] 2\n",
       "\\item[DOUTOR MAURICIO CARDOSO] 2\n",
       "\\item[MATO LEITAO] 2\n",
       "\\item[MONTE ALEGRE DOS CAMPOS] 2\n",
       "\\item[MULITERNO] 2\n",
       "\\item[NOVA BOA VISTA] 2\n",
       "\\item[SANTA VITORIA DO PALMAR] 2\n",
       "\\item[SANTO ANTONIO DAS MISSOES] 2\n",
       "\\item[SANTO ANTONIO DO PLANALTO] 2\n",
       "\\item[TAQUARA] 2\n",
       "\\item[AGUDO] 1\n",
       "\\item[AJURICABA] 1\n",
       "\\item[ALECRIM] 1\n",
       "\\item[ALMIRANTE TAMANDARE DO SUL] 1\n",
       "\\item[ALTO FELIZ] 1\n",
       "\\item[AMARAL FERRADOR] 1\n",
       "\\item[ARVOREZINHA] 1\n",
       "\\item[AUGUSTO PESTANA] 1\n",
       "\\item[AUREA] 1\n",
       "\\item[BARAO DO COTEGIPE] 1\n",
       "\\item[BARRA DO RIBEIRO] 1\n",
       "\\item[BOSSOROCA] 1\n",
       "\\item[BOZANO] 1\n",
       "\\item[BRAGA] 1\n",
       "\\item[BUTIA] 1\n",
       "\\item[CACAPAVA DO SUL] 1\n",
       "\\item[CACEQUI] 1\n",
       "\\item[CACHOEIRA DO SUL] 1\n",
       "\\item[CAIBATE] 1\n",
       "\\item[CAMBARA DO SUL] 1\n",
       "\\item[CAMPINA DAS MISSOES] 1\n",
       "\\item[CANDIDO GODOI] 1\n",
       "\\item[CANGUCU] 1\n",
       "\\item[CAPAO DO CIPO] 1\n",
       "\\item[CARLOS GOMES] 1\n",
       "\\item[CATUIPE] 1\n",
       "\\item[CERRO LARGO] 1\n",
       "\\item[CHUI] 1\n",
       "\\item[CONDOR] 1\n",
       "\\item[CORONEL BARROS] 1\n",
       "\\item[CORONEL BICACO] 1\n",
       "\\item[COXILHA] 1\n",
       "\\item[CRISSIUMAL] 1\n",
       "\\item[CRISTAL] 1\n",
       "\\item[CRUZALTENSE] 1\n",
       "\\item[DEZESSEIS DE NOVEMBRO] 1\n",
       "\\item[DILERMANDO DE AGUIAR] 1\n",
       "\\item[DOIS LAJEADOS] 1\n",
       "\\item[DOM PEDRITO] 1\n",
       "\\item[DOM PEDRO DE ALCANTARA] 1\n",
       "\\item[DONA FRANCISCA] 1\n",
       "\\item[ENCRUZILHADA DO SUL] 1\n",
       "\\item[ENTRE-IJUIS] 1\n",
       "\\item[EREBANGO] 1\n",
       "\\item[ESMERALDA] 1\n",
       "\\item[ESPERANCA DO SUL] 1\n",
       "\\item[ESTACAO] 1\n",
       "\\item[EUGENIO DE CASTRO] 1\n",
       "\\item[FAGUNDES VARELA] 1\n",
       "\\item[FAXINAL DO SOTURNO] 1\n",
       "\\item[FLORIANO PEIXOTO] 1\n",
       "\\item[FORMIGUEIRO] 1\n",
       "\\item[FORTALEZA DOS VALOS] 1\n",
       "\\item[GARRUCHOS] 1\n",
       "\\item[GAURAMA] 1\n",
       "\\item[GENERAL CAMARA] 1\n",
       "\\item[GETULIO VARGAS] 1\n",
       "\\item[GIRUA] 1\n",
       "\\item[GLORINHA] 1\n",
       "\\item[GUAPORE] 1\n",
       "\\item[GUARANI DAS MISSOES] 1\n",
       "\\item[HERVAL] 1\n",
       "\\item[IBIRAIARAS] 1\n",
       "\\item[IBIRAPUITA] 1\n",
       "\\item[IJUI] 1\n",
       "\\item[ILOPOLIS] 1\n",
       "\\item[INDEPENDENCIA] 1\n",
       "\\item[IPE] 1\n",
       "\\item[IPIRANGA DO SUL] 1\n",
       "\\item[ITAARA] 1\n",
       "\\item[ITACURUBI] 1\n",
       "\\item[JACUIZINHO] 1\n",
       "\\item[JACUTINGA] 1\n",
       "\\item[JAQUIRANA] 1\n",
       "\\item[JOIA] 1\n",
       "\\item[JULIO DE CASTILHOS] 1\n",
       "\\item[LAGOA DOS TRES CANTOS] 1\n",
       "\\item[MANOEL VIANA] 1\n",
       "\\item[MARAU] 1\n",
       "\\item[MATA] 1\n",
       "\\item[MATO QUEIMADO] 1\n",
       "\\item[MAXIMILIANO DE ALMEIDA] 1\n",
       "\\item[MINAS DO LEAO] 1\n",
       "\\item[MONTAURI] 1\n",
       "\\item[MORMACO] 1\n",
       "\\item[MOSTARDAS] 1\n",
       "\\item[MUITOS CAPOES] 1\n",
       "\\item[NOVA CANDELARIA] 1\n",
       "\\item[NOVA PALMA] 1\n",
       "\\item[(Other)] 78\n",
       "\\end{description*}\n"
      ],
      "text/markdown": [
       "CERRO BRANCO\n",
       ":   2DOUTOR MAURICIO CARDOSO\n",
       ":   2MATO LEITAO\n",
       ":   2MONTE ALEGRE DOS CAMPOS\n",
       ":   2MULITERNO\n",
       ":   2NOVA BOA VISTA\n",
       ":   2SANTA VITORIA DO PALMAR\n",
       ":   2SANTO ANTONIO DAS MISSOES\n",
       ":   2SANTO ANTONIO DO PLANALTO\n",
       ":   2TAQUARA\n",
       ":   2AGUDO\n",
       ":   1AJURICABA\n",
       ":   1ALECRIM\n",
       ":   1ALMIRANTE TAMANDARE DO SUL\n",
       ":   1ALTO FELIZ\n",
       ":   1AMARAL FERRADOR\n",
       ":   1ARVOREZINHA\n",
       ":   1AUGUSTO PESTANA\n",
       ":   1AUREA\n",
       ":   1BARAO DO COTEGIPE\n",
       ":   1BARRA DO RIBEIRO\n",
       ":   1BOSSOROCA\n",
       ":   1BOZANO\n",
       ":   1BRAGA\n",
       ":   1BUTIA\n",
       ":   1CACAPAVA DO SUL\n",
       ":   1CACEQUI\n",
       ":   1CACHOEIRA DO SUL\n",
       ":   1CAIBATE\n",
       ":   1CAMBARA DO SUL\n",
       ":   1CAMPINA DAS MISSOES\n",
       ":   1CANDIDO GODOI\n",
       ":   1CANGUCU\n",
       ":   1CAPAO DO CIPO\n",
       ":   1CARLOS GOMES\n",
       ":   1CATUIPE\n",
       ":   1CERRO LARGO\n",
       ":   1CHUI\n",
       ":   1CONDOR\n",
       ":   1CORONEL BARROS\n",
       ":   1CORONEL BICACO\n",
       ":   1COXILHA\n",
       ":   1CRISSIUMAL\n",
       ":   1CRISTAL\n",
       ":   1CRUZALTENSE\n",
       ":   1DEZESSEIS DE NOVEMBRO\n",
       ":   1DILERMANDO DE AGUIAR\n",
       ":   1DOIS LAJEADOS\n",
       ":   1DOM PEDRITO\n",
       ":   1DOM PEDRO DE ALCANTARA\n",
       ":   1DONA FRANCISCA\n",
       ":   1ENCRUZILHADA DO SUL\n",
       ":   1ENTRE-IJUIS\n",
       ":   1EREBANGO\n",
       ":   1ESMERALDA\n",
       ":   1ESPERANCA DO SUL\n",
       ":   1ESTACAO\n",
       ":   1EUGENIO DE CASTRO\n",
       ":   1FAGUNDES VARELA\n",
       ":   1FAXINAL DO SOTURNO\n",
       ":   1FLORIANO PEIXOTO\n",
       ":   1FORMIGUEIRO\n",
       ":   1FORTALEZA DOS VALOS\n",
       ":   1GARRUCHOS\n",
       ":   1GAURAMA\n",
       ":   1GENERAL CAMARA\n",
       ":   1GETULIO VARGAS\n",
       ":   1GIRUA\n",
       ":   1GLORINHA\n",
       ":   1GUAPORE\n",
       ":   1GUARANI DAS MISSOES\n",
       ":   1HERVAL\n",
       ":   1IBIRAIARAS\n",
       ":   1IBIRAPUITA\n",
       ":   1IJUI\n",
       ":   1ILOPOLIS\n",
       ":   1INDEPENDENCIA\n",
       ":   1IPE\n",
       ":   1IPIRANGA DO SUL\n",
       ":   1ITAARA\n",
       ":   1ITACURUBI\n",
       ":   1JACUIZINHO\n",
       ":   1JACUTINGA\n",
       ":   1JAQUIRANA\n",
       ":   1JOIA\n",
       ":   1JULIO DE CASTILHOS\n",
       ":   1LAGOA DOS TRES CANTOS\n",
       ":   1MANOEL VIANA\n",
       ":   1MARAU\n",
       ":   1MATA\n",
       ":   1MATO QUEIMADO\n",
       ":   1MAXIMILIANO DE ALMEIDA\n",
       ":   1MINAS DO LEAO\n",
       ":   1MONTAURI\n",
       ":   1MORMACO\n",
       ":   1MOSTARDAS\n",
       ":   1MUITOS CAPOES\n",
       ":   1NOVA CANDELARIA\n",
       ":   1NOVA PALMA\n",
       ":   1(Other)\n",
       ":   78\n",
       "\n"
      ],
      "text/plain": [
       "              CERRO BRANCO    DOUTOR MAURICIO CARDOSO \n",
       "                         2                          2 \n",
       "               MATO LEITAO    MONTE ALEGRE DOS CAMPOS \n",
       "                         2                          2 \n",
       "                 MULITERNO             NOVA BOA VISTA \n",
       "                         2                          2 \n",
       "   SANTA VITORIA DO PALMAR  SANTO ANTONIO DAS MISSOES \n",
       "                         2                          2 \n",
       " SANTO ANTONIO DO PLANALTO                    TAQUARA \n",
       "                         2                          2 \n",
       "                     AGUDO                  AJURICABA \n",
       "                         1                          1 \n",
       "                   ALECRIM ALMIRANTE TAMANDARE DO SUL \n",
       "                         1                          1 \n",
       "                ALTO FELIZ            AMARAL FERRADOR \n",
       "                         1                          1 \n",
       "               ARVOREZINHA            AUGUSTO PESTANA \n",
       "                         1                          1 \n",
       "                     AUREA          BARAO DO COTEGIPE \n",
       "                         1                          1 \n",
       "          BARRA DO RIBEIRO                  BOSSOROCA \n",
       "                         1                          1 \n",
       "                    BOZANO                      BRAGA \n",
       "                         1                          1 \n",
       "                     BUTIA            CACAPAVA DO SUL \n",
       "                         1                          1 \n",
       "                   CACEQUI           CACHOEIRA DO SUL \n",
       "                         1                          1 \n",
       "                   CAIBATE             CAMBARA DO SUL \n",
       "                         1                          1 \n",
       "       CAMPINA DAS MISSOES              CANDIDO GODOI \n",
       "                         1                          1 \n",
       "                   CANGUCU              CAPAO DO CIPO \n",
       "                         1                          1 \n",
       "              CARLOS GOMES                    CATUIPE \n",
       "                         1                          1 \n",
       "               CERRO LARGO                       CHUI \n",
       "                         1                          1 \n",
       "                    CONDOR             CORONEL BARROS \n",
       "                         1                          1 \n",
       "            CORONEL BICACO                    COXILHA \n",
       "                         1                          1 \n",
       "                CRISSIUMAL                    CRISTAL \n",
       "                         1                          1 \n",
       "               CRUZALTENSE      DEZESSEIS DE NOVEMBRO \n",
       "                         1                          1 \n",
       "      DILERMANDO DE AGUIAR              DOIS LAJEADOS \n",
       "                         1                          1 \n",
       "               DOM PEDRITO     DOM PEDRO DE ALCANTARA \n",
       "                         1                          1 \n",
       "            DONA FRANCISCA        ENCRUZILHADA DO SUL \n",
       "                         1                          1 \n",
       "               ENTRE-IJUIS                   EREBANGO \n",
       "                         1                          1 \n",
       "                 ESMERALDA           ESPERANCA DO SUL \n",
       "                         1                          1 \n",
       "                   ESTACAO          EUGENIO DE CASTRO \n",
       "                         1                          1 \n",
       "           FAGUNDES VARELA         FAXINAL DO SOTURNO \n",
       "                         1                          1 \n",
       "          FLORIANO PEIXOTO                FORMIGUEIRO \n",
       "                         1                          1 \n",
       "       FORTALEZA DOS VALOS                  GARRUCHOS \n",
       "                         1                          1 \n",
       "                   GAURAMA             GENERAL CAMARA \n",
       "                         1                          1 \n",
       "            GETULIO VARGAS                      GIRUA \n",
       "                         1                          1 \n",
       "                  GLORINHA                    GUAPORE \n",
       "                         1                          1 \n",
       "       GUARANI DAS MISSOES                     HERVAL \n",
       "                         1                          1 \n",
       "                IBIRAIARAS                 IBIRAPUITA \n",
       "                         1                          1 \n",
       "                      IJUI                   ILOPOLIS \n",
       "                         1                          1 \n",
       "             INDEPENDENCIA                        IPE \n",
       "                         1                          1 \n",
       "           IPIRANGA DO SUL                     ITAARA \n",
       "                         1                          1 \n",
       "                 ITACURUBI                 JACUIZINHO \n",
       "                         1                          1 \n",
       "                 JACUTINGA                  JAQUIRANA \n",
       "                         1                          1 \n",
       "                      JOIA         JULIO DE CASTILHOS \n",
       "                         1                          1 \n",
       "     LAGOA DOS TRES CANTOS               MANOEL VIANA \n",
       "                         1                          1 \n",
       "                     MARAU                       MATA \n",
       "                         1                          1 \n",
       "             MATO QUEIMADO     MAXIMILIANO DE ALMEIDA \n",
       "                         1                          1 \n",
       "             MINAS DO LEAO                   MONTAURI \n",
       "                         1                          1 \n",
       "                   MORMACO                  MOSTARDAS \n",
       "                         1                          1 \n",
       "             MUITOS CAPOES            NOVA CANDELARIA \n",
       "                         1                          1 \n",
       "                NOVA PALMA                    (Other) \n",
       "                         1                         78 "
      ]
     },
     "metadata": {},
     "output_type": "display_data"
    }
   ],
   "source": [
    "summary(data$MUNICIPIO)"
   ]
  },
  {
   "cell_type": "markdown",
   "metadata": {},
   "source": [
    "# Valor Empenho"
   ]
  },
  {
   "cell_type": "code",
   "execution_count": 133,
   "metadata": {
    "vscode": {
     "languageId": "r"
    }
   },
   "outputs": [
    {
     "data": {
      "image/png": "[encoded data removed]",
      "text/plain": [
       "plot without title"
      ]
     },
     "metadata": {
      "image/png": {
       "height": 420,
       "width": 420
      }
     },
     "output_type": "display_data"
    },
    {
     "data": {
      "image/png": "[encoded data removed]",
      "text/plain": [
       "plot without title"
      ]
     },
     "metadata": {
      "image/png": {
       "height": 420,
       "width": 420
      }
     },
     "output_type": "display_data"
    }
   ],
   "source": [
    "boxplot(data$VALOREMPENHO, outline=F)\n",
    "boxplot(data$VALOREMPENHO)"
   ]
  },
  {
   "cell_type": "code",
   "execution_count": 134,
   "metadata": {
    "vscode": {
     "languageId": "r"
    }
   },
   "outputs": [
    {
     "data": {
      "text/html": [
       "161549.140227247"
      ],
      "text/latex": [
       "161549.140227247"
      ],
      "text/markdown": [
       "161549.140227247"
      ],
      "text/plain": [
       "[1] 161549.1"
      ]
     },
     "metadata": {},
     "output_type": "display_data"
    },
    {
     "data": {
      "text/html": [
       "84228.16"
      ],
      "text/latex": [
       "84228.16"
      ],
      "text/markdown": [
       "84228.16"
      ],
      "text/plain": [
       "[1] 84228.16"
      ]
     },
     "metadata": {},
     "output_type": "display_data"
    }
   ],
   "source": [
    "desv = sd(data$VALOREMPENHO)\n",
    "media_empenho = median(data$VALOREMPENHO)\n",
    "desv\n",
    "media_empenho"
   ]
  },
  {
   "cell_type": "code",
   "execution_count": 135,
   "metadata": {
    "vscode": {
     "languageId": "r"
    }
   },
   "outputs": [
    {
     "data": {
      "image/png": "[encoded data removed]",
      "text/plain": [
       "plot without title"
      ]
     },
     "metadata": {
      "image/png": {
       "height": 420,
       "width": 420
      }
     },
     "output_type": "display_data"
    }
   ],
   "source": [
    "data[data$VALOREMPENHO >= 2 * desv, ]$VALOREMPENHO = media_empenho\n",
    "boxplot(data$VALOREMPENHO)"
   ]
  },
  {
   "cell_type": "markdown",
   "metadata": {},
   "source": [
    "# PIB"
   ]
  },
  {
   "cell_type": "code",
   "execution_count": 136,
   "metadata": {
    "vscode": {
     "languageId": "r"
    }
   },
   "outputs": [
    {
     "data": {
      "image/png": "[encoded data removed]",
      "text/plain": [
       "plot without title"
      ]
     },
     "metadata": {
      "image/png": {
       "height": 420,
       "width": 420
      }
     },
     "output_type": "display_data"
    },
    {
     "data": {
      "image/png": "[encoded data removed]",
      "text/plain": [
       "plot without title"
      ]
     },
     "metadata": {
      "image/png": {
       "height": 420,
       "width": 420
      }
     },
     "output_type": "display_data"
    }
   ],
   "source": [
    "boxplot(data$PIB, outline=F)\n",
    "boxplot(data$PIB)"
   ]
  },
  {
   "cell_type": "code",
   "execution_count": 137,
   "metadata": {
    "vscode": {
     "languageId": "r"
    }
   },
   "outputs": [
    {
     "data": {
      "text/html": [
       "16984.223244281"
      ],
      "text/latex": [
       "16984.223244281"
      ],
      "text/markdown": [
       "16984.223244281"
      ],
      "text/plain": [
       "[1] 16984.22"
      ]
     },
     "metadata": {},
     "output_type": "display_data"
    },
    {
     "data": {
      "text/html": [
       "17206.19"
      ],
      "text/latex": [
       "17206.19"
      ],
      "text/markdown": [
       "17206.19"
      ],
      "text/plain": [
       "[1] 17206.19"
      ]
     },
     "metadata": {},
     "output_type": "display_data"
    }
   ],
   "source": [
    "desv_pib = sd(data$PIB)\n",
    "media_pib = median(data$PIB)\n",
    "desv_pib\n",
    "media_pib"
   ]
  },
  {
   "cell_type": "code",
   "execution_count": 138,
   "metadata": {
    "vscode": {
     "languageId": "r"
    }
   },
   "outputs": [
    {
     "data": {
      "image/png": "[encoded data removed]",
      "text/plain": [
       "plot without title"
      ]
     },
     "metadata": {
      "image/png": {
       "height": 420,
       "width": 420
      }
     },
     "output_type": "display_data"
    }
   ],
   "source": [
    "data[data$PIB >= 2 * desv_pib, ]$PIB = media_pib\n",
    "boxplot(data$PIB)"
   ]
  },
  {
   "cell_type": "markdown",
   "metadata": {},
   "source": [
    "# Valor Empenho por PIB"
   ]
  },
  {
   "cell_type": "code",
   "execution_count": 139,
   "metadata": {
    "vscode": {
     "languageId": "r"
    }
   },
   "outputs": [
    {
     "data": {
      "image/png": "[encoded data removed]",
      "text/plain": [
       "plot without title"
      ]
     },
     "metadata": {
      "image/png": {
       "height": 420,
       "width": 420
      }
     },
     "output_type": "display_data"
    }
   ],
   "source": [
    "histogram(data$VALOREMPENHO ~ data$PIB, main='PIB e Valor de Empenho', ylab='Valor Empenho', xlab='PIB')"
   ]
  },
  {
   "cell_type": "markdown",
   "metadata": {},
   "source": [
    "# Usado pelo Professor\n",
    "- install.packages(\"RColorBrewer\")"
   ]
  },
  {
   "cell_type": "code",
   "execution_count": 140,
   "metadata": {
    "vscode": {
     "languageId": "r"
    }
   },
   "outputs": [
    {
     "data": {
      "image/png": "[encoded data removed]",
      "text/plain": [
       "Plot with title \"Valores de Empenho\""
      ]
     },
     "metadata": {
      "image/png": {
       "height": 420,
       "width": 420
      }
     },
     "output_type": "display_data"
    },
    {
     "data": {
      "image/png": "[encoded data removed]",
      "text/plain": [
       "Plot with title \"Valores de PIB\""
      ]
     },
     "metadata": {
      "image/png": {
       "height": 420,
       "width": 420
      }
     },
     "output_type": "display_data"
    }
   ],
   "source": [
    "library(RColorBrewer)\n",
    "boxplot(data$VALOREMPENHO, main='Valores de Empenho', col=brewer.pal(n=3, name='Paired'))\n",
    "boxplot(data$PIB, main='Valores de PIB', col=brewer.pal(n=3, name='Pastel1'))"
   ]
  },
  {
   "cell_type": "markdown",
   "metadata": {},
   "source": [
    "# Busca maiores dados"
   ]
  },
  {
   "cell_type": "code",
   "execution_count": 141,
   "metadata": {
    "vscode": {
     "languageId": "r"
    }
   },
   "outputs": [
    {
     "data": {
      "text/html": [
       "<table class=\"dataframe\">\n",
       "<caption>A data.frame: 10 × 4</caption>\n",
       "<thead>\n",
       "\t<tr><th></th><th scope=col>CODIGO</th><th scope=col>MUNICIPIO</th><th scope=col>PIB</th><th scope=col>VALOREMPENHO</th></tr>\n",
       "\t<tr><th></th><th scope=col>&lt;int&gt;</th><th scope=col>&lt;fct&gt;</th><th scope=col>&lt;dbl&gt;</th><th scope=col>&lt;dbl&gt;</th></tr>\n",
       "</thead>\n",
       "<tbody>\n",
       "\t<tr><th scope=row>7</th><td> 95</td><td>PIRATINI           </td><td>10811.67</td><td>315884.5</td></tr>\n",
       "\t<tr><th scope=row>21</th><td> 79</td><td>MOSTARDAS          </td><td>19565.25</td><td>284378.2</td></tr>\n",
       "\t<tr><th scope=row>92</th><td>356</td><td>GARRUCHOS          </td><td>17206.19</td><td>271841.3</td></tr>\n",
       "\t<tr><th scope=row>13</th><td>297</td><td>PARAISO DO SUL     </td><td>13170.25</td><td>270262.0</td></tr>\n",
       "\t<tr><th scope=row>14</th><td>125</td><td>SAO LOURENCO DO SUL</td><td>12674.70</td><td>251561.4</td></tr>\n",
       "\t<tr><th scope=row>26</th><td>156</td><td>VERA CRUZ          </td><td>18417.96</td><td>246387.0</td></tr>\n",
       "\t<tr><th scope=row>29</th><td>154</td><td>VACARIA            </td><td>20448.38</td><td>245264.5</td></tr>\n",
       "\t<tr><th scope=row>27</th><td>187</td><td>CORONEL BICACO     </td><td>18904.82</td><td>242475.6</td></tr>\n",
       "\t<tr><th scope=row>12</th><td>248</td><td>AMARAL FERRADOR    </td><td> 9216.87</td><td>235327.0</td></tr>\n",
       "\t<tr><th scope=row>18</th><td>140</td><td>TAPES              </td><td>14056.88</td><td>230055.0</td></tr>\n",
       "</tbody>\n",
       "</table>\n"
      ],
      "text/latex": [
       "A data.frame: 10 × 4\n",
       "\\begin{tabular}{r|llll}\n",
       "  & CODIGO & MUNICIPIO & PIB & VALOREMPENHO\\\\\n",
       "  & <int> & <fct> & <dbl> & <dbl>\\\\\n",
       "\\hline\n",
       "\t7 &  95 & PIRATINI            & 10811.67 & 315884.5\\\\\n",
       "\t21 &  79 & MOSTARDAS           & 19565.25 & 284378.2\\\\\n",
       "\t92 & 356 & GARRUCHOS           & 17206.19 & 271841.3\\\\\n",
       "\t13 & 297 & PARAISO DO SUL      & 13170.25 & 270262.0\\\\\n",
       "\t14 & 125 & SAO LOURENCO DO SUL & 12674.70 & 251561.4\\\\\n",
       "\t26 & 156 & VERA CRUZ           & 18417.96 & 246387.0\\\\\n",
       "\t29 & 154 & VACARIA             & 20448.38 & 245264.5\\\\\n",
       "\t27 & 187 & CORONEL BICACO      & 18904.82 & 242475.6\\\\\n",
       "\t12 & 248 & AMARAL FERRADOR     &  9216.87 & 235327.0\\\\\n",
       "\t18 & 140 & TAPES               & 14056.88 & 230055.0\\\\\n",
       "\\end{tabular}\n"
      ],
      "text/markdown": [
       "\n",
       "A data.frame: 10 × 4\n",
       "\n",
       "| <!--/--> | CODIGO &lt;int&gt; | MUNICIPIO &lt;fct&gt; | PIB &lt;dbl&gt; | VALOREMPENHO &lt;dbl&gt; |\n",
       "|---|---|---|---|---|\n",
       "| 7 |  95 | PIRATINI            | 10811.67 | 315884.5 |\n",
       "| 21 |  79 | MOSTARDAS           | 19565.25 | 284378.2 |\n",
       "| 92 | 356 | GARRUCHOS           | 17206.19 | 271841.3 |\n",
       "| 13 | 297 | PARAISO DO SUL      | 13170.25 | 270262.0 |\n",
       "| 14 | 125 | SAO LOURENCO DO SUL | 12674.70 | 251561.4 |\n",
       "| 26 | 156 | VERA CRUZ           | 18417.96 | 246387.0 |\n",
       "| 29 | 154 | VACARIA             | 20448.38 | 245264.5 |\n",
       "| 27 | 187 | CORONEL BICACO      | 18904.82 | 242475.6 |\n",
       "| 12 | 248 | AMARAL FERRADOR     |  9216.87 | 235327.0 |\n",
       "| 18 | 140 | TAPES               | 14056.88 | 230055.0 |\n",
       "\n"
      ],
      "text/plain": [
       "   CODIGO MUNICIPIO           PIB      VALOREMPENHO\n",
       "7   95    PIRATINI            10811.67 315884.5    \n",
       "21  79    MOSTARDAS           19565.25 284378.2    \n",
       "92 356    GARRUCHOS           17206.19 271841.3    \n",
       "13 297    PARAISO DO SUL      13170.25 270262.0    \n",
       "14 125    SAO LOURENCO DO SUL 12674.70 251561.4    \n",
       "26 156    VERA CRUZ           18417.96 246387.0    \n",
       "29 154    VACARIA             20448.38 245264.5    \n",
       "27 187    CORONEL BICACO      18904.82 242475.6    \n",
       "12 248    AMARAL FERRADOR      9216.87 235327.0    \n",
       "18 140    TAPES               14056.88 230055.0    "
      ]
     },
     "metadata": {},
     "output_type": "display_data"
    },
    {
     "data": {
      "text/html": [
       "<table class=\"dataframe\">\n",
       "<caption>A data.frame: 10 × 4</caption>\n",
       "<thead>\n",
       "\t<tr><th></th><th scope=col>CODIGO</th><th scope=col>MUNICIPIO</th><th scope=col>PIB</th><th scope=col>VALOREMPENHO</th></tr>\n",
       "\t<tr><th></th><th scope=col>&lt;int&gt;</th><th scope=col>&lt;fct&gt;</th><th scope=col>&lt;dbl&gt;</th><th scope=col>&lt;dbl&gt;</th></tr>\n",
       "</thead>\n",
       "<tbody>\n",
       "\t<tr><th scope=row>146</th><td>276</td><td>GLORINHA              </td><td>33730.13</td><td> 74325.48</td></tr>\n",
       "\t<tr><th scope=row>170</th><td>329</td><td>VILA MARIA            </td><td>31104.22</td><td> 28149.89</td></tr>\n",
       "\t<tr><th scope=row>176</th><td> 96</td><td>PORTO ALEGRE          </td><td>30524.80</td><td>  9358.33</td></tr>\n",
       "\t<tr><th scope=row>107</th><td>273</td><td>EUGENIO DE CASTRO     </td><td>30468.92</td><td>105023.36</td></tr>\n",
       "\t<tr><th scope=row>184</th><td>107</td><td>SANTA BARBARA DO SUL  </td><td>29654.02</td><td>   365.00</td></tr>\n",
       "\t<tr><th scope=row>120</th><td>352</td><td>COXILHA               </td><td>29446.80</td><td> 87241.91</td></tr>\n",
       "\t<tr><th scope=row>161</th><td>295</td><td>NOVA ROMA DO SUL      </td><td>29148.60</td><td> 43757.70</td></tr>\n",
       "\t<tr><th scope=row>151</th><td>211</td><td>PEJUCARA              </td><td>29005.14</td><td> 59830.97</td></tr>\n",
       "\t<tr><th scope=row>137</th><td>155</td><td>VENANCIO AIRES        </td><td>27673.59</td><td> 66953.86</td></tr>\n",
       "\t<tr><th scope=row>80</th><td>315</td><td>SAO MIGUEL DAS MISSOES</td><td>27604.10</td><td>143096.57</td></tr>\n",
       "</tbody>\n",
       "</table>\n"
      ],
      "text/latex": [
       "A data.frame: 10 × 4\n",
       "\\begin{tabular}{r|llll}\n",
       "  & CODIGO & MUNICIPIO & PIB & VALOREMPENHO\\\\\n",
       "  & <int> & <fct> & <dbl> & <dbl>\\\\\n",
       "\\hline\n",
       "\t146 & 276 & GLORINHA               & 33730.13 &  74325.48\\\\\n",
       "\t170 & 329 & VILA MARIA             & 31104.22 &  28149.89\\\\\n",
       "\t176 &  96 & PORTO ALEGRE           & 30524.80 &   9358.33\\\\\n",
       "\t107 & 273 & EUGENIO DE CASTRO      & 30468.92 & 105023.36\\\\\n",
       "\t184 & 107 & SANTA BARBARA DO SUL   & 29654.02 &    365.00\\\\\n",
       "\t120 & 352 & COXILHA                & 29446.80 &  87241.91\\\\\n",
       "\t161 & 295 & NOVA ROMA DO SUL       & 29148.60 &  43757.70\\\\\n",
       "\t151 & 211 & PEJUCARA               & 29005.14 &  59830.97\\\\\n",
       "\t137 & 155 & VENANCIO AIRES         & 27673.59 &  66953.86\\\\\n",
       "\t80 & 315 & SAO MIGUEL DAS MISSOES & 27604.10 & 143096.57\\\\\n",
       "\\end{tabular}\n"
      ],
      "text/markdown": [
       "\n",
       "A data.frame: 10 × 4\n",
       "\n",
       "| <!--/--> | CODIGO &lt;int&gt; | MUNICIPIO &lt;fct&gt; | PIB &lt;dbl&gt; | VALOREMPENHO &lt;dbl&gt; |\n",
       "|---|---|---|---|---|\n",
       "| 146 | 276 | GLORINHA               | 33730.13 |  74325.48 |\n",
       "| 170 | 329 | VILA MARIA             | 31104.22 |  28149.89 |\n",
       "| 176 |  96 | PORTO ALEGRE           | 30524.80 |   9358.33 |\n",
       "| 107 | 273 | EUGENIO DE CASTRO      | 30468.92 | 105023.36 |\n",
       "| 184 | 107 | SANTA BARBARA DO SUL   | 29654.02 |    365.00 |\n",
       "| 120 | 352 | COXILHA                | 29446.80 |  87241.91 |\n",
       "| 161 | 295 | NOVA ROMA DO SUL       | 29148.60 |  43757.70 |\n",
       "| 151 | 211 | PEJUCARA               | 29005.14 |  59830.97 |\n",
       "| 137 | 155 | VENANCIO AIRES         | 27673.59 |  66953.86 |\n",
       "| 80 | 315 | SAO MIGUEL DAS MISSOES | 27604.10 | 143096.57 |\n",
       "\n"
      ],
      "text/plain": [
       "    CODIGO MUNICIPIO              PIB      VALOREMPENHO\n",
       "146 276    GLORINHA               33730.13  74325.48   \n",
       "170 329    VILA MARIA             31104.22  28149.89   \n",
       "176  96    PORTO ALEGRE           30524.80   9358.33   \n",
       "107 273    EUGENIO DE CASTRO      30468.92 105023.36   \n",
       "184 107    SANTA BARBARA DO SUL   29654.02    365.00   \n",
       "120 352    COXILHA                29446.80  87241.91   \n",
       "161 295    NOVA ROMA DO SUL       29148.60  43757.70   \n",
       "151 211    PEJUCARA               29005.14  59830.97   \n",
       "137 155    VENANCIO AIRES         27673.59  66953.86   \n",
       "80  315    SAO MIGUEL DAS MISSOES 27604.10 143096.57   "
      ]
     },
     "metadata": {},
     "output_type": "display_data"
    }
   ],
   "source": [
    "maior_empenho = head(data[order(-data$VALOREMPENHO), ], 10)\n",
    "maior_empenho\n",
    "maior_pib = head(data[order(-data$PIB), ], 10)\n",
    "maior_pib"
   ]
  },
  {
   "cell_type": "code",
   "execution_count": 142,
   "metadata": {
    "vscode": {
     "languageId": "r"
    }
   },
   "outputs": [
    {
     "data": {
      "image/png": "[encoded data removed]",
      "text/plain": [
       "Plot with title \"Maiores Empenhos\""
      ]
     },
     "metadata": {
      "image/png": {
       "height": 420,
       "width": 420
      }
     },
     "output_type": "display_data"
    }
   ],
   "source": [
    "barplot(maior_empenho$VALOREMPENHO, col=brewer.pal(n=10, name='RdBu'), las=2, main='Maiores Empenhos')\n",
    "legend('topright', legend=maior_empenho$MUNICIPIO, col=brewer.pal(n=10, name='RdBu'), lty=1:2, cex=0.6, ncol=2, lwd=4)\n",
    "box()"
   ]
  },
  {
   "cell_type": "code",
   "execution_count": 143,
   "metadata": {
    "vscode": {
     "languageId": "r"
    }
   },
   "outputs": [
    {
     "data": {
      "image/png": "[encoded data removed]",
      "text/plain": [
       "Plot with title \"Maiores PIBs\""
      ]
     },
     "metadata": {
      "image/png": {
       "height": 420,
       "width": 420
      }
     },
     "output_type": "display_data"
    }
   ],
   "source": [
    "barplot(maior_pib$PIB, main='Maiores PIBs', col=brewer.pal(n=10, name='Spectral'), las=2)\n",
    "legend('topright', legend=maior_pib$MUNICIPIO, col=brewer.pal(n=10, name='Spectral'), lty=2, cex=0.4, ncol=2, lwd=4)\n",
    "box()"
   ]
  },
  {
   "cell_type": "markdown",
   "metadata": {},
   "source": [
    "# Maiores Empenhos X Maiores PIBs"
   ]
  },
  {
   "cell_type": "code",
   "execution_count": 144,
   "metadata": {
    "vscode": {
     "languageId": "r"
    }
   },
   "outputs": [
    {
     "data": {
      "text/html": [
       "<table class=\"dataframe\">\n",
       "<caption>A data.frame: 10 × 5</caption>\n",
       "<thead>\n",
       "\t<tr><th></th><th scope=col>CODIGO</th><th scope=col>MUNICIPIO</th><th scope=col>PIB</th><th scope=col>VALOREMPENHO</th><th scope=col>PROPORCAO</th></tr>\n",
       "\t<tr><th></th><th scope=col>&lt;int&gt;</th><th scope=col>&lt;fct&gt;</th><th scope=col>&lt;dbl&gt;</th><th scope=col>&lt;dbl&gt;</th><th scope=col>&lt;dbl&gt;</th></tr>\n",
       "</thead>\n",
       "<tbody>\n",
       "\t<tr><th scope=row>7</th><td> 95</td><td>PIRATINI               </td><td>10811.67</td><td>315884.5</td><td>29.21699</td></tr>\n",
       "\t<tr><th scope=row>12</th><td>248</td><td>AMARAL FERRADOR        </td><td> 9216.87</td><td>235327.0</td><td>25.53221</td></tr>\n",
       "\t<tr><th scope=row>13</th><td>297</td><td>PARAISO DO SUL         </td><td>13170.25</td><td>270262.0</td><td>20.52065</td></tr>\n",
       "\t<tr><th scope=row>14</th><td>125</td><td>SAO LOURENCO DO SUL    </td><td>12674.70</td><td>251561.4</td><td>19.84752</td></tr>\n",
       "\t<tr><th scope=row>16</th><td> 38</td><td>ENCRUZILHADA DO SUL    </td><td>10372.80</td><td>200738.6</td><td>19.35240</td></tr>\n",
       "\t<tr><th scope=row>17</th><td> 23</td><td>CANGUCU                </td><td>11213.34</td><td>205741.6</td><td>18.34794</td></tr>\n",
       "\t<tr><th scope=row>19</th><td>259</td><td>CERRO BRANCO           </td><td>11961.10</td><td>208240.5</td><td>17.40981</td></tr>\n",
       "\t<tr><th scope=row>20</th><td>259</td><td>MONTE ALEGRE DOS CAMPOS</td><td>11961.10</td><td>208240.5</td><td>17.40981</td></tr>\n",
       "\t<tr><th scope=row>22</th><td>259</td><td>CERRO BRANCO           </td><td>12467.25</td><td>208240.5</td><td>16.70300</td></tr>\n",
       "\t<tr><th scope=row>23</th><td>259</td><td>MONTE ALEGRE DOS CAMPOS</td><td>12467.25</td><td>208240.5</td><td>16.70300</td></tr>\n",
       "</tbody>\n",
       "</table>\n"
      ],
      "text/latex": [
       "A data.frame: 10 × 5\n",
       "\\begin{tabular}{r|lllll}\n",
       "  & CODIGO & MUNICIPIO & PIB & VALOREMPENHO & PROPORCAO\\\\\n",
       "  & <int> & <fct> & <dbl> & <dbl> & <dbl>\\\\\n",
       "\\hline\n",
       "\t7 &  95 & PIRATINI                & 10811.67 & 315884.5 & 29.21699\\\\\n",
       "\t12 & 248 & AMARAL FERRADOR         &  9216.87 & 235327.0 & 25.53221\\\\\n",
       "\t13 & 297 & PARAISO DO SUL          & 13170.25 & 270262.0 & 20.52065\\\\\n",
       "\t14 & 125 & SAO LOURENCO DO SUL     & 12674.70 & 251561.4 & 19.84752\\\\\n",
       "\t16 &  38 & ENCRUZILHADA DO SUL     & 10372.80 & 200738.6 & 19.35240\\\\\n",
       "\t17 &  23 & CANGUCU                 & 11213.34 & 205741.6 & 18.34794\\\\\n",
       "\t19 & 259 & CERRO BRANCO            & 11961.10 & 208240.5 & 17.40981\\\\\n",
       "\t20 & 259 & MONTE ALEGRE DOS CAMPOS & 11961.10 & 208240.5 & 17.40981\\\\\n",
       "\t22 & 259 & CERRO BRANCO            & 12467.25 & 208240.5 & 16.70300\\\\\n",
       "\t23 & 259 & MONTE ALEGRE DOS CAMPOS & 12467.25 & 208240.5 & 16.70300\\\\\n",
       "\\end{tabular}\n"
      ],
      "text/markdown": [
       "\n",
       "A data.frame: 10 × 5\n",
       "\n",
       "| <!--/--> | CODIGO &lt;int&gt; | MUNICIPIO &lt;fct&gt; | PIB &lt;dbl&gt; | VALOREMPENHO &lt;dbl&gt; | PROPORCAO &lt;dbl&gt; |\n",
       "|---|---|---|---|---|---|\n",
       "| 7 |  95 | PIRATINI                | 10811.67 | 315884.5 | 29.21699 |\n",
       "| 12 | 248 | AMARAL FERRADOR         |  9216.87 | 235327.0 | 25.53221 |\n",
       "| 13 | 297 | PARAISO DO SUL          | 13170.25 | 270262.0 | 20.52065 |\n",
       "| 14 | 125 | SAO LOURENCO DO SUL     | 12674.70 | 251561.4 | 19.84752 |\n",
       "| 16 |  38 | ENCRUZILHADA DO SUL     | 10372.80 | 200738.6 | 19.35240 |\n",
       "| 17 |  23 | CANGUCU                 | 11213.34 | 205741.6 | 18.34794 |\n",
       "| 19 | 259 | CERRO BRANCO            | 11961.10 | 208240.5 | 17.40981 |\n",
       "| 20 | 259 | MONTE ALEGRE DOS CAMPOS | 11961.10 | 208240.5 | 17.40981 |\n",
       "| 22 | 259 | CERRO BRANCO            | 12467.25 | 208240.5 | 16.70300 |\n",
       "| 23 | 259 | MONTE ALEGRE DOS CAMPOS | 12467.25 | 208240.5 | 16.70300 |\n",
       "\n"
      ],
      "text/plain": [
       "   CODIGO MUNICIPIO               PIB      VALOREMPENHO PROPORCAO\n",
       "7   95    PIRATINI                10811.67 315884.5     29.21699 \n",
       "12 248    AMARAL FERRADOR          9216.87 235327.0     25.53221 \n",
       "13 297    PARAISO DO SUL          13170.25 270262.0     20.52065 \n",
       "14 125    SAO LOURENCO DO SUL     12674.70 251561.4     19.84752 \n",
       "16  38    ENCRUZILHADA DO SUL     10372.80 200738.6     19.35240 \n",
       "17  23    CANGUCU                 11213.34 205741.6     18.34794 \n",
       "19 259    CERRO BRANCO            11961.10 208240.5     17.40981 \n",
       "20 259    MONTE ALEGRE DOS CAMPOS 11961.10 208240.5     17.40981 \n",
       "22 259    CERRO BRANCO            12467.25 208240.5     16.70300 \n",
       "23 259    MONTE ALEGRE DOS CAMPOS 12467.25 208240.5     16.70300 "
      ]
     },
     "metadata": {},
     "output_type": "display_data"
    }
   ],
   "source": [
    "data$PROPORCAO = data$VALOREMPENHO / data$PIB\n",
    "maior_proporcao = head(data[order(-data$PROPORCAO), ], 10)\n",
    "maior_proporcao"
   ]
  },
  {
   "cell_type": "code",
   "execution_count": 145,
   "metadata": {
    "vscode": {
     "languageId": "r"
    }
   },
   "outputs": [
    {
     "data": {
      "image/png": "[encoded data removed]",
      "text/plain": [
       "Plot with title \"Maiores gastos em proporção ao PIB\""
      ]
     },
     "metadata": {
      "image/png": {
       "height": 420,
       "width": 420
      }
     },
     "output_type": "display_data"
    }
   ],
   "source": [
    "barplot(maior_proporcao$PROPORCAO, col=brewer.pal(n=10, name='Spectral'), las=2, main='Maiores gastos em proporção ao PIB')\n",
    "legend('topright', legend=maior_proporcao$MUNICIPIO, col=brewer.pal(n=10, name='Spectral'), lty=1:2, cex=0.7, ncol=2, lwd=4)\n",
    "box()"
   ]
  },
  {
   "cell_type": "markdown",
   "metadata": {},
   "source": [
    "# Dashboard"
   ]
  },
  {
   "cell_type": "code",
   "execution_count": 146,
   "metadata": {
    "vscode": {
     "languageId": "r"
    }
   },
   "outputs": [
    {
     "data": {
      "text/html": [
       "<style>\n",
       ".list-inline {list-style: none; margin:0; padding: 0}\n",
       ".list-inline>li {display: inline-block}\n",
       ".list-inline>li:not(:last-child)::after {content: \"\\00b7\"; padding: 0 .5ex}\n",
       "</style>\n",
       "<ol class=list-inline><li>1</li><li>2</li><li>3</li></ol>\n"
      ],
      "text/latex": [
       "\\begin{enumerate*}\n",
       "\\item 1\n",
       "\\item 2\n",
       "\\item 3\n",
       "\\end{enumerate*}\n"
      ],
      "text/markdown": [
       "1. 1\n",
       "2. 2\n",
       "3. 3\n",
       "\n",
       "\n"
      ],
      "text/plain": [
       "[1] 1 2 3"
      ]
     },
     "metadata": {},
     "output_type": "display_data"
    },
    {
     "data": {
      "image/png": "[encoded data removed]",
      "text/plain": [
       "Plot with title \"Maiores gastos em proporção ao PIB\""
      ]
     },
     "metadata": {
      "image/png": {
       "height": 420,
       "width": 420
      }
     },
     "output_type": "display_data"
    }
   ],
   "source": [
    "split.screen(figs=c(1, 3))\n",
    "screen(1)\n",
    "barplot(maior_empenho$VALOREMPENHO, col=brewer.pal(n=10, name='RdBu'), las=2, main='Maiores Empenhos')\n",
    "legend('topright', legend=maior_empenho$MUNICIPIO, col=brewer.pal(n=10, name='RdBu'), lty=1:2, cex=0.6, ncol=2, lwd=4)\n",
    "box()\n",
    "screen(2)\n",
    "barplot(maior_pib$PIB, main='Maiores PIBs', col=brewer.pal(n=10, name='Spectral'), las=2)\n",
    "legend('topright', legend=maior_pib$MUNICIPIO, col=brewer.pal(n=10, name='Spectral'), lty=2, cex=0.4, ncol=2, lwd=4)\n",
    "box()\n",
    "screen(3)\n",
    "barplot(maior_proporcao$PROPORCAO, col=brewer.pal(n=10, name='Spectral'), las=2, main='Maiores gastos em proporção ao PIB')\n",
    "legend('topright', legend=maior_proporcao$MUNICIPIO, col=brewer.pal(n=10, name='Spectral'), lty=1:2, cex=0.7, ncol=2, lwd=4)\n",
    "box()\n",
    "close.screen(all=T)"
   ]
  }
 ],
 "metadata": {
  "kernelspec": {
   "display_name": "R",
   "language": "R",
   "name": "ir"
  },
  "language_info": {
   "codemirror_mode": "r",
   "file_extension": ".r",
   "mimetype": "text/x-r-source",
   "name": "R",
   "pygments_lexer": "r",
   "version": "4.3.2"
  }
 },
 "nbformat": 4,
 "nbformat_minor": 2
}
