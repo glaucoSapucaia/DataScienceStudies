{
 "cells": [
  {
   "cell_type": "markdown",
   "metadata": {
    "vscode": {
     "languageId": "r"
    }
   },
   "source": [
    "# Packages\n",
    "- install.packages('mongolite')"
   ]
  },
  {
   "cell_type": "code",
   "execution_count": 21,
   "metadata": {
    "vscode": {
     "languageId": "r"
    }
   },
   "outputs": [],
   "source": [
    "library(mongolite)"
   ]
  },
  {
   "cell_type": "markdown",
   "metadata": {},
   "source": [
    "Criando conexão"
   ]
  },
  {
   "cell_type": "code",
   "execution_count": 22,
   "metadata": {
    "vscode": {
     "languageId": "r"
    }
   },
   "outputs": [],
   "source": [
    "conexao = mongo(\n",
    "    collection = 'estudantes', db = 'escola', url = 'mongodb://localhost'\n",
    ")"
   ]
  },
  {
   "cell_type": "markdown",
   "metadata": {},
   "source": [
    "Dados"
   ]
  },
  {
   "cell_type": "code",
   "execution_count": 23,
   "metadata": {
    "vscode": {
     "languageId": "r"
    }
   },
   "outputs": [
    {
     "data": {
      "text/html": [
       "'data.frame'"
      ],
      "text/latex": [
       "'data.frame'"
      ],
      "text/markdown": [
       "'data.frame'"
      ],
      "text/plain": [
       "[1] \"data.frame\""
      ]
     },
     "metadata": {},
     "output_type": "display_data"
    },
    {
     "data": {
      "text/html": [
       "<table class=\"dataframe\">\n",
       "<caption>A data.frame: 200 × 2</caption>\n",
       "<thead>\n",
       "\t<tr><th></th><th scope=col>name</th><th scope=col>scores</th></tr>\n",
       "\t<tr><th></th><th scope=col>&lt;chr&gt;</th><th scope=col>&lt;list&gt;</th></tr>\n",
       "</thead>\n",
       "<tbody>\n",
       "\t<tr><th scope=row>1</th><td>Tambra Mercure     </td><td>69.1565022533158, 3.31179442200072, 45.0317897364252, exam            , quiz            , homework        </td></tr>\n",
       "\t<tr><th scope=row>2</th><td>Alix Sherrill      </td><td>25.1592415199821, 68.644840476921 , 24.6846215268676, exam            , quiz            , homework        </td></tr>\n",
       "\t<tr><th scope=row>3</th><td>aimee Zank         </td><td>1.46317973670502, 11.7827330995777, 35.8740349954354, exam            , quiz            , homework        </td></tr>\n",
       "\t<tr><th scope=row>4</th><td>Corliss Zuk        </td><td>67.03077096065  , 6.30185167783524, 66.2834468327838, exam            , quiz            , homework        </td></tr>\n",
       "\t<tr><th scope=row>5</th><td>Aurelia Menendez   </td><td>60.0604507103096, 52.7979069190387, 71.7613343916554, exam            , quiz            , homework        </td></tr>\n",
       "\t<tr><th scope=row>6</th><td>Dodie Staller      </td><td>7.77238644285828, 31.8430023510454, 80.5213640798919, exam            , quiz            , homework        </td></tr>\n",
       "\t<tr><th scope=row>7</th><td>Verdell Sowinski   </td><td>62.1287023310904, 84.7458622088936, 81.5894782493257, exam            , quiz            , homework        </td></tr>\n",
       "\t<tr><th scope=row>8</th><td>Fletcher Mcconnell </td><td>39.4101106972927, 81.1327030780992, 97.7011664040292, exam            , quiz            , homework        </td></tr>\n",
       "\t<tr><th scope=row>9</th><td>Tressa Schwing     </td><td>42.1743979951439, 71.9931484059956, 81.2397263206946, exam            , quiz            , homework        </td></tr>\n",
       "\t<tr><th scope=row>10</th><td>Gisela Levin       </td><td>44.5121110195883, 0.6578497966368 , 93.3634165594968, exam            , quiz            , homework        </td></tr>\n",
       "\t<tr><th scope=row>11</th><td>Rosana Vales       </td><td>46.2289476258328, 98.3416422520704, 36.1876974680594, exam            , quiz            , homework        </td></tr>\n",
       "\t<tr><th scope=row>12</th><td>Margart Vitello    </td><td>75.0499654755395, 10.2304647589924, 96.7252051211776, exam            , quiz            , homework        </td></tr>\n",
       "\t<tr><th scope=row>13</th><td>Jesusa Rickenbacker</td><td>86.0319702155683, 1.96749520043339, 61.1086107154791, exam            , quiz            , homework        </td></tr>\n",
       "\t<tr><th scope=row>14</th><td>Tamika Schildgen   </td><td>45.6543276412553, 64.3292704965885, 83.5393335166056, exam            , quiz            , homework        </td></tr>\n",
       "\t<tr><th scope=row>15</th><td>Jonie Raby         </td><td>19.1786119257696, 76.3890359749654, 44.39605672647  , exam            , quiz            , homework        </td></tr>\n",
       "\t<tr><th scope=row>16</th><td>Rudolph Domingo    </td><td>74.7528933559154, 38.5413647805495, 35.2554340953413, exam            , quiz            , homework        </td></tr>\n",
       "\t<tr><th scope=row>17</th><td>Edgar Sarkis       </td><td>8.60698326104389, 58.7118046420372, 15.3372621059651, exam            , quiz            , homework        </td></tr>\n",
       "\t<tr><th scope=row>18</th><td>Laureen Salomone   </td><td>3.67756527899246, 7.11946259922999, 82.8730892261743, exam            , quiz            , homework        </td></tr>\n",
       "\t<tr><th scope=row>19</th><td>Kaila Deibler      </td><td>15.8977119966245, 56.9396518341218, 66.6449329506632, exam            , quiz            , homework        </td></tr>\n",
       "\t<tr><th scope=row>20</th><td>Gwyneth Garling    </td><td>48.3664496389937, 10.3782702286591, 93.2663933553283, exam            , quiz            , homework        </td></tr>\n",
       "\t<tr><th scope=row>21</th><td>Tandra Meadows     </td><td>24.9013814600174, 28.8266541837344, 97.1683155066572, exam            , quiz            , homework        </td></tr>\n",
       "\t<tr><th scope=row>22</th><td>Marcus Blohm       </td><td>78.4261783565187, 82.5837281793067, 87.4992473332872, exam            , quiz            , homework        </td></tr>\n",
       "\t<tr><th scope=row>23</th><td>Wilburn Spiess     </td><td>44.8718633018126, 25.7239511466802, 63.4228831062866, exam            , quiz            , homework        </td></tr>\n",
       "\t<tr><th scope=row>24</th><td>Quincy Danaher     </td><td>54.2984127852067, 85.6127016469474, 80.4073235611807, exam            , quiz            , homework        </td></tr>\n",
       "\t<tr><th scope=row>25</th><td>Daphne Zheng       </td><td>22.1358371286263, 14.6396994133507, 75.9412367755664, exam            , quiz            , homework        </td></tr>\n",
       "\t<tr><th scope=row>26</th><td>Gwen Honig         </td><td>87.143453768862 , 99.4582444113563, 76.6646045421934, exam            , quiz            , homework        </td></tr>\n",
       "\t<tr><th scope=row>27</th><td>Bao Ziglar         </td><td>71.6434389977833, 24.8022129365031, 42.2614705880481, exam            , quiz            , homework        </td></tr>\n",
       "\t<tr><th scope=row>28</th><td>Sanda Ryba         </td><td>97.0050995365469, 97.8044963253892, 25.2736853243295, exam            , quiz            , homework        </td></tr>\n",
       "\t<tr><th scope=row>29</th><td>Jenette Flanders   </td><td>37.322854591661 , 28.3263497691374, 81.5711531868634, exam            , quiz            , homework        </td></tr>\n",
       "\t<tr><th scope=row>30</th><td>Zachary Langlais   </td><td>78.6838509130433, 90.2963101368042, 34.4162014804253, exam            , quiz            , homework        </td></tr>\n",
       "\t<tr><th scope=row>⋮</th><td>⋮</td><td>⋮</td></tr>\n",
       "\t<tr><th scope=row>171</th><td>Joel Rueter      </td><td>21.7898136163783, 1.18222834586583, 43.7084397573934, exam            , quiz            , homework        </td></tr>\n",
       "\t<tr><th scope=row>172</th><td>Gwen Honig       </td><td>35.9964638291084, 74.4632350753457, 90.9559042200278, exam            , quiz            , homework        </td></tr>\n",
       "\t<tr><th scope=row>173</th><td>Joaquina Arbuckle</td><td>35.4356236881514, 89.7464098314501, 99.1386868684883, exam            , quiz            , homework        </td></tr>\n",
       "\t<tr><th scope=row>174</th><td>Carli Belvins    </td><td>84.4361816750119, 1.70211304052812, 88.4803266088139, exam            , quiz            , homework        </td></tr>\n",
       "\t<tr><th scope=row>175</th><td>Synthia Labelle  </td><td>11.0631264927167, 89.2746270656415, 41.1722010153017, exam            , quiz            , homework        </td></tr>\n",
       "\t<tr><th scope=row>176</th><td>Sadie Jernigan   </td><td>6.14281392478545, 44.941020137713 , 89.9440797540137, exam            , quiz            , homework        </td></tr>\n",
       "\t<tr><th scope=row>177</th><td>Vina Matsunaga   </td><td>73.3005498907403, 4.21754550016783, 56.3115085855077, exam            , quiz            , homework        </td></tr>\n",
       "\t<tr><th scope=row>178</th><td>Rubie Winton     </td><td>36.1767454709986, 89.3973812136507, 90.8332620821731, exam            , quiz            , homework        </td></tr>\n",
       "\t<tr><th scope=row>179</th><td>Gena Riccio      </td><td>81.4907034617209, 23.1265340299814, 96.5459096089893, exam            , quiz            , homework        </td></tr>\n",
       "\t<tr><th scope=row>180</th><td>Whitley Fears    </td><td>20.8445437417641, 57.148512578715 , 99.7723774507099, exam            , quiz            , homework        </td></tr>\n",
       "\t<tr><th scope=row>181</th><td>Kim Xu           </td><td>29.1596029917098, 74.4183627065592, 56.6496551470373, exam            , quiz            , homework        </td></tr>\n",
       "\t<tr><th scope=row>182</th><td>Leonida Lafond   </td><td>8.12507309796018 , 0.201788885260568, 90.1308185726454 , exam             , quiz             , homework         </td></tr>\n",
       "\t<tr><th scope=row>183</th><td>Tonia Surace     </td><td>67.9340558967519, 31.4972111648594, 82.3649590804798, exam            , quiz            , homework        </td></tr>\n",
       "\t<tr><th scope=row>184</th><td>Len Treiber      </td><td>39.1983291740652, 98.7167925289935, 44.8228929481132, exam            , quiz            , homework        </td></tr>\n",
       "\t<tr><th scope=row>185</th><td>Jenise Mcguffie  </td><td>83.6843820113013, 73.7993176376493, 89.5720094742674, exam            , quiz            , homework        </td></tr>\n",
       "\t<tr><th scope=row>186</th><td>Kam Senters      </td><td>49.8822537074033, 45.2951536138707, 68.880489802928 , exam            , quiz            , homework        </td></tr>\n",
       "\t<tr><th scope=row>187</th><td>Efrain Claw      </td><td>94.6715382522988, 82.300879321106 , 75.8607584004794, exam            , quiz            , homework        </td></tr>\n",
       "\t<tr><th scope=row>188</th><td>Mariela Sherer   </td><td>47.671967154896 , 41.5574349049395, 70.4612811769744, exam            , quiz            , homework        </td></tr>\n",
       "\t<tr><th scope=row>189</th><td>Timothy Harrod   </td><td>11.9075674046519, 20.5187996177702, 64.8565035499037, exam            , quiz            , homework        </td></tr>\n",
       "\t<tr><th scope=row>190</th><td>Linnie Weigel    </td><td>52.4457836851798, 90.7775054046383, 11.7500838291303, exam            , quiz            , homework        </td></tr>\n",
       "\t<tr><th scope=row>191</th><td>Devorah Smartt   </td><td>23.9461661131564, 13.2737111606302, 63.1728112156175, exam            , quiz            , homework        </td></tr>\n",
       "\t<tr><th scope=row>192</th><td>Echo Pippins     </td><td>18.0901369150785, 35.0030696725041, 80.1796515431673, exam            , quiz            , homework        </td></tr>\n",
       "\t<tr><th scope=row>193</th><td>Tonisha Games    </td><td>38.5126958999505, 31.162875772317 , 79.15856355963  , exam            , quiz            , homework        </td></tr>\n",
       "\t<tr><th scope=row>194</th><td>Merissa Mann     </td><td>0.730027971743297, 39.4917059290813 , 60.4961933448581 , exam             , quiz             , homework         </td></tr>\n",
       "\t<tr><th scope=row>195</th><td>Leola Lundin     </td><td>60.314725741828 , 41.1232747181865, 74.8699176311771, exam            , quiz            , homework        </td></tr>\n",
       "\t<tr><th scope=row>196</th><td>Santiago Dollins </td><td>52.0405257113704, 33.633000764817 , 78.7925737760443, exam            , quiz            , homework        </td></tr>\n",
       "\t<tr><th scope=row>197</th><td>Adrien Renda     </td><td>64.1610919267948, 66.9373060093553, 96.0560340227047, exam            , quiz            , homework        </td></tr>\n",
       "\t<tr><th scope=row>198</th><td>Rae Kohout       </td><td>82.1174256211805, 49.6129545092822, 28.8682368984292, exam            , quiz            , homework        </td></tr>\n",
       "\t<tr><th scope=row>199</th><td>Cody Strouth     </td><td>32.9985461212656, 78.6172031699268, 89.6284756045947, exam            , quiz            , homework        </td></tr>\n",
       "\t<tr><th scope=row>200</th><td>Harriett Velarde </td><td>41.4798828314808, 95.6949367335807, 83.0391604818231, exam            , quiz            , homework        </td></tr>\n",
       "</tbody>\n",
       "</table>\n"
      ],
      "text/latex": [
       "A data.frame: 200 × 2\n",
       "\\begin{tabular}{r|ll}\n",
       "  & name & scores\\\\\n",
       "  & <chr> & <list>\\\\\n",
       "\\hline\n",
       "\t1 & Tambra Mercure      & 69.1565022533158, 3.31179442200072, 45.0317897364252, exam            , quiz            , homework        \\\\\n",
       "\t2 & Alix Sherrill       & 25.1592415199821, 68.644840476921 , 24.6846215268676, exam            , quiz            , homework        \\\\\n",
       "\t3 & aimee Zank          & 1.46317973670502, 11.7827330995777, 35.8740349954354, exam            , quiz            , homework        \\\\\n",
       "\t4 & Corliss Zuk         & 67.03077096065  , 6.30185167783524, 66.2834468327838, exam            , quiz            , homework        \\\\\n",
       "\t5 & Aurelia Menendez    & 60.0604507103096, 52.7979069190387, 71.7613343916554, exam            , quiz            , homework        \\\\\n",
       "\t6 & Dodie Staller       & 7.77238644285828, 31.8430023510454, 80.5213640798919, exam            , quiz            , homework        \\\\\n",
       "\t7 & Verdell Sowinski    & 62.1287023310904, 84.7458622088936, 81.5894782493257, exam            , quiz            , homework        \\\\\n",
       "\t8 & Fletcher Mcconnell  & 39.4101106972927, 81.1327030780992, 97.7011664040292, exam            , quiz            , homework        \\\\\n",
       "\t9 & Tressa Schwing      & 42.1743979951439, 71.9931484059956, 81.2397263206946, exam            , quiz            , homework        \\\\\n",
       "\t10 & Gisela Levin        & 44.5121110195883, 0.6578497966368 , 93.3634165594968, exam            , quiz            , homework        \\\\\n",
       "\t11 & Rosana Vales        & 46.2289476258328, 98.3416422520704, 36.1876974680594, exam            , quiz            , homework        \\\\\n",
       "\t12 & Margart Vitello     & 75.0499654755395, 10.2304647589924, 96.7252051211776, exam            , quiz            , homework        \\\\\n",
       "\t13 & Jesusa Rickenbacker & 86.0319702155683, 1.96749520043339, 61.1086107154791, exam            , quiz            , homework        \\\\\n",
       "\t14 & Tamika Schildgen    & 45.6543276412553, 64.3292704965885, 83.5393335166056, exam            , quiz            , homework        \\\\\n",
       "\t15 & Jonie Raby          & 19.1786119257696, 76.3890359749654, 44.39605672647  , exam            , quiz            , homework        \\\\\n",
       "\t16 & Rudolph Domingo     & 74.7528933559154, 38.5413647805495, 35.2554340953413, exam            , quiz            , homework        \\\\\n",
       "\t17 & Edgar Sarkis        & 8.60698326104389, 58.7118046420372, 15.3372621059651, exam            , quiz            , homework        \\\\\n",
       "\t18 & Laureen Salomone    & 3.67756527899246, 7.11946259922999, 82.8730892261743, exam            , quiz            , homework        \\\\\n",
       "\t19 & Kaila Deibler       & 15.8977119966245, 56.9396518341218, 66.6449329506632, exam            , quiz            , homework        \\\\\n",
       "\t20 & Gwyneth Garling     & 48.3664496389937, 10.3782702286591, 93.2663933553283, exam            , quiz            , homework        \\\\\n",
       "\t21 & Tandra Meadows      & 24.9013814600174, 28.8266541837344, 97.1683155066572, exam            , quiz            , homework        \\\\\n",
       "\t22 & Marcus Blohm        & 78.4261783565187, 82.5837281793067, 87.4992473332872, exam            , quiz            , homework        \\\\\n",
       "\t23 & Wilburn Spiess      & 44.8718633018126, 25.7239511466802, 63.4228831062866, exam            , quiz            , homework        \\\\\n",
       "\t24 & Quincy Danaher      & 54.2984127852067, 85.6127016469474, 80.4073235611807, exam            , quiz            , homework        \\\\\n",
       "\t25 & Daphne Zheng        & 22.1358371286263, 14.6396994133507, 75.9412367755664, exam            , quiz            , homework        \\\\\n",
       "\t26 & Gwen Honig          & 87.143453768862 , 99.4582444113563, 76.6646045421934, exam            , quiz            , homework        \\\\\n",
       "\t27 & Bao Ziglar          & 71.6434389977833, 24.8022129365031, 42.2614705880481, exam            , quiz            , homework        \\\\\n",
       "\t28 & Sanda Ryba          & 97.0050995365469, 97.8044963253892, 25.2736853243295, exam            , quiz            , homework        \\\\\n",
       "\t29 & Jenette Flanders    & 37.322854591661 , 28.3263497691374, 81.5711531868634, exam            , quiz            , homework        \\\\\n",
       "\t30 & Zachary Langlais    & 78.6838509130433, 90.2963101368042, 34.4162014804253, exam            , quiz            , homework        \\\\\n",
       "\t⋮ & ⋮ & ⋮\\\\\n",
       "\t171 & Joel Rueter       & 21.7898136163783, 1.18222834586583, 43.7084397573934, exam            , quiz            , homework        \\\\\n",
       "\t172 & Gwen Honig        & 35.9964638291084, 74.4632350753457, 90.9559042200278, exam            , quiz            , homework        \\\\\n",
       "\t173 & Joaquina Arbuckle & 35.4356236881514, 89.7464098314501, 99.1386868684883, exam            , quiz            , homework        \\\\\n",
       "\t174 & Carli Belvins     & 84.4361816750119, 1.70211304052812, 88.4803266088139, exam            , quiz            , homework        \\\\\n",
       "\t175 & Synthia Labelle   & 11.0631264927167, 89.2746270656415, 41.1722010153017, exam            , quiz            , homework        \\\\\n",
       "\t176 & Sadie Jernigan    & 6.14281392478545, 44.941020137713 , 89.9440797540137, exam            , quiz            , homework        \\\\\n",
       "\t177 & Vina Matsunaga    & 73.3005498907403, 4.21754550016783, 56.3115085855077, exam            , quiz            , homework        \\\\\n",
       "\t178 & Rubie Winton      & 36.1767454709986, 89.3973812136507, 90.8332620821731, exam            , quiz            , homework        \\\\\n",
       "\t179 & Gena Riccio       & 81.4907034617209, 23.1265340299814, 96.5459096089893, exam            , quiz            , homework        \\\\\n",
       "\t180 & Whitley Fears     & 20.8445437417641, 57.148512578715 , 99.7723774507099, exam            , quiz            , homework        \\\\\n",
       "\t181 & Kim Xu            & 29.1596029917098, 74.4183627065592, 56.6496551470373, exam            , quiz            , homework        \\\\\n",
       "\t182 & Leonida Lafond    & 8.12507309796018 , 0.201788885260568, 90.1308185726454 , exam             , quiz             , homework         \\\\\n",
       "\t183 & Tonia Surace      & 67.9340558967519, 31.4972111648594, 82.3649590804798, exam            , quiz            , homework        \\\\\n",
       "\t184 & Len Treiber       & 39.1983291740652, 98.7167925289935, 44.8228929481132, exam            , quiz            , homework        \\\\\n",
       "\t185 & Jenise Mcguffie   & 83.6843820113013, 73.7993176376493, 89.5720094742674, exam            , quiz            , homework        \\\\\n",
       "\t186 & Kam Senters       & 49.8822537074033, 45.2951536138707, 68.880489802928 , exam            , quiz            , homework        \\\\\n",
       "\t187 & Efrain Claw       & 94.6715382522988, 82.300879321106 , 75.8607584004794, exam            , quiz            , homework        \\\\\n",
       "\t188 & Mariela Sherer    & 47.671967154896 , 41.5574349049395, 70.4612811769744, exam            , quiz            , homework        \\\\\n",
       "\t189 & Timothy Harrod    & 11.9075674046519, 20.5187996177702, 64.8565035499037, exam            , quiz            , homework        \\\\\n",
       "\t190 & Linnie Weigel     & 52.4457836851798, 90.7775054046383, 11.7500838291303, exam            , quiz            , homework        \\\\\n",
       "\t191 & Devorah Smartt    & 23.9461661131564, 13.2737111606302, 63.1728112156175, exam            , quiz            , homework        \\\\\n",
       "\t192 & Echo Pippins      & 18.0901369150785, 35.0030696725041, 80.1796515431673, exam            , quiz            , homework        \\\\\n",
       "\t193 & Tonisha Games     & 38.5126958999505, 31.162875772317 , 79.15856355963  , exam            , quiz            , homework        \\\\\n",
       "\t194 & Merissa Mann      & 0.730027971743297, 39.4917059290813 , 60.4961933448581 , exam             , quiz             , homework         \\\\\n",
       "\t195 & Leola Lundin      & 60.314725741828 , 41.1232747181865, 74.8699176311771, exam            , quiz            , homework        \\\\\n",
       "\t196 & Santiago Dollins  & 52.0405257113704, 33.633000764817 , 78.7925737760443, exam            , quiz            , homework        \\\\\n",
       "\t197 & Adrien Renda      & 64.1610919267948, 66.9373060093553, 96.0560340227047, exam            , quiz            , homework        \\\\\n",
       "\t198 & Rae Kohout        & 82.1174256211805, 49.6129545092822, 28.8682368984292, exam            , quiz            , homework        \\\\\n",
       "\t199 & Cody Strouth      & 32.9985461212656, 78.6172031699268, 89.6284756045947, exam            , quiz            , homework        \\\\\n",
       "\t200 & Harriett Velarde  & 41.4798828314808, 95.6949367335807, 83.0391604818231, exam            , quiz            , homework        \\\\\n",
       "\\end{tabular}\n"
      ],
      "text/markdown": [
       "\n",
       "A data.frame: 200 × 2\n",
       "\n",
       "| <!--/--> | name &lt;chr&gt; | scores &lt;list&gt; |\n",
       "|---|---|---|\n",
       "| 1 | Tambra Mercure      | 69.1565022533158, 3.31179442200072, 45.0317897364252, exam            , quiz            , homework         |\n",
       "| 2 | Alix Sherrill       | 25.1592415199821, 68.644840476921 , 24.6846215268676, exam            , quiz            , homework         |\n",
       "| 3 | aimee Zank          | 1.46317973670502, 11.7827330995777, 35.8740349954354, exam            , quiz            , homework         |\n",
       "| 4 | Corliss Zuk         | 67.03077096065  , 6.30185167783524, 66.2834468327838, exam            , quiz            , homework         |\n",
       "| 5 | Aurelia Menendez    | 60.0604507103096, 52.7979069190387, 71.7613343916554, exam            , quiz            , homework         |\n",
       "| 6 | Dodie Staller       | 7.77238644285828, 31.8430023510454, 80.5213640798919, exam            , quiz            , homework         |\n",
       "| 7 | Verdell Sowinski    | 62.1287023310904, 84.7458622088936, 81.5894782493257, exam            , quiz            , homework         |\n",
       "| 8 | Fletcher Mcconnell  | 39.4101106972927, 81.1327030780992, 97.7011664040292, exam            , quiz            , homework         |\n",
       "| 9 | Tressa Schwing      | 42.1743979951439, 71.9931484059956, 81.2397263206946, exam            , quiz            , homework         |\n",
       "| 10 | Gisela Levin        | 44.5121110195883, 0.6578497966368 , 93.3634165594968, exam            , quiz            , homework         |\n",
       "| 11 | Rosana Vales        | 46.2289476258328, 98.3416422520704, 36.1876974680594, exam            , quiz            , homework         |\n",
       "| 12 | Margart Vitello     | 75.0499654755395, 10.2304647589924, 96.7252051211776, exam            , quiz            , homework         |\n",
       "| 13 | Jesusa Rickenbacker | 86.0319702155683, 1.96749520043339, 61.1086107154791, exam            , quiz            , homework         |\n",
       "| 14 | Tamika Schildgen    | 45.6543276412553, 64.3292704965885, 83.5393335166056, exam            , quiz            , homework         |\n",
       "| 15 | Jonie Raby          | 19.1786119257696, 76.3890359749654, 44.39605672647  , exam            , quiz            , homework         |\n",
       "| 16 | Rudolph Domingo     | 74.7528933559154, 38.5413647805495, 35.2554340953413, exam            , quiz            , homework         |\n",
       "| 17 | Edgar Sarkis        | 8.60698326104389, 58.7118046420372, 15.3372621059651, exam            , quiz            , homework         |\n",
       "| 18 | Laureen Salomone    | 3.67756527899246, 7.11946259922999, 82.8730892261743, exam            , quiz            , homework         |\n",
       "| 19 | Kaila Deibler       | 15.8977119966245, 56.9396518341218, 66.6449329506632, exam            , quiz            , homework         |\n",
       "| 20 | Gwyneth Garling     | 48.3664496389937, 10.3782702286591, 93.2663933553283, exam            , quiz            , homework         |\n",
       "| 21 | Tandra Meadows      | 24.9013814600174, 28.8266541837344, 97.1683155066572, exam            , quiz            , homework         |\n",
       "| 22 | Marcus Blohm        | 78.4261783565187, 82.5837281793067, 87.4992473332872, exam            , quiz            , homework         |\n",
       "| 23 | Wilburn Spiess      | 44.8718633018126, 25.7239511466802, 63.4228831062866, exam            , quiz            , homework         |\n",
       "| 24 | Quincy Danaher      | 54.2984127852067, 85.6127016469474, 80.4073235611807, exam            , quiz            , homework         |\n",
       "| 25 | Daphne Zheng        | 22.1358371286263, 14.6396994133507, 75.9412367755664, exam            , quiz            , homework         |\n",
       "| 26 | Gwen Honig          | 87.143453768862 , 99.4582444113563, 76.6646045421934, exam            , quiz            , homework         |\n",
       "| 27 | Bao Ziglar          | 71.6434389977833, 24.8022129365031, 42.2614705880481, exam            , quiz            , homework         |\n",
       "| 28 | Sanda Ryba          | 97.0050995365469, 97.8044963253892, 25.2736853243295, exam            , quiz            , homework         |\n",
       "| 29 | Jenette Flanders    | 37.322854591661 , 28.3263497691374, 81.5711531868634, exam            , quiz            , homework         |\n",
       "| 30 | Zachary Langlais    | 78.6838509130433, 90.2963101368042, 34.4162014804253, exam            , quiz            , homework         |\n",
       "| ⋮ | ⋮ | ⋮ |\n",
       "| 171 | Joel Rueter       | 21.7898136163783, 1.18222834586583, 43.7084397573934, exam            , quiz            , homework         |\n",
       "| 172 | Gwen Honig        | 35.9964638291084, 74.4632350753457, 90.9559042200278, exam            , quiz            , homework         |\n",
       "| 173 | Joaquina Arbuckle | 35.4356236881514, 89.7464098314501, 99.1386868684883, exam            , quiz            , homework         |\n",
       "| 174 | Carli Belvins     | 84.4361816750119, 1.70211304052812, 88.4803266088139, exam            , quiz            , homework         |\n",
       "| 175 | Synthia Labelle   | 11.0631264927167, 89.2746270656415, 41.1722010153017, exam            , quiz            , homework         |\n",
       "| 176 | Sadie Jernigan    | 6.14281392478545, 44.941020137713 , 89.9440797540137, exam            , quiz            , homework         |\n",
       "| 177 | Vina Matsunaga    | 73.3005498907403, 4.21754550016783, 56.3115085855077, exam            , quiz            , homework         |\n",
       "| 178 | Rubie Winton      | 36.1767454709986, 89.3973812136507, 90.8332620821731, exam            , quiz            , homework         |\n",
       "| 179 | Gena Riccio       | 81.4907034617209, 23.1265340299814, 96.5459096089893, exam            , quiz            , homework         |\n",
       "| 180 | Whitley Fears     | 20.8445437417641, 57.148512578715 , 99.7723774507099, exam            , quiz            , homework         |\n",
       "| 181 | Kim Xu            | 29.1596029917098, 74.4183627065592, 56.6496551470373, exam            , quiz            , homework         |\n",
       "| 182 | Leonida Lafond    | 8.12507309796018 , 0.201788885260568, 90.1308185726454 , exam             , quiz             , homework          |\n",
       "| 183 | Tonia Surace      | 67.9340558967519, 31.4972111648594, 82.3649590804798, exam            , quiz            , homework         |\n",
       "| 184 | Len Treiber       | 39.1983291740652, 98.7167925289935, 44.8228929481132, exam            , quiz            , homework         |\n",
       "| 185 | Jenise Mcguffie   | 83.6843820113013, 73.7993176376493, 89.5720094742674, exam            , quiz            , homework         |\n",
       "| 186 | Kam Senters       | 49.8822537074033, 45.2951536138707, 68.880489802928 , exam            , quiz            , homework         |\n",
       "| 187 | Efrain Claw       | 94.6715382522988, 82.300879321106 , 75.8607584004794, exam            , quiz            , homework         |\n",
       "| 188 | Mariela Sherer    | 47.671967154896 , 41.5574349049395, 70.4612811769744, exam            , quiz            , homework         |\n",
       "| 189 | Timothy Harrod    | 11.9075674046519, 20.5187996177702, 64.8565035499037, exam            , quiz            , homework         |\n",
       "| 190 | Linnie Weigel     | 52.4457836851798, 90.7775054046383, 11.7500838291303, exam            , quiz            , homework         |\n",
       "| 191 | Devorah Smartt    | 23.9461661131564, 13.2737111606302, 63.1728112156175, exam            , quiz            , homework         |\n",
       "| 192 | Echo Pippins      | 18.0901369150785, 35.0030696725041, 80.1796515431673, exam            , quiz            , homework         |\n",
       "| 193 | Tonisha Games     | 38.5126958999505, 31.162875772317 , 79.15856355963  , exam            , quiz            , homework         |\n",
       "| 194 | Merissa Mann      | 0.730027971743297, 39.4917059290813 , 60.4961933448581 , exam             , quiz             , homework          |\n",
       "| 195 | Leola Lundin      | 60.314725741828 , 41.1232747181865, 74.8699176311771, exam            , quiz            , homework         |\n",
       "| 196 | Santiago Dollins  | 52.0405257113704, 33.633000764817 , 78.7925737760443, exam            , quiz            , homework         |\n",
       "| 197 | Adrien Renda      | 64.1610919267948, 66.9373060093553, 96.0560340227047, exam            , quiz            , homework         |\n",
       "| 198 | Rae Kohout        | 82.1174256211805, 49.6129545092822, 28.8682368984292, exam            , quiz            , homework         |\n",
       "| 199 | Cody Strouth      | 32.9985461212656, 78.6172031699268, 89.6284756045947, exam            , quiz            , homework         |\n",
       "| 200 | Harriett Velarde  | 41.4798828314808, 95.6949367335807, 83.0391604818231, exam            , quiz            , homework         |\n",
       "\n"
      ],
      "text/plain": [
       "    name               \n",
       "1   Tambra Mercure     \n",
       "2   Alix Sherrill      \n",
       "3   aimee Zank         \n",
       "4   Corliss Zuk        \n",
       "5   Aurelia Menendez   \n",
       "6   Dodie Staller      \n",
       "7   Verdell Sowinski   \n",
       "8   Fletcher Mcconnell \n",
       "9   Tressa Schwing     \n",
       "10  Gisela Levin       \n",
       "11  Rosana Vales       \n",
       "12  Margart Vitello    \n",
       "13  Jesusa Rickenbacker\n",
       "14  Tamika Schildgen   \n",
       "15  Jonie Raby         \n",
       "16  Rudolph Domingo    \n",
       "17  Edgar Sarkis       \n",
       "18  Laureen Salomone   \n",
       "19  Kaila Deibler      \n",
       "20  Gwyneth Garling    \n",
       "21  Tandra Meadows     \n",
       "22  Marcus Blohm       \n",
       "23  Wilburn Spiess     \n",
       "24  Quincy Danaher     \n",
       "25  Daphne Zheng       \n",
       "26  Gwen Honig         \n",
       "27  Bao Ziglar         \n",
       "28  Sanda Ryba         \n",
       "29  Jenette Flanders   \n",
       "30  Zachary Langlais   \n",
       "⋮   ⋮                  \n",
       "171 Joel Rueter        \n",
       "172 Gwen Honig         \n",
       "173 Joaquina Arbuckle  \n",
       "174 Carli Belvins      \n",
       "175 Synthia Labelle    \n",
       "176 Sadie Jernigan     \n",
       "177 Vina Matsunaga     \n",
       "178 Rubie Winton       \n",
       "179 Gena Riccio        \n",
       "180 Whitley Fears      \n",
       "181 Kim Xu             \n",
       "182 Leonida Lafond     \n",
       "183 Tonia Surace       \n",
       "184 Len Treiber        \n",
       "185 Jenise Mcguffie    \n",
       "186 Kam Senters        \n",
       "187 Efrain Claw        \n",
       "188 Mariela Sherer     \n",
       "189 Timothy Harrod     \n",
       "190 Linnie Weigel      \n",
       "191 Devorah Smartt     \n",
       "192 Echo Pippins       \n",
       "193 Tonisha Games      \n",
       "194 Merissa Mann       \n",
       "195 Leola Lundin       \n",
       "196 Santiago Dollins   \n",
       "197 Adrien Renda       \n",
       "198 Rae Kohout         \n",
       "199 Cody Strouth       \n",
       "200 Harriett Velarde   \n",
       "    scores                                                                                                          \n",
       "1   69.1565022533158, 3.31179442200072, 45.0317897364252, exam            , quiz            , homework              \n",
       "2   25.1592415199821, 68.644840476921 , 24.6846215268676, exam            , quiz            , homework              \n",
       "3   1.46317973670502, 11.7827330995777, 35.8740349954354, exam            , quiz            , homework              \n",
       "4   67.03077096065  , 6.30185167783524, 66.2834468327838, exam            , quiz            , homework              \n",
       "5   60.0604507103096, 52.7979069190387, 71.7613343916554, exam            , quiz            , homework              \n",
       "6   7.77238644285828, 31.8430023510454, 80.5213640798919, exam            , quiz            , homework              \n",
       "7   62.1287023310904, 84.7458622088936, 81.5894782493257, exam            , quiz            , homework              \n",
       "8   39.4101106972927, 81.1327030780992, 97.7011664040292, exam            , quiz            , homework              \n",
       "9   42.1743979951439, 71.9931484059956, 81.2397263206946, exam            , quiz            , homework              \n",
       "10  44.5121110195883, 0.6578497966368 , 93.3634165594968, exam            , quiz            , homework              \n",
       "11  46.2289476258328, 98.3416422520704, 36.1876974680594, exam            , quiz            , homework              \n",
       "12  75.0499654755395, 10.2304647589924, 96.7252051211776, exam            , quiz            , homework              \n",
       "13  86.0319702155683, 1.96749520043339, 61.1086107154791, exam            , quiz            , homework              \n",
       "14  45.6543276412553, 64.3292704965885, 83.5393335166056, exam            , quiz            , homework              \n",
       "15  19.1786119257696, 76.3890359749654, 44.39605672647  , exam            , quiz            , homework              \n",
       "16  74.7528933559154, 38.5413647805495, 35.2554340953413, exam            , quiz            , homework              \n",
       "17  8.60698326104389, 58.7118046420372, 15.3372621059651, exam            , quiz            , homework              \n",
       "18  3.67756527899246, 7.11946259922999, 82.8730892261743, exam            , quiz            , homework              \n",
       "19  15.8977119966245, 56.9396518341218, 66.6449329506632, exam            , quiz            , homework              \n",
       "20  48.3664496389937, 10.3782702286591, 93.2663933553283, exam            , quiz            , homework              \n",
       "21  24.9013814600174, 28.8266541837344, 97.1683155066572, exam            , quiz            , homework              \n",
       "22  78.4261783565187, 82.5837281793067, 87.4992473332872, exam            , quiz            , homework              \n",
       "23  44.8718633018126, 25.7239511466802, 63.4228831062866, exam            , quiz            , homework              \n",
       "24  54.2984127852067, 85.6127016469474, 80.4073235611807, exam            , quiz            , homework              \n",
       "25  22.1358371286263, 14.6396994133507, 75.9412367755664, exam            , quiz            , homework              \n",
       "26  87.143453768862 , 99.4582444113563, 76.6646045421934, exam            , quiz            , homework              \n",
       "27  71.6434389977833, 24.8022129365031, 42.2614705880481, exam            , quiz            , homework              \n",
       "28  97.0050995365469, 97.8044963253892, 25.2736853243295, exam            , quiz            , homework              \n",
       "29  37.322854591661 , 28.3263497691374, 81.5711531868634, exam            , quiz            , homework              \n",
       "30  78.6838509130433, 90.2963101368042, 34.4162014804253, exam            , quiz            , homework              \n",
       "⋮   ⋮                                                                                                               \n",
       "171 21.7898136163783, 1.18222834586583, 43.7084397573934, exam            , quiz            , homework              \n",
       "172 35.9964638291084, 74.4632350753457, 90.9559042200278, exam            , quiz            , homework              \n",
       "173 35.4356236881514, 89.7464098314501, 99.1386868684883, exam            , quiz            , homework              \n",
       "174 84.4361816750119, 1.70211304052812, 88.4803266088139, exam            , quiz            , homework              \n",
       "175 11.0631264927167, 89.2746270656415, 41.1722010153017, exam            , quiz            , homework              \n",
       "176 6.14281392478545, 44.941020137713 , 89.9440797540137, exam            , quiz            , homework              \n",
       "177 73.3005498907403, 4.21754550016783, 56.3115085855077, exam            , quiz            , homework              \n",
       "178 36.1767454709986, 89.3973812136507, 90.8332620821731, exam            , quiz            , homework              \n",
       "179 81.4907034617209, 23.1265340299814, 96.5459096089893, exam            , quiz            , homework              \n",
       "180 20.8445437417641, 57.148512578715 , 99.7723774507099, exam            , quiz            , homework              \n",
       "181 29.1596029917098, 74.4183627065592, 56.6496551470373, exam            , quiz            , homework              \n",
       "182 8.12507309796018 , 0.201788885260568, 90.1308185726454 , exam             , quiz             , homework         \n",
       "183 67.9340558967519, 31.4972111648594, 82.3649590804798, exam            , quiz            , homework              \n",
       "184 39.1983291740652, 98.7167925289935, 44.8228929481132, exam            , quiz            , homework              \n",
       "185 83.6843820113013, 73.7993176376493, 89.5720094742674, exam            , quiz            , homework              \n",
       "186 49.8822537074033, 45.2951536138707, 68.880489802928 , exam            , quiz            , homework              \n",
       "187 94.6715382522988, 82.300879321106 , 75.8607584004794, exam            , quiz            , homework              \n",
       "188 47.671967154896 , 41.5574349049395, 70.4612811769744, exam            , quiz            , homework              \n",
       "189 11.9075674046519, 20.5187996177702, 64.8565035499037, exam            , quiz            , homework              \n",
       "190 52.4457836851798, 90.7775054046383, 11.7500838291303, exam            , quiz            , homework              \n",
       "191 23.9461661131564, 13.2737111606302, 63.1728112156175, exam            , quiz            , homework              \n",
       "192 18.0901369150785, 35.0030696725041, 80.1796515431673, exam            , quiz            , homework              \n",
       "193 38.5126958999505, 31.162875772317 , 79.15856355963  , exam            , quiz            , homework              \n",
       "194 0.730027971743297, 39.4917059290813 , 60.4961933448581 , exam             , quiz             , homework         \n",
       "195 60.314725741828 , 41.1232747181865, 74.8699176311771, exam            , quiz            , homework              \n",
       "196 52.0405257113704, 33.633000764817 , 78.7925737760443, exam            , quiz            , homework              \n",
       "197 64.1610919267948, 66.9373060093553, 96.0560340227047, exam            , quiz            , homework              \n",
       "198 82.1174256211805, 49.6129545092822, 28.8682368984292, exam            , quiz            , homework              \n",
       "199 32.9985461212656, 78.6172031699268, 89.6284756045947, exam            , quiz            , homework              \n",
       "200 41.4798828314808, 95.6949367335807, 83.0391604818231, exam            , quiz            , homework              "
      ]
     },
     "metadata": {},
     "output_type": "display_data"
    }
   ],
   "source": [
    "dados = conexao$find()\n",
    "class(dados)\n",
    "dados"
   ]
  },
  {
   "cell_type": "markdown",
   "metadata": {},
   "source": [
    "Buscando elementos"
   ]
  },
  {
   "cell_type": "code",
   "execution_count": 24,
   "metadata": {
    "vscode": {
     "languageId": "r"
    }
   },
   "outputs": [
    {
     "data": {
      "text/html": [
       "<table class=\"dataframe\">\n",
       "<caption>A data.frame: 2 × 2</caption>\n",
       "<thead>\n",
       "\t<tr><th></th><th scope=col>name</th><th scope=col>scores</th></tr>\n",
       "\t<tr><th></th><th scope=col>&lt;chr&gt;</th><th scope=col>&lt;list&gt;</th></tr>\n",
       "</thead>\n",
       "<tbody>\n",
       "\t<tr><th scope=row>1</th><td>Linnie Weigel</td><td>66.0349256424749, 67.5709602553299, 38.3360806607337, exam            , quiz            , homework        </td></tr>\n",
       "\t<tr><th scope=row>2</th><td>Linnie Weigel</td><td>52.4457836851798, 90.7775054046383, 11.7500838291303, exam            , quiz            , homework        </td></tr>\n",
       "</tbody>\n",
       "</table>\n"
      ],
      "text/latex": [
       "A data.frame: 2 × 2\n",
       "\\begin{tabular}{r|ll}\n",
       "  & name & scores\\\\\n",
       "  & <chr> & <list>\\\\\n",
       "\\hline\n",
       "\t1 & Linnie Weigel & 66.0349256424749, 67.5709602553299, 38.3360806607337, exam            , quiz            , homework        \\\\\n",
       "\t2 & Linnie Weigel & 52.4457836851798, 90.7775054046383, 11.7500838291303, exam            , quiz            , homework        \\\\\n",
       "\\end{tabular}\n"
      ],
      "text/markdown": [
       "\n",
       "A data.frame: 2 × 2\n",
       "\n",
       "| <!--/--> | name &lt;chr&gt; | scores &lt;list&gt; |\n",
       "|---|---|---|\n",
       "| 1 | Linnie Weigel | 66.0349256424749, 67.5709602553299, 38.3360806607337, exam            , quiz            , homework         |\n",
       "| 2 | Linnie Weigel | 52.4457836851798, 90.7775054046383, 11.7500838291303, exam            , quiz            , homework         |\n",
       "\n"
      ],
      "text/plain": [
       "  name         \n",
       "1 Linnie Weigel\n",
       "2 Linnie Weigel\n",
       "  scores                                                                                                    \n",
       "1 66.0349256424749, 67.5709602553299, 38.3360806607337, exam            , quiz            , homework        \n",
       "2 52.4457836851798, 90.7775054046383, 11.7500838291303, exam            , quiz            , homework        "
      ]
     },
     "metadata": {},
     "output_type": "display_data"
    }
   ],
   "source": [
    "dados = conexao$find('{\"name\": \"Linnie Weigel\"}')\n",
    "dados"
   ]
  },
  {
   "cell_type": "markdown",
   "metadata": {},
   "source": [
    "Fechando conexão"
   ]
  },
  {
   "cell_type": "code",
   "execution_count": 25,
   "metadata": {
    "vscode": {
     "languageId": "r"
    }
   },
   "outputs": [
    {
     "data": {
      "text/html": [
       "<table class=\"dataframe\">\n",
       "<caption>A matrix: 2 × 6 of type dbl</caption>\n",
       "<thead>\n",
       "\t<tr><th></th><th scope=col>used</th><th scope=col>(Mb)</th><th scope=col>gc trigger</th><th scope=col>(Mb)</th><th scope=col>max used</th><th scope=col>(Mb)</th></tr>\n",
       "</thead>\n",
       "<tbody>\n",
       "\t<tr><th scope=row>Ncells</th><td> 755670</td><td>40.4</td><td>1405358</td><td>75.1</td><td>1405358</td><td>75.1</td></tr>\n",
       "\t<tr><th scope=row>Vcells</th><td>1412376</td><td>10.8</td><td>8388608</td><td>64.0</td><td>3024197</td><td>23.1</td></tr>\n",
       "</tbody>\n",
       "</table>\n"
      ],
      "text/latex": [
       "A matrix: 2 × 6 of type dbl\n",
       "\\begin{tabular}{r|llllll}\n",
       "  & used & (Mb) & gc trigger & (Mb) & max used & (Mb)\\\\\n",
       "\\hline\n",
       "\tNcells &  755670 & 40.4 & 1405358 & 75.1 & 1405358 & 75.1\\\\\n",
       "\tVcells & 1412376 & 10.8 & 8388608 & 64.0 & 3024197 & 23.1\\\\\n",
       "\\end{tabular}\n"
      ],
      "text/markdown": [
       "\n",
       "A matrix: 2 × 6 of type dbl\n",
       "\n",
       "| <!--/--> | used | (Mb) | gc trigger | (Mb) | max used | (Mb) |\n",
       "|---|---|---|---|---|---|---|\n",
       "| Ncells |  755670 | 40.4 | 1405358 | 75.1 | 1405358 | 75.1 |\n",
       "| Vcells | 1412376 | 10.8 | 8388608 | 64.0 | 3024197 | 23.1 |\n",
       "\n"
      ],
      "text/plain": [
       "       used    (Mb) gc trigger (Mb) max used (Mb)\n",
       "Ncells  755670 40.4 1405358    75.1 1405358  75.1\n",
       "Vcells 1412376 10.8 8388608    64.0 3024197  23.1"
      ]
     },
     "metadata": {},
     "output_type": "display_data"
    }
   ],
   "source": [
    "rm(conexao)\n",
    "gc()"
   ]
  }
 ],
 "metadata": {
  "kernelspec": {
   "display_name": "R",
   "language": "R",
   "name": "ir"
  },
  "language_info": {
   "codemirror_mode": "r",
   "file_extension": ".r",
   "mimetype": "text/x-r-source",
   "name": "R",
   "pygments_lexer": "r",
   "version": "4.3.3"
  }
 },
 "nbformat": 4,
 "nbformat_minor": 2
}
